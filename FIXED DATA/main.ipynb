{
 "cells": [
  {
   "cell_type": "code",
   "execution_count": 1,
   "metadata": {},
   "outputs": [
    {
     "data": {
      "text/html": [
       "        <script type=\"text/javascript\">\n",
       "        window.PlotlyConfig = {MathJaxConfig: 'local'};\n",
       "        if (window.MathJax && window.MathJax.Hub && window.MathJax.Hub.Config) {window.MathJax.Hub.Config({SVG: {font: \"STIX-Web\"}});}\n",
       "        if (typeof require !== 'undefined') {\n",
       "        require.undef(\"plotly\");\n",
       "        requirejs.config({\n",
       "            paths: {\n",
       "                'plotly': ['https://cdn.plot.ly/plotly-2.25.2.min']\n",
       "            }\n",
       "        });\n",
       "        require(['plotly'], function(Plotly) {\n",
       "            window._Plotly = Plotly;\n",
       "        });\n",
       "        }\n",
       "        </script>\n",
       "        "
      ]
     },
     "metadata": {},
     "output_type": "display_data"
    }
   ],
   "source": [
    "import numpy as np\n",
    "import pandas as pd\n",
    "import plotly as px\n",
    "import seaborn as sns\n",
    "import matplotlib.pyplot as plt\n",
    "\n",
    "import plotly.graph_objects as go\n",
    "from prophet import Prophet\n",
    "from functools import reduce\n",
    "\n",
    "%matplotlib inline\n",
    "\n",
    "\n",
    "pd.set_option('display.max_columns', 100)\n",
    "\n",
    "from plotly.offline import init_notebook_mode, iplot\n",
    "init_notebook_mode(connected=True)\n",
    "import plotly.graph_objs as go\n",
    "\n",
    "import plotly.express as px"
   ]
  },
  {
   "cell_type": "code",
   "execution_count": 2,
   "metadata": {},
   "outputs": [],
   "source": [
    "FDI = pd.read_csv('FDI_melt.csv')\n",
    "GDP = pd.read_csv('GDP_melt.csv')\n",
    "Inflation = pd.read_csv('inflation_melt.csv')\n",
    "Trade = pd.read_csv('trade_melt.csv')\n",
    "Unemployment = pd.read_csv('unemployment_melt.csv')\n",
    "WDI = pd.read_csv('WDI_melt.csv')"
   ]
  },
  {
   "cell_type": "code",
   "execution_count": 3,
   "metadata": {},
   "outputs": [],
   "source": [
    "name= ['FDI', 'GDP', 'Inflation', 'Trade', 'Unemployment', 'WDI']\n",
    "for name in name:\n",
    "    globals()[name].rename(columns={'Value': f'Value_{name}'}, inplace=True)"
   ]
  },
  {
   "cell_type": "code",
   "execution_count": 4,
   "metadata": {},
   "outputs": [
    {
     "data": {
      "text/html": [
       "<div>\n",
       "<style scoped>\n",
       "    .dataframe tbody tr th:only-of-type {\n",
       "        vertical-align: middle;\n",
       "    }\n",
       "\n",
       "    .dataframe tbody tr th {\n",
       "        vertical-align: top;\n",
       "    }\n",
       "\n",
       "    .dataframe thead th {\n",
       "        text-align: right;\n",
       "    }\n",
       "</style>\n",
       "<table border=\"1\" class=\"dataframe\">\n",
       "  <thead>\n",
       "    <tr style=\"text-align: right;\">\n",
       "      <th></th>\n",
       "      <th>Country Name</th>\n",
       "      <th>Year</th>\n",
       "      <th>Value_FDI</th>\n",
       "      <th>Value_GDP</th>\n",
       "      <th>Value_Inflation</th>\n",
       "      <th>Value_Trade</th>\n",
       "      <th>Value_Unemployment</th>\n",
       "      <th>Value_WDI</th>\n",
       "    </tr>\n",
       "  </thead>\n",
       "  <tbody>\n",
       "    <tr>\n",
       "      <th>0</th>\n",
       "      <td>Aruba</td>\n",
       "      <td>2000</td>\n",
       "      <td>-1.279330e+08</td>\n",
       "      <td>7.622921</td>\n",
       "      <td>4.044021</td>\n",
       "      <td>145.072879</td>\n",
       "      <td>NaN</td>\n",
       "      <td>111.790970</td>\n",
       "    </tr>\n",
       "    <tr>\n",
       "      <th>1</th>\n",
       "      <td>Africa Eastern and Southern</td>\n",
       "      <td>2000</td>\n",
       "      <td>4.315009e+09</td>\n",
       "      <td>3.219803</td>\n",
       "      <td>8.601485</td>\n",
       "      <td>47.120277</td>\n",
       "      <td>7.409352</td>\n",
       "      <td>78.739380</td>\n",
       "    </tr>\n",
       "    <tr>\n",
       "      <th>2</th>\n",
       "      <td>Afghanistan</td>\n",
       "      <td>2000</td>\n",
       "      <td>1.700000e+05</td>\n",
       "      <td>NaN</td>\n",
       "      <td>NaN</td>\n",
       "      <td>NaN</td>\n",
       "      <td>7.955000</td>\n",
       "      <td>22.162991</td>\n",
       "    </tr>\n",
       "    <tr>\n",
       "      <th>3</th>\n",
       "      <td>Africa Western and Central</td>\n",
       "      <td>2000</td>\n",
       "      <td>2.560095e+09</td>\n",
       "      <td>3.859760</td>\n",
       "      <td>2.530775</td>\n",
       "      <td>NaN</td>\n",
       "      <td>4.627660</td>\n",
       "      <td>82.695992</td>\n",
       "    </tr>\n",
       "    <tr>\n",
       "      <th>4</th>\n",
       "      <td>Angola</td>\n",
       "      <td>2000</td>\n",
       "      <td>8.786200e+08</td>\n",
       "      <td>3.054624</td>\n",
       "      <td>324.996872</td>\n",
       "      <td>NaN</td>\n",
       "      <td>16.502000</td>\n",
       "      <td>NaN</td>\n",
       "    </tr>\n",
       "  </tbody>\n",
       "</table>\n",
       "</div>"
      ],
      "text/plain": [
       "                  Country Name  Year     Value_FDI  Value_GDP  \\\n",
       "0                        Aruba  2000 -1.279330e+08   7.622921   \n",
       "1  Africa Eastern and Southern  2000  4.315009e+09   3.219803   \n",
       "2                  Afghanistan  2000  1.700000e+05        NaN   \n",
       "3   Africa Western and Central  2000  2.560095e+09   3.859760   \n",
       "4                       Angola  2000  8.786200e+08   3.054624   \n",
       "\n",
       "   Value_Inflation  Value_Trade  Value_Unemployment   Value_WDI  \n",
       "0         4.044021   145.072879                 NaN  111.790970  \n",
       "1         8.601485    47.120277            7.409352   78.739380  \n",
       "2              NaN          NaN            7.955000   22.162991  \n",
       "3         2.530775          NaN            4.627660   82.695992  \n",
       "4       324.996872          NaN           16.502000         NaN  "
      ]
     },
     "execution_count": 4,
     "metadata": {},
     "output_type": "execute_result"
    }
   ],
   "source": [
    "# List semua DataFrame\n",
    "dataframes = [FDI, GDP, Inflation, Trade, Unemployment, WDI]\n",
    "\n",
    "# Gabungkan semua DataFrame berdasarkan kolom 'country' dan 'year'\n",
    "merged_df = reduce(lambda left, right: pd.merge(left, right, on=['Country Name', 'Year'], how='outer'), dataframes)\n",
    "merged_df.head()"
   ]
  },
  {
   "cell_type": "code",
   "execution_count": 5,
   "metadata": {},
   "outputs": [
    {
     "data": {
      "application/vnd.plotly.v1+json": {
       "config": {
        "plotlyServerURL": "https://plot.ly"
       },
       "data": [
        {
         "hovertemplate": "Year=%{x}<br>Value_FDI=%{y}<extra></extra>",
         "legendgroup": "",
         "line": {
          "color": "#636efa",
          "dash": "solid"
         },
         "marker": {
          "symbol": "circle"
         },
         "mode": "markers+lines",
         "name": "",
         "orientation": "v",
         "showlegend": false,
         "type": "scatter",
         "x": [
          2000,
          2001,
          2002,
          2003,
          2004,
          2005,
          2006,
          2007,
          2008,
          2009,
          2010,
          2011,
          2012,
          2013,
          2014,
          2015,
          2016,
          2017,
          2018,
          2019,
          2020,
          2021,
          2022,
          2023
         ],
         "xaxis": "x",
         "y": [
          47710403743.25969,
          29061631206.223953,
          24621882691.59366,
          24213834603.222996,
          32198509190.97408,
          51146766791.366974,
          69454853676.23221,
          99203491374.66202,
          79009934358.84581,
          50758381514.44368,
          61997555050.03544,
          80429421454.2705,
          69137642225.80208,
          71655557406.07904,
          64342612799.32946,
          86527248714.90488,
          84427371843.40034,
          67550374301.29186,
          35752371669.957794,
          57499847229.16587,
          42045607442.391396,
          76476907823.6889,
          57568756609.92747,
          25965506148.663055
         ],
         "yaxis": "y"
        }
       ],
       "layout": {
        "legend": {
         "tracegroupgap": 0
        },
        "template": {
         "data": {
          "bar": [
           {
            "error_x": {
             "color": "#2a3f5f"
            },
            "error_y": {
             "color": "#2a3f5f"
            },
            "marker": {
             "line": {
              "color": "#E5ECF6",
              "width": 0.5
             },
             "pattern": {
              "fillmode": "overlay",
              "size": 10,
              "solidity": 0.2
             }
            },
            "type": "bar"
           }
          ],
          "barpolar": [
           {
            "marker": {
             "line": {
              "color": "#E5ECF6",
              "width": 0.5
             },
             "pattern": {
              "fillmode": "overlay",
              "size": 10,
              "solidity": 0.2
             }
            },
            "type": "barpolar"
           }
          ],
          "carpet": [
           {
            "aaxis": {
             "endlinecolor": "#2a3f5f",
             "gridcolor": "white",
             "linecolor": "white",
             "minorgridcolor": "white",
             "startlinecolor": "#2a3f5f"
            },
            "baxis": {
             "endlinecolor": "#2a3f5f",
             "gridcolor": "white",
             "linecolor": "white",
             "minorgridcolor": "white",
             "startlinecolor": "#2a3f5f"
            },
            "type": "carpet"
           }
          ],
          "choropleth": [
           {
            "colorbar": {
             "outlinewidth": 0,
             "ticks": ""
            },
            "type": "choropleth"
           }
          ],
          "contour": [
           {
            "colorbar": {
             "outlinewidth": 0,
             "ticks": ""
            },
            "colorscale": [
             [
              0,
              "#0d0887"
             ],
             [
              0.1111111111111111,
              "#46039f"
             ],
             [
              0.2222222222222222,
              "#7201a8"
             ],
             [
              0.3333333333333333,
              "#9c179e"
             ],
             [
              0.4444444444444444,
              "#bd3786"
             ],
             [
              0.5555555555555556,
              "#d8576b"
             ],
             [
              0.6666666666666666,
              "#ed7953"
             ],
             [
              0.7777777777777778,
              "#fb9f3a"
             ],
             [
              0.8888888888888888,
              "#fdca26"
             ],
             [
              1,
              "#f0f921"
             ]
            ],
            "type": "contour"
           }
          ],
          "contourcarpet": [
           {
            "colorbar": {
             "outlinewidth": 0,
             "ticks": ""
            },
            "type": "contourcarpet"
           }
          ],
          "heatmap": [
           {
            "colorbar": {
             "outlinewidth": 0,
             "ticks": ""
            },
            "colorscale": [
             [
              0,
              "#0d0887"
             ],
             [
              0.1111111111111111,
              "#46039f"
             ],
             [
              0.2222222222222222,
              "#7201a8"
             ],
             [
              0.3333333333333333,
              "#9c179e"
             ],
             [
              0.4444444444444444,
              "#bd3786"
             ],
             [
              0.5555555555555556,
              "#d8576b"
             ],
             [
              0.6666666666666666,
              "#ed7953"
             ],
             [
              0.7777777777777778,
              "#fb9f3a"
             ],
             [
              0.8888888888888888,
              "#fdca26"
             ],
             [
              1,
              "#f0f921"
             ]
            ],
            "type": "heatmap"
           }
          ],
          "heatmapgl": [
           {
            "colorbar": {
             "outlinewidth": 0,
             "ticks": ""
            },
            "colorscale": [
             [
              0,
              "#0d0887"
             ],
             [
              0.1111111111111111,
              "#46039f"
             ],
             [
              0.2222222222222222,
              "#7201a8"
             ],
             [
              0.3333333333333333,
              "#9c179e"
             ],
             [
              0.4444444444444444,
              "#bd3786"
             ],
             [
              0.5555555555555556,
              "#d8576b"
             ],
             [
              0.6666666666666666,
              "#ed7953"
             ],
             [
              0.7777777777777778,
              "#fb9f3a"
             ],
             [
              0.8888888888888888,
              "#fdca26"
             ],
             [
              1,
              "#f0f921"
             ]
            ],
            "type": "heatmapgl"
           }
          ],
          "histogram": [
           {
            "marker": {
             "pattern": {
              "fillmode": "overlay",
              "size": 10,
              "solidity": 0.2
             }
            },
            "type": "histogram"
           }
          ],
          "histogram2d": [
           {
            "colorbar": {
             "outlinewidth": 0,
             "ticks": ""
            },
            "colorscale": [
             [
              0,
              "#0d0887"
             ],
             [
              0.1111111111111111,
              "#46039f"
             ],
             [
              0.2222222222222222,
              "#7201a8"
             ],
             [
              0.3333333333333333,
              "#9c179e"
             ],
             [
              0.4444444444444444,
              "#bd3786"
             ],
             [
              0.5555555555555556,
              "#d8576b"
             ],
             [
              0.6666666666666666,
              "#ed7953"
             ],
             [
              0.7777777777777778,
              "#fb9f3a"
             ],
             [
              0.8888888888888888,
              "#fdca26"
             ],
             [
              1,
              "#f0f921"
             ]
            ],
            "type": "histogram2d"
           }
          ],
          "histogram2dcontour": [
           {
            "colorbar": {
             "outlinewidth": 0,
             "ticks": ""
            },
            "colorscale": [
             [
              0,
              "#0d0887"
             ],
             [
              0.1111111111111111,
              "#46039f"
             ],
             [
              0.2222222222222222,
              "#7201a8"
             ],
             [
              0.3333333333333333,
              "#9c179e"
             ],
             [
              0.4444444444444444,
              "#bd3786"
             ],
             [
              0.5555555555555556,
              "#d8576b"
             ],
             [
              0.6666666666666666,
              "#ed7953"
             ],
             [
              0.7777777777777778,
              "#fb9f3a"
             ],
             [
              0.8888888888888888,
              "#fdca26"
             ],
             [
              1,
              "#f0f921"
             ]
            ],
            "type": "histogram2dcontour"
           }
          ],
          "mesh3d": [
           {
            "colorbar": {
             "outlinewidth": 0,
             "ticks": ""
            },
            "type": "mesh3d"
           }
          ],
          "parcoords": [
           {
            "line": {
             "colorbar": {
              "outlinewidth": 0,
              "ticks": ""
             }
            },
            "type": "parcoords"
           }
          ],
          "pie": [
           {
            "automargin": true,
            "type": "pie"
           }
          ],
          "scatter": [
           {
            "fillpattern": {
             "fillmode": "overlay",
             "size": 10,
             "solidity": 0.2
            },
            "type": "scatter"
           }
          ],
          "scatter3d": [
           {
            "line": {
             "colorbar": {
              "outlinewidth": 0,
              "ticks": ""
             }
            },
            "marker": {
             "colorbar": {
              "outlinewidth": 0,
              "ticks": ""
             }
            },
            "type": "scatter3d"
           }
          ],
          "scattercarpet": [
           {
            "marker": {
             "colorbar": {
              "outlinewidth": 0,
              "ticks": ""
             }
            },
            "type": "scattercarpet"
           }
          ],
          "scattergeo": [
           {
            "marker": {
             "colorbar": {
              "outlinewidth": 0,
              "ticks": ""
             }
            },
            "type": "scattergeo"
           }
          ],
          "scattergl": [
           {
            "marker": {
             "colorbar": {
              "outlinewidth": 0,
              "ticks": ""
             }
            },
            "type": "scattergl"
           }
          ],
          "scattermapbox": [
           {
            "marker": {
             "colorbar": {
              "outlinewidth": 0,
              "ticks": ""
             }
            },
            "type": "scattermapbox"
           }
          ],
          "scatterpolar": [
           {
            "marker": {
             "colorbar": {
              "outlinewidth": 0,
              "ticks": ""
             }
            },
            "type": "scatterpolar"
           }
          ],
          "scatterpolargl": [
           {
            "marker": {
             "colorbar": {
              "outlinewidth": 0,
              "ticks": ""
             }
            },
            "type": "scatterpolargl"
           }
          ],
          "scatterternary": [
           {
            "marker": {
             "colorbar": {
              "outlinewidth": 0,
              "ticks": ""
             }
            },
            "type": "scatterternary"
           }
          ],
          "surface": [
           {
            "colorbar": {
             "outlinewidth": 0,
             "ticks": ""
            },
            "colorscale": [
             [
              0,
              "#0d0887"
             ],
             [
              0.1111111111111111,
              "#46039f"
             ],
             [
              0.2222222222222222,
              "#7201a8"
             ],
             [
              0.3333333333333333,
              "#9c179e"
             ],
             [
              0.4444444444444444,
              "#bd3786"
             ],
             [
              0.5555555555555556,
              "#d8576b"
             ],
             [
              0.6666666666666666,
              "#ed7953"
             ],
             [
              0.7777777777777778,
              "#fb9f3a"
             ],
             [
              0.8888888888888888,
              "#fdca26"
             ],
             [
              1,
              "#f0f921"
             ]
            ],
            "type": "surface"
           }
          ],
          "table": [
           {
            "cells": {
             "fill": {
              "color": "#EBF0F8"
             },
             "line": {
              "color": "white"
             }
            },
            "header": {
             "fill": {
              "color": "#C8D4E3"
             },
             "line": {
              "color": "white"
             }
            },
            "type": "table"
           }
          ]
         },
         "layout": {
          "annotationdefaults": {
           "arrowcolor": "#2a3f5f",
           "arrowhead": 0,
           "arrowwidth": 1
          },
          "autotypenumbers": "strict",
          "coloraxis": {
           "colorbar": {
            "outlinewidth": 0,
            "ticks": ""
           }
          },
          "colorscale": {
           "diverging": [
            [
             0,
             "#8e0152"
            ],
            [
             0.1,
             "#c51b7d"
            ],
            [
             0.2,
             "#de77ae"
            ],
            [
             0.3,
             "#f1b6da"
            ],
            [
             0.4,
             "#fde0ef"
            ],
            [
             0.5,
             "#f7f7f7"
            ],
            [
             0.6,
             "#e6f5d0"
            ],
            [
             0.7,
             "#b8e186"
            ],
            [
             0.8,
             "#7fbc41"
            ],
            [
             0.9,
             "#4d9221"
            ],
            [
             1,
             "#276419"
            ]
           ],
           "sequential": [
            [
             0,
             "#0d0887"
            ],
            [
             0.1111111111111111,
             "#46039f"
            ],
            [
             0.2222222222222222,
             "#7201a8"
            ],
            [
             0.3333333333333333,
             "#9c179e"
            ],
            [
             0.4444444444444444,
             "#bd3786"
            ],
            [
             0.5555555555555556,
             "#d8576b"
            ],
            [
             0.6666666666666666,
             "#ed7953"
            ],
            [
             0.7777777777777778,
             "#fb9f3a"
            ],
            [
             0.8888888888888888,
             "#fdca26"
            ],
            [
             1,
             "#f0f921"
            ]
           ],
           "sequentialminus": [
            [
             0,
             "#0d0887"
            ],
            [
             0.1111111111111111,
             "#46039f"
            ],
            [
             0.2222222222222222,
             "#7201a8"
            ],
            [
             0.3333333333333333,
             "#9c179e"
            ],
            [
             0.4444444444444444,
             "#bd3786"
            ],
            [
             0.5555555555555556,
             "#d8576b"
            ],
            [
             0.6666666666666666,
             "#ed7953"
            ],
            [
             0.7777777777777778,
             "#fb9f3a"
            ],
            [
             0.8888888888888888,
             "#fdca26"
            ],
            [
             1,
             "#f0f921"
            ]
           ]
          },
          "colorway": [
           "#636efa",
           "#EF553B",
           "#00cc96",
           "#ab63fa",
           "#FFA15A",
           "#19d3f3",
           "#FF6692",
           "#B6E880",
           "#FF97FF",
           "#FECB52"
          ],
          "font": {
           "color": "#2a3f5f"
          },
          "geo": {
           "bgcolor": "white",
           "lakecolor": "white",
           "landcolor": "#E5ECF6",
           "showlakes": true,
           "showland": true,
           "subunitcolor": "white"
          },
          "hoverlabel": {
           "align": "left"
          },
          "hovermode": "closest",
          "mapbox": {
           "style": "light"
          },
          "paper_bgcolor": "white",
          "plot_bgcolor": "#E5ECF6",
          "polar": {
           "angularaxis": {
            "gridcolor": "white",
            "linecolor": "white",
            "ticks": ""
           },
           "bgcolor": "#E5ECF6",
           "radialaxis": {
            "gridcolor": "white",
            "linecolor": "white",
            "ticks": ""
           }
          },
          "scene": {
           "xaxis": {
            "backgroundcolor": "#E5ECF6",
            "gridcolor": "white",
            "gridwidth": 2,
            "linecolor": "white",
            "showbackground": true,
            "ticks": "",
            "zerolinecolor": "white"
           },
           "yaxis": {
            "backgroundcolor": "#E5ECF6",
            "gridcolor": "white",
            "gridwidth": 2,
            "linecolor": "white",
            "showbackground": true,
            "ticks": "",
            "zerolinecolor": "white"
           },
           "zaxis": {
            "backgroundcolor": "#E5ECF6",
            "gridcolor": "white",
            "gridwidth": 2,
            "linecolor": "white",
            "showbackground": true,
            "ticks": "",
            "zerolinecolor": "white"
           }
          },
          "shapedefaults": {
           "line": {
            "color": "#2a3f5f"
           }
          },
          "ternary": {
           "aaxis": {
            "gridcolor": "white",
            "linecolor": "white",
            "ticks": ""
           },
           "baxis": {
            "gridcolor": "white",
            "linecolor": "white",
            "ticks": ""
           },
           "bgcolor": "#E5ECF6",
           "caxis": {
            "gridcolor": "white",
            "linecolor": "white",
            "ticks": ""
           }
          },
          "title": {
           "x": 0.05
          },
          "xaxis": {
           "automargin": true,
           "gridcolor": "white",
           "linecolor": "white",
           "ticks": "",
           "title": {
            "standoff": 15
           },
           "zerolinecolor": "white",
           "zerolinewidth": 2
          },
          "yaxis": {
           "automargin": true,
           "gridcolor": "white",
           "linecolor": "white",
           "ticks": "",
           "title": {
            "standoff": 15
           },
           "zerolinecolor": "white",
           "zerolinewidth": 2
          }
         }
        },
        "title": {
         "font": {
          "size": 20
         },
         "text": "Rata-rata Value per year Value_FDI"
        },
        "xaxis": {
         "anchor": "y",
         "domain": [
          0,
          1
         ],
         "title": {
          "font": {
           "size": 18
          },
          "text": "Time Period"
         }
        },
        "yaxis": {
         "anchor": "x",
         "domain": [
          0,
          1
         ],
         "title": {
          "font": {
           "size": 18
          },
          "text": "Average Value"
         }
        }
       }
      },
      "text/html": [
       "<div>                            <div id=\"dc648e0e-bf76-483d-a1a9-8ea7d8d1b3f2\" class=\"plotly-graph-div\" style=\"height:525px; width:100%;\"></div>            <script type=\"text/javascript\">                require([\"plotly\"], function(Plotly) {                    window.PLOTLYENV=window.PLOTLYENV || {};                                    if (document.getElementById(\"dc648e0e-bf76-483d-a1a9-8ea7d8d1b3f2\")) {                    Plotly.newPlot(                        \"dc648e0e-bf76-483d-a1a9-8ea7d8d1b3f2\",                        [{\"hovertemplate\":\"Year=%{x}\\u003cbr\\u003eValue_FDI=%{y}\\u003cextra\\u003e\\u003c\\u002fextra\\u003e\",\"legendgroup\":\"\",\"line\":{\"color\":\"#636efa\",\"dash\":\"solid\"},\"marker\":{\"symbol\":\"circle\"},\"mode\":\"markers+lines\",\"name\":\"\",\"orientation\":\"v\",\"showlegend\":false,\"x\":[2000,2001,2002,2003,2004,2005,2006,2007,2008,2009,2010,2011,2012,2013,2014,2015,2016,2017,2018,2019,2020,2021,2022,2023],\"xaxis\":\"x\",\"y\":[47710403743.25969,29061631206.223953,24621882691.59366,24213834603.222996,32198509190.97408,51146766791.366974,69454853676.23221,99203491374.66202,79009934358.84581,50758381514.44368,61997555050.03544,80429421454.2705,69137642225.80208,71655557406.07904,64342612799.32946,86527248714.90488,84427371843.40034,67550374301.29186,35752371669.957794,57499847229.16587,42045607442.391396,76476907823.6889,57568756609.92747,25965506148.663055],\"yaxis\":\"y\",\"type\":\"scatter\"}],                        {\"template\":{\"data\":{\"histogram2dcontour\":[{\"type\":\"histogram2dcontour\",\"colorbar\":{\"outlinewidth\":0,\"ticks\":\"\"},\"colorscale\":[[0.0,\"#0d0887\"],[0.1111111111111111,\"#46039f\"],[0.2222222222222222,\"#7201a8\"],[0.3333333333333333,\"#9c179e\"],[0.4444444444444444,\"#bd3786\"],[0.5555555555555556,\"#d8576b\"],[0.6666666666666666,\"#ed7953\"],[0.7777777777777778,\"#fb9f3a\"],[0.8888888888888888,\"#fdca26\"],[1.0,\"#f0f921\"]]}],\"choropleth\":[{\"type\":\"choropleth\",\"colorbar\":{\"outlinewidth\":0,\"ticks\":\"\"}}],\"histogram2d\":[{\"type\":\"histogram2d\",\"colorbar\":{\"outlinewidth\":0,\"ticks\":\"\"},\"colorscale\":[[0.0,\"#0d0887\"],[0.1111111111111111,\"#46039f\"],[0.2222222222222222,\"#7201a8\"],[0.3333333333333333,\"#9c179e\"],[0.4444444444444444,\"#bd3786\"],[0.5555555555555556,\"#d8576b\"],[0.6666666666666666,\"#ed7953\"],[0.7777777777777778,\"#fb9f3a\"],[0.8888888888888888,\"#fdca26\"],[1.0,\"#f0f921\"]]}],\"heatmap\":[{\"type\":\"heatmap\",\"colorbar\":{\"outlinewidth\":0,\"ticks\":\"\"},\"colorscale\":[[0.0,\"#0d0887\"],[0.1111111111111111,\"#46039f\"],[0.2222222222222222,\"#7201a8\"],[0.3333333333333333,\"#9c179e\"],[0.4444444444444444,\"#bd3786\"],[0.5555555555555556,\"#d8576b\"],[0.6666666666666666,\"#ed7953\"],[0.7777777777777778,\"#fb9f3a\"],[0.8888888888888888,\"#fdca26\"],[1.0,\"#f0f921\"]]}],\"heatmapgl\":[{\"type\":\"heatmapgl\",\"colorbar\":{\"outlinewidth\":0,\"ticks\":\"\"},\"colorscale\":[[0.0,\"#0d0887\"],[0.1111111111111111,\"#46039f\"],[0.2222222222222222,\"#7201a8\"],[0.3333333333333333,\"#9c179e\"],[0.4444444444444444,\"#bd3786\"],[0.5555555555555556,\"#d8576b\"],[0.6666666666666666,\"#ed7953\"],[0.7777777777777778,\"#fb9f3a\"],[0.8888888888888888,\"#fdca26\"],[1.0,\"#f0f921\"]]}],\"contourcarpet\":[{\"type\":\"contourcarpet\",\"colorbar\":{\"outlinewidth\":0,\"ticks\":\"\"}}],\"contour\":[{\"type\":\"contour\",\"colorbar\":{\"outlinewidth\":0,\"ticks\":\"\"},\"colorscale\":[[0.0,\"#0d0887\"],[0.1111111111111111,\"#46039f\"],[0.2222222222222222,\"#7201a8\"],[0.3333333333333333,\"#9c179e\"],[0.4444444444444444,\"#bd3786\"],[0.5555555555555556,\"#d8576b\"],[0.6666666666666666,\"#ed7953\"],[0.7777777777777778,\"#fb9f3a\"],[0.8888888888888888,\"#fdca26\"],[1.0,\"#f0f921\"]]}],\"surface\":[{\"type\":\"surface\",\"colorbar\":{\"outlinewidth\":0,\"ticks\":\"\"},\"colorscale\":[[0.0,\"#0d0887\"],[0.1111111111111111,\"#46039f\"],[0.2222222222222222,\"#7201a8\"],[0.3333333333333333,\"#9c179e\"],[0.4444444444444444,\"#bd3786\"],[0.5555555555555556,\"#d8576b\"],[0.6666666666666666,\"#ed7953\"],[0.7777777777777778,\"#fb9f3a\"],[0.8888888888888888,\"#fdca26\"],[1.0,\"#f0f921\"]]}],\"mesh3d\":[{\"type\":\"mesh3d\",\"colorbar\":{\"outlinewidth\":0,\"ticks\":\"\"}}],\"scatter\":[{\"fillpattern\":{\"fillmode\":\"overlay\",\"size\":10,\"solidity\":0.2},\"type\":\"scatter\"}],\"parcoords\":[{\"type\":\"parcoords\",\"line\":{\"colorbar\":{\"outlinewidth\":0,\"ticks\":\"\"}}}],\"scatterpolargl\":[{\"type\":\"scatterpolargl\",\"marker\":{\"colorbar\":{\"outlinewidth\":0,\"ticks\":\"\"}}}],\"bar\":[{\"error_x\":{\"color\":\"#2a3f5f\"},\"error_y\":{\"color\":\"#2a3f5f\"},\"marker\":{\"line\":{\"color\":\"#E5ECF6\",\"width\":0.5},\"pattern\":{\"fillmode\":\"overlay\",\"size\":10,\"solidity\":0.2}},\"type\":\"bar\"}],\"scattergeo\":[{\"type\":\"scattergeo\",\"marker\":{\"colorbar\":{\"outlinewidth\":0,\"ticks\":\"\"}}}],\"scatterpolar\":[{\"type\":\"scatterpolar\",\"marker\":{\"colorbar\":{\"outlinewidth\":0,\"ticks\":\"\"}}}],\"histogram\":[{\"marker\":{\"pattern\":{\"fillmode\":\"overlay\",\"size\":10,\"solidity\":0.2}},\"type\":\"histogram\"}],\"scattergl\":[{\"type\":\"scattergl\",\"marker\":{\"colorbar\":{\"outlinewidth\":0,\"ticks\":\"\"}}}],\"scatter3d\":[{\"type\":\"scatter3d\",\"line\":{\"colorbar\":{\"outlinewidth\":0,\"ticks\":\"\"}},\"marker\":{\"colorbar\":{\"outlinewidth\":0,\"ticks\":\"\"}}}],\"scattermapbox\":[{\"type\":\"scattermapbox\",\"marker\":{\"colorbar\":{\"outlinewidth\":0,\"ticks\":\"\"}}}],\"scatterternary\":[{\"type\":\"scatterternary\",\"marker\":{\"colorbar\":{\"outlinewidth\":0,\"ticks\":\"\"}}}],\"scattercarpet\":[{\"type\":\"scattercarpet\",\"marker\":{\"colorbar\":{\"outlinewidth\":0,\"ticks\":\"\"}}}],\"carpet\":[{\"aaxis\":{\"endlinecolor\":\"#2a3f5f\",\"gridcolor\":\"white\",\"linecolor\":\"white\",\"minorgridcolor\":\"white\",\"startlinecolor\":\"#2a3f5f\"},\"baxis\":{\"endlinecolor\":\"#2a3f5f\",\"gridcolor\":\"white\",\"linecolor\":\"white\",\"minorgridcolor\":\"white\",\"startlinecolor\":\"#2a3f5f\"},\"type\":\"carpet\"}],\"table\":[{\"cells\":{\"fill\":{\"color\":\"#EBF0F8\"},\"line\":{\"color\":\"white\"}},\"header\":{\"fill\":{\"color\":\"#C8D4E3\"},\"line\":{\"color\":\"white\"}},\"type\":\"table\"}],\"barpolar\":[{\"marker\":{\"line\":{\"color\":\"#E5ECF6\",\"width\":0.5},\"pattern\":{\"fillmode\":\"overlay\",\"size\":10,\"solidity\":0.2}},\"type\":\"barpolar\"}],\"pie\":[{\"automargin\":true,\"type\":\"pie\"}]},\"layout\":{\"autotypenumbers\":\"strict\",\"colorway\":[\"#636efa\",\"#EF553B\",\"#00cc96\",\"#ab63fa\",\"#FFA15A\",\"#19d3f3\",\"#FF6692\",\"#B6E880\",\"#FF97FF\",\"#FECB52\"],\"font\":{\"color\":\"#2a3f5f\"},\"hovermode\":\"closest\",\"hoverlabel\":{\"align\":\"left\"},\"paper_bgcolor\":\"white\",\"plot_bgcolor\":\"#E5ECF6\",\"polar\":{\"bgcolor\":\"#E5ECF6\",\"angularaxis\":{\"gridcolor\":\"white\",\"linecolor\":\"white\",\"ticks\":\"\"},\"radialaxis\":{\"gridcolor\":\"white\",\"linecolor\":\"white\",\"ticks\":\"\"}},\"ternary\":{\"bgcolor\":\"#E5ECF6\",\"aaxis\":{\"gridcolor\":\"white\",\"linecolor\":\"white\",\"ticks\":\"\"},\"baxis\":{\"gridcolor\":\"white\",\"linecolor\":\"white\",\"ticks\":\"\"},\"caxis\":{\"gridcolor\":\"white\",\"linecolor\":\"white\",\"ticks\":\"\"}},\"coloraxis\":{\"colorbar\":{\"outlinewidth\":0,\"ticks\":\"\"}},\"colorscale\":{\"sequential\":[[0.0,\"#0d0887\"],[0.1111111111111111,\"#46039f\"],[0.2222222222222222,\"#7201a8\"],[0.3333333333333333,\"#9c179e\"],[0.4444444444444444,\"#bd3786\"],[0.5555555555555556,\"#d8576b\"],[0.6666666666666666,\"#ed7953\"],[0.7777777777777778,\"#fb9f3a\"],[0.8888888888888888,\"#fdca26\"],[1.0,\"#f0f921\"]],\"sequentialminus\":[[0.0,\"#0d0887\"],[0.1111111111111111,\"#46039f\"],[0.2222222222222222,\"#7201a8\"],[0.3333333333333333,\"#9c179e\"],[0.4444444444444444,\"#bd3786\"],[0.5555555555555556,\"#d8576b\"],[0.6666666666666666,\"#ed7953\"],[0.7777777777777778,\"#fb9f3a\"],[0.8888888888888888,\"#fdca26\"],[1.0,\"#f0f921\"]],\"diverging\":[[0,\"#8e0152\"],[0.1,\"#c51b7d\"],[0.2,\"#de77ae\"],[0.3,\"#f1b6da\"],[0.4,\"#fde0ef\"],[0.5,\"#f7f7f7\"],[0.6,\"#e6f5d0\"],[0.7,\"#b8e186\"],[0.8,\"#7fbc41\"],[0.9,\"#4d9221\"],[1,\"#276419\"]]},\"xaxis\":{\"gridcolor\":\"white\",\"linecolor\":\"white\",\"ticks\":\"\",\"title\":{\"standoff\":15},\"zerolinecolor\":\"white\",\"automargin\":true,\"zerolinewidth\":2},\"yaxis\":{\"gridcolor\":\"white\",\"linecolor\":\"white\",\"ticks\":\"\",\"title\":{\"standoff\":15},\"zerolinecolor\":\"white\",\"automargin\":true,\"zerolinewidth\":2},\"scene\":{\"xaxis\":{\"backgroundcolor\":\"#E5ECF6\",\"gridcolor\":\"white\",\"linecolor\":\"white\",\"showbackground\":true,\"ticks\":\"\",\"zerolinecolor\":\"white\",\"gridwidth\":2},\"yaxis\":{\"backgroundcolor\":\"#E5ECF6\",\"gridcolor\":\"white\",\"linecolor\":\"white\",\"showbackground\":true,\"ticks\":\"\",\"zerolinecolor\":\"white\",\"gridwidth\":2},\"zaxis\":{\"backgroundcolor\":\"#E5ECF6\",\"gridcolor\":\"white\",\"linecolor\":\"white\",\"showbackground\":true,\"ticks\":\"\",\"zerolinecolor\":\"white\",\"gridwidth\":2}},\"shapedefaults\":{\"line\":{\"color\":\"#2a3f5f\"}},\"annotationdefaults\":{\"arrowcolor\":\"#2a3f5f\",\"arrowhead\":0,\"arrowwidth\":1},\"geo\":{\"bgcolor\":\"white\",\"landcolor\":\"#E5ECF6\",\"subunitcolor\":\"white\",\"showland\":true,\"showlakes\":true,\"lakecolor\":\"white\"},\"title\":{\"x\":0.05},\"mapbox\":{\"style\":\"light\"}}},\"xaxis\":{\"anchor\":\"y\",\"domain\":[0.0,1.0],\"title\":{\"text\":\"Time Period\",\"font\":{\"size\":18}}},\"yaxis\":{\"anchor\":\"x\",\"domain\":[0.0,1.0],\"title\":{\"text\":\"Average Value\",\"font\":{\"size\":18}}},\"legend\":{\"tracegroupgap\":0},\"title\":{\"text\":\"Rata-rata Value per year Value_FDI\",\"font\":{\"size\":20}}},                        {\"responsive\": true}                    ).then(function(){\n",
       "                            \n",
       "var gd = document.getElementById('dc648e0e-bf76-483d-a1a9-8ea7d8d1b3f2');\n",
       "var x = new MutationObserver(function (mutations, observer) {{\n",
       "        var display = window.getComputedStyle(gd).display;\n",
       "        if (!display || display === 'none') {{\n",
       "            console.log([gd, 'removed!']);\n",
       "            Plotly.purge(gd);\n",
       "            observer.disconnect();\n",
       "        }}\n",
       "}});\n",
       "\n",
       "// Listen for the removal of the full notebook cells\n",
       "var notebookContainer = gd.closest('#notebook-container');\n",
       "if (notebookContainer) {{\n",
       "    x.observe(notebookContainer, {childList: true});\n",
       "}}\n",
       "\n",
       "// Listen for the clearing of the current output cell\n",
       "var outputEl = gd.closest('.output');\n",
       "if (outputEl) {{\n",
       "    x.observe(outputEl, {childList: true});\n",
       "}}\n",
       "\n",
       "                        })                };                });            </script>        </div>"
      ]
     },
     "metadata": {},
     "output_type": "display_data"
    },
    {
     "data": {
      "application/vnd.plotly.v1+json": {
       "config": {
        "plotlyServerURL": "https://plot.ly"
       },
       "data": [
        {
         "hovertemplate": "Year=%{x}<br>Value_GDP=%{y}<extra></extra>",
         "legendgroup": "",
         "line": {
          "color": "#636efa",
          "dash": "solid"
         },
         "marker": {
          "symbol": "circle"
         },
         "mode": "markers+lines",
         "name": "",
         "orientation": "v",
         "showlegend": false,
         "type": "scatter",
         "x": [
          2000,
          2001,
          2002,
          2003,
          2004,
          2005,
          2006,
          2007,
          2008,
          2009,
          2010,
          2011,
          2012,
          2013,
          2014,
          2015,
          2016,
          2017,
          2018,
          2019,
          2020,
          2021,
          2022,
          2023
         ],
         "xaxis": "x",
         "y": [
          4.579856506809716,
          3.224171485705645,
          3.425759022137097,
          3.9010560799444445,
          5.887787502876984,
          5.032504162257937,
          5.725844707595238,
          5.674685946695652,
          4.012006913628459,
          0.09752729333203125,
          4.446752153667969,
          3.667211909667969,
          3.1925359343632813,
          3.1078189450429687,
          3.308771011692607,
          2.7806603930311287,
          3.1375427294804688,
          3.2977441158054472,
          3.0840040171201553,
          2.899501637396887,
          -4.857574662785992,
          6.134287339988282,
          4.384633858012,
          3.2702079683733905
         ],
         "yaxis": "y"
        }
       ],
       "layout": {
        "legend": {
         "tracegroupgap": 0
        },
        "template": {
         "data": {
          "bar": [
           {
            "error_x": {
             "color": "#2a3f5f"
            },
            "error_y": {
             "color": "#2a3f5f"
            },
            "marker": {
             "line": {
              "color": "#E5ECF6",
              "width": 0.5
             },
             "pattern": {
              "fillmode": "overlay",
              "size": 10,
              "solidity": 0.2
             }
            },
            "type": "bar"
           }
          ],
          "barpolar": [
           {
            "marker": {
             "line": {
              "color": "#E5ECF6",
              "width": 0.5
             },
             "pattern": {
              "fillmode": "overlay",
              "size": 10,
              "solidity": 0.2
             }
            },
            "type": "barpolar"
           }
          ],
          "carpet": [
           {
            "aaxis": {
             "endlinecolor": "#2a3f5f",
             "gridcolor": "white",
             "linecolor": "white",
             "minorgridcolor": "white",
             "startlinecolor": "#2a3f5f"
            },
            "baxis": {
             "endlinecolor": "#2a3f5f",
             "gridcolor": "white",
             "linecolor": "white",
             "minorgridcolor": "white",
             "startlinecolor": "#2a3f5f"
            },
            "type": "carpet"
           }
          ],
          "choropleth": [
           {
            "colorbar": {
             "outlinewidth": 0,
             "ticks": ""
            },
            "type": "choropleth"
           }
          ],
          "contour": [
           {
            "colorbar": {
             "outlinewidth": 0,
             "ticks": ""
            },
            "colorscale": [
             [
              0,
              "#0d0887"
             ],
             [
              0.1111111111111111,
              "#46039f"
             ],
             [
              0.2222222222222222,
              "#7201a8"
             ],
             [
              0.3333333333333333,
              "#9c179e"
             ],
             [
              0.4444444444444444,
              "#bd3786"
             ],
             [
              0.5555555555555556,
              "#d8576b"
             ],
             [
              0.6666666666666666,
              "#ed7953"
             ],
             [
              0.7777777777777778,
              "#fb9f3a"
             ],
             [
              0.8888888888888888,
              "#fdca26"
             ],
             [
              1,
              "#f0f921"
             ]
            ],
            "type": "contour"
           }
          ],
          "contourcarpet": [
           {
            "colorbar": {
             "outlinewidth": 0,
             "ticks": ""
            },
            "type": "contourcarpet"
           }
          ],
          "heatmap": [
           {
            "colorbar": {
             "outlinewidth": 0,
             "ticks": ""
            },
            "colorscale": [
             [
              0,
              "#0d0887"
             ],
             [
              0.1111111111111111,
              "#46039f"
             ],
             [
              0.2222222222222222,
              "#7201a8"
             ],
             [
              0.3333333333333333,
              "#9c179e"
             ],
             [
              0.4444444444444444,
              "#bd3786"
             ],
             [
              0.5555555555555556,
              "#d8576b"
             ],
             [
              0.6666666666666666,
              "#ed7953"
             ],
             [
              0.7777777777777778,
              "#fb9f3a"
             ],
             [
              0.8888888888888888,
              "#fdca26"
             ],
             [
              1,
              "#f0f921"
             ]
            ],
            "type": "heatmap"
           }
          ],
          "heatmapgl": [
           {
            "colorbar": {
             "outlinewidth": 0,
             "ticks": ""
            },
            "colorscale": [
             [
              0,
              "#0d0887"
             ],
             [
              0.1111111111111111,
              "#46039f"
             ],
             [
              0.2222222222222222,
              "#7201a8"
             ],
             [
              0.3333333333333333,
              "#9c179e"
             ],
             [
              0.4444444444444444,
              "#bd3786"
             ],
             [
              0.5555555555555556,
              "#d8576b"
             ],
             [
              0.6666666666666666,
              "#ed7953"
             ],
             [
              0.7777777777777778,
              "#fb9f3a"
             ],
             [
              0.8888888888888888,
              "#fdca26"
             ],
             [
              1,
              "#f0f921"
             ]
            ],
            "type": "heatmapgl"
           }
          ],
          "histogram": [
           {
            "marker": {
             "pattern": {
              "fillmode": "overlay",
              "size": 10,
              "solidity": 0.2
             }
            },
            "type": "histogram"
           }
          ],
          "histogram2d": [
           {
            "colorbar": {
             "outlinewidth": 0,
             "ticks": ""
            },
            "colorscale": [
             [
              0,
              "#0d0887"
             ],
             [
              0.1111111111111111,
              "#46039f"
             ],
             [
              0.2222222222222222,
              "#7201a8"
             ],
             [
              0.3333333333333333,
              "#9c179e"
             ],
             [
              0.4444444444444444,
              "#bd3786"
             ],
             [
              0.5555555555555556,
              "#d8576b"
             ],
             [
              0.6666666666666666,
              "#ed7953"
             ],
             [
              0.7777777777777778,
              "#fb9f3a"
             ],
             [
              0.8888888888888888,
              "#fdca26"
             ],
             [
              1,
              "#f0f921"
             ]
            ],
            "type": "histogram2d"
           }
          ],
          "histogram2dcontour": [
           {
            "colorbar": {
             "outlinewidth": 0,
             "ticks": ""
            },
            "colorscale": [
             [
              0,
              "#0d0887"
             ],
             [
              0.1111111111111111,
              "#46039f"
             ],
             [
              0.2222222222222222,
              "#7201a8"
             ],
             [
              0.3333333333333333,
              "#9c179e"
             ],
             [
              0.4444444444444444,
              "#bd3786"
             ],
             [
              0.5555555555555556,
              "#d8576b"
             ],
             [
              0.6666666666666666,
              "#ed7953"
             ],
             [
              0.7777777777777778,
              "#fb9f3a"
             ],
             [
              0.8888888888888888,
              "#fdca26"
             ],
             [
              1,
              "#f0f921"
             ]
            ],
            "type": "histogram2dcontour"
           }
          ],
          "mesh3d": [
           {
            "colorbar": {
             "outlinewidth": 0,
             "ticks": ""
            },
            "type": "mesh3d"
           }
          ],
          "parcoords": [
           {
            "line": {
             "colorbar": {
              "outlinewidth": 0,
              "ticks": ""
             }
            },
            "type": "parcoords"
           }
          ],
          "pie": [
           {
            "automargin": true,
            "type": "pie"
           }
          ],
          "scatter": [
           {
            "fillpattern": {
             "fillmode": "overlay",
             "size": 10,
             "solidity": 0.2
            },
            "type": "scatter"
           }
          ],
          "scatter3d": [
           {
            "line": {
             "colorbar": {
              "outlinewidth": 0,
              "ticks": ""
             }
            },
            "marker": {
             "colorbar": {
              "outlinewidth": 0,
              "ticks": ""
             }
            },
            "type": "scatter3d"
           }
          ],
          "scattercarpet": [
           {
            "marker": {
             "colorbar": {
              "outlinewidth": 0,
              "ticks": ""
             }
            },
            "type": "scattercarpet"
           }
          ],
          "scattergeo": [
           {
            "marker": {
             "colorbar": {
              "outlinewidth": 0,
              "ticks": ""
             }
            },
            "type": "scattergeo"
           }
          ],
          "scattergl": [
           {
            "marker": {
             "colorbar": {
              "outlinewidth": 0,
              "ticks": ""
             }
            },
            "type": "scattergl"
           }
          ],
          "scattermapbox": [
           {
            "marker": {
             "colorbar": {
              "outlinewidth": 0,
              "ticks": ""
             }
            },
            "type": "scattermapbox"
           }
          ],
          "scatterpolar": [
           {
            "marker": {
             "colorbar": {
              "outlinewidth": 0,
              "ticks": ""
             }
            },
            "type": "scatterpolar"
           }
          ],
          "scatterpolargl": [
           {
            "marker": {
             "colorbar": {
              "outlinewidth": 0,
              "ticks": ""
             }
            },
            "type": "scatterpolargl"
           }
          ],
          "scatterternary": [
           {
            "marker": {
             "colorbar": {
              "outlinewidth": 0,
              "ticks": ""
             }
            },
            "type": "scatterternary"
           }
          ],
          "surface": [
           {
            "colorbar": {
             "outlinewidth": 0,
             "ticks": ""
            },
            "colorscale": [
             [
              0,
              "#0d0887"
             ],
             [
              0.1111111111111111,
              "#46039f"
             ],
             [
              0.2222222222222222,
              "#7201a8"
             ],
             [
              0.3333333333333333,
              "#9c179e"
             ],
             [
              0.4444444444444444,
              "#bd3786"
             ],
             [
              0.5555555555555556,
              "#d8576b"
             ],
             [
              0.6666666666666666,
              "#ed7953"
             ],
             [
              0.7777777777777778,
              "#fb9f3a"
             ],
             [
              0.8888888888888888,
              "#fdca26"
             ],
             [
              1,
              "#f0f921"
             ]
            ],
            "type": "surface"
           }
          ],
          "table": [
           {
            "cells": {
             "fill": {
              "color": "#EBF0F8"
             },
             "line": {
              "color": "white"
             }
            },
            "header": {
             "fill": {
              "color": "#C8D4E3"
             },
             "line": {
              "color": "white"
             }
            },
            "type": "table"
           }
          ]
         },
         "layout": {
          "annotationdefaults": {
           "arrowcolor": "#2a3f5f",
           "arrowhead": 0,
           "arrowwidth": 1
          },
          "autotypenumbers": "strict",
          "coloraxis": {
           "colorbar": {
            "outlinewidth": 0,
            "ticks": ""
           }
          },
          "colorscale": {
           "diverging": [
            [
             0,
             "#8e0152"
            ],
            [
             0.1,
             "#c51b7d"
            ],
            [
             0.2,
             "#de77ae"
            ],
            [
             0.3,
             "#f1b6da"
            ],
            [
             0.4,
             "#fde0ef"
            ],
            [
             0.5,
             "#f7f7f7"
            ],
            [
             0.6,
             "#e6f5d0"
            ],
            [
             0.7,
             "#b8e186"
            ],
            [
             0.8,
             "#7fbc41"
            ],
            [
             0.9,
             "#4d9221"
            ],
            [
             1,
             "#276419"
            ]
           ],
           "sequential": [
            [
             0,
             "#0d0887"
            ],
            [
             0.1111111111111111,
             "#46039f"
            ],
            [
             0.2222222222222222,
             "#7201a8"
            ],
            [
             0.3333333333333333,
             "#9c179e"
            ],
            [
             0.4444444444444444,
             "#bd3786"
            ],
            [
             0.5555555555555556,
             "#d8576b"
            ],
            [
             0.6666666666666666,
             "#ed7953"
            ],
            [
             0.7777777777777778,
             "#fb9f3a"
            ],
            [
             0.8888888888888888,
             "#fdca26"
            ],
            [
             1,
             "#f0f921"
            ]
           ],
           "sequentialminus": [
            [
             0,
             "#0d0887"
            ],
            [
             0.1111111111111111,
             "#46039f"
            ],
            [
             0.2222222222222222,
             "#7201a8"
            ],
            [
             0.3333333333333333,
             "#9c179e"
            ],
            [
             0.4444444444444444,
             "#bd3786"
            ],
            [
             0.5555555555555556,
             "#d8576b"
            ],
            [
             0.6666666666666666,
             "#ed7953"
            ],
            [
             0.7777777777777778,
             "#fb9f3a"
            ],
            [
             0.8888888888888888,
             "#fdca26"
            ],
            [
             1,
             "#f0f921"
            ]
           ]
          },
          "colorway": [
           "#636efa",
           "#EF553B",
           "#00cc96",
           "#ab63fa",
           "#FFA15A",
           "#19d3f3",
           "#FF6692",
           "#B6E880",
           "#FF97FF",
           "#FECB52"
          ],
          "font": {
           "color": "#2a3f5f"
          },
          "geo": {
           "bgcolor": "white",
           "lakecolor": "white",
           "landcolor": "#E5ECF6",
           "showlakes": true,
           "showland": true,
           "subunitcolor": "white"
          },
          "hoverlabel": {
           "align": "left"
          },
          "hovermode": "closest",
          "mapbox": {
           "style": "light"
          },
          "paper_bgcolor": "white",
          "plot_bgcolor": "#E5ECF6",
          "polar": {
           "angularaxis": {
            "gridcolor": "white",
            "linecolor": "white",
            "ticks": ""
           },
           "bgcolor": "#E5ECF6",
           "radialaxis": {
            "gridcolor": "white",
            "linecolor": "white",
            "ticks": ""
           }
          },
          "scene": {
           "xaxis": {
            "backgroundcolor": "#E5ECF6",
            "gridcolor": "white",
            "gridwidth": 2,
            "linecolor": "white",
            "showbackground": true,
            "ticks": "",
            "zerolinecolor": "white"
           },
           "yaxis": {
            "backgroundcolor": "#E5ECF6",
            "gridcolor": "white",
            "gridwidth": 2,
            "linecolor": "white",
            "showbackground": true,
            "ticks": "",
            "zerolinecolor": "white"
           },
           "zaxis": {
            "backgroundcolor": "#E5ECF6",
            "gridcolor": "white",
            "gridwidth": 2,
            "linecolor": "white",
            "showbackground": true,
            "ticks": "",
            "zerolinecolor": "white"
           }
          },
          "shapedefaults": {
           "line": {
            "color": "#2a3f5f"
           }
          },
          "ternary": {
           "aaxis": {
            "gridcolor": "white",
            "linecolor": "white",
            "ticks": ""
           },
           "baxis": {
            "gridcolor": "white",
            "linecolor": "white",
            "ticks": ""
           },
           "bgcolor": "#E5ECF6",
           "caxis": {
            "gridcolor": "white",
            "linecolor": "white",
            "ticks": ""
           }
          },
          "title": {
           "x": 0.05
          },
          "xaxis": {
           "automargin": true,
           "gridcolor": "white",
           "linecolor": "white",
           "ticks": "",
           "title": {
            "standoff": 15
           },
           "zerolinecolor": "white",
           "zerolinewidth": 2
          },
          "yaxis": {
           "automargin": true,
           "gridcolor": "white",
           "linecolor": "white",
           "ticks": "",
           "title": {
            "standoff": 15
           },
           "zerolinecolor": "white",
           "zerolinewidth": 2
          }
         }
        },
        "title": {
         "font": {
          "size": 20
         },
         "text": "Rata-rata Value per year Value_GDP"
        },
        "xaxis": {
         "anchor": "y",
         "domain": [
          0,
          1
         ],
         "title": {
          "font": {
           "size": 18
          },
          "text": "Time Period"
         }
        },
        "yaxis": {
         "anchor": "x",
         "domain": [
          0,
          1
         ],
         "title": {
          "font": {
           "size": 18
          },
          "text": "Average Value"
         }
        }
       }
      },
      "text/html": [
       "<div>                            <div id=\"5e85a789-8ff1-4aa1-8177-c445219753ff\" class=\"plotly-graph-div\" style=\"height:525px; width:100%;\"></div>            <script type=\"text/javascript\">                require([\"plotly\"], function(Plotly) {                    window.PLOTLYENV=window.PLOTLYENV || {};                                    if (document.getElementById(\"5e85a789-8ff1-4aa1-8177-c445219753ff\")) {                    Plotly.newPlot(                        \"5e85a789-8ff1-4aa1-8177-c445219753ff\",                        [{\"hovertemplate\":\"Year=%{x}\\u003cbr\\u003eValue_GDP=%{y}\\u003cextra\\u003e\\u003c\\u002fextra\\u003e\",\"legendgroup\":\"\",\"line\":{\"color\":\"#636efa\",\"dash\":\"solid\"},\"marker\":{\"symbol\":\"circle\"},\"mode\":\"markers+lines\",\"name\":\"\",\"orientation\":\"v\",\"showlegend\":false,\"x\":[2000,2001,2002,2003,2004,2005,2006,2007,2008,2009,2010,2011,2012,2013,2014,2015,2016,2017,2018,2019,2020,2021,2022,2023],\"xaxis\":\"x\",\"y\":[4.579856506809716,3.224171485705645,3.425759022137097,3.9010560799444445,5.887787502876984,5.032504162257937,5.725844707595238,5.674685946695652,4.012006913628459,0.09752729333203125,4.446752153667969,3.667211909667969,3.1925359343632813,3.1078189450429687,3.308771011692607,2.7806603930311287,3.1375427294804688,3.2977441158054472,3.0840040171201553,2.899501637396887,-4.857574662785992,6.134287339988282,4.384633858012,3.2702079683733905],\"yaxis\":\"y\",\"type\":\"scatter\"}],                        {\"template\":{\"data\":{\"histogram2dcontour\":[{\"type\":\"histogram2dcontour\",\"colorbar\":{\"outlinewidth\":0,\"ticks\":\"\"},\"colorscale\":[[0.0,\"#0d0887\"],[0.1111111111111111,\"#46039f\"],[0.2222222222222222,\"#7201a8\"],[0.3333333333333333,\"#9c179e\"],[0.4444444444444444,\"#bd3786\"],[0.5555555555555556,\"#d8576b\"],[0.6666666666666666,\"#ed7953\"],[0.7777777777777778,\"#fb9f3a\"],[0.8888888888888888,\"#fdca26\"],[1.0,\"#f0f921\"]]}],\"choropleth\":[{\"type\":\"choropleth\",\"colorbar\":{\"outlinewidth\":0,\"ticks\":\"\"}}],\"histogram2d\":[{\"type\":\"histogram2d\",\"colorbar\":{\"outlinewidth\":0,\"ticks\":\"\"},\"colorscale\":[[0.0,\"#0d0887\"],[0.1111111111111111,\"#46039f\"],[0.2222222222222222,\"#7201a8\"],[0.3333333333333333,\"#9c179e\"],[0.4444444444444444,\"#bd3786\"],[0.5555555555555556,\"#d8576b\"],[0.6666666666666666,\"#ed7953\"],[0.7777777777777778,\"#fb9f3a\"],[0.8888888888888888,\"#fdca26\"],[1.0,\"#f0f921\"]]}],\"heatmap\":[{\"type\":\"heatmap\",\"colorbar\":{\"outlinewidth\":0,\"ticks\":\"\"},\"colorscale\":[[0.0,\"#0d0887\"],[0.1111111111111111,\"#46039f\"],[0.2222222222222222,\"#7201a8\"],[0.3333333333333333,\"#9c179e\"],[0.4444444444444444,\"#bd3786\"],[0.5555555555555556,\"#d8576b\"],[0.6666666666666666,\"#ed7953\"],[0.7777777777777778,\"#fb9f3a\"],[0.8888888888888888,\"#fdca26\"],[1.0,\"#f0f921\"]]}],\"heatmapgl\":[{\"type\":\"heatmapgl\",\"colorbar\":{\"outlinewidth\":0,\"ticks\":\"\"},\"colorscale\":[[0.0,\"#0d0887\"],[0.1111111111111111,\"#46039f\"],[0.2222222222222222,\"#7201a8\"],[0.3333333333333333,\"#9c179e\"],[0.4444444444444444,\"#bd3786\"],[0.5555555555555556,\"#d8576b\"],[0.6666666666666666,\"#ed7953\"],[0.7777777777777778,\"#fb9f3a\"],[0.8888888888888888,\"#fdca26\"],[1.0,\"#f0f921\"]]}],\"contourcarpet\":[{\"type\":\"contourcarpet\",\"colorbar\":{\"outlinewidth\":0,\"ticks\":\"\"}}],\"contour\":[{\"type\":\"contour\",\"colorbar\":{\"outlinewidth\":0,\"ticks\":\"\"},\"colorscale\":[[0.0,\"#0d0887\"],[0.1111111111111111,\"#46039f\"],[0.2222222222222222,\"#7201a8\"],[0.3333333333333333,\"#9c179e\"],[0.4444444444444444,\"#bd3786\"],[0.5555555555555556,\"#d8576b\"],[0.6666666666666666,\"#ed7953\"],[0.7777777777777778,\"#fb9f3a\"],[0.8888888888888888,\"#fdca26\"],[1.0,\"#f0f921\"]]}],\"surface\":[{\"type\":\"surface\",\"colorbar\":{\"outlinewidth\":0,\"ticks\":\"\"},\"colorscale\":[[0.0,\"#0d0887\"],[0.1111111111111111,\"#46039f\"],[0.2222222222222222,\"#7201a8\"],[0.3333333333333333,\"#9c179e\"],[0.4444444444444444,\"#bd3786\"],[0.5555555555555556,\"#d8576b\"],[0.6666666666666666,\"#ed7953\"],[0.7777777777777778,\"#fb9f3a\"],[0.8888888888888888,\"#fdca26\"],[1.0,\"#f0f921\"]]}],\"mesh3d\":[{\"type\":\"mesh3d\",\"colorbar\":{\"outlinewidth\":0,\"ticks\":\"\"}}],\"scatter\":[{\"fillpattern\":{\"fillmode\":\"overlay\",\"size\":10,\"solidity\":0.2},\"type\":\"scatter\"}],\"parcoords\":[{\"type\":\"parcoords\",\"line\":{\"colorbar\":{\"outlinewidth\":0,\"ticks\":\"\"}}}],\"scatterpolargl\":[{\"type\":\"scatterpolargl\",\"marker\":{\"colorbar\":{\"outlinewidth\":0,\"ticks\":\"\"}}}],\"bar\":[{\"error_x\":{\"color\":\"#2a3f5f\"},\"error_y\":{\"color\":\"#2a3f5f\"},\"marker\":{\"line\":{\"color\":\"#E5ECF6\",\"width\":0.5},\"pattern\":{\"fillmode\":\"overlay\",\"size\":10,\"solidity\":0.2}},\"type\":\"bar\"}],\"scattergeo\":[{\"type\":\"scattergeo\",\"marker\":{\"colorbar\":{\"outlinewidth\":0,\"ticks\":\"\"}}}],\"scatterpolar\":[{\"type\":\"scatterpolar\",\"marker\":{\"colorbar\":{\"outlinewidth\":0,\"ticks\":\"\"}}}],\"histogram\":[{\"marker\":{\"pattern\":{\"fillmode\":\"overlay\",\"size\":10,\"solidity\":0.2}},\"type\":\"histogram\"}],\"scattergl\":[{\"type\":\"scattergl\",\"marker\":{\"colorbar\":{\"outlinewidth\":0,\"ticks\":\"\"}}}],\"scatter3d\":[{\"type\":\"scatter3d\",\"line\":{\"colorbar\":{\"outlinewidth\":0,\"ticks\":\"\"}},\"marker\":{\"colorbar\":{\"outlinewidth\":0,\"ticks\":\"\"}}}],\"scattermapbox\":[{\"type\":\"scattermapbox\",\"marker\":{\"colorbar\":{\"outlinewidth\":0,\"ticks\":\"\"}}}],\"scatterternary\":[{\"type\":\"scatterternary\",\"marker\":{\"colorbar\":{\"outlinewidth\":0,\"ticks\":\"\"}}}],\"scattercarpet\":[{\"type\":\"scattercarpet\",\"marker\":{\"colorbar\":{\"outlinewidth\":0,\"ticks\":\"\"}}}],\"carpet\":[{\"aaxis\":{\"endlinecolor\":\"#2a3f5f\",\"gridcolor\":\"white\",\"linecolor\":\"white\",\"minorgridcolor\":\"white\",\"startlinecolor\":\"#2a3f5f\"},\"baxis\":{\"endlinecolor\":\"#2a3f5f\",\"gridcolor\":\"white\",\"linecolor\":\"white\",\"minorgridcolor\":\"white\",\"startlinecolor\":\"#2a3f5f\"},\"type\":\"carpet\"}],\"table\":[{\"cells\":{\"fill\":{\"color\":\"#EBF0F8\"},\"line\":{\"color\":\"white\"}},\"header\":{\"fill\":{\"color\":\"#C8D4E3\"},\"line\":{\"color\":\"white\"}},\"type\":\"table\"}],\"barpolar\":[{\"marker\":{\"line\":{\"color\":\"#E5ECF6\",\"width\":0.5},\"pattern\":{\"fillmode\":\"overlay\",\"size\":10,\"solidity\":0.2}},\"type\":\"barpolar\"}],\"pie\":[{\"automargin\":true,\"type\":\"pie\"}]},\"layout\":{\"autotypenumbers\":\"strict\",\"colorway\":[\"#636efa\",\"#EF553B\",\"#00cc96\",\"#ab63fa\",\"#FFA15A\",\"#19d3f3\",\"#FF6692\",\"#B6E880\",\"#FF97FF\",\"#FECB52\"],\"font\":{\"color\":\"#2a3f5f\"},\"hovermode\":\"closest\",\"hoverlabel\":{\"align\":\"left\"},\"paper_bgcolor\":\"white\",\"plot_bgcolor\":\"#E5ECF6\",\"polar\":{\"bgcolor\":\"#E5ECF6\",\"angularaxis\":{\"gridcolor\":\"white\",\"linecolor\":\"white\",\"ticks\":\"\"},\"radialaxis\":{\"gridcolor\":\"white\",\"linecolor\":\"white\",\"ticks\":\"\"}},\"ternary\":{\"bgcolor\":\"#E5ECF6\",\"aaxis\":{\"gridcolor\":\"white\",\"linecolor\":\"white\",\"ticks\":\"\"},\"baxis\":{\"gridcolor\":\"white\",\"linecolor\":\"white\",\"ticks\":\"\"},\"caxis\":{\"gridcolor\":\"white\",\"linecolor\":\"white\",\"ticks\":\"\"}},\"coloraxis\":{\"colorbar\":{\"outlinewidth\":0,\"ticks\":\"\"}},\"colorscale\":{\"sequential\":[[0.0,\"#0d0887\"],[0.1111111111111111,\"#46039f\"],[0.2222222222222222,\"#7201a8\"],[0.3333333333333333,\"#9c179e\"],[0.4444444444444444,\"#bd3786\"],[0.5555555555555556,\"#d8576b\"],[0.6666666666666666,\"#ed7953\"],[0.7777777777777778,\"#fb9f3a\"],[0.8888888888888888,\"#fdca26\"],[1.0,\"#f0f921\"]],\"sequentialminus\":[[0.0,\"#0d0887\"],[0.1111111111111111,\"#46039f\"],[0.2222222222222222,\"#7201a8\"],[0.3333333333333333,\"#9c179e\"],[0.4444444444444444,\"#bd3786\"],[0.5555555555555556,\"#d8576b\"],[0.6666666666666666,\"#ed7953\"],[0.7777777777777778,\"#fb9f3a\"],[0.8888888888888888,\"#fdca26\"],[1.0,\"#f0f921\"]],\"diverging\":[[0,\"#8e0152\"],[0.1,\"#c51b7d\"],[0.2,\"#de77ae\"],[0.3,\"#f1b6da\"],[0.4,\"#fde0ef\"],[0.5,\"#f7f7f7\"],[0.6,\"#e6f5d0\"],[0.7,\"#b8e186\"],[0.8,\"#7fbc41\"],[0.9,\"#4d9221\"],[1,\"#276419\"]]},\"xaxis\":{\"gridcolor\":\"white\",\"linecolor\":\"white\",\"ticks\":\"\",\"title\":{\"standoff\":15},\"zerolinecolor\":\"white\",\"automargin\":true,\"zerolinewidth\":2},\"yaxis\":{\"gridcolor\":\"white\",\"linecolor\":\"white\",\"ticks\":\"\",\"title\":{\"standoff\":15},\"zerolinecolor\":\"white\",\"automargin\":true,\"zerolinewidth\":2},\"scene\":{\"xaxis\":{\"backgroundcolor\":\"#E5ECF6\",\"gridcolor\":\"white\",\"linecolor\":\"white\",\"showbackground\":true,\"ticks\":\"\",\"zerolinecolor\":\"white\",\"gridwidth\":2},\"yaxis\":{\"backgroundcolor\":\"#E5ECF6\",\"gridcolor\":\"white\",\"linecolor\":\"white\",\"showbackground\":true,\"ticks\":\"\",\"zerolinecolor\":\"white\",\"gridwidth\":2},\"zaxis\":{\"backgroundcolor\":\"#E5ECF6\",\"gridcolor\":\"white\",\"linecolor\":\"white\",\"showbackground\":true,\"ticks\":\"\",\"zerolinecolor\":\"white\",\"gridwidth\":2}},\"shapedefaults\":{\"line\":{\"color\":\"#2a3f5f\"}},\"annotationdefaults\":{\"arrowcolor\":\"#2a3f5f\",\"arrowhead\":0,\"arrowwidth\":1},\"geo\":{\"bgcolor\":\"white\",\"landcolor\":\"#E5ECF6\",\"subunitcolor\":\"white\",\"showland\":true,\"showlakes\":true,\"lakecolor\":\"white\"},\"title\":{\"x\":0.05},\"mapbox\":{\"style\":\"light\"}}},\"xaxis\":{\"anchor\":\"y\",\"domain\":[0.0,1.0],\"title\":{\"text\":\"Time Period\",\"font\":{\"size\":18}}},\"yaxis\":{\"anchor\":\"x\",\"domain\":[0.0,1.0],\"title\":{\"text\":\"Average Value\",\"font\":{\"size\":18}}},\"legend\":{\"tracegroupgap\":0},\"title\":{\"text\":\"Rata-rata Value per year Value_GDP\",\"font\":{\"size\":20}}},                        {\"responsive\": true}                    ).then(function(){\n",
       "                            \n",
       "var gd = document.getElementById('5e85a789-8ff1-4aa1-8177-c445219753ff');\n",
       "var x = new MutationObserver(function (mutations, observer) {{\n",
       "        var display = window.getComputedStyle(gd).display;\n",
       "        if (!display || display === 'none') {{\n",
       "            console.log([gd, 'removed!']);\n",
       "            Plotly.purge(gd);\n",
       "            observer.disconnect();\n",
       "        }}\n",
       "}});\n",
       "\n",
       "// Listen for the removal of the full notebook cells\n",
       "var notebookContainer = gd.closest('#notebook-container');\n",
       "if (notebookContainer) {{\n",
       "    x.observe(notebookContainer, {childList: true});\n",
       "}}\n",
       "\n",
       "// Listen for the clearing of the current output cell\n",
       "var outputEl = gd.closest('.output');\n",
       "if (outputEl) {{\n",
       "    x.observe(outputEl, {childList: true});\n",
       "}}\n",
       "\n",
       "                        })                };                });            </script>        </div>"
      ]
     },
     "metadata": {},
     "output_type": "display_data"
    },
    {
     "data": {
      "application/vnd.plotly.v1+json": {
       "config": {
        "plotlyServerURL": "https://plot.ly"
       },
       "data": [
        {
         "hovertemplate": "Year=%{x}<br>Value_Inflation=%{y}<extra></extra>",
         "legendgroup": "",
         "line": {
          "color": "#636efa",
          "dash": "solid"
         },
         "marker": {
          "symbol": "circle"
         },
         "mode": "markers+lines",
         "name": "",
         "orientation": "v",
         "showlegend": false,
         "type": "scatter",
         "x": [
          2000,
          2001,
          2002,
          2003,
          2004,
          2005,
          2006,
          2007,
          2008,
          2009,
          2010,
          2011,
          2012,
          2013,
          2014,
          2015,
          2016,
          2017,
          2018,
          2019,
          2020,
          2021,
          2022,
          2023
         ],
         "xaxis": "x",
         "y": [
          11.069953705668246,
          8.509015391837963,
          5.626933264834862,
          5.546797135095022,
          4.983327895720721,
          5.719682107928889,
          5.595492134385965,
          5.637477681821739,
          10.151450073151516,
          3.892132575863248,
          4.148770101631356,
          6.330817932366667,
          5.517390855615063,
          4.086009040139831,
          3.6343215751574465,
          3.5764339389102564,
          6.026474960884615,
          4.7443500924235815,
          4.078212240358408,
          4.627830106595556,
          6.757391684018264,
          7.521258884410958,
          11.573759748926268,
          8.931438786840795
         ],
         "yaxis": "y"
        }
       ],
       "layout": {
        "legend": {
         "tracegroupgap": 0
        },
        "template": {
         "data": {
          "bar": [
           {
            "error_x": {
             "color": "#2a3f5f"
            },
            "error_y": {
             "color": "#2a3f5f"
            },
            "marker": {
             "line": {
              "color": "#E5ECF6",
              "width": 0.5
             },
             "pattern": {
              "fillmode": "overlay",
              "size": 10,
              "solidity": 0.2
             }
            },
            "type": "bar"
           }
          ],
          "barpolar": [
           {
            "marker": {
             "line": {
              "color": "#E5ECF6",
              "width": 0.5
             },
             "pattern": {
              "fillmode": "overlay",
              "size": 10,
              "solidity": 0.2
             }
            },
            "type": "barpolar"
           }
          ],
          "carpet": [
           {
            "aaxis": {
             "endlinecolor": "#2a3f5f",
             "gridcolor": "white",
             "linecolor": "white",
             "minorgridcolor": "white",
             "startlinecolor": "#2a3f5f"
            },
            "baxis": {
             "endlinecolor": "#2a3f5f",
             "gridcolor": "white",
             "linecolor": "white",
             "minorgridcolor": "white",
             "startlinecolor": "#2a3f5f"
            },
            "type": "carpet"
           }
          ],
          "choropleth": [
           {
            "colorbar": {
             "outlinewidth": 0,
             "ticks": ""
            },
            "type": "choropleth"
           }
          ],
          "contour": [
           {
            "colorbar": {
             "outlinewidth": 0,
             "ticks": ""
            },
            "colorscale": [
             [
              0,
              "#0d0887"
             ],
             [
              0.1111111111111111,
              "#46039f"
             ],
             [
              0.2222222222222222,
              "#7201a8"
             ],
             [
              0.3333333333333333,
              "#9c179e"
             ],
             [
              0.4444444444444444,
              "#bd3786"
             ],
             [
              0.5555555555555556,
              "#d8576b"
             ],
             [
              0.6666666666666666,
              "#ed7953"
             ],
             [
              0.7777777777777778,
              "#fb9f3a"
             ],
             [
              0.8888888888888888,
              "#fdca26"
             ],
             [
              1,
              "#f0f921"
             ]
            ],
            "type": "contour"
           }
          ],
          "contourcarpet": [
           {
            "colorbar": {
             "outlinewidth": 0,
             "ticks": ""
            },
            "type": "contourcarpet"
           }
          ],
          "heatmap": [
           {
            "colorbar": {
             "outlinewidth": 0,
             "ticks": ""
            },
            "colorscale": [
             [
              0,
              "#0d0887"
             ],
             [
              0.1111111111111111,
              "#46039f"
             ],
             [
              0.2222222222222222,
              "#7201a8"
             ],
             [
              0.3333333333333333,
              "#9c179e"
             ],
             [
              0.4444444444444444,
              "#bd3786"
             ],
             [
              0.5555555555555556,
              "#d8576b"
             ],
             [
              0.6666666666666666,
              "#ed7953"
             ],
             [
              0.7777777777777778,
              "#fb9f3a"
             ],
             [
              0.8888888888888888,
              "#fdca26"
             ],
             [
              1,
              "#f0f921"
             ]
            ],
            "type": "heatmap"
           }
          ],
          "heatmapgl": [
           {
            "colorbar": {
             "outlinewidth": 0,
             "ticks": ""
            },
            "colorscale": [
             [
              0,
              "#0d0887"
             ],
             [
              0.1111111111111111,
              "#46039f"
             ],
             [
              0.2222222222222222,
              "#7201a8"
             ],
             [
              0.3333333333333333,
              "#9c179e"
             ],
             [
              0.4444444444444444,
              "#bd3786"
             ],
             [
              0.5555555555555556,
              "#d8576b"
             ],
             [
              0.6666666666666666,
              "#ed7953"
             ],
             [
              0.7777777777777778,
              "#fb9f3a"
             ],
             [
              0.8888888888888888,
              "#fdca26"
             ],
             [
              1,
              "#f0f921"
             ]
            ],
            "type": "heatmapgl"
           }
          ],
          "histogram": [
           {
            "marker": {
             "pattern": {
              "fillmode": "overlay",
              "size": 10,
              "solidity": 0.2
             }
            },
            "type": "histogram"
           }
          ],
          "histogram2d": [
           {
            "colorbar": {
             "outlinewidth": 0,
             "ticks": ""
            },
            "colorscale": [
             [
              0,
              "#0d0887"
             ],
             [
              0.1111111111111111,
              "#46039f"
             ],
             [
              0.2222222222222222,
              "#7201a8"
             ],
             [
              0.3333333333333333,
              "#9c179e"
             ],
             [
              0.4444444444444444,
              "#bd3786"
             ],
             [
              0.5555555555555556,
              "#d8576b"
             ],
             [
              0.6666666666666666,
              "#ed7953"
             ],
             [
              0.7777777777777778,
              "#fb9f3a"
             ],
             [
              0.8888888888888888,
              "#fdca26"
             ],
             [
              1,
              "#f0f921"
             ]
            ],
            "type": "histogram2d"
           }
          ],
          "histogram2dcontour": [
           {
            "colorbar": {
             "outlinewidth": 0,
             "ticks": ""
            },
            "colorscale": [
             [
              0,
              "#0d0887"
             ],
             [
              0.1111111111111111,
              "#46039f"
             ],
             [
              0.2222222222222222,
              "#7201a8"
             ],
             [
              0.3333333333333333,
              "#9c179e"
             ],
             [
              0.4444444444444444,
              "#bd3786"
             ],
             [
              0.5555555555555556,
              "#d8576b"
             ],
             [
              0.6666666666666666,
              "#ed7953"
             ],
             [
              0.7777777777777778,
              "#fb9f3a"
             ],
             [
              0.8888888888888888,
              "#fdca26"
             ],
             [
              1,
              "#f0f921"
             ]
            ],
            "type": "histogram2dcontour"
           }
          ],
          "mesh3d": [
           {
            "colorbar": {
             "outlinewidth": 0,
             "ticks": ""
            },
            "type": "mesh3d"
           }
          ],
          "parcoords": [
           {
            "line": {
             "colorbar": {
              "outlinewidth": 0,
              "ticks": ""
             }
            },
            "type": "parcoords"
           }
          ],
          "pie": [
           {
            "automargin": true,
            "type": "pie"
           }
          ],
          "scatter": [
           {
            "fillpattern": {
             "fillmode": "overlay",
             "size": 10,
             "solidity": 0.2
            },
            "type": "scatter"
           }
          ],
          "scatter3d": [
           {
            "line": {
             "colorbar": {
              "outlinewidth": 0,
              "ticks": ""
             }
            },
            "marker": {
             "colorbar": {
              "outlinewidth": 0,
              "ticks": ""
             }
            },
            "type": "scatter3d"
           }
          ],
          "scattercarpet": [
           {
            "marker": {
             "colorbar": {
              "outlinewidth": 0,
              "ticks": ""
             }
            },
            "type": "scattercarpet"
           }
          ],
          "scattergeo": [
           {
            "marker": {
             "colorbar": {
              "outlinewidth": 0,
              "ticks": ""
             }
            },
            "type": "scattergeo"
           }
          ],
          "scattergl": [
           {
            "marker": {
             "colorbar": {
              "outlinewidth": 0,
              "ticks": ""
             }
            },
            "type": "scattergl"
           }
          ],
          "scattermapbox": [
           {
            "marker": {
             "colorbar": {
              "outlinewidth": 0,
              "ticks": ""
             }
            },
            "type": "scattermapbox"
           }
          ],
          "scatterpolar": [
           {
            "marker": {
             "colorbar": {
              "outlinewidth": 0,
              "ticks": ""
             }
            },
            "type": "scatterpolar"
           }
          ],
          "scatterpolargl": [
           {
            "marker": {
             "colorbar": {
              "outlinewidth": 0,
              "ticks": ""
             }
            },
            "type": "scatterpolargl"
           }
          ],
          "scatterternary": [
           {
            "marker": {
             "colorbar": {
              "outlinewidth": 0,
              "ticks": ""
             }
            },
            "type": "scatterternary"
           }
          ],
          "surface": [
           {
            "colorbar": {
             "outlinewidth": 0,
             "ticks": ""
            },
            "colorscale": [
             [
              0,
              "#0d0887"
             ],
             [
              0.1111111111111111,
              "#46039f"
             ],
             [
              0.2222222222222222,
              "#7201a8"
             ],
             [
              0.3333333333333333,
              "#9c179e"
             ],
             [
              0.4444444444444444,
              "#bd3786"
             ],
             [
              0.5555555555555556,
              "#d8576b"
             ],
             [
              0.6666666666666666,
              "#ed7953"
             ],
             [
              0.7777777777777778,
              "#fb9f3a"
             ],
             [
              0.8888888888888888,
              "#fdca26"
             ],
             [
              1,
              "#f0f921"
             ]
            ],
            "type": "surface"
           }
          ],
          "table": [
           {
            "cells": {
             "fill": {
              "color": "#EBF0F8"
             },
             "line": {
              "color": "white"
             }
            },
            "header": {
             "fill": {
              "color": "#C8D4E3"
             },
             "line": {
              "color": "white"
             }
            },
            "type": "table"
           }
          ]
         },
         "layout": {
          "annotationdefaults": {
           "arrowcolor": "#2a3f5f",
           "arrowhead": 0,
           "arrowwidth": 1
          },
          "autotypenumbers": "strict",
          "coloraxis": {
           "colorbar": {
            "outlinewidth": 0,
            "ticks": ""
           }
          },
          "colorscale": {
           "diverging": [
            [
             0,
             "#8e0152"
            ],
            [
             0.1,
             "#c51b7d"
            ],
            [
             0.2,
             "#de77ae"
            ],
            [
             0.3,
             "#f1b6da"
            ],
            [
             0.4,
             "#fde0ef"
            ],
            [
             0.5,
             "#f7f7f7"
            ],
            [
             0.6,
             "#e6f5d0"
            ],
            [
             0.7,
             "#b8e186"
            ],
            [
             0.8,
             "#7fbc41"
            ],
            [
             0.9,
             "#4d9221"
            ],
            [
             1,
             "#276419"
            ]
           ],
           "sequential": [
            [
             0,
             "#0d0887"
            ],
            [
             0.1111111111111111,
             "#46039f"
            ],
            [
             0.2222222222222222,
             "#7201a8"
            ],
            [
             0.3333333333333333,
             "#9c179e"
            ],
            [
             0.4444444444444444,
             "#bd3786"
            ],
            [
             0.5555555555555556,
             "#d8576b"
            ],
            [
             0.6666666666666666,
             "#ed7953"
            ],
            [
             0.7777777777777778,
             "#fb9f3a"
            ],
            [
             0.8888888888888888,
             "#fdca26"
            ],
            [
             1,
             "#f0f921"
            ]
           ],
           "sequentialminus": [
            [
             0,
             "#0d0887"
            ],
            [
             0.1111111111111111,
             "#46039f"
            ],
            [
             0.2222222222222222,
             "#7201a8"
            ],
            [
             0.3333333333333333,
             "#9c179e"
            ],
            [
             0.4444444444444444,
             "#bd3786"
            ],
            [
             0.5555555555555556,
             "#d8576b"
            ],
            [
             0.6666666666666666,
             "#ed7953"
            ],
            [
             0.7777777777777778,
             "#fb9f3a"
            ],
            [
             0.8888888888888888,
             "#fdca26"
            ],
            [
             1,
             "#f0f921"
            ]
           ]
          },
          "colorway": [
           "#636efa",
           "#EF553B",
           "#00cc96",
           "#ab63fa",
           "#FFA15A",
           "#19d3f3",
           "#FF6692",
           "#B6E880",
           "#FF97FF",
           "#FECB52"
          ],
          "font": {
           "color": "#2a3f5f"
          },
          "geo": {
           "bgcolor": "white",
           "lakecolor": "white",
           "landcolor": "#E5ECF6",
           "showlakes": true,
           "showland": true,
           "subunitcolor": "white"
          },
          "hoverlabel": {
           "align": "left"
          },
          "hovermode": "closest",
          "mapbox": {
           "style": "light"
          },
          "paper_bgcolor": "white",
          "plot_bgcolor": "#E5ECF6",
          "polar": {
           "angularaxis": {
            "gridcolor": "white",
            "linecolor": "white",
            "ticks": ""
           },
           "bgcolor": "#E5ECF6",
           "radialaxis": {
            "gridcolor": "white",
            "linecolor": "white",
            "ticks": ""
           }
          },
          "scene": {
           "xaxis": {
            "backgroundcolor": "#E5ECF6",
            "gridcolor": "white",
            "gridwidth": 2,
            "linecolor": "white",
            "showbackground": true,
            "ticks": "",
            "zerolinecolor": "white"
           },
           "yaxis": {
            "backgroundcolor": "#E5ECF6",
            "gridcolor": "white",
            "gridwidth": 2,
            "linecolor": "white",
            "showbackground": true,
            "ticks": "",
            "zerolinecolor": "white"
           },
           "zaxis": {
            "backgroundcolor": "#E5ECF6",
            "gridcolor": "white",
            "gridwidth": 2,
            "linecolor": "white",
            "showbackground": true,
            "ticks": "",
            "zerolinecolor": "white"
           }
          },
          "shapedefaults": {
           "line": {
            "color": "#2a3f5f"
           }
          },
          "ternary": {
           "aaxis": {
            "gridcolor": "white",
            "linecolor": "white",
            "ticks": ""
           },
           "baxis": {
            "gridcolor": "white",
            "linecolor": "white",
            "ticks": ""
           },
           "bgcolor": "#E5ECF6",
           "caxis": {
            "gridcolor": "white",
            "linecolor": "white",
            "ticks": ""
           }
          },
          "title": {
           "x": 0.05
          },
          "xaxis": {
           "automargin": true,
           "gridcolor": "white",
           "linecolor": "white",
           "ticks": "",
           "title": {
            "standoff": 15
           },
           "zerolinecolor": "white",
           "zerolinewidth": 2
          },
          "yaxis": {
           "automargin": true,
           "gridcolor": "white",
           "linecolor": "white",
           "ticks": "",
           "title": {
            "standoff": 15
           },
           "zerolinecolor": "white",
           "zerolinewidth": 2
          }
         }
        },
        "title": {
         "font": {
          "size": 20
         },
         "text": "Rata-rata Value per year Value_Inflation"
        },
        "xaxis": {
         "anchor": "y",
         "domain": [
          0,
          1
         ],
         "title": {
          "font": {
           "size": 18
          },
          "text": "Time Period"
         }
        },
        "yaxis": {
         "anchor": "x",
         "domain": [
          0,
          1
         ],
         "title": {
          "font": {
           "size": 18
          },
          "text": "Average Value"
         }
        }
       }
      },
      "text/html": [
       "<div>                            <div id=\"51cb08a9-fbc9-4c95-85f3-969d6edf8f0c\" class=\"plotly-graph-div\" style=\"height:525px; width:100%;\"></div>            <script type=\"text/javascript\">                require([\"plotly\"], function(Plotly) {                    window.PLOTLYENV=window.PLOTLYENV || {};                                    if (document.getElementById(\"51cb08a9-fbc9-4c95-85f3-969d6edf8f0c\")) {                    Plotly.newPlot(                        \"51cb08a9-fbc9-4c95-85f3-969d6edf8f0c\",                        [{\"hovertemplate\":\"Year=%{x}\\u003cbr\\u003eValue_Inflation=%{y}\\u003cextra\\u003e\\u003c\\u002fextra\\u003e\",\"legendgroup\":\"\",\"line\":{\"color\":\"#636efa\",\"dash\":\"solid\"},\"marker\":{\"symbol\":\"circle\"},\"mode\":\"markers+lines\",\"name\":\"\",\"orientation\":\"v\",\"showlegend\":false,\"x\":[2000,2001,2002,2003,2004,2005,2006,2007,2008,2009,2010,2011,2012,2013,2014,2015,2016,2017,2018,2019,2020,2021,2022,2023],\"xaxis\":\"x\",\"y\":[11.069953705668246,8.509015391837963,5.626933264834862,5.546797135095022,4.983327895720721,5.719682107928889,5.595492134385965,5.637477681821739,10.151450073151516,3.892132575863248,4.148770101631356,6.330817932366667,5.517390855615063,4.086009040139831,3.6343215751574465,3.5764339389102564,6.026474960884615,4.7443500924235815,4.078212240358408,4.627830106595556,6.757391684018264,7.521258884410958,11.573759748926268,8.931438786840795],\"yaxis\":\"y\",\"type\":\"scatter\"}],                        {\"template\":{\"data\":{\"histogram2dcontour\":[{\"type\":\"histogram2dcontour\",\"colorbar\":{\"outlinewidth\":0,\"ticks\":\"\"},\"colorscale\":[[0.0,\"#0d0887\"],[0.1111111111111111,\"#46039f\"],[0.2222222222222222,\"#7201a8\"],[0.3333333333333333,\"#9c179e\"],[0.4444444444444444,\"#bd3786\"],[0.5555555555555556,\"#d8576b\"],[0.6666666666666666,\"#ed7953\"],[0.7777777777777778,\"#fb9f3a\"],[0.8888888888888888,\"#fdca26\"],[1.0,\"#f0f921\"]]}],\"choropleth\":[{\"type\":\"choropleth\",\"colorbar\":{\"outlinewidth\":0,\"ticks\":\"\"}}],\"histogram2d\":[{\"type\":\"histogram2d\",\"colorbar\":{\"outlinewidth\":0,\"ticks\":\"\"},\"colorscale\":[[0.0,\"#0d0887\"],[0.1111111111111111,\"#46039f\"],[0.2222222222222222,\"#7201a8\"],[0.3333333333333333,\"#9c179e\"],[0.4444444444444444,\"#bd3786\"],[0.5555555555555556,\"#d8576b\"],[0.6666666666666666,\"#ed7953\"],[0.7777777777777778,\"#fb9f3a\"],[0.8888888888888888,\"#fdca26\"],[1.0,\"#f0f921\"]]}],\"heatmap\":[{\"type\":\"heatmap\",\"colorbar\":{\"outlinewidth\":0,\"ticks\":\"\"},\"colorscale\":[[0.0,\"#0d0887\"],[0.1111111111111111,\"#46039f\"],[0.2222222222222222,\"#7201a8\"],[0.3333333333333333,\"#9c179e\"],[0.4444444444444444,\"#bd3786\"],[0.5555555555555556,\"#d8576b\"],[0.6666666666666666,\"#ed7953\"],[0.7777777777777778,\"#fb9f3a\"],[0.8888888888888888,\"#fdca26\"],[1.0,\"#f0f921\"]]}],\"heatmapgl\":[{\"type\":\"heatmapgl\",\"colorbar\":{\"outlinewidth\":0,\"ticks\":\"\"},\"colorscale\":[[0.0,\"#0d0887\"],[0.1111111111111111,\"#46039f\"],[0.2222222222222222,\"#7201a8\"],[0.3333333333333333,\"#9c179e\"],[0.4444444444444444,\"#bd3786\"],[0.5555555555555556,\"#d8576b\"],[0.6666666666666666,\"#ed7953\"],[0.7777777777777778,\"#fb9f3a\"],[0.8888888888888888,\"#fdca26\"],[1.0,\"#f0f921\"]]}],\"contourcarpet\":[{\"type\":\"contourcarpet\",\"colorbar\":{\"outlinewidth\":0,\"ticks\":\"\"}}],\"contour\":[{\"type\":\"contour\",\"colorbar\":{\"outlinewidth\":0,\"ticks\":\"\"},\"colorscale\":[[0.0,\"#0d0887\"],[0.1111111111111111,\"#46039f\"],[0.2222222222222222,\"#7201a8\"],[0.3333333333333333,\"#9c179e\"],[0.4444444444444444,\"#bd3786\"],[0.5555555555555556,\"#d8576b\"],[0.6666666666666666,\"#ed7953\"],[0.7777777777777778,\"#fb9f3a\"],[0.8888888888888888,\"#fdca26\"],[1.0,\"#f0f921\"]]}],\"surface\":[{\"type\":\"surface\",\"colorbar\":{\"outlinewidth\":0,\"ticks\":\"\"},\"colorscale\":[[0.0,\"#0d0887\"],[0.1111111111111111,\"#46039f\"],[0.2222222222222222,\"#7201a8\"],[0.3333333333333333,\"#9c179e\"],[0.4444444444444444,\"#bd3786\"],[0.5555555555555556,\"#d8576b\"],[0.6666666666666666,\"#ed7953\"],[0.7777777777777778,\"#fb9f3a\"],[0.8888888888888888,\"#fdca26\"],[1.0,\"#f0f921\"]]}],\"mesh3d\":[{\"type\":\"mesh3d\",\"colorbar\":{\"outlinewidth\":0,\"ticks\":\"\"}}],\"scatter\":[{\"fillpattern\":{\"fillmode\":\"overlay\",\"size\":10,\"solidity\":0.2},\"type\":\"scatter\"}],\"parcoords\":[{\"type\":\"parcoords\",\"line\":{\"colorbar\":{\"outlinewidth\":0,\"ticks\":\"\"}}}],\"scatterpolargl\":[{\"type\":\"scatterpolargl\",\"marker\":{\"colorbar\":{\"outlinewidth\":0,\"ticks\":\"\"}}}],\"bar\":[{\"error_x\":{\"color\":\"#2a3f5f\"},\"error_y\":{\"color\":\"#2a3f5f\"},\"marker\":{\"line\":{\"color\":\"#E5ECF6\",\"width\":0.5},\"pattern\":{\"fillmode\":\"overlay\",\"size\":10,\"solidity\":0.2}},\"type\":\"bar\"}],\"scattergeo\":[{\"type\":\"scattergeo\",\"marker\":{\"colorbar\":{\"outlinewidth\":0,\"ticks\":\"\"}}}],\"scatterpolar\":[{\"type\":\"scatterpolar\",\"marker\":{\"colorbar\":{\"outlinewidth\":0,\"ticks\":\"\"}}}],\"histogram\":[{\"marker\":{\"pattern\":{\"fillmode\":\"overlay\",\"size\":10,\"solidity\":0.2}},\"type\":\"histogram\"}],\"scattergl\":[{\"type\":\"scattergl\",\"marker\":{\"colorbar\":{\"outlinewidth\":0,\"ticks\":\"\"}}}],\"scatter3d\":[{\"type\":\"scatter3d\",\"line\":{\"colorbar\":{\"outlinewidth\":0,\"ticks\":\"\"}},\"marker\":{\"colorbar\":{\"outlinewidth\":0,\"ticks\":\"\"}}}],\"scattermapbox\":[{\"type\":\"scattermapbox\",\"marker\":{\"colorbar\":{\"outlinewidth\":0,\"ticks\":\"\"}}}],\"scatterternary\":[{\"type\":\"scatterternary\",\"marker\":{\"colorbar\":{\"outlinewidth\":0,\"ticks\":\"\"}}}],\"scattercarpet\":[{\"type\":\"scattercarpet\",\"marker\":{\"colorbar\":{\"outlinewidth\":0,\"ticks\":\"\"}}}],\"carpet\":[{\"aaxis\":{\"endlinecolor\":\"#2a3f5f\",\"gridcolor\":\"white\",\"linecolor\":\"white\",\"minorgridcolor\":\"white\",\"startlinecolor\":\"#2a3f5f\"},\"baxis\":{\"endlinecolor\":\"#2a3f5f\",\"gridcolor\":\"white\",\"linecolor\":\"white\",\"minorgridcolor\":\"white\",\"startlinecolor\":\"#2a3f5f\"},\"type\":\"carpet\"}],\"table\":[{\"cells\":{\"fill\":{\"color\":\"#EBF0F8\"},\"line\":{\"color\":\"white\"}},\"header\":{\"fill\":{\"color\":\"#C8D4E3\"},\"line\":{\"color\":\"white\"}},\"type\":\"table\"}],\"barpolar\":[{\"marker\":{\"line\":{\"color\":\"#E5ECF6\",\"width\":0.5},\"pattern\":{\"fillmode\":\"overlay\",\"size\":10,\"solidity\":0.2}},\"type\":\"barpolar\"}],\"pie\":[{\"automargin\":true,\"type\":\"pie\"}]},\"layout\":{\"autotypenumbers\":\"strict\",\"colorway\":[\"#636efa\",\"#EF553B\",\"#00cc96\",\"#ab63fa\",\"#FFA15A\",\"#19d3f3\",\"#FF6692\",\"#B6E880\",\"#FF97FF\",\"#FECB52\"],\"font\":{\"color\":\"#2a3f5f\"},\"hovermode\":\"closest\",\"hoverlabel\":{\"align\":\"left\"},\"paper_bgcolor\":\"white\",\"plot_bgcolor\":\"#E5ECF6\",\"polar\":{\"bgcolor\":\"#E5ECF6\",\"angularaxis\":{\"gridcolor\":\"white\",\"linecolor\":\"white\",\"ticks\":\"\"},\"radialaxis\":{\"gridcolor\":\"white\",\"linecolor\":\"white\",\"ticks\":\"\"}},\"ternary\":{\"bgcolor\":\"#E5ECF6\",\"aaxis\":{\"gridcolor\":\"white\",\"linecolor\":\"white\",\"ticks\":\"\"},\"baxis\":{\"gridcolor\":\"white\",\"linecolor\":\"white\",\"ticks\":\"\"},\"caxis\":{\"gridcolor\":\"white\",\"linecolor\":\"white\",\"ticks\":\"\"}},\"coloraxis\":{\"colorbar\":{\"outlinewidth\":0,\"ticks\":\"\"}},\"colorscale\":{\"sequential\":[[0.0,\"#0d0887\"],[0.1111111111111111,\"#46039f\"],[0.2222222222222222,\"#7201a8\"],[0.3333333333333333,\"#9c179e\"],[0.4444444444444444,\"#bd3786\"],[0.5555555555555556,\"#d8576b\"],[0.6666666666666666,\"#ed7953\"],[0.7777777777777778,\"#fb9f3a\"],[0.8888888888888888,\"#fdca26\"],[1.0,\"#f0f921\"]],\"sequentialminus\":[[0.0,\"#0d0887\"],[0.1111111111111111,\"#46039f\"],[0.2222222222222222,\"#7201a8\"],[0.3333333333333333,\"#9c179e\"],[0.4444444444444444,\"#bd3786\"],[0.5555555555555556,\"#d8576b\"],[0.6666666666666666,\"#ed7953\"],[0.7777777777777778,\"#fb9f3a\"],[0.8888888888888888,\"#fdca26\"],[1.0,\"#f0f921\"]],\"diverging\":[[0,\"#8e0152\"],[0.1,\"#c51b7d\"],[0.2,\"#de77ae\"],[0.3,\"#f1b6da\"],[0.4,\"#fde0ef\"],[0.5,\"#f7f7f7\"],[0.6,\"#e6f5d0\"],[0.7,\"#b8e186\"],[0.8,\"#7fbc41\"],[0.9,\"#4d9221\"],[1,\"#276419\"]]},\"xaxis\":{\"gridcolor\":\"white\",\"linecolor\":\"white\",\"ticks\":\"\",\"title\":{\"standoff\":15},\"zerolinecolor\":\"white\",\"automargin\":true,\"zerolinewidth\":2},\"yaxis\":{\"gridcolor\":\"white\",\"linecolor\":\"white\",\"ticks\":\"\",\"title\":{\"standoff\":15},\"zerolinecolor\":\"white\",\"automargin\":true,\"zerolinewidth\":2},\"scene\":{\"xaxis\":{\"backgroundcolor\":\"#E5ECF6\",\"gridcolor\":\"white\",\"linecolor\":\"white\",\"showbackground\":true,\"ticks\":\"\",\"zerolinecolor\":\"white\",\"gridwidth\":2},\"yaxis\":{\"backgroundcolor\":\"#E5ECF6\",\"gridcolor\":\"white\",\"linecolor\":\"white\",\"showbackground\":true,\"ticks\":\"\",\"zerolinecolor\":\"white\",\"gridwidth\":2},\"zaxis\":{\"backgroundcolor\":\"#E5ECF6\",\"gridcolor\":\"white\",\"linecolor\":\"white\",\"showbackground\":true,\"ticks\":\"\",\"zerolinecolor\":\"white\",\"gridwidth\":2}},\"shapedefaults\":{\"line\":{\"color\":\"#2a3f5f\"}},\"annotationdefaults\":{\"arrowcolor\":\"#2a3f5f\",\"arrowhead\":0,\"arrowwidth\":1},\"geo\":{\"bgcolor\":\"white\",\"landcolor\":\"#E5ECF6\",\"subunitcolor\":\"white\",\"showland\":true,\"showlakes\":true,\"lakecolor\":\"white\"},\"title\":{\"x\":0.05},\"mapbox\":{\"style\":\"light\"}}},\"xaxis\":{\"anchor\":\"y\",\"domain\":[0.0,1.0],\"title\":{\"text\":\"Time Period\",\"font\":{\"size\":18}}},\"yaxis\":{\"anchor\":\"x\",\"domain\":[0.0,1.0],\"title\":{\"text\":\"Average Value\",\"font\":{\"size\":18}}},\"legend\":{\"tracegroupgap\":0},\"title\":{\"text\":\"Rata-rata Value per year Value_Inflation\",\"font\":{\"size\":20}}},                        {\"responsive\": true}                    ).then(function(){\n",
       "                            \n",
       "var gd = document.getElementById('51cb08a9-fbc9-4c95-85f3-969d6edf8f0c');\n",
       "var x = new MutationObserver(function (mutations, observer) {{\n",
       "        var display = window.getComputedStyle(gd).display;\n",
       "        if (!display || display === 'none') {{\n",
       "            console.log([gd, 'removed!']);\n",
       "            Plotly.purge(gd);\n",
       "            observer.disconnect();\n",
       "        }}\n",
       "}});\n",
       "\n",
       "// Listen for the removal of the full notebook cells\n",
       "var notebookContainer = gd.closest('#notebook-container');\n",
       "if (notebookContainer) {{\n",
       "    x.observe(notebookContainer, {childList: true});\n",
       "}}\n",
       "\n",
       "// Listen for the clearing of the current output cell\n",
       "var outputEl = gd.closest('.output');\n",
       "if (outputEl) {{\n",
       "    x.observe(outputEl, {childList: true});\n",
       "}}\n",
       "\n",
       "                        })                };                });            </script>        </div>"
      ]
     },
     "metadata": {},
     "output_type": "display_data"
    },
    {
     "data": {
      "application/vnd.plotly.v1+json": {
       "config": {
        "plotlyServerURL": "https://plot.ly"
       },
       "data": [
        {
         "hovertemplate": "Year=%{x}<br>Value_Trade=%{y}<extra></extra>",
         "legendgroup": "",
         "line": {
          "color": "#636efa",
          "dash": "solid"
         },
         "marker": {
          "symbol": "circle"
         },
         "mode": "markers+lines",
         "name": "",
         "orientation": "v",
         "showlegend": false,
         "type": "scatter",
         "x": [
          2000,
          2001,
          2002,
          2003,
          2004,
          2005,
          2006,
          2007,
          2008,
          2009,
          2010,
          2011,
          2012,
          2013,
          2014,
          2015,
          2016,
          2017,
          2018,
          2019,
          2020,
          2021,
          2022,
          2023
         ],
         "xaxis": "x",
         "y": [
          77.54112726807692,
          76.70183763076923,
          79.2033028682243,
          80.61283690074418,
          84.31703024590698,
          87.13355680022936,
          88.54997522013636,
          90.14353121497737,
          94.46482851147321,
          82.97319579017858,
          86.88860707544643,
          91.58531403995575,
          89.71510601817778,
          89.31038154837005,
          88.28206422377193,
          85.0585842747826,
          83.02493734262008,
          85.43647097982533,
          87.58074551491228,
          86.46703744511112,
          78.60802069087501,
          86.23061355804523,
          93.11301191709005,
          88.66693956125444
         ],
         "yaxis": "y"
        }
       ],
       "layout": {
        "legend": {
         "tracegroupgap": 0
        },
        "template": {
         "data": {
          "bar": [
           {
            "error_x": {
             "color": "#2a3f5f"
            },
            "error_y": {
             "color": "#2a3f5f"
            },
            "marker": {
             "line": {
              "color": "#E5ECF6",
              "width": 0.5
             },
             "pattern": {
              "fillmode": "overlay",
              "size": 10,
              "solidity": 0.2
             }
            },
            "type": "bar"
           }
          ],
          "barpolar": [
           {
            "marker": {
             "line": {
              "color": "#E5ECF6",
              "width": 0.5
             },
             "pattern": {
              "fillmode": "overlay",
              "size": 10,
              "solidity": 0.2
             }
            },
            "type": "barpolar"
           }
          ],
          "carpet": [
           {
            "aaxis": {
             "endlinecolor": "#2a3f5f",
             "gridcolor": "white",
             "linecolor": "white",
             "minorgridcolor": "white",
             "startlinecolor": "#2a3f5f"
            },
            "baxis": {
             "endlinecolor": "#2a3f5f",
             "gridcolor": "white",
             "linecolor": "white",
             "minorgridcolor": "white",
             "startlinecolor": "#2a3f5f"
            },
            "type": "carpet"
           }
          ],
          "choropleth": [
           {
            "colorbar": {
             "outlinewidth": 0,
             "ticks": ""
            },
            "type": "choropleth"
           }
          ],
          "contour": [
           {
            "colorbar": {
             "outlinewidth": 0,
             "ticks": ""
            },
            "colorscale": [
             [
              0,
              "#0d0887"
             ],
             [
              0.1111111111111111,
              "#46039f"
             ],
             [
              0.2222222222222222,
              "#7201a8"
             ],
             [
              0.3333333333333333,
              "#9c179e"
             ],
             [
              0.4444444444444444,
              "#bd3786"
             ],
             [
              0.5555555555555556,
              "#d8576b"
             ],
             [
              0.6666666666666666,
              "#ed7953"
             ],
             [
              0.7777777777777778,
              "#fb9f3a"
             ],
             [
              0.8888888888888888,
              "#fdca26"
             ],
             [
              1,
              "#f0f921"
             ]
            ],
            "type": "contour"
           }
          ],
          "contourcarpet": [
           {
            "colorbar": {
             "outlinewidth": 0,
             "ticks": ""
            },
            "type": "contourcarpet"
           }
          ],
          "heatmap": [
           {
            "colorbar": {
             "outlinewidth": 0,
             "ticks": ""
            },
            "colorscale": [
             [
              0,
              "#0d0887"
             ],
             [
              0.1111111111111111,
              "#46039f"
             ],
             [
              0.2222222222222222,
              "#7201a8"
             ],
             [
              0.3333333333333333,
              "#9c179e"
             ],
             [
              0.4444444444444444,
              "#bd3786"
             ],
             [
              0.5555555555555556,
              "#d8576b"
             ],
             [
              0.6666666666666666,
              "#ed7953"
             ],
             [
              0.7777777777777778,
              "#fb9f3a"
             ],
             [
              0.8888888888888888,
              "#fdca26"
             ],
             [
              1,
              "#f0f921"
             ]
            ],
            "type": "heatmap"
           }
          ],
          "heatmapgl": [
           {
            "colorbar": {
             "outlinewidth": 0,
             "ticks": ""
            },
            "colorscale": [
             [
              0,
              "#0d0887"
             ],
             [
              0.1111111111111111,
              "#46039f"
             ],
             [
              0.2222222222222222,
              "#7201a8"
             ],
             [
              0.3333333333333333,
              "#9c179e"
             ],
             [
              0.4444444444444444,
              "#bd3786"
             ],
             [
              0.5555555555555556,
              "#d8576b"
             ],
             [
              0.6666666666666666,
              "#ed7953"
             ],
             [
              0.7777777777777778,
              "#fb9f3a"
             ],
             [
              0.8888888888888888,
              "#fdca26"
             ],
             [
              1,
              "#f0f921"
             ]
            ],
            "type": "heatmapgl"
           }
          ],
          "histogram": [
           {
            "marker": {
             "pattern": {
              "fillmode": "overlay",
              "size": 10,
              "solidity": 0.2
             }
            },
            "type": "histogram"
           }
          ],
          "histogram2d": [
           {
            "colorbar": {
             "outlinewidth": 0,
             "ticks": ""
            },
            "colorscale": [
             [
              0,
              "#0d0887"
             ],
             [
              0.1111111111111111,
              "#46039f"
             ],
             [
              0.2222222222222222,
              "#7201a8"
             ],
             [
              0.3333333333333333,
              "#9c179e"
             ],
             [
              0.4444444444444444,
              "#bd3786"
             ],
             [
              0.5555555555555556,
              "#d8576b"
             ],
             [
              0.6666666666666666,
              "#ed7953"
             ],
             [
              0.7777777777777778,
              "#fb9f3a"
             ],
             [
              0.8888888888888888,
              "#fdca26"
             ],
             [
              1,
              "#f0f921"
             ]
            ],
            "type": "histogram2d"
           }
          ],
          "histogram2dcontour": [
           {
            "colorbar": {
             "outlinewidth": 0,
             "ticks": ""
            },
            "colorscale": [
             [
              0,
              "#0d0887"
             ],
             [
              0.1111111111111111,
              "#46039f"
             ],
             [
              0.2222222222222222,
              "#7201a8"
             ],
             [
              0.3333333333333333,
              "#9c179e"
             ],
             [
              0.4444444444444444,
              "#bd3786"
             ],
             [
              0.5555555555555556,
              "#d8576b"
             ],
             [
              0.6666666666666666,
              "#ed7953"
             ],
             [
              0.7777777777777778,
              "#fb9f3a"
             ],
             [
              0.8888888888888888,
              "#fdca26"
             ],
             [
              1,
              "#f0f921"
             ]
            ],
            "type": "histogram2dcontour"
           }
          ],
          "mesh3d": [
           {
            "colorbar": {
             "outlinewidth": 0,
             "ticks": ""
            },
            "type": "mesh3d"
           }
          ],
          "parcoords": [
           {
            "line": {
             "colorbar": {
              "outlinewidth": 0,
              "ticks": ""
             }
            },
            "type": "parcoords"
           }
          ],
          "pie": [
           {
            "automargin": true,
            "type": "pie"
           }
          ],
          "scatter": [
           {
            "fillpattern": {
             "fillmode": "overlay",
             "size": 10,
             "solidity": 0.2
            },
            "type": "scatter"
           }
          ],
          "scatter3d": [
           {
            "line": {
             "colorbar": {
              "outlinewidth": 0,
              "ticks": ""
             }
            },
            "marker": {
             "colorbar": {
              "outlinewidth": 0,
              "ticks": ""
             }
            },
            "type": "scatter3d"
           }
          ],
          "scattercarpet": [
           {
            "marker": {
             "colorbar": {
              "outlinewidth": 0,
              "ticks": ""
             }
            },
            "type": "scattercarpet"
           }
          ],
          "scattergeo": [
           {
            "marker": {
             "colorbar": {
              "outlinewidth": 0,
              "ticks": ""
             }
            },
            "type": "scattergeo"
           }
          ],
          "scattergl": [
           {
            "marker": {
             "colorbar": {
              "outlinewidth": 0,
              "ticks": ""
             }
            },
            "type": "scattergl"
           }
          ],
          "scattermapbox": [
           {
            "marker": {
             "colorbar": {
              "outlinewidth": 0,
              "ticks": ""
             }
            },
            "type": "scattermapbox"
           }
          ],
          "scatterpolar": [
           {
            "marker": {
             "colorbar": {
              "outlinewidth": 0,
              "ticks": ""
             }
            },
            "type": "scatterpolar"
           }
          ],
          "scatterpolargl": [
           {
            "marker": {
             "colorbar": {
              "outlinewidth": 0,
              "ticks": ""
             }
            },
            "type": "scatterpolargl"
           }
          ],
          "scatterternary": [
           {
            "marker": {
             "colorbar": {
              "outlinewidth": 0,
              "ticks": ""
             }
            },
            "type": "scatterternary"
           }
          ],
          "surface": [
           {
            "colorbar": {
             "outlinewidth": 0,
             "ticks": ""
            },
            "colorscale": [
             [
              0,
              "#0d0887"
             ],
             [
              0.1111111111111111,
              "#46039f"
             ],
             [
              0.2222222222222222,
              "#7201a8"
             ],
             [
              0.3333333333333333,
              "#9c179e"
             ],
             [
              0.4444444444444444,
              "#bd3786"
             ],
             [
              0.5555555555555556,
              "#d8576b"
             ],
             [
              0.6666666666666666,
              "#ed7953"
             ],
             [
              0.7777777777777778,
              "#fb9f3a"
             ],
             [
              0.8888888888888888,
              "#fdca26"
             ],
             [
              1,
              "#f0f921"
             ]
            ],
            "type": "surface"
           }
          ],
          "table": [
           {
            "cells": {
             "fill": {
              "color": "#EBF0F8"
             },
             "line": {
              "color": "white"
             }
            },
            "header": {
             "fill": {
              "color": "#C8D4E3"
             },
             "line": {
              "color": "white"
             }
            },
            "type": "table"
           }
          ]
         },
         "layout": {
          "annotationdefaults": {
           "arrowcolor": "#2a3f5f",
           "arrowhead": 0,
           "arrowwidth": 1
          },
          "autotypenumbers": "strict",
          "coloraxis": {
           "colorbar": {
            "outlinewidth": 0,
            "ticks": ""
           }
          },
          "colorscale": {
           "diverging": [
            [
             0,
             "#8e0152"
            ],
            [
             0.1,
             "#c51b7d"
            ],
            [
             0.2,
             "#de77ae"
            ],
            [
             0.3,
             "#f1b6da"
            ],
            [
             0.4,
             "#fde0ef"
            ],
            [
             0.5,
             "#f7f7f7"
            ],
            [
             0.6,
             "#e6f5d0"
            ],
            [
             0.7,
             "#b8e186"
            ],
            [
             0.8,
             "#7fbc41"
            ],
            [
             0.9,
             "#4d9221"
            ],
            [
             1,
             "#276419"
            ]
           ],
           "sequential": [
            [
             0,
             "#0d0887"
            ],
            [
             0.1111111111111111,
             "#46039f"
            ],
            [
             0.2222222222222222,
             "#7201a8"
            ],
            [
             0.3333333333333333,
             "#9c179e"
            ],
            [
             0.4444444444444444,
             "#bd3786"
            ],
            [
             0.5555555555555556,
             "#d8576b"
            ],
            [
             0.6666666666666666,
             "#ed7953"
            ],
            [
             0.7777777777777778,
             "#fb9f3a"
            ],
            [
             0.8888888888888888,
             "#fdca26"
            ],
            [
             1,
             "#f0f921"
            ]
           ],
           "sequentialminus": [
            [
             0,
             "#0d0887"
            ],
            [
             0.1111111111111111,
             "#46039f"
            ],
            [
             0.2222222222222222,
             "#7201a8"
            ],
            [
             0.3333333333333333,
             "#9c179e"
            ],
            [
             0.4444444444444444,
             "#bd3786"
            ],
            [
             0.5555555555555556,
             "#d8576b"
            ],
            [
             0.6666666666666666,
             "#ed7953"
            ],
            [
             0.7777777777777778,
             "#fb9f3a"
            ],
            [
             0.8888888888888888,
             "#fdca26"
            ],
            [
             1,
             "#f0f921"
            ]
           ]
          },
          "colorway": [
           "#636efa",
           "#EF553B",
           "#00cc96",
           "#ab63fa",
           "#FFA15A",
           "#19d3f3",
           "#FF6692",
           "#B6E880",
           "#FF97FF",
           "#FECB52"
          ],
          "font": {
           "color": "#2a3f5f"
          },
          "geo": {
           "bgcolor": "white",
           "lakecolor": "white",
           "landcolor": "#E5ECF6",
           "showlakes": true,
           "showland": true,
           "subunitcolor": "white"
          },
          "hoverlabel": {
           "align": "left"
          },
          "hovermode": "closest",
          "mapbox": {
           "style": "light"
          },
          "paper_bgcolor": "white",
          "plot_bgcolor": "#E5ECF6",
          "polar": {
           "angularaxis": {
            "gridcolor": "white",
            "linecolor": "white",
            "ticks": ""
           },
           "bgcolor": "#E5ECF6",
           "radialaxis": {
            "gridcolor": "white",
            "linecolor": "white",
            "ticks": ""
           }
          },
          "scene": {
           "xaxis": {
            "backgroundcolor": "#E5ECF6",
            "gridcolor": "white",
            "gridwidth": 2,
            "linecolor": "white",
            "showbackground": true,
            "ticks": "",
            "zerolinecolor": "white"
           },
           "yaxis": {
            "backgroundcolor": "#E5ECF6",
            "gridcolor": "white",
            "gridwidth": 2,
            "linecolor": "white",
            "showbackground": true,
            "ticks": "",
            "zerolinecolor": "white"
           },
           "zaxis": {
            "backgroundcolor": "#E5ECF6",
            "gridcolor": "white",
            "gridwidth": 2,
            "linecolor": "white",
            "showbackground": true,
            "ticks": "",
            "zerolinecolor": "white"
           }
          },
          "shapedefaults": {
           "line": {
            "color": "#2a3f5f"
           }
          },
          "ternary": {
           "aaxis": {
            "gridcolor": "white",
            "linecolor": "white",
            "ticks": ""
           },
           "baxis": {
            "gridcolor": "white",
            "linecolor": "white",
            "ticks": ""
           },
           "bgcolor": "#E5ECF6",
           "caxis": {
            "gridcolor": "white",
            "linecolor": "white",
            "ticks": ""
           }
          },
          "title": {
           "x": 0.05
          },
          "xaxis": {
           "automargin": true,
           "gridcolor": "white",
           "linecolor": "white",
           "ticks": "",
           "title": {
            "standoff": 15
           },
           "zerolinecolor": "white",
           "zerolinewidth": 2
          },
          "yaxis": {
           "automargin": true,
           "gridcolor": "white",
           "linecolor": "white",
           "ticks": "",
           "title": {
            "standoff": 15
           },
           "zerolinecolor": "white",
           "zerolinewidth": 2
          }
         }
        },
        "title": {
         "font": {
          "size": 20
         },
         "text": "Rata-rata Value per year Value_Trade"
        },
        "xaxis": {
         "anchor": "y",
         "domain": [
          0,
          1
         ],
         "title": {
          "font": {
           "size": 18
          },
          "text": "Time Period"
         }
        },
        "yaxis": {
         "anchor": "x",
         "domain": [
          0,
          1
         ],
         "title": {
          "font": {
           "size": 18
          },
          "text": "Average Value"
         }
        }
       }
      },
      "text/html": [
       "<div>                            <div id=\"1a1069f4-bcaa-4838-bb8a-b83f4463a4a0\" class=\"plotly-graph-div\" style=\"height:525px; width:100%;\"></div>            <script type=\"text/javascript\">                require([\"plotly\"], function(Plotly) {                    window.PLOTLYENV=window.PLOTLYENV || {};                                    if (document.getElementById(\"1a1069f4-bcaa-4838-bb8a-b83f4463a4a0\")) {                    Plotly.newPlot(                        \"1a1069f4-bcaa-4838-bb8a-b83f4463a4a0\",                        [{\"hovertemplate\":\"Year=%{x}\\u003cbr\\u003eValue_Trade=%{y}\\u003cextra\\u003e\\u003c\\u002fextra\\u003e\",\"legendgroup\":\"\",\"line\":{\"color\":\"#636efa\",\"dash\":\"solid\"},\"marker\":{\"symbol\":\"circle\"},\"mode\":\"markers+lines\",\"name\":\"\",\"orientation\":\"v\",\"showlegend\":false,\"x\":[2000,2001,2002,2003,2004,2005,2006,2007,2008,2009,2010,2011,2012,2013,2014,2015,2016,2017,2018,2019,2020,2021,2022,2023],\"xaxis\":\"x\",\"y\":[77.54112726807692,76.70183763076923,79.2033028682243,80.61283690074418,84.31703024590698,87.13355680022936,88.54997522013636,90.14353121497737,94.46482851147321,82.97319579017858,86.88860707544643,91.58531403995575,89.71510601817778,89.31038154837005,88.28206422377193,85.0585842747826,83.02493734262008,85.43647097982533,87.58074551491228,86.46703744511112,78.60802069087501,86.23061355804523,93.11301191709005,88.66693956125444],\"yaxis\":\"y\",\"type\":\"scatter\"}],                        {\"template\":{\"data\":{\"histogram2dcontour\":[{\"type\":\"histogram2dcontour\",\"colorbar\":{\"outlinewidth\":0,\"ticks\":\"\"},\"colorscale\":[[0.0,\"#0d0887\"],[0.1111111111111111,\"#46039f\"],[0.2222222222222222,\"#7201a8\"],[0.3333333333333333,\"#9c179e\"],[0.4444444444444444,\"#bd3786\"],[0.5555555555555556,\"#d8576b\"],[0.6666666666666666,\"#ed7953\"],[0.7777777777777778,\"#fb9f3a\"],[0.8888888888888888,\"#fdca26\"],[1.0,\"#f0f921\"]]}],\"choropleth\":[{\"type\":\"choropleth\",\"colorbar\":{\"outlinewidth\":0,\"ticks\":\"\"}}],\"histogram2d\":[{\"type\":\"histogram2d\",\"colorbar\":{\"outlinewidth\":0,\"ticks\":\"\"},\"colorscale\":[[0.0,\"#0d0887\"],[0.1111111111111111,\"#46039f\"],[0.2222222222222222,\"#7201a8\"],[0.3333333333333333,\"#9c179e\"],[0.4444444444444444,\"#bd3786\"],[0.5555555555555556,\"#d8576b\"],[0.6666666666666666,\"#ed7953\"],[0.7777777777777778,\"#fb9f3a\"],[0.8888888888888888,\"#fdca26\"],[1.0,\"#f0f921\"]]}],\"heatmap\":[{\"type\":\"heatmap\",\"colorbar\":{\"outlinewidth\":0,\"ticks\":\"\"},\"colorscale\":[[0.0,\"#0d0887\"],[0.1111111111111111,\"#46039f\"],[0.2222222222222222,\"#7201a8\"],[0.3333333333333333,\"#9c179e\"],[0.4444444444444444,\"#bd3786\"],[0.5555555555555556,\"#d8576b\"],[0.6666666666666666,\"#ed7953\"],[0.7777777777777778,\"#fb9f3a\"],[0.8888888888888888,\"#fdca26\"],[1.0,\"#f0f921\"]]}],\"heatmapgl\":[{\"type\":\"heatmapgl\",\"colorbar\":{\"outlinewidth\":0,\"ticks\":\"\"},\"colorscale\":[[0.0,\"#0d0887\"],[0.1111111111111111,\"#46039f\"],[0.2222222222222222,\"#7201a8\"],[0.3333333333333333,\"#9c179e\"],[0.4444444444444444,\"#bd3786\"],[0.5555555555555556,\"#d8576b\"],[0.6666666666666666,\"#ed7953\"],[0.7777777777777778,\"#fb9f3a\"],[0.8888888888888888,\"#fdca26\"],[1.0,\"#f0f921\"]]}],\"contourcarpet\":[{\"type\":\"contourcarpet\",\"colorbar\":{\"outlinewidth\":0,\"ticks\":\"\"}}],\"contour\":[{\"type\":\"contour\",\"colorbar\":{\"outlinewidth\":0,\"ticks\":\"\"},\"colorscale\":[[0.0,\"#0d0887\"],[0.1111111111111111,\"#46039f\"],[0.2222222222222222,\"#7201a8\"],[0.3333333333333333,\"#9c179e\"],[0.4444444444444444,\"#bd3786\"],[0.5555555555555556,\"#d8576b\"],[0.6666666666666666,\"#ed7953\"],[0.7777777777777778,\"#fb9f3a\"],[0.8888888888888888,\"#fdca26\"],[1.0,\"#f0f921\"]]}],\"surface\":[{\"type\":\"surface\",\"colorbar\":{\"outlinewidth\":0,\"ticks\":\"\"},\"colorscale\":[[0.0,\"#0d0887\"],[0.1111111111111111,\"#46039f\"],[0.2222222222222222,\"#7201a8\"],[0.3333333333333333,\"#9c179e\"],[0.4444444444444444,\"#bd3786\"],[0.5555555555555556,\"#d8576b\"],[0.6666666666666666,\"#ed7953\"],[0.7777777777777778,\"#fb9f3a\"],[0.8888888888888888,\"#fdca26\"],[1.0,\"#f0f921\"]]}],\"mesh3d\":[{\"type\":\"mesh3d\",\"colorbar\":{\"outlinewidth\":0,\"ticks\":\"\"}}],\"scatter\":[{\"fillpattern\":{\"fillmode\":\"overlay\",\"size\":10,\"solidity\":0.2},\"type\":\"scatter\"}],\"parcoords\":[{\"type\":\"parcoords\",\"line\":{\"colorbar\":{\"outlinewidth\":0,\"ticks\":\"\"}}}],\"scatterpolargl\":[{\"type\":\"scatterpolargl\",\"marker\":{\"colorbar\":{\"outlinewidth\":0,\"ticks\":\"\"}}}],\"bar\":[{\"error_x\":{\"color\":\"#2a3f5f\"},\"error_y\":{\"color\":\"#2a3f5f\"},\"marker\":{\"line\":{\"color\":\"#E5ECF6\",\"width\":0.5},\"pattern\":{\"fillmode\":\"overlay\",\"size\":10,\"solidity\":0.2}},\"type\":\"bar\"}],\"scattergeo\":[{\"type\":\"scattergeo\",\"marker\":{\"colorbar\":{\"outlinewidth\":0,\"ticks\":\"\"}}}],\"scatterpolar\":[{\"type\":\"scatterpolar\",\"marker\":{\"colorbar\":{\"outlinewidth\":0,\"ticks\":\"\"}}}],\"histogram\":[{\"marker\":{\"pattern\":{\"fillmode\":\"overlay\",\"size\":10,\"solidity\":0.2}},\"type\":\"histogram\"}],\"scattergl\":[{\"type\":\"scattergl\",\"marker\":{\"colorbar\":{\"outlinewidth\":0,\"ticks\":\"\"}}}],\"scatter3d\":[{\"type\":\"scatter3d\",\"line\":{\"colorbar\":{\"outlinewidth\":0,\"ticks\":\"\"}},\"marker\":{\"colorbar\":{\"outlinewidth\":0,\"ticks\":\"\"}}}],\"scattermapbox\":[{\"type\":\"scattermapbox\",\"marker\":{\"colorbar\":{\"outlinewidth\":0,\"ticks\":\"\"}}}],\"scatterternary\":[{\"type\":\"scatterternary\",\"marker\":{\"colorbar\":{\"outlinewidth\":0,\"ticks\":\"\"}}}],\"scattercarpet\":[{\"type\":\"scattercarpet\",\"marker\":{\"colorbar\":{\"outlinewidth\":0,\"ticks\":\"\"}}}],\"carpet\":[{\"aaxis\":{\"endlinecolor\":\"#2a3f5f\",\"gridcolor\":\"white\",\"linecolor\":\"white\",\"minorgridcolor\":\"white\",\"startlinecolor\":\"#2a3f5f\"},\"baxis\":{\"endlinecolor\":\"#2a3f5f\",\"gridcolor\":\"white\",\"linecolor\":\"white\",\"minorgridcolor\":\"white\",\"startlinecolor\":\"#2a3f5f\"},\"type\":\"carpet\"}],\"table\":[{\"cells\":{\"fill\":{\"color\":\"#EBF0F8\"},\"line\":{\"color\":\"white\"}},\"header\":{\"fill\":{\"color\":\"#C8D4E3\"},\"line\":{\"color\":\"white\"}},\"type\":\"table\"}],\"barpolar\":[{\"marker\":{\"line\":{\"color\":\"#E5ECF6\",\"width\":0.5},\"pattern\":{\"fillmode\":\"overlay\",\"size\":10,\"solidity\":0.2}},\"type\":\"barpolar\"}],\"pie\":[{\"automargin\":true,\"type\":\"pie\"}]},\"layout\":{\"autotypenumbers\":\"strict\",\"colorway\":[\"#636efa\",\"#EF553B\",\"#00cc96\",\"#ab63fa\",\"#FFA15A\",\"#19d3f3\",\"#FF6692\",\"#B6E880\",\"#FF97FF\",\"#FECB52\"],\"font\":{\"color\":\"#2a3f5f\"},\"hovermode\":\"closest\",\"hoverlabel\":{\"align\":\"left\"},\"paper_bgcolor\":\"white\",\"plot_bgcolor\":\"#E5ECF6\",\"polar\":{\"bgcolor\":\"#E5ECF6\",\"angularaxis\":{\"gridcolor\":\"white\",\"linecolor\":\"white\",\"ticks\":\"\"},\"radialaxis\":{\"gridcolor\":\"white\",\"linecolor\":\"white\",\"ticks\":\"\"}},\"ternary\":{\"bgcolor\":\"#E5ECF6\",\"aaxis\":{\"gridcolor\":\"white\",\"linecolor\":\"white\",\"ticks\":\"\"},\"baxis\":{\"gridcolor\":\"white\",\"linecolor\":\"white\",\"ticks\":\"\"},\"caxis\":{\"gridcolor\":\"white\",\"linecolor\":\"white\",\"ticks\":\"\"}},\"coloraxis\":{\"colorbar\":{\"outlinewidth\":0,\"ticks\":\"\"}},\"colorscale\":{\"sequential\":[[0.0,\"#0d0887\"],[0.1111111111111111,\"#46039f\"],[0.2222222222222222,\"#7201a8\"],[0.3333333333333333,\"#9c179e\"],[0.4444444444444444,\"#bd3786\"],[0.5555555555555556,\"#d8576b\"],[0.6666666666666666,\"#ed7953\"],[0.7777777777777778,\"#fb9f3a\"],[0.8888888888888888,\"#fdca26\"],[1.0,\"#f0f921\"]],\"sequentialminus\":[[0.0,\"#0d0887\"],[0.1111111111111111,\"#46039f\"],[0.2222222222222222,\"#7201a8\"],[0.3333333333333333,\"#9c179e\"],[0.4444444444444444,\"#bd3786\"],[0.5555555555555556,\"#d8576b\"],[0.6666666666666666,\"#ed7953\"],[0.7777777777777778,\"#fb9f3a\"],[0.8888888888888888,\"#fdca26\"],[1.0,\"#f0f921\"]],\"diverging\":[[0,\"#8e0152\"],[0.1,\"#c51b7d\"],[0.2,\"#de77ae\"],[0.3,\"#f1b6da\"],[0.4,\"#fde0ef\"],[0.5,\"#f7f7f7\"],[0.6,\"#e6f5d0\"],[0.7,\"#b8e186\"],[0.8,\"#7fbc41\"],[0.9,\"#4d9221\"],[1,\"#276419\"]]},\"xaxis\":{\"gridcolor\":\"white\",\"linecolor\":\"white\",\"ticks\":\"\",\"title\":{\"standoff\":15},\"zerolinecolor\":\"white\",\"automargin\":true,\"zerolinewidth\":2},\"yaxis\":{\"gridcolor\":\"white\",\"linecolor\":\"white\",\"ticks\":\"\",\"title\":{\"standoff\":15},\"zerolinecolor\":\"white\",\"automargin\":true,\"zerolinewidth\":2},\"scene\":{\"xaxis\":{\"backgroundcolor\":\"#E5ECF6\",\"gridcolor\":\"white\",\"linecolor\":\"white\",\"showbackground\":true,\"ticks\":\"\",\"zerolinecolor\":\"white\",\"gridwidth\":2},\"yaxis\":{\"backgroundcolor\":\"#E5ECF6\",\"gridcolor\":\"white\",\"linecolor\":\"white\",\"showbackground\":true,\"ticks\":\"\",\"zerolinecolor\":\"white\",\"gridwidth\":2},\"zaxis\":{\"backgroundcolor\":\"#E5ECF6\",\"gridcolor\":\"white\",\"linecolor\":\"white\",\"showbackground\":true,\"ticks\":\"\",\"zerolinecolor\":\"white\",\"gridwidth\":2}},\"shapedefaults\":{\"line\":{\"color\":\"#2a3f5f\"}},\"annotationdefaults\":{\"arrowcolor\":\"#2a3f5f\",\"arrowhead\":0,\"arrowwidth\":1},\"geo\":{\"bgcolor\":\"white\",\"landcolor\":\"#E5ECF6\",\"subunitcolor\":\"white\",\"showland\":true,\"showlakes\":true,\"lakecolor\":\"white\"},\"title\":{\"x\":0.05},\"mapbox\":{\"style\":\"light\"}}},\"xaxis\":{\"anchor\":\"y\",\"domain\":[0.0,1.0],\"title\":{\"text\":\"Time Period\",\"font\":{\"size\":18}}},\"yaxis\":{\"anchor\":\"x\",\"domain\":[0.0,1.0],\"title\":{\"text\":\"Average Value\",\"font\":{\"size\":18}}},\"legend\":{\"tracegroupgap\":0},\"title\":{\"text\":\"Rata-rata Value per year Value_Trade\",\"font\":{\"size\":20}}},                        {\"responsive\": true}                    ).then(function(){\n",
       "                            \n",
       "var gd = document.getElementById('1a1069f4-bcaa-4838-bb8a-b83f4463a4a0');\n",
       "var x = new MutationObserver(function (mutations, observer) {{\n",
       "        var display = window.getComputedStyle(gd).display;\n",
       "        if (!display || display === 'none') {{\n",
       "            console.log([gd, 'removed!']);\n",
       "            Plotly.purge(gd);\n",
       "            observer.disconnect();\n",
       "        }}\n",
       "}});\n",
       "\n",
       "// Listen for the removal of the full notebook cells\n",
       "var notebookContainer = gd.closest('#notebook-container');\n",
       "if (notebookContainer) {{\n",
       "    x.observe(notebookContainer, {childList: true});\n",
       "}}\n",
       "\n",
       "// Listen for the clearing of the current output cell\n",
       "var outputEl = gd.closest('.output');\n",
       "if (outputEl) {{\n",
       "    x.observe(outputEl, {childList: true});\n",
       "}}\n",
       "\n",
       "                        })                };                });            </script>        </div>"
      ]
     },
     "metadata": {},
     "output_type": "display_data"
    },
    {
     "data": {
      "application/vnd.plotly.v1+json": {
       "config": {
        "plotlyServerURL": "https://plot.ly"
       },
       "data": [
        {
         "hovertemplate": "Year=%{x}<br>Value_Unemployment=%{y}<extra></extra>",
         "legendgroup": "",
         "line": {
          "color": "#636efa",
          "dash": "solid"
         },
         "marker": {
          "symbol": "circle"
         },
         "mode": "markers+lines",
         "name": "",
         "orientation": "v",
         "showlegend": false,
         "type": "scatter",
         "x": [
          2000,
          2001,
          2002,
          2003,
          2004,
          2005,
          2006,
          2007,
          2008,
          2009,
          2010,
          2011,
          2012,
          2013,
          2014,
          2015,
          2016,
          2017,
          2018,
          2019,
          2020,
          2021,
          2022,
          2023
         ],
         "xaxis": "x",
         "y": [
          8.408252065161701,
          8.400135101421276,
          8.548348085497873,
          8.532200210761703,
          8.332347069348936,
          8.099407756021277,
          7.683083114617021,
          7.315807052421277,
          7.194164379268085,
          7.938642187855319,
          8.06280790719149,
          8.000277748234042,
          8.054897945897872,
          8.065292210212766,
          7.89499941593617,
          7.829691749493617,
          7.700425420089362,
          7.490447109523404,
          7.224789262646809,
          7.082030149038298,
          8.130704131382979,
          7.814761842,
          7.014325934153846,
          6.749444888618026
         ],
         "yaxis": "y"
        }
       ],
       "layout": {
        "legend": {
         "tracegroupgap": 0
        },
        "template": {
         "data": {
          "bar": [
           {
            "error_x": {
             "color": "#2a3f5f"
            },
            "error_y": {
             "color": "#2a3f5f"
            },
            "marker": {
             "line": {
              "color": "#E5ECF6",
              "width": 0.5
             },
             "pattern": {
              "fillmode": "overlay",
              "size": 10,
              "solidity": 0.2
             }
            },
            "type": "bar"
           }
          ],
          "barpolar": [
           {
            "marker": {
             "line": {
              "color": "#E5ECF6",
              "width": 0.5
             },
             "pattern": {
              "fillmode": "overlay",
              "size": 10,
              "solidity": 0.2
             }
            },
            "type": "barpolar"
           }
          ],
          "carpet": [
           {
            "aaxis": {
             "endlinecolor": "#2a3f5f",
             "gridcolor": "white",
             "linecolor": "white",
             "minorgridcolor": "white",
             "startlinecolor": "#2a3f5f"
            },
            "baxis": {
             "endlinecolor": "#2a3f5f",
             "gridcolor": "white",
             "linecolor": "white",
             "minorgridcolor": "white",
             "startlinecolor": "#2a3f5f"
            },
            "type": "carpet"
           }
          ],
          "choropleth": [
           {
            "colorbar": {
             "outlinewidth": 0,
             "ticks": ""
            },
            "type": "choropleth"
           }
          ],
          "contour": [
           {
            "colorbar": {
             "outlinewidth": 0,
             "ticks": ""
            },
            "colorscale": [
             [
              0,
              "#0d0887"
             ],
             [
              0.1111111111111111,
              "#46039f"
             ],
             [
              0.2222222222222222,
              "#7201a8"
             ],
             [
              0.3333333333333333,
              "#9c179e"
             ],
             [
              0.4444444444444444,
              "#bd3786"
             ],
             [
              0.5555555555555556,
              "#d8576b"
             ],
             [
              0.6666666666666666,
              "#ed7953"
             ],
             [
              0.7777777777777778,
              "#fb9f3a"
             ],
             [
              0.8888888888888888,
              "#fdca26"
             ],
             [
              1,
              "#f0f921"
             ]
            ],
            "type": "contour"
           }
          ],
          "contourcarpet": [
           {
            "colorbar": {
             "outlinewidth": 0,
             "ticks": ""
            },
            "type": "contourcarpet"
           }
          ],
          "heatmap": [
           {
            "colorbar": {
             "outlinewidth": 0,
             "ticks": ""
            },
            "colorscale": [
             [
              0,
              "#0d0887"
             ],
             [
              0.1111111111111111,
              "#46039f"
             ],
             [
              0.2222222222222222,
              "#7201a8"
             ],
             [
              0.3333333333333333,
              "#9c179e"
             ],
             [
              0.4444444444444444,
              "#bd3786"
             ],
             [
              0.5555555555555556,
              "#d8576b"
             ],
             [
              0.6666666666666666,
              "#ed7953"
             ],
             [
              0.7777777777777778,
              "#fb9f3a"
             ],
             [
              0.8888888888888888,
              "#fdca26"
             ],
             [
              1,
              "#f0f921"
             ]
            ],
            "type": "heatmap"
           }
          ],
          "heatmapgl": [
           {
            "colorbar": {
             "outlinewidth": 0,
             "ticks": ""
            },
            "colorscale": [
             [
              0,
              "#0d0887"
             ],
             [
              0.1111111111111111,
              "#46039f"
             ],
             [
              0.2222222222222222,
              "#7201a8"
             ],
             [
              0.3333333333333333,
              "#9c179e"
             ],
             [
              0.4444444444444444,
              "#bd3786"
             ],
             [
              0.5555555555555556,
              "#d8576b"
             ],
             [
              0.6666666666666666,
              "#ed7953"
             ],
             [
              0.7777777777777778,
              "#fb9f3a"
             ],
             [
              0.8888888888888888,
              "#fdca26"
             ],
             [
              1,
              "#f0f921"
             ]
            ],
            "type": "heatmapgl"
           }
          ],
          "histogram": [
           {
            "marker": {
             "pattern": {
              "fillmode": "overlay",
              "size": 10,
              "solidity": 0.2
             }
            },
            "type": "histogram"
           }
          ],
          "histogram2d": [
           {
            "colorbar": {
             "outlinewidth": 0,
             "ticks": ""
            },
            "colorscale": [
             [
              0,
              "#0d0887"
             ],
             [
              0.1111111111111111,
              "#46039f"
             ],
             [
              0.2222222222222222,
              "#7201a8"
             ],
             [
              0.3333333333333333,
              "#9c179e"
             ],
             [
              0.4444444444444444,
              "#bd3786"
             ],
             [
              0.5555555555555556,
              "#d8576b"
             ],
             [
              0.6666666666666666,
              "#ed7953"
             ],
             [
              0.7777777777777778,
              "#fb9f3a"
             ],
             [
              0.8888888888888888,
              "#fdca26"
             ],
             [
              1,
              "#f0f921"
             ]
            ],
            "type": "histogram2d"
           }
          ],
          "histogram2dcontour": [
           {
            "colorbar": {
             "outlinewidth": 0,
             "ticks": ""
            },
            "colorscale": [
             [
              0,
              "#0d0887"
             ],
             [
              0.1111111111111111,
              "#46039f"
             ],
             [
              0.2222222222222222,
              "#7201a8"
             ],
             [
              0.3333333333333333,
              "#9c179e"
             ],
             [
              0.4444444444444444,
              "#bd3786"
             ],
             [
              0.5555555555555556,
              "#d8576b"
             ],
             [
              0.6666666666666666,
              "#ed7953"
             ],
             [
              0.7777777777777778,
              "#fb9f3a"
             ],
             [
              0.8888888888888888,
              "#fdca26"
             ],
             [
              1,
              "#f0f921"
             ]
            ],
            "type": "histogram2dcontour"
           }
          ],
          "mesh3d": [
           {
            "colorbar": {
             "outlinewidth": 0,
             "ticks": ""
            },
            "type": "mesh3d"
           }
          ],
          "parcoords": [
           {
            "line": {
             "colorbar": {
              "outlinewidth": 0,
              "ticks": ""
             }
            },
            "type": "parcoords"
           }
          ],
          "pie": [
           {
            "automargin": true,
            "type": "pie"
           }
          ],
          "scatter": [
           {
            "fillpattern": {
             "fillmode": "overlay",
             "size": 10,
             "solidity": 0.2
            },
            "type": "scatter"
           }
          ],
          "scatter3d": [
           {
            "line": {
             "colorbar": {
              "outlinewidth": 0,
              "ticks": ""
             }
            },
            "marker": {
             "colorbar": {
              "outlinewidth": 0,
              "ticks": ""
             }
            },
            "type": "scatter3d"
           }
          ],
          "scattercarpet": [
           {
            "marker": {
             "colorbar": {
              "outlinewidth": 0,
              "ticks": ""
             }
            },
            "type": "scattercarpet"
           }
          ],
          "scattergeo": [
           {
            "marker": {
             "colorbar": {
              "outlinewidth": 0,
              "ticks": ""
             }
            },
            "type": "scattergeo"
           }
          ],
          "scattergl": [
           {
            "marker": {
             "colorbar": {
              "outlinewidth": 0,
              "ticks": ""
             }
            },
            "type": "scattergl"
           }
          ],
          "scattermapbox": [
           {
            "marker": {
             "colorbar": {
              "outlinewidth": 0,
              "ticks": ""
             }
            },
            "type": "scattermapbox"
           }
          ],
          "scatterpolar": [
           {
            "marker": {
             "colorbar": {
              "outlinewidth": 0,
              "ticks": ""
             }
            },
            "type": "scatterpolar"
           }
          ],
          "scatterpolargl": [
           {
            "marker": {
             "colorbar": {
              "outlinewidth": 0,
              "ticks": ""
             }
            },
            "type": "scatterpolargl"
           }
          ],
          "scatterternary": [
           {
            "marker": {
             "colorbar": {
              "outlinewidth": 0,
              "ticks": ""
             }
            },
            "type": "scatterternary"
           }
          ],
          "surface": [
           {
            "colorbar": {
             "outlinewidth": 0,
             "ticks": ""
            },
            "colorscale": [
             [
              0,
              "#0d0887"
             ],
             [
              0.1111111111111111,
              "#46039f"
             ],
             [
              0.2222222222222222,
              "#7201a8"
             ],
             [
              0.3333333333333333,
              "#9c179e"
             ],
             [
              0.4444444444444444,
              "#bd3786"
             ],
             [
              0.5555555555555556,
              "#d8576b"
             ],
             [
              0.6666666666666666,
              "#ed7953"
             ],
             [
              0.7777777777777778,
              "#fb9f3a"
             ],
             [
              0.8888888888888888,
              "#fdca26"
             ],
             [
              1,
              "#f0f921"
             ]
            ],
            "type": "surface"
           }
          ],
          "table": [
           {
            "cells": {
             "fill": {
              "color": "#EBF0F8"
             },
             "line": {
              "color": "white"
             }
            },
            "header": {
             "fill": {
              "color": "#C8D4E3"
             },
             "line": {
              "color": "white"
             }
            },
            "type": "table"
           }
          ]
         },
         "layout": {
          "annotationdefaults": {
           "arrowcolor": "#2a3f5f",
           "arrowhead": 0,
           "arrowwidth": 1
          },
          "autotypenumbers": "strict",
          "coloraxis": {
           "colorbar": {
            "outlinewidth": 0,
            "ticks": ""
           }
          },
          "colorscale": {
           "diverging": [
            [
             0,
             "#8e0152"
            ],
            [
             0.1,
             "#c51b7d"
            ],
            [
             0.2,
             "#de77ae"
            ],
            [
             0.3,
             "#f1b6da"
            ],
            [
             0.4,
             "#fde0ef"
            ],
            [
             0.5,
             "#f7f7f7"
            ],
            [
             0.6,
             "#e6f5d0"
            ],
            [
             0.7,
             "#b8e186"
            ],
            [
             0.8,
             "#7fbc41"
            ],
            [
             0.9,
             "#4d9221"
            ],
            [
             1,
             "#276419"
            ]
           ],
           "sequential": [
            [
             0,
             "#0d0887"
            ],
            [
             0.1111111111111111,
             "#46039f"
            ],
            [
             0.2222222222222222,
             "#7201a8"
            ],
            [
             0.3333333333333333,
             "#9c179e"
            ],
            [
             0.4444444444444444,
             "#bd3786"
            ],
            [
             0.5555555555555556,
             "#d8576b"
            ],
            [
             0.6666666666666666,
             "#ed7953"
            ],
            [
             0.7777777777777778,
             "#fb9f3a"
            ],
            [
             0.8888888888888888,
             "#fdca26"
            ],
            [
             1,
             "#f0f921"
            ]
           ],
           "sequentialminus": [
            [
             0,
             "#0d0887"
            ],
            [
             0.1111111111111111,
             "#46039f"
            ],
            [
             0.2222222222222222,
             "#7201a8"
            ],
            [
             0.3333333333333333,
             "#9c179e"
            ],
            [
             0.4444444444444444,
             "#bd3786"
            ],
            [
             0.5555555555555556,
             "#d8576b"
            ],
            [
             0.6666666666666666,
             "#ed7953"
            ],
            [
             0.7777777777777778,
             "#fb9f3a"
            ],
            [
             0.8888888888888888,
             "#fdca26"
            ],
            [
             1,
             "#f0f921"
            ]
           ]
          },
          "colorway": [
           "#636efa",
           "#EF553B",
           "#00cc96",
           "#ab63fa",
           "#FFA15A",
           "#19d3f3",
           "#FF6692",
           "#B6E880",
           "#FF97FF",
           "#FECB52"
          ],
          "font": {
           "color": "#2a3f5f"
          },
          "geo": {
           "bgcolor": "white",
           "lakecolor": "white",
           "landcolor": "#E5ECF6",
           "showlakes": true,
           "showland": true,
           "subunitcolor": "white"
          },
          "hoverlabel": {
           "align": "left"
          },
          "hovermode": "closest",
          "mapbox": {
           "style": "light"
          },
          "paper_bgcolor": "white",
          "plot_bgcolor": "#E5ECF6",
          "polar": {
           "angularaxis": {
            "gridcolor": "white",
            "linecolor": "white",
            "ticks": ""
           },
           "bgcolor": "#E5ECF6",
           "radialaxis": {
            "gridcolor": "white",
            "linecolor": "white",
            "ticks": ""
           }
          },
          "scene": {
           "xaxis": {
            "backgroundcolor": "#E5ECF6",
            "gridcolor": "white",
            "gridwidth": 2,
            "linecolor": "white",
            "showbackground": true,
            "ticks": "",
            "zerolinecolor": "white"
           },
           "yaxis": {
            "backgroundcolor": "#E5ECF6",
            "gridcolor": "white",
            "gridwidth": 2,
            "linecolor": "white",
            "showbackground": true,
            "ticks": "",
            "zerolinecolor": "white"
           },
           "zaxis": {
            "backgroundcolor": "#E5ECF6",
            "gridcolor": "white",
            "gridwidth": 2,
            "linecolor": "white",
            "showbackground": true,
            "ticks": "",
            "zerolinecolor": "white"
           }
          },
          "shapedefaults": {
           "line": {
            "color": "#2a3f5f"
           }
          },
          "ternary": {
           "aaxis": {
            "gridcolor": "white",
            "linecolor": "white",
            "ticks": ""
           },
           "baxis": {
            "gridcolor": "white",
            "linecolor": "white",
            "ticks": ""
           },
           "bgcolor": "#E5ECF6",
           "caxis": {
            "gridcolor": "white",
            "linecolor": "white",
            "ticks": ""
           }
          },
          "title": {
           "x": 0.05
          },
          "xaxis": {
           "automargin": true,
           "gridcolor": "white",
           "linecolor": "white",
           "ticks": "",
           "title": {
            "standoff": 15
           },
           "zerolinecolor": "white",
           "zerolinewidth": 2
          },
          "yaxis": {
           "automargin": true,
           "gridcolor": "white",
           "linecolor": "white",
           "ticks": "",
           "title": {
            "standoff": 15
           },
           "zerolinecolor": "white",
           "zerolinewidth": 2
          }
         }
        },
        "title": {
         "font": {
          "size": 20
         },
         "text": "Rata-rata Value per year Value_Unemployment"
        },
        "xaxis": {
         "anchor": "y",
         "domain": [
          0,
          1
         ],
         "title": {
          "font": {
           "size": 18
          },
          "text": "Time Period"
         }
        },
        "yaxis": {
         "anchor": "x",
         "domain": [
          0,
          1
         ],
         "title": {
          "font": {
           "size": 18
          },
          "text": "Average Value"
         }
        }
       }
      },
      "text/html": [
       "<div>                            <div id=\"d8d25c21-6065-4c4e-a6b4-c29a4ddb6a7b\" class=\"plotly-graph-div\" style=\"height:525px; width:100%;\"></div>            <script type=\"text/javascript\">                require([\"plotly\"], function(Plotly) {                    window.PLOTLYENV=window.PLOTLYENV || {};                                    if (document.getElementById(\"d8d25c21-6065-4c4e-a6b4-c29a4ddb6a7b\")) {                    Plotly.newPlot(                        \"d8d25c21-6065-4c4e-a6b4-c29a4ddb6a7b\",                        [{\"hovertemplate\":\"Year=%{x}\\u003cbr\\u003eValue_Unemployment=%{y}\\u003cextra\\u003e\\u003c\\u002fextra\\u003e\",\"legendgroup\":\"\",\"line\":{\"color\":\"#636efa\",\"dash\":\"solid\"},\"marker\":{\"symbol\":\"circle\"},\"mode\":\"markers+lines\",\"name\":\"\",\"orientation\":\"v\",\"showlegend\":false,\"x\":[2000,2001,2002,2003,2004,2005,2006,2007,2008,2009,2010,2011,2012,2013,2014,2015,2016,2017,2018,2019,2020,2021,2022,2023],\"xaxis\":\"x\",\"y\":[8.408252065161701,8.400135101421276,8.548348085497873,8.532200210761703,8.332347069348936,8.099407756021277,7.683083114617021,7.315807052421277,7.194164379268085,7.938642187855319,8.06280790719149,8.000277748234042,8.054897945897872,8.065292210212766,7.89499941593617,7.829691749493617,7.700425420089362,7.490447109523404,7.224789262646809,7.082030149038298,8.130704131382979,7.814761842,7.014325934153846,6.749444888618026],\"yaxis\":\"y\",\"type\":\"scatter\"}],                        {\"template\":{\"data\":{\"histogram2dcontour\":[{\"type\":\"histogram2dcontour\",\"colorbar\":{\"outlinewidth\":0,\"ticks\":\"\"},\"colorscale\":[[0.0,\"#0d0887\"],[0.1111111111111111,\"#46039f\"],[0.2222222222222222,\"#7201a8\"],[0.3333333333333333,\"#9c179e\"],[0.4444444444444444,\"#bd3786\"],[0.5555555555555556,\"#d8576b\"],[0.6666666666666666,\"#ed7953\"],[0.7777777777777778,\"#fb9f3a\"],[0.8888888888888888,\"#fdca26\"],[1.0,\"#f0f921\"]]}],\"choropleth\":[{\"type\":\"choropleth\",\"colorbar\":{\"outlinewidth\":0,\"ticks\":\"\"}}],\"histogram2d\":[{\"type\":\"histogram2d\",\"colorbar\":{\"outlinewidth\":0,\"ticks\":\"\"},\"colorscale\":[[0.0,\"#0d0887\"],[0.1111111111111111,\"#46039f\"],[0.2222222222222222,\"#7201a8\"],[0.3333333333333333,\"#9c179e\"],[0.4444444444444444,\"#bd3786\"],[0.5555555555555556,\"#d8576b\"],[0.6666666666666666,\"#ed7953\"],[0.7777777777777778,\"#fb9f3a\"],[0.8888888888888888,\"#fdca26\"],[1.0,\"#f0f921\"]]}],\"heatmap\":[{\"type\":\"heatmap\",\"colorbar\":{\"outlinewidth\":0,\"ticks\":\"\"},\"colorscale\":[[0.0,\"#0d0887\"],[0.1111111111111111,\"#46039f\"],[0.2222222222222222,\"#7201a8\"],[0.3333333333333333,\"#9c179e\"],[0.4444444444444444,\"#bd3786\"],[0.5555555555555556,\"#d8576b\"],[0.6666666666666666,\"#ed7953\"],[0.7777777777777778,\"#fb9f3a\"],[0.8888888888888888,\"#fdca26\"],[1.0,\"#f0f921\"]]}],\"heatmapgl\":[{\"type\":\"heatmapgl\",\"colorbar\":{\"outlinewidth\":0,\"ticks\":\"\"},\"colorscale\":[[0.0,\"#0d0887\"],[0.1111111111111111,\"#46039f\"],[0.2222222222222222,\"#7201a8\"],[0.3333333333333333,\"#9c179e\"],[0.4444444444444444,\"#bd3786\"],[0.5555555555555556,\"#d8576b\"],[0.6666666666666666,\"#ed7953\"],[0.7777777777777778,\"#fb9f3a\"],[0.8888888888888888,\"#fdca26\"],[1.0,\"#f0f921\"]]}],\"contourcarpet\":[{\"type\":\"contourcarpet\",\"colorbar\":{\"outlinewidth\":0,\"ticks\":\"\"}}],\"contour\":[{\"type\":\"contour\",\"colorbar\":{\"outlinewidth\":0,\"ticks\":\"\"},\"colorscale\":[[0.0,\"#0d0887\"],[0.1111111111111111,\"#46039f\"],[0.2222222222222222,\"#7201a8\"],[0.3333333333333333,\"#9c179e\"],[0.4444444444444444,\"#bd3786\"],[0.5555555555555556,\"#d8576b\"],[0.6666666666666666,\"#ed7953\"],[0.7777777777777778,\"#fb9f3a\"],[0.8888888888888888,\"#fdca26\"],[1.0,\"#f0f921\"]]}],\"surface\":[{\"type\":\"surface\",\"colorbar\":{\"outlinewidth\":0,\"ticks\":\"\"},\"colorscale\":[[0.0,\"#0d0887\"],[0.1111111111111111,\"#46039f\"],[0.2222222222222222,\"#7201a8\"],[0.3333333333333333,\"#9c179e\"],[0.4444444444444444,\"#bd3786\"],[0.5555555555555556,\"#d8576b\"],[0.6666666666666666,\"#ed7953\"],[0.7777777777777778,\"#fb9f3a\"],[0.8888888888888888,\"#fdca26\"],[1.0,\"#f0f921\"]]}],\"mesh3d\":[{\"type\":\"mesh3d\",\"colorbar\":{\"outlinewidth\":0,\"ticks\":\"\"}}],\"scatter\":[{\"fillpattern\":{\"fillmode\":\"overlay\",\"size\":10,\"solidity\":0.2},\"type\":\"scatter\"}],\"parcoords\":[{\"type\":\"parcoords\",\"line\":{\"colorbar\":{\"outlinewidth\":0,\"ticks\":\"\"}}}],\"scatterpolargl\":[{\"type\":\"scatterpolargl\",\"marker\":{\"colorbar\":{\"outlinewidth\":0,\"ticks\":\"\"}}}],\"bar\":[{\"error_x\":{\"color\":\"#2a3f5f\"},\"error_y\":{\"color\":\"#2a3f5f\"},\"marker\":{\"line\":{\"color\":\"#E5ECF6\",\"width\":0.5},\"pattern\":{\"fillmode\":\"overlay\",\"size\":10,\"solidity\":0.2}},\"type\":\"bar\"}],\"scattergeo\":[{\"type\":\"scattergeo\",\"marker\":{\"colorbar\":{\"outlinewidth\":0,\"ticks\":\"\"}}}],\"scatterpolar\":[{\"type\":\"scatterpolar\",\"marker\":{\"colorbar\":{\"outlinewidth\":0,\"ticks\":\"\"}}}],\"histogram\":[{\"marker\":{\"pattern\":{\"fillmode\":\"overlay\",\"size\":10,\"solidity\":0.2}},\"type\":\"histogram\"}],\"scattergl\":[{\"type\":\"scattergl\",\"marker\":{\"colorbar\":{\"outlinewidth\":0,\"ticks\":\"\"}}}],\"scatter3d\":[{\"type\":\"scatter3d\",\"line\":{\"colorbar\":{\"outlinewidth\":0,\"ticks\":\"\"}},\"marker\":{\"colorbar\":{\"outlinewidth\":0,\"ticks\":\"\"}}}],\"scattermapbox\":[{\"type\":\"scattermapbox\",\"marker\":{\"colorbar\":{\"outlinewidth\":0,\"ticks\":\"\"}}}],\"scatterternary\":[{\"type\":\"scatterternary\",\"marker\":{\"colorbar\":{\"outlinewidth\":0,\"ticks\":\"\"}}}],\"scattercarpet\":[{\"type\":\"scattercarpet\",\"marker\":{\"colorbar\":{\"outlinewidth\":0,\"ticks\":\"\"}}}],\"carpet\":[{\"aaxis\":{\"endlinecolor\":\"#2a3f5f\",\"gridcolor\":\"white\",\"linecolor\":\"white\",\"minorgridcolor\":\"white\",\"startlinecolor\":\"#2a3f5f\"},\"baxis\":{\"endlinecolor\":\"#2a3f5f\",\"gridcolor\":\"white\",\"linecolor\":\"white\",\"minorgridcolor\":\"white\",\"startlinecolor\":\"#2a3f5f\"},\"type\":\"carpet\"}],\"table\":[{\"cells\":{\"fill\":{\"color\":\"#EBF0F8\"},\"line\":{\"color\":\"white\"}},\"header\":{\"fill\":{\"color\":\"#C8D4E3\"},\"line\":{\"color\":\"white\"}},\"type\":\"table\"}],\"barpolar\":[{\"marker\":{\"line\":{\"color\":\"#E5ECF6\",\"width\":0.5},\"pattern\":{\"fillmode\":\"overlay\",\"size\":10,\"solidity\":0.2}},\"type\":\"barpolar\"}],\"pie\":[{\"automargin\":true,\"type\":\"pie\"}]},\"layout\":{\"autotypenumbers\":\"strict\",\"colorway\":[\"#636efa\",\"#EF553B\",\"#00cc96\",\"#ab63fa\",\"#FFA15A\",\"#19d3f3\",\"#FF6692\",\"#B6E880\",\"#FF97FF\",\"#FECB52\"],\"font\":{\"color\":\"#2a3f5f\"},\"hovermode\":\"closest\",\"hoverlabel\":{\"align\":\"left\"},\"paper_bgcolor\":\"white\",\"plot_bgcolor\":\"#E5ECF6\",\"polar\":{\"bgcolor\":\"#E5ECF6\",\"angularaxis\":{\"gridcolor\":\"white\",\"linecolor\":\"white\",\"ticks\":\"\"},\"radialaxis\":{\"gridcolor\":\"white\",\"linecolor\":\"white\",\"ticks\":\"\"}},\"ternary\":{\"bgcolor\":\"#E5ECF6\",\"aaxis\":{\"gridcolor\":\"white\",\"linecolor\":\"white\",\"ticks\":\"\"},\"baxis\":{\"gridcolor\":\"white\",\"linecolor\":\"white\",\"ticks\":\"\"},\"caxis\":{\"gridcolor\":\"white\",\"linecolor\":\"white\",\"ticks\":\"\"}},\"coloraxis\":{\"colorbar\":{\"outlinewidth\":0,\"ticks\":\"\"}},\"colorscale\":{\"sequential\":[[0.0,\"#0d0887\"],[0.1111111111111111,\"#46039f\"],[0.2222222222222222,\"#7201a8\"],[0.3333333333333333,\"#9c179e\"],[0.4444444444444444,\"#bd3786\"],[0.5555555555555556,\"#d8576b\"],[0.6666666666666666,\"#ed7953\"],[0.7777777777777778,\"#fb9f3a\"],[0.8888888888888888,\"#fdca26\"],[1.0,\"#f0f921\"]],\"sequentialminus\":[[0.0,\"#0d0887\"],[0.1111111111111111,\"#46039f\"],[0.2222222222222222,\"#7201a8\"],[0.3333333333333333,\"#9c179e\"],[0.4444444444444444,\"#bd3786\"],[0.5555555555555556,\"#d8576b\"],[0.6666666666666666,\"#ed7953\"],[0.7777777777777778,\"#fb9f3a\"],[0.8888888888888888,\"#fdca26\"],[1.0,\"#f0f921\"]],\"diverging\":[[0,\"#8e0152\"],[0.1,\"#c51b7d\"],[0.2,\"#de77ae\"],[0.3,\"#f1b6da\"],[0.4,\"#fde0ef\"],[0.5,\"#f7f7f7\"],[0.6,\"#e6f5d0\"],[0.7,\"#b8e186\"],[0.8,\"#7fbc41\"],[0.9,\"#4d9221\"],[1,\"#276419\"]]},\"xaxis\":{\"gridcolor\":\"white\",\"linecolor\":\"white\",\"ticks\":\"\",\"title\":{\"standoff\":15},\"zerolinecolor\":\"white\",\"automargin\":true,\"zerolinewidth\":2},\"yaxis\":{\"gridcolor\":\"white\",\"linecolor\":\"white\",\"ticks\":\"\",\"title\":{\"standoff\":15},\"zerolinecolor\":\"white\",\"automargin\":true,\"zerolinewidth\":2},\"scene\":{\"xaxis\":{\"backgroundcolor\":\"#E5ECF6\",\"gridcolor\":\"white\",\"linecolor\":\"white\",\"showbackground\":true,\"ticks\":\"\",\"zerolinecolor\":\"white\",\"gridwidth\":2},\"yaxis\":{\"backgroundcolor\":\"#E5ECF6\",\"gridcolor\":\"white\",\"linecolor\":\"white\",\"showbackground\":true,\"ticks\":\"\",\"zerolinecolor\":\"white\",\"gridwidth\":2},\"zaxis\":{\"backgroundcolor\":\"#E5ECF6\",\"gridcolor\":\"white\",\"linecolor\":\"white\",\"showbackground\":true,\"ticks\":\"\",\"zerolinecolor\":\"white\",\"gridwidth\":2}},\"shapedefaults\":{\"line\":{\"color\":\"#2a3f5f\"}},\"annotationdefaults\":{\"arrowcolor\":\"#2a3f5f\",\"arrowhead\":0,\"arrowwidth\":1},\"geo\":{\"bgcolor\":\"white\",\"landcolor\":\"#E5ECF6\",\"subunitcolor\":\"white\",\"showland\":true,\"showlakes\":true,\"lakecolor\":\"white\"},\"title\":{\"x\":0.05},\"mapbox\":{\"style\":\"light\"}}},\"xaxis\":{\"anchor\":\"y\",\"domain\":[0.0,1.0],\"title\":{\"text\":\"Time Period\",\"font\":{\"size\":18}}},\"yaxis\":{\"anchor\":\"x\",\"domain\":[0.0,1.0],\"title\":{\"text\":\"Average Value\",\"font\":{\"size\":18}}},\"legend\":{\"tracegroupgap\":0},\"title\":{\"text\":\"Rata-rata Value per year Value_Unemployment\",\"font\":{\"size\":20}}},                        {\"responsive\": true}                    ).then(function(){\n",
       "                            \n",
       "var gd = document.getElementById('d8d25c21-6065-4c4e-a6b4-c29a4ddb6a7b');\n",
       "var x = new MutationObserver(function (mutations, observer) {{\n",
       "        var display = window.getComputedStyle(gd).display;\n",
       "        if (!display || display === 'none') {{\n",
       "            console.log([gd, 'removed!']);\n",
       "            Plotly.purge(gd);\n",
       "            observer.disconnect();\n",
       "        }}\n",
       "}});\n",
       "\n",
       "// Listen for the removal of the full notebook cells\n",
       "var notebookContainer = gd.closest('#notebook-container');\n",
       "if (notebookContainer) {{\n",
       "    x.observe(notebookContainer, {childList: true});\n",
       "}}\n",
       "\n",
       "// Listen for the clearing of the current output cell\n",
       "var outputEl = gd.closest('.output');\n",
       "if (outputEl) {{\n",
       "    x.observe(outputEl, {childList: true});\n",
       "}}\n",
       "\n",
       "                        })                };                });            </script>        </div>"
      ]
     },
     "metadata": {},
     "output_type": "display_data"
    },
    {
     "data": {
      "application/vnd.plotly.v1+json": {
       "config": {
        "plotlyServerURL": "https://plot.ly"
       },
       "data": [
        {
         "hovertemplate": "Year=%{x}<br>Value_WDI=%{y}<extra></extra>",
         "legendgroup": "",
         "line": {
          "color": "#636efa",
          "dash": "solid"
         },
         "marker": {
          "symbol": "circle"
         },
         "mode": "markers+lines",
         "name": "",
         "orientation": "v",
         "showlegend": false,
         "type": "scatter",
         "x": [
          2000,
          2001,
          2002,
          2003,
          2004,
          2005,
          2006,
          2007,
          2008,
          2009,
          2010,
          2011,
          2012,
          2013,
          2014,
          2015,
          2016,
          2017,
          2018,
          2019,
          2020,
          2021,
          2022,
          2023
         ],
         "xaxis": "x",
         "y": [
          97.93789250898148,
          98.58568782500001,
          99.51299490795455,
          100.10601024089202,
          101.17751211188073,
          101.46156830299107,
          101.65587079635513,
          101.88186485730941,
          102.3841257241629,
          102.95185073686365,
          103.3489836951852,
          102.97390604254464,
          102.82814029515696,
          102.94315601424658,
          102.70504111061948,
          102.11947372526316,
          102.0619701284,
          101.68510993967742,
          100.75501416051162,
          101.25468700330232,
          100.66693012538462,
          100.3230445540773,
          100.66731844968945,
          91.95414585944444
         ],
         "yaxis": "y"
        }
       ],
       "layout": {
        "legend": {
         "tracegroupgap": 0
        },
        "template": {
         "data": {
          "bar": [
           {
            "error_x": {
             "color": "#2a3f5f"
            },
            "error_y": {
             "color": "#2a3f5f"
            },
            "marker": {
             "line": {
              "color": "#E5ECF6",
              "width": 0.5
             },
             "pattern": {
              "fillmode": "overlay",
              "size": 10,
              "solidity": 0.2
             }
            },
            "type": "bar"
           }
          ],
          "barpolar": [
           {
            "marker": {
             "line": {
              "color": "#E5ECF6",
              "width": 0.5
             },
             "pattern": {
              "fillmode": "overlay",
              "size": 10,
              "solidity": 0.2
             }
            },
            "type": "barpolar"
           }
          ],
          "carpet": [
           {
            "aaxis": {
             "endlinecolor": "#2a3f5f",
             "gridcolor": "white",
             "linecolor": "white",
             "minorgridcolor": "white",
             "startlinecolor": "#2a3f5f"
            },
            "baxis": {
             "endlinecolor": "#2a3f5f",
             "gridcolor": "white",
             "linecolor": "white",
             "minorgridcolor": "white",
             "startlinecolor": "#2a3f5f"
            },
            "type": "carpet"
           }
          ],
          "choropleth": [
           {
            "colorbar": {
             "outlinewidth": 0,
             "ticks": ""
            },
            "type": "choropleth"
           }
          ],
          "contour": [
           {
            "colorbar": {
             "outlinewidth": 0,
             "ticks": ""
            },
            "colorscale": [
             [
              0,
              "#0d0887"
             ],
             [
              0.1111111111111111,
              "#46039f"
             ],
             [
              0.2222222222222222,
              "#7201a8"
             ],
             [
              0.3333333333333333,
              "#9c179e"
             ],
             [
              0.4444444444444444,
              "#bd3786"
             ],
             [
              0.5555555555555556,
              "#d8576b"
             ],
             [
              0.6666666666666666,
              "#ed7953"
             ],
             [
              0.7777777777777778,
              "#fb9f3a"
             ],
             [
              0.8888888888888888,
              "#fdca26"
             ],
             [
              1,
              "#f0f921"
             ]
            ],
            "type": "contour"
           }
          ],
          "contourcarpet": [
           {
            "colorbar": {
             "outlinewidth": 0,
             "ticks": ""
            },
            "type": "contourcarpet"
           }
          ],
          "heatmap": [
           {
            "colorbar": {
             "outlinewidth": 0,
             "ticks": ""
            },
            "colorscale": [
             [
              0,
              "#0d0887"
             ],
             [
              0.1111111111111111,
              "#46039f"
             ],
             [
              0.2222222222222222,
              "#7201a8"
             ],
             [
              0.3333333333333333,
              "#9c179e"
             ],
             [
              0.4444444444444444,
              "#bd3786"
             ],
             [
              0.5555555555555556,
              "#d8576b"
             ],
             [
              0.6666666666666666,
              "#ed7953"
             ],
             [
              0.7777777777777778,
              "#fb9f3a"
             ],
             [
              0.8888888888888888,
              "#fdca26"
             ],
             [
              1,
              "#f0f921"
             ]
            ],
            "type": "heatmap"
           }
          ],
          "heatmapgl": [
           {
            "colorbar": {
             "outlinewidth": 0,
             "ticks": ""
            },
            "colorscale": [
             [
              0,
              "#0d0887"
             ],
             [
              0.1111111111111111,
              "#46039f"
             ],
             [
              0.2222222222222222,
              "#7201a8"
             ],
             [
              0.3333333333333333,
              "#9c179e"
             ],
             [
              0.4444444444444444,
              "#bd3786"
             ],
             [
              0.5555555555555556,
              "#d8576b"
             ],
             [
              0.6666666666666666,
              "#ed7953"
             ],
             [
              0.7777777777777778,
              "#fb9f3a"
             ],
             [
              0.8888888888888888,
              "#fdca26"
             ],
             [
              1,
              "#f0f921"
             ]
            ],
            "type": "heatmapgl"
           }
          ],
          "histogram": [
           {
            "marker": {
             "pattern": {
              "fillmode": "overlay",
              "size": 10,
              "solidity": 0.2
             }
            },
            "type": "histogram"
           }
          ],
          "histogram2d": [
           {
            "colorbar": {
             "outlinewidth": 0,
             "ticks": ""
            },
            "colorscale": [
             [
              0,
              "#0d0887"
             ],
             [
              0.1111111111111111,
              "#46039f"
             ],
             [
              0.2222222222222222,
              "#7201a8"
             ],
             [
              0.3333333333333333,
              "#9c179e"
             ],
             [
              0.4444444444444444,
              "#bd3786"
             ],
             [
              0.5555555555555556,
              "#d8576b"
             ],
             [
              0.6666666666666666,
              "#ed7953"
             ],
             [
              0.7777777777777778,
              "#fb9f3a"
             ],
             [
              0.8888888888888888,
              "#fdca26"
             ],
             [
              1,
              "#f0f921"
             ]
            ],
            "type": "histogram2d"
           }
          ],
          "histogram2dcontour": [
           {
            "colorbar": {
             "outlinewidth": 0,
             "ticks": ""
            },
            "colorscale": [
             [
              0,
              "#0d0887"
             ],
             [
              0.1111111111111111,
              "#46039f"
             ],
             [
              0.2222222222222222,
              "#7201a8"
             ],
             [
              0.3333333333333333,
              "#9c179e"
             ],
             [
              0.4444444444444444,
              "#bd3786"
             ],
             [
              0.5555555555555556,
              "#d8576b"
             ],
             [
              0.6666666666666666,
              "#ed7953"
             ],
             [
              0.7777777777777778,
              "#fb9f3a"
             ],
             [
              0.8888888888888888,
              "#fdca26"
             ],
             [
              1,
              "#f0f921"
             ]
            ],
            "type": "histogram2dcontour"
           }
          ],
          "mesh3d": [
           {
            "colorbar": {
             "outlinewidth": 0,
             "ticks": ""
            },
            "type": "mesh3d"
           }
          ],
          "parcoords": [
           {
            "line": {
             "colorbar": {
              "outlinewidth": 0,
              "ticks": ""
             }
            },
            "type": "parcoords"
           }
          ],
          "pie": [
           {
            "automargin": true,
            "type": "pie"
           }
          ],
          "scatter": [
           {
            "fillpattern": {
             "fillmode": "overlay",
             "size": 10,
             "solidity": 0.2
            },
            "type": "scatter"
           }
          ],
          "scatter3d": [
           {
            "line": {
             "colorbar": {
              "outlinewidth": 0,
              "ticks": ""
             }
            },
            "marker": {
             "colorbar": {
              "outlinewidth": 0,
              "ticks": ""
             }
            },
            "type": "scatter3d"
           }
          ],
          "scattercarpet": [
           {
            "marker": {
             "colorbar": {
              "outlinewidth": 0,
              "ticks": ""
             }
            },
            "type": "scattercarpet"
           }
          ],
          "scattergeo": [
           {
            "marker": {
             "colorbar": {
              "outlinewidth": 0,
              "ticks": ""
             }
            },
            "type": "scattergeo"
           }
          ],
          "scattergl": [
           {
            "marker": {
             "colorbar": {
              "outlinewidth": 0,
              "ticks": ""
             }
            },
            "type": "scattergl"
           }
          ],
          "scattermapbox": [
           {
            "marker": {
             "colorbar": {
              "outlinewidth": 0,
              "ticks": ""
             }
            },
            "type": "scattermapbox"
           }
          ],
          "scatterpolar": [
           {
            "marker": {
             "colorbar": {
              "outlinewidth": 0,
              "ticks": ""
             }
            },
            "type": "scatterpolar"
           }
          ],
          "scatterpolargl": [
           {
            "marker": {
             "colorbar": {
              "outlinewidth": 0,
              "ticks": ""
             }
            },
            "type": "scatterpolargl"
           }
          ],
          "scatterternary": [
           {
            "marker": {
             "colorbar": {
              "outlinewidth": 0,
              "ticks": ""
             }
            },
            "type": "scatterternary"
           }
          ],
          "surface": [
           {
            "colorbar": {
             "outlinewidth": 0,
             "ticks": ""
            },
            "colorscale": [
             [
              0,
              "#0d0887"
             ],
             [
              0.1111111111111111,
              "#46039f"
             ],
             [
              0.2222222222222222,
              "#7201a8"
             ],
             [
              0.3333333333333333,
              "#9c179e"
             ],
             [
              0.4444444444444444,
              "#bd3786"
             ],
             [
              0.5555555555555556,
              "#d8576b"
             ],
             [
              0.6666666666666666,
              "#ed7953"
             ],
             [
              0.7777777777777778,
              "#fb9f3a"
             ],
             [
              0.8888888888888888,
              "#fdca26"
             ],
             [
              1,
              "#f0f921"
             ]
            ],
            "type": "surface"
           }
          ],
          "table": [
           {
            "cells": {
             "fill": {
              "color": "#EBF0F8"
             },
             "line": {
              "color": "white"
             }
            },
            "header": {
             "fill": {
              "color": "#C8D4E3"
             },
             "line": {
              "color": "white"
             }
            },
            "type": "table"
           }
          ]
         },
         "layout": {
          "annotationdefaults": {
           "arrowcolor": "#2a3f5f",
           "arrowhead": 0,
           "arrowwidth": 1
          },
          "autotypenumbers": "strict",
          "coloraxis": {
           "colorbar": {
            "outlinewidth": 0,
            "ticks": ""
           }
          },
          "colorscale": {
           "diverging": [
            [
             0,
             "#8e0152"
            ],
            [
             0.1,
             "#c51b7d"
            ],
            [
             0.2,
             "#de77ae"
            ],
            [
             0.3,
             "#f1b6da"
            ],
            [
             0.4,
             "#fde0ef"
            ],
            [
             0.5,
             "#f7f7f7"
            ],
            [
             0.6,
             "#e6f5d0"
            ],
            [
             0.7,
             "#b8e186"
            ],
            [
             0.8,
             "#7fbc41"
            ],
            [
             0.9,
             "#4d9221"
            ],
            [
             1,
             "#276419"
            ]
           ],
           "sequential": [
            [
             0,
             "#0d0887"
            ],
            [
             0.1111111111111111,
             "#46039f"
            ],
            [
             0.2222222222222222,
             "#7201a8"
            ],
            [
             0.3333333333333333,
             "#9c179e"
            ],
            [
             0.4444444444444444,
             "#bd3786"
            ],
            [
             0.5555555555555556,
             "#d8576b"
            ],
            [
             0.6666666666666666,
             "#ed7953"
            ],
            [
             0.7777777777777778,
             "#fb9f3a"
            ],
            [
             0.8888888888888888,
             "#fdca26"
            ],
            [
             1,
             "#f0f921"
            ]
           ],
           "sequentialminus": [
            [
             0,
             "#0d0887"
            ],
            [
             0.1111111111111111,
             "#46039f"
            ],
            [
             0.2222222222222222,
             "#7201a8"
            ],
            [
             0.3333333333333333,
             "#9c179e"
            ],
            [
             0.4444444444444444,
             "#bd3786"
            ],
            [
             0.5555555555555556,
             "#d8576b"
            ],
            [
             0.6666666666666666,
             "#ed7953"
            ],
            [
             0.7777777777777778,
             "#fb9f3a"
            ],
            [
             0.8888888888888888,
             "#fdca26"
            ],
            [
             1,
             "#f0f921"
            ]
           ]
          },
          "colorway": [
           "#636efa",
           "#EF553B",
           "#00cc96",
           "#ab63fa",
           "#FFA15A",
           "#19d3f3",
           "#FF6692",
           "#B6E880",
           "#FF97FF",
           "#FECB52"
          ],
          "font": {
           "color": "#2a3f5f"
          },
          "geo": {
           "bgcolor": "white",
           "lakecolor": "white",
           "landcolor": "#E5ECF6",
           "showlakes": true,
           "showland": true,
           "subunitcolor": "white"
          },
          "hoverlabel": {
           "align": "left"
          },
          "hovermode": "closest",
          "mapbox": {
           "style": "light"
          },
          "paper_bgcolor": "white",
          "plot_bgcolor": "#E5ECF6",
          "polar": {
           "angularaxis": {
            "gridcolor": "white",
            "linecolor": "white",
            "ticks": ""
           },
           "bgcolor": "#E5ECF6",
           "radialaxis": {
            "gridcolor": "white",
            "linecolor": "white",
            "ticks": ""
           }
          },
          "scene": {
           "xaxis": {
            "backgroundcolor": "#E5ECF6",
            "gridcolor": "white",
            "gridwidth": 2,
            "linecolor": "white",
            "showbackground": true,
            "ticks": "",
            "zerolinecolor": "white"
           },
           "yaxis": {
            "backgroundcolor": "#E5ECF6",
            "gridcolor": "white",
            "gridwidth": 2,
            "linecolor": "white",
            "showbackground": true,
            "ticks": "",
            "zerolinecolor": "white"
           },
           "zaxis": {
            "backgroundcolor": "#E5ECF6",
            "gridcolor": "white",
            "gridwidth": 2,
            "linecolor": "white",
            "showbackground": true,
            "ticks": "",
            "zerolinecolor": "white"
           }
          },
          "shapedefaults": {
           "line": {
            "color": "#2a3f5f"
           }
          },
          "ternary": {
           "aaxis": {
            "gridcolor": "white",
            "linecolor": "white",
            "ticks": ""
           },
           "baxis": {
            "gridcolor": "white",
            "linecolor": "white",
            "ticks": ""
           },
           "bgcolor": "#E5ECF6",
           "caxis": {
            "gridcolor": "white",
            "linecolor": "white",
            "ticks": ""
           }
          },
          "title": {
           "x": 0.05
          },
          "xaxis": {
           "automargin": true,
           "gridcolor": "white",
           "linecolor": "white",
           "ticks": "",
           "title": {
            "standoff": 15
           },
           "zerolinecolor": "white",
           "zerolinewidth": 2
          },
          "yaxis": {
           "automargin": true,
           "gridcolor": "white",
           "linecolor": "white",
           "ticks": "",
           "title": {
            "standoff": 15
           },
           "zerolinecolor": "white",
           "zerolinewidth": 2
          }
         }
        },
        "title": {
         "font": {
          "size": 20
         },
         "text": "Rata-rata Value per year Value_WDI"
        },
        "xaxis": {
         "anchor": "y",
         "domain": [
          0,
          1
         ],
         "title": {
          "font": {
           "size": 18
          },
          "text": "Time Period"
         }
        },
        "yaxis": {
         "anchor": "x",
         "domain": [
          0,
          1
         ],
         "title": {
          "font": {
           "size": 18
          },
          "text": "Average Value"
         }
        }
       }
      },
      "text/html": [
       "<div>                            <div id=\"3313dc56-b100-48c1-8c54-437eae7417af\" class=\"plotly-graph-div\" style=\"height:525px; width:100%;\"></div>            <script type=\"text/javascript\">                require([\"plotly\"], function(Plotly) {                    window.PLOTLYENV=window.PLOTLYENV || {};                                    if (document.getElementById(\"3313dc56-b100-48c1-8c54-437eae7417af\")) {                    Plotly.newPlot(                        \"3313dc56-b100-48c1-8c54-437eae7417af\",                        [{\"hovertemplate\":\"Year=%{x}\\u003cbr\\u003eValue_WDI=%{y}\\u003cextra\\u003e\\u003c\\u002fextra\\u003e\",\"legendgroup\":\"\",\"line\":{\"color\":\"#636efa\",\"dash\":\"solid\"},\"marker\":{\"symbol\":\"circle\"},\"mode\":\"markers+lines\",\"name\":\"\",\"orientation\":\"v\",\"showlegend\":false,\"x\":[2000,2001,2002,2003,2004,2005,2006,2007,2008,2009,2010,2011,2012,2013,2014,2015,2016,2017,2018,2019,2020,2021,2022,2023],\"xaxis\":\"x\",\"y\":[97.93789250898148,98.58568782500001,99.51299490795455,100.10601024089202,101.17751211188073,101.46156830299107,101.65587079635513,101.88186485730941,102.3841257241629,102.95185073686365,103.3489836951852,102.97390604254464,102.82814029515696,102.94315601424658,102.70504111061948,102.11947372526316,102.0619701284,101.68510993967742,100.75501416051162,101.25468700330232,100.66693012538462,100.3230445540773,100.66731844968945,91.95414585944444],\"yaxis\":\"y\",\"type\":\"scatter\"}],                        {\"template\":{\"data\":{\"histogram2dcontour\":[{\"type\":\"histogram2dcontour\",\"colorbar\":{\"outlinewidth\":0,\"ticks\":\"\"},\"colorscale\":[[0.0,\"#0d0887\"],[0.1111111111111111,\"#46039f\"],[0.2222222222222222,\"#7201a8\"],[0.3333333333333333,\"#9c179e\"],[0.4444444444444444,\"#bd3786\"],[0.5555555555555556,\"#d8576b\"],[0.6666666666666666,\"#ed7953\"],[0.7777777777777778,\"#fb9f3a\"],[0.8888888888888888,\"#fdca26\"],[1.0,\"#f0f921\"]]}],\"choropleth\":[{\"type\":\"choropleth\",\"colorbar\":{\"outlinewidth\":0,\"ticks\":\"\"}}],\"histogram2d\":[{\"type\":\"histogram2d\",\"colorbar\":{\"outlinewidth\":0,\"ticks\":\"\"},\"colorscale\":[[0.0,\"#0d0887\"],[0.1111111111111111,\"#46039f\"],[0.2222222222222222,\"#7201a8\"],[0.3333333333333333,\"#9c179e\"],[0.4444444444444444,\"#bd3786\"],[0.5555555555555556,\"#d8576b\"],[0.6666666666666666,\"#ed7953\"],[0.7777777777777778,\"#fb9f3a\"],[0.8888888888888888,\"#fdca26\"],[1.0,\"#f0f921\"]]}],\"heatmap\":[{\"type\":\"heatmap\",\"colorbar\":{\"outlinewidth\":0,\"ticks\":\"\"},\"colorscale\":[[0.0,\"#0d0887\"],[0.1111111111111111,\"#46039f\"],[0.2222222222222222,\"#7201a8\"],[0.3333333333333333,\"#9c179e\"],[0.4444444444444444,\"#bd3786\"],[0.5555555555555556,\"#d8576b\"],[0.6666666666666666,\"#ed7953\"],[0.7777777777777778,\"#fb9f3a\"],[0.8888888888888888,\"#fdca26\"],[1.0,\"#f0f921\"]]}],\"heatmapgl\":[{\"type\":\"heatmapgl\",\"colorbar\":{\"outlinewidth\":0,\"ticks\":\"\"},\"colorscale\":[[0.0,\"#0d0887\"],[0.1111111111111111,\"#46039f\"],[0.2222222222222222,\"#7201a8\"],[0.3333333333333333,\"#9c179e\"],[0.4444444444444444,\"#bd3786\"],[0.5555555555555556,\"#d8576b\"],[0.6666666666666666,\"#ed7953\"],[0.7777777777777778,\"#fb9f3a\"],[0.8888888888888888,\"#fdca26\"],[1.0,\"#f0f921\"]]}],\"contourcarpet\":[{\"type\":\"contourcarpet\",\"colorbar\":{\"outlinewidth\":0,\"ticks\":\"\"}}],\"contour\":[{\"type\":\"contour\",\"colorbar\":{\"outlinewidth\":0,\"ticks\":\"\"},\"colorscale\":[[0.0,\"#0d0887\"],[0.1111111111111111,\"#46039f\"],[0.2222222222222222,\"#7201a8\"],[0.3333333333333333,\"#9c179e\"],[0.4444444444444444,\"#bd3786\"],[0.5555555555555556,\"#d8576b\"],[0.6666666666666666,\"#ed7953\"],[0.7777777777777778,\"#fb9f3a\"],[0.8888888888888888,\"#fdca26\"],[1.0,\"#f0f921\"]]}],\"surface\":[{\"type\":\"surface\",\"colorbar\":{\"outlinewidth\":0,\"ticks\":\"\"},\"colorscale\":[[0.0,\"#0d0887\"],[0.1111111111111111,\"#46039f\"],[0.2222222222222222,\"#7201a8\"],[0.3333333333333333,\"#9c179e\"],[0.4444444444444444,\"#bd3786\"],[0.5555555555555556,\"#d8576b\"],[0.6666666666666666,\"#ed7953\"],[0.7777777777777778,\"#fb9f3a\"],[0.8888888888888888,\"#fdca26\"],[1.0,\"#f0f921\"]]}],\"mesh3d\":[{\"type\":\"mesh3d\",\"colorbar\":{\"outlinewidth\":0,\"ticks\":\"\"}}],\"scatter\":[{\"fillpattern\":{\"fillmode\":\"overlay\",\"size\":10,\"solidity\":0.2},\"type\":\"scatter\"}],\"parcoords\":[{\"type\":\"parcoords\",\"line\":{\"colorbar\":{\"outlinewidth\":0,\"ticks\":\"\"}}}],\"scatterpolargl\":[{\"type\":\"scatterpolargl\",\"marker\":{\"colorbar\":{\"outlinewidth\":0,\"ticks\":\"\"}}}],\"bar\":[{\"error_x\":{\"color\":\"#2a3f5f\"},\"error_y\":{\"color\":\"#2a3f5f\"},\"marker\":{\"line\":{\"color\":\"#E5ECF6\",\"width\":0.5},\"pattern\":{\"fillmode\":\"overlay\",\"size\":10,\"solidity\":0.2}},\"type\":\"bar\"}],\"scattergeo\":[{\"type\":\"scattergeo\",\"marker\":{\"colorbar\":{\"outlinewidth\":0,\"ticks\":\"\"}}}],\"scatterpolar\":[{\"type\":\"scatterpolar\",\"marker\":{\"colorbar\":{\"outlinewidth\":0,\"ticks\":\"\"}}}],\"histogram\":[{\"marker\":{\"pattern\":{\"fillmode\":\"overlay\",\"size\":10,\"solidity\":0.2}},\"type\":\"histogram\"}],\"scattergl\":[{\"type\":\"scattergl\",\"marker\":{\"colorbar\":{\"outlinewidth\":0,\"ticks\":\"\"}}}],\"scatter3d\":[{\"type\":\"scatter3d\",\"line\":{\"colorbar\":{\"outlinewidth\":0,\"ticks\":\"\"}},\"marker\":{\"colorbar\":{\"outlinewidth\":0,\"ticks\":\"\"}}}],\"scattermapbox\":[{\"type\":\"scattermapbox\",\"marker\":{\"colorbar\":{\"outlinewidth\":0,\"ticks\":\"\"}}}],\"scatterternary\":[{\"type\":\"scatterternary\",\"marker\":{\"colorbar\":{\"outlinewidth\":0,\"ticks\":\"\"}}}],\"scattercarpet\":[{\"type\":\"scattercarpet\",\"marker\":{\"colorbar\":{\"outlinewidth\":0,\"ticks\":\"\"}}}],\"carpet\":[{\"aaxis\":{\"endlinecolor\":\"#2a3f5f\",\"gridcolor\":\"white\",\"linecolor\":\"white\",\"minorgridcolor\":\"white\",\"startlinecolor\":\"#2a3f5f\"},\"baxis\":{\"endlinecolor\":\"#2a3f5f\",\"gridcolor\":\"white\",\"linecolor\":\"white\",\"minorgridcolor\":\"white\",\"startlinecolor\":\"#2a3f5f\"},\"type\":\"carpet\"}],\"table\":[{\"cells\":{\"fill\":{\"color\":\"#EBF0F8\"},\"line\":{\"color\":\"white\"}},\"header\":{\"fill\":{\"color\":\"#C8D4E3\"},\"line\":{\"color\":\"white\"}},\"type\":\"table\"}],\"barpolar\":[{\"marker\":{\"line\":{\"color\":\"#E5ECF6\",\"width\":0.5},\"pattern\":{\"fillmode\":\"overlay\",\"size\":10,\"solidity\":0.2}},\"type\":\"barpolar\"}],\"pie\":[{\"automargin\":true,\"type\":\"pie\"}]},\"layout\":{\"autotypenumbers\":\"strict\",\"colorway\":[\"#636efa\",\"#EF553B\",\"#00cc96\",\"#ab63fa\",\"#FFA15A\",\"#19d3f3\",\"#FF6692\",\"#B6E880\",\"#FF97FF\",\"#FECB52\"],\"font\":{\"color\":\"#2a3f5f\"},\"hovermode\":\"closest\",\"hoverlabel\":{\"align\":\"left\"},\"paper_bgcolor\":\"white\",\"plot_bgcolor\":\"#E5ECF6\",\"polar\":{\"bgcolor\":\"#E5ECF6\",\"angularaxis\":{\"gridcolor\":\"white\",\"linecolor\":\"white\",\"ticks\":\"\"},\"radialaxis\":{\"gridcolor\":\"white\",\"linecolor\":\"white\",\"ticks\":\"\"}},\"ternary\":{\"bgcolor\":\"#E5ECF6\",\"aaxis\":{\"gridcolor\":\"white\",\"linecolor\":\"white\",\"ticks\":\"\"},\"baxis\":{\"gridcolor\":\"white\",\"linecolor\":\"white\",\"ticks\":\"\"},\"caxis\":{\"gridcolor\":\"white\",\"linecolor\":\"white\",\"ticks\":\"\"}},\"coloraxis\":{\"colorbar\":{\"outlinewidth\":0,\"ticks\":\"\"}},\"colorscale\":{\"sequential\":[[0.0,\"#0d0887\"],[0.1111111111111111,\"#46039f\"],[0.2222222222222222,\"#7201a8\"],[0.3333333333333333,\"#9c179e\"],[0.4444444444444444,\"#bd3786\"],[0.5555555555555556,\"#d8576b\"],[0.6666666666666666,\"#ed7953\"],[0.7777777777777778,\"#fb9f3a\"],[0.8888888888888888,\"#fdca26\"],[1.0,\"#f0f921\"]],\"sequentialminus\":[[0.0,\"#0d0887\"],[0.1111111111111111,\"#46039f\"],[0.2222222222222222,\"#7201a8\"],[0.3333333333333333,\"#9c179e\"],[0.4444444444444444,\"#bd3786\"],[0.5555555555555556,\"#d8576b\"],[0.6666666666666666,\"#ed7953\"],[0.7777777777777778,\"#fb9f3a\"],[0.8888888888888888,\"#fdca26\"],[1.0,\"#f0f921\"]],\"diverging\":[[0,\"#8e0152\"],[0.1,\"#c51b7d\"],[0.2,\"#de77ae\"],[0.3,\"#f1b6da\"],[0.4,\"#fde0ef\"],[0.5,\"#f7f7f7\"],[0.6,\"#e6f5d0\"],[0.7,\"#b8e186\"],[0.8,\"#7fbc41\"],[0.9,\"#4d9221\"],[1,\"#276419\"]]},\"xaxis\":{\"gridcolor\":\"white\",\"linecolor\":\"white\",\"ticks\":\"\",\"title\":{\"standoff\":15},\"zerolinecolor\":\"white\",\"automargin\":true,\"zerolinewidth\":2},\"yaxis\":{\"gridcolor\":\"white\",\"linecolor\":\"white\",\"ticks\":\"\",\"title\":{\"standoff\":15},\"zerolinecolor\":\"white\",\"automargin\":true,\"zerolinewidth\":2},\"scene\":{\"xaxis\":{\"backgroundcolor\":\"#E5ECF6\",\"gridcolor\":\"white\",\"linecolor\":\"white\",\"showbackground\":true,\"ticks\":\"\",\"zerolinecolor\":\"white\",\"gridwidth\":2},\"yaxis\":{\"backgroundcolor\":\"#E5ECF6\",\"gridcolor\":\"white\",\"linecolor\":\"white\",\"showbackground\":true,\"ticks\":\"\",\"zerolinecolor\":\"white\",\"gridwidth\":2},\"zaxis\":{\"backgroundcolor\":\"#E5ECF6\",\"gridcolor\":\"white\",\"linecolor\":\"white\",\"showbackground\":true,\"ticks\":\"\",\"zerolinecolor\":\"white\",\"gridwidth\":2}},\"shapedefaults\":{\"line\":{\"color\":\"#2a3f5f\"}},\"annotationdefaults\":{\"arrowcolor\":\"#2a3f5f\",\"arrowhead\":0,\"arrowwidth\":1},\"geo\":{\"bgcolor\":\"white\",\"landcolor\":\"#E5ECF6\",\"subunitcolor\":\"white\",\"showland\":true,\"showlakes\":true,\"lakecolor\":\"white\"},\"title\":{\"x\":0.05},\"mapbox\":{\"style\":\"light\"}}},\"xaxis\":{\"anchor\":\"y\",\"domain\":[0.0,1.0],\"title\":{\"text\":\"Time Period\",\"font\":{\"size\":18}}},\"yaxis\":{\"anchor\":\"x\",\"domain\":[0.0,1.0],\"title\":{\"text\":\"Average Value\",\"font\":{\"size\":18}}},\"legend\":{\"tracegroupgap\":0},\"title\":{\"text\":\"Rata-rata Value per year Value_WDI\",\"font\":{\"size\":20}}},                        {\"responsive\": true}                    ).then(function(){\n",
       "                            \n",
       "var gd = document.getElementById('3313dc56-b100-48c1-8c54-437eae7417af');\n",
       "var x = new MutationObserver(function (mutations, observer) {{\n",
       "        var display = window.getComputedStyle(gd).display;\n",
       "        if (!display || display === 'none') {{\n",
       "            console.log([gd, 'removed!']);\n",
       "            Plotly.purge(gd);\n",
       "            observer.disconnect();\n",
       "        }}\n",
       "}});\n",
       "\n",
       "// Listen for the removal of the full notebook cells\n",
       "var notebookContainer = gd.closest('#notebook-container');\n",
       "if (notebookContainer) {{\n",
       "    x.observe(notebookContainer, {childList: true});\n",
       "}}\n",
       "\n",
       "// Listen for the clearing of the current output cell\n",
       "var outputEl = gd.closest('.output');\n",
       "if (outputEl) {{\n",
       "    x.observe(outputEl, {childList: true});\n",
       "}}\n",
       "\n",
       "                        })                };                });            </script>        </div>"
      ]
     },
     "metadata": {},
     "output_type": "display_data"
    }
   ],
   "source": [
    "columns = ['Value_FDI',\t'Value_GDP','Value_Inflation',\t'Value_Trade',\t'Value_Unemployment','Value_WDI']\n",
    "\n",
    "for cols in columns:\n",
    "    # Mean Value groupby timeperiod\n",
    "    mean_values_per_year = merged_df.groupby('Year')[cols].mean().reset_index()\n",
    "\n",
    "    fig = px.line(mean_values_per_year, \n",
    "                x='Year', \n",
    "                y=cols,\n",
    "                markers=True,\n",
    "                title=f'Rata-rata Value per year {cols}')\n",
    "\n",
    "    # Menambahkan label sumbu\n",
    "    fig.update_layout(\n",
    "        xaxis_title='Time Period',\n",
    "        yaxis_title='Average Value',\n",
    "        title_font_size=20,\n",
    "        xaxis_title_font_size=18,\n",
    "        yaxis_title_font_size=18\n",
    "    )\n",
    "\n",
    "    # Menampilkan chart\n",
    "    fig.show()\n"
   ]
  },
  {
   "cell_type": "code",
   "execution_count": 6,
   "metadata": {},
   "outputs": [
    {
     "data": {
      "text/plain": [
       "265"
      ]
     },
     "execution_count": 6,
     "metadata": {},
     "output_type": "execute_result"
    }
   ],
   "source": [
    "merged_df['Country Name'].nunique()"
   ]
  },
  {
   "cell_type": "code",
   "execution_count": 7,
   "metadata": {},
   "outputs": [
    {
     "data": {
      "text/plain": [
       "array(['Aruba', 'Africa Eastern and Southern', 'Afghanistan',\n",
       "       'Africa Western and Central', 'Angola', 'Albania', 'Andorra',\n",
       "       'Arab World', 'United Arab Emirates', 'Argentina', 'Armenia',\n",
       "       'American Samoa', 'Antigua and Barbuda', 'Australia', 'Austria',\n",
       "       'Azerbaijan', 'Burundi', 'Belgium', 'Benin', 'Burkina Faso',\n",
       "       'Bangladesh', 'Bulgaria', 'Bahrain', 'Bahamas, The',\n",
       "       'Bosnia and Herzegovina', 'Belarus', 'Belize', 'Bermuda',\n",
       "       'Bolivia', 'Brazil', 'Barbados', 'Brunei Darussalam', 'Bhutan',\n",
       "       'Botswana', 'Central African Republic', 'Canada',\n",
       "       'Central Europe and the Baltics', 'Switzerland', 'Channel Islands',\n",
       "       'Chile', 'China', \"Cote d'Ivoire\", 'Cameroon', 'Congo, Dem. Rep.',\n",
       "       'Congo, Rep.', 'Colombia', 'Comoros', 'Cabo Verde', 'Costa Rica',\n",
       "       'Caribbean small states', 'Cuba', 'Curacao', 'Cayman Islands',\n",
       "       'Cyprus', 'Czechia', 'Germany', 'Djibouti', 'Dominica', 'Denmark',\n",
       "       'Dominican Republic', 'Algeria',\n",
       "       'East Asia & Pacific (excluding high income)',\n",
       "       'Early-demographic dividend', 'East Asia & Pacific',\n",
       "       'Europe & Central Asia (excluding high income)',\n",
       "       'Europe & Central Asia', 'Ecuador', 'Egypt, Arab Rep.',\n",
       "       'Euro area', 'Eritrea', 'Spain', 'Estonia', 'Ethiopia',\n",
       "       'European Union', 'Fragile and conflict affected situations',\n",
       "       'Finland', 'Fiji', 'France', 'Faroe Islands',\n",
       "       'Micronesia, Fed. Sts.', 'Gabon', 'United Kingdom', 'Georgia',\n",
       "       'Ghana', 'Gibraltar', 'Guinea', 'Gambia, The', 'Guinea-Bissau',\n",
       "       'Equatorial Guinea', 'Greece', 'Grenada', 'Greenland', 'Guatemala',\n",
       "       'Guam', 'Guyana', 'High income', 'Hong Kong SAR, China',\n",
       "       'Honduras', 'Heavily indebted poor countries (HIPC)', 'Croatia',\n",
       "       'Haiti', 'Hungary', 'IBRD only', 'IDA & IBRD total', 'IDA total',\n",
       "       'IDA blend', 'Indonesia', 'IDA only', 'Isle of Man', 'India',\n",
       "       'Ireland', 'Iran, Islamic Rep.', 'Iraq', 'Iceland', 'Israel',\n",
       "       'Italy', 'Jamaica', 'Jordan', 'Japan', 'Kazakhstan', 'Kenya',\n",
       "       'Kyrgyz Republic', 'Cambodia', 'Kiribati', 'St. Kitts and Nevis',\n",
       "       'Korea, Rep.', 'Kuwait',\n",
       "       'Latin America & Caribbean (excluding high income)', 'Lao PDR',\n",
       "       'Lebanon', 'Liberia', 'Libya', 'St. Lucia',\n",
       "       'Latin America & Caribbean',\n",
       "       'Least developed countries: UN classification', 'Low income',\n",
       "       'Liechtenstein', 'Sri Lanka', 'Lower middle income',\n",
       "       'Low & middle income', 'Lesotho', 'Late-demographic dividend',\n",
       "       'Lithuania', 'Luxembourg', 'Latvia', 'Macao SAR, China',\n",
       "       'St. Martin (French part)', 'Morocco', 'Monaco', 'Moldova',\n",
       "       'Madagascar', 'Maldives', 'Middle East & North Africa', 'Mexico',\n",
       "       'Marshall Islands', 'Middle income', 'North Macedonia', 'Mali',\n",
       "       'Malta', 'Myanmar',\n",
       "       'Middle East & North Africa (excluding high income)', 'Montenegro',\n",
       "       'Mongolia', 'Northern Mariana Islands', 'Mozambique', 'Mauritania',\n",
       "       'Mauritius', 'Malawi', 'Malaysia', 'North America', 'Namibia',\n",
       "       'New Caledonia', 'Niger', 'Nigeria', 'Nicaragua', 'Netherlands',\n",
       "       'Norway', 'Nepal', 'Nauru', 'New Zealand', 'OECD members', 'Oman',\n",
       "       'Other small states', 'Pakistan', 'Panama', 'Peru', 'Philippines',\n",
       "       'Palau', 'Papua New Guinea', 'Poland', 'Pre-demographic dividend',\n",
       "       'Puerto Rico', \"Korea, Dem. People's Rep.\", 'Portugal', 'Paraguay',\n",
       "       'West Bank and Gaza', 'Pacific island small states',\n",
       "       'Post-demographic dividend', 'French Polynesia', 'Qatar',\n",
       "       'Romania', 'Russian Federation', 'Rwanda', 'South Asia',\n",
       "       'Saudi Arabia', 'Sudan', 'Senegal', 'Singapore', 'Solomon Islands',\n",
       "       'Sierra Leone', 'El Salvador', 'San Marino', 'Somalia', 'Serbia',\n",
       "       'Sub-Saharan Africa (excluding high income)', 'South Sudan',\n",
       "       'Sub-Saharan Africa', 'Small states', 'Sao Tome and Principe',\n",
       "       'Suriname', 'Slovak Republic', 'Slovenia', 'Sweden', 'Eswatini',\n",
       "       'Sint Maarten (Dutch part)', 'Seychelles', 'Syrian Arab Republic',\n",
       "       'Turks and Caicos Islands', 'Chad',\n",
       "       'East Asia & Pacific (IDA & IBRD countries)',\n",
       "       'Europe & Central Asia (IDA & IBRD countries)', 'Togo', 'Thailand',\n",
       "       'Tajikistan', 'Turkmenistan',\n",
       "       'Latin America & the Caribbean (IDA & IBRD countries)',\n",
       "       'Timor-Leste', 'Middle East & North Africa (IDA & IBRD countries)',\n",
       "       'Tonga', 'South Asia (IDA & IBRD)',\n",
       "       'Sub-Saharan Africa (IDA & IBRD countries)', 'Trinidad and Tobago',\n",
       "       'Tunisia', 'Turkiye', 'Tuvalu', 'Tanzania', 'Uganda', 'Ukraine',\n",
       "       'Upper middle income', 'Uruguay', 'United States', 'Uzbekistan',\n",
       "       'St. Vincent and the Grenadines', 'Venezuela, RB',\n",
       "       'British Virgin Islands', 'Virgin Islands (U.S.)', 'Viet Nam',\n",
       "       'Vanuatu', 'World', 'Samoa', 'Kosovo', 'Yemen, Rep.',\n",
       "       'South Africa', 'Zambia', 'Zimbabwe'], dtype=object)"
      ]
     },
     "execution_count": 7,
     "metadata": {},
     "output_type": "execute_result"
    }
   ],
   "source": [
    "merged_df['Country Name'].unique()"
   ]
  },
  {
   "cell_type": "code",
   "execution_count": 8,
   "metadata": {},
   "outputs": [],
   "source": [
    "merged_df.fillna(0, inplace=True)"
   ]
  },
  {
   "cell_type": "code",
   "execution_count": 9,
   "metadata": {},
   "outputs": [
    {
     "data": {
      "application/vnd.plotly.v1+json": {
       "config": {
        "plotlyServerURL": "https://plot.ly"
       },
       "data": [
        {
         "hovertemplate": "Country Name=Aruba<br>Year=%{x}<br>Nilai GDP=%{y}<extra></extra>",
         "legendgroup": "Aruba",
         "line": {
          "color": "#636efa",
          "dash": "solid"
         },
         "marker": {
          "symbol": "circle"
         },
         "mode": "markers+lines",
         "name": "Aruba",
         "showlegend": true,
         "type": "scattergl",
         "x": [
          2000,
          2001,
          2002,
          2003,
          2004,
          2005,
          2006,
          2007,
          2008,
          2009,
          2010,
          2011,
          2012,
          2013,
          2014,
          2015,
          2016,
          2017,
          2018,
          2019,
          2020,
          2021,
          2022,
          2023
         ],
         "xaxis": "x",
         "y": [
          7.622920649,
          4.18200163,
          -0.944953481,
          1.110504599,
          7.293728071,
          -0.383137672,
          1.127411464,
          3.089544385,
          1.835755172,
          -11.67774137,
          -2.733456793,
          3.369237184,
          -1.040799884,
          6.431482604,
          -1.586575138,
          -0.623625902,
          1.71962498,
          7.048533386,
          2.381730186,
          -2.302836303,
          -23.98258096,
          27.63935697,
          10.45831735,
          0
         ],
         "yaxis": "y"
        },
        {
         "hovertemplate": "Country Name=Africa Eastern and Southern<br>Year=%{x}<br>Nilai GDP=%{y}<extra></extra>",
         "legendgroup": "Africa Eastern and Southern",
         "line": {
          "color": "#EF553B",
          "dash": "solid"
         },
         "marker": {
          "symbol": "circle"
         },
         "mode": "markers+lines",
         "name": "Africa Eastern and Southern",
         "showlegend": true,
         "type": "scattergl",
         "x": [
          2000,
          2001,
          2002,
          2003,
          2004,
          2005,
          2006,
          2007,
          2008,
          2009,
          2010,
          2011,
          2012,
          2013,
          2014,
          2015,
          2016,
          2017,
          2018,
          2019,
          2020,
          2021,
          2022,
          2023
         ],
         "xaxis": "x",
         "y": [
          3.219802994,
          3.510146739,
          3.841646362,
          2.963405156,
          5.557363528,
          6.164835859,
          6.5775942,
          6.646593491,
          4.371097572,
          0.880331358,
          5.233777972,
          4.069019771,
          1.756210204,
          4.250345099,
          3.983181784,
          3.011571982,
          2.183580781,
          2.651399742,
          2.681718104,
          2.189259284,
          -2.780378552,
          4.497379983,
          3.554422329,
          2.622310407
         ],
         "yaxis": "y"
        },
        {
         "hovertemplate": "Country Name=Afghanistan<br>Year=%{x}<br>Nilai GDP=%{y}<extra></extra>",
         "legendgroup": "Afghanistan",
         "line": {
          "color": "#00cc96",
          "dash": "solid"
         },
         "marker": {
          "symbol": "circle"
         },
         "mode": "markers+lines",
         "name": "Afghanistan",
         "showlegend": true,
         "type": "scattergl",
         "x": [
          2000,
          2001,
          2002,
          2003,
          2004,
          2005,
          2006,
          2007,
          2008,
          2009,
          2010,
          2011,
          2012,
          2013,
          2014,
          2015,
          2016,
          2017,
          2018,
          2019,
          2020,
          2021,
          2022,
          2023
         ],
         "xaxis": "x",
         "y": [
          0,
          -9.431974068,
          28.60000116,
          8.832277803,
          1.414117993,
          11.22971483,
          5.357403247,
          13.82631955,
          3.92498382,
          21.39052839,
          14.36244147,
          0.426354777,
          12.75228709,
          5.600744659,
          2.724543362,
          1.451314661,
          2.260314203,
          2.647003203,
          1.189228129,
          3.911603416,
          -2.351100672,
          -20.73883937,
          -6.240171992,
          0
         ],
         "yaxis": "y"
        },
        {
         "hovertemplate": "Country Name=Africa Western and Central<br>Year=%{x}<br>Nilai GDP=%{y}<extra></extra>",
         "legendgroup": "Africa Western and Central",
         "line": {
          "color": "#ab63fa",
          "dash": "solid"
         },
         "marker": {
          "symbol": "circle"
         },
         "mode": "markers+lines",
         "name": "Africa Western and Central",
         "showlegend": true,
         "type": "scattergl",
         "x": [
          2000,
          2001,
          2002,
          2003,
          2004,
          2005,
          2006,
          2007,
          2008,
          2009,
          2010,
          2011,
          2012,
          2013,
          2014,
          2015,
          2016,
          2017,
          2018,
          2019,
          2020,
          2021,
          2022,
          2023
         ],
         "xaxis": "x",
         "y": [
          3.859760263,
          5.209094155,
          9.927427149,
          5.532966565,
          7.992698604,
          5.828940032,
          5.374761558,
          5.522718727,
          6.281465308,
          6.282102398,
          6.970600619,
          4.849289011,
          5.135432218,
          6.106610282,
          5.92558282,
          2.813979007,
          0.141488618,
          2.28496137,
          2.842645003,
          3.222028518,
          -1.004417394,
          3.994854397,
          3.784485678,
          3.342775594
         ],
         "yaxis": "y"
        },
        {
         "hovertemplate": "Country Name=Angola<br>Year=%{x}<br>Nilai GDP=%{y}<extra></extra>",
         "legendgroup": "Angola",
         "line": {
          "color": "#FFA15A",
          "dash": "solid"
         },
         "marker": {
          "symbol": "circle"
         },
         "mode": "markers+lines",
         "name": "Angola",
         "showlegend": true,
         "type": "scattergl",
         "x": [
          2000,
          2001,
          2002,
          2003,
          2004,
          2005,
          2006,
          2007,
          2008,
          2009,
          2010,
          2011,
          2012,
          2013,
          2014,
          2015,
          2016,
          2017,
          2018,
          2019,
          2020,
          2021,
          2022,
          2023
         ],
         "xaxis": "x",
         "y": [
          3.054624234,
          4.205998556,
          13.66568876,
          2.99,
          10.95000001,
          15.02999999,
          11.55,
          14.01000001,
          11.16999999,
          0.860000002,
          4.398375938,
          3.472053148,
          8.542107076,
          4.954613031,
          4.82255927,
          0.943571561,
          -2.580111222,
          -0.147149825,
          -1.316361689,
          -0.702272958,
          -5.638214717,
          1.199210521,
          3.04540301,
          0.856000935
         ],
         "yaxis": "y"
        },
        {
         "hovertemplate": "Country Name=Albania<br>Year=%{x}<br>Nilai GDP=%{y}<extra></extra>",
         "legendgroup": "Albania",
         "line": {
          "color": "#19d3f3",
          "dash": "solid"
         },
         "marker": {
          "symbol": "circle"
         },
         "mode": "markers+lines",
         "name": "Albania",
         "showlegend": true,
         "type": "scattergl",
         "x": [
          2000,
          2001,
          2002,
          2003,
          2004,
          2005,
          2006,
          2007,
          2008,
          2009,
          2010,
          2011,
          2012,
          2013,
          2014,
          2015,
          2016,
          2017,
          2018,
          2019,
          2020,
          2021,
          2022,
          2023
         ],
         "xaxis": "x",
         "y": [
          6.946216592,
          8.293312631,
          4.53652416,
          5.528637465,
          5.514667911,
          5.526424247,
          5.902659036,
          5.983259519,
          7.50004143,
          3.35428935,
          3.706938153,
          2.545406145,
          1.4172428,
          1.002017541,
          1.774448853,
          2.218726375,
          3.314980684,
          3.80259872,
          4.019345617,
          2.087711996,
          -3.302082039,
          8.908527818,
          4.856401652,
          3.439149499
         ],
         "yaxis": "y"
        },
        {
         "hovertemplate": "Country Name=Andorra<br>Year=%{x}<br>Nilai GDP=%{y}<extra></extra>",
         "legendgroup": "Andorra",
         "line": {
          "color": "#FF6692",
          "dash": "solid"
         },
         "marker": {
          "symbol": "circle"
         },
         "mode": "markers+lines",
         "name": "Andorra",
         "showlegend": true,
         "type": "scattergl",
         "x": [
          2000,
          2001,
          2002,
          2003,
          2004,
          2005,
          2006,
          2007,
          2008,
          2009,
          2010,
          2011,
          2012,
          2013,
          2014,
          2015,
          2016,
          2017,
          2018,
          2019,
          2020,
          2021,
          2022,
          2023
         ],
         "xaxis": "x",
         "y": [
          3.528362361,
          8.119357722,
          4.546362214,
          8.694203716,
          8.135676338,
          5.397795985,
          4.808688699,
          1.553188141,
          -5.559186369,
          -5.302846543,
          -1.974958,
          -0.008069753,
          -4.974443719,
          -3.547596515,
          2.504465521,
          1.434140395,
          3.70967807,
          0.34607189,
          1.58876549,
          2.015547638,
          -11.18393994,
          8.287199781,
          9.563797527,
          1.444184231
         ],
         "yaxis": "y"
        },
        {
         "hovertemplate": "Country Name=Arab World<br>Year=%{x}<br>Nilai GDP=%{y}<extra></extra>",
         "legendgroup": "Arab World",
         "line": {
          "color": "#B6E880",
          "dash": "solid"
         },
         "marker": {
          "symbol": "circle"
         },
         "mode": "markers+lines",
         "name": "Arab World",
         "showlegend": true,
         "type": "scattergl",
         "x": [
          2000,
          2001,
          2002,
          2003,
          2004,
          2005,
          2006,
          2007,
          2008,
          2009,
          2010,
          2011,
          2012,
          2013,
          2014,
          2015,
          2016,
          2017,
          2018,
          2019,
          2020,
          2021,
          2022,
          2023
         ],
         "xaxis": "x",
         "y": [
          6.598100731,
          1.67856914,
          0.66659276,
          4.8710045,
          8.872880802,
          5.466559184,
          6.165782658,
          4.494993727,
          5.550755074,
          0.409202169,
          4.81457027,
          3.572876912,
          5.003580087,
          2.520007657,
          2.383705442,
          3.387560307,
          3.609446551,
          1.511283907,
          2.623157037,
          1.671110889,
          -5.400979217,
          5.116647029,
          5.793108985,
          0.92979198
         ],
         "yaxis": "y"
        },
        {
         "hovertemplate": "Country Name=United Arab Emirates<br>Year=%{x}<br>Nilai GDP=%{y}<extra></extra>",
         "legendgroup": "United Arab Emirates",
         "line": {
          "color": "#FF97FF",
          "dash": "solid"
         },
         "marker": {
          "symbol": "circle"
         },
         "mode": "markers+lines",
         "name": "United Arab Emirates",
         "showlegend": true,
         "type": "scattergl",
         "x": [
          2000,
          2001,
          2002,
          2003,
          2004,
          2005,
          2006,
          2007,
          2008,
          2009,
          2010,
          2011,
          2012,
          2013,
          2014,
          2015,
          2016,
          2017,
          2018,
          2019,
          2020,
          2021,
          2022,
          2023
         ],
         "xaxis": "x",
         "y": [
          10.85270422,
          1.399085037,
          2.433456811,
          8.800540814,
          9.566436638,
          4.855141196,
          9.837319769,
          3.184390173,
          3.191836273,
          -5.242921904,
          1.602850047,
          6.216121817,
          1.824480785,
          5.055559658,
          4.165691841,
          6.786772877,
          5.56149076,
          0.735068714,
          1.313913882,
          1.108348135,
          -4.957052433,
          4.354755297,
          7.850418123,
          3.403857206
         ],
         "yaxis": "y"
        },
        {
         "hovertemplate": "Country Name=Argentina<br>Year=%{x}<br>Nilai GDP=%{y}<extra></extra>",
         "legendgroup": "Argentina",
         "line": {
          "color": "#FECB52",
          "dash": "solid"
         },
         "marker": {
          "symbol": "circle"
         },
         "mode": "markers+lines",
         "name": "Argentina",
         "showlegend": true,
         "type": "scattergl",
         "x": [
          2000,
          2001,
          2002,
          2003,
          2004,
          2005,
          2006,
          2007,
          2008,
          2009,
          2010,
          2011,
          2012,
          2013,
          2014,
          2015,
          2016,
          2017,
          2018,
          2019,
          2020,
          2021,
          2022,
          2023
         ],
         "xaxis": "x",
         "y": [
          -0.788998939,
          -4.408839683,
          -10.89448483,
          8.837040796,
          9.029573301,
          8.85165992,
          8.0471515,
          9.007650875,
          4.057233103,
          -5.918525076,
          10.12539816,
          6.003951693,
          -1.026420454,
          2.405323781,
          -2.512615321,
          2.731159828,
          -2.080327844,
          2.818502978,
          -2.617396463,
          -2.000861003,
          -9.900484814,
          10.71800993,
          4.95636996,
          -1.550501536
         ],
         "yaxis": "y"
        },
        {
         "hovertemplate": "Country Name=Armenia<br>Year=%{x}<br>Nilai GDP=%{y}<extra></extra>",
         "legendgroup": "Armenia",
         "line": {
          "color": "#636efa",
          "dash": "solid"
         },
         "marker": {
          "symbol": "circle"
         },
         "mode": "markers+lines",
         "name": "Armenia",
         "showlegend": true,
         "type": "scattergl",
         "x": [
          2000,
          2001,
          2002,
          2003,
          2004,
          2005,
          2006,
          2007,
          2008,
          2009,
          2010,
          2011,
          2012,
          2013,
          2014,
          2015,
          2016,
          2017,
          2018,
          2019,
          2020,
          2021,
          2022,
          2023
         ],
         "xaxis": "x",
         "y": [
          5.900000003,
          9.599999999,
          13.2,
          14,
          10.5,
          13.9,
          13.2,
          13.7,
          6.9,
          -14.1,
          2.2,
          4.699999999,
          7.200000001,
          3.3,
          3.600000001,
          3.199999999,
          0.2,
          7.500000002,
          5.2,
          7.599999999,
          -7.199999999,
          5.800000001,
          12.6,
          8.7
         ],
         "yaxis": "y"
        },
        {
         "hovertemplate": "Country Name=American Samoa<br>Year=%{x}<br>Nilai GDP=%{y}<extra></extra>",
         "legendgroup": "American Samoa",
         "line": {
          "color": "#EF553B",
          "dash": "solid"
         },
         "marker": {
          "symbol": "circle"
         },
         "mode": "markers+lines",
         "name": "American Samoa",
         "showlegend": true,
         "type": "scattergl",
         "x": [
          2000,
          2001,
          2002,
          2003,
          2004,
          2005,
          2006,
          2007,
          2008,
          2009,
          2010,
          2011,
          2012,
          2013,
          2014,
          2015,
          2016,
          2017,
          2018,
          2019,
          2020,
          2021,
          2022,
          2023
         ],
         "xaxis": "x",
         "y": [
          0,
          0,
          0,
          0.965517241,
          0.409836066,
          -0.408163265,
          -4.098360656,
          1.851851852,
          -2.657342657,
          -4.166666667,
          0.299850075,
          0,
          -4.334828102,
          -2.5,
          1.762820513,
          3.149606299,
          -1.679389313,
          -6.98757764,
          2.671118531,
          -0.487804878,
          4.411764706,
          -0.782472613,
          1.735015773,
          0
         ],
         "yaxis": "y"
        },
        {
         "hovertemplate": "Country Name=Antigua and Barbuda<br>Year=%{x}<br>Nilai GDP=%{y}<extra></extra>",
         "legendgroup": "Antigua and Barbuda",
         "line": {
          "color": "#00cc96",
          "dash": "solid"
         },
         "marker": {
          "symbol": "circle"
         },
         "mode": "markers+lines",
         "name": "Antigua and Barbuda",
         "showlegend": true,
         "type": "scattergl",
         "x": [
          2000,
          2001,
          2002,
          2003,
          2004,
          2005,
          2006,
          2007,
          2008,
          2009,
          2010,
          2011,
          2012,
          2013,
          2014,
          2015,
          2016,
          2017,
          2018,
          2019,
          2020,
          2021,
          2022,
          2023
         ],
         "xaxis": "x",
         "y": [
          6.203491677,
          -4.548068042,
          1.027224987,
          6.076895997,
          5.766735432,
          6.473917198,
          12.70801253,
          9.31533051,
          -0.014006447,
          -11.96296608,
          -7.840430063,
          -1.958721811,
          3.372835252,
          -0.600715512,
          2.211452513,
          1.445155299,
          4.099765539,
          2.463333366,
          6.953186092,
          3.10044515,
          -18.8803992,
          8.191718462,
          9.516395644,
          3.862012187
         ],
         "yaxis": "y"
        },
        {
         "hovertemplate": "Country Name=Australia<br>Year=%{x}<br>Nilai GDP=%{y}<extra></extra>",
         "legendgroup": "Australia",
         "line": {
          "color": "#ab63fa",
          "dash": "solid"
         },
         "marker": {
          "symbol": "circle"
         },
         "mode": "markers+lines",
         "name": "Australia",
         "showlegend": true,
         "type": "scattergl",
         "x": [
          2000,
          2001,
          2002,
          2003,
          2004,
          2005,
          2006,
          2007,
          2008,
          2009,
          2010,
          2011,
          2012,
          2013,
          2014,
          2015,
          2016,
          2017,
          2018,
          2019,
          2020,
          2021,
          2022,
          2023
         ],
         "xaxis": "x",
         "y": [
          3.921517829,
          2.025127315,
          3.979633756,
          3.090687182,
          4.224321727,
          3.154139257,
          2.755298243,
          3.773392681,
          3.58622798,
          1.892573609,
          2.226538078,
          2.40897178,
          3.918409625,
          2.606198447,
          2.607401032,
          2.201810153,
          2.779142625,
          2.318709387,
          2.906363115,
          2.181109106,
          -0.334686359,
          2.111830889,
          4.268946393,
          3.016988104
         ],
         "yaxis": "y"
        },
        {
         "hovertemplate": "Country Name=Austria<br>Year=%{x}<br>Nilai GDP=%{y}<extra></extra>",
         "legendgroup": "Austria",
         "line": {
          "color": "#FFA15A",
          "dash": "solid"
         },
         "marker": {
          "symbol": "circle"
         },
         "mode": "markers+lines",
         "name": "Austria",
         "showlegend": true,
         "type": "scattergl",
         "x": [
          2000,
          2001,
          2002,
          2003,
          2004,
          2005,
          2006,
          2007,
          2008,
          2009,
          2010,
          2011,
          2012,
          2013,
          2014,
          2015,
          2016,
          2017,
          2018,
          2019,
          2020,
          2021,
          2022,
          2023
         ],
         "xaxis": "x",
         "y": [
          3.375722147,
          1.267168189,
          1.651553922,
          0.941470921,
          2.735120222,
          2.244065325,
          3.454041836,
          3.727415301,
          1.460423676,
          -3.764578178,
          1.837093677,
          2.922797284,
          0.680445577,
          0.025504712,
          0.661272849,
          1.014501586,
          1.989437162,
          2.258572433,
          2.425385361,
          1.450529184,
          -6.632991437,
          4.237866733,
          4.806430202,
          -0.828815089
         ],
         "yaxis": "y"
        },
        {
         "hovertemplate": "Country Name=Azerbaijan<br>Year=%{x}<br>Nilai GDP=%{y}<extra></extra>",
         "legendgroup": "Azerbaijan",
         "line": {
          "color": "#19d3f3",
          "dash": "solid"
         },
         "marker": {
          "symbol": "circle"
         },
         "mode": "markers+lines",
         "name": "Azerbaijan",
         "showlegend": true,
         "type": "scattergl",
         "x": [
          2000,
          2001,
          2002,
          2003,
          2004,
          2005,
          2006,
          2007,
          2008,
          2009,
          2010,
          2011,
          2012,
          2013,
          2014,
          2015,
          2016,
          2017,
          2018,
          2019,
          2020,
          2021,
          2022,
          2023
         ],
         "xaxis": "x",
         "y": [
          11.09999914,
          9.899999865,
          9.438916269,
          10.2082994,
          9.253801797,
          27.96153811,
          34.5,
          24.99999985,
          10.75897806,
          9.296363744,
          5.048944513,
          0.100000138,
          2.165239475,
          5.809800843,
          2.750506815,
          1.093975916,
          -3.09999988,
          0.199999939,
          1.5,
          2.500000067,
          -4.300000102,
          5.616451029,
          4.714802365,
          1.123974327
         ],
         "yaxis": "y"
        },
        {
         "hovertemplate": "Country Name=Burundi<br>Year=%{x}<br>Nilai GDP=%{y}<extra></extra>",
         "legendgroup": "Burundi",
         "line": {
          "color": "#FF6692",
          "dash": "solid"
         },
         "marker": {
          "symbol": "circle"
         },
         "mode": "markers+lines",
         "name": "Burundi",
         "showlegend": true,
         "type": "scattergl",
         "x": [
          2000,
          2001,
          2002,
          2003,
          2004,
          2005,
          2006,
          2007,
          2008,
          2009,
          2010,
          2011,
          2012,
          2013,
          2014,
          2015,
          2016,
          2017,
          2018,
          2019,
          2020,
          2021,
          2022,
          2023
         ],
         "xaxis": "x",
         "y": [
          -0.856864058,
          2.055807108,
          4.446519412,
          -1.22372796,
          4.833657768,
          0.900000001,
          5.413807145,
          3.451948564,
          4.861716367,
          3.812745366,
          5.124159994,
          4.032599988,
          4.446706331,
          4.924189898,
          4.240650214,
          -3.90000008,
          -0.600000909,
          0.500001262,
          1.609935421,
          1.812565324,
          0.327156893,
          3.099999999,
          1.848999439,
          2.700000597
         ],
         "yaxis": "y"
        },
        {
         "hovertemplate": "Country Name=Belgium<br>Year=%{x}<br>Nilai GDP=%{y}<extra></extra>",
         "legendgroup": "Belgium",
         "line": {
          "color": "#B6E880",
          "dash": "solid"
         },
         "marker": {
          "symbol": "circle"
         },
         "mode": "markers+lines",
         "name": "Belgium",
         "showlegend": true,
         "type": "scattergl",
         "x": [
          2000,
          2001,
          2002,
          2003,
          2004,
          2005,
          2006,
          2007,
          2008,
          2009,
          2010,
          2011,
          2012,
          2013,
          2014,
          2015,
          2016,
          2017,
          2018,
          2019,
          2020,
          2021,
          2022,
          2023
         ],
         "xaxis": "x",
         "y": [
          3.716679384,
          1.099618888,
          1.706884585,
          1.037982549,
          3.571204343,
          2.321737054,
          2.552349944,
          3.676881136,
          0.446928735,
          -2.020743062,
          2.864292708,
          1.694513899,
          0.739217283,
          0.459242193,
          1.578533143,
          2.041459009,
          1.266686409,
          1.619580278,
          1.792945193,
          2.240835331,
          -5.304473365,
          6.927983603,
          3.014721975,
          1.365055231
         ],
         "yaxis": "y"
        },
        {
         "hovertemplate": "Country Name=Benin<br>Year=%{x}<br>Nilai GDP=%{y}<extra></extra>",
         "legendgroup": "Benin",
         "line": {
          "color": "#FF97FF",
          "dash": "solid"
         },
         "marker": {
          "symbol": "circle"
         },
         "mode": "markers+lines",
         "name": "Benin",
         "showlegend": true,
         "type": "scattergl",
         "x": [
          2000,
          2001,
          2002,
          2003,
          2004,
          2005,
          2006,
          2007,
          2008,
          2009,
          2010,
          2011,
          2012,
          2013,
          2014,
          2015,
          2016,
          2017,
          2018,
          2019,
          2020,
          2021,
          2022,
          2023
         ],
         "xaxis": "x",
         "y": [
          5.857714205,
          5.333135706,
          4.643030871,
          3.443576776,
          4.429684554,
          1.713164564,
          3.943738828,
          5.986349322,
          4.896577084,
          2.319292139,
          2.114064726,
          2.963752919,
          4.811223316,
          7.191433721,
          6.357679098,
          1.77815106,
          3.339673426,
          5.671561952,
          6.697253622,
          6.865686628,
          3.8487924,
          7.155451646,
          6.253244914,
          6.352821609
         ],
         "yaxis": "y"
        },
        {
         "hovertemplate": "Country Name=Burkina Faso<br>Year=%{x}<br>Nilai GDP=%{y}<extra></extra>",
         "legendgroup": "Burkina Faso",
         "line": {
          "color": "#FECB52",
          "dash": "solid"
         },
         "marker": {
          "symbol": "circle"
         },
         "mode": "markers+lines",
         "name": "Burkina Faso",
         "showlegend": true,
         "type": "scattergl",
         "x": [
          2000,
          2001,
          2002,
          2003,
          2004,
          2005,
          2006,
          2007,
          2008,
          2009,
          2010,
          2011,
          2012,
          2013,
          2014,
          2015,
          2016,
          2017,
          2018,
          2019,
          2020,
          2021,
          2022,
          2023
         ],
         "xaxis": "x",
         "y": [
          1.888473889,
          6.613405745,
          4.35296383,
          7.802493889,
          4.478452137,
          8.661873228,
          6.253164688,
          4.111379018,
          5.799991741,
          2.961950859,
          8.446281577,
          6.622562613,
          6.45267238,
          5.792584845,
          4.326845615,
          3.921228794,
          5.957976708,
          6.203489411,
          6.604569068,
          5.88920497,
          2.010772624,
          6.939155247,
          1.777915438,
          2.960180013
         ],
         "yaxis": "y"
        },
        {
         "hovertemplate": "Country Name=Bangladesh<br>Year=%{x}<br>Nilai GDP=%{y}<extra></extra>",
         "legendgroup": "Bangladesh",
         "line": {
          "color": "#636efa",
          "dash": "solid"
         },
         "marker": {
          "symbol": "circle"
         },
         "mode": "markers+lines",
         "name": "Bangladesh",
         "showlegend": true,
         "type": "scattergl",
         "x": [
          2000,
          2001,
          2002,
          2003,
          2004,
          2005,
          2006,
          2007,
          2008,
          2009,
          2010,
          2011,
          2012,
          2013,
          2014,
          2015,
          2016,
          2017,
          2018,
          2019,
          2020,
          2021,
          2022,
          2023
         ],
         "xaxis": "x",
         "y": [
          5.293294719,
          5.077287775,
          3.83312394,
          4.7395674,
          5.23953291,
          6.535944939,
          6.671904986,
          7.058599354,
          6.013789757,
          5.045124799,
          5.571788185,
          6.464379125,
          6.521458779,
          6.013605658,
          6.061059359,
          6.552639878,
          7.113478213,
          6.590249998,
          7.31941263,
          7.881915151,
          3.448017551,
          6.938679124,
          7.099828776,
          5.77511237
         ],
         "yaxis": "y"
        },
        {
         "hovertemplate": "Country Name=Bulgaria<br>Year=%{x}<br>Nilai GDP=%{y}<extra></extra>",
         "legendgroup": "Bulgaria",
         "line": {
          "color": "#EF553B",
          "dash": "solid"
         },
         "marker": {
          "symbol": "circle"
         },
         "mode": "markers+lines",
         "name": "Bulgaria",
         "showlegend": true,
         "type": "scattergl",
         "x": [
          2000,
          2001,
          2002,
          2003,
          2004,
          2005,
          2006,
          2007,
          2008,
          2009,
          2010,
          2011,
          2012,
          2013,
          2014,
          2015,
          2016,
          2017,
          2018,
          2019,
          2020,
          2021,
          2022,
          2023
         ],
         "xaxis": "x",
         "y": [
          4.587226859,
          3.823703965,
          5.87192961,
          5.237154253,
          6.510425672,
          7.056349601,
          6.802589602,
          6.654387625,
          6.129558762,
          -3.347142263,
          1.555359513,
          2.090175696,
          0.748814803,
          -0.542751313,
          0.949448521,
          3.397553876,
          3.026628392,
          2.745927259,
          2.694906553,
          4.035188947,
          -3.966156136,
          7.661748074,
          3.926432221,
          1.84638956
         ],
         "yaxis": "y"
        },
        {
         "hovertemplate": "Country Name=Bahrain<br>Year=%{x}<br>Nilai GDP=%{y}<extra></extra>",
         "legendgroup": "Bahrain",
         "line": {
          "color": "#00cc96",
          "dash": "solid"
         },
         "marker": {
          "symbol": "circle"
         },
         "mode": "markers+lines",
         "name": "Bahrain",
         "showlegend": true,
         "type": "scattergl",
         "x": [
          2000,
          2001,
          2002,
          2003,
          2004,
          2005,
          2006,
          2007,
          2008,
          2009,
          2010,
          2011,
          2012,
          2013,
          2014,
          2015,
          2016,
          2017,
          2018,
          2019,
          2020,
          2021,
          2022,
          2023
         ],
         "xaxis": "x",
         "y": [
          5.300070056,
          2.490948108,
          3.348550668,
          6.296441979,
          6.980960594,
          6.768997871,
          6.467000122,
          8.293960448,
          6.245010775,
          2.539885936,
          4.334299173,
          1.983515012,
          3.72810843,
          5.41683981,
          4.350390853,
          2.863047304,
          3.473516575,
          3.81170619,
          2.289459607,
          2.166964669,
          -4.644637359,
          2.590407838,
          4.891500207,
          2.481465339
         ],
         "yaxis": "y"
        },
        {
         "hovertemplate": "Country Name=Bahamas, The<br>Year=%{x}<br>Nilai GDP=%{y}<extra></extra>",
         "legendgroup": "Bahamas, The",
         "line": {
          "color": "#ab63fa",
          "dash": "solid"
         },
         "marker": {
          "symbol": "circle"
         },
         "mode": "markers+lines",
         "name": "Bahamas, The",
         "showlegend": true,
         "type": "scattergl",
         "x": [
          2000,
          2001,
          2002,
          2003,
          2004,
          2005,
          2006,
          2007,
          2008,
          2009,
          2010,
          2011,
          2012,
          2013,
          2014,
          2015,
          2016,
          2017,
          2018,
          2019,
          2020,
          2021,
          2022,
          2023
         ],
         "xaxis": "x",
         "y": [
          4.148419308,
          2.626009827,
          2.704956247,
          -1.264916676,
          0.882373745,
          3.396084205,
          2.516592217,
          1.446099912,
          -2.32364807,
          -4.175428056,
          1.538662487,
          0.613170736,
          2.997903207,
          -2.863309257,
          1.847260843,
          0.996758611,
          -0.961908777,
          2.799518639,
          2.62988986,
          -1.357265209,
          -21.42346307,
          15.40314894,
          10.7820132,
          2.639055981
         ],
         "yaxis": "y"
        },
        {
         "hovertemplate": "Country Name=Bosnia and Herzegovina<br>Year=%{x}<br>Nilai GDP=%{y}<extra></extra>",
         "legendgroup": "Bosnia and Herzegovina",
         "line": {
          "color": "#FFA15A",
          "dash": "solid"
         },
         "marker": {
          "symbol": "circle"
         },
         "mode": "markers+lines",
         "name": "Bosnia and Herzegovina",
         "showlegend": true,
         "type": "scattergl",
         "x": [
          2000,
          2001,
          2002,
          2003,
          2004,
          2005,
          2006,
          2007,
          2008,
          2009,
          2010,
          2011,
          2012,
          2013,
          2014,
          2015,
          2016,
          2017,
          2018,
          2019,
          2020,
          2021,
          2022,
          2023
         ],
         "xaxis": "x",
         "y": [
          5.41431595,
          2.423313172,
          5.027444207,
          3.867138795,
          6.325266169,
          3.89717799,
          5.414003571,
          5.857126342,
          5.443831035,
          -3.00445593,
          0.86566926,
          0.959511247,
          -0.821836474,
          2.349856663,
          1.153851092,
          4.314750611,
          3.242255212,
          3.244100959,
          3.827499205,
          2.887343344,
          -3.015095148,
          7.38996234,
          4.226811011,
          1.676223469
         ],
         "yaxis": "y"
        },
        {
         "hovertemplate": "Country Name=Belarus<br>Year=%{x}<br>Nilai GDP=%{y}<extra></extra>",
         "legendgroup": "Belarus",
         "line": {
          "color": "#19d3f3",
          "dash": "solid"
         },
         "marker": {
          "symbol": "circle"
         },
         "mode": "markers+lines",
         "name": "Belarus",
         "showlegend": true,
         "type": "scattergl",
         "x": [
          2000,
          2001,
          2002,
          2003,
          2004,
          2005,
          2006,
          2007,
          2008,
          2009,
          2010,
          2011,
          2012,
          2013,
          2014,
          2015,
          2016,
          2017,
          2018,
          2019,
          2020,
          2021,
          2022,
          2023
         ],
         "xaxis": "x",
         "y": [
          5.800003361,
          4.72530605,
          5.045267505,
          7.043192512,
          11.44974306,
          9.400001589,
          9.999994721,
          8.600006599,
          10.19999947,
          0.199995249,
          7.798266835,
          5.378707504,
          1.687135534,
          1.003470772,
          1.726209989,
          -3.829663071,
          -2.525831409,
          2.53162368,
          3.149639499,
          1.446206671,
          -0.672904125,
          2.438866081,
          -4.658244891,
          3.886242145
         ],
         "yaxis": "y"
        },
        {
         "hovertemplate": "Country Name=Belize<br>Year=%{x}<br>Nilai GDP=%{y}<extra></extra>",
         "legendgroup": "Belize",
         "line": {
          "color": "#FF6692",
          "dash": "solid"
         },
         "marker": {
          "symbol": "circle"
         },
         "mode": "markers+lines",
         "name": "Belize",
         "showlegend": true,
         "type": "scattergl",
         "x": [
          2000,
          2001,
          2002,
          2003,
          2004,
          2005,
          2006,
          2007,
          2008,
          2009,
          2010,
          2011,
          2012,
          2013,
          2014,
          2015,
          2016,
          2017,
          2018,
          2019,
          2020,
          2021,
          2022,
          2023
         ],
         "xaxis": "x",
         "y": [
          12.24061403,
          4.993563302,
          5.399072105,
          9.665225324,
          4.780665783,
          2.219189271,
          4.511455442,
          3.297024123,
          -1.538593921,
          -0.450692254,
          1.239952915,
          -0.298181525,
          3.661599382,
          4.437643837,
          4.005318317,
          3.225493091,
          -0.011034415,
          -1.813365148,
          1.055598231,
          4.236234536,
          -13.73169108,
          17.86244784,
          8.734311438,
          4.541632208
         ],
         "yaxis": "y"
        },
        {
         "hovertemplate": "Country Name=Bermuda<br>Year=%{x}<br>Nilai GDP=%{y}<extra></extra>",
         "legendgroup": "Bermuda",
         "line": {
          "color": "#B6E880",
          "dash": "solid"
         },
         "marker": {
          "symbol": "circle"
         },
         "mode": "markers+lines",
         "name": "Bermuda",
         "showlegend": true,
         "type": "scattergl",
         "x": [
          2000,
          2001,
          2002,
          2003,
          2004,
          2005,
          2006,
          2007,
          2008,
          2009,
          2010,
          2011,
          2012,
          2013,
          2014,
          2015,
          2016,
          2017,
          2018,
          2019,
          2020,
          2021,
          2022,
          2023
         ],
         "xaxis": "x",
         "y": [
          9.317156411,
          7.222435538,
          -1.477790598,
          3.410706677,
          2.321267223,
          1.674206114,
          5.54386638,
          3.345139709,
          -1.865955826,
          -5.626697711,
          -2.502878289,
          -3.742744317,
          -5.305299107,
          -0.279708545,
          -3.701067594,
          0.7755297,
          -0.657206304,
          3.611419837,
          -0.4328013,
          0.306266735,
          -6.842869643,
          5.41909484,
          6.431133996,
          0
         ],
         "yaxis": "y"
        },
        {
         "hovertemplate": "Country Name=Bolivia<br>Year=%{x}<br>Nilai GDP=%{y}<extra></extra>",
         "legendgroup": "Bolivia",
         "line": {
          "color": "#FF97FF",
          "dash": "solid"
         },
         "marker": {
          "symbol": "circle"
         },
         "mode": "markers+lines",
         "name": "Bolivia",
         "showlegend": true,
         "type": "scattergl",
         "x": [
          2000,
          2001,
          2002,
          2003,
          2004,
          2005,
          2006,
          2007,
          2008,
          2009,
          2010,
          2011,
          2012,
          2013,
          2014,
          2015,
          2016,
          2017,
          2018,
          2019,
          2020,
          2021,
          2022,
          2023
         ],
         "xaxis": "x",
         "y": [
          2.507810809,
          1.683799127,
          2.485565738,
          2.711339837,
          4.173295589,
          4.421433127,
          4.797008824,
          4.564384269,
          6.148497875,
          3.356999574,
          4.126722591,
          5.204092443,
          5.122275581,
          6.796011428,
          5.460569506,
          4.85718718,
          4.263920864,
          4.195206334,
          4.223623653,
          2.21670564,
          -8.737884358,
          6.111372697,
          3.605680426,
          2.443471918
         ],
         "yaxis": "y"
        },
        {
         "hovertemplate": "Country Name=Brazil<br>Year=%{x}<br>Nilai GDP=%{y}<extra></extra>",
         "legendgroup": "Brazil",
         "line": {
          "color": "#FECB52",
          "dash": "solid"
         },
         "marker": {
          "symbol": "circle"
         },
         "mode": "markers+lines",
         "name": "Brazil",
         "showlegend": true,
         "type": "scattergl",
         "x": [
          2000,
          2001,
          2002,
          2003,
          2004,
          2005,
          2006,
          2007,
          2008,
          2009,
          2010,
          2011,
          2012,
          2013,
          2014,
          2015,
          2016,
          2017,
          2018,
          2019,
          2020,
          2021,
          2022,
          2023
         ],
         "xaxis": "x",
         "y": [
          4.387949447,
          1.389896401,
          3.053461859,
          1.140828998,
          5.759964637,
          3.202132061,
          3.961988711,
          6.069870607,
          5.094195447,
          -0.125812002,
          7.528225818,
          3.974423079,
          1.921175986,
          3.004822669,
          0.50395574,
          -3.545763393,
          -3.275916908,
          1.322869054,
          1.783666762,
          1.220777824,
          -3.276758796,
          4.762604379,
          3.016694354,
          2.908480487
         ],
         "yaxis": "y"
        },
        {
         "hovertemplate": "Country Name=Barbados<br>Year=%{x}<br>Nilai GDP=%{y}<extra></extra>",
         "legendgroup": "Barbados",
         "line": {
          "color": "#636efa",
          "dash": "solid"
         },
         "marker": {
          "symbol": "circle"
         },
         "mode": "markers+lines",
         "name": "Barbados",
         "showlegend": true,
         "type": "scattergl",
         "x": [
          2000,
          2001,
          2002,
          2003,
          2004,
          2005,
          2006,
          2007,
          2008,
          2009,
          2010,
          2011,
          2012,
          2013,
          2014,
          2015,
          2016,
          2017,
          2018,
          2019,
          2020,
          2021,
          2022,
          2023
         ],
         "xaxis": "x",
         "y": [
          4.447189623,
          -2.365464222,
          0.787401575,
          2.175480769,
          1.411598635,
          3.955457604,
          6.070545637,
          2.079183889,
          0.633461059,
          -5.017275959,
          -2.217710437,
          -0.77239614,
          -0.249110378,
          -1.313543468,
          -0.0582879,
          2.423925408,
          2.552677993,
          0.514753126,
          -0.746352497,
          0.379893733,
          -12.53966641,
          -1.18319712,
          13.48086157,
          4.516489659
         ],
         "yaxis": "y"
        },
        {
         "hovertemplate": "Country Name=Brunei Darussalam<br>Year=%{x}<br>Nilai GDP=%{y}<extra></extra>",
         "legendgroup": "Brunei Darussalam",
         "line": {
          "color": "#EF553B",
          "dash": "solid"
         },
         "marker": {
          "symbol": "circle"
         },
         "mode": "markers+lines",
         "name": "Brunei Darussalam",
         "showlegend": true,
         "type": "scattergl",
         "x": [
          2000,
          2001,
          2002,
          2003,
          2004,
          2005,
          2006,
          2007,
          2008,
          2009,
          2010,
          2011,
          2012,
          2013,
          2014,
          2015,
          2016,
          2017,
          2018,
          2019,
          2020,
          2021,
          2022,
          2023
         ],
         "xaxis": "x",
         "y": [
          2.849421858,
          2.744040518,
          3.872096967,
          2.903955477,
          0.504318253,
          0.387507208,
          4.397719678,
          0.154581812,
          -1.939714638,
          -1.764535541,
          2.598965746,
          3.745318352,
          0.912841671,
          -2.126028517,
          -2.508352566,
          -0.39238375,
          -2.477917718,
          1.328602552,
          0.052237791,
          3.869109865,
          1.13357335,
          -1.590762601,
          -1.628331545,
          1.407068229
         ],
         "yaxis": "y"
        },
        {
         "hovertemplate": "Country Name=Bhutan<br>Year=%{x}<br>Nilai GDP=%{y}<extra></extra>",
         "legendgroup": "Bhutan",
         "line": {
          "color": "#00cc96",
          "dash": "solid"
         },
         "marker": {
          "symbol": "circle"
         },
         "mode": "markers+lines",
         "name": "Bhutan",
         "showlegend": true,
         "type": "scattergl",
         "x": [
          2000,
          2001,
          2002,
          2003,
          2004,
          2005,
          2006,
          2007,
          2008,
          2009,
          2010,
          2011,
          2012,
          2013,
          2014,
          2015,
          2016,
          2017,
          2018,
          2019,
          2020,
          2021,
          2022,
          2023
         ],
         "xaxis": "x",
         "y": [
          3.355068305,
          7.328374452,
          10.44377954,
          7.786560536,
          5.157257256,
          6.935071466,
          5.640805265,
          16.10478365,
          4.529448692,
          7.667492403,
          11.9318739,
          8.307647832,
          5.095492644,
          1.658455578,
          5.717865612,
          6.568454317,
          8.400553755,
          3.507567403,
          3.501871857,
          5.755148512,
          -10.21839742,
          4.421367389,
          5.213867838,
          0
         ],
         "yaxis": "y"
        },
        {
         "hovertemplate": "Country Name=Botswana<br>Year=%{x}<br>Nilai GDP=%{y}<extra></extra>",
         "legendgroup": "Botswana",
         "line": {
          "color": "#ab63fa",
          "dash": "solid"
         },
         "marker": {
          "symbol": "circle"
         },
         "mode": "markers+lines",
         "name": "Botswana",
         "showlegend": true,
         "type": "scattergl",
         "x": [
          2000,
          2001,
          2002,
          2003,
          2004,
          2005,
          2006,
          2007,
          2008,
          2009,
          2010,
          2011,
          2012,
          2013,
          2014,
          2015,
          2016,
          2017,
          2018,
          2019,
          2020,
          2021,
          2022,
          2023
         ],
         "xaxis": "x",
         "y": [
          1.987695834,
          0.25057395,
          6.069530876,
          4.62589475,
          2.705821706,
          4.556645653,
          8.363871093,
          5.792555777,
          3.252072958,
          -14.14423462,
          10.12220912,
          6.838529748,
          -0.170900761,
          11.10282378,
          5.694777382,
          -4.85133564,
          7.204424759,
          4.114363663,
          4.188093554,
          3.032202574,
          -8.728752526,
          11.92063651,
          5.486028178,
          2.730919046
         ],
         "yaxis": "y"
        },
        {
         "hovertemplate": "Country Name=Central African Republic<br>Year=%{x}<br>Nilai GDP=%{y}<extra></extra>",
         "legendgroup": "Central African Republic",
         "line": {
          "color": "#FFA15A",
          "dash": "solid"
         },
         "marker": {
          "symbol": "circle"
         },
         "mode": "markers+lines",
         "name": "Central African Republic",
         "showlegend": true,
         "type": "scattergl",
         "x": [
          2000,
          2001,
          2002,
          2003,
          2004,
          2005,
          2006,
          2007,
          2008,
          2009,
          2010,
          2011,
          2012,
          2013,
          2014,
          2015,
          2016,
          2017,
          2018,
          2019,
          2020,
          2021,
          2022,
          2023
         ],
         "xaxis": "x",
         "y": [
          -2.48943244,
          4.464739026,
          3.616542192,
          -5.397485219,
          5.994884228,
          0.908210515,
          4.77108543,
          4.607534855,
          2.054130962,
          8.587260426,
          4.630818432,
          4.194615337,
          5.053761254,
          -36.3919771,
          0.081070515,
          4.33712103,
          4.750316841,
          4.527278213,
          3.789443593,
          3.1,
          0.899999997,
          0.982919996,
          0.502110003,
          0.870251451
         ],
         "yaxis": "y"
        },
        {
         "hovertemplate": "Country Name=Canada<br>Year=%{x}<br>Nilai GDP=%{y}<extra></extra>",
         "legendgroup": "Canada",
         "line": {
          "color": "#19d3f3",
          "dash": "solid"
         },
         "marker": {
          "symbol": "circle"
         },
         "mode": "markers+lines",
         "name": "Canada",
         "showlegend": true,
         "type": "scattergl",
         "x": [
          2000,
          2001,
          2002,
          2003,
          2004,
          2005,
          2006,
          2007,
          2008,
          2009,
          2010,
          2011,
          2012,
          2013,
          2014,
          2015,
          2016,
          2017,
          2018,
          2019,
          2020,
          2021,
          2022,
          2023
         ],
         "xaxis": "x",
         "y": [
          5.138539186,
          1.875098132,
          2.99925535,
          1.806385135,
          3.092363835,
          3.210454357,
          2.6379438,
          2.049904611,
          0.99540631,
          -2.915086239,
          3.090806374,
          3.13719439,
          1.755661325,
          2.325813574,
          2.873466772,
          0.649970994,
          1.038550935,
          3.033834903,
          2.742963431,
          1.908431925,
          -5.038233441,
          5.286956891,
          3.819866339,
          1.065994453
         ],
         "yaxis": "y"
        },
        {
         "hovertemplate": "Country Name=Central Europe and the Baltics<br>Year=%{x}<br>Nilai GDP=%{y}<extra></extra>",
         "legendgroup": "Central Europe and the Baltics",
         "line": {
          "color": "#FF6692",
          "dash": "solid"
         },
         "marker": {
          "symbol": "circle"
         },
         "mode": "markers+lines",
         "name": "Central Europe and the Baltics",
         "showlegend": true,
         "type": "scattergl",
         "x": [
          2000,
          2001,
          2002,
          2003,
          2004,
          2005,
          2006,
          2007,
          2008,
          2009,
          2010,
          2011,
          2012,
          2013,
          2014,
          2015,
          2016,
          2017,
          2018,
          2019,
          2020,
          2021,
          2022,
          2023
         ],
         "xaxis": "x",
         "y": [
          3.956858383,
          3.080647759,
          3.614744067,
          4.087104826,
          5.83995749,
          5.019021837,
          6.594761131,
          6.4329645,
          3.9356154,
          -3.506548725,
          1.436268024,
          3.514208876,
          0.825752521,
          0.667716325,
          3.215752783,
          4.026322092,
          2.75319275,
          5.101273967,
          4.946400183,
          3.908521817,
          -3.41747604,
          6.433398707,
          4.247073127,
          0.511703045
         ],
         "yaxis": "y"
        },
        {
         "hovertemplate": "Country Name=Switzerland<br>Year=%{x}<br>Nilai GDP=%{y}<extra></extra>",
         "legendgroup": "Switzerland",
         "line": {
          "color": "#B6E880",
          "dash": "solid"
         },
         "marker": {
          "symbol": "circle"
         },
         "mode": "markers+lines",
         "name": "Switzerland",
         "showlegend": true,
         "type": "scattergl",
         "x": [
          2000,
          2001,
          2002,
          2003,
          2004,
          2005,
          2006,
          2007,
          2008,
          2009,
          2010,
          2011,
          2012,
          2013,
          2014,
          2015,
          2016,
          2017,
          2018,
          2019,
          2020,
          2021,
          2022,
          2023
         ],
         "xaxis": "x",
         "y": [
          3.958719719,
          1.575661967,
          -0.073217084,
          -0.032398477,
          2.70170921,
          2.749698985,
          4.07362845,
          3.916375818,
          2.807983632,
          -2.297374631,
          3.243397336,
          1.813108192,
          1.179253833,
          1.792144057,
          2.349881275,
          1.644627687,
          2.068689667,
          1.362799557,
          2.860445795,
          1.141982325,
          -2.141737207,
          5.391888041,
          2.568328178,
          0.716066869
         ],
         "yaxis": "y"
        },
        {
         "hovertemplate": "Country Name=Channel Islands<br>Year=%{x}<br>Nilai GDP=%{y}<extra></extra>",
         "legendgroup": "Channel Islands",
         "line": {
          "color": "#FF97FF",
          "dash": "solid"
         },
         "marker": {
          "symbol": "circle"
         },
         "mode": "markers+lines",
         "name": "Channel Islands",
         "showlegend": true,
         "type": "scattergl",
         "x": [
          2000,
          2001,
          2002,
          2003,
          2004,
          2005,
          2006,
          2007,
          2008,
          2009,
          2010,
          2011,
          2012,
          2013,
          2014,
          2015,
          2016,
          2017,
          2018,
          2019,
          2020,
          2021,
          2022,
          2023
         ],
         "xaxis": "x",
         "y": [
          0,
          0,
          0,
          0,
          0,
          0,
          0,
          0,
          0,
          0,
          0,
          0,
          0,
          0,
          0,
          0,
          0,
          2.574424182,
          2.066446739,
          2.360744654,
          -8.467597317,
          15.4552113,
          7.805178745,
          0
         ],
         "yaxis": "y"
        },
        {
         "hovertemplate": "Country Name=Chile<br>Year=%{x}<br>Nilai GDP=%{y}<extra></extra>",
         "legendgroup": "Chile",
         "line": {
          "color": "#FECB52",
          "dash": "solid"
         },
         "marker": {
          "symbol": "circle"
         },
         "mode": "markers+lines",
         "name": "Chile",
         "showlegend": true,
         "type": "scattergl",
         "x": [
          2000,
          2001,
          2002,
          2003,
          2004,
          2005,
          2006,
          2007,
          2008,
          2009,
          2010,
          2011,
          2012,
          2013,
          2014,
          2015,
          2016,
          2017,
          2018,
          2019,
          2020,
          2021,
          2022,
          2023
         ],
         "xaxis": "x",
         "y": [
          4.971621489,
          3.154034924,
          3.20279914,
          4.723245267,
          6.674254167,
          5.837045715,
          6.049990829,
          5.168230987,
          3.789392802,
          -1.118037233,
          5.851651017,
          6.223896787,
          6.155340021,
          3.308508245,
          1.792649474,
          2.151942499,
          1.753038746,
          1.357695378,
          3.990029475,
          0.634367534,
          -6.143474792,
          11.33395707,
          2.058740081,
          0.218780667
         ],
         "yaxis": "y"
        },
        {
         "hovertemplate": "Country Name=China<br>Year=%{x}<br>Nilai GDP=%{y}<extra></extra>",
         "legendgroup": "China",
         "line": {
          "color": "#636efa",
          "dash": "solid"
         },
         "marker": {
          "symbol": "circle"
         },
         "mode": "markers+lines",
         "name": "China",
         "showlegend": true,
         "type": "scattergl",
         "x": [
          2000,
          2001,
          2002,
          2003,
          2004,
          2005,
          2006,
          2007,
          2008,
          2009,
          2010,
          2011,
          2012,
          2013,
          2014,
          2015,
          2016,
          2017,
          2018,
          2019,
          2020,
          2021,
          2022,
          2023
         ],
         "xaxis": "x",
         "y": [
          8.490093406,
          8.335733478,
          9.13363079,
          10.03803048,
          10.11362138,
          11.39459181,
          12.72095567,
          14.23086093,
          9.650678919,
          9.398725633,
          10.63587106,
          9.550832179,
          7.863736449,
          7.766150098,
          7.425763656,
          7.041328879,
          6.848762205,
          6.947200793,
          6.749773832,
          5.950500754,
          2.238638356,
          8.448469417,
          2.989084086,
          5.2
         ],
         "yaxis": "y"
        },
        {
         "hovertemplate": "Country Name=Cote d'Ivoire<br>Year=%{x}<br>Nilai GDP=%{y}<extra></extra>",
         "legendgroup": "Cote d'Ivoire",
         "line": {
          "color": "#EF553B",
          "dash": "solid"
         },
         "marker": {
          "symbol": "circle"
         },
         "mode": "markers+lines",
         "name": "Cote d'Ivoire",
         "showlegend": true,
         "type": "scattergl",
         "x": [
          2000,
          2001,
          2002,
          2003,
          2004,
          2005,
          2006,
          2007,
          2008,
          2009,
          2010,
          2011,
          2012,
          2013,
          2014,
          2015,
          2016,
          2017,
          2018,
          2019,
          2020,
          2021,
          2022,
          2023
         ],
         "xaxis": "x",
         "y": [
          -0.265789462,
          -2.154012491,
          -2.730526474,
          -4.725866586,
          3.185038226,
          0.996065565,
          2.815578593,
          1.101429768,
          4.782665979,
          3.603321567,
          6.848049399,
          -5.37044724,
          7.620411765,
          10.76021313,
          9.371999942,
          7.194949427,
          7.17275964,
          7.410762426,
          4.843146059,
          6.721371676,
          0.699728593,
          7.063329102,
          6.217850913,
          6.53593302
         ],
         "yaxis": "y"
        },
        {
         "hovertemplate": "Country Name=Cameroon<br>Year=%{x}<br>Nilai GDP=%{y}<extra></extra>",
         "legendgroup": "Cameroon",
         "line": {
          "color": "#00cc96",
          "dash": "solid"
         },
         "marker": {
          "symbol": "circle"
         },
         "mode": "markers+lines",
         "name": "Cameroon",
         "showlegend": true,
         "type": "scattergl",
         "x": [
          2000,
          2001,
          2002,
          2003,
          2004,
          2005,
          2006,
          2007,
          2008,
          2009,
          2010,
          2011,
          2012,
          2013,
          2014,
          2015,
          2016,
          2017,
          2018,
          2019,
          2020,
          2021,
          2022,
          2023
         ],
         "xaxis": "x",
         "y": [
          3.832417794,
          4.324261192,
          4.477026834,
          5.453153689,
          7.048862819,
          2.228270209,
          3.809583276,
          4.32758901,
          2.847677889,
          2.579251777,
          2.899024721,
          3.379211285,
          4.625978722,
          4.995529161,
          5.719818145,
          5.666952987,
          4.535794237,
          3.541176549,
          3.955514239,
          3.475059982,
          0.259932916,
          3.338857472,
          3.582796319,
          3.993389509
         ],
         "yaxis": "y"
        },
        {
         "hovertemplate": "Country Name=Congo, Dem. Rep.<br>Year=%{x}<br>Nilai GDP=%{y}<extra></extra>",
         "legendgroup": "Congo, Dem. Rep.",
         "line": {
          "color": "#ab63fa",
          "dash": "solid"
         },
         "marker": {
          "symbol": "circle"
         },
         "mode": "markers+lines",
         "name": "Congo, Dem. Rep.",
         "showlegend": true,
         "type": "scattergl",
         "x": [
          2000,
          2001,
          2002,
          2003,
          2004,
          2005,
          2006,
          2007,
          2008,
          2009,
          2010,
          2011,
          2012,
          2013,
          2014,
          2015,
          2016,
          2017,
          2018,
          2019,
          2020,
          2021,
          2022,
          2023
         ],
         "xaxis": "x",
         "y": [
          -6.910927317,
          -2.100173025,
          2.947765184,
          5.577822311,
          6.738373933,
          6.135151155,
          5.320979565,
          6.259477764,
          6.225894269,
          2.85506401,
          7.107976576,
          6.87467089,
          7.086898947,
          8.481956636,
          9.470288099,
          6.916167119,
          2.399398911,
          3.726947659,
          5.8211211,
          4.384528874,
          1.735422767,
          6.200154011,
          8.924447626,
          8.560862509
         ],
         "yaxis": "y"
        },
        {
         "hovertemplate": "Country Name=Congo, Rep.<br>Year=%{x}<br>Nilai GDP=%{y}<extra></extra>",
         "legendgroup": "Congo, Rep.",
         "line": {
          "color": "#FFA15A",
          "dash": "solid"
         },
         "marker": {
          "symbol": "circle"
         },
         "mode": "markers+lines",
         "name": "Congo, Rep.",
         "showlegend": true,
         "type": "scattergl",
         "x": [
          2000,
          2001,
          2002,
          2003,
          2004,
          2005,
          2006,
          2007,
          2008,
          2009,
          2010,
          2011,
          2012,
          2013,
          2014,
          2015,
          2016,
          2017,
          2018,
          2019,
          2020,
          2021,
          2022,
          2023
         ],
         "xaxis": "x",
         "y": [
          7.575980395,
          3.802601899,
          4.581870061,
          0.813264076,
          3.476631621,
          7.755758978,
          7.986238363,
          -6.613994804,
          6.306375956,
          11.63728886,
          9.931265431,
          2.205919363,
          9.947153143,
          -0.712434452,
          6.646065409,
          0.415193061,
          -8.685243439,
          -5.594773719,
          -2.304317801,
          1.124477074,
          -6.267777996,
          1.01507338,
          1.475356132,
          1.906864263
         ],
         "yaxis": "y"
        },
        {
         "hovertemplate": "Country Name=Colombia<br>Year=%{x}<br>Nilai GDP=%{y}<extra></extra>",
         "legendgroup": "Colombia",
         "line": {
          "color": "#19d3f3",
          "dash": "solid"
         },
         "marker": {
          "symbol": "circle"
         },
         "mode": "markers+lines",
         "name": "Colombia",
         "showlegend": true,
         "type": "scattergl",
         "x": [
          2000,
          2001,
          2002,
          2003,
          2004,
          2005,
          2006,
          2007,
          2008,
          2009,
          2010,
          2011,
          2012,
          2013,
          2014,
          2015,
          2016,
          2017,
          2018,
          2019,
          2020,
          2021,
          2022,
          2023
         ],
         "xaxis": "x",
         "y": [
          2.924861482,
          1.677898308,
          2.503980467,
          3.918271903,
          5.333022068,
          4.828761108,
          6.716868698,
          6.738194691,
          3.283446186,
          1.139648645,
          4.494658971,
          6.947891982,
          3.912635767,
          5.13399352,
          4.499030001,
          2.955901375,
          2.087382502,
          1.359360868,
          2.564324283,
          3.186855392,
          -7.185914138,
          10.80119819,
          7.288883887,
          0.612181322
         ],
         "yaxis": "y"
        },
        {
         "hovertemplate": "Country Name=Comoros<br>Year=%{x}<br>Nilai GDP=%{y}<extra></extra>",
         "legendgroup": "Comoros",
         "line": {
          "color": "#FF6692",
          "dash": "solid"
         },
         "marker": {
          "symbol": "circle"
         },
         "mode": "markers+lines",
         "name": "Comoros",
         "showlegend": true,
         "type": "scattergl",
         "x": [
          2000,
          2001,
          2002,
          2003,
          2004,
          2005,
          2006,
          2007,
          2008,
          2009,
          2010,
          2011,
          2012,
          2013,
          2014,
          2015,
          2016,
          2017,
          2018,
          2019,
          2020,
          2021,
          2022,
          2023
         ],
         "xaxis": "x",
         "y": [
          10.84787862,
          2.332907102,
          2.324944861,
          2.103871636,
          1.919659807,
          2.83754787,
          2.646955476,
          0.800042349,
          3.964611189,
          3.240740728,
          3.77776675,
          4.143506695,
          3.168409869,
          4.466247315,
          2.106657589,
          1.147350761,
          3.320446562,
          3.815762877,
          3.642451138,
          1.760780239,
          -0.195556827,
          2.112195577,
          2.387678485,
          2.701093579
         ],
         "yaxis": "y"
        },
        {
         "hovertemplate": "Country Name=Cabo Verde<br>Year=%{x}<br>Nilai GDP=%{y}<extra></extra>",
         "legendgroup": "Cabo Verde",
         "line": {
          "color": "#B6E880",
          "dash": "solid"
         },
         "marker": {
          "symbol": "circle"
         },
         "mode": "markers+lines",
         "name": "Cabo Verde",
         "showlegend": true,
         "type": "scattergl",
         "x": [
          2000,
          2001,
          2002,
          2003,
          2004,
          2005,
          2006,
          2007,
          2008,
          2009,
          2010,
          2011,
          2012,
          2013,
          2014,
          2015,
          2016,
          2017,
          2018,
          2019,
          2020,
          2021,
          2022,
          2023
         ],
         "xaxis": "x",
         "y": [
          14.28486885,
          2.231654545,
          5.25089117,
          4.176259326,
          10.19707263,
          6.912457957,
          7.983750448,
          15.17068797,
          7.039011296,
          -1.503586724,
          1.83641915,
          3.924718213,
          1.083648484,
          0.632136727,
          0.69666684,
          0.936026508,
          4.280714827,
          4.55131481,
          3.706964607,
          6.947826325,
          -20.80527592,
          7.033530103,
          17.43907944,
          5.149134858
         ],
         "yaxis": "y"
        },
        {
         "hovertemplate": "Country Name=Costa Rica<br>Year=%{x}<br>Nilai GDP=%{y}<extra></extra>",
         "legendgroup": "Costa Rica",
         "line": {
          "color": "#FF97FF",
          "dash": "solid"
         },
         "marker": {
          "symbol": "circle"
         },
         "mode": "markers+lines",
         "name": "Costa Rica",
         "showlegend": true,
         "type": "scattergl",
         "x": [
          2000,
          2001,
          2002,
          2003,
          2004,
          2005,
          2006,
          2007,
          2008,
          2009,
          2010,
          2011,
          2012,
          2013,
          2014,
          2015,
          2016,
          2017,
          2018,
          2019,
          2020,
          2021,
          2022,
          2023
         ],
         "xaxis": "x",
         "y": [
          3.868718091,
          3.491169871,
          3.416876389,
          4.317179864,
          4.424599598,
          3.976666368,
          7.326695432,
          8.215131984,
          4.738174877,
          -0.873455941,
          5.360343477,
          4.403159239,
          4.88259241,
          2.494766114,
          3.542109876,
          3.652080968,
          4.204323254,
          4.157698962,
          2.615904403,
          2.417511817,
          -4.273354321,
          7.935762247,
          4.55149178,
          5.111921832
         ],
         "yaxis": "y"
        },
        {
         "hovertemplate": "Country Name=Caribbean small states<br>Year=%{x}<br>Nilai GDP=%{y}<extra></extra>",
         "legendgroup": "Caribbean small states",
         "line": {
          "color": "#FECB52",
          "dash": "solid"
         },
         "marker": {
          "symbol": "circle"
         },
         "mode": "markers+lines",
         "name": "Caribbean small states",
         "showlegend": true,
         "type": "scattergl",
         "x": [
          2000,
          2001,
          2002,
          2003,
          2004,
          2005,
          2006,
          2007,
          2008,
          2009,
          2010,
          2011,
          2012,
          2013,
          2014,
          2015,
          2016,
          2017,
          2018,
          2019,
          2020,
          2021,
          2022,
          2023
         ],
         "xaxis": "x",
         "y": [
          3.658960992,
          1.299605472,
          2.154775703,
          1.849366797,
          2.823409214,
          3.280619789,
          4.456252799,
          3.30016126,
          0.542179394,
          -2.599820145,
          0.991500471,
          1.716845682,
          2.328032415,
          0.07382763,
          1.763824459,
          0.697970066,
          0.471963597,
          1.943260286,
          2.891163477,
          1.024653223,
          -9.193462793,
          10.44403235,
          22.47821734,
          12.71585628
         ],
         "yaxis": "y"
        },
        {
         "hovertemplate": "Country Name=Cuba<br>Year=%{x}<br>Nilai GDP=%{y}<extra></extra>",
         "legendgroup": "Cuba",
         "line": {
          "color": "#636efa",
          "dash": "solid"
         },
         "marker": {
          "symbol": "circle"
         },
         "mode": "markers+lines",
         "name": "Cuba",
         "showlegend": true,
         "type": "scattergl",
         "x": [
          2000,
          2001,
          2002,
          2003,
          2004,
          2005,
          2006,
          2007,
          2008,
          2009,
          2010,
          2011,
          2012,
          2013,
          2014,
          2015,
          2016,
          2017,
          2018,
          2019,
          2020,
          2021,
          2022,
          2023
         ],
         "xaxis": "x",
         "y": [
          5.914760019,
          3.185029904,
          1.424821261,
          3.792740223,
          5.77053807,
          11.20165656,
          12.06586298,
          7.262136966,
          4.116828042,
          1.451305431,
          2.390352297,
          2.802300836,
          3.014900289,
          2.747602563,
          1.047576632,
          4.438333589,
          0.512843096,
          1.809791772,
          2.247948541,
          -0.163087224,
          -10.9490846,
          1.253693425,
          1.774853995,
          0
         ],
         "yaxis": "y"
        },
        {
         "hovertemplate": "Country Name=Curacao<br>Year=%{x}<br>Nilai GDP=%{y}<extra></extra>",
         "legendgroup": "Curacao",
         "line": {
          "color": "#EF553B",
          "dash": "solid"
         },
         "marker": {
          "symbol": "circle"
         },
         "mode": "markers+lines",
         "name": "Curacao",
         "showlegend": true,
         "type": "scattergl",
         "x": [
          2000,
          2001,
          2002,
          2003,
          2004,
          2005,
          2006,
          2007,
          2008,
          2009,
          2010,
          2011,
          2012,
          2013,
          2014,
          2015,
          2016,
          2017,
          2018,
          2019,
          2020,
          2021,
          2022,
          2023
         ],
         "xaxis": "x",
         "y": [
          0,
          -0.695753704,
          0.397065217,
          0.288186682,
          0.208461073,
          0.676425345,
          1.63593469,
          2.469963228,
          2.18804308,
          -0.531308242,
          0.082306609,
          0.508457482,
          -0.348950824,
          -0.635696908,
          -0.637397373,
          0.458151544,
          -1.067708487,
          -1.276208101,
          -2.104111331,
          -3.206132303,
          -18.03845768,
          4.2,
          7.9,
          0
         ],
         "yaxis": "y"
        },
        {
         "hovertemplate": "Country Name=Cayman Islands<br>Year=%{x}<br>Nilai GDP=%{y}<extra></extra>",
         "legendgroup": "Cayman Islands",
         "line": {
          "color": "#00cc96",
          "dash": "solid"
         },
         "marker": {
          "symbol": "circle"
         },
         "mode": "markers+lines",
         "name": "Cayman Islands",
         "showlegend": true,
         "type": "scattergl",
         "x": [
          2000,
          2001,
          2002,
          2003,
          2004,
          2005,
          2006,
          2007,
          2008,
          2009,
          2010,
          2011,
          2012,
          2013,
          2014,
          2015,
          2016,
          2017,
          2018,
          2019,
          2020,
          2021,
          2022,
          2023
         ],
         "xaxis": "x",
         "y": [
          0,
          0,
          0,
          0,
          0,
          0,
          0,
          3.162625338,
          -0.357401373,
          -7.200482782,
          -2.715636823,
          1.169062695,
          1.229753683,
          1.279330593,
          2.654529322,
          2.833122427,
          3.239973614,
          3.184047307,
          4.267265672,
          3.915636377,
          -4.954807322,
          4.904929542,
          5.15632992,
          0
         ],
         "yaxis": "y"
        },
        {
         "hovertemplate": "Country Name=Cyprus<br>Year=%{x}<br>Nilai GDP=%{y}<extra></extra>",
         "legendgroup": "Cyprus",
         "line": {
          "color": "#ab63fa",
          "dash": "solid"
         },
         "marker": {
          "symbol": "circle"
         },
         "mode": "markers+lines",
         "name": "Cyprus",
         "showlegend": true,
         "type": "scattergl",
         "x": [
          2000,
          2001,
          2002,
          2003,
          2004,
          2005,
          2006,
          2007,
          2008,
          2009,
          2010,
          2011,
          2012,
          2013,
          2014,
          2015,
          2016,
          2017,
          2018,
          2019,
          2020,
          2021,
          2022,
          2023
         ],
         "xaxis": "x",
         "y": [
          5.965310315,
          3.952560541,
          3.722956499,
          2.623286123,
          5.026343926,
          4.853003838,
          4.713828666,
          5.098068453,
          3.646811991,
          -2.015262359,
          2.283544997,
          0.416712763,
          -3.447381424,
          -6.587482257,
          -1.776061912,
          3.418923188,
          6.573580202,
          5.733476139,
          5.647664896,
          5.537254811,
          -3.443596379,
          9.911311792,
          5.058128008,
          2.466934965
         ],
         "yaxis": "y"
        },
        {
         "hovertemplate": "Country Name=Czechia<br>Year=%{x}<br>Nilai GDP=%{y}<extra></extra>",
         "legendgroup": "Czechia",
         "line": {
          "color": "#FFA15A",
          "dash": "solid"
         },
         "marker": {
          "symbol": "circle"
         },
         "mode": "markers+lines",
         "name": "Czechia",
         "showlegend": true,
         "type": "scattergl",
         "x": [
          2000,
          2001,
          2002,
          2003,
          2004,
          2005,
          2006,
          2007,
          2008,
          2009,
          2010,
          2011,
          2012,
          2013,
          2014,
          2015,
          2016,
          2017,
          2018,
          2019,
          2020,
          2021,
          2022,
          2023
         ],
         "xaxis": "x",
         "y": [
          4.001028635,
          3.042976563,
          1.569855328,
          3.583688459,
          4.814261001,
          6.60161753,
          6.766932681,
          5.570338859,
          2.686411951,
          -4.657331092,
          2.434902159,
          1.760359624,
          -0.785004299,
          -0.045903674,
          2.262102897,
          5.388380838,
          2.53728452,
          5.168724304,
          3.22008807,
          3.029878663,
          -5.502967961,
          3.553021309,
          2.35100354,
          -0.311479452
         ],
         "yaxis": "y"
        },
        {
         "hovertemplate": "Country Name=Germany<br>Year=%{x}<br>Nilai GDP=%{y}<extra></extra>",
         "legendgroup": "Germany",
         "line": {
          "color": "#19d3f3",
          "dash": "solid"
         },
         "marker": {
          "symbol": "circle"
         },
         "mode": "markers+lines",
         "name": "Germany",
         "showlegend": true,
         "type": "scattergl",
         "x": [
          2000,
          2001,
          2002,
          2003,
          2004,
          2005,
          2006,
          2007,
          2008,
          2009,
          2010,
          2011,
          2012,
          2013,
          2014,
          2015,
          2016,
          2017,
          2018,
          2019,
          2020,
          2021,
          2022,
          2023
         ],
         "xaxis": "x",
         "y": [
          2.912502964,
          1.681468481,
          -0.197973835,
          -0.700116686,
          1.175088132,
          0.731707164,
          3.816441913,
          2.976455131,
          0.959879134,
          -5.693836336,
          4.179882499,
          3.925192705,
          0.418497594,
          0.437591303,
          2.209543431,
          1.491931528,
          2.229999868,
          2.680231114,
          0.981232606,
          1.075471636,
          -3.826768716,
          3.163819942,
          1.806208967,
          -0.304934576
         ],
         "yaxis": "y"
        },
        {
         "hovertemplate": "Country Name=Djibouti<br>Year=%{x}<br>Nilai GDP=%{y}<extra></extra>",
         "legendgroup": "Djibouti",
         "line": {
          "color": "#FF6692",
          "dash": "solid"
         },
         "marker": {
          "symbol": "circle"
         },
         "mode": "markers+lines",
         "name": "Djibouti",
         "showlegend": true,
         "type": "scattergl",
         "x": [
          2000,
          2001,
          2002,
          2003,
          2004,
          2005,
          2006,
          2007,
          2008,
          2009,
          2010,
          2011,
          2012,
          2013,
          2014,
          2015,
          2016,
          2017,
          2018,
          2019,
          2020,
          2021,
          2022,
          2023
         ],
         "xaxis": "x",
         "y": [
          0,
          0,
          0,
          0,
          0,
          0,
          0,
          0,
          0,
          0,
          0,
          0,
          0,
          0,
          7.061543242,
          7.526108919,
          7.123432337,
          5.458091517,
          4.774416888,
          5.5451306,
          1.316363242,
          4.522347746,
          3.72857647,
          6.676649644
         ],
         "yaxis": "y"
        },
        {
         "hovertemplate": "Country Name=Dominica<br>Year=%{x}<br>Nilai GDP=%{y}<extra></extra>",
         "legendgroup": "Dominica",
         "line": {
          "color": "#B6E880",
          "dash": "solid"
         },
         "marker": {
          "symbol": "circle"
         },
         "mode": "markers+lines",
         "name": "Dominica",
         "showlegend": true,
         "type": "scattergl",
         "x": [
          2000,
          2001,
          2002,
          2003,
          2004,
          2005,
          2006,
          2007,
          2008,
          2009,
          2010,
          2011,
          2012,
          2013,
          2014,
          2015,
          2016,
          2017,
          2018,
          2019,
          2020,
          2021,
          2022,
          2023
         ],
         "xaxis": "x",
         "y": [
          2.340219321,
          -0.06384473,
          -2.827998893,
          6.353137122,
          3.050690295,
          0.655862269,
          4.659455486,
          6.352972439,
          7.121057986,
          -1.169590643,
          0.6726344,
          -0.223550688,
          -1.059000243,
          -0.999940631,
          4.753786581,
          -2.731503063,
          2.763647982,
          -6.618994633,
          3.547584418,
          5.502483437,
          -16.60410952,
          6.890549417,
          5.583546263,
          4.712238185
         ],
         "yaxis": "y"
        },
        {
         "hovertemplate": "Country Name=Denmark<br>Year=%{x}<br>Nilai GDP=%{y}<extra></extra>",
         "legendgroup": "Denmark",
         "line": {
          "color": "#FF97FF",
          "dash": "solid"
         },
         "marker": {
          "symbol": "circle"
         },
         "mode": "markers+lines",
         "name": "Denmark",
         "showlegend": true,
         "type": "scattergl",
         "x": [
          2000,
          2001,
          2002,
          2003,
          2004,
          2005,
          2006,
          2007,
          2008,
          2009,
          2010,
          2011,
          2012,
          2013,
          2014,
          2015,
          2016,
          2017,
          2018,
          2019,
          2020,
          2021,
          2022,
          2023
         ],
         "xaxis": "x",
         "y": [
          3.746862595,
          0.823152998,
          0.466345571,
          0.390058556,
          2.668219267,
          2.336641308,
          3.913007978,
          0.909238928,
          -0.512016745,
          -4.90654773,
          1.870991147,
          1.336777767,
          0.226499792,
          0.933340972,
          1.619393811,
          2.342591108,
          3.245956985,
          2.821736341,
          1.989537315,
          1.493486959,
          -2.424512679,
          6.844521902,
          2.731174454,
          1.889610386
         ],
         "yaxis": "y"
        },
        {
         "hovertemplate": "Country Name=Dominican Republic<br>Year=%{x}<br>Nilai GDP=%{y}<extra></extra>",
         "legendgroup": "Dominican Republic",
         "line": {
          "color": "#FECB52",
          "dash": "solid"
         },
         "marker": {
          "symbol": "circle"
         },
         "mode": "markers+lines",
         "name": "Dominican Republic",
         "showlegend": true,
         "type": "scattergl",
         "x": [
          2000,
          2001,
          2002,
          2003,
          2004,
          2005,
          2006,
          2007,
          2008,
          2009,
          2010,
          2011,
          2012,
          2013,
          2014,
          2015,
          2016,
          2017,
          2018,
          2019,
          2020,
          2021,
          2022,
          2023
         ],
         "xaxis": "x",
         "y": [
          4.66176228,
          2.459516368,
          4.495103403,
          -1.345706185,
          2.570134279,
          9.428236947,
          9.174355406,
          7.415951715,
          3.209504262,
          0.946155168,
          8.33965106,
          3.133423003,
          2.717367897,
          4.875205093,
          7.05046369,
          6.927018772,
          6.659200263,
          4.666704677,
          6.982527585,
          5.05216802,
          -6.720239373,
          12.27199023,
          4.858324036,
          2.360615687
         ],
         "yaxis": "y"
        },
        {
         "hovertemplate": "Country Name=Algeria<br>Year=%{x}<br>Nilai GDP=%{y}<extra></extra>",
         "legendgroup": "Algeria",
         "line": {
          "color": "#636efa",
          "dash": "solid"
         },
         "marker": {
          "symbol": "circle"
         },
         "mode": "markers+lines",
         "name": "Algeria",
         "showlegend": true,
         "type": "scattergl",
         "x": [
          2000,
          2001,
          2002,
          2003,
          2004,
          2005,
          2006,
          2007,
          2008,
          2009,
          2010,
          2011,
          2012,
          2013,
          2014,
          2015,
          2016,
          2017,
          2018,
          2019,
          2020,
          2021,
          2022,
          2023
         ],
         "xaxis": "x",
         "y": [
          3.800000001,
          2.999999999,
          5.4,
          6.5,
          4.5,
          5.4,
          2.9,
          3.1,
          2.5,
          1.2,
          4.8,
          3,
          2.4,
          2.6,
          4.1,
          3.2,
          3.9,
          1.5,
          1.4,
          0.9,
          -5,
          3.8,
          3.6,
          4.1
         ],
         "yaxis": "y"
        },
        {
         "hovertemplate": "Country Name=East Asia & Pacific (excluding high income)<br>Year=%{x}<br>Nilai GDP=%{y}<extra></extra>",
         "legendgroup": "East Asia & Pacific (excluding high income)",
         "line": {
          "color": "#EF553B",
          "dash": "solid"
         },
         "marker": {
          "symbol": "circle"
         },
         "mode": "markers+lines",
         "name": "East Asia & Pacific (excluding high income)",
         "showlegend": true,
         "type": "scattergl",
         "x": [
          2000,
          2001,
          2002,
          2003,
          2004,
          2005,
          2006,
          2007,
          2008,
          2009,
          2010,
          2011,
          2012,
          2013,
          2014,
          2015,
          2016,
          2017,
          2018,
          2019,
          2020,
          2021,
          2022,
          2023
         ],
         "xaxis": "x",
         "y": [
          7.646578086,
          6.979447267,
          8.06013083,
          8.944748215,
          9.12128478,
          9.976957561,
          11.07850906,
          12.48669197,
          8.615688095,
          7.984966414,
          9.921448845,
          8.642957947,
          7.580305453,
          7.298727893,
          6.984331944,
          6.70715877,
          6.564711869,
          6.707696403,
          6.524991751,
          5.7818918,
          1.246926838,
          7.603749708,
          3.413617869,
          5.068522137
         ],
         "yaxis": "y"
        },
        {
         "hovertemplate": "Country Name=Early-demographic dividend<br>Year=%{x}<br>Nilai GDP=%{y}<extra></extra>",
         "legendgroup": "Early-demographic dividend",
         "line": {
          "color": "#00cc96",
          "dash": "solid"
         },
         "marker": {
          "symbol": "circle"
         },
         "mode": "markers+lines",
         "name": "Early-demographic dividend",
         "showlegend": true,
         "type": "scattergl",
         "x": [
          2000,
          2001,
          2002,
          2003,
          2004,
          2005,
          2006,
          2007,
          2008,
          2009,
          2010,
          2011,
          2012,
          2013,
          2014,
          2015,
          2016,
          2017,
          2018,
          2019,
          2020,
          2021,
          2022,
          2023
         ],
         "xaxis": "x",
         "y": [
          4.428178266,
          1.030903878,
          1.773276619,
          5.321847894,
          6.14890498,
          5.854936644,
          6.028008664,
          5.672343311,
          3.444825298,
          0.635224721,
          6.513413512,
          4.918402142,
          4.182683499,
          4.057999546,
          4.120782579,
          4.413613006,
          4.419664097,
          4.632867878,
          3.840209667,
          2.402270911,
          -4.368287739,
          7.621364417,
          5.582759728,
          4.043778513
         ],
         "yaxis": "y"
        },
        {
         "hovertemplate": "Country Name=East Asia & Pacific<br>Year=%{x}<br>Nilai GDP=%{y}<extra></extra>",
         "legendgroup": "East Asia & Pacific",
         "line": {
          "color": "#ab63fa",
          "dash": "solid"
         },
         "marker": {
          "symbol": "circle"
         },
         "mode": "markers+lines",
         "name": "East Asia & Pacific",
         "showlegend": true,
         "type": "scattergl",
         "x": [
          2000,
          2001,
          2002,
          2003,
          2004,
          2005,
          2006,
          2007,
          2008,
          2009,
          2010,
          2011,
          2012,
          2013,
          2014,
          2015,
          2016,
          2017,
          2018,
          2019,
          2020,
          2021,
          2022,
          2023
         ],
         "xaxis": "x",
         "y": [
          5.396241428,
          3.299042532,
          4.377250818,
          4.947553287,
          5.867643987,
          5.899301158,
          6.453779318,
          7.466572879,
          4.384950012,
          2.560947134,
          7.609593533,
          5.461872631,
          5.183055659,
          5.245060847,
          4.758704284,
          4.728386041,
          4.659079892,
          5.053174482,
          4.759154814,
          3.960221914,
          -0.144692822,
          6.221136264,
          2.88602958,
          4.095178604
         ],
         "yaxis": "y"
        },
        {
         "hovertemplate": "Country Name=Europe & Central Asia (excluding high income)<br>Year=%{x}<br>Nilai GDP=%{y}<extra></extra>",
         "legendgroup": "Europe & Central Asia (excluding high income)",
         "line": {
          "color": "#FFA15A",
          "dash": "solid"
         },
         "marker": {
          "symbol": "circle"
         },
         "mode": "markers+lines",
         "name": "Europe & Central Asia (excluding high income)",
         "showlegend": true,
         "type": "scattergl",
         "x": [
          2000,
          2001,
          2002,
          2003,
          2004,
          2005,
          2006,
          2007,
          2008,
          2009,
          2010,
          2011,
          2012,
          2013,
          2014,
          2015,
          2016,
          2017,
          2018,
          2019,
          2020,
          2021,
          2022,
          2023
         ],
         "xaxis": "x",
         "y": [
          6.778814739,
          -0.13310614,
          6.396069514,
          6.601420749,
          9.633614659,
          8.460146405,
          8.228536538,
          7.075201711,
          3.06266606,
          -3.451576642,
          7.067482975,
          8.586645288,
          4.050547983,
          6.585980578,
          3.372913244,
          3.587552293,
          2.785334136,
          5.821470379,
          3.513492106,
          2.247224928,
          0.321073682,
          9.000365103,
          3.077615681,
          4.606589529
         ],
         "yaxis": "y"
        },
        {
         "hovertemplate": "Country Name=Europe & Central Asia<br>Year=%{x}<br>Nilai GDP=%{y}<extra></extra>",
         "legendgroup": "Europe & Central Asia",
         "line": {
          "color": "#19d3f3",
          "dash": "solid"
         },
         "marker": {
          "symbol": "circle"
         },
         "mode": "markers+lines",
         "name": "Europe & Central Asia",
         "showlegend": true,
         "type": "scattergl",
         "x": [
          2000,
          2001,
          2002,
          2003,
          2004,
          2005,
          2006,
          2007,
          2008,
          2009,
          2010,
          2011,
          2012,
          2013,
          2014,
          2015,
          2016,
          2017,
          2018,
          2019,
          2020,
          2021,
          2022,
          2023
         ],
         "xaxis": "x",
         "y": [
          4.35525178,
          2.258353407,
          1.584291485,
          1.794935889,
          3.19087691,
          2.671830192,
          3.865035264,
          3.651589897,
          1.016573256,
          -4.457882374,
          2.659273741,
          2.347580292,
          0.359988683,
          0.847820022,
          1.926600373,
          2.058147045,
          1.899821631,
          2.908722502,
          2.13444056,
          1.80525623,
          -5.462443712,
          6.523851921,
          3.157498664,
          0.964032942
         ],
         "yaxis": "y"
        },
        {
         "hovertemplate": "Country Name=Ecuador<br>Year=%{x}<br>Nilai GDP=%{y}<extra></extra>",
         "legendgroup": "Ecuador",
         "line": {
          "color": "#FF6692",
          "dash": "solid"
         },
         "marker": {
          "symbol": "circle"
         },
         "mode": "markers+lines",
         "name": "Ecuador",
         "showlegend": true,
         "type": "scattergl",
         "x": [
          2000,
          2001,
          2002,
          2003,
          2004,
          2005,
          2006,
          2007,
          2008,
          2009,
          2010,
          2011,
          2012,
          2013,
          2014,
          2015,
          2016,
          2017,
          2018,
          2019,
          2020,
          2021,
          2022,
          2023
         ],
         "xaxis": "x",
         "y": [
          1.091801564,
          4.206271857,
          4.928095496,
          2.884500365,
          6.832397366,
          5.39862244,
          4.341131986,
          1.902428597,
          6.564920682,
          1.09101297,
          4.02913788,
          8.481476563,
          5.783212336,
          7.211236537,
          4.226065204,
          0.119692109,
          -0.687954246,
          5.97039881,
          1.044295547,
          0.165403533,
          -9.245096377,
          9.818417748,
          6.186139073,
          2.355217907
         ],
         "yaxis": "y"
        },
        {
         "hovertemplate": "Country Name=Egypt, Arab Rep.<br>Year=%{x}<br>Nilai GDP=%{y}<extra></extra>",
         "legendgroup": "Egypt, Arab Rep.",
         "line": {
          "color": "#B6E880",
          "dash": "solid"
         },
         "marker": {
          "symbol": "circle"
         },
         "mode": "markers+lines",
         "name": "Egypt, Arab Rep.",
         "showlegend": true,
         "type": "scattergl",
         "x": [
          2000,
          2001,
          2002,
          2003,
          2004,
          2005,
          2006,
          2007,
          2008,
          2009,
          2010,
          2011,
          2012,
          2013,
          2014,
          2015,
          2016,
          2017,
          2018,
          2019,
          2020,
          2021,
          2022,
          2023
         ],
         "xaxis": "x",
         "y": [
          6.37000383,
          3.535251974,
          2.390204027,
          3.193454738,
          4.09207161,
          4.471744471,
          6.843838194,
          7.087827427,
          7.156283567,
          4.6735998,
          5.147234857,
          1.764571948,
          2.226199798,
          2.185466054,
          2.915911881,
          4.372019078,
          4.346643456,
          4.181221,
          5.331108619,
          5.552093071,
          3.550164839,
          3.290646012,
          6.587845609,
          3.759005419
         ],
         "yaxis": "y"
        },
        {
         "hovertemplate": "Country Name=Euro area<br>Year=%{x}<br>Nilai GDP=%{y}<extra></extra>",
         "legendgroup": "Euro area",
         "line": {
          "color": "#FF97FF",
          "dash": "solid"
         },
         "marker": {
          "symbol": "circle"
         },
         "mode": "markers+lines",
         "name": "Euro area",
         "showlegend": true,
         "type": "scattergl",
         "x": [
          2000,
          2001,
          2002,
          2003,
          2004,
          2005,
          2006,
          2007,
          2008,
          2009,
          2010,
          2011,
          2012,
          2013,
          2014,
          2015,
          2016,
          2017,
          2018,
          2019,
          2020,
          2021,
          2022,
          2023
         ],
         "xaxis": "x",
         "y": [
          3.861178194,
          2.199225065,
          0.9595418,
          0.702667309,
          2.301898875,
          1.692943716,
          3.239196023,
          3.011154804,
          0.424721952,
          -4.534148008,
          2.1646904,
          1.714597206,
          -0.850659262,
          -0.219171747,
          1.398278513,
          2.054408868,
          1.865786321,
          2.62860957,
          1.78893526,
          1.59042607,
          -6.11006917,
          5.963336416,
          3.426121239,
          0.446837046
         ],
         "yaxis": "y"
        },
        {
         "hovertemplate": "Country Name=Eritrea<br>Year=%{x}<br>Nilai GDP=%{y}<extra></extra>",
         "legendgroup": "Eritrea",
         "line": {
          "color": "#FECB52",
          "dash": "solid"
         },
         "marker": {
          "symbol": "circle"
         },
         "mode": "markers+lines",
         "name": "Eritrea",
         "showlegend": true,
         "type": "scattergl",
         "x": [
          2000,
          2001,
          2002,
          2003,
          2004,
          2005,
          2006,
          2007,
          2008,
          2009,
          2010,
          2011,
          2012,
          2013,
          2014,
          2015,
          2016,
          2017,
          2018,
          2019,
          2020,
          2021,
          2022,
          2023
         ],
         "xaxis": "x",
         "y": [
          -3.141985903,
          8.755435528,
          3.005429192,
          -2.655515925,
          1.451735566,
          2.574449551,
          -0.969217111,
          1.426822211,
          -9.783030018,
          3.876501528,
          2.194190349,
          8.679800101,
          0,
          0,
          0,
          0,
          0,
          0,
          0,
          0,
          0,
          0,
          0,
          0
         ],
         "yaxis": "y"
        },
        {
         "hovertemplate": "Country Name=Spain<br>Year=%{x}<br>Nilai GDP=%{y}<extra></extra>",
         "legendgroup": "Spain",
         "line": {
          "color": "#636efa",
          "dash": "solid"
         },
         "marker": {
          "symbol": "circle"
         },
         "mode": "markers+lines",
         "name": "Spain",
         "showlegend": true,
         "type": "scattergl",
         "x": [
          2000,
          2001,
          2002,
          2003,
          2004,
          2005,
          2006,
          2007,
          2008,
          2009,
          2010,
          2011,
          2012,
          2013,
          2014,
          2015,
          2016,
          2017,
          2018,
          2019,
          2020,
          2021,
          2022,
          2023
         ],
         "xaxis": "x",
         "y": [
          5.245943824,
          3.933002765,
          2.730948329,
          2.981936316,
          3.122733517,
          3.652084192,
          4.102685741,
          3.604738462,
          0.887067046,
          -3.763107042,
          0.162919518,
          -0.814384777,
          -2.958922132,
          -1.403341868,
          1.395775367,
          3.838518877,
          3.037774142,
          2.975760729,
          2.284469419,
          1.983966223,
          -11.16729786,
          6.403173615,
          5.770647676,
          2.50329436
         ],
         "yaxis": "y"
        },
        {
         "hovertemplate": "Country Name=Estonia<br>Year=%{x}<br>Nilai GDP=%{y}<extra></extra>",
         "legendgroup": "Estonia",
         "line": {
          "color": "#EF553B",
          "dash": "solid"
         },
         "marker": {
          "symbol": "circle"
         },
         "mode": "markers+lines",
         "name": "Estonia",
         "showlegend": true,
         "type": "scattergl",
         "x": [
          2000,
          2001,
          2002,
          2003,
          2004,
          2005,
          2006,
          2007,
          2008,
          2009,
          2010,
          2011,
          2012,
          2013,
          2014,
          2015,
          2016,
          2017,
          2018,
          2019,
          2020,
          2021,
          2022,
          2023
         ],
         "xaxis": "x",
         "y": [
          10.08763444,
          6.003674251,
          6.77136793,
          7.600265185,
          6.804007771,
          9.526426972,
          9.76558337,
          7.57914052,
          -5.132000958,
          -14.62905503,
          2.444265118,
          7.263084581,
          3.228200494,
          1.458428636,
          3.011366587,
          1.853020046,
          3.155564814,
          5.792044675,
          3.78420085,
          4.033688391,
          -0.965410617,
          7.249326354,
          -0.461002668,
          -3.005590126
         ],
         "yaxis": "y"
        },
        {
         "hovertemplate": "Country Name=Ethiopia<br>Year=%{x}<br>Nilai GDP=%{y}<extra></extra>",
         "legendgroup": "Ethiopia",
         "line": {
          "color": "#00cc96",
          "dash": "solid"
         },
         "marker": {
          "symbol": "circle"
         },
         "mode": "markers+lines",
         "name": "Ethiopia",
         "showlegend": true,
         "type": "scattergl",
         "x": [
          2000,
          2001,
          2002,
          2003,
          2004,
          2005,
          2006,
          2007,
          2008,
          2009,
          2010,
          2011,
          2012,
          2013,
          2014,
          2015,
          2016,
          2017,
          2018,
          2019,
          2020,
          2021,
          2022,
          2023
         ],
         "xaxis": "x",
         "y": [
          6.07321748,
          8.301306321,
          1.514725706,
          -2.161359722,
          13.57260314,
          11.81876595,
          10.83472707,
          11.456167,
          10.78852169,
          8.802553198,
          12.55053835,
          11.17829623,
          8.647811633,
          10.58227005,
          10.25749296,
          10.39246302,
          9.433482658,
          9.564189643,
          6.816147797,
          8.364085699,
          6.059530886,
          5.641530717,
          5.321176284,
          6.498134642
         ],
         "yaxis": "y"
        },
        {
         "hovertemplate": "Country Name=European Union<br>Year=%{x}<br>Nilai GDP=%{y}<extra></extra>",
         "legendgroup": "European Union",
         "line": {
          "color": "#ab63fa",
          "dash": "solid"
         },
         "marker": {
          "symbol": "circle"
         },
         "mode": "markers+lines",
         "name": "European Union",
         "showlegend": true,
         "type": "scattergl",
         "x": [
          2000,
          2001,
          2002,
          2003,
          2004,
          2005,
          2006,
          2007,
          2008,
          2009,
          2010,
          2011,
          2012,
          2013,
          2014,
          2015,
          2016,
          2017,
          2018,
          2019,
          2020,
          2021,
          2022,
          2023
         ],
         "xaxis": "x",
         "y": [
          3.900525156,
          2.175909601,
          1.110752072,
          0.908252361,
          2.59250681,
          1.924743009,
          3.494445516,
          3.156121525,
          0.641259952,
          -4.348699861,
          2.225118385,
          1.900956841,
          -0.701866418,
          -0.082642393,
          1.600652502,
          2.309377745,
          1.972307776,
          2.844765369,
          2.06690197,
          1.805311971,
          -5.6528569,
          6.008729292,
          3.478653735,
          0.450652378
         ],
         "yaxis": "y"
        },
        {
         "hovertemplate": "Country Name=Fragile and conflict affected situations<br>Year=%{x}<br>Nilai GDP=%{y}<extra></extra>",
         "legendgroup": "Fragile and conflict affected situations",
         "line": {
          "color": "#FFA15A",
          "dash": "solid"
         },
         "marker": {
          "symbol": "circle"
         },
         "mode": "markers+lines",
         "name": "Fragile and conflict affected situations",
         "showlegend": true,
         "type": "scattergl",
         "x": [
          2000,
          2001,
          2002,
          2003,
          2004,
          2005,
          2006,
          2007,
          2008,
          2009,
          2010,
          2011,
          2012,
          2013,
          2014,
          2015,
          2016,
          2017,
          2018,
          2019,
          2020,
          2021,
          2022,
          2023
         ],
         "xaxis": "x",
         "y": [
          5.463854139,
          4.11186251,
          4.794074854,
          1.075556735,
          11.26171028,
          5.834460098,
          5.821172791,
          5.988115247,
          5.042112519,
          3.065415286,
          7.017417566,
          0.043882959,
          5.570371884,
          3.483392563,
          2.096288359,
          1.070537609,
          2.167155583,
          2.543334726,
          2.720158471,
          2.523498857,
          -6.353386361,
          4.568994232,
          1.463396967,
          1.633343996
         ],
         "yaxis": "y"
        },
        {
         "hovertemplate": "Country Name=Finland<br>Year=%{x}<br>Nilai GDP=%{y}<extra></extra>",
         "legendgroup": "Finland",
         "line": {
          "color": "#19d3f3",
          "dash": "solid"
         },
         "marker": {
          "symbol": "circle"
         },
         "mode": "markers+lines",
         "name": "Finland",
         "showlegend": true,
         "type": "scattergl",
         "x": [
          2000,
          2001,
          2002,
          2003,
          2004,
          2005,
          2006,
          2007,
          2008,
          2009,
          2010,
          2011,
          2012,
          2013,
          2014,
          2015,
          2016,
          2017,
          2018,
          2019,
          2020,
          2021,
          2022,
          2023
         ],
         "xaxis": "x",
         "y": [
          5.773362458,
          2.610019124,
          1.707148962,
          2.003784203,
          3.99209129,
          2.779850556,
          4.027409658,
          5.299336507,
          0.783995061,
          -8.074447432,
          3.185958654,
          2.547664838,
          -1.397545728,
          -0.901696316,
          -0.364908157,
          0.543659212,
          2.811457767,
          3.19240963,
          1.139718013,
          1.224748922,
          -2.354965157,
          2.838179604,
          1.335467305,
          -1.035375693
         ],
         "yaxis": "y"
        },
        {
         "hovertemplate": "Country Name=Fiji<br>Year=%{x}<br>Nilai GDP=%{y}<extra></extra>",
         "legendgroup": "Fiji",
         "line": {
          "color": "#FF6692",
          "dash": "solid"
         },
         "marker": {
          "symbol": "circle"
         },
         "mode": "markers+lines",
         "name": "Fiji",
         "showlegend": true,
         "type": "scattergl",
         "x": [
          2000,
          2001,
          2002,
          2003,
          2004,
          2005,
          2006,
          2007,
          2008,
          2009,
          2010,
          2011,
          2012,
          2013,
          2014,
          2015,
          2016,
          2017,
          2018,
          2019,
          2020,
          2021,
          2022,
          2023
         ],
         "xaxis": "x",
         "y": [
          -1.699998416,
          2.000000147,
          3.199999114,
          0.999999345,
          5.299999705,
          0.700000402,
          1.852483872,
          -0.85065431,
          1.03279422,
          -1.386037708,
          2.954672422,
          2.705143029,
          1.411314382,
          4.73421949,
          5.603514406,
          4.50120041,
          2.445651797,
          5.35336456,
          3.812351222,
          -0.580504495,
          -17.03987084,
          -4.881036196,
          20.01646416,
          8.026408625
         ],
         "yaxis": "y"
        },
        {
         "hovertemplate": "Country Name=France<br>Year=%{x}<br>Nilai GDP=%{y}<extra></extra>",
         "legendgroup": "France",
         "line": {
          "color": "#B6E880",
          "dash": "solid"
         },
         "marker": {
          "symbol": "circle"
         },
         "mode": "markers+lines",
         "name": "France",
         "showlegend": true,
         "type": "scattergl",
         "x": [
          2000,
          2001,
          2002,
          2003,
          2004,
          2005,
          2006,
          2007,
          2008,
          2009,
          2010,
          2011,
          2012,
          2013,
          2014,
          2015,
          2016,
          2017,
          2018,
          2019,
          2020,
          2021,
          2022,
          2023
         ],
         "xaxis": "x",
         "y": [
          3.923669227,
          1.983721419,
          1.135531482,
          0.823160757,
          2.829752929,
          1.66321998,
          2.449323601,
          2.424736243,
          0.25494596,
          -2.873313828,
          1.949437623,
          2.192700633,
          0.313134751,
          0.576326675,
          0.956183052,
          1.112912341,
          1.095464404,
          2.291419994,
          1.865066071,
          1.842971814,
          -7.540459162,
          6.435209621,
          2.454758177,
          0.703718547
         ],
         "yaxis": "y"
        },
        {
         "hovertemplate": "Country Name=Faroe Islands<br>Year=%{x}<br>Nilai GDP=%{y}<extra></extra>",
         "legendgroup": "Faroe Islands",
         "line": {
          "color": "#FF97FF",
          "dash": "solid"
         },
         "marker": {
          "symbol": "circle"
         },
         "mode": "markers+lines",
         "name": "Faroe Islands",
         "showlegend": true,
         "type": "scattergl",
         "x": [
          2000,
          2001,
          2002,
          2003,
          2004,
          2005,
          2006,
          2007,
          2008,
          2009,
          2010,
          2011,
          2012,
          2013,
          2014,
          2015,
          2016,
          2017,
          2018,
          2019,
          2020,
          2021,
          2022,
          2023
         ],
         "xaxis": "x",
         "y": [
          0,
          0,
          0,
          0,
          0,
          0,
          0,
          0,
          0,
          -4.303002162,
          -0.576939114,
          3.708194171,
          7.016653799,
          5.853051914,
          5.432701357,
          0.976378534,
          1.469915804,
          3.514305971,
          2.731552155,
          4.39010334,
          -1.926834417,
          5.755550527,
          5.398480389,
          0
         ],
         "yaxis": "y"
        },
        {
         "hovertemplate": "Country Name=Micronesia, Fed. Sts.<br>Year=%{x}<br>Nilai GDP=%{y}<extra></extra>",
         "legendgroup": "Micronesia, Fed. Sts.",
         "line": {
          "color": "#FECB52",
          "dash": "solid"
         },
         "marker": {
          "symbol": "circle"
         },
         "mode": "markers+lines",
         "name": "Micronesia, Fed. Sts.",
         "showlegend": true,
         "type": "scattergl",
         "x": [
          2000,
          2001,
          2002,
          2003,
          2004,
          2005,
          2006,
          2007,
          2008,
          2009,
          2010,
          2011,
          2012,
          2013,
          2014,
          2015,
          2016,
          2017,
          2018,
          2019,
          2020,
          2021,
          2022,
          2023
         ],
         "xaxis": "x",
         "y": [
          4.833903786,
          2.167602441,
          0.546997672,
          1.572115067,
          -3.080153047,
          2.041867164,
          -0.081055293,
          -1.836185294,
          -2.408492587,
          1.093099241,
          2.259389956,
          3.188574755,
          -1.866819755,
          -3.679767791,
          -2.305775745,
          4.621884004,
          0.484101802,
          0.823045267,
          0,
          4.081632653,
          -1.960784314,
          2.8,
          -0.778210117,
          0.784313725
         ],
         "yaxis": "y"
        },
        {
         "hovertemplate": "Country Name=Gabon<br>Year=%{x}<br>Nilai GDP=%{y}<extra></extra>",
         "legendgroup": "Gabon",
         "line": {
          "color": "#636efa",
          "dash": "solid"
         },
         "marker": {
          "symbol": "circle"
         },
         "mode": "markers+lines",
         "name": "Gabon",
         "showlegend": true,
         "type": "scattergl",
         "x": [
          2000,
          2001,
          2002,
          2003,
          2004,
          2005,
          2006,
          2007,
          2008,
          2009,
          2010,
          2011,
          2012,
          2013,
          2014,
          2015,
          2016,
          2017,
          2018,
          2019,
          2020,
          2021,
          2022,
          2023
         ],
         "xaxis": "x",
         "y": [
          -1.882966398,
          2.135233422,
          -0.249033169,
          2.247330012,
          0.689543058,
          2.676203333,
          -2.806578356,
          6.008108025,
          -3.308430649,
          0.13033112,
          7.089887315,
          7.091753343,
          5.251076918,
          5.638699003,
          4.314964441,
          3.878899395,
          2.091442208,
          0.472642031,
          0.837916581,
          3.920808795,
          -1.837761064,
          1.467957315,
          2.967741644,
          2.263232088
         ],
         "yaxis": "y"
        },
        {
         "hovertemplate": "Country Name=United Kingdom<br>Year=%{x}<br>Nilai GDP=%{y}<extra></extra>",
         "legendgroup": "United Kingdom",
         "line": {
          "color": "#EF553B",
          "dash": "solid"
         },
         "marker": {
          "symbol": "circle"
         },
         "mode": "markers+lines",
         "name": "United Kingdom",
         "showlegend": true,
         "type": "scattergl",
         "x": [
          2000,
          2001,
          2002,
          2003,
          2004,
          2005,
          2006,
          2007,
          2008,
          2009,
          2010,
          2011,
          2012,
          2013,
          2014,
          2015,
          2016,
          2017,
          2018,
          2019,
          2020,
          2021,
          2022,
          2023
         ],
         "xaxis": "x",
         "y": [
          4.318727058,
          2.578741046,
          1.791985616,
          3.146572528,
          2.426496549,
          2.738842404,
          2.386275368,
          2.620331222,
          -0.225726975,
          -4.614957402,
          2.238688634,
          1.145101541,
          1.512936749,
          1.792322216,
          3.195782466,
          2.220258322,
          1.921063414,
          2.655069668,
          1.403792086,
          1.641610996,
          -10.35990082,
          8.674904114,
          4.345228834,
          0.104017849
         ],
         "yaxis": "y"
        },
        {
         "hovertemplate": "Country Name=Georgia<br>Year=%{x}<br>Nilai GDP=%{y}<extra></extra>",
         "legendgroup": "Georgia",
         "line": {
          "color": "#00cc96",
          "dash": "solid"
         },
         "marker": {
          "symbol": "circle"
         },
         "mode": "markers+lines",
         "name": "Georgia",
         "showlegend": true,
         "type": "scattergl",
         "x": [
          2000,
          2001,
          2002,
          2003,
          2004,
          2005,
          2006,
          2007,
          2008,
          2009,
          2010,
          2011,
          2012,
          2013,
          2014,
          2015,
          2016,
          2017,
          2018,
          2019,
          2020,
          2021,
          2022,
          2023
         ],
         "xaxis": "x",
         "y": [
          1.840381179,
          4.807298672,
          5.474024887,
          11.057031,
          5.792682927,
          9.591138329,
          9.421480812,
          12.57556982,
          2.42161441,
          -3.650752296,
          6.246408653,
          7.934336525,
          6.57883102,
          5.132885312,
          4.090490596,
          3.351023503,
          3.45021518,
          5.159902617,
          6.062036413,
          5.380719266,
          -6.290471785,
          10.64423366,
          10.95853214,
          7.474479094
         ],
         "yaxis": "y"
        },
        {
         "hovertemplate": "Country Name=Ghana<br>Year=%{x}<br>Nilai GDP=%{y}<extra></extra>",
         "legendgroup": "Ghana",
         "line": {
          "color": "#ab63fa",
          "dash": "solid"
         },
         "marker": {
          "symbol": "circle"
         },
         "mode": "markers+lines",
         "name": "Ghana",
         "showlegend": true,
         "type": "scattergl",
         "x": [
          2000,
          2001,
          2002,
          2003,
          2004,
          2005,
          2006,
          2007,
          2008,
          2009,
          2010,
          2011,
          2012,
          2013,
          2014,
          2015,
          2016,
          2017,
          2018,
          2019,
          2020,
          2021,
          2022,
          2023
         ],
         "xaxis": "x",
         "y": [
          3.700000082,
          4.000000128,
          4.499999559,
          5.200000133,
          5.599999991,
          5.900003819,
          6.399912606,
          4.346819104,
          9.149798938,
          4.844487052,
          7.899711941,
          14.04712358,
          9.292789406,
          7.312525017,
          2.856240163,
          2.120759338,
          3.37346575,
          8.128894881,
          6.200077681,
          6.507774794,
          0.513941671,
          5.076466435,
          3.817504621,
          2.944785831
         ],
         "yaxis": "y"
        },
        {
         "hovertemplate": "Country Name=Gibraltar<br>Year=%{x}<br>Nilai GDP=%{y}<extra></extra>",
         "legendgroup": "Gibraltar",
         "line": {
          "color": "#FFA15A",
          "dash": "solid"
         },
         "marker": {
          "symbol": "circle"
         },
         "mode": "markers+lines",
         "name": "Gibraltar",
         "showlegend": true,
         "type": "scattergl",
         "x": [
          2000,
          2001,
          2002,
          2003,
          2004,
          2005,
          2006,
          2007,
          2008,
          2009,
          2010,
          2011,
          2012,
          2013,
          2014,
          2015,
          2016,
          2017,
          2018,
          2019,
          2020,
          2021,
          2022,
          2023
         ],
         "xaxis": "x",
         "y": [
          0,
          0,
          0,
          0,
          0,
          0,
          0,
          0,
          0,
          0,
          0,
          0,
          0,
          0,
          0,
          0,
          0,
          0,
          0,
          0,
          0,
          0,
          0,
          0
         ],
         "yaxis": "y"
        },
        {
         "hovertemplate": "Country Name=Guinea<br>Year=%{x}<br>Nilai GDP=%{y}<extra></extra>",
         "legendgroup": "Guinea",
         "line": {
          "color": "#19d3f3",
          "dash": "solid"
         },
         "marker": {
          "symbol": "circle"
         },
         "mode": "markers+lines",
         "name": "Guinea",
         "showlegend": true,
         "type": "scattergl",
         "x": [
          2000,
          2001,
          2002,
          2003,
          2004,
          2005,
          2006,
          2007,
          2008,
          2009,
          2010,
          2011,
          2012,
          2013,
          2014,
          2015,
          2016,
          2017,
          2018,
          2019,
          2020,
          2021,
          2022,
          2023
         ],
         "xaxis": "x",
         "y": [
          2.503060563,
          3.658346469,
          5.164609467,
          1.248601259,
          2.340117313,
          2.997272563,
          1.189602117,
          6.817471111,
          4.13301616,
          -1.122642048,
          4.813370676,
          5.612101189,
          5.91528626,
          3.945687087,
          3.696553117,
          3.825910569,
          10.8206272,
          10.30000534,
          6.358491927,
          5.61691447,
          4.920266372,
          3.9,
          4.7,
          7.061960029
         ],
         "yaxis": "y"
        },
        {
         "hovertemplate": "Country Name=Gambia, The<br>Year=%{x}<br>Nilai GDP=%{y}<extra></extra>",
         "legendgroup": "Gambia, The",
         "line": {
          "color": "#FF6692",
          "dash": "solid"
         },
         "marker": {
          "symbol": "circle"
         },
         "mode": "markers+lines",
         "name": "Gambia, The",
         "showlegend": true,
         "type": "scattergl",
         "x": [
          2000,
          2001,
          2002,
          2003,
          2004,
          2005,
          2006,
          2007,
          2008,
          2009,
          2010,
          2011,
          2012,
          2013,
          2014,
          2015,
          2016,
          2017,
          2018,
          2019,
          2020,
          2021,
          2022,
          2023
         ],
         "xaxis": "x",
         "y": [
          5.500000216,
          5.800000243,
          -3.25000015,
          6.869999622,
          7.050000001,
          -2.351729362,
          -0.555580977,
          3.043249508,
          6.255905534,
          6.665724308,
          5.90833581,
          -8.130444223,
          5.241569246,
          2.87276879,
          -1.407382495,
          4.058073804,
          1.943359655,
          4.822611249,
          7.234890333,
          6.22205316,
          0.591487288,
          5.255968794,
          4.917821309,
          5.295996638
         ],
         "yaxis": "y"
        },
        {
         "hovertemplate": "Country Name=Guinea-Bissau<br>Year=%{x}<br>Nilai GDP=%{y}<extra></extra>",
         "legendgroup": "Guinea-Bissau",
         "line": {
          "color": "#B6E880",
          "dash": "solid"
         },
         "marker": {
          "symbol": "circle"
         },
         "mode": "markers+lines",
         "name": "Guinea-Bissau",
         "showlegend": true,
         "type": "scattergl",
         "x": [
          2000,
          2001,
          2002,
          2003,
          2004,
          2005,
          2006,
          2007,
          2008,
          2009,
          2010,
          2011,
          2012,
          2013,
          2014,
          2015,
          2016,
          2017,
          2018,
          2019,
          2020,
          2021,
          2022,
          2023
         ],
         "xaxis": "x",
         "y": [
          1.10027815,
          4.785971648,
          3.65393604,
          -0.285931047,
          1.171891528,
          6.559771103,
          2.666504932,
          2.559826479,
          4.524575144,
          2.447951069,
          5.605363103,
          8.085041677,
          -1.712869583,
          3.256071912,
          0.964525747,
          6.134089355,
          5.306596331,
          4.788991621,
          3.761453595,
          4.500092937,
          1.5,
          6.399952624,
          4.199990232,
          4.248282297
         ],
         "yaxis": "y"
        },
        {
         "hovertemplate": "Country Name=Equatorial Guinea<br>Year=%{x}<br>Nilai GDP=%{y}<extra></extra>",
         "legendgroup": "Equatorial Guinea",
         "line": {
          "color": "#FF97FF",
          "dash": "solid"
         },
         "marker": {
          "symbol": "circle"
         },
         "mode": "markers+lines",
         "name": "Equatorial Guinea",
         "showlegend": true,
         "type": "scattergl",
         "x": [
          2000,
          2001,
          2002,
          2003,
          2004,
          2005,
          2006,
          2007,
          2008,
          2009,
          2010,
          2011,
          2012,
          2013,
          2014,
          2015,
          2016,
          2017,
          2018,
          2019,
          2020,
          2021,
          2022,
          2023
         ],
         "xaxis": "x",
         "y": [
          18.21377996,
          63.37987543,
          19.46283404,
          13.95525032,
          37.99872686,
          16.74870061,
          7.704917607,
          15.28211392,
          17.79910913,
          1.343356288,
          -8.924175889,
          6.52392363,
          8.312871844,
          -4.133198501,
          0.415066302,
          -9.110041149,
          -8.816417232,
          -5.667508505,
          -6.236544067,
          -5.481825379,
          -4.791080834,
          0.860269956,
          3.716010594,
          -5.691583464
         ],
         "yaxis": "y"
        },
        {
         "hovertemplate": "Country Name=Greece<br>Year=%{x}<br>Nilai GDP=%{y}<extra></extra>",
         "legendgroup": "Greece",
         "line": {
          "color": "#FECB52",
          "dash": "solid"
         },
         "marker": {
          "symbol": "circle"
         },
         "mode": "markers+lines",
         "name": "Greece",
         "showlegend": true,
         "type": "scattergl",
         "x": [
          2000,
          2001,
          2002,
          2003,
          2004,
          2005,
          2006,
          2007,
          2008,
          2009,
          2010,
          2011,
          2012,
          2013,
          2014,
          2015,
          2016,
          2017,
          2018,
          2019,
          2020,
          2021,
          2022,
          2023
         ],
         "xaxis": "x",
         "y": [
          3.91977053,
          4.131611986,
          3.922871742,
          5.794531661,
          5.060992492,
          0.599142037,
          5.652433536,
          3.273746876,
          -0.335172543,
          -4.300733487,
          -5.477808049,
          -10.14931483,
          -7.086696786,
          -2.515997222,
          0.475695947,
          -0.19608763,
          -0.487173294,
          1.09214912,
          1.668428636,
          1.879489986,
          -9.316435765,
          8.379943784,
          5.55728708,
          2.011520943
         ],
         "yaxis": "y"
        },
        {
         "hovertemplate": "Country Name=Grenada<br>Year=%{x}<br>Nilai GDP=%{y}<extra></extra>",
         "legendgroup": "Grenada",
         "line": {
          "color": "#636efa",
          "dash": "solid"
         },
         "marker": {
          "symbol": "circle"
         },
         "mode": "markers+lines",
         "name": "Grenada",
         "showlegend": true,
         "type": "scattergl",
         "x": [
          2000,
          2001,
          2002,
          2003,
          2004,
          2005,
          2006,
          2007,
          2008,
          2009,
          2010,
          2011,
          2012,
          2013,
          2014,
          2015,
          2016,
          2017,
          2018,
          2019,
          2020,
          2021,
          2022,
          2023
         ],
         "xaxis": "x",
         "y": [
          4.887952137,
          -2.023900041,
          3.43732353,
          9.463973431,
          -0.647450316,
          13.27618833,
          -3.995328244,
          6.123450947,
          0.947542625,
          -6.613281348,
          -0.511146187,
          0.76477355,
          -1.154838164,
          2.351098017,
          7.34212396,
          6.445223147,
          3.739603956,
          4.438675669,
          4.361440394,
          0.676511739,
          -13.75662226,
          4.687478169,
          7.320740616,
          4.809286899
         ],
         "yaxis": "y"
        },
        {
         "hovertemplate": "Country Name=Greenland<br>Year=%{x}<br>Nilai GDP=%{y}<extra></extra>",
         "legendgroup": "Greenland",
         "line": {
          "color": "#EF553B",
          "dash": "solid"
         },
         "marker": {
          "symbol": "circle"
         },
         "mode": "markers+lines",
         "name": "Greenland",
         "showlegend": true,
         "type": "scattergl",
         "x": [
          2000,
          2001,
          2002,
          2003,
          2004,
          2005,
          2006,
          2007,
          2008,
          2009,
          2010,
          2011,
          2012,
          2013,
          2014,
          2015,
          2016,
          2017,
          2018,
          2019,
          2020,
          2021,
          2022,
          2023
         ],
         "xaxis": "x",
         "y": [
          7.101596882,
          1.269035079,
          -0.971177311,
          4.430045721,
          6.906582837,
          4.987491771,
          5.555694901,
          2.352437981,
          6.166132702,
          0.865952329,
          1.735825059,
          -0.496519392,
          1.39419336,
          -1.298280693,
          4.742135673,
          -2.529318024,
          4.68195411,
          0.052728183,
          0.623065429,
          2.832177568,
          0.187608794,
          1.290210488,
          0,
          0
         ],
         "yaxis": "y"
        },
        {
         "hovertemplate": "Country Name=Guatemala<br>Year=%{x}<br>Nilai GDP=%{y}<extra></extra>",
         "legendgroup": "Guatemala",
         "line": {
          "color": "#00cc96",
          "dash": "solid"
         },
         "marker": {
          "symbol": "circle"
         },
         "mode": "markers+lines",
         "name": "Guatemala",
         "showlegend": true,
         "type": "scattergl",
         "x": [
          2000,
          2001,
          2002,
          2003,
          2004,
          2005,
          2006,
          2007,
          2008,
          2009,
          2010,
          2011,
          2012,
          2013,
          2014,
          2015,
          2016,
          2017,
          2018,
          2019,
          2020,
          2021,
          2022,
          2023
         ],
         "xaxis": "x",
         "y": [
          3.608868717,
          2.332574866,
          3.839287086,
          2.560377668,
          3.137916836,
          3.276026926,
          5.351397787,
          6.33771869,
          3.293524,
          0.476898107,
          2.884175428,
          4.163906883,
          2.974708568,
          3.694819199,
          4.443977583,
          4.092170816,
          2.677802555,
          3.079851491,
          3.4068734,
          4.017897934,
          -1.791857695,
          8.002408036,
          4.118004169,
          3.484484727
         ],
         "yaxis": "y"
        },
        {
         "hovertemplate": "Country Name=Guam<br>Year=%{x}<br>Nilai GDP=%{y}<extra></extra>",
         "legendgroup": "Guam",
         "line": {
          "color": "#ab63fa",
          "dash": "solid"
         },
         "marker": {
          "symbol": "circle"
         },
         "mode": "markers+lines",
         "name": "Guam",
         "showlegend": true,
         "type": "scattergl",
         "x": [
          2000,
          2001,
          2002,
          2003,
          2004,
          2005,
          2006,
          2007,
          2008,
          2009,
          2010,
          2011,
          2012,
          2013,
          2014,
          2015,
          2016,
          2017,
          2018,
          2019,
          2020,
          2021,
          2022,
          2023
         ],
         "xaxis": "x",
         "y": [
          0,
          0,
          0,
          0.879314135,
          6.493789497,
          3.642316349,
          -3.652517275,
          0.717213115,
          2.034587996,
          0.438683948,
          2.263251936,
          0.077654824,
          2.13385063,
          1.690408357,
          1.793051924,
          0.825688073,
          0.181983621,
          0.890099909,
          -0.828231905,
          2.523602033,
          -10.51885957,
          2.058183257,
          5.099864262,
          0
         ],
         "yaxis": "y"
        },
        {
         "hovertemplate": "Country Name=Guyana<br>Year=%{x}<br>Nilai GDP=%{y}<extra></extra>",
         "legendgroup": "Guyana",
         "line": {
          "color": "#FFA15A",
          "dash": "solid"
         },
         "marker": {
          "symbol": "circle"
         },
         "mode": "markers+lines",
         "name": "Guyana",
         "showlegend": true,
         "type": "scattergl",
         "x": [
          2000,
          2001,
          2002,
          2003,
          2004,
          2005,
          2006,
          2007,
          2008,
          2009,
          2010,
          2011,
          2012,
          2013,
          2014,
          2015,
          2016,
          2017,
          2018,
          2019,
          2020,
          2021,
          2022,
          2023
         ],
         "xaxis": "x",
         "y": [
          -1.363803903,
          2.279521659,
          1.132626962,
          -0.632225388,
          1.56335211,
          -1.950957595,
          5.129609348,
          7.191236241,
          1.755223496,
          3.611508472,
          4.138441601,
          5.196251561,
          5.27633062,
          3.653384333,
          1.68649445,
          0.687404591,
          3.807456264,
          3.734491546,
          4.440912885,
          5.352840035,
          43.47965172,
          20.00752973,
          63.43986437,
          33.01688299
         ],
         "yaxis": "y"
        },
        {
         "hovertemplate": "Country Name=High income<br>Year=%{x}<br>Nilai GDP=%{y}<extra></extra>",
         "legendgroup": "High income",
         "line": {
          "color": "#19d3f3",
          "dash": "solid"
         },
         "marker": {
          "symbol": "circle"
         },
         "mode": "markers+lines",
         "name": "High income",
         "showlegend": true,
         "type": "scattergl",
         "x": [
          2000,
          2001,
          2002,
          2003,
          2004,
          2005,
          2006,
          2007,
          2008,
          2009,
          2010,
          2011,
          2012,
          2013,
          2014,
          2015,
          2016,
          2017,
          2018,
          2019,
          2020,
          2021,
          2022,
          2023
         ],
         "xaxis": "x",
         "y": [
          4.259076223,
          1.583035981,
          1.620540177,
          2.305221781,
          3.513388852,
          2.974538737,
          3.22028729,
          2.856672473,
          0.675885063,
          -3.378528337,
          3.048340175,
          2.017851706,
          1.472888106,
          1.597957074,
          2.141768165,
          2.325526275,
          1.833040909,
          2.47631841,
          2.369994444,
          1.845827065,
          -3.914669261,
          5.584368156,
          2.641586105,
          1.644160342
         ],
         "yaxis": "y"
        },
        {
         "hovertemplate": "Country Name=Hong Kong SAR, China<br>Year=%{x}<br>Nilai GDP=%{y}<extra></extra>",
         "legendgroup": "Hong Kong SAR, China",
         "line": {
          "color": "#FF6692",
          "dash": "solid"
         },
         "marker": {
          "symbol": "circle"
         },
         "mode": "markers+lines",
         "name": "Hong Kong SAR, China",
         "showlegend": true,
         "type": "scattergl",
         "x": [
          2000,
          2001,
          2002,
          2003,
          2004,
          2005,
          2006,
          2007,
          2008,
          2009,
          2010,
          2011,
          2012,
          2013,
          2014,
          2015,
          2016,
          2017,
          2018,
          2019,
          2020,
          2021,
          2022,
          2023
         ],
         "xaxis": "x",
         "y": [
          7.663440689,
          0.560798481,
          1.656689885,
          3.056282107,
          8.700097869,
          7.388127394,
          7.032659005,
          6.464814455,
          2.127981815,
          -2.459089473,
          6.76766257,
          4.814713796,
          1.700313663,
          3.10154169,
          2.762374494,
          2.387838881,
          2.175411705,
          3.796090706,
          2.846911546,
          -1.672426519,
          -6.544778677,
          6.454396779,
          -3.680752922,
          3.21505497
         ],
         "yaxis": "y"
        },
        {
         "hovertemplate": "Country Name=Honduras<br>Year=%{x}<br>Nilai GDP=%{y}<extra></extra>",
         "legendgroup": "Honduras",
         "line": {
          "color": "#B6E880",
          "dash": "solid"
         },
         "marker": {
          "symbol": "circle"
         },
         "mode": "markers+lines",
         "name": "Honduras",
         "showlegend": true,
         "type": "scattergl",
         "x": [
          2000,
          2001,
          2002,
          2003,
          2004,
          2005,
          2006,
          2007,
          2008,
          2009,
          2010,
          2011,
          2012,
          2013,
          2014,
          2015,
          2016,
          2017,
          2018,
          2019,
          2020,
          2021,
          2022,
          2023
         ],
         "xaxis": "x",
         "y": [
          7.291288159,
          2.723193273,
          3.754337861,
          4.547038052,
          6.232302961,
          6.050599222,
          6.567243552,
          6.188327167,
          4.23160011,
          -2.43162788,
          3.731140344,
          3.835690662,
          4.128687749,
          2.791559757,
          3.058080562,
          3.840079971,
          3.892972197,
          4.842913911,
          3.84499477,
          2.559634346,
          -8.965082233,
          12.56528438,
          4.14356194,
          3.582603626
         ],
         "yaxis": "y"
        },
        {
         "hovertemplate": "Country Name=Heavily indebted poor countries (HIPC)<br>Year=%{x}<br>Nilai GDP=%{y}<extra></extra>",
         "legendgroup": "Heavily indebted poor countries (HIPC)",
         "line": {
          "color": "#FF97FF",
          "dash": "solid"
         },
         "marker": {
          "symbol": "circle"
         },
         "mode": "markers+lines",
         "name": "Heavily indebted poor countries (HIPC)",
         "showlegend": true,
         "type": "scattergl",
         "x": [
          2000,
          2001,
          2002,
          2003,
          2004,
          2005,
          2006,
          2007,
          2008,
          2009,
          2010,
          2011,
          2012,
          2013,
          2014,
          2015,
          2016,
          2017,
          2018,
          2019,
          2020,
          2021,
          2022,
          2023
         ],
         "xaxis": "x",
         "y": [
          2.888998207,
          3.62872773,
          3.810757284,
          3.888810874,
          5.657396457,
          5.569063804,
          5.862566945,
          5.460474937,
          5.641476869,
          3.738118983,
          6.100512,
          4.462047916,
          3.97711292,
          5.640484435,
          5.845892406,
          4.816187111,
          4.442968382,
          5.003473478,
          4.193276927,
          4.420985717,
          0.236251144,
          4.195132478,
          4.796360999,
          4.41181393
         ],
         "yaxis": "y"
        },
        {
         "hovertemplate": "Country Name=Croatia<br>Year=%{x}<br>Nilai GDP=%{y}<extra></extra>",
         "legendgroup": "Croatia",
         "line": {
          "color": "#FECB52",
          "dash": "solid"
         },
         "marker": {
          "symbol": "circle"
         },
         "mode": "markers+lines",
         "name": "Croatia",
         "showlegend": true,
         "type": "scattergl",
         "x": [
          2000,
          2001,
          2002,
          2003,
          2004,
          2005,
          2006,
          2007,
          2008,
          2009,
          2010,
          2011,
          2012,
          2013,
          2014,
          2015,
          2016,
          2017,
          2018,
          2019,
          2020,
          2021,
          2022,
          2023
         ],
         "xaxis": "x",
         "y": [
          2.956274614,
          3.12086446,
          5.820577751,
          5.599633572,
          4.17994854,
          4.307492962,
          5.076835412,
          5.075021828,
          2.019521789,
          -7.215120202,
          -1.224864141,
          -0.058246926,
          -2.298255012,
          -0.306838202,
          -0.34168263,
          2.549129635,
          3.649197525,
          3.364803306,
          2.983376913,
          3.44274248,
          -8.520438134,
          13.04114349,
          7.027225888,
          3.060871288
         ],
         "yaxis": "y"
        },
        {
         "hovertemplate": "Country Name=Haiti<br>Year=%{x}<br>Nilai GDP=%{y}<extra></extra>",
         "legendgroup": "Haiti",
         "line": {
          "color": "#636efa",
          "dash": "solid"
         },
         "marker": {
          "symbol": "circle"
         },
         "mode": "markers+lines",
         "name": "Haiti",
         "showlegend": true,
         "type": "scattergl",
         "x": [
          2000,
          2001,
          2002,
          2003,
          2004,
          2005,
          2006,
          2007,
          2008,
          2009,
          2010,
          2011,
          2012,
          2013,
          2014,
          2015,
          2016,
          2017,
          2018,
          2019,
          2020,
          2021,
          2022,
          2023
         ],
         "xaxis": "x",
         "y": [
          0.870059259,
          -0.342747883,
          1.051820135,
          3.480779732,
          -1.31785676,
          3.072173377,
          1.768750603,
          4.70652994,
          2.658032308,
          5.890378948,
          -5.651511534,
          5.098213544,
          0.502424404,
          4.324784115,
          2.888772509,
          1.400000009,
          1.812468078,
          2.510271345,
          1.667810955,
          -1.723096998,
          -3.30550547,
          -1.798239889,
          -1.681983969,
          -1.863884203
         ],
         "yaxis": "y"
        },
        {
         "hovertemplate": "Country Name=Hungary<br>Year=%{x}<br>Nilai GDP=%{y}<extra></extra>",
         "legendgroup": "Hungary",
         "line": {
          "color": "#EF553B",
          "dash": "solid"
         },
         "marker": {
          "symbol": "circle"
         },
         "mode": "markers+lines",
         "name": "Hungary",
         "showlegend": true,
         "type": "scattergl",
         "x": [
          2000,
          2001,
          2002,
          2003,
          2004,
          2005,
          2006,
          2007,
          2008,
          2009,
          2010,
          2011,
          2012,
          2013,
          2014,
          2015,
          2016,
          2017,
          2018,
          2019,
          2020,
          2021,
          2022,
          2023
         ],
         "xaxis": "x",
         "y": [
          4.479194732,
          4.074088033,
          4.741286546,
          4.074249746,
          5.004620692,
          4.29427761,
          3.94606688,
          0.277372772,
          1.003943029,
          -6.597867219,
          1.076254043,
          1.866837475,
          -1.250226023,
          1.802522101,
          4.232209806,
          3.707315979,
          2.201001893,
          4.271976016,
          5.362348362,
          4.864225735,
          -4.487046048,
          7.06122061,
          4.583407673,
          -0.907685956
         ],
         "yaxis": "y"
        },
        {
         "hovertemplate": "Country Name=IBRD only<br>Year=%{x}<br>Nilai GDP=%{y}<extra></extra>",
         "legendgroup": "IBRD only",
         "line": {
          "color": "#00cc96",
          "dash": "solid"
         },
         "marker": {
          "symbol": "circle"
         },
         "mode": "markers+lines",
         "name": "IBRD only",
         "showlegend": true,
         "type": "scattergl",
         "x": [
          2000,
          2001,
          2002,
          2003,
          2004,
          2005,
          2006,
          2007,
          2008,
          2009,
          2010,
          2011,
          2012,
          2013,
          2014,
          2015,
          2016,
          2017,
          2018,
          2019,
          2020,
          2021,
          2022,
          2023
         ],
         "xaxis": "x",
         "y": [
          5.891569519,
          3.622464485,
          4.572186646,
          5.943161187,
          7.637394371,
          7.184478526,
          8.296932305,
          8.948944267,
          5.905424068,
          2.786337537,
          7.815824585,
          6.381233176,
          5.446668541,
          5.221775156,
          4.792720339,
          4.404530948,
          4.55662192,
          5.241650355,
          4.935665423,
          3.98398106,
          -1.40120443,
          7.628482966,
          3.601688625,
          4.447556758
         ],
         "yaxis": "y"
        },
        {
         "hovertemplate": "Country Name=IDA & IBRD total<br>Year=%{x}<br>Nilai GDP=%{y}<extra></extra>",
         "legendgroup": "IDA & IBRD total",
         "line": {
          "color": "#ab63fa",
          "dash": "solid"
         },
         "marker": {
          "symbol": "circle"
         },
         "mode": "markers+lines",
         "name": "IDA & IBRD total",
         "showlegend": true,
         "type": "scattergl",
         "x": [
          2000,
          2001,
          2002,
          2003,
          2004,
          2005,
          2006,
          2007,
          2008,
          2009,
          2010,
          2011,
          2012,
          2013,
          2014,
          2015,
          2016,
          2017,
          2018,
          2019,
          2020,
          2021,
          2022,
          2023
         ],
         "xaxis": "x",
         "y": [
          5.724715372,
          3.657184974,
          4.646775038,
          5.85472061,
          7.55695579,
          7.100965803,
          8.112408502,
          8.702055557,
          5.835855095,
          2.969739266,
          7.683101065,
          6.203461966,
          5.284632252,
          5.223253584,
          4.846308684,
          4.32675343,
          4.454964519,
          5.14241842,
          4.89001452,
          3.979119056,
          -1.355435011,
          7.386659265,
          3.653546061,
          4.363221195
         ],
         "yaxis": "y"
        },
        {
         "hovertemplate": "Country Name=IDA total<br>Year=%{x}<br>Nilai GDP=%{y}<extra></extra>",
         "legendgroup": "IDA total",
         "line": {
          "color": "#FFA15A",
          "dash": "solid"
         },
         "marker": {
          "symbol": "circle"
         },
         "mode": "markers+lines",
         "name": "IDA total",
         "showlegend": true,
         "type": "scattergl",
         "x": [
          2000,
          2001,
          2002,
          2003,
          2004,
          2005,
          2006,
          2007,
          2008,
          2009,
          2010,
          2011,
          2012,
          2013,
          2014,
          2015,
          2016,
          2017,
          2018,
          2019,
          2020,
          2021,
          2022,
          2023
         ],
         "xaxis": "x",
         "y": [
          3.935272376,
          4.034189241,
          5.453470309,
          4.906203558,
          6.685731979,
          6.188377682,
          6.07710359,
          5.921876186,
          5.030060153,
          5.077611646,
          6.190945923,
          4.174272804,
          3.395867206,
          5.240828595,
          5.4825506,
          3.40935816,
          3.24436381,
          3.945681821,
          4.332600772,
          3.919409107,
          -0.792994535,
          4.433211437,
          4.310298531,
          3.296311085
         ],
         "yaxis": "y"
        },
        {
         "hovertemplate": "Country Name=IDA blend<br>Year=%{x}<br>Nilai GDP=%{y}<extra></extra>",
         "legendgroup": "IDA blend",
         "line": {
          "color": "#19d3f3",
          "dash": "solid"
         },
         "marker": {
          "symbol": "circle"
         },
         "mode": "markers+lines",
         "name": "IDA blend",
         "showlegend": true,
         "type": "scattergl",
         "x": [
          2000,
          2001,
          2002,
          2003,
          2004,
          2005,
          2006,
          2007,
          2008,
          2009,
          2010,
          2011,
          2012,
          2013,
          2014,
          2015,
          2016,
          2017,
          2018,
          2019,
          2020,
          2021,
          2022,
          2023
         ],
         "xaxis": "x",
         "y": [
          3.785198516,
          4.358374988,
          6.969005937,
          5.019643575,
          7.581851473,
          6.21313626,
          5.854095656,
          5.614315208,
          4.150422798,
          5.976999722,
          5.933594358,
          4.591922462,
          4.381887918,
          5.515221103,
          5.607324951,
          3.740471004,
          2.087329773,
          2.555791797,
          3.84829204,
          2.770731357,
          -1.415742918,
          5.164294109,
          4.215491032,
          2.526256901
         ],
         "yaxis": "y"
        },
        {
         "hovertemplate": "Country Name=Indonesia<br>Year=%{x}<br>Nilai GDP=%{y}<extra></extra>",
         "legendgroup": "Indonesia",
         "line": {
          "color": "#FF6692",
          "dash": "solid"
         },
         "marker": {
          "symbol": "circle"
         },
         "mode": "markers+lines",
         "name": "Indonesia",
         "showlegend": true,
         "type": "scattergl",
         "x": [
          2000,
          2001,
          2002,
          2003,
          2004,
          2005,
          2006,
          2007,
          2008,
          2009,
          2010,
          2011,
          2012,
          2013,
          2014,
          2015,
          2016,
          2017,
          2018,
          2019,
          2020,
          2021,
          2022,
          2023
         ],
         "xaxis": "x",
         "y": [
          4.920067748,
          3.643466448,
          4.499475389,
          4.780369124,
          5.030873945,
          5.692571303,
          5.500951785,
          6.345022228,
          6.013703599,
          4.628871183,
          6.22385418,
          6.169784208,
          6.030050653,
          5.557263689,
          5.006668426,
          4.8763223,
          5.033069183,
          5.069785901,
          5.17429154,
          5.01928768,
          -2.065511829,
          3.702885628,
          5.307419348,
          5.048105771
         ],
         "yaxis": "y"
        },
        {
         "hovertemplate": "Country Name=IDA only<br>Year=%{x}<br>Nilai GDP=%{y}<extra></extra>",
         "legendgroup": "IDA only",
         "line": {
          "color": "#B6E880",
          "dash": "solid"
         },
         "marker": {
          "symbol": "circle"
         },
         "mode": "markers+lines",
         "name": "IDA only",
         "showlegend": true,
         "type": "scattergl",
         "x": [
          2000,
          2001,
          2002,
          2003,
          2004,
          2005,
          2006,
          2007,
          2008,
          2009,
          2010,
          2011,
          2012,
          2013,
          2014,
          2015,
          2016,
          2017,
          2018,
          2019,
          2020,
          2021,
          2022,
          2023
         ],
         "xaxis": "x",
         "y": [
          4.075642691,
          3.735437192,
          4.048447772,
          4.798083623,
          5.829832783,
          6.164338853,
          6.293728046,
          6.219397738,
          5.876137008,
          4.252623384,
          6.430913235,
          3.786655352,
          2.473648645,
          4.97941208,
          5.363320007,
          3.092224012,
          4.359519293,
          5.256098768,
          4.777502698,
          4.965264186,
          -0.23784529,
          3.789182498,
          4.395917127,
          3.998148258
         ],
         "yaxis": "y"
        },
        {
         "hovertemplate": "Country Name=Isle of Man<br>Year=%{x}<br>Nilai GDP=%{y}<extra></extra>",
         "legendgroup": "Isle of Man",
         "line": {
          "color": "#FF97FF",
          "dash": "solid"
         },
         "marker": {
          "symbol": "circle"
         },
         "mode": "markers+lines",
         "name": "Isle of Man",
         "showlegend": true,
         "type": "scattergl",
         "x": [
          2000,
          2001,
          2002,
          2003,
          2004,
          2005,
          2006,
          2007,
          2008,
          2009,
          2010,
          2011,
          2012,
          2013,
          2014,
          2015,
          2016,
          2017,
          2018,
          2019,
          2020,
          2021,
          2022,
          2023
         ],
         "xaxis": "x",
         "y": [
          5.300001526,
          5.399999031,
          6.199998195,
          5.999999688,
          5.200003104,
          5.899999336,
          7.699998713,
          7.50000023,
          4.900001001,
          2.100000272,
          3.399998424,
          1.999999382,
          7.303890305,
          4.141862742,
          5.15509985,
          -0.385867274,
          6.952303657,
          2.837757415,
          2.21339675,
          0.254878786,
          -8.8368174,
          3.837836666,
          0,
          0
         ],
         "yaxis": "y"
        },
        {
         "hovertemplate": "Country Name=India<br>Year=%{x}<br>Nilai GDP=%{y}<extra></extra>",
         "legendgroup": "India",
         "line": {
          "color": "#FECB52",
          "dash": "solid"
         },
         "marker": {
          "symbol": "circle"
         },
         "mode": "markers+lines",
         "name": "India",
         "showlegend": true,
         "type": "scattergl",
         "x": [
          2000,
          2001,
          2002,
          2003,
          2004,
          2005,
          2006,
          2007,
          2008,
          2009,
          2010,
          2011,
          2012,
          2013,
          2014,
          2015,
          2016,
          2017,
          2018,
          2019,
          2020,
          2021,
          2022,
          2023
         ],
         "xaxis": "x",
         "y": [
          3.840991157,
          4.823966266,
          3.803975321,
          7.860381476,
          7.922936612,
          7.923430621,
          8.060732572,
          7.660815067,
          3.086698059,
          7.861888833,
          8.497584702,
          5.241316199,
          5.456387552,
          6.386106401,
          7.410227605,
          7.996253786,
          8.256305502,
          6.795383419,
          6.453851345,
          3.871436941,
          -5.777724707,
          9.689592492,
          6.987039326,
          7.583971124
         ],
         "yaxis": "y"
        },
        {
         "hovertemplate": "Country Name=Ireland<br>Year=%{x}<br>Nilai GDP=%{y}<extra></extra>",
         "legendgroup": "Ireland",
         "line": {
          "color": "#636efa",
          "dash": "solid"
         },
         "marker": {
          "symbol": "circle"
         },
         "mode": "markers+lines",
         "name": "Ireland",
         "showlegend": true,
         "type": "scattergl",
         "x": [
          2000,
          2001,
          2002,
          2003,
          2004,
          2005,
          2006,
          2007,
          2008,
          2009,
          2010,
          2011,
          2012,
          2013,
          2014,
          2015,
          2016,
          2017,
          2018,
          2019,
          2020,
          2021,
          2022,
          2023
         ],
         "xaxis": "x",
         "y": [
          9.403524677,
          5.305821528,
          5.899365269,
          3.013838692,
          6.788139971,
          5.739781672,
          4.987853812,
          5.310118221,
          -4.484070646,
          -5.095783185,
          1.682972022,
          1.280752091,
          -0.129692111,
          1.174614374,
          8.828998727,
          24.47525334,
          1.765556879,
          9.311259306,
          8.470295452,
          5.297728026,
          6.617194668,
          15.12521979,
          9.43302211,
          -3.19878596
         ],
         "yaxis": "y"
        },
        {
         "hovertemplate": "Country Name=Iran, Islamic Rep.<br>Year=%{x}<br>Nilai GDP=%{y}<extra></extra>",
         "legendgroup": "Iran, Islamic Rep.",
         "line": {
          "color": "#EF553B",
          "dash": "solid"
         },
         "marker": {
          "symbol": "circle"
         },
         "mode": "markers+lines",
         "name": "Iran, Islamic Rep.",
         "showlegend": true,
         "type": "scattergl",
         "x": [
          2000,
          2001,
          2002,
          2003,
          2004,
          2005,
          2006,
          2007,
          2008,
          2009,
          2010,
          2011,
          2012,
          2013,
          2014,
          2015,
          2016,
          2017,
          2018,
          2019,
          2020,
          2021,
          2022,
          2023
         ],
         "xaxis": "x",
         "y": [
          5.845527476,
          2.392172712,
          8.078829279,
          8.639298396,
          4.336665983,
          3.189804081,
          4.999795269,
          8.155773518,
          0.250856553,
          1.007385463,
          5.797938296,
          2.64571792,
          -3.747171399,
          -1.521979205,
          4.984775067,
          -1.424884939,
          8.815086643,
          2.758505246,
          -1.838007571,
          -3.070587985,
          3.330288459,
          4.719777732,
          3.776631402,
          4.952163169
         ],
         "yaxis": "y"
        },
        {
         "hovertemplate": "Country Name=Iraq<br>Year=%{x}<br>Nilai GDP=%{y}<extra></extra>",
         "legendgroup": "Iraq",
         "line": {
          "color": "#00cc96",
          "dash": "solid"
         },
         "marker": {
          "symbol": "circle"
         },
         "mode": "markers+lines",
         "name": "Iraq",
         "showlegend": true,
         "type": "scattergl",
         "x": [
          2000,
          2001,
          2002,
          2003,
          2004,
          2005,
          2006,
          2007,
          2008,
          2009,
          2010,
          2011,
          2012,
          2013,
          2014,
          2015,
          2016,
          2017,
          2018,
          2019,
          2020,
          2021,
          2022,
          2023
         ],
         "xaxis": "x",
         "y": [
          16.92166569,
          1.761480081,
          -8.198469824,
          -36.65815268,
          53.38179419,
          1.671889624,
          5.646297795,
          1.885572143,
          8.228107104,
          3.379299094,
          6.402564845,
          7.5464712,
          13.93643017,
          7.628571185,
          0.19701671,
          4.722864019,
          13.78737302,
          -1.819750351,
          2.633850991,
          5.513790574,
          -12.03679309,
          1.50218071,
          7.639811402,
          -2.93555774
         ],
         "yaxis": "y"
        },
        {
         "hovertemplate": "Country Name=Iceland<br>Year=%{x}<br>Nilai GDP=%{y}<extra></extra>",
         "legendgroup": "Iceland",
         "line": {
          "color": "#ab63fa",
          "dash": "solid"
         },
         "marker": {
          "symbol": "circle"
         },
         "mode": "markers+lines",
         "name": "Iceland",
         "showlegend": true,
         "type": "scattergl",
         "x": [
          2000,
          2001,
          2002,
          2003,
          2004,
          2005,
          2006,
          2007,
          2008,
          2009,
          2010,
          2011,
          2012,
          2013,
          2014,
          2015,
          2016,
          2017,
          2018,
          2019,
          2020,
          2021,
          2022,
          2023
         ],
         "xaxis": "x",
         "y": [
          4.98504277,
          4.013497555,
          0.559519082,
          2.142688379,
          7.802399508,
          6.124438965,
          6.316993086,
          8.454860096,
          2.209496419,
          -7.66380956,
          -2.832774915,
          1.845779156,
          1.063636607,
          4.55246032,
          1.687215018,
          4.436663719,
          6.303687107,
          4.194948829,
          4.889172995,
          1.861177943,
          -6.940453095,
          5.148715418,
          8.881307745,
          4.06379899
         ],
         "yaxis": "y"
        },
        {
         "hovertemplate": "Country Name=Israel<br>Year=%{x}<br>Nilai GDP=%{y}<extra></extra>",
         "legendgroup": "Israel",
         "line": {
          "color": "#FFA15A",
          "dash": "solid"
         },
         "marker": {
          "symbol": "circle"
         },
         "mode": "markers+lines",
         "name": "Israel",
         "showlegend": true,
         "type": "scattergl",
         "x": [
          2000,
          2001,
          2002,
          2003,
          2004,
          2005,
          2006,
          2007,
          2008,
          2009,
          2010,
          2011,
          2012,
          2013,
          2014,
          2015,
          2016,
          2017,
          2018,
          2019,
          2020,
          2021,
          2022,
          2023
         ],
         "xaxis": "x",
         "y": [
          8.671655277,
          0.334070643,
          -0.114220928,
          1.393912964,
          4.784467426,
          4.134076619,
          5.582667959,
          6.033213571,
          3.251163361,
          0.883120394,
          5.668515118,
          5.561139076,
          2.587653844,
          4.415501587,
          3.919126893,
          2.485826289,
          4.521680309,
          4.276595951,
          4.070321887,
          4.156137989,
          -1.857289278,
          8.611990348,
          6.832886636,
          1.997039988
         ],
         "yaxis": "y"
        },
        {
         "hovertemplate": "Country Name=Italy<br>Year=%{x}<br>Nilai GDP=%{y}<extra></extra>",
         "legendgroup": "Italy",
         "line": {
          "color": "#19d3f3",
          "dash": "solid"
         },
         "marker": {
          "symbol": "circle"
         },
         "mode": "markers+lines",
         "name": "Italy",
         "showlegend": true,
         "type": "scattergl",
         "x": [
          2000,
          2001,
          2002,
          2003,
          2004,
          2005,
          2006,
          2007,
          2008,
          2009,
          2010,
          2011,
          2012,
          2013,
          2014,
          2015,
          2016,
          2017,
          2018,
          2019,
          2020,
          2021,
          2022,
          2023
         ],
         "xaxis": "x",
         "y": [
          3.786955143,
          1.951371556,
          0.253942999,
          0.138626891,
          1.423594158,
          0.817848974,
          1.790639681,
          1.48707298,
          -0.962012841,
          -5.280937208,
          1.713295839,
          0.707333347,
          -2.980905768,
          -1.841065451,
          -0.004547542,
          0.778304351,
          1.293462732,
          1.667859041,
          0.925810941,
          0.483198317,
          -8.974192121,
          8.310239908,
          3.985897443,
          0.920692214
         ],
         "yaxis": "y"
        },
        {
         "hovertemplate": "Country Name=Jamaica<br>Year=%{x}<br>Nilai GDP=%{y}<extra></extra>",
         "legendgroup": "Jamaica",
         "line": {
          "color": "#FF6692",
          "dash": "solid"
         },
         "marker": {
          "symbol": "circle"
         },
         "mode": "markers+lines",
         "name": "Jamaica",
         "showlegend": true,
         "type": "scattergl",
         "x": [
          2000,
          2001,
          2002,
          2003,
          2004,
          2005,
          2006,
          2007,
          2008,
          2009,
          2010,
          2011,
          2012,
          2013,
          2014,
          2015,
          2016,
          2017,
          2018,
          2019,
          2020,
          2021,
          2022,
          2023
         ],
         "xaxis": "x",
         "y": [
          0.878703548,
          1.344929564,
          1.997290944,
          3.666317593,
          1.3237251,
          0.893797936,
          2.89912535,
          1.431954037,
          -0.811736703,
          -4.345301858,
          -1.457147209,
          1.730376267,
          -0.61363604,
          0.517686013,
          0.689822357,
          0.921487125,
          1.375223064,
          0.997123062,
          1.889923681,
          0.892291654,
          -9.920322451,
          4.6014245,
          5.221519852,
          2.200061472
         ],
         "yaxis": "y"
        },
        {
         "hovertemplate": "Country Name=Jordan<br>Year=%{x}<br>Nilai GDP=%{y}<extra></extra>",
         "legendgroup": "Jordan",
         "line": {
          "color": "#B6E880",
          "dash": "solid"
         },
         "marker": {
          "symbol": "circle"
         },
         "mode": "markers+lines",
         "name": "Jordan",
         "showlegend": true,
         "type": "scattergl",
         "x": [
          2000,
          2001,
          2002,
          2003,
          2004,
          2005,
          2006,
          2007,
          2008,
          2009,
          2010,
          2011,
          2012,
          2013,
          2014,
          2015,
          2016,
          2017,
          2018,
          2019,
          2020,
          2021,
          2022,
          2023
         ],
         "xaxis": "x",
         "y": [
          4.245711921,
          5.269957575,
          5.783807927,
          4.161667555,
          8.567214242,
          8.146594811,
          8.092975278,
          8.176169952,
          7.220386373,
          5.023710073,
          2.314834221,
          2.737179886,
          2.429358001,
          2.609947375,
          3.384078099,
          2.496528793,
          1.994180849,
          2.473598154,
          1.919072636,
          1.751239059,
          -1.102751883,
          3.65564191,
          2.428073305,
          2.61548743
         ],
         "yaxis": "y"
        },
        {
         "hovertemplate": "Country Name=Japan<br>Year=%{x}<br>Nilai GDP=%{y}<extra></extra>",
         "legendgroup": "Japan",
         "line": {
          "color": "#FF97FF",
          "dash": "solid"
         },
         "marker": {
          "symbol": "circle"
         },
         "mode": "markers+lines",
         "name": "Japan",
         "showlegend": true,
         "type": "scattergl",
         "x": [
          2000,
          2001,
          2002,
          2003,
          2004,
          2005,
          2006,
          2007,
          2008,
          2009,
          2010,
          2011,
          2012,
          2013,
          2014,
          2015,
          2016,
          2017,
          2018,
          2019,
          2020,
          2021,
          2022,
          2023
         ],
         "xaxis": "x",
         "y": [
          2.764647551,
          0.386103426,
          0.041962499,
          1.535125499,
          2.186115694,
          1.803900872,
          1.372350128,
          1.483969412,
          -1.224289001,
          -5.693236359,
          4.097917919,
          0.023809524,
          1.374750999,
          2.005100177,
          0.296205514,
          1.560626697,
          0.753826746,
          1.675331752,
          0.643391023,
          -0.402169201,
          -4.147118899,
          2.559320239,
          0.954736938,
          1.923055531
         ],
         "yaxis": "y"
        },
        {
         "hovertemplate": "Country Name=Kazakhstan<br>Year=%{x}<br>Nilai GDP=%{y}<extra></extra>",
         "legendgroup": "Kazakhstan",
         "line": {
          "color": "#FECB52",
          "dash": "solid"
         },
         "marker": {
          "symbol": "circle"
         },
         "mode": "markers+lines",
         "name": "Kazakhstan",
         "showlegend": true,
         "type": "scattergl",
         "x": [
          2000,
          2001,
          2002,
          2003,
          2004,
          2005,
          2006,
          2007,
          2008,
          2009,
          2010,
          2011,
          2012,
          2013,
          2014,
          2015,
          2016,
          2017,
          2018,
          2019,
          2020,
          2021,
          2022,
          2023
         ],
         "xaxis": "x",
         "y": [
          9.800000002,
          13.5,
          9.8,
          9.3,
          9.600000001,
          9.699999999,
          10.7,
          8.9,
          3.3,
          1.199999999,
          7.300000003,
          7.400000001,
          4.799999995,
          5.999999997,
          4.200000006,
          1.200000001,
          1.099999999,
          4.100000003,
          4.099999993,
          4.500000001,
          -2.499999996,
          4.299999997,
          3.2,
          5.1
         ],
         "yaxis": "y"
        },
        {
         "hovertemplate": "Country Name=Kenya<br>Year=%{x}<br>Nilai GDP=%{y}<extra></extra>",
         "legendgroup": "Kenya",
         "line": {
          "color": "#636efa",
          "dash": "solid"
         },
         "marker": {
          "symbol": "circle"
         },
         "mode": "markers+lines",
         "name": "Kenya",
         "showlegend": true,
         "type": "scattergl",
         "x": [
          2000,
          2001,
          2002,
          2003,
          2004,
          2005,
          2006,
          2007,
          2008,
          2009,
          2010,
          2011,
          2012,
          2013,
          2014,
          2015,
          2016,
          2017,
          2018,
          2019,
          2020,
          2021,
          2022,
          2023
         ],
         "xaxis": "x",
         "y": [
          0.599695391,
          3.779906498,
          0.54685953,
          2.932475546,
          5.104299776,
          5.90666608,
          6.4724943,
          6.85072977,
          0.232282745,
          3.306939816,
          8.058473603,
          5.12110612,
          4.568679614,
          3.797848393,
          5.020111002,
          4.967721128,
          4.213517068,
          3.837958174,
          5.647946407,
          5.114158858,
          -0.272766327,
          7.590489473,
          4.846634856,
          5.425816151
         ],
         "yaxis": "y"
        },
        {
         "hovertemplate": "Country Name=Kyrgyz Republic<br>Year=%{x}<br>Nilai GDP=%{y}<extra></extra>",
         "legendgroup": "Kyrgyz Republic",
         "line": {
          "color": "#EF553B",
          "dash": "solid"
         },
         "marker": {
          "symbol": "circle"
         },
         "mode": "markers+lines",
         "name": "Kyrgyz Republic",
         "showlegend": true,
         "type": "scattergl",
         "x": [
          2000,
          2001,
          2002,
          2003,
          2004,
          2005,
          2006,
          2007,
          2008,
          2009,
          2010,
          2011,
          2012,
          2013,
          2014,
          2015,
          2016,
          2017,
          2018,
          2019,
          2020,
          2021,
          2022,
          2023
         ],
         "xaxis": "x",
         "y": [
          5.443336633,
          5.321621412,
          -0.017324613,
          7.030293197,
          7.026812425,
          -0.175515404,
          3.102898742,
          8.542874775,
          8.401616049,
          2.886294575,
          -0.471566597,
          5.956274297,
          -0.0881502,
          10.91546945,
          4.024038631,
          3.875825445,
          4.335855922,
          4.739937224,
          3.757910136,
          4.600625657,
          -7.148977577,
          5.507007627,
          8.9675052,
          6.151391837
         ],
         "yaxis": "y"
        },
        {
         "hovertemplate": "Country Name=Cambodia<br>Year=%{x}<br>Nilai GDP=%{y}<extra></extra>",
         "legendgroup": "Cambodia",
         "line": {
          "color": "#00cc96",
          "dash": "solid"
         },
         "marker": {
          "symbol": "circle"
         },
         "mode": "markers+lines",
         "name": "Cambodia",
         "showlegend": true,
         "type": "scattergl",
         "x": [
          2000,
          2001,
          2002,
          2003,
          2004,
          2005,
          2006,
          2007,
          2008,
          2009,
          2010,
          2011,
          2012,
          2013,
          2014,
          2015,
          2016,
          2017,
          2018,
          2019,
          2020,
          2021,
          2022,
          2023
         ],
         "xaxis": "x",
         "y": [
          9.993580323,
          8.148386097,
          6.578939499,
          8.50589556,
          10.34052877,
          13.25008691,
          10.77108367,
          10.21257391,
          6.691577476,
          0.086696959,
          5.963078573,
          7.069569946,
          7.313345506,
          7.356665149,
          7.1425711,
          6.965797817,
          6.933313972,
          6.9969037,
          7.469169208,
          7.054106932,
          -3.096006731,
          3.026389364,
          5.239810289,
          5.4
         ],
         "yaxis": "y"
        },
        {
         "hovertemplate": "Country Name=Kiribati<br>Year=%{x}<br>Nilai GDP=%{y}<extra></extra>",
         "legendgroup": "Kiribati",
         "line": {
          "color": "#ab63fa",
          "dash": "solid"
         },
         "marker": {
          "symbol": "circle"
         },
         "mode": "markers+lines",
         "name": "Kiribati",
         "showlegend": true,
         "type": "scattergl",
         "x": [
          2000,
          2001,
          2002,
          2003,
          2004,
          2005,
          2006,
          2007,
          2008,
          2009,
          2010,
          2011,
          2012,
          2013,
          2014,
          2015,
          2016,
          2017,
          2018,
          2019,
          2020,
          2021,
          2022,
          2023
         ],
         "xaxis": "x",
         "y": [
          6.779661017,
          -3.174603175,
          1.639344262,
          -1.612903226,
          -0.546448087,
          1.098901099,
          5.97826087,
          3.076923077,
          -2.985074627,
          0.512820513,
          1.020408163,
          3.535353535,
          5.853658537,
          7.373271889,
          1.287553648,
          11.44067797,
          7.224334601,
          3.546099291,
          3.424657534,
          3.311258278,
          -0.641025641,
          8.709677419,
          3.857566766,
          4.285714286
         ],
         "yaxis": "y"
        },
        {
         "hovertemplate": "Country Name=St. Kitts and Nevis<br>Year=%{x}<br>Nilai GDP=%{y}<extra></extra>",
         "legendgroup": "St. Kitts and Nevis",
         "line": {
          "color": "#FFA15A",
          "dash": "solid"
         },
         "marker": {
          "symbol": "circle"
         },
         "mode": "markers+lines",
         "name": "St. Kitts and Nevis",
         "showlegend": true,
         "type": "scattergl",
         "x": [
          2000,
          2001,
          2002,
          2003,
          2004,
          2005,
          2006,
          2007,
          2008,
          2009,
          2010,
          2011,
          2012,
          2013,
          2014,
          2015,
          2016,
          2017,
          2018,
          2019,
          2020,
          2021,
          2022,
          2023
         ],
         "xaxis": "x",
         "y": [
          10.04280842,
          5.25344983,
          1.367715073,
          -3.93339486,
          3.996346661,
          9.732820703,
          3.1503812,
          0.600602327,
          11.17852797,
          -3.379306113,
          0.043977654,
          1.616607304,
          -0.525762355,
          5.709822978,
          7.365561708,
          0.694135528,
          3.932703193,
          0.220941147,
          2.003525498,
          2.831267379,
          -15.35445176,
          0.479678357,
          10.52284928,
          3.431152293
         ],
         "yaxis": "y"
        },
        {
         "hovertemplate": "Country Name=Korea, Rep.<br>Year=%{x}<br>Nilai GDP=%{y}<extra></extra>",
         "legendgroup": "Korea, Rep.",
         "line": {
          "color": "#19d3f3",
          "dash": "solid"
         },
         "marker": {
          "symbol": "circle"
         },
         "mode": "markers+lines",
         "name": "Korea, Rep.",
         "showlegend": true,
         "type": "scattergl",
         "x": [
          2000,
          2001,
          2002,
          2003,
          2004,
          2005,
          2006,
          2007,
          2008,
          2009,
          2010,
          2011,
          2012,
          2013,
          2014,
          2015,
          2016,
          2017,
          2018,
          2019,
          2020,
          2021,
          2022,
          2023
         ],
         "xaxis": "x",
         "y": [
          9.060833325,
          4.852399572,
          7.725142675,
          3.147291194,
          5.197391363,
          4.308542714,
          5.264326595,
          5.799548415,
          3.012984873,
          0.79269899,
          6.804824918,
          3.685667782,
          2.402530992,
          3.164708636,
          3.202453795,
          2.809103268,
          2.946881715,
          3.15963574,
          2.907403774,
          2.24397786,
          -0.709415359,
          4.304734819,
          2.612672192,
          1.356733243
         ],
         "yaxis": "y"
        },
        {
         "hovertemplate": "Country Name=Kuwait<br>Year=%{x}<br>Nilai GDP=%{y}<extra></extra>",
         "legendgroup": "Kuwait",
         "line": {
          "color": "#FF6692",
          "dash": "solid"
         },
         "marker": {
          "symbol": "circle"
         },
         "mode": "markers+lines",
         "name": "Kuwait",
         "showlegend": true,
         "type": "scattergl",
         "x": [
          2000,
          2001,
          2002,
          2003,
          2004,
          2005,
          2006,
          2007,
          2008,
          2009,
          2010,
          2011,
          2012,
          2013,
          2014,
          2015,
          2016,
          2017,
          2018,
          2019,
          2020,
          2021,
          2022,
          2023
         ],
         "xaxis": "x",
         "y": [
          4.694581871,
          0.213332576,
          3.014283152,
          17.32602042,
          10.24029806,
          10.60904498,
          7.514773,
          5.991575511,
          2.479756943,
          -7.076056431,
          -2.370548047,
          9.628516604,
          6.626252425,
          1.149212861,
          0.500917356,
          0.592771759,
          2.926076261,
          -4.712223765,
          2.433978939,
          1.38146368,
          -5.274020605,
          1.69762483,
          6.138252785,
          -2.230093463
         ],
         "yaxis": "y"
        },
        {
         "hovertemplate": "Country Name=Latin America & Caribbean (excluding high income)<br>Year=%{x}<br>Nilai GDP=%{y}<extra></extra>",
         "legendgroup": "Latin America & Caribbean (excluding high income)",
         "line": {
          "color": "#B6E880",
          "dash": "solid"
         },
         "marker": {
          "symbol": "circle"
         },
         "mode": "markers+lines",
         "name": "Latin America & Caribbean (excluding high income)",
         "showlegend": true,
         "type": "scattergl",
         "x": [
          2000,
          2001,
          2002,
          2003,
          2004,
          2005,
          2006,
          2007,
          2008,
          2009,
          2010,
          2011,
          2012,
          2013,
          2014,
          2015,
          2016,
          2017,
          2018,
          2019,
          2020,
          2021,
          2022,
          2023
         ],
         "xaxis": "x",
         "y": [
          3.621212847,
          0.17585231,
          0.367566911,
          2.407029898,
          5.274218794,
          3.988954824,
          5.252942337,
          5.335291555,
          3.739808228,
          -2.406389797,
          6.672067644,
          4.425303457,
          2.371156394,
          2.765408197,
          1.295885987,
          0.292573684,
          -0.483657125,
          2.017471619,
          1.565340777,
          0.665471963,
          -6.542686148,
          6.814466462,
          3.877052645,
          2.151256544
         ],
         "yaxis": "y"
        },
        {
         "hovertemplate": "Country Name=Lao PDR<br>Year=%{x}<br>Nilai GDP=%{y}<extra></extra>",
         "legendgroup": "Lao PDR",
         "line": {
          "color": "#FF97FF",
          "dash": "solid"
         },
         "marker": {
          "symbol": "circle"
         },
         "mode": "markers+lines",
         "name": "Lao PDR",
         "showlegend": true,
         "type": "scattergl",
         "x": [
          2000,
          2001,
          2002,
          2003,
          2004,
          2005,
          2006,
          2007,
          2008,
          2009,
          2010,
          2011,
          2012,
          2013,
          2014,
          2015,
          2016,
          2017,
          2018,
          2019,
          2020,
          2021,
          2022,
          2023
         ],
         "xaxis": "x",
         "y": [
          5.798782329,
          5.75141288,
          5.918743684,
          6.067002303,
          6.35769548,
          7.107568368,
          8.619266208,
          7.596828801,
          7.824902763,
          7.501774912,
          8.526905517,
          8.03865268,
          8.026098435,
          8.026300227,
          7.61196344,
          7.270065844,
          7.022836255,
          6.892530873,
          6.247960008,
          5.457735092,
          0.503031829,
          2.528351005,
          2.707426526,
          3.745681402
         ],
         "yaxis": "y"
        },
        {
         "hovertemplate": "Country Name=Lebanon<br>Year=%{x}<br>Nilai GDP=%{y}<extra></extra>",
         "legendgroup": "Lebanon",
         "line": {
          "color": "#FECB52",
          "dash": "solid"
         },
         "marker": {
          "symbol": "circle"
         },
         "mode": "markers+lines",
         "name": "Lebanon",
         "showlegend": true,
         "type": "scattergl",
         "x": [
          2000,
          2001,
          2002,
          2003,
          2004,
          2005,
          2006,
          2007,
          2008,
          2009,
          2010,
          2011,
          2012,
          2013,
          2014,
          2015,
          2016,
          2017,
          2018,
          2019,
          2020,
          2021,
          2022,
          2023
         ],
         "xaxis": "x",
         "y": [
          1.34187162,
          3.839669277,
          3.423149828,
          3.227098269,
          6.679444616,
          2.68577931,
          1.549515001,
          9.310622526,
          9.069128268,
          10.23215558,
          7.975135558,
          0.867339879,
          2.564791337,
          3.827873499,
          2.484060105,
          0.462320793,
          1.554549409,
          0.903028464,
          -1.884705756,
          -6.914924729,
          -21.39989969,
          -7.001238625,
          -0.621678971,
          0
         ],
         "yaxis": "y"
        },
        {
         "hovertemplate": "Country Name=Liberia<br>Year=%{x}<br>Nilai GDP=%{y}<extra></extra>",
         "legendgroup": "Liberia",
         "line": {
          "color": "#636efa",
          "dash": "solid"
         },
         "marker": {
          "symbol": "circle"
         },
         "mode": "markers+lines",
         "name": "Liberia",
         "showlegend": true,
         "type": "scattergl",
         "x": [
          2000,
          2001,
          2002,
          2003,
          2004,
          2005,
          2006,
          2007,
          2008,
          2009,
          2010,
          2011,
          2012,
          2013,
          2014,
          2015,
          2016,
          2017,
          2018,
          2019,
          2020,
          2021,
          2022,
          2023
         ],
         "xaxis": "x",
         "y": [
          28.61593335,
          2.920274766,
          3.763017617,
          -30.14513273,
          2.619846895,
          5.281212453,
          8.043909972,
          9.535275363,
          7.145691128,
          5.300540503,
          6.09982524,
          8.200768225,
          7.993814446,
          8.687287816,
          0.7013931,
          -0.01856497,
          -1.554958617,
          2.45515592,
          1.157575122,
          -2.467297635,
          -2.982491276,
          4.986712835,
          4.808105173,
          4.711025384
         ],
         "yaxis": "y"
        },
        {
         "hovertemplate": "Country Name=Libya<br>Year=%{x}<br>Nilai GDP=%{y}<extra></extra>",
         "legendgroup": "Libya",
         "line": {
          "color": "#EF553B",
          "dash": "solid"
         },
         "marker": {
          "symbol": "circle"
         },
         "mode": "markers+lines",
         "name": "Libya",
         "showlegend": true,
         "type": "scattergl",
         "x": [
          2000,
          2001,
          2002,
          2003,
          2004,
          2005,
          2006,
          2007,
          2008,
          2009,
          2010,
          2011,
          2012,
          2013,
          2014,
          2015,
          2016,
          2017,
          2018,
          2019,
          2020,
          2021,
          2022,
          2023
         ],
         "xaxis": "x",
         "y": [
          3.679270408,
          -1.762838871,
          -0.958897333,
          13.01603725,
          4.461638996,
          11.87075652,
          6.50052542,
          6.229982786,
          -0.162048239,
          -4.400181763,
          5.027247672,
          -50.33851514,
          86.82674844,
          -17.99796157,
          -23.04280583,
          -0.842656252,
          -1.490941117,
          32.49180219,
          7.941367853,
          -5.994783943,
          -58.31823042,
          153.4926407,
          1.336148097,
          -1.672589946
         ],
         "yaxis": "y"
        },
        {
         "hovertemplate": "Country Name=St. Lucia<br>Year=%{x}<br>Nilai GDP=%{y}<extra></extra>",
         "legendgroup": "St. Lucia",
         "line": {
          "color": "#00cc96",
          "dash": "solid"
         },
         "marker": {
          "symbol": "circle"
         },
         "mode": "markers+lines",
         "name": "St. Lucia",
         "showlegend": true,
         "type": "scattergl",
         "x": [
          2000,
          2001,
          2002,
          2003,
          2004,
          2005,
          2006,
          2007,
          2008,
          2009,
          2010,
          2011,
          2012,
          2013,
          2014,
          2015,
          2016,
          2017,
          2018,
          2019,
          2020,
          2021,
          2022,
          2023
         ],
         "xaxis": "x",
         "y": [
          0.048748554,
          -3.408063962,
          0.416450493,
          4.264611487,
          7.26740887,
          -0.410304726,
          6.195257291,
          1.691618574,
          4.94932194,
          -2.828899548,
          0.330018546,
          4.326942805,
          -0.108756148,
          -2.005024374,
          1.520673444,
          0.102115735,
          3.427865368,
          3.379628568,
          2.886779022,
          -0.65396,
          -24.5044,
          12.22991,
          18.07538,
          3.19001
         ],
         "yaxis": "y"
        },
        {
         "hovertemplate": "Country Name=Latin America & Caribbean<br>Year=%{x}<br>Nilai GDP=%{y}<extra></extra>",
         "legendgroup": "Latin America & Caribbean",
         "line": {
          "color": "#ab63fa",
          "dash": "solid"
         },
         "marker": {
          "symbol": "circle"
         },
         "mode": "markers+lines",
         "name": "Latin America & Caribbean",
         "showlegend": true,
         "type": "scattergl",
         "x": [
          2000,
          2001,
          2002,
          2003,
          2004,
          2005,
          2006,
          2007,
          2008,
          2009,
          2010,
          2011,
          2012,
          2013,
          2014,
          2015,
          2016,
          2017,
          2018,
          2019,
          2020,
          2021,
          2022,
          2023
         ],
         "xaxis": "x",
         "y": [
          3.609968867,
          0.453271766,
          0.464241186,
          2.45501149,
          5.435783683,
          3.931813629,
          5.129489942,
          5.181815476,
          3.640487793,
          -2.279091936,
          6.388674472,
          4.395543068,
          2.566619511,
          2.760268493,
          1.336538436,
          0.407853688,
          -0.334793598,
          1.889825233,
          1.571706298,
          0.718740959,
          -6.649245673,
          6.996791927,
          3.987930947,
          2.153083954
         ],
         "yaxis": "y"
        },
        {
         "hovertemplate": "Country Name=Least developed countries: UN classification<br>Year=%{x}<br>Nilai GDP=%{y}<extra></extra>",
         "legendgroup": "Least developed countries: UN classification",
         "line": {
          "color": "#FFA15A",
          "dash": "solid"
         },
         "marker": {
          "symbol": "circle"
         },
         "mode": "markers+lines",
         "name": "Least developed countries: UN classification",
         "showlegend": true,
         "type": "scattergl",
         "x": [
          2000,
          2001,
          2002,
          2003,
          2004,
          2005,
          2006,
          2007,
          2008,
          2009,
          2010,
          2011,
          2012,
          2013,
          2014,
          2015,
          2016,
          2017,
          2018,
          2019,
          2020,
          2021,
          2022,
          2023
         ],
         "xaxis": "x",
         "y": [
          4.347244038,
          4.88560435,
          5.278264062,
          4.991131567,
          6.380883202,
          7.425536613,
          6.871564699,
          7.265627056,
          6.44492278,
          4.258714812,
          6.23843488,
          3.208453878,
          3.147317265,
          5.701096755,
          5.615400548,
          2.683764303,
          3.674366914,
          4.478174656,
          4.557900801,
          5.006065947,
          -0.06707583,
          2.772175535,
          4.630417956,
          3.71887839
         ],
         "yaxis": "y"
        },
        {
         "hovertemplate": "Country Name=Low income<br>Year=%{x}<br>Nilai GDP=%{y}<extra></extra>",
         "legendgroup": "Low income",
         "line": {
          "color": "#19d3f3",
          "dash": "solid"
         },
         "marker": {
          "symbol": "circle"
         },
         "mode": "markers+lines",
         "name": "Low income",
         "showlegend": true,
         "type": "scattergl",
         "x": [
          2000,
          2001,
          2002,
          2003,
          2004,
          2005,
          2006,
          2007,
          2008,
          2009,
          2010,
          2011,
          2012,
          2013,
          2014,
          2015,
          2016,
          2017,
          2018,
          2019,
          2020,
          2021,
          2022,
          2023
         ],
         "xaxis": "x",
         "y": [
          3.202703596,
          4.326050752,
          4.838812056,
          4.870497655,
          6.13893208,
          6.579886995,
          5.92097,
          6.116903221,
          5.542126313,
          4.154478075,
          6.982844241,
          0.785974727,
          -3.21602082,
          3.291082558,
          4.390795715,
          -0.569703594,
          2.023147228,
          3.038697218,
          3.416135893,
          4.233606104,
          0.344386863,
          2.069746686,
          3.736941965,
          3.005654742
         ],
         "yaxis": "y"
        },
        {
         "hovertemplate": "Country Name=Liechtenstein<br>Year=%{x}<br>Nilai GDP=%{y}<extra></extra>",
         "legendgroup": "Liechtenstein",
         "line": {
          "color": "#FF6692",
          "dash": "solid"
         },
         "marker": {
          "symbol": "circle"
         },
         "mode": "markers+lines",
         "name": "Liechtenstein",
         "showlegend": true,
         "type": "scattergl",
         "x": [
          2000,
          2001,
          2002,
          2003,
          2004,
          2005,
          2006,
          2007,
          2008,
          2009,
          2010,
          2011,
          2012,
          2013,
          2014,
          2015,
          2016,
          2017,
          2018,
          2019,
          2020,
          2021,
          2022,
          2023
         ],
         "xaxis": "x",
         "y": [
          3.220193082,
          -0.733092455,
          -0.993919947,
          -1.937565341,
          3.039172103,
          4.828076777,
          8.644968573,
          3.325963509,
          1.798088478,
          -1.15748292,
          0,
          0,
          0,
          0,
          0,
          0,
          0,
          0,
          0,
          0,
          0,
          0,
          0,
          0
         ],
         "yaxis": "y"
        },
        {
         "hovertemplate": "Country Name=Sri Lanka<br>Year=%{x}<br>Nilai GDP=%{y}<extra></extra>",
         "legendgroup": "Sri Lanka",
         "line": {
          "color": "#B6E880",
          "dash": "solid"
         },
         "marker": {
          "symbol": "circle"
         },
         "mode": "markers+lines",
         "name": "Sri Lanka",
         "showlegend": true,
         "type": "scattergl",
         "x": [
          2000,
          2001,
          2002,
          2003,
          2004,
          2005,
          2006,
          2007,
          2008,
          2009,
          2010,
          2011,
          2012,
          2013,
          2014,
          2015,
          2016,
          2017,
          2018,
          2019,
          2020,
          2021,
          2022,
          2023
         ],
         "xaxis": "x",
         "y": [
          6.000033158,
          -1.545408134,
          3.964675685,
          5.940269078,
          5.445061279,
          6.241748044,
          7.668291901,
          6.796826119,
          5.950088145,
          3.538912053,
          8.01596737,
          8.669483012,
          8.63218138,
          4.051746329,
          6.377978893,
          4.205955476,
          5.053624893,
          6.460681271,
          2.310084252,
          -0.220483886,
          -4.624515816,
          4.207485977,
          -7.346764384,
          -2.298045112
         ],
         "yaxis": "y"
        },
        {
         "hovertemplate": "Country Name=Lower middle income<br>Year=%{x}<br>Nilai GDP=%{y}<extra></extra>",
         "legendgroup": "Lower middle income",
         "line": {
          "color": "#FF97FF",
          "dash": "solid"
         },
         "marker": {
          "symbol": "circle"
         },
         "mode": "markers+lines",
         "name": "Lower middle income",
         "showlegend": true,
         "type": "scattergl",
         "x": [
          2000,
          2001,
          2002,
          2003,
          2004,
          2005,
          2006,
          2007,
          2008,
          2009,
          2010,
          2011,
          2012,
          2013,
          2014,
          2015,
          2016,
          2017,
          2018,
          2019,
          2020,
          2021,
          2022,
          2023
         ],
         "xaxis": "x",
         "y": [
          4.206035507,
          4.344863668,
          4.512912905,
          5.939667475,
          7.083800672,
          6.705588215,
          6.961325847,
          6.893225713,
          4.583618133,
          5.945314194,
          6.862810353,
          4.754317781,
          5.161024514,
          5.674443827,
          6.112484282,
          5.933648596,
          5.692524361,
          5.457190539,
          5.438936722,
          4.056323163,
          -3.585309431,
          6.651350609,
          5.822306681,
          5.291647256
         ],
         "yaxis": "y"
        },
        {
         "hovertemplate": "Country Name=Low & middle income<br>Year=%{x}<br>Nilai GDP=%{y}<extra></extra>",
         "legendgroup": "Low & middle income",
         "line": {
          "color": "#FECB52",
          "dash": "solid"
         },
         "marker": {
          "symbol": "circle"
         },
         "mode": "markers+lines",
         "name": "Low & middle income",
         "showlegend": true,
         "type": "scattergl",
         "x": [
          2000,
          2001,
          2002,
          2003,
          2004,
          2005,
          2006,
          2007,
          2008,
          2009,
          2010,
          2011,
          2012,
          2013,
          2014,
          2015,
          2016,
          2017,
          2018,
          2019,
          2020,
          2021,
          2022,
          2023
         ],
         "xaxis": "x",
         "y": [
          5.531175786,
          3.631331409,
          4.730827901,
          5.864145994,
          7.659770544,
          7.315660525,
          8.207421189,
          8.828787135,
          5.912564717,
          3.975476332,
          8.157475985,
          6.382481636,
          5.47567183,
          5.603071471,
          5.157931764,
          4.736742822,
          4.761435287,
          5.339994361,
          4.990183316,
          4.085397652,
          -1.189686678,
          7.424545926,
          3.849025192,
          4.519073209
         ],
         "yaxis": "y"
        },
        {
         "hovertemplate": "Country Name=Lesotho<br>Year=%{x}<br>Nilai GDP=%{y}<extra></extra>",
         "legendgroup": "Lesotho",
         "line": {
          "color": "#636efa",
          "dash": "solid"
         },
         "marker": {
          "symbol": "circle"
         },
         "mode": "markers+lines",
         "name": "Lesotho",
         "showlegend": true,
         "type": "scattergl",
         "x": [
          2000,
          2001,
          2002,
          2003,
          2004,
          2005,
          2006,
          2007,
          2008,
          2009,
          2010,
          2011,
          2012,
          2013,
          2014,
          2015,
          2016,
          2017,
          2018,
          2019,
          2020,
          2021,
          2022,
          2023
         ],
         "xaxis": "x",
         "y": [
          3.875546776,
          3.561581834,
          0.723836067,
          4.559777164,
          1.692374174,
          3.466122228,
          4.230095228,
          4.1879141,
          5.52341967,
          -1.253757799,
          5.269670781,
          4.616413945,
          6.334083747,
          1.792525556,
          1.710549905,
          3.12406678,
          3.608907317,
          -3.138174937,
          -1.480633158,
          -1.417993831,
          -7.458717059,
          1.852678521,
          1.285504125,
          0.898149778
         ],
         "yaxis": "y"
        },
        {
         "hovertemplate": "Country Name=Late-demographic dividend<br>Year=%{x}<br>Nilai GDP=%{y}<extra></extra>",
         "legendgroup": "Late-demographic dividend",
         "line": {
          "color": "#EF553B",
          "dash": "solid"
         },
         "marker": {
          "symbol": "circle"
         },
         "mode": "markers+lines",
         "name": "Late-demographic dividend",
         "showlegend": true,
         "type": "scattergl",
         "x": [
          2000,
          2001,
          2002,
          2003,
          2004,
          2005,
          2006,
          2007,
          2008,
          2009,
          2010,
          2011,
          2012,
          2013,
          2014,
          2015,
          2016,
          2017,
          2018,
          2019,
          2020,
          2021,
          2022,
          2023
         ],
         "xaxis": "x",
         "y": [
          6.983208323,
          5.184735977,
          5.98307844,
          6.82091802,
          8.177261651,
          7.740474776,
          9.284165762,
          10.2099771,
          6.921568274,
          3.696143425,
          8.01430635,
          7.185733586,
          5.815607241,
          5.611440451,
          5.225645262,
          4.699859913,
          4.4722485,
          5.304013965,
          5.424171409,
          4.650998891,
          0.199854475,
          7.449584002,
          3.177512741,
          4.189950212
         ],
         "yaxis": "y"
        },
        {
         "hovertemplate": "Country Name=Lithuania<br>Year=%{x}<br>Nilai GDP=%{y}<extra></extra>",
         "legendgroup": "Lithuania",
         "line": {
          "color": "#00cc96",
          "dash": "solid"
         },
         "marker": {
          "symbol": "circle"
         },
         "mode": "markers+lines",
         "name": "Lithuania",
         "showlegend": true,
         "type": "scattergl",
         "x": [
          2000,
          2001,
          2002,
          2003,
          2004,
          2005,
          2006,
          2007,
          2008,
          2009,
          2010,
          2011,
          2012,
          2013,
          2014,
          2015,
          2016,
          2017,
          2018,
          2019,
          2020,
          2021,
          2022,
          2023
         ],
         "xaxis": "x",
         "y": [
          3.695525421,
          6.526108902,
          6.751414576,
          10.56595699,
          6.569490118,
          7.732367604,
          7.414121335,
          11.10748014,
          2.614423033,
          -14.83860837,
          1.651240653,
          6.03900816,
          3.843864749,
          3.550072843,
          3.537009879,
          2.024583955,
          2.518828273,
          4.282596951,
          3.993310328,
          4.665678381,
          -0.024612495,
          6.284710039,
          2.440175465,
          -0.336086244
         ],
         "yaxis": "y"
        },
        {
         "hovertemplate": "Country Name=Luxembourg<br>Year=%{x}<br>Nilai GDP=%{y}<extra></extra>",
         "legendgroup": "Luxembourg",
         "line": {
          "color": "#ab63fa",
          "dash": "solid"
         },
         "marker": {
          "symbol": "circle"
         },
         "mode": "markers+lines",
         "name": "Luxembourg",
         "showlegend": true,
         "type": "scattergl",
         "x": [
          2000,
          2001,
          2002,
          2003,
          2004,
          2005,
          2006,
          2007,
          2008,
          2009,
          2010,
          2011,
          2012,
          2013,
          2014,
          2015,
          2016,
          2017,
          2018,
          2019,
          2020,
          2021,
          2022,
          2023
         ],
         "xaxis": "x",
         "y": [
          6.938130249,
          3.074354999,
          3.2254169,
          2.619378579,
          4.231891307,
          2.482874748,
          6.016715044,
          8.098667607,
          -0.300176194,
          -3.238954027,
          3.760413593,
          1.044298695,
          1.64990203,
          3.171790499,
          2.623086016,
          2.269784484,
          4.978190437,
          1.317187663,
          1.219321919,
          2.915847915,
          -0.909829799,
          7.168401987,
          1.380185891,
          -1.095723616
         ],
         "yaxis": "y"
        },
        {
         "hovertemplate": "Country Name=Latvia<br>Year=%{x}<br>Nilai GDP=%{y}<extra></extra>",
         "legendgroup": "Latvia",
         "line": {
          "color": "#FFA15A",
          "dash": "solid"
         },
         "marker": {
          "symbol": "circle"
         },
         "mode": "markers+lines",
         "name": "Latvia",
         "showlegend": true,
         "type": "scattergl",
         "x": [
          2000,
          2001,
          2002,
          2003,
          2004,
          2005,
          2006,
          2007,
          2008,
          2009,
          2010,
          2011,
          2012,
          2013,
          2014,
          2015,
          2016,
          2017,
          2018,
          2019,
          2020,
          2021,
          2022,
          2023
         ],
         "xaxis": "x",
         "y": [
          5.675741312,
          6.323508159,
          7.088128657,
          8.422862207,
          8.284145978,
          10.72036596,
          11.97183569,
          9.941921628,
          -3.249120723,
          -14.26014004,
          -4.45556726,
          2.573712363,
          7.042247161,
          2.007966879,
          1.902172684,
          3.885260054,
          2.368614747,
          3.312475936,
          3.990519241,
          0.587502383,
          -3.513802842,
          6.731735278,
          2.954731771,
          -0.282539558
         ],
         "yaxis": "y"
        },
        {
         "hovertemplate": "Country Name=Macao SAR, China<br>Year=%{x}<br>Nilai GDP=%{y}<extra></extra>",
         "legendgroup": "Macao SAR, China",
         "line": {
          "color": "#19d3f3",
          "dash": "solid"
         },
         "marker": {
          "symbol": "circle"
         },
         "mode": "markers+lines",
         "name": "Macao SAR, China",
         "showlegend": true,
         "type": "scattergl",
         "x": [
          2000,
          2001,
          2002,
          2003,
          2004,
          2005,
          2006,
          2007,
          2008,
          2009,
          2010,
          2011,
          2012,
          2013,
          2014,
          2015,
          2016,
          2017,
          2018,
          2019,
          2020,
          2021,
          2022,
          2023
         ],
         "xaxis": "x",
         "y": [
          5.746611203,
          2.888414128,
          8.910605549,
          11.64062796,
          26.63034271,
          8.075694247,
          13.39014692,
          14.47674114,
          3.391343491,
          1.274407072,
          25.12259456,
          21.61664808,
          9.242264993,
          10.75278008,
          -2.048303634,
          -21.51440219,
          -0.679023627,
          9.860027316,
          6.405178494,
          -2.563522732,
          -54.33587564,
          23.53556694,
          -21.40195058,
          80.534216
         ],
         "yaxis": "y"
        },
        {
         "hovertemplate": "Country Name=St. Martin (French part)<br>Year=%{x}<br>Nilai GDP=%{y}<extra></extra>",
         "legendgroup": "St. Martin (French part)",
         "line": {
          "color": "#FF6692",
          "dash": "solid"
         },
         "marker": {
          "symbol": "circle"
         },
         "mode": "markers+lines",
         "name": "St. Martin (French part)",
         "showlegend": true,
         "type": "scattergl",
         "x": [
          2000,
          2001,
          2002,
          2003,
          2004,
          2005,
          2006,
          2007,
          2008,
          2009,
          2010,
          2011,
          2012,
          2013,
          2014,
          2015,
          2016,
          2017,
          2018,
          2019,
          2020,
          2021,
          2022,
          2023
         ],
         "xaxis": "x",
         "y": [
          0,
          0,
          0,
          0,
          0,
          0,
          0,
          0,
          0,
          0,
          0,
          0,
          0,
          0,
          0,
          1,
          5,
          -8.00000324,
          -7.999995069,
          6.500003637,
          -12.50000225,
          4.899999671,
          0,
          0
         ],
         "yaxis": "y"
        },
        {
         "hovertemplate": "Country Name=Morocco<br>Year=%{x}<br>Nilai GDP=%{y}<extra></extra>",
         "legendgroup": "Morocco",
         "line": {
          "color": "#B6E880",
          "dash": "solid"
         },
         "marker": {
          "symbol": "circle"
         },
         "mode": "markers+lines",
         "name": "Morocco",
         "showlegend": true,
         "type": "scattergl",
         "x": [
          2000,
          2001,
          2002,
          2003,
          2004,
          2005,
          2006,
          2007,
          2008,
          2009,
          2010,
          2011,
          2012,
          2013,
          2014,
          2015,
          2016,
          2017,
          2018,
          2019,
          2020,
          2021,
          2022,
          2023
         ],
         "xaxis": "x",
         "y": [
          2.582180915,
          7.721825196,
          3.730197375,
          6.17110215,
          4.571380165,
          3.19224973,
          7.79082001,
          3.441067767,
          5.684539363,
          3.745769401,
          3.499557094,
          5.524645233,
          3.062343685,
          4.122212869,
          2.71924408,
          4.344582976,
          0.521185506,
          5.057898162,
          3.06564133,
          2.890974761,
          -7.178207442,
          8.02098437,
          1.258543984,
          3.177946835
         ],
         "yaxis": "y"
        },
        {
         "hovertemplate": "Country Name=Monaco<br>Year=%{x}<br>Nilai GDP=%{y}<extra></extra>",
         "legendgroup": "Monaco",
         "line": {
          "color": "#FF97FF",
          "dash": "solid"
         },
         "marker": {
          "symbol": "circle"
         },
         "mode": "markers+lines",
         "name": "Monaco",
         "showlegend": true,
         "type": "scattergl",
         "x": [
          2000,
          2001,
          2002,
          2003,
          2004,
          2005,
          2006,
          2007,
          2008,
          2009,
          2010,
          2011,
          2012,
          2013,
          2014,
          2015,
          2016,
          2017,
          2018,
          2019,
          2020,
          2021,
          2022,
          2023
         ],
         "xaxis": "x",
         "y": [
          3.910229176,
          2.187734091,
          1.026495639,
          1.087536749,
          2.470484168,
          1.875679635,
          5.794047933,
          14.4386358,
          0.739612791,
          -11.33448499,
          2.065220038,
          7.022357966,
          1.012217961,
          9.577097956,
          7.187027898,
          4.863473211,
          2.964104586,
          -3.044121486,
          5.780346821,
          7.083460612,
          -13.0110935,
          21.86737111,
          11.09682627,
          0
         ],
         "yaxis": "y"
        },
        {
         "hovertemplate": "Country Name=Moldova<br>Year=%{x}<br>Nilai GDP=%{y}<extra></extra>",
         "legendgroup": "Moldova",
         "line": {
          "color": "#FECB52",
          "dash": "solid"
         },
         "marker": {
          "symbol": "circle"
         },
         "mode": "markers+lines",
         "name": "Moldova",
         "showlegend": true,
         "type": "scattergl",
         "x": [
          2000,
          2001,
          2002,
          2003,
          2004,
          2005,
          2006,
          2007,
          2008,
          2009,
          2010,
          2011,
          2012,
          2013,
          2014,
          2015,
          2016,
          2017,
          2018,
          2019,
          2020,
          2021,
          2022,
          2023
         ],
         "xaxis": "x",
         "y": [
          2.107716082,
          6.100000399,
          7.799999658,
          6.599999958,
          7.399999734,
          7.500000149,
          4.799999837,
          3.000000226,
          7.800000145,
          -6.000000264,
          7.100000107,
          5.818166147,
          -0.589733955,
          9.043865607,
          4.999625854,
          -0.338235622,
          4.646014363,
          4.175612051,
          4.075595466,
          3.552314085,
          -8.27597832,
          13.92999979,
          -5.015482319,
          0.78324271
         ],
         "yaxis": "y"
        },
        {
         "hovertemplate": "Country Name=Madagascar<br>Year=%{x}<br>Nilai GDP=%{y}<extra></extra>",
         "legendgroup": "Madagascar",
         "line": {
          "color": "#636efa",
          "dash": "solid"
         },
         "marker": {
          "symbol": "circle"
         },
         "mode": "markers+lines",
         "name": "Madagascar",
         "showlegend": true,
         "type": "scattergl",
         "x": [
          2000,
          2001,
          2002,
          2003,
          2004,
          2005,
          2006,
          2007,
          2008,
          2009,
          2010,
          2011,
          2012,
          2013,
          2014,
          2015,
          2016,
          2017,
          2018,
          2019,
          2020,
          2021,
          2022,
          2023
         ],
         "xaxis": "x",
         "y": [
          4.45685894,
          5.98023577,
          -12.40797111,
          9.784892125,
          5.257003622,
          4.755845095,
          5.398508449,
          5.710564199,
          6.712632539,
          -3.978708612,
          0.619239745,
          1.578427054,
          3.011148116,
          2.300376228,
          3.339203112,
          3.132298075,
          3.993146062,
          3.933307595,
          3.194356517,
          4.411232129,
          -7.137671621,
          5.739615739,
          3.796199089,
          3.985371013
         ],
         "yaxis": "y"
        },
        {
         "hovertemplate": "Country Name=Maldives<br>Year=%{x}<br>Nilai GDP=%{y}<extra></extra>",
         "legendgroup": "Maldives",
         "line": {
          "color": "#EF553B",
          "dash": "solid"
         },
         "marker": {
          "symbol": "circle"
         },
         "mode": "markers+lines",
         "name": "Maldives",
         "showlegend": true,
         "type": "scattergl",
         "x": [
          2000,
          2001,
          2002,
          2003,
          2004,
          2005,
          2006,
          2007,
          2008,
          2009,
          2010,
          2011,
          2012,
          2013,
          2014,
          2015,
          2016,
          2017,
          2018,
          2019,
          2020,
          2021,
          2022,
          2023
         ],
         "xaxis": "x",
         "y": [
          3.845810232,
          -3.943634289,
          7.26838641,
          13.75004966,
          5.816366933,
          -11.22316621,
          23.60579828,
          7.12342766,
          8.979816872,
          -8.157763215,
          6.835471356,
          8.572699128,
          2.363747489,
          6.963246632,
          7.801094807,
          3.971715703,
          6.572236066,
          7.054539014,
          8.668006242,
          7.298335745,
          -32.90882878,
          37.68719229,
          13.90667638,
          3.972795846
         ],
         "yaxis": "y"
        },
        {
         "hovertemplate": "Country Name=Middle East & North Africa<br>Year=%{x}<br>Nilai GDP=%{y}<extra></extra>",
         "legendgroup": "Middle East & North Africa",
         "line": {
          "color": "#00cc96",
          "dash": "solid"
         },
         "marker": {
          "symbol": "circle"
         },
         "mode": "markers+lines",
         "name": "Middle East & North Africa",
         "showlegend": true,
         "type": "scattergl",
         "x": [
          2000,
          2001,
          2002,
          2003,
          2004,
          2005,
          2006,
          2007,
          2008,
          2009,
          2010,
          2011,
          2012,
          2013,
          2014,
          2015,
          2016,
          2017,
          2018,
          2019,
          2020,
          2021,
          2022,
          2023
         ],
         "xaxis": "x",
         "y": [
          6.764847901,
          1.529608273,
          1.522981811,
          5.058172264,
          7.840269733,
          4.97968652,
          5.896159796,
          5.16054571,
          4.576027486,
          0.594667396,
          5.060228679,
          3.747592823,
          3.939340388,
          2.173460042,
          2.832882412,
          2.690417306,
          4.359753776,
          1.957243597,
          2.262259344,
          1.378349639,
          -4.023299372,
          5.572890856,
          5.748362666,
          1.780039753
         ],
         "yaxis": "y"
        },
        {
         "hovertemplate": "Country Name=Mexico<br>Year=%{x}<br>Nilai GDP=%{y}<extra></extra>",
         "legendgroup": "Mexico",
         "line": {
          "color": "#ab63fa",
          "dash": "solid"
         },
         "marker": {
          "symbol": "circle"
         },
         "mode": "markers+lines",
         "name": "Mexico",
         "showlegend": true,
         "type": "scattergl",
         "x": [
          2000,
          2001,
          2002,
          2003,
          2004,
          2005,
          2006,
          2007,
          2008,
          2009,
          2010,
          2011,
          2012,
          2013,
          2014,
          2015,
          2016,
          2017,
          2018,
          2019,
          2020,
          2021,
          2022,
          2023
         ],
         "xaxis": "x",
         "y": [
          5.029283994,
          -0.450845253,
          -0.236588002,
          1.185544867,
          3.565441009,
          2.113247126,
          4.805013527,
          2.077863934,
          0.943331863,
          -6.295250558,
          4.971334583,
          3.444045058,
          3.55321076,
          0.852101559,
          2.503763503,
          2.702323426,
          1.772493238,
          1.871728533,
          1.972082094,
          -0.251335755,
          -8.624555731,
          5.739208338,
          3.948999999,
          3.228736756
         ],
         "yaxis": "y"
        },
        {
         "hovertemplate": "Country Name=Marshall Islands<br>Year=%{x}<br>Nilai GDP=%{y}<extra></extra>",
         "legendgroup": "Marshall Islands",
         "line": {
          "color": "#FFA15A",
          "dash": "solid"
         },
         "marker": {
          "symbol": "circle"
         },
         "mode": "markers+lines",
         "name": "Marshall Islands",
         "showlegend": true,
         "type": "scattergl",
         "x": [
          2000,
          2001,
          2002,
          2003,
          2004,
          2005,
          2006,
          2007,
          2008,
          2009,
          2010,
          2011,
          2012,
          2013,
          2014,
          2015,
          2016,
          2017,
          2018,
          2019,
          2020,
          2021,
          2022,
          2023
         ],
         "xaxis": "x",
         "y": [
          2.45442785,
          6.930040654,
          3.635792317,
          -1.56170055,
          -0.692279198,
          1.784691405,
          0.219614635,
          3.416279458,
          -7.646274782,
          3.698219165,
          5.446764506,
          -0.214165889,
          -1.308868622,
          3.610449139,
          -1.15756789,
          2.100519333,
          2.144291104,
          3.733798238,
          5.659210564,
          10.35782945,
          -2.845981661,
          1.112300902,
          -0.675525739,
          3.225998994
         ],
         "yaxis": "y"
        },
        {
         "hovertemplate": "Country Name=Middle income<br>Year=%{x}<br>Nilai GDP=%{y}<extra></extra>",
         "legendgroup": "Middle income",
         "line": {
          "color": "#19d3f3",
          "dash": "solid"
         },
         "marker": {
          "symbol": "circle"
         },
         "mode": "markers+lines",
         "name": "Middle income",
         "showlegend": true,
         "type": "scattergl",
         "x": [
          2000,
          2001,
          2002,
          2003,
          2004,
          2005,
          2006,
          2007,
          2008,
          2009,
          2010,
          2011,
          2012,
          2013,
          2014,
          2015,
          2016,
          2017,
          2018,
          2019,
          2020,
          2021,
          2022,
          2023
         ],
         "xaxis": "x",
         "y": [
          5.578586209,
          3.617081317,
          4.728597773,
          5.884688774,
          7.690911343,
          7.330509158,
          8.25324132,
          8.881962017,
          5.91964385,
          3.97185492,
          8.181281878,
          6.494647786,
          5.640534166,
          5.643248306,
          5.170964721,
          4.826225858,
          4.805234352,
          5.375826617,
          5.014148382,
          4.083175498,
          -1.212720962,
          7.506216158,
          3.85059249,
          4.539564994
         ],
         "yaxis": "y"
        },
        {
         "hovertemplate": "Country Name=North Macedonia<br>Year=%{x}<br>Nilai GDP=%{y}<extra></extra>",
         "legendgroup": "North Macedonia",
         "line": {
          "color": "#FF6692",
          "dash": "solid"
         },
         "marker": {
          "symbol": "circle"
         },
         "mode": "markers+lines",
         "name": "North Macedonia",
         "showlegend": true,
         "type": "scattergl",
         "x": [
          2000,
          2001,
          2002,
          2003,
          2004,
          2005,
          2006,
          2007,
          2008,
          2009,
          2010,
          2011,
          2012,
          2013,
          2014,
          2015,
          2016,
          2017,
          2018,
          2019,
          2020,
          2021,
          2022,
          2023
         ],
         "xaxis": "x",
         "y": [
          4.549135783,
          -3.067256625,
          1.493665472,
          2.222601657,
          4.67408958,
          4.724088642,
          5.137025162,
          6.473486858,
          5.47200139,
          -0.358614857,
          3.358750858,
          2.339886045,
          -0.456183224,
          2.925257665,
          3.629123513,
          3.85586514,
          2.848205194,
          1.081772738,
          2.88059671,
          3.910419538,
          -4.68845001,
          4.51067949,
          2.221705271,
          1.027415135
         ],
         "yaxis": "y"
        },
        {
         "hovertemplate": "Country Name=Mali<br>Year=%{x}<br>Nilai GDP=%{y}<extra></extra>",
         "legendgroup": "Mali",
         "line": {
          "color": "#B6E880",
          "dash": "solid"
         },
         "marker": {
          "symbol": "circle"
         },
         "mode": "markers+lines",
         "name": "Mali",
         "showlegend": true,
         "type": "scattergl",
         "x": [
          2000,
          2001,
          2002,
          2003,
          2004,
          2005,
          2006,
          2007,
          2008,
          2009,
          2010,
          2011,
          2012,
          2013,
          2014,
          2015,
          2016,
          2017,
          2018,
          2019,
          2020,
          2021,
          2022,
          2023
         ],
         "xaxis": "x",
         "y": [
          -0.060834972,
          15.37623946,
          3.106308252,
          9.119041995,
          1.559998661,
          6.534778775,
          4.662186878,
          3.493616813,
          4.773145081,
          4.806322267,
          5.313935279,
          3.21313378,
          -0.836734632,
          2.29506829,
          7.084683881,
          6.171800024,
          5.852299199,
          5.305456084,
          4.746484327,
          4.756160808,
          -1.235450447,
          3.052613569,
          3.474951711,
          5.236577528
         ],
         "yaxis": "y"
        },
        {
         "hovertemplate": "Country Name=Malta<br>Year=%{x}<br>Nilai GDP=%{y}<extra></extra>",
         "legendgroup": "Malta",
         "line": {
          "color": "#FF97FF",
          "dash": "solid"
         },
         "marker": {
          "symbol": "circle"
         },
         "mode": "markers+lines",
         "name": "Malta",
         "showlegend": true,
         "type": "scattergl",
         "x": [
          2000,
          2001,
          2002,
          2003,
          2004,
          2005,
          2006,
          2007,
          2008,
          2009,
          2010,
          2011,
          2012,
          2013,
          2014,
          2015,
          2016,
          2017,
          2018,
          2019,
          2020,
          2021,
          2022,
          2023
         ],
         "xaxis": "x",
         "y": [
          19.68126938,
          -1.17469665,
          2.565263684,
          4.074067589,
          0.140268537,
          3.383593722,
          2.510142765,
          4.774705802,
          3.826359166,
          -1.133873655,
          5.543640011,
          0.467050564,
          4.117706376,
          5.473355914,
          7.633538464,
          9.608132348,
          3.381450476,
          10.86926923,
          7.416269823,
          7.124261217,
          -8.156778765,
          12.51394717,
          8.075539118,
          5.613927783
         ],
         "yaxis": "y"
        },
        {
         "hovertemplate": "Country Name=Myanmar<br>Year=%{x}<br>Nilai GDP=%{y}<extra></extra>",
         "legendgroup": "Myanmar",
         "line": {
          "color": "#FECB52",
          "dash": "solid"
         },
         "marker": {
          "symbol": "circle"
         },
         "mode": "markers+lines",
         "name": "Myanmar",
         "showlegend": true,
         "type": "scattergl",
         "x": [
          2000,
          2001,
          2002,
          2003,
          2004,
          2005,
          2006,
          2007,
          2008,
          2009,
          2010,
          2011,
          2012,
          2013,
          2014,
          2015,
          2016,
          2017,
          2018,
          2019,
          2020,
          2021,
          2022,
          2023
         ],
         "xaxis": "x",
         "y": [
          13.74593056,
          11.34399707,
          12.02551343,
          13.84399689,
          13.56466162,
          13.56895002,
          13.07610138,
          11.99143524,
          10.25530539,
          10.5500091,
          9.634439452,
          5.591482378,
          7.332670447,
          8.426001025,
          8.169907456,
          6.99284029,
          5.862472915,
          6.136108244,
          6.268862215,
          6.579110068,
          -9.04834718,
          -12.01637248,
          4.037493436,
          1.002238343
         ],
         "yaxis": "y"
        },
        {
         "hovertemplate": "Country Name=Middle East & North Africa (excluding high income)<br>Year=%{x}<br>Nilai GDP=%{y}<extra></extra>",
         "legendgroup": "Middle East & North Africa (excluding high income)",
         "line": {
          "color": "#636efa",
          "dash": "solid"
         },
         "marker": {
          "symbol": "circle"
         },
         "mode": "markers+lines",
         "name": "Middle East & North Africa (excluding high income)",
         "showlegend": true,
         "type": "scattergl",
         "x": [
          2000,
          2001,
          2002,
          2003,
          2004,
          2005,
          2006,
          2007,
          2008,
          2009,
          2010,
          2011,
          2012,
          2013,
          2014,
          2015,
          2016,
          2017,
          2018,
          2019,
          2020,
          2021,
          2022,
          2023
         ],
         "xaxis": "x",
         "y": [
          6.033060142,
          2.773513402,
          3.142500214,
          2.282661007,
          7.729711509,
          4.47171845,
          5.277321605,
          6.015228074,
          3.716242618,
          2.551547093,
          5.358951464,
          -0.941004604,
          3.557003513,
          0.456281091,
          1.825619968,
          0.722279033,
          5.40129283,
          3.121956371,
          1.817793764,
          1.11267383,
          -4.402837909,
          6.221257688,
          4.41129157,
          2.727094357
         ],
         "yaxis": "y"
        },
        {
         "hovertemplate": "Country Name=Montenegro<br>Year=%{x}<br>Nilai GDP=%{y}<extra></extra>",
         "legendgroup": "Montenegro",
         "line": {
          "color": "#EF553B",
          "dash": "solid"
         },
         "marker": {
          "symbol": "circle"
         },
         "mode": "markers+lines",
         "name": "Montenegro",
         "showlegend": true,
         "type": "scattergl",
         "x": [
          2000,
          2001,
          2002,
          2003,
          2004,
          2005,
          2006,
          2007,
          2008,
          2009,
          2010,
          2011,
          2012,
          2013,
          2014,
          2015,
          2016,
          2017,
          2018,
          2019,
          2020,
          2021,
          2022,
          2023
         ],
         "xaxis": "x",
         "y": [
          3.100000059,
          1.099838709,
          1.903936733,
          2.482659229,
          4.426050717,
          4.180604509,
          8.56641803,
          6.810150125,
          7.222752592,
          -5.795096995,
          2.734331082,
          3.228451021,
          -2.723790771,
          3.548979912,
          1.783698581,
          3.390381397,
          2.949280321,
          4.716465276,
          5.077888811,
          4.062944992,
          -15.30689376,
          13.04346425,
          6.406680329,
          5.981903216
         ],
         "yaxis": "y"
        },
        {
         "hovertemplate": "Country Name=Mongolia<br>Year=%{x}<br>Nilai GDP=%{y}<extra></extra>",
         "legendgroup": "Mongolia",
         "line": {
          "color": "#00cc96",
          "dash": "solid"
         },
         "marker": {
          "symbol": "circle"
         },
         "mode": "markers+lines",
         "name": "Mongolia",
         "showlegend": true,
         "type": "scattergl",
         "x": [
          2000,
          2001,
          2002,
          2003,
          2004,
          2005,
          2006,
          2007,
          2008,
          2009,
          2010,
          2011,
          2012,
          2013,
          2014,
          2015,
          2016,
          2017,
          2018,
          2019,
          2020,
          2021,
          2022,
          2023
         ],
         "xaxis": "x",
         "y": [
          1.146062137,
          2.952710543,
          4.732978466,
          7.004634574,
          10.62540596,
          7.253665438,
          8.556234817,
          10.24801636,
          8.900367941,
          -1.268598936,
          6.365161679,
          17.29077759,
          12.31981985,
          11.64891619,
          7.885225482,
          2.379835807,
          1.489784487,
          5.636876387,
          7.74488062,
          5.602244221,
          -4.557751976,
          1.636769577,
          5.032709637,
          7.022991875
         ],
         "yaxis": "y"
        },
        {
         "hovertemplate": "Country Name=Northern Mariana Islands<br>Year=%{x}<br>Nilai GDP=%{y}<extra></extra>",
         "legendgroup": "Northern Mariana Islands",
         "line": {
          "color": "#ab63fa",
          "dash": "solid"
         },
         "marker": {
          "symbol": "circle"
         },
         "mode": "markers+lines",
         "name": "Northern Mariana Islands",
         "showlegend": true,
         "type": "scattergl",
         "x": [
          2000,
          2001,
          2002,
          2003,
          2004,
          2005,
          2006,
          2007,
          2008,
          2009,
          2010,
          2011,
          2012,
          2013,
          2014,
          2015,
          2016,
          2017,
          2018,
          2019,
          2020,
          2021,
          2022,
          2023
         ],
         "xaxis": "x",
         "y": [
          0,
          0,
          0,
          0.343170899,
          -3.077975376,
          -12.70289344,
          -6.871463217,
          -6.684027778,
          -11.06976744,
          -17.57322176,
          1.395939086,
          -7.384230288,
          0.810810811,
          2.680965147,
          4.177545692,
          3.383458647,
          29.21212121,
          23.17073171,
          -19.26884996,
          -11.32075472,
          -29.68085106,
          0,
          0,
          0
         ],
         "yaxis": "y"
        },
        {
         "hovertemplate": "Country Name=Mozambique<br>Year=%{x}<br>Nilai GDP=%{y}<extra></extra>",
         "legendgroup": "Mozambique",
         "line": {
          "color": "#FFA15A",
          "dash": "solid"
         },
         "marker": {
          "symbol": "circle"
         },
         "mode": "markers+lines",
         "name": "Mozambique",
         "showlegend": true,
         "type": "scattergl",
         "x": [
          2000,
          2001,
          2002,
          2003,
          2004,
          2005,
          2006,
          2007,
          2008,
          2009,
          2010,
          2011,
          2012,
          2013,
          2014,
          2015,
          2016,
          2017,
          2018,
          2019,
          2020,
          2021,
          2022,
          2023
         ],
         "xaxis": "x",
         "y": [
          0.766234956,
          12.85168202,
          9.668505347,
          7.217700866,
          8.204704948,
          6.31202378,
          9.910677568,
          7.649353938,
          6.878029426,
          5.928971875,
          6.679729357,
          7.134058423,
          7.994503161,
          6.571413897,
          7.702568448,
          7.393093699,
          4.696990242,
          2.638207373,
          3.484932024,
          2.317813947,
          -1.219522503,
          2.377435737,
          4.359800201,
          5.000024173
         ],
         "yaxis": "y"
        },
        {
         "hovertemplate": "Country Name=Mauritania<br>Year=%{x}<br>Nilai GDP=%{y}<extra></extra>",
         "legendgroup": "Mauritania",
         "line": {
          "color": "#19d3f3",
          "dash": "solid"
         },
         "marker": {
          "symbol": "circle"
         },
         "mode": "markers+lines",
         "name": "Mauritania",
         "showlegend": true,
         "type": "scattergl",
         "x": [
          2000,
          2001,
          2002,
          2003,
          2004,
          2005,
          2006,
          2007,
          2008,
          2009,
          2010,
          2011,
          2012,
          2013,
          2014,
          2015,
          2016,
          2017,
          2018,
          2019,
          2020,
          2021,
          2022,
          2023
         ],
         "xaxis": "x",
         "y": [
          -3.918025879,
          -0.799493816,
          1.381483962,
          6.928269551,
          4.732757925,
          8.566287249,
          18.33319876,
          -1.969422752,
          -0.331079195,
          0.097875872,
          2.620229521,
          4.172783283,
          4.470013182,
          4.150813165,
          4.274823293,
          5.376339237,
          1.260909217,
          6.270545679,
          4.772173673,
          3.14100487,
          -0.360657379,
          0.7427155,
          6.387023096,
          3.383555191
         ],
         "yaxis": "y"
        },
        {
         "hovertemplate": "Country Name=Mauritius<br>Year=%{x}<br>Nilai GDP=%{y}<extra></extra>",
         "legendgroup": "Mauritius",
         "line": {
          "color": "#FF6692",
          "dash": "solid"
         },
         "marker": {
          "symbol": "circle"
         },
         "mode": "markers+lines",
         "name": "Mauritius",
         "showlegend": true,
         "type": "scattergl",
         "x": [
          2000,
          2001,
          2002,
          2003,
          2004,
          2005,
          2006,
          2007,
          2008,
          2009,
          2010,
          2011,
          2012,
          2013,
          2014,
          2015,
          2016,
          2017,
          2018,
          2019,
          2020,
          2021,
          2022,
          2023
         ],
         "xaxis": "x",
         "y": [
          8.202791749,
          3.347540727,
          1.614918659,
          5.925445489,
          4.330019855,
          1.77754302,
          4.865544608,
          5.72701616,
          5.386962542,
          3.315076998,
          4.377203223,
          4.077538066,
          3.496118365,
          3.3604061,
          3.82696982,
          3.690556904,
          3.862468263,
          3.937983806,
          4.006740572,
          2.891284993,
          -14.54653815,
          3.403798662,
          8.87988519,
          6.952287986
         ],
         "yaxis": "y"
        },
        {
         "hovertemplate": "Country Name=Malawi<br>Year=%{x}<br>Nilai GDP=%{y}<extra></extra>",
         "legendgroup": "Malawi",
         "line": {
          "color": "#B6E880",
          "dash": "solid"
         },
         "marker": {
          "symbol": "circle"
         },
         "mode": "markers+lines",
         "name": "Malawi",
         "showlegend": true,
         "type": "scattergl",
         "x": [
          2000,
          2001,
          2002,
          2003,
          2004,
          2005,
          2006,
          2007,
          2008,
          2009,
          2010,
          2011,
          2012,
          2013,
          2014,
          2015,
          2016,
          2017,
          2018,
          2019,
          2020,
          2021,
          2022,
          2023
         ],
         "xaxis": "x",
         "y": [
          1.576077624,
          -4.974963617,
          1.700000029,
          5.705639407,
          5.420497549,
          3.268726021,
          4.699999765,
          9.599999876,
          7.639736399,
          8.328109852,
          6.874065854,
          4.932669998,
          1.900000001,
          5.410349999,
          5.62527,
          2.800000001,
          2.499999999,
          4,
          4.391688296,
          5.448181336,
          0.799998331,
          2.751402609,
          0.923449719,
          1.539641712
         ],
         "yaxis": "y"
        },
        {
         "hovertemplate": "Country Name=Malaysia<br>Year=%{x}<br>Nilai GDP=%{y}<extra></extra>",
         "legendgroup": "Malaysia",
         "line": {
          "color": "#FF97FF",
          "dash": "solid"
         },
         "marker": {
          "symbol": "circle"
         },
         "mode": "markers+lines",
         "name": "Malaysia",
         "showlegend": true,
         "type": "scattergl",
         "x": [
          2000,
          2001,
          2002,
          2003,
          2004,
          2005,
          2006,
          2007,
          2008,
          2009,
          2010,
          2011,
          2012,
          2013,
          2014,
          2015,
          2016,
          2017,
          2018,
          2019,
          2020,
          2021,
          2022,
          2023
         ],
         "xaxis": "x",
         "y": [
          8.85886817,
          0.517675319,
          5.390988307,
          5.788499286,
          6.783437724,
          5.332139161,
          5.584847067,
          6.298785927,
          4.831769889,
          -1.513528716,
          7.424847383,
          5.293912834,
          5.473454193,
          4.693722526,
          6.006721946,
          5.091532422,
          4.449781398,
          5.81272241,
          4.843086976,
          4.413187421,
          -5.456846584,
          3.297641008,
          8.650344224,
          3.680282186
         ],
         "yaxis": "y"
        },
        {
         "hovertemplate": "Country Name=North America<br>Year=%{x}<br>Nilai GDP=%{y}<extra></extra>",
         "legendgroup": "North America",
         "line": {
          "color": "#FECB52",
          "dash": "solid"
         },
         "marker": {
          "symbol": "circle"
         },
         "mode": "markers+lines",
         "name": "North America",
         "showlegend": true,
         "type": "scattergl",
         "x": [
          2000,
          2001,
          2002,
          2003,
          2004,
          2005,
          2006,
          2007,
          2008,
          2009,
          2010,
          2011,
          2012,
          2013,
          2014,
          2015,
          2016,
          2017,
          2018,
          2019,
          2020,
          2021,
          2022,
          2023
         ],
         "xaxis": "x",
         "y": [
          4.161970417,
          1.030222543,
          1.801247401,
          2.71703866,
          3.787375448,
          3.46128323,
          2.774314639,
          2.008083046,
          0.181624378,
          -2.604607645,
          2.723959171,
          1.686211317,
          2.243378598,
          2.133496888,
          2.549447137,
          2.761104558,
          1.757413592,
          2.502844962,
          2.947893142,
          2.422733377,
          -2.434355246,
          5.761285546,
          2.078673679,
          2.429616697
         ],
         "yaxis": "y"
        },
        {
         "hovertemplate": "Country Name=Namibia<br>Year=%{x}<br>Nilai GDP=%{y}<extra></extra>",
         "legendgroup": "Namibia",
         "line": {
          "color": "#636efa",
          "dash": "solid"
         },
         "marker": {
          "symbol": "circle"
         },
         "mode": "markers+lines",
         "name": "Namibia",
         "showlegend": true,
         "type": "scattergl",
         "x": [
          2000,
          2001,
          2002,
          2003,
          2004,
          2005,
          2006,
          2007,
          2008,
          2009,
          2010,
          2011,
          2012,
          2013,
          2014,
          2015,
          2016,
          2017,
          2018,
          2019,
          2020,
          2021,
          2022,
          2023
         ],
         "xaxis": "x",
         "y": [
          3.492183364,
          1.177948695,
          4.788661219,
          4.239794296,
          12.2695481,
          2.529262658,
          7.073175318,
          5.374044152,
          2.649812038,
          0.295970914,
          6.03924948,
          5.091338139,
          5.06168207,
          5.614719623,
          6.09251916,
          4.264174538,
          0.03379445,
          -1.027250827,
          1.059943471,
          -0.839154686,
          -8.101400746,
          3.603829192,
          5.349664086,
          4.159985738
         ],
         "yaxis": "y"
        },
        {
         "hovertemplate": "Country Name=New Caledonia<br>Year=%{x}<br>Nilai GDP=%{y}<extra></extra>",
         "legendgroup": "New Caledonia",
         "line": {
          "color": "#EF553B",
          "dash": "solid"
         },
         "marker": {
          "symbol": "circle"
         },
         "mode": "markers+lines",
         "name": "New Caledonia",
         "showlegend": true,
         "type": "scattergl",
         "x": [
          2000,
          2001,
          2002,
          2003,
          2004,
          2005,
          2006,
          2007,
          2008,
          2009,
          2010,
          2011,
          2012,
          2013,
          2014,
          2015,
          2016,
          2017,
          2018,
          2019,
          2020,
          2021,
          2022,
          2023
         ],
         "xaxis": "x",
         "y": [
          2.100108827,
          0,
          0,
          0,
          0,
          0,
          0,
          0,
          0,
          0,
          0,
          0,
          0,
          0,
          0,
          0,
          0,
          0,
          3.995707282,
          -1.400000002,
          -2.400000001,
          -2.099999998,
          3.499999996,
          0
         ],
         "yaxis": "y"
        },
        {
         "hovertemplate": "Country Name=Niger<br>Year=%{x}<br>Nilai GDP=%{y}<extra></extra>",
         "legendgroup": "Niger",
         "line": {
          "color": "#00cc96",
          "dash": "solid"
         },
         "marker": {
          "symbol": "circle"
         },
         "mode": "markers+lines",
         "name": "Niger",
         "showlegend": true,
         "type": "scattergl",
         "x": [
          2000,
          2001,
          2002,
          2003,
          2004,
          2005,
          2006,
          2007,
          2008,
          2009,
          2010,
          2011,
          2012,
          2013,
          2014,
          2015,
          2016,
          2017,
          2018,
          2019,
          2020,
          2021,
          2022,
          2023
         ],
         "xaxis": "x",
         "y": [
          -1.208477741,
          7.268134902,
          4.918470576,
          2.170610384,
          0.363801579,
          7.331868843,
          5.931049974,
          3.142724084,
          7.731414228,
          1.962600907,
          8.578166743,
          2.357756936,
          10.54894458,
          5.315130634,
          6.642136655,
          4.392648832,
          5.740893151,
          5.005360786,
          7.211418028,
          5.939852571,
          3.550641094,
          1.383596362,
          11.9,
          2.5
         ],
         "yaxis": "y"
        },
        {
         "hovertemplate": "Country Name=Nigeria<br>Year=%{x}<br>Nilai GDP=%{y}<extra></extra>",
         "legendgroup": "Nigeria",
         "line": {
          "color": "#ab63fa",
          "dash": "solid"
         },
         "marker": {
          "symbol": "circle"
         },
         "mode": "markers+lines",
         "name": "Nigeria",
         "showlegend": true,
         "type": "scattergl",
         "x": [
          2000,
          2001,
          2002,
          2003,
          2004,
          2005,
          2006,
          2007,
          2008,
          2009,
          2010,
          2011,
          2012,
          2013,
          2014,
          2015,
          2016,
          2017,
          2018,
          2019,
          2020,
          2021,
          2022,
          2023
         ],
         "xaxis": "x",
         "y": [
          5.015934759,
          5.917684649,
          15.32915574,
          7.347194968,
          9.250558229,
          6.438516525,
          6.059428032,
          6.591130361,
          6.764472778,
          8.036925101,
          8.005655916,
          5.307924203,
          4.230061175,
          6.671335393,
          6.309718655,
          2.652693295,
          -1.616868949,
          0.805886619,
          1.922757342,
          2.208429277,
          -1.794253083,
          3.647186541,
          3.251681408,
          2.860214991
         ],
         "yaxis": "y"
        },
        {
         "hovertemplate": "Country Name=Nicaragua<br>Year=%{x}<br>Nilai GDP=%{y}<extra></extra>",
         "legendgroup": "Nicaragua",
         "line": {
          "color": "#FFA15A",
          "dash": "solid"
         },
         "marker": {
          "symbol": "circle"
         },
         "mode": "markers+lines",
         "name": "Nicaragua",
         "showlegend": true,
         "type": "scattergl",
         "x": [
          2000,
          2001,
          2002,
          2003,
          2004,
          2005,
          2006,
          2007,
          2008,
          2009,
          2010,
          2011,
          2012,
          2013,
          2014,
          2015,
          2016,
          2017,
          2018,
          2019,
          2020,
          2021,
          2022,
          2023
         ],
         "xaxis": "x",
         "y": [
          4.101590251,
          2.960843491,
          0.753938876,
          2.520732896,
          5.31217057,
          4.282398338,
          4.153199588,
          5.075817499,
          3.434772163,
          -3.291292128,
          4.409645499,
          6.317476383,
          6.495979229,
          4.926115047,
          4.785847059,
          4.792702232,
          4.562927609,
          4.631383681,
          -3.363705717,
          -2.896488078,
          -1.755380361,
          10.31544841,
          3.752284757,
          4.569732333
         ],
         "yaxis": "y"
        },
        {
         "hovertemplate": "Country Name=Netherlands<br>Year=%{x}<br>Nilai GDP=%{y}<extra></extra>",
         "legendgroup": "Netherlands",
         "line": {
          "color": "#19d3f3",
          "dash": "solid"
         },
         "marker": {
          "symbol": "circle"
         },
         "mode": "markers+lines",
         "name": "Netherlands",
         "showlegend": true,
         "type": "scattergl",
         "x": [
          2000,
          2001,
          2002,
          2003,
          2004,
          2005,
          2006,
          2007,
          2008,
          2009,
          2010,
          2011,
          2012,
          2013,
          2014,
          2015,
          2016,
          2017,
          2018,
          2019,
          2020,
          2021,
          2022,
          2023
         ],
         "xaxis": "x",
         "y": [
          4.195642498,
          2.326955087,
          0.217273595,
          0.155645898,
          1.984945714,
          2.050876108,
          3.460988954,
          3.772842521,
          2.170324851,
          -3.666883937,
          1.342739336,
          1.551189312,
          -1.030353991,
          -0.130175288,
          1.423395395,
          1.959169721,
          2.191713719,
          2.910902513,
          2.360915095,
          1.955588416,
          -3.886083918,
          6.191857104,
          4.328918318,
          0.116008635
         ],
         "yaxis": "y"
        },
        {
         "hovertemplate": "Country Name=Norway<br>Year=%{x}<br>Nilai GDP=%{y}<extra></extra>",
         "legendgroup": "Norway",
         "line": {
          "color": "#FF6692",
          "dash": "solid"
         },
         "marker": {
          "symbol": "circle"
         },
         "mode": "markers+lines",
         "name": "Norway",
         "showlegend": true,
         "type": "scattergl",
         "x": [
          2000,
          2001,
          2002,
          2003,
          2004,
          2005,
          2006,
          2007,
          2008,
          2009,
          2010,
          2011,
          2012,
          2013,
          2014,
          2015,
          2016,
          2017,
          2018,
          2019,
          2020,
          2021,
          2022,
          2023
         ],
         "xaxis": "x",
         "y": [
          3.318945671,
          2.067130461,
          1.377557001,
          0.944909391,
          4.014588017,
          2.685122891,
          2.461473134,
          2.914039986,
          0.481919541,
          -1.940364695,
          0.787051845,
          1.105656027,
          2.717959267,
          1.016190824,
          2.048131999,
          1.857339726,
          1.164724235,
          2.463746285,
          0.828900664,
          1.123777874,
          -1.278171785,
          3.908686777,
          3.005635161,
          0.514118227
         ],
         "yaxis": "y"
        },
        {
         "hovertemplate": "Country Name=Nepal<br>Year=%{x}<br>Nilai GDP=%{y}<extra></extra>",
         "legendgroup": "Nepal",
         "line": {
          "color": "#B6E880",
          "dash": "solid"
         },
         "marker": {
          "symbol": "circle"
         },
         "mode": "markers+lines",
         "name": "Nepal",
         "showlegend": true,
         "type": "scattergl",
         "x": [
          2000,
          2001,
          2002,
          2003,
          2004,
          2005,
          2006,
          2007,
          2008,
          2009,
          2010,
          2011,
          2012,
          2013,
          2014,
          2015,
          2016,
          2017,
          2018,
          2019,
          2020,
          2021,
          2022,
          2023
         ],
         "xaxis": "x",
         "y": [
          6.199999982,
          4.799892143,
          0.120143177,
          3.945037761,
          4.682603252,
          3.479181048,
          3.364614781,
          3.41156028,
          6.104639144,
          4.533078725,
          4.816414647,
          3.421808701,
          4.670141924,
          3.525153171,
          6.011482843,
          3.976053272,
          0.433113719,
          8.977279356,
          7.622376104,
          6.657055431,
          -2.369620629,
          4.838149614,
          5.631314559,
          1.952544633
         ],
         "yaxis": "y"
        },
        {
         "hovertemplate": "Country Name=Nauru<br>Year=%{x}<br>Nilai GDP=%{y}<extra></extra>",
         "legendgroup": "Nauru",
         "line": {
          "color": "#FF97FF",
          "dash": "solid"
         },
         "marker": {
          "symbol": "circle"
         },
         "mode": "markers+lines",
         "name": "Nauru",
         "showlegend": true,
         "type": "scattergl",
         "x": [
          2000,
          2001,
          2002,
          2003,
          2004,
          2005,
          2006,
          2007,
          2008,
          2009,
          2010,
          2011,
          2012,
          2013,
          2014,
          2015,
          2016,
          2017,
          2018,
          2019,
          2020,
          2021,
          2022,
          2023
         ],
         "xaxis": "x",
         "y": [
          -6.856192949,
          -6.761018954,
          -9.971356024,
          0.284674074,
          -4.314837954,
          -7.843137255,
          -8.510638298,
          -4.651162791,
          75.6097561,
          -5.555555556,
          0,
          14.70588235,
          24.35897436,
          4.12371134,
          15.84158416,
          3.418803419,
          4.132231405,
          -6.349206349,
          -0.847457627,
          8.547008547,
          1.57480315,
          7.751937984,
          2.158273381,
          0.704225352
         ],
         "yaxis": "y"
        },
        {
         "hovertemplate": "Country Name=New Zealand<br>Year=%{x}<br>Nilai GDP=%{y}<extra></extra>",
         "legendgroup": "New Zealand",
         "line": {
          "color": "#FECB52",
          "dash": "solid"
         },
         "marker": {
          "symbol": "circle"
         },
         "mode": "markers+lines",
         "name": "New Zealand",
         "showlegend": true,
         "type": "scattergl",
         "x": [
          2000,
          2001,
          2002,
          2003,
          2004,
          2005,
          2006,
          2007,
          2008,
          2009,
          2010,
          2011,
          2012,
          2013,
          2014,
          2015,
          2016,
          2017,
          2018,
          2019,
          2020,
          2021,
          2022,
          2023
         ],
         "xaxis": "x",
         "y": [
          2.870590222,
          3.41147077,
          4.713843165,
          4.728967744,
          4.088259649,
          3.353241444,
          2.77957135,
          3.049910512,
          -1.239535111,
          -0.051952422,
          1.444621284,
          2.241342215,
          2.289462967,
          2.76017959,
          3.754319415,
          3.734035773,
          3.748311452,
          3.397282504,
          3.49949703,
          2.361962178,
          -0.424906458,
          4.546247639,
          2.774842648,
          0.632242362
         ],
         "yaxis": "y"
        },
        {
         "hovertemplate": "Country Name=OECD members<br>Year=%{x}<br>Nilai GDP=%{y}<extra></extra>",
         "legendgroup": "OECD members",
         "line": {
          "color": "#636efa",
          "dash": "solid"
         },
         "marker": {
          "symbol": "circle"
         },
         "mode": "markers+lines",
         "name": "OECD members",
         "showlegend": true,
         "type": "scattergl",
         "x": [
          2000,
          2001,
          2002,
          2003,
          2004,
          2005,
          2006,
          2007,
          2008,
          2009,
          2010,
          2011,
          2012,
          2013,
          2014,
          2015,
          2016,
          2017,
          2018,
          2019,
          2020,
          2021,
          2022,
          2023
         ],
         "xaxis": "x",
         "y": [
          4.092962915,
          1.416353783,
          1.539846773,
          2.033096344,
          3.2654786,
          2.819912154,
          3.026334449,
          2.595228038,
          0.385099492,
          -3.39724935,
          2.968987796,
          1.878734009,
          1.393115911,
          1.60907978,
          2.17654278,
          2.502074362,
          1.851356326,
          2.586105473,
          2.34382864,
          1.799437322,
          -3.953348559,
          5.714652061,
          2.778351222,
          1.666535386
         ],
         "yaxis": "y"
        },
        {
         "hovertemplate": "Country Name=Oman<br>Year=%{x}<br>Nilai GDP=%{y}<extra></extra>",
         "legendgroup": "Oman",
         "line": {
          "color": "#EF553B",
          "dash": "solid"
         },
         "marker": {
          "symbol": "circle"
         },
         "mode": "markers+lines",
         "name": "Oman",
         "showlegend": true,
         "type": "scattergl",
         "x": [
          2000,
          2001,
          2002,
          2003,
          2004,
          2005,
          2006,
          2007,
          2008,
          2009,
          2010,
          2011,
          2012,
          2013,
          2014,
          2015,
          2016,
          2017,
          2018,
          2019,
          2020,
          2021,
          2022,
          2023
         ],
         "xaxis": "x",
         "y": [
          6.551066885,
          4.482802531,
          -1.100905293,
          -2.668591109,
          1.292205681,
          2.490221143,
          5.371888874,
          4.452683565,
          8.200078158,
          6.112395608,
          1.713985311,
          2.894609735,
          8.863122256,
          5.227704081,
          1.292252294,
          5.017057997,
          5.046423946,
          0.304057566,
          1.287103915,
          -1.128711062,
          -3.3797144,
          3.092276687,
          4.311253509,
          1.3
         ],
         "yaxis": "y"
        },
        {
         "hovertemplate": "Country Name=Other small states<br>Year=%{x}<br>Nilai GDP=%{y}<extra></extra>",
         "legendgroup": "Other small states",
         "line": {
          "color": "#00cc96",
          "dash": "solid"
         },
         "marker": {
          "symbol": "circle"
         },
         "mode": "markers+lines",
         "name": "Other small states",
         "showlegend": true,
         "type": "scattergl",
         "x": [
          2000,
          2001,
          2002,
          2003,
          2004,
          2005,
          2006,
          2007,
          2008,
          2009,
          2010,
          2011,
          2012,
          2013,
          2014,
          2015,
          2016,
          2017,
          2018,
          2019,
          2020,
          2021,
          2022,
          2023
         ],
         "xaxis": "x",
         "y": [
          7.02144576,
          3.217429894,
          3.424661709,
          4.518219281,
          4.938027117,
          4.941936292,
          6.397269905,
          6.350439932,
          2.057642551,
          -3.598882627,
          2.713397555,
          3.003572038,
          1.631520528,
          1.701478079,
          2.4151862,
          3.364947877,
          3.891208425,
          4.763308195,
          3.970882187,
          4.064198821,
          -5.717291903,
          6.58600635,
          4.540168378,
          2.479947458
         ],
         "yaxis": "y"
        },
        {
         "hovertemplate": "Country Name=Pakistan<br>Year=%{x}<br>Nilai GDP=%{y}<extra></extra>",
         "legendgroup": "Pakistan",
         "line": {
          "color": "#ab63fa",
          "dash": "solid"
         },
         "marker": {
          "symbol": "circle"
         },
         "mode": "markers+lines",
         "name": "Pakistan",
         "showlegend": true,
         "type": "scattergl",
         "x": [
          2000,
          2001,
          2002,
          2003,
          2004,
          2005,
          2006,
          2007,
          2008,
          2009,
          2010,
          2011,
          2012,
          2013,
          2014,
          2015,
          2016,
          2017,
          2018,
          2019,
          2020,
          2021,
          2022,
          2023
         ],
         "xaxis": "x",
         "y": [
          4.260088011,
          3.651350171,
          2.594816684,
          5.401310873,
          7.83125557,
          7.276574436,
          6.051637676,
          4.44481434,
          2.120441043,
          3.472550596,
          1.501717522,
          2.680116854,
          3.027583911,
          4.36686505,
          4.116428172,
          4.217942096,
          6.573838285,
          4.432625907,
          6.151702611,
          2.497636929,
          -1.274087443,
          6.513885759,
          4.767539531,
          -0.004855269
         ],
         "yaxis": "y"
        },
        {
         "hovertemplate": "Country Name=Panama<br>Year=%{x}<br>Nilai GDP=%{y}<extra></extra>",
         "legendgroup": "Panama",
         "line": {
          "color": "#FFA15A",
          "dash": "solid"
         },
         "marker": {
          "symbol": "circle"
         },
         "mode": "markers+lines",
         "name": "Panama",
         "showlegend": true,
         "type": "scattergl",
         "x": [
          2000,
          2001,
          2002,
          2003,
          2004,
          2005,
          2006,
          2007,
          2008,
          2009,
          2010,
          2011,
          2012,
          2013,
          2014,
          2015,
          2016,
          2017,
          2018,
          2019,
          2020,
          2021,
          2022,
          2023
         ],
         "xaxis": "x",
         "y": [
          2.715373802,
          0.574273151,
          2.229149323,
          4.205495906,
          7.52207972,
          7.191279345,
          8.652465686,
          11.98398511,
          9.855655108,
          1.242992127,
          5.827993448,
          11.31362597,
          9.778490111,
          6.903948109,
          5.066422339,
          5.733054309,
          4.953211471,
          5.591148874,
          3.685429816,
          3.281874977,
          -17.66833272,
          15.83576505,
          10.80936612,
          7.316777417
         ],
         "yaxis": "y"
        },
        {
         "hovertemplate": "Country Name=Peru<br>Year=%{x}<br>Nilai GDP=%{y}<extra></extra>",
         "legendgroup": "Peru",
         "line": {
          "color": "#19d3f3",
          "dash": "solid"
         },
         "marker": {
          "symbol": "circle"
         },
         "mode": "markers+lines",
         "name": "Peru",
         "showlegend": true,
         "type": "scattergl",
         "x": [
          2000,
          2001,
          2002,
          2003,
          2004,
          2005,
          2006,
          2007,
          2008,
          2009,
          2010,
          2011,
          2012,
          2013,
          2014,
          2015,
          2016,
          2017,
          2018,
          2019,
          2020,
          2021,
          2022,
          2023
         ],
         "xaxis": "x",
         "y": [
          2.694371398,
          0.617892326,
          5.453528938,
          4.165023137,
          4.958203206,
          6.285060325,
          7.528899044,
          8.518387769,
          9.126568301,
          1.095823659,
          8.332459107,
          6.327192402,
          6.139724706,
          5.852518211,
          2.382157372,
          3.252244772,
          3.953318715,
          2.518835442,
          3.969351341,
          2.240631769,
          -10.9333065,
          13.35522951,
          2.725500216,
          -0.550182306
         ],
         "yaxis": "y"
        },
        {
         "hovertemplate": "Country Name=Philippines<br>Year=%{x}<br>Nilai GDP=%{y}<extra></extra>",
         "legendgroup": "Philippines",
         "line": {
          "color": "#FF6692",
          "dash": "solid"
         },
         "marker": {
          "symbol": "circle"
         },
         "mode": "markers+lines",
         "name": "Philippines",
         "showlegend": true,
         "type": "scattergl",
         "x": [
          2000,
          2001,
          2002,
          2003,
          2004,
          2005,
          2006,
          2007,
          2008,
          2009,
          2010,
          2011,
          2012,
          2013,
          2014,
          2015,
          2016,
          2017,
          2018,
          2019,
          2020,
          2021,
          2022,
          2023
         ],
         "xaxis": "x",
         "y": [
          4.382504833,
          3.04923151,
          3.716255002,
          5.086911135,
          6.569228512,
          4.942505119,
          5.316416821,
          6.51929155,
          4.344487305,
          1.448323063,
          7.334499965,
          3.858232824,
          6.896951708,
          6.750531304,
          6.34798748,
          6.348309715,
          7.149456753,
          6.930988325,
          6.341485571,
          6.118525661,
          -9.518294741,
          5.714733134,
          7.580982128,
          5.545851171
         ],
         "yaxis": "y"
        },
        {
         "hovertemplate": "Country Name=Palau<br>Year=%{x}<br>Nilai GDP=%{y}<extra></extra>",
         "legendgroup": "Palau",
         "line": {
          "color": "#B6E880",
          "dash": "solid"
         },
         "marker": {
          "symbol": "circle"
         },
         "mode": "markers+lines",
         "name": "Palau",
         "showlegend": true,
         "type": "scattergl",
         "x": [
          2000,
          2001,
          2002,
          2003,
          2004,
          2005,
          2006,
          2007,
          2008,
          2009,
          2010,
          2011,
          2012,
          2013,
          2014,
          2015,
          2016,
          2017,
          2018,
          2019,
          2020,
          2021,
          2022,
          2023
         ],
         "xaxis": "x",
         "y": [
          -2.603902096,
          6.500390691,
          5.016198993,
          -3.223334338,
          3.93905372,
          3.413989542,
          -0.123723055,
          1.754003295,
          -5.493936003,
          -7.260612217,
          -0.895890472,
          5.118279317,
          1.253453687,
          -3.036298044,
          5.29445514,
          9.748413434,
          0.882451194,
          -3.539609662,
          0.633500457,
          0.909470287,
          -7.568021229,
          -14.16405111,
          -0.362288565,
          0.448430493
         ],
         "yaxis": "y"
        },
        {
         "hovertemplate": "Country Name=Papua New Guinea<br>Year=%{x}<br>Nilai GDP=%{y}<extra></extra>",
         "legendgroup": "Papua New Guinea",
         "line": {
          "color": "#FF97FF",
          "dash": "solid"
         },
         "marker": {
          "symbol": "circle"
         },
         "mode": "markers+lines",
         "name": "Papua New Guinea",
         "showlegend": true,
         "type": "scattergl",
         "x": [
          2000,
          2001,
          2002,
          2003,
          2004,
          2005,
          2006,
          2007,
          2008,
          2009,
          2010,
          2011,
          2012,
          2013,
          2014,
          2015,
          2016,
          2017,
          2018,
          2019,
          2020,
          2021,
          2022,
          2023
         ],
         "xaxis": "x",
         "y": [
          -2.494841993,
          -0.121288606,
          -0.158900533,
          2.164102502,
          2.721175741,
          6.344795923,
          5.409944091,
          7.815189229,
          -0.296457846,
          6.800421483,
          10.12845407,
          1.107543626,
          4.657119597,
          3.824946328,
          13.54377062,
          6.578356323,
          5.489573153,
          3.534610818,
          -0.279252285,
          4.480430622,
          -3.167381176,
          -0.780328729,
          5.165051326,
          2.681010484
         ],
         "yaxis": "y"
        },
        {
         "hovertemplate": "Country Name=Poland<br>Year=%{x}<br>Nilai GDP=%{y}<extra></extra>",
         "legendgroup": "Poland",
         "line": {
          "color": "#FECB52",
          "dash": "solid"
         },
         "marker": {
          "symbol": "circle"
         },
         "mode": "markers+lines",
         "name": "Poland",
         "showlegend": true,
         "type": "scattergl",
         "x": [
          2000,
          2001,
          2002,
          2003,
          2004,
          2005,
          2006,
          2007,
          2008,
          2009,
          2010,
          2011,
          2012,
          2013,
          2014,
          2015,
          2016,
          2017,
          2018,
          2019,
          2020,
          2021,
          2022,
          2023
         ],
         "xaxis": "x",
         "y": [
          4.56098541,
          1.258569461,
          2.035863041,
          3.498391213,
          4.98284457,
          3.506834614,
          6.131136459,
          7.061534634,
          4.199981264,
          2.832184053,
          2.934638181,
          5.042187883,
          1.545221571,
          0.856557081,
          3.836958494,
          4.383298635,
          2.953508842,
          5.140017574,
          5.945208477,
          4.449987879,
          -2.020070734,
          6.934980384,
          5.637566766,
          0.160586011
         ],
         "yaxis": "y"
        },
        {
         "hovertemplate": "Country Name=Pre-demographic dividend<br>Year=%{x}<br>Nilai GDP=%{y}<extra></extra>",
         "legendgroup": "Pre-demographic dividend",
         "line": {
          "color": "#636efa",
          "dash": "solid"
         },
         "marker": {
          "symbol": "circle"
         },
         "mode": "markers+lines",
         "name": "Pre-demographic dividend",
         "showlegend": true,
         "type": "scattergl",
         "x": [
          2000,
          2001,
          2002,
          2003,
          2004,
          2005,
          2006,
          2007,
          2008,
          2009,
          2010,
          2011,
          2012,
          2013,
          2014,
          2015,
          2016,
          2017,
          2018,
          2019,
          2020,
          2021,
          2022,
          2023
         ],
         "xaxis": "x",
         "y": [
          5.575362055,
          4.331803153,
          5.918832103,
          -0.727333087,
          11.96765153,
          5.973125311,
          6.225164242,
          6.062251499,
          6.387021912,
          4.922262298,
          6.561944898,
          4.296709737,
          4.250503589,
          5.859290028,
          5.098897324,
          3.276681187,
          2.398325506,
          1.615283662,
          2.587363141,
          3.30796457,
          -2.561256114,
          3.15426,
          4.140597246,
          2.36676205
         ],
         "yaxis": "y"
        },
        {
         "hovertemplate": "Country Name=Puerto Rico<br>Year=%{x}<br>Nilai GDP=%{y}<extra></extra>",
         "legendgroup": "Puerto Rico",
         "line": {
          "color": "#EF553B",
          "dash": "solid"
         },
         "marker": {
          "symbol": "circle"
         },
         "mode": "markers+lines",
         "name": "Puerto Rico",
         "showlegend": true,
         "type": "scattergl",
         "x": [
          2000,
          2001,
          2002,
          2003,
          2004,
          2005,
          2006,
          2007,
          2008,
          2009,
          2010,
          2011,
          2012,
          2013,
          2014,
          2015,
          2016,
          2017,
          2018,
          2019,
          2020,
          2021,
          2022,
          2023
         ],
         "xaxis": "x",
         "y": [
          3.271964529,
          6.313471555,
          0.916459384,
          0.053419805,
          8.748676927,
          -1.986938733,
          -1.409414024,
          -1.16280669,
          -1.84413425,
          -1.952425142,
          -0.413254118,
          -0.358510628,
          0.02927511,
          -0.306826657,
          -1.190363454,
          -1.049290032,
          -1.263694348,
          -2.885218384,
          -4.361427032,
          1.675463795,
          -4.180874309,
          0.38522272,
          3.568110247,
          0.563519427
         ],
         "yaxis": "y"
        },
        {
         "hovertemplate": "Country Name=Korea, Dem. People's Rep.<br>Year=%{x}<br>Nilai GDP=%{y}<extra></extra>",
         "legendgroup": "Korea, Dem. People's Rep.",
         "line": {
          "color": "#00cc96",
          "dash": "solid"
         },
         "marker": {
          "symbol": "circle"
         },
         "mode": "markers+lines",
         "name": "Korea, Dem. People's Rep.",
         "showlegend": true,
         "type": "scattergl",
         "x": [
          2000,
          2001,
          2002,
          2003,
          2004,
          2005,
          2006,
          2007,
          2008,
          2009,
          2010,
          2011,
          2012,
          2013,
          2014,
          2015,
          2016,
          2017,
          2018,
          2019,
          2020,
          2021,
          2022,
          2023
         ],
         "xaxis": "x",
         "y": [
          0,
          0,
          0,
          0,
          0,
          0,
          0,
          0,
          0,
          0,
          0,
          0,
          0,
          0,
          0,
          0,
          0,
          0,
          0,
          0,
          0,
          0,
          0,
          0
         ],
         "yaxis": "y"
        },
        {
         "hovertemplate": "Country Name=Portugal<br>Year=%{x}<br>Nilai GDP=%{y}<extra></extra>",
         "legendgroup": "Portugal",
         "line": {
          "color": "#ab63fa",
          "dash": "solid"
         },
         "marker": {
          "symbol": "circle"
         },
         "mode": "markers+lines",
         "name": "Portugal",
         "showlegend": true,
         "type": "scattergl",
         "x": [
          2000,
          2001,
          2002,
          2003,
          2004,
          2005,
          2006,
          2007,
          2008,
          2009,
          2010,
          2011,
          2012,
          2013,
          2014,
          2015,
          2016,
          2017,
          2018,
          2019,
          2020,
          2021,
          2022,
          2023
         ],
         "xaxis": "x",
         "y": [
          3.816178063,
          1.943672296,
          0.770924024,
          -0.930521193,
          1.788735682,
          0.781848216,
          1.625034176,
          2.506579646,
          0.319247925,
          -3.12207942,
          1.737625476,
          -1.696164781,
          -4.057293608,
          -0.922644675,
          0.792190302,
          1.792046046,
          2.019485396,
          3.506345285,
          2.849325934,
          2.682759921,
          -8.300516541,
          5.737437219,
          6.827510876,
          2.261254781
         ],
         "yaxis": "y"
        },
        {
         "hovertemplate": "Country Name=Paraguay<br>Year=%{x}<br>Nilai GDP=%{y}<extra></extra>",
         "legendgroup": "Paraguay",
         "line": {
          "color": "#FFA15A",
          "dash": "solid"
         },
         "marker": {
          "symbol": "circle"
         },
         "mode": "markers+lines",
         "name": "Paraguay",
         "showlegend": true,
         "type": "scattergl",
         "x": [
          2000,
          2001,
          2002,
          2003,
          2004,
          2005,
          2006,
          2007,
          2008,
          2009,
          2010,
          2011,
          2012,
          2013,
          2014,
          2015,
          2016,
          2017,
          2018,
          2019,
          2020,
          2021,
          2022,
          2023
         ],
         "xaxis": "x",
         "y": [
          -2.314140568,
          -0.834054717,
          -0.021404395,
          4.320745486,
          4.057418364,
          2.133490665,
          4.807117193,
          5.421622872,
          6.49629212,
          -0.261137328,
          11.09523127,
          4.286371207,
          -0.708043112,
          8.293076489,
          5.301238592,
          2.957151735,
          4.268025833,
          4.810078856,
          3.204250341,
          -0.401855101,
          -0.819785391,
          4.016737318,
          0.176038366,
          4.714124079
         ],
         "yaxis": "y"
        },
        {
         "hovertemplate": "Country Name=West Bank and Gaza<br>Year=%{x}<br>Nilai GDP=%{y}<extra></extra>",
         "legendgroup": "West Bank and Gaza",
         "line": {
          "color": "#19d3f3",
          "dash": "solid"
         },
         "marker": {
          "symbol": "circle"
         },
         "mode": "markers+lines",
         "name": "West Bank and Gaza",
         "showlegend": true,
         "type": "scattergl",
         "x": [
          2000,
          2001,
          2002,
          2003,
          2004,
          2005,
          2006,
          2007,
          2008,
          2009,
          2010,
          2011,
          2012,
          2013,
          2014,
          2015,
          2016,
          2017,
          2018,
          2019,
          2020,
          2021,
          2022,
          2023
         ],
         "xaxis": "x",
         "y": [
          -8.556183291,
          -9.310638168,
          -12.48919176,
          14.01586549,
          21.92523949,
          11.29065118,
          -0.996556103,
          3.788281521,
          7.429182255,
          8.593490879,
          5.777362056,
          9.600808489,
          6.096456563,
          4.698569866,
          -0.157866651,
          3.721299671,
          8.86461882,
          1.419367563,
          1.227077378,
          1.362687466,
          -11.31846611,
          7.011982276,
          4.082760273,
          -5.508794372
         ],
         "yaxis": "y"
        },
        {
         "hovertemplate": "Country Name=Pacific island small states<br>Year=%{x}<br>Nilai GDP=%{y}<extra></extra>",
         "legendgroup": "Pacific island small states",
         "line": {
          "color": "#FF6692",
          "dash": "solid"
         },
         "marker": {
          "symbol": "circle"
         },
         "mode": "markers+lines",
         "name": "Pacific island small states",
         "showlegend": true,
         "type": "scattergl",
         "x": [
          2000,
          2001,
          2002,
          2003,
          2004,
          2005,
          2006,
          2007,
          2008,
          2009,
          2010,
          2011,
          2012,
          2013,
          2014,
          2015,
          2016,
          2017,
          2018,
          2019,
          2020,
          2021,
          2022,
          2023
         ],
         "xaxis": "x",
         "y": [
          -1.688679901,
          1.024188154,
          2.065591466,
          1.986225666,
          3.991092401,
          2.439815701,
          2.375748209,
          0.420858616,
          2.131216768,
          -0.592074857,
          3.730325639,
          3.862083438,
          1.006008536,
          3.214677163,
          3.6242973,
          3.779157081,
          3.780607336,
          4.005501791,
          2.763180129,
          1.214500228,
          -10.25306854,
          -2.867965543,
          9.308397154,
          5.75845168
         ],
         "yaxis": "y"
        },
        {
         "hovertemplate": "Country Name=Post-demographic dividend<br>Year=%{x}<br>Nilai GDP=%{y}<extra></extra>",
         "legendgroup": "Post-demographic dividend",
         "line": {
          "color": "#B6E880",
          "dash": "solid"
         },
         "marker": {
          "symbol": "circle"
         },
         "mode": "markers+lines",
         "name": "Post-demographic dividend",
         "showlegend": true,
         "type": "scattergl",
         "x": [
          2000,
          2001,
          2002,
          2003,
          2004,
          2005,
          2006,
          2007,
          2008,
          2009,
          2010,
          2011,
          2012,
          2013,
          2014,
          2015,
          2016,
          2017,
          2018,
          2019,
          2020,
          2021,
          2022,
          2023
         ],
         "xaxis": "x",
         "y": [
          4.034973041,
          1.53298389,
          1.529500709,
          2.017778474,
          3.208537123,
          2.767186966,
          2.920554647,
          2.541808248,
          0.355737385,
          -3.391446178,
          2.909982314,
          1.666557393,
          1.256366907,
          1.509114402,
          2.011471875,
          2.224385159,
          1.797926537,
          2.465086502,
          2.250565755,
          1.768605509,
          -4.123748814,
          5.446238205,
          2.413232956,
          1.689320846
         ],
         "yaxis": "y"
        },
        {
         "hovertemplate": "Country Name=French Polynesia<br>Year=%{x}<br>Nilai GDP=%{y}<extra></extra>",
         "legendgroup": "French Polynesia",
         "line": {
          "color": "#FF97FF",
          "dash": "solid"
         },
         "marker": {
          "symbol": "circle"
         },
         "mode": "markers+lines",
         "name": "French Polynesia",
         "showlegend": true,
         "type": "scattergl",
         "x": [
          2000,
          2001,
          2002,
          2003,
          2004,
          2005,
          2006,
          2007,
          2008,
          2009,
          2010,
          2011,
          2012,
          2013,
          2014,
          2015,
          2016,
          2017,
          2018,
          2019,
          2020,
          2021,
          2022,
          2023
         ],
         "xaxis": "x",
         "y": [
          3.245411013,
          -0.341595578,
          0.846181483,
          2.126928849,
          0.97125913,
          0.309973476,
          0.889584118,
          1.704975638,
          0.006767551,
          -4.231391831,
          -2.46606419,
          -2.961957454,
          -0.927537713,
          0.398801414,
          0.593554453,
          1.66510563,
          2.369644447,
          4.374502383,
          1.832028228,
          2.699934499,
          -7.050990654,
          2.094788968,
          4.46607459,
          0
         ],
         "yaxis": "y"
        },
        {
         "hovertemplate": "Country Name=Qatar<br>Year=%{x}<br>Nilai GDP=%{y}<extra></extra>",
         "legendgroup": "Qatar",
         "line": {
          "color": "#FECB52",
          "dash": "solid"
         },
         "marker": {
          "symbol": "circle"
         },
         "mode": "markers+lines",
         "name": "Qatar",
         "showlegend": true,
         "type": "scattergl",
         "x": [
          2000,
          2001,
          2002,
          2003,
          2004,
          2005,
          2006,
          2007,
          2008,
          2009,
          2010,
          2011,
          2012,
          2013,
          2014,
          2015,
          2016,
          2017,
          2018,
          2019,
          2020,
          2021,
          2022,
          2023
         ],
         "xaxis": "x",
         "y": [
          8.028125483,
          3.898186662,
          7.18215168,
          3.719958677,
          19.21891534,
          7.492758483,
          26.17024567,
          17.98565682,
          17.66355636,
          11.95656113,
          19.59233153,
          13.37517641,
          4.730011844,
          5.556040643,
          5.334323292,
          4.753345724,
          3.064191884,
          -1.497604702,
          1.234872202,
          0.688240955,
          -3.55760399,
          1.626846719,
          4.208871248,
          0
         ],
         "yaxis": "y"
        },
        {
         "hovertemplate": "Country Name=Romania<br>Year=%{x}<br>Nilai GDP=%{y}<extra></extra>",
         "legendgroup": "Romania",
         "line": {
          "color": "#636efa",
          "dash": "solid"
         },
         "marker": {
          "symbol": "circle"
         },
         "mode": "markers+lines",
         "name": "Romania",
         "showlegend": true,
         "type": "scattergl",
         "x": [
          2000,
          2001,
          2002,
          2003,
          2004,
          2005,
          2006,
          2007,
          2008,
          2009,
          2010,
          2011,
          2012,
          2013,
          2014,
          2015,
          2016,
          2017,
          2018,
          2019,
          2020,
          2021,
          2022,
          2023
         ],
         "xaxis": "x",
         "y": [
          2.461263459,
          5.218136257,
          5.70299165,
          2.341147329,
          10.42811302,
          4.668148051,
          8.028811076,
          7.233807744,
          9.307467171,
          -5.517394408,
          -3.90123628,
          4.517086964,
          1.924993262,
          0.269963879,
          4.120674963,
          3.16050387,
          2.857546057,
          8.196506503,
          6.029019041,
          3.853163833,
          -3.677510791,
          5.708894558,
          4.107027202,
          2.148476996
         ],
         "yaxis": "y"
        },
        {
         "hovertemplate": "Country Name=Russian Federation<br>Year=%{x}<br>Nilai GDP=%{y}<extra></extra>",
         "legendgroup": "Russian Federation",
         "line": {
          "color": "#EF553B",
          "dash": "solid"
         },
         "marker": {
          "symbol": "circle"
         },
         "mode": "markers+lines",
         "name": "Russian Federation",
         "showlegend": true,
         "type": "scattergl",
         "x": [
          2000,
          2001,
          2002,
          2003,
          2004,
          2005,
          2006,
          2007,
          2008,
          2009,
          2010,
          2011,
          2012,
          2013,
          2014,
          2015,
          2016,
          2017,
          2018,
          2019,
          2020,
          2021,
          2022,
          2023
         ],
         "xaxis": "x",
         "y": [
          10.00006681,
          5.100051226,
          4.699991909,
          7.299952345,
          7.19994787,
          6.399965448,
          8.200068255,
          8.499977769,
          5.199969264,
          -7.799993913,
          4.499999999,
          4.300029186,
          4.024086157,
          1.755422149,
          0.736267222,
          -1.972719226,
          0.193690071,
          1.825790064,
          2.807245411,
          2.198075713,
          -2.653654501,
          5.614290376,
          -2.069711525,
          3.6
         ],
         "yaxis": "y"
        },
        {
         "hovertemplate": "Country Name=Rwanda<br>Year=%{x}<br>Nilai GDP=%{y}<extra></extra>",
         "legendgroup": "Rwanda",
         "line": {
          "color": "#00cc96",
          "dash": "solid"
         },
         "marker": {
          "symbol": "circle"
         },
         "mode": "markers+lines",
         "name": "Rwanda",
         "showlegend": true,
         "type": "scattergl",
         "x": [
          2000,
          2001,
          2002,
          2003,
          2004,
          2005,
          2006,
          2007,
          2008,
          2009,
          2010,
          2011,
          2012,
          2013,
          2014,
          2015,
          2016,
          2017,
          2018,
          2019,
          2020,
          2021,
          2022,
          2023
         ],
         "xaxis": "x",
         "y": [
          8.370885132,
          8.484557799,
          13.19207199,
          2.202408142,
          7.447679568,
          9.377889524,
          9.227067826,
          7.633284342,
          11.16126387,
          6.248265246,
          7.334654787,
          7.958385419,
          8.641506707,
          4.719848831,
          6.167160273,
          8.856864687,
          5.970741188,
          3.91816565,
          8.516468306,
          9.44739159,
          -3.37369377,
          10.85796719,
          8.157734403,
          8.241286965
         ],
         "yaxis": "y"
        },
        {
         "hovertemplate": "Country Name=South Asia<br>Year=%{x}<br>Nilai GDP=%{y}<extra></extra>",
         "legendgroup": "South Asia",
         "line": {
          "color": "#ab63fa",
          "dash": "solid"
         },
         "marker": {
          "symbol": "circle"
         },
         "mode": "markers+lines",
         "name": "South Asia",
         "showlegend": true,
         "type": "scattergl",
         "x": [
          2000,
          2001,
          2002,
          2003,
          2004,
          2005,
          2006,
          2007,
          2008,
          2009,
          2010,
          2011,
          2012,
          2013,
          2014,
          2015,
          2016,
          2017,
          2018,
          2019,
          2020,
          2021,
          2022,
          2023
         ],
         "xaxis": "x",
         "y": [
          4.112449812,
          4.35912767,
          3.721075351,
          7.176071101,
          7.548722986,
          7.612733442,
          7.618528801,
          7.139166126,
          3.298104994,
          6.949900159,
          7.365992009,
          5.071221948,
          5.381289736,
          6.008601615,
          6.847837891,
          7.251561624,
          7.776235507,
          6.502640993,
          6.334693554,
          3.92432284,
          -4.582693129,
          8.76382055,
          6.312211692,
          6.35285494
         ],
         "yaxis": "y"
        },
        {
         "hovertemplate": "Country Name=Saudi Arabia<br>Year=%{x}<br>Nilai GDP=%{y}<extra></extra>",
         "legendgroup": "Saudi Arabia",
         "line": {
          "color": "#FFA15A",
          "dash": "solid"
         },
         "marker": {
          "symbol": "circle"
         },
         "mode": "markers+lines",
         "name": "Saudi Arabia",
         "showlegend": true,
         "type": "scattergl",
         "x": [
          2000,
          2001,
          2002,
          2003,
          2004,
          2005,
          2006,
          2007,
          2008,
          2009,
          2010,
          2011,
          2012,
          2013,
          2014,
          2015,
          2016,
          2017,
          2018,
          2019,
          2020,
          2021,
          2022,
          2023
         ],
         "xaxis": "x",
         "y": [
          5.625413167,
          -1.210764804,
          -2.819183548,
          11.24206806,
          7.95846632,
          5.573833722,
          2.788405973,
          1.847134992,
          6.249753356,
          -2.059263913,
          5.039507572,
          10.99376168,
          5.408916078,
          2.534778271,
          3.811422791,
          4.509059063,
          1.884492736,
          0.911048656,
          3.19922678,
          1.09773375,
          -3.581534863,
          5.07511035,
          7.485984291,
          -0.754914811
         ],
         "yaxis": "y"
        },
        {
         "hovertemplate": "Country Name=Sudan<br>Year=%{x}<br>Nilai GDP=%{y}<extra></extra>",
         "legendgroup": "Sudan",
         "line": {
          "color": "#19d3f3",
          "dash": "solid"
         },
         "marker": {
          "symbol": "circle"
         },
         "mode": "markers+lines",
         "name": "Sudan",
         "showlegend": true,
         "type": "scattergl",
         "x": [
          2000,
          2001,
          2002,
          2003,
          2004,
          2005,
          2006,
          2007,
          2008,
          2009,
          2010,
          2011,
          2012,
          2013,
          2014,
          2015,
          2016,
          2017,
          2018,
          2019,
          2020,
          2021,
          2022,
          2023
         ],
         "xaxis": "x",
         "y": [
          6.34586744,
          6.500360534,
          6.006471536,
          6.288808161,
          5.140888518,
          5.643515513,
          6.531411747,
          5.735274237,
          3.846744731,
          -2.767704366,
          3.858241952,
          -3.213532093,
          -17.0046884,
          1.955144633,
          4.661379542,
          1.910176891,
          3.467642184,
          0.709256285,
          -2.68093055,
          -2.178251045,
          -3.629800824,
          -1.868520483,
          -0.957816591,
          -12.0467792
         ],
         "yaxis": "y"
        },
        {
         "hovertemplate": "Country Name=Senegal<br>Year=%{x}<br>Nilai GDP=%{y}<extra></extra>",
         "legendgroup": "Senegal",
         "line": {
          "color": "#FF6692",
          "dash": "solid"
         },
         "marker": {
          "symbol": "circle"
         },
         "mode": "markers+lines",
         "name": "Senegal",
         "showlegend": true,
         "type": "scattergl",
         "x": [
          2000,
          2001,
          2002,
          2003,
          2004,
          2005,
          2006,
          2007,
          2008,
          2009,
          2010,
          2011,
          2012,
          2013,
          2014,
          2015,
          2016,
          2017,
          2018,
          2019,
          2020,
          2021,
          2022,
          2023
         ],
         "xaxis": "x",
         "y": [
          3.887210958,
          4.310851466,
          0.068696575,
          5.593950945,
          4.643293937,
          4.310238526,
          2.330770983,
          2.827119201,
          3.703169064,
          2.752104485,
          3.390889253,
          1.33409108,
          4.002995551,
          2.412385276,
          6.224074438,
          6.367043651,
          6.356068572,
          7.407486186,
          6.209241034,
          4.613628097,
          1.342073773,
          6.544001099,
          3.821856051,
          3.699996361
         ],
         "yaxis": "y"
        },
        {
         "hovertemplate": "Country Name=Singapore<br>Year=%{x}<br>Nilai GDP=%{y}<extra></extra>",
         "legendgroup": "Singapore",
         "line": {
          "color": "#B6E880",
          "dash": "solid"
         },
         "marker": {
          "symbol": "circle"
         },
         "mode": "markers+lines",
         "name": "Singapore",
         "showlegend": true,
         "type": "scattergl",
         "x": [
          2000,
          2001,
          2002,
          2003,
          2004,
          2005,
          2006,
          2007,
          2008,
          2009,
          2010,
          2011,
          2012,
          2013,
          2014,
          2015,
          2016,
          2017,
          2018,
          2019,
          2020,
          2021,
          2022,
          2023
         ],
         "xaxis": "x",
         "y": [
          9.038316326,
          -1.070862751,
          3.923360767,
          4.548255426,
          9.939982684,
          7.366322393,
          9.006766079,
          9.021519513,
          1.863483455,
          0.127953383,
          14.51974971,
          6.214934169,
          4.435497594,
          4.817630991,
          3.935540277,
          2.976799316,
          3.588643696,
          4.512926318,
          3.517114185,
          1.345058741,
          -3.869798934,
          9.690766871,
          3.838076785,
          1.075031751
         ],
         "yaxis": "y"
        },
        {
         "hovertemplate": "Country Name=Solomon Islands<br>Year=%{x}<br>Nilai GDP=%{y}<extra></extra>",
         "legendgroup": "Solomon Islands",
         "line": {
          "color": "#FF97FF",
          "dash": "solid"
         },
         "marker": {
          "symbol": "circle"
         },
         "mode": "markers+lines",
         "name": "Solomon Islands",
         "showlegend": true,
         "type": "scattergl",
         "x": [
          2000,
          2001,
          2002,
          2003,
          2004,
          2005,
          2006,
          2007,
          2008,
          2009,
          2010,
          2011,
          2012,
          2013,
          2014,
          2015,
          2016,
          2017,
          2018,
          2019,
          2020,
          2021,
          2022,
          2023
         ],
         "xaxis": "x",
         "y": [
          -14.27699959,
          -7.9566061,
          -2.799982885,
          6.523466851,
          7.683299966,
          7.357841934,
          4.138280318,
          3.639672429,
          6.225969544,
          2.864267902,
          9.708388169,
          7.429949617,
          2.466001387,
          5.237740178,
          1.189217471,
          1.676146156,
          5.554731534,
          3.075348034,
          2.745995423,
          1.748566555,
          -3.381147541,
          2.564349754,
          2.402481436,
          2.950085363
         ],
         "yaxis": "y"
        },
        {
         "hovertemplate": "Country Name=Sierra Leone<br>Year=%{x}<br>Nilai GDP=%{y}<extra></extra>",
         "legendgroup": "Sierra Leone",
         "line": {
          "color": "#FECB52",
          "dash": "solid"
         },
         "marker": {
          "symbol": "circle"
         },
         "mode": "markers+lines",
         "name": "Sierra Leone",
         "showlegend": true,
         "type": "scattergl",
         "x": [
          2000,
          2001,
          2002,
          2003,
          2004,
          2005,
          2006,
          2007,
          2008,
          2009,
          2010,
          2011,
          2012,
          2013,
          2014,
          2015,
          2016,
          2017,
          2018,
          2019,
          2020,
          2021,
          2022,
          2023
         ],
         "xaxis": "x",
         "y": [
          6.652729659,
          -6.345455403,
          26.52413489,
          9.483631486,
          6.478846016,
          4.35349995,
          4.283110445,
          7.976565334,
          5.435893044,
          3.209431562,
          6.637492458,
          6.009831046,
          15.20174827,
          21.07901416,
          4.559253533,
          -20.49107411,
          6.346727852,
          3.753803214,
          3.47290262,
          5.253746313,
          -1.968486891,
          4.104700089,
          3.457539856,
          3.430821356
         ],
         "yaxis": "y"
        },
        {
         "hovertemplate": "Country Name=El Salvador<br>Year=%{x}<br>Nilai GDP=%{y}<extra></extra>",
         "legendgroup": "El Salvador",
         "line": {
          "color": "#636efa",
          "dash": "solid"
         },
         "marker": {
          "symbol": "circle"
         },
         "mode": "markers+lines",
         "name": "El Salvador",
         "showlegend": true,
         "type": "scattergl",
         "x": [
          2000,
          2001,
          2002,
          2003,
          2004,
          2005,
          2006,
          2007,
          2008,
          2009,
          2010,
          2011,
          2012,
          2013,
          2014,
          2015,
          2016,
          2017,
          2018,
          2019,
          2020,
          2021,
          2022,
          2023
         ],
         "xaxis": "x",
         "y": [
          1.127906977,
          0.87961366,
          1.572918448,
          1.565393031,
          0.889404486,
          2.680830094,
          4.336998603,
          1.847602206,
          2.154402983,
          -2.108768376,
          2.154195367,
          3.773584998,
          2.887700102,
          2.182952325,
          1.729399842,
          2.400000089,
          2.539062411,
          2.247619081,
          2.412444224,
          2.437471591,
          -7.89310136,
          11.9047617,
          2.799552169,
          3.510977066
         ],
         "yaxis": "y"
        },
        {
         "hovertemplate": "Country Name=San Marino<br>Year=%{x}<br>Nilai GDP=%{y}<extra></extra>",
         "legendgroup": "San Marino",
         "line": {
          "color": "#EF553B",
          "dash": "solid"
         },
         "marker": {
          "symbol": "circle"
         },
         "mode": "markers+lines",
         "name": "San Marino",
         "showlegend": true,
         "type": "scattergl",
         "x": [
          2000,
          2001,
          2002,
          2003,
          2004,
          2005,
          2006,
          2007,
          2008,
          2009,
          2010,
          2011,
          2012,
          2013,
          2014,
          2015,
          2016,
          2017,
          2018,
          2019,
          2020,
          2021,
          2022,
          2023
         ],
         "xaxis": "x",
         "y": [
          2.179379715,
          5.578342904,
          0.310800311,
          3.872966692,
          4.548844146,
          2.42510699,
          3.830083565,
          7.109322602,
          -0.500939261,
          -10.32095658,
          -5.473684211,
          -8.314773571,
          -7.044534413,
          -0.783972125,
          -0.7023705,
          2.291505561,
          2.344405864,
          0.258265467,
          1.493905318,
          2.065685145,
          -6.647910819,
          8.463071844,
          0,
          0
         ],
         "yaxis": "y"
        },
        {
         "hovertemplate": "Country Name=Somalia<br>Year=%{x}<br>Nilai GDP=%{y}<extra></extra>",
         "legendgroup": "Somalia",
         "line": {
          "color": "#00cc96",
          "dash": "solid"
         },
         "marker": {
          "symbol": "circle"
         },
         "mode": "markers+lines",
         "name": "Somalia",
         "showlegend": true,
         "type": "scattergl",
         "x": [
          2000,
          2001,
          2002,
          2003,
          2004,
          2005,
          2006,
          2007,
          2008,
          2009,
          2010,
          2011,
          2012,
          2013,
          2014,
          2015,
          2016,
          2017,
          2018,
          2019,
          2020,
          2021,
          2022,
          2023
         ],
         "xaxis": "x",
         "y": [
          7.110314311,
          7.110314311,
          7.630267293,
          7.630267293,
          7.110314311,
          7.110314311,
          6.486370733,
          6.694351926,
          6.694351926,
          6.694351926,
          6.694351926,
          6.694351926,
          6.694351926,
          -2.708586513,
          7.526391611,
          9.946799979,
          6.418570605,
          9.507286607,
          2.989015632,
          3.630396882,
          -2.56308758,
          3.310989234,
          2.438065277,
          3.102961996
         ],
         "yaxis": "y"
        },
        {
         "hovertemplate": "Country Name=Serbia<br>Year=%{x}<br>Nilai GDP=%{y}<extra></extra>",
         "legendgroup": "Serbia",
         "line": {
          "color": "#ab63fa",
          "dash": "solid"
         },
         "marker": {
          "symbol": "circle"
         },
         "mode": "markers+lines",
         "name": "Serbia",
         "showlegend": true,
         "type": "scattergl",
         "x": [
          2000,
          2001,
          2002,
          2003,
          2004,
          2005,
          2006,
          2007,
          2008,
          2009,
          2010,
          2011,
          2012,
          2013,
          2014,
          2015,
          2016,
          2017,
          2018,
          2019,
          2020,
          2021,
          2022,
          2023
         ],
         "xaxis": "x",
         "y": [
          6.13181309,
          6.878774765,
          6.380405304,
          4.387757023,
          9.028196928,
          5.530347121,
          5.107790141,
          6.439525554,
          5.655576622,
          -2.731751989,
          0.731044553,
          2.036276689,
          -0.681542369,
          2.892636734,
          -1.58951032,
          1.806059265,
          3.338586765,
          2.101163847,
          4.495121293,
          4.331734906,
          -0.903218502,
          7.725947777,
          2.54995557,
          2.527793336
         ],
         "yaxis": "y"
        },
        {
         "hovertemplate": "Country Name=Sub-Saharan Africa (excluding high income)<br>Year=%{x}<br>Nilai GDP=%{y}<extra></extra>",
         "legendgroup": "Sub-Saharan Africa (excluding high income)",
         "line": {
          "color": "#FFA15A",
          "dash": "solid"
         },
         "marker": {
          "symbol": "circle"
         },
         "mode": "markers+lines",
         "name": "Sub-Saharan Africa (excluding high income)",
         "showlegend": true,
         "type": "scattergl",
         "x": [
          2000,
          2001,
          2002,
          2003,
          2004,
          2005,
          2006,
          2007,
          2008,
          2009,
          2010,
          2011,
          2012,
          2013,
          2014,
          2015,
          2016,
          2017,
          2018,
          2019,
          2020,
          2021,
          2022,
          2023
         ],
         "xaxis": "x",
         "y": [
          3.477204286,
          4.206193581,
          6.336901723,
          4.060691376,
          6.611081259,
          6.016252982,
          6.052835399,
          6.159711213,
          5.197011595,
          3.185405616,
          5.996798352,
          4.410273711,
          3.25837393,
          5.093698531,
          4.87142051,
          2.915508052,
          1.232693485,
          2.480030065,
          2.752797686,
          2.656849952,
          -1.956707135,
          4.268420913,
          3.650321496,
          2.954888115
         ],
         "yaxis": "y"
        },
        {
         "hovertemplate": "Country Name=South Sudan<br>Year=%{x}<br>Nilai GDP=%{y}<extra></extra>",
         "legendgroup": "South Sudan",
         "line": {
          "color": "#19d3f3",
          "dash": "solid"
         },
         "marker": {
          "symbol": "circle"
         },
         "mode": "markers+lines",
         "name": "South Sudan",
         "showlegend": true,
         "type": "scattergl",
         "x": [
          2000,
          2001,
          2002,
          2003,
          2004,
          2005,
          2006,
          2007,
          2008,
          2009,
          2010,
          2011,
          2012,
          2013,
          2014,
          2015,
          2016,
          2017,
          2018,
          2019,
          2020,
          2021,
          2022,
          2023
         ],
         "xaxis": "x",
         "y": [
          0,
          0,
          0,
          0,
          0,
          0,
          0,
          0,
          0,
          5.04164188,
          5.493416395,
          -4.640316736,
          -46.08212237,
          13.12973114,
          3.373648477,
          -10.79336463,
          0,
          0,
          0,
          0,
          0,
          0,
          0,
          0
         ],
         "yaxis": "y"
        },
        {
         "hovertemplate": "Country Name=Sub-Saharan Africa<br>Year=%{x}<br>Nilai GDP=%{y}<extra></extra>",
         "legendgroup": "Sub-Saharan Africa",
         "line": {
          "color": "#FF6692",
          "dash": "solid"
         },
         "marker": {
          "symbol": "circle"
         },
         "mode": "markers+lines",
         "name": "Sub-Saharan Africa",
         "showlegend": true,
         "type": "scattergl",
         "x": [
          2000,
          2001,
          2002,
          2003,
          2004,
          2005,
          2006,
          2007,
          2008,
          2009,
          2010,
          2011,
          2012,
          2013,
          2014,
          2015,
          2016,
          2017,
          2018,
          2019,
          2020,
          2021,
          2022,
          2023
         ],
         "xaxis": "x",
         "y": [
          3.478123727,
          4.198461361,
          6.331164751,
          4.050089793,
          6.60196092,
          6.018879164,
          6.055864144,
          6.16224217,
          5.189440688,
          3.180480862,
          5.995572687,
          4.414404934,
          3.25824844,
          5.090440548,
          4.87076022,
          2.920373883,
          1.242037176,
          2.484283288,
          2.754967058,
          2.65974505,
          -1.966894827,
          4.264936892,
          3.660562423,
          2.955095532
         ],
         "yaxis": "y"
        },
        {
         "hovertemplate": "Country Name=Small states<br>Year=%{x}<br>Nilai GDP=%{y}<extra></extra>",
         "legendgroup": "Small states",
         "line": {
          "color": "#B6E880",
          "dash": "solid"
         },
         "marker": {
          "symbol": "circle"
         },
         "mode": "markers+lines",
         "name": "Small states",
         "showlegend": true,
         "type": "scattergl",
         "x": [
          2000,
          2001,
          2002,
          2003,
          2004,
          2005,
          2006,
          2007,
          2008,
          2009,
          2010,
          2011,
          2012,
          2013,
          2014,
          2015,
          2016,
          2017,
          2018,
          2019,
          2020,
          2021,
          2022,
          2023
         ],
         "xaxis": "x",
         "y": [
          5.823206766,
          2.701048213,
          3.092209434,
          3.841873884,
          4.463221044,
          4.490212815,
          5.825198254,
          5.486610444,
          1.771507713,
          -3.280055191,
          2.4316887,
          2.801374507,
          1.732045642,
          1.466652838,
          2.351877792,
          2.902177846,
          3.281514278,
          4.242858233,
          3.732972792,
          3.425488511,
          -6.488768199,
          6.786514577,
          7.685584097,
          4.530624568
         ],
         "yaxis": "y"
        },
        {
         "hovertemplate": "Country Name=Sao Tome and Principe<br>Year=%{x}<br>Nilai GDP=%{y}<extra></extra>",
         "legendgroup": "Sao Tome and Principe",
         "line": {
          "color": "#FF97FF",
          "dash": "solid"
         },
         "marker": {
          "symbol": "circle"
         },
         "mode": "markers+lines",
         "name": "Sao Tome and Principe",
         "showlegend": true,
         "type": "scattergl",
         "x": [
          2000,
          2001,
          2002,
          2003,
          2004,
          2005,
          2006,
          2007,
          2008,
          2009,
          2010,
          2011,
          2012,
          2013,
          2014,
          2015,
          2016,
          2017,
          2018,
          2019,
          2020,
          2021,
          2022,
          2023
         ],
         "xaxis": "x",
         "y": [
          0.448368349,
          3.064484746,
          3.360188168,
          8.291519461,
          3.537905944,
          6.61462475,
          8.866109359,
          3.641471852,
          6.22878507,
          3.302414143,
          1.448434005,
          1.999449509,
          2.94292216,
          5.119700883,
          4.906209873,
          1.539692169,
          5.17682175,
          4.112968607,
          4.378139399,
          2.014319343,
          2.624859495,
          1.899298913,
          0.065282438,
          -0.474442952
         ],
         "yaxis": "y"
        },
        {
         "hovertemplate": "Country Name=Suriname<br>Year=%{x}<br>Nilai GDP=%{y}<extra></extra>",
         "legendgroup": "Suriname",
         "line": {
          "color": "#FECB52",
          "dash": "solid"
         },
         "marker": {
          "symbol": "circle"
         },
         "mode": "markers+lines",
         "name": "Suriname",
         "showlegend": true,
         "type": "scattergl",
         "x": [
          2000,
          2001,
          2002,
          2003,
          2004,
          2005,
          2006,
          2007,
          2008,
          2009,
          2010,
          2011,
          2012,
          2013,
          2014,
          2015,
          2016,
          2017,
          2018,
          2019,
          2020,
          2021,
          2022,
          2023
         ],
         "xaxis": "x",
         "y": [
          2.099998868,
          4.200000421,
          2.800000689,
          6.299999433,
          8.500000185,
          4.500000211,
          5.793543585,
          5.111487778,
          4.143406812,
          3.013698983,
          5.168825152,
          5.849367672,
          2.690349747,
          2.933441652,
          0.255503032,
          -3.413042681,
          -4.911660509,
          1.566037825,
          4.948271085,
          1.167589772,
          -15.97519171,
          -2.435385836,
          2.433723709,
          2.075459112
         ],
         "yaxis": "y"
        },
        {
         "hovertemplate": "Country Name=Slovak Republic<br>Year=%{x}<br>Nilai GDP=%{y}<extra></extra>",
         "legendgroup": "Slovak Republic",
         "line": {
          "color": "#636efa",
          "dash": "solid"
         },
         "marker": {
          "symbol": "circle"
         },
         "mode": "markers+lines",
         "name": "Slovak Republic",
         "showlegend": true,
         "type": "scattergl",
         "x": [
          2000,
          2001,
          2002,
          2003,
          2004,
          2005,
          2006,
          2007,
          2008,
          2009,
          2010,
          2011,
          2012,
          2013,
          2014,
          2015,
          2016,
          2017,
          2018,
          2019,
          2020,
          2021,
          2022,
          2023
         ],
         "xaxis": "x",
         "y": [
          1.166526518,
          3.253783981,
          4.509444138,
          5.499083077,
          5.278880718,
          6.623461259,
          8.493176745,
          10.83202881,
          5.574886345,
          -5.455532867,
          6.71663275,
          2.671452779,
          1.318802246,
          0.632740007,
          2.697189807,
          5.167181606,
          1.943950861,
          2.938068678,
          4.030389714,
          2.511256198,
          -3.32972321,
          4.771221425,
          1.870036199,
          1.596454971
         ],
         "yaxis": "y"
        },
        {
         "hovertemplate": "Country Name=Slovenia<br>Year=%{x}<br>Nilai GDP=%{y}<extra></extra>",
         "legendgroup": "Slovenia",
         "line": {
          "color": "#EF553B",
          "dash": "solid"
         },
         "marker": {
          "symbol": "circle"
         },
         "mode": "markers+lines",
         "name": "Slovenia",
         "showlegend": true,
         "type": "scattergl",
         "x": [
          2000,
          2001,
          2002,
          2003,
          2004,
          2005,
          2006,
          2007,
          2008,
          2009,
          2010,
          2011,
          2012,
          2013,
          2014,
          2015,
          2016,
          2017,
          2018,
          2019,
          2020,
          2021,
          2022,
          2023
         ],
         "xaxis": "x",
         "y": [
          3.67237155,
          3.216560335,
          3.505598057,
          2.960260286,
          4.359192778,
          3.797972642,
          5.746396901,
          6.980160755,
          3.509841517,
          -7.548437791,
          1.343748472,
          0.861327733,
          -2.639438757,
          -1.029282772,
          2.768158831,
          2.210081607,
          3.191852518,
          4.815380632,
          4.454365747,
          3.52267924,
          -4.240883722,
          8.228499886,
          2.460783314,
          1.586899383
         ],
         "yaxis": "y"
        },
        {
         "hovertemplate": "Country Name=Sweden<br>Year=%{x}<br>Nilai GDP=%{y}<extra></extra>",
         "legendgroup": "Sweden",
         "line": {
          "color": "#00cc96",
          "dash": "solid"
         },
         "marker": {
          "symbol": "circle"
         },
         "mode": "markers+lines",
         "name": "Sweden",
         "showlegend": true,
         "type": "scattergl",
         "x": [
          2000,
          2001,
          2002,
          2003,
          2004,
          2005,
          2006,
          2007,
          2008,
          2009,
          2010,
          2011,
          2012,
          2013,
          2014,
          2015,
          2016,
          2017,
          2018,
          2019,
          2020,
          2021,
          2022,
          2023
         ],
         "xaxis": "x",
         "y": [
          4.766348871,
          1.449498618,
          2.196921062,
          2.30981059,
          4.336856154,
          2.85880324,
          4.662773552,
          3.439221776,
          -0.450559257,
          -4.339790575,
          5.952107008,
          3.195333235,
          -0.588304569,
          1.187775716,
          2.657798275,
          4.489281588,
          2.070593151,
          2.567924525,
          1.950022846,
          1.986195874,
          -2.170213179,
          6.147024647,
          2.66319954,
          -0.196170995
         ],
         "yaxis": "y"
        },
        {
         "hovertemplate": "Country Name=Eswatini<br>Year=%{x}<br>Nilai GDP=%{y}<extra></extra>",
         "legendgroup": "Eswatini",
         "line": {
          "color": "#ab63fa",
          "dash": "solid"
         },
         "marker": {
          "symbol": "circle"
         },
         "mode": "markers+lines",
         "name": "Eswatini",
         "showlegend": true,
         "type": "scattergl",
         "x": [
          2000,
          2001,
          2002,
          2003,
          2004,
          2005,
          2006,
          2007,
          2008,
          2009,
          2010,
          2011,
          2012,
          2013,
          2014,
          2015,
          2016,
          2017,
          2018,
          2019,
          2020,
          2021,
          2022,
          2023
         ],
         "xaxis": "x",
         "y": [
          1.76017376,
          1.054764906,
          4.380099088,
          3.880213586,
          3.623914226,
          5.99877655,
          5.992166838,
          4.435375577,
          0.821663914,
          1.565048852,
          3.793754968,
          2.247229761,
          5.396630697,
          3.861213798,
          0.923230547,
          2.227480675,
          1.062610193,
          2.026578156,
          2.380095495,
          2.692168273,
          -1.55964259,
          10.68369388,
          0.47576934,
          4.842320853
         ],
         "yaxis": "y"
        },
        {
         "hovertemplate": "Country Name=Sint Maarten (Dutch part)<br>Year=%{x}<br>Nilai GDP=%{y}<extra></extra>",
         "legendgroup": "Sint Maarten (Dutch part)",
         "line": {
          "color": "#FFA15A",
          "dash": "solid"
         },
         "marker": {
          "symbol": "circle"
         },
         "mode": "markers+lines",
         "name": "Sint Maarten (Dutch part)",
         "showlegend": true,
         "type": "scattergl",
         "x": [
          2000,
          2001,
          2002,
          2003,
          2004,
          2005,
          2006,
          2007,
          2008,
          2009,
          2010,
          2011,
          2012,
          2013,
          2014,
          2015,
          2016,
          2017,
          2018,
          2019,
          2020,
          2021,
          2022,
          2023
         ],
         "xaxis": "x",
         "y": [
          0,
          0,
          0,
          0,
          0,
          0,
          0,
          0,
          0,
          0,
          3.199992692,
          4.600003414,
          1.390544568,
          1.306731035,
          1.580382215,
          0.10581315,
          0.967758363,
          -7.535213999,
          -6.856982992,
          10.96500094,
          -13.31678872,
          4.577596779,
          9.800001111,
          3.4
         ],
         "yaxis": "y"
        },
        {
         "hovertemplate": "Country Name=Seychelles<br>Year=%{x}<br>Nilai GDP=%{y}<extra></extra>",
         "legendgroup": "Seychelles",
         "line": {
          "color": "#19d3f3",
          "dash": "solid"
         },
         "marker": {
          "symbol": "circle"
         },
         "mode": "markers+lines",
         "name": "Seychelles",
         "showlegend": true,
         "type": "scattergl",
         "x": [
          2000,
          2001,
          2002,
          2003,
          2004,
          2005,
          2006,
          2007,
          2008,
          2009,
          2010,
          2011,
          2012,
          2013,
          2014,
          2015,
          2016,
          2017,
          2018,
          2019,
          2020,
          2021,
          2022,
          2023
         ],
         "xaxis": "x",
         "y": [
          4.253198349,
          -2.271162886,
          1.212832903,
          -5.887128488,
          -2.850453977,
          9.005761737,
          9.406128557,
          8.876066456,
          -2.725946262,
          -2.479375947,
          4.505132043,
          9.509783352,
          3.110678494,
          1.253734962,
          4.063691812,
          8.914008875,
          12.11752725,
          6.954162188,
          4.939472723,
          5.514292074,
          -11.73986083,
          0.552281631,
          14.97685133,
          3.161714355
         ],
         "yaxis": "y"
        },
        {
         "hovertemplate": "Country Name=Syrian Arab Republic<br>Year=%{x}<br>Nilai GDP=%{y}<extra></extra>",
         "legendgroup": "Syrian Arab Republic",
         "line": {
          "color": "#FF6692",
          "dash": "solid"
         },
         "marker": {
          "symbol": "circle"
         },
         "mode": "markers+lines",
         "name": "Syrian Arab Republic",
         "showlegend": true,
         "type": "scattergl",
         "x": [
          2000,
          2001,
          2002,
          2003,
          2004,
          2005,
          2006,
          2007,
          2008,
          2009,
          2010,
          2011,
          2012,
          2013,
          2014,
          2015,
          2016,
          2017,
          2018,
          2019,
          2020,
          2021,
          2022,
          2023
         ],
         "xaxis": "x",
         "y": [
          0.675642589,
          1.047287102,
          3.954831927,
          7.204435053,
          6.902959435,
          6.215077835,
          5.046195556,
          5.674591777,
          4.476672736,
          5.912042793,
          5.191905841,
          2.850002844,
          -26.33901708,
          -26.30008766,
          -10.31033991,
          -4.179791613,
          -6.405590739,
          -0.723281777,
          1.393176078,
          1.220705221,
          -0.182330467,
          1.29973809,
          0,
          0
         ],
         "yaxis": "y"
        },
        {
         "hovertemplate": "Country Name=Turks and Caicos Islands<br>Year=%{x}<br>Nilai GDP=%{y}<extra></extra>",
         "legendgroup": "Turks and Caicos Islands",
         "line": {
          "color": "#B6E880",
          "dash": "solid"
         },
         "marker": {
          "symbol": "circle"
         },
         "mode": "markers+lines",
         "name": "Turks and Caicos Islands",
         "showlegend": true,
         "type": "scattergl",
         "x": [
          2000,
          2001,
          2002,
          2003,
          2004,
          2005,
          2006,
          2007,
          2008,
          2009,
          2010,
          2011,
          2012,
          2013,
          2014,
          2015,
          2016,
          2017,
          2018,
          2019,
          2020,
          2021,
          2022,
          2023
         ],
         "xaxis": "x",
         "y": [
          0,
          0,
          0,
          0,
          0,
          0,
          0,
          0,
          0,
          0,
          0,
          0,
          -0.972299355,
          1.070877013,
          8.711296582,
          11.31483413,
          7.25118055,
          -2.5,
          5.610593584,
          5.310925248,
          -26.78293287,
          9.025497471,
          6.199999486,
          1.199996745
         ],
         "yaxis": "y"
        },
        {
         "hovertemplate": "Country Name=Chad<br>Year=%{x}<br>Nilai GDP=%{y}<extra></extra>",
         "legendgroup": "Chad",
         "line": {
          "color": "#FF97FF",
          "dash": "solid"
         },
         "marker": {
          "symbol": "circle"
         },
         "mode": "markers+lines",
         "name": "Chad",
         "showlegend": true,
         "type": "scattergl",
         "x": [
          2000,
          2001,
          2002,
          2003,
          2004,
          2005,
          2006,
          2007,
          2008,
          2009,
          2010,
          2011,
          2012,
          2013,
          2014,
          2015,
          2016,
          2017,
          2018,
          2019,
          2020,
          2021,
          2022,
          2023
         ],
         "xaxis": "x",
         "y": [
          -0.879681025,
          11.65813465,
          8.491209819,
          14.72166701,
          33.62937185,
          17.33253374,
          0.648262014,
          3.271499579,
          3.052691532,
          4.217695552,
          13.55010086,
          0.082869798,
          8.882576072,
          5.700001363,
          6.899985045,
          2.767675685,
          -6.255527085,
          -2.988695986,
          2.3740378,
          3.247181917,
          -1.600006737,
          -1.169187004,
          2.804340748,
          4.12231962
         ],
         "yaxis": "y"
        },
        {
         "hovertemplate": "Country Name=East Asia & Pacific (IDA & IBRD countries)<br>Year=%{x}<br>Nilai GDP=%{y}<extra></extra>",
         "legendgroup": "East Asia & Pacific (IDA & IBRD countries)",
         "line": {
          "color": "#FECB52",
          "dash": "solid"
         },
         "marker": {
          "symbol": "circle"
         },
         "mode": "markers+lines",
         "name": "East Asia & Pacific (IDA & IBRD countries)",
         "showlegend": true,
         "type": "scattergl",
         "x": [
          2000,
          2001,
          2002,
          2003,
          2004,
          2005,
          2006,
          2007,
          2008,
          2009,
          2010,
          2011,
          2012,
          2013,
          2014,
          2015,
          2016,
          2017,
          2018,
          2019,
          2020,
          2021,
          2022,
          2023
         ],
         "xaxis": "x",
         "y": [
          7.645687238,
          6.979258015,
          8.059761895,
          8.943951955,
          9.120906745,
          9.976506063,
          11.07786748,
          12.48615504,
          8.615412673,
          7.98436894,
          9.921082014,
          8.642897731,
          7.580237738,
          7.298464151,
          6.984349737,
          6.707200956,
          6.56457371,
          6.70740565,
          6.524842607,
          5.781820856,
          1.246781819,
          7.603419691,
          3.413565509,
          5.068445549
         ],
         "yaxis": "y"
        },
        {
         "hovertemplate": "Country Name=Europe & Central Asia (IDA & IBRD countries)<br>Year=%{x}<br>Nilai GDP=%{y}<extra></extra>",
         "legendgroup": "Europe & Central Asia (IDA & IBRD countries)",
         "line": {
          "color": "#636efa",
          "dash": "solid"
         },
         "marker": {
          "symbol": "circle"
         },
         "mode": "markers+lines",
         "name": "Europe & Central Asia (IDA & IBRD countries)",
         "showlegend": true,
         "type": "scattergl",
         "x": [
          2000,
          2001,
          2002,
          2003,
          2004,
          2005,
          2006,
          2007,
          2008,
          2009,
          2010,
          2011,
          2012,
          2013,
          2014,
          2015,
          2016,
          2017,
          2018,
          2019,
          2020,
          2021,
          2022,
          2023
         ],
         "xaxis": "x",
         "y": [
          7.359705758,
          2.593087553,
          5.011978403,
          6.181247349,
          7.868131866,
          6.643260645,
          7.853186716,
          7.627536584,
          4.456298034,
          -4.67251564,
          4.63262463,
          5.9284834,
          3.456022865,
          3.391505682,
          2.337771273,
          1.488157234,
          1.852506463,
          4.292532146,
          3.694719368,
          2.65714284,
          -1.462895369,
          7.386468165,
          1.767977505,
          3.444980206
         ],
         "yaxis": "y"
        },
        {
         "hovertemplate": "Country Name=Togo<br>Year=%{x}<br>Nilai GDP=%{y}<extra></extra>",
         "legendgroup": "Togo",
         "line": {
          "color": "#EF553B",
          "dash": "solid"
         },
         "marker": {
          "symbol": "circle"
         },
         "mode": "markers+lines",
         "name": "Togo",
         "showlegend": true,
         "type": "scattergl",
         "x": [
          2000,
          2001,
          2002,
          2003,
          2004,
          2005,
          2006,
          2007,
          2008,
          2009,
          2010,
          2011,
          2012,
          2013,
          2014,
          2015,
          2016,
          2017,
          2018,
          2019,
          2020,
          2021,
          2022,
          2023
         ],
         "xaxis": "x",
         "y": [
          -0.783479606,
          0.823438749,
          3.82662258,
          6.720171423,
          -0.978665335,
          -4.666299382,
          2.6501321,
          -1.175120391,
          4.035645273,
          5.453823994,
          5.854352693,
          5.823252239,
          6.30269542,
          5.824265834,
          5.633240217,
          5.468031293,
          4.214895609,
          4.008133262,
          4.79506027,
          4.922925917,
          1.992155019,
          5.990876104,
          5.759542515,
          6.407922156
         ],
         "yaxis": "y"
        },
        {
         "hovertemplate": "Country Name=Thailand<br>Year=%{x}<br>Nilai GDP=%{y}<extra></extra>",
         "legendgroup": "Thailand",
         "line": {
          "color": "#00cc96",
          "dash": "solid"
         },
         "marker": {
          "symbol": "circle"
         },
         "mode": "markers+lines",
         "name": "Thailand",
         "showlegend": true,
         "type": "scattergl",
         "x": [
          2000,
          2001,
          2002,
          2003,
          2004,
          2005,
          2006,
          2007,
          2008,
          2009,
          2010,
          2011,
          2012,
          2013,
          2014,
          2015,
          2016,
          2017,
          2018,
          2019,
          2020,
          2021,
          2022,
          2023
         ],
         "xaxis": "x",
         "y": [
          4.455247043,
          3.44424901,
          6.149036052,
          7.189243303,
          6.289342143,
          4.187638429,
          4.967810892,
          5.435151691,
          1.725698849,
          -0.690618232,
          7.513390533,
          0.840132083,
          7.242796202,
          2.687495563,
          0.984468864,
          3.134047249,
          3.435157717,
          4.177681032,
          4.222870287,
          2.114557796,
          -6.050038469,
          1.568181765,
          2.462769341,
          1.882817461
         ],
         "yaxis": "y"
        },
        {
         "hovertemplate": "Country Name=Tajikistan<br>Year=%{x}<br>Nilai GDP=%{y}<extra></extra>",
         "legendgroup": "Tajikistan",
         "line": {
          "color": "#ab63fa",
          "dash": "solid"
         },
         "marker": {
          "symbol": "circle"
         },
         "mode": "markers+lines",
         "name": "Tajikistan",
         "showlegend": true,
         "type": "scattergl",
         "x": [
          2000,
          2001,
          2002,
          2003,
          2004,
          2005,
          2006,
          2007,
          2008,
          2009,
          2010,
          2011,
          2012,
          2013,
          2014,
          2015,
          2016,
          2017,
          2018,
          2019,
          2020,
          2021,
          2022,
          2023
         ],
         "xaxis": "x",
         "y": [
          8.324324495,
          9.580836178,
          10.80000376,
          10.99999908,
          10.29999894,
          6.699998517,
          7.000003211,
          7.800000119,
          7.899998272,
          3.900001148,
          6.499999086,
          7.4000006,
          7.499999463,
          7.399999747,
          6.70000069,
          6.019303318,
          6.9,
          7.100000419,
          7.59999889,
          7.400000163,
          4.400001116,
          9.39999955,
          8.000000338,
          8.299999217
         ],
         "yaxis": "y"
        },
        {
         "hovertemplate": "Country Name=Turkmenistan<br>Year=%{x}<br>Nilai GDP=%{y}<extra></extra>",
         "legendgroup": "Turkmenistan",
         "line": {
          "color": "#FFA15A",
          "dash": "solid"
         },
         "marker": {
          "symbol": "circle"
         },
         "mode": "markers+lines",
         "name": "Turkmenistan",
         "showlegend": true,
         "type": "scattergl",
         "x": [
          2000,
          2001,
          2002,
          2003,
          2004,
          2005,
          2006,
          2007,
          2008,
          2009,
          2010,
          2011,
          2012,
          2013,
          2014,
          2015,
          2016,
          2017,
          2018,
          2019,
          2020,
          2021,
          2022,
          2023
         ],
         "xaxis": "x",
         "y": [
          5.469064133,
          4.343845714,
          0.257179925,
          3.26882856,
          5.000407438,
          13.03403487,
          10.97330833,
          11.05929947,
          14.7,
          6.100000115,
          9.199999988,
          14.69999993,
          11.09999996,
          10.2000001,
          10.29999997,
          6.49999991,
          6.199999966,
          6.500000047,
          6.199999941,
          6.300000042,
          5.9,
          6.2,
          6.2,
          6.3
         ],
         "yaxis": "y"
        },
        {
         "hovertemplate": "Country Name=Latin America & the Caribbean (IDA & IBRD countries)<br>Year=%{x}<br>Nilai GDP=%{y}<extra></extra>",
         "legendgroup": "Latin America & the Caribbean (IDA & IBRD countries)",
         "line": {
          "color": "#19d3f3",
          "dash": "solid"
         },
         "marker": {
          "symbol": "circle"
         },
         "mode": "markers+lines",
         "name": "Latin America & the Caribbean (IDA & IBRD countries)",
         "showlegend": true,
         "type": "scattergl",
         "x": [
          2000,
          2001,
          2002,
          2003,
          2004,
          2005,
          2006,
          2007,
          2008,
          2009,
          2010,
          2011,
          2012,
          2013,
          2014,
          2015,
          2016,
          2017,
          2018,
          2019,
          2020,
          2021,
          2022,
          2023
         ],
         "xaxis": "x",
         "y": [
          3.583625152,
          0.225615996,
          0.429432216,
          2.5338274,
          5.345778339,
          4.027456181,
          5.238693447,
          5.350299612,
          3.809845206,
          -2.329841257,
          6.678853597,
          4.56888315,
          2.64061793,
          2.853071498,
          1.398305551,
          0.366253546,
          -0.336265483,
          1.991241006,
          1.67447249,
          0.717567356,
          -6.566986284,
          7.200832128,
          4.007587993,
          2.180328956
         ],
         "yaxis": "y"
        },
        {
         "hovertemplate": "Country Name=Timor-Leste<br>Year=%{x}<br>Nilai GDP=%{y}<extra></extra>",
         "legendgroup": "Timor-Leste",
         "line": {
          "color": "#FF6692",
          "dash": "solid"
         },
         "marker": {
          "symbol": "circle"
         },
         "mode": "markers+lines",
         "name": "Timor-Leste",
         "showlegend": true,
         "type": "scattergl",
         "x": [
          2000,
          2001,
          2002,
          2003,
          2004,
          2005,
          2006,
          2007,
          2008,
          2009,
          2010,
          2011,
          2012,
          2013,
          2014,
          2015,
          2016,
          2017,
          2018,
          2019,
          2020,
          2021,
          2022,
          2023
         ],
         "xaxis": "x",
         "y": [
          58.07810778,
          16.35138092,
          -6.703651824,
          -2.182264132,
          0.400003981,
          2.984579638,
          -4.116092689,
          10.26538845,
          11.39480483,
          10.14695442,
          9.331511766,
          5.958539712,
          4.860621868,
          3.104366832,
          4.472498466,
          2.797266112,
          3.368174828,
          -3.144570024,
          -0.692800736,
          23.41201676,
          31.96191887,
          5.315537431,
          -20.54158677,
          -14.35835699
         ],
         "yaxis": "y"
        },
        {
         "hovertemplate": "Country Name=Middle East & North Africa (IDA & IBRD countries)<br>Year=%{x}<br>Nilai GDP=%{y}<extra></extra>",
         "legendgroup": "Middle East & North Africa (IDA & IBRD countries)",
         "line": {
          "color": "#B6E880",
          "dash": "solid"
         },
         "marker": {
          "symbol": "circle"
         },
         "mode": "markers+lines",
         "name": "Middle East & North Africa (IDA & IBRD countries)",
         "showlegend": true,
         "type": "scattergl",
         "x": [
          2000,
          2001,
          2002,
          2003,
          2004,
          2005,
          2006,
          2007,
          2008,
          2009,
          2010,
          2011,
          2012,
          2013,
          2014,
          2015,
          2016,
          2017,
          2018,
          2019,
          2020,
          2021,
          2022,
          2023
         ],
         "xaxis": "x",
         "y": [
          6.167476385,
          2.869408851,
          3.251860068,
          2.213089345,
          7.635820054,
          4.420629413,
          5.32741953,
          6.031942918,
          3.68896402,
          2.505556336,
          5.355577403,
          -1.026354065,
          3.534235777,
          0.417305134,
          1.844591795,
          0.694157745,
          5.367841545,
          3.138946938,
          1.82359039,
          1.11023485,
          -4.335204818,
          6.214089095,
          4.414321615,
          2.802812772
         ],
         "yaxis": "y"
        },
        {
         "hovertemplate": "Country Name=Tonga<br>Year=%{x}<br>Nilai GDP=%{y}<extra></extra>",
         "legendgroup": "Tonga",
         "line": {
          "color": "#FF97FF",
          "dash": "solid"
         },
         "marker": {
          "symbol": "circle"
         },
         "mode": "markers+lines",
         "name": "Tonga",
         "showlegend": true,
         "type": "scattergl",
         "x": [
          2000,
          2001,
          2002,
          2003,
          2004,
          2005,
          2006,
          2007,
          2008,
          2009,
          2010,
          2011,
          2012,
          2013,
          2014,
          2015,
          2016,
          2017,
          2018,
          2019,
          2020,
          2021,
          2022,
          2023
         ],
         "xaxis": "x",
         "y": [
          0.875990063,
          3.748925693,
          4.848012814,
          2.308045494,
          -2.410700609,
          0.081033894,
          -0.148635323,
          0.271095291,
          4.750169656,
          -5.199109037,
          0.803490183,
          6.818276144,
          0.823102718,
          0.312307909,
          2.01870046,
          1.171888256,
          6.571000501,
          3.322432544,
          0.24122796,
          0.706483434,
          0.488645323,
          -2.667506175,
          -2.011520563,
          0
         ],
         "yaxis": "y"
        },
        {
         "hovertemplate": "Country Name=South Asia (IDA & IBRD)<br>Year=%{x}<br>Nilai GDP=%{y}<extra></extra>",
         "legendgroup": "South Asia (IDA & IBRD)",
         "line": {
          "color": "#FECB52",
          "dash": "solid"
         },
         "marker": {
          "symbol": "circle"
         },
         "mode": "markers+lines",
         "name": "South Asia (IDA & IBRD)",
         "showlegend": true,
         "type": "scattergl",
         "x": [
          2000,
          2001,
          2002,
          2003,
          2004,
          2005,
          2006,
          2007,
          2008,
          2009,
          2010,
          2011,
          2012,
          2013,
          2014,
          2015,
          2016,
          2017,
          2018,
          2019,
          2020,
          2021,
          2022,
          2023
         ],
         "xaxis": "x",
         "y": [
          4.112449812,
          4.35912767,
          3.721075351,
          7.176071101,
          7.548722986,
          7.612733442,
          7.618528801,
          7.139166126,
          3.298104994,
          6.949900159,
          7.365992009,
          5.071221948,
          5.381289736,
          6.008601615,
          6.847837891,
          7.251561624,
          7.776235507,
          6.502640993,
          6.334693554,
          3.92432284,
          -4.582693129,
          8.76382055,
          6.312211692,
          6.35285494
         ],
         "yaxis": "y"
        },
        {
         "hovertemplate": "Country Name=Sub-Saharan Africa (IDA & IBRD countries)<br>Year=%{x}<br>Nilai GDP=%{y}<extra></extra>",
         "legendgroup": "Sub-Saharan Africa (IDA & IBRD countries)",
         "line": {
          "color": "#636efa",
          "dash": "solid"
         },
         "marker": {
          "symbol": "circle"
         },
         "mode": "markers+lines",
         "name": "Sub-Saharan Africa (IDA & IBRD countries)",
         "showlegend": true,
         "type": "scattergl",
         "x": [
          2000,
          2001,
          2002,
          2003,
          2004,
          2005,
          2006,
          2007,
          2008,
          2009,
          2010,
          2011,
          2012,
          2013,
          2014,
          2015,
          2016,
          2017,
          2018,
          2019,
          2020,
          2021,
          2022,
          2023
         ],
         "xaxis": "x",
         "y": [
          3.478123727,
          4.198461361,
          6.331164751,
          4.050089793,
          6.60196092,
          6.018879164,
          6.055864144,
          6.16224217,
          5.189440688,
          3.180480862,
          5.995572687,
          4.414404934,
          3.25824844,
          5.090440548,
          4.87076022,
          2.920373883,
          1.242037176,
          2.484283288,
          2.754967058,
          2.65974505,
          -1.966894827,
          4.264936892,
          3.660562423,
          2.955095532
         ],
         "yaxis": "y"
        },
        {
         "hovertemplate": "Country Name=Trinidad and Tobago<br>Year=%{x}<br>Nilai GDP=%{y}<extra></extra>",
         "legendgroup": "Trinidad and Tobago",
         "line": {
          "color": "#EF553B",
          "dash": "solid"
         },
         "marker": {
          "symbol": "circle"
         },
         "mode": "markers+lines",
         "name": "Trinidad and Tobago",
         "showlegend": true,
         "type": "scattergl",
         "x": [
          2000,
          2001,
          2002,
          2003,
          2004,
          2005,
          2006,
          2007,
          2008,
          2009,
          2010,
          2011,
          2012,
          2013,
          2014,
          2015,
          2016,
          2017,
          2018,
          2019,
          2020,
          2021,
          2022,
          2023
         ],
         "xaxis": "x",
         "y": [
          6.901359591,
          4.168523982,
          7.936709687,
          14.44098954,
          7.950051511,
          6.20893788,
          13.20805861,
          4.754209701,
          3.391737078,
          -4.391729247,
          3.32322471,
          -0.294354409,
          7.446820893,
          3.531787373,
          3.853635483,
          -0.777459952,
          -7.527137422,
          -4.800828429,
          -0.602464842,
          0.361272406,
          -9.077876893,
          -1.03742621,
          1.48223484,
          2.10324545
         ],
         "yaxis": "y"
        },
        {
         "hovertemplate": "Country Name=Tunisia<br>Year=%{x}<br>Nilai GDP=%{y}<extra></extra>",
         "legendgroup": "Tunisia",
         "line": {
          "color": "#00cc96",
          "dash": "solid"
         },
         "marker": {
          "symbol": "circle"
         },
         "mode": "markers+lines",
         "name": "Tunisia",
         "showlegend": true,
         "type": "scattergl",
         "x": [
          2000,
          2001,
          2002,
          2003,
          2004,
          2005,
          2006,
          2007,
          2008,
          2009,
          2010,
          2011,
          2012,
          2013,
          2014,
          2015,
          2016,
          2017,
          2018,
          2019,
          2020,
          2021,
          2022,
          2023
         ],
         "xaxis": "x",
         "y": [
          4.709972914,
          3.796271662,
          1.322557148,
          4.702399533,
          6.235790722,
          3.486545543,
          5.244099832,
          6.709520975,
          4.237781475,
          3.043450124,
          2.971132751,
          -2.046633895,
          4.216677115,
          2.429930964,
          3.090328031,
          0.967703108,
          1.117425949,
          2.23783868,
          2.624930109,
          1.587846655,
          -8.59182618,
          4.605186743,
          2.603960589,
          0.423648408
         ],
         "yaxis": "y"
        },
        {
         "hovertemplate": "Country Name=Turkiye<br>Year=%{x}<br>Nilai GDP=%{y}<extra></extra>",
         "legendgroup": "Turkiye",
         "line": {
          "color": "#ab63fa",
          "dash": "solid"
         },
         "marker": {
          "symbol": "circle"
         },
         "mode": "markers+lines",
         "name": "Turkiye",
         "showlegend": true,
         "type": "scattergl",
         "x": [
          2000,
          2001,
          2002,
          2003,
          2004,
          2005,
          2006,
          2007,
          2008,
          2009,
          2010,
          2011,
          2012,
          2013,
          2014,
          2015,
          2016,
          2017,
          2018,
          2019,
          2020,
          2021,
          2022,
          2023
         ],
         "xaxis": "x",
         "y": [
          6.933239705,
          -5.750006555,
          6.447722047,
          5.763206067,
          9.795936389,
          8.992304936,
          6.947988086,
          5.043507932,
          0.815024573,
          -4.823153953,
          8.427104323,
          11.20011058,
          4.788492711,
          8.485816997,
          4.939715161,
          6.084486904,
          3.323084208,
          7.501997489,
          3.013179908,
          0.818525936,
          1.85983969,
          11.43938474,
          5.533469266,
          4.516866508
         ],
         "yaxis": "y"
        },
        {
         "hovertemplate": "Country Name=Tuvalu<br>Year=%{x}<br>Nilai GDP=%{y}<extra></extra>",
         "legendgroup": "Tuvalu",
         "line": {
          "color": "#FFA15A",
          "dash": "solid"
         },
         "marker": {
          "symbol": "circle"
         },
         "mode": "markers+lines",
         "name": "Tuvalu",
         "showlegend": true,
         "type": "scattergl",
         "x": [
          2000,
          2001,
          2002,
          2003,
          2004,
          2005,
          2006,
          2007,
          2008,
          2009,
          2010,
          2011,
          2012,
          2013,
          2014,
          2015,
          2016,
          2017,
          2018,
          2019,
          2020,
          2021,
          2022,
          2023
         ],
         "xaxis": "x",
         "y": [
          -0.970489206,
          0,
          9.523809524,
          -4.347826087,
          -2.272727273,
          -4.651162791,
          2.43902439,
          7.142857143,
          6.666666667,
          -6.25,
          -2.222222222,
          6.818181818,
          -2.127659574,
          4.347826087,
          0,
          10.41666667,
          5.660377358,
          2.448392857,
          1.387283842,
          13.82209844,
          -4.274932069,
          1.804135911,
          0.677309361,
          3.852809195
         ],
         "yaxis": "y"
        },
        {
         "hovertemplate": "Country Name=Tanzania<br>Year=%{x}<br>Nilai GDP=%{y}<extra></extra>",
         "legendgroup": "Tanzania",
         "line": {
          "color": "#19d3f3",
          "dash": "solid"
         },
         "marker": {
          "symbol": "circle"
         },
         "mode": "markers+lines",
         "name": "Tanzania",
         "showlegend": true,
         "type": "scattergl",
         "x": [
          2000,
          2001,
          2002,
          2003,
          2004,
          2005,
          2006,
          2007,
          2008,
          2009,
          2010,
          2011,
          2012,
          2013,
          2014,
          2015,
          2016,
          2017,
          2018,
          2019,
          2020,
          2021,
          2022,
          2023
         ],
         "xaxis": "x",
         "y": [
          4.520784636,
          6.070808287,
          7.093194984,
          6.672789831,
          7.503814659,
          7.47631926,
          6.532221388,
          6.768535203,
          5.686416859,
          5.269105249,
          6.336523427,
          7.672155435,
          4.50015356,
          6.781585601,
          6.732461868,
          6.160628774,
          6.867116196,
          6.762277168,
          5.468081815,
          5.8,
          1.991964606,
          4.321384295,
          4.566005764,
          5.188056392
         ],
         "yaxis": "y"
        },
        {
         "hovertemplate": "Country Name=Uganda<br>Year=%{x}<br>Nilai GDP=%{y}<extra></extra>",
         "legendgroup": "Uganda",
         "line": {
          "color": "#FF6692",
          "dash": "solid"
         },
         "marker": {
          "symbol": "circle"
         },
         "mode": "markers+lines",
         "name": "Uganda",
         "showlegend": true,
         "type": "scattergl",
         "x": [
          2000,
          2001,
          2002,
          2003,
          2004,
          2005,
          2006,
          2007,
          2008,
          2009,
          2010,
          2011,
          2012,
          2013,
          2014,
          2015,
          2016,
          2017,
          2018,
          2019,
          2020,
          2021,
          2022,
          2023
         ],
         "xaxis": "x",
         "y": [
          3.141907338,
          5.183661125,
          8.732685764,
          6.473258672,
          6.807233344,
          6.332565116,
          10.78474439,
          8.412425966,
          8.708751902,
          6.801517349,
          5.637611637,
          9.391655493,
          3.837455606,
          3.586905826,
          5.106307325,
          5.18785986,
          4.781000293,
          3.131405517,
          6.303923783,
          6.438745033,
          2.951306422,
          3.536580341,
          4.588021922,
          5.231874106
         ],
         "yaxis": "y"
        },
        {
         "hovertemplate": "Country Name=Ukraine<br>Year=%{x}<br>Nilai GDP=%{y}<extra></extra>",
         "legendgroup": "Ukraine",
         "line": {
          "color": "#B6E880",
          "dash": "solid"
         },
         "marker": {
          "symbol": "circle"
         },
         "mode": "markers+lines",
         "name": "Ukraine",
         "showlegend": true,
         "type": "scattergl",
         "x": [
          2000,
          2001,
          2002,
          2003,
          2004,
          2005,
          2006,
          2007,
          2008,
          2009,
          2010,
          2011,
          2012,
          2013,
          2014,
          2015,
          2016,
          2017,
          2018,
          2019,
          2020,
          2021,
          2022,
          2023
         ],
         "xaxis": "x",
         "y": [
          5.9,
          8.800000004,
          5.339647207,
          9.516609864,
          11.79535253,
          3.071230392,
          7.571420763,
          8.215844452,
          2.243491596,
          -15.13646791,
          4.092004367,
          5.44528081,
          0.152314967,
          0.045439094,
          -10.07889498,
          -9.772987213,
          2.440981945,
          2.359972281,
          3.48836234,
          3.199503864,
          -3.7528041,
          3.445625583,
          -28.75859059,
          5.3
         ],
         "yaxis": "y"
        },
        {
         "hovertemplate": "Country Name=Upper middle income<br>Year=%{x}<br>Nilai GDP=%{y}<extra></extra>",
         "legendgroup": "Upper middle income",
         "line": {
          "color": "#FF97FF",
          "dash": "solid"
         },
         "marker": {
          "symbol": "circle"
         },
         "mode": "markers+lines",
         "name": "Upper middle income",
         "showlegend": true,
         "type": "scattergl",
         "x": [
          2000,
          2001,
          2002,
          2003,
          2004,
          2005,
          2006,
          2007,
          2008,
          2009,
          2010,
          2011,
          2012,
          2013,
          2014,
          2015,
          2016,
          2017,
          2018,
          2019,
          2020,
          2021,
          2022,
          2023
         ],
         "xaxis": "x",
         "y": [
          5.956787058,
          3.419857338,
          4.787569658,
          5.869696069,
          7.856579991,
          7.499816064,
          8.600667976,
          9.408707134,
          6.265373345,
          3.469426753,
          8.524987215,
          6.941376612,
          5.761103229,
          5.635448934,
          4.935373401,
          4.546013073,
          4.577742128,
          5.354743353,
          4.903968916,
          4.090175839,
          -0.594393798,
          7.722301874,
          3.357154093,
          4.346249275
         ],
         "yaxis": "y"
        },
        {
         "hovertemplate": "Country Name=Uruguay<br>Year=%{x}<br>Nilai GDP=%{y}<extra></extra>",
         "legendgroup": "Uruguay",
         "line": {
          "color": "#FECB52",
          "dash": "solid"
         },
         "marker": {
          "symbol": "circle"
         },
         "mode": "markers+lines",
         "name": "Uruguay",
         "showlegend": true,
         "type": "scattergl",
         "x": [
          2000,
          2001,
          2002,
          2003,
          2004,
          2005,
          2006,
          2007,
          2008,
          2009,
          2010,
          2011,
          2012,
          2013,
          2014,
          2015,
          2016,
          2017,
          2018,
          2019,
          2020,
          2021,
          2022,
          2023
         ],
         "xaxis": "x",
         "y": [
          -1.929930635,
          -3.844129959,
          -7.732007215,
          0.805283916,
          5.004160356,
          7.46013213,
          4.098577354,
          6.541510845,
          7.176144665,
          4.243494195,
          7.803409651,
          5.162133025,
          3.538178721,
          4.637538629,
          3.23879123,
          0.370741258,
          1.689798159,
          1.740376493,
          0.164518267,
          0.928565543,
          -7.380098841,
          5.561892793,
          4.707257615,
          0.367475176
         ],
         "yaxis": "y"
        },
        {
         "hovertemplate": "Country Name=United States<br>Year=%{x}<br>Nilai GDP=%{y}<extra></extra>",
         "legendgroup": "United States",
         "line": {
          "color": "#636efa",
          "dash": "solid"
         },
         "marker": {
          "symbol": "circle"
         },
         "mode": "markers+lines",
         "name": "United States",
         "showlegend": true,
         "type": "scattergl",
         "x": [
          2000,
          2001,
          2002,
          2003,
          2004,
          2005,
          2006,
          2007,
          2008,
          2009,
          2010,
          2011,
          2012,
          2013,
          2014,
          2015,
          2016,
          2017,
          2018,
          2019,
          2020,
          2021,
          2022,
          2023
         ],
         "xaxis": "x",
         "y": [
          4.077585758,
          0.955538346,
          1.700447324,
          2.795605966,
          3.847771692,
          3.483549938,
          2.784539639,
          2.003858298,
          0.113587248,
          -2.576500234,
          2.695192584,
          1.564406854,
          2.289113388,
          2.117830099,
          2.523819814,
          2.945550455,
          1.819451475,
          2.457622304,
          2.966505071,
          2.467037563,
          -2.213469333,
          5.800206128,
          1.935495895,
          2.542700299
         ],
         "yaxis": "y"
        },
        {
         "hovertemplate": "Country Name=Uzbekistan<br>Year=%{x}<br>Nilai GDP=%{y}<extra></extra>",
         "legendgroup": "Uzbekistan",
         "line": {
          "color": "#EF553B",
          "dash": "solid"
         },
         "marker": {
          "symbol": "circle"
         },
         "mode": "markers+lines",
         "name": "Uzbekistan",
         "showlegend": true,
         "type": "scattergl",
         "x": [
          2000,
          2001,
          2002,
          2003,
          2004,
          2005,
          2006,
          2007,
          2008,
          2009,
          2010,
          2011,
          2012,
          2013,
          2014,
          2015,
          2016,
          2017,
          2018,
          2019,
          2020,
          2021,
          2022,
          2023
         ],
         "xaxis": "x",
         "y": [
          3.835,
          4.16383825,
          3.973488192,
          4.232627382,
          7.449000606,
          6.950007196,
          7.451418476,
          9.473005305,
          9.029161018,
          8.050933327,
          7.597167961,
          7.525139894,
          7.102444888,
          7.296550369,
          6.873838446,
          7.218773503,
          5.932150802,
          4.395274635,
          5.879742867,
          5.981561942,
          1.995585082,
          7.403368136,
          5.668817055,
          5.988975806
         ],
         "yaxis": "y"
        },
        {
         "hovertemplate": "Country Name=St. Vincent and the Grenadines<br>Year=%{x}<br>Nilai GDP=%{y}<extra></extra>",
         "legendgroup": "St. Vincent and the Grenadines",
         "line": {
          "color": "#00cc96",
          "dash": "solid"
         },
         "marker": {
          "symbol": "circle"
         },
         "mode": "markers+lines",
         "name": "St. Vincent and the Grenadines",
         "showlegend": true,
         "type": "scattergl",
         "x": [
          2000,
          2001,
          2002,
          2003,
          2004,
          2005,
          2006,
          2007,
          2008,
          2009,
          2010,
          2011,
          2012,
          2013,
          2014,
          2015,
          2016,
          2017,
          2018,
          2019,
          2020,
          2021,
          2022,
          2023
         ],
         "xaxis": "x",
         "y": [
          1.639031904,
          1.74823102,
          5.342127074,
          6.691336654,
          4.114698804,
          2.488557339,
          6.996926268,
          3.322968598,
          0.404640809,
          -1.378193606,
          -4.470467935,
          -0.606276651,
          1.169112184,
          2.462484172,
          1.250254369,
          2.783161194,
          4.145931682,
          1.448830634,
          3.175611442,
          0.661727444,
          -3.739145992,
          0.75379708,
          7.159832866,
          6.016109145
         ],
         "yaxis": "y"
        },
        {
         "hovertemplate": "Country Name=Venezuela, RB<br>Year=%{x}<br>Nilai GDP=%{y}<extra></extra>",
         "legendgroup": "Venezuela, RB",
         "line": {
          "color": "#ab63fa",
          "dash": "solid"
         },
         "marker": {
          "symbol": "circle"
         },
         "mode": "markers+lines",
         "name": "Venezuela, RB",
         "showlegend": true,
         "type": "scattergl",
         "x": [
          2000,
          2001,
          2002,
          2003,
          2004,
          2005,
          2006,
          2007,
          2008,
          2009,
          2010,
          2011,
          2012,
          2013,
          2014,
          2015,
          2016,
          2017,
          2018,
          2019,
          2020,
          2021,
          2022,
          2023
         ],
         "xaxis": "x",
         "y": [
          3.686944167,
          3.394236108,
          -8.855647353,
          -7.75530005,
          18.28660669,
          10.3179138,
          9.872149109,
          8.753578808,
          5.277854124,
          -3.202302657,
          -1.488791251,
          4.176425359,
          5.625956975,
          1.343094036,
          -3.894386475,
          0,
          0,
          0,
          0,
          0,
          0,
          0,
          0,
          0
         ],
         "yaxis": "y"
        },
        {
         "hovertemplate": "Country Name=British Virgin Islands<br>Year=%{x}<br>Nilai GDP=%{y}<extra></extra>",
         "legendgroup": "British Virgin Islands",
         "line": {
          "color": "#FFA15A",
          "dash": "solid"
         },
         "marker": {
          "symbol": "circle"
         },
         "mode": "markers+lines",
         "name": "British Virgin Islands",
         "showlegend": true,
         "type": "scattergl",
         "x": [
          2000,
          2001,
          2002,
          2003,
          2004,
          2005,
          2006,
          2007,
          2008,
          2009,
          2010,
          2011,
          2012,
          2013,
          2014,
          2015,
          2016,
          2017,
          2018,
          2019,
          2020,
          2021,
          2022,
          2023
         ],
         "xaxis": "x",
         "y": [
          0,
          0,
          0,
          0,
          0,
          0,
          0,
          0,
          0,
          0,
          0,
          0,
          0,
          0,
          0,
          0,
          0,
          0,
          0,
          0,
          0,
          0,
          0,
          0
         ],
         "yaxis": "y"
        },
        {
         "hovertemplate": "Country Name=Virgin Islands (U.S.)<br>Year=%{x}<br>Nilai GDP=%{y}<extra></extra>",
         "legendgroup": "Virgin Islands (U.S.)",
         "line": {
          "color": "#19d3f3",
          "dash": "solid"
         },
         "marker": {
          "symbol": "circle"
         },
         "mode": "markers+lines",
         "name": "Virgin Islands (U.S.)",
         "showlegend": true,
         "type": "scattergl",
         "x": [
          2000,
          2001,
          2002,
          2003,
          2004,
          2005,
          2006,
          2007,
          2008,
          2009,
          2010,
          2011,
          2012,
          2013,
          2014,
          2015,
          2016,
          2017,
          2018,
          2019,
          2020,
          2021,
          2022,
          2023
         ],
         "xaxis": "x",
         "y": [
          0,
          0,
          0,
          -0.396080884,
          3.285893679,
          3.485309017,
          3.504993147,
          4.010594022,
          1.218624955,
          -6.594788859,
          0.596383224,
          -8.204245554,
          -14.8125,
          -6.285155295,
          -1.774530271,
          -0.425079702,
          1.600853789,
          -0.735294118,
          1.904761905,
          2.933541018,
          -1.916771753,
          2.854204166,
          0,
          0
         ],
         "yaxis": "y"
        },
        {
         "hovertemplate": "Country Name=Viet Nam<br>Year=%{x}<br>Nilai GDP=%{y}<extra></extra>",
         "legendgroup": "Viet Nam",
         "line": {
          "color": "#FF6692",
          "dash": "solid"
         },
         "marker": {
          "symbol": "circle"
         },
         "mode": "markers+lines",
         "name": "Viet Nam",
         "showlegend": true,
         "type": "scattergl",
         "x": [
          2000,
          2001,
          2002,
          2003,
          2004,
          2005,
          2006,
          2007,
          2008,
          2009,
          2010,
          2011,
          2012,
          2013,
          2014,
          2015,
          2016,
          2017,
          2018,
          2019,
          2020,
          2021,
          2022,
          2023
         ],
         "xaxis": "x",
         "y": [
          6.787316405,
          6.192893312,
          6.320820992,
          6.899063491,
          7.536410609,
          7.547247729,
          6.977954811,
          7.129504486,
          5.661771209,
          5.39789754,
          6.423244822,
          6.413168897,
          5.504544704,
          5.55351081,
          6.422243121,
          6.987154306,
          6.690008927,
          6.940190374,
          7.465006856,
          7.359262701,
          2.865413209,
          2.553728526,
          8.123514468,
          5.046430736
         ],
         "yaxis": "y"
        },
        {
         "hovertemplate": "Country Name=Vanuatu<br>Year=%{x}<br>Nilai GDP=%{y}<extra></extra>",
         "legendgroup": "Vanuatu",
         "line": {
          "color": "#B6E880",
          "dash": "solid"
         },
         "marker": {
          "symbol": "circle"
         },
         "mode": "markers+lines",
         "name": "Vanuatu",
         "showlegend": true,
         "type": "scattergl",
         "x": [
          2000,
          2001,
          2002,
          2003,
          2004,
          2005,
          2006,
          2007,
          2008,
          2009,
          2010,
          2011,
          2012,
          2013,
          2014,
          2015,
          2016,
          2017,
          2018,
          2019,
          2020,
          2021,
          2022,
          2023
         ],
         "xaxis": "x",
         "y": [
          5.924809057,
          -3.397582489,
          -5.198318759,
          4.288335117,
          3.987392802,
          5.305326473,
          8.460697472,
          2.875892288,
          5.600991821,
          3.037303541,
          1.258867203,
          3.1398029,
          1.010047687,
          0.463390415,
          3.136867294,
          0.366522075,
          4.688756366,
          6.317305384,
          2.900230273,
          3.241187655,
          -4.992491429,
          -1.552294891,
          1.916057012,
          2.212941771
         ],
         "yaxis": "y"
        },
        {
         "hovertemplate": "Country Name=World<br>Year=%{x}<br>Nilai GDP=%{y}<extra></extra>",
         "legendgroup": "World",
         "line": {
          "color": "#FF97FF",
          "dash": "solid"
         },
         "marker": {
          "symbol": "circle"
         },
         "mode": "markers+lines",
         "name": "World",
         "showlegend": true,
         "type": "scattergl",
         "x": [
          2000,
          2001,
          2002,
          2003,
          2004,
          2005,
          2006,
          2007,
          2008,
          2009,
          2010,
          2011,
          2012,
          2013,
          2014,
          2015,
          2016,
          2017,
          2018,
          2019,
          2020,
          2021,
          2022,
          2023
         ],
         "xaxis": "x",
         "y": [
          4.531094789,
          2.025402869,
          2.302836989,
          3.104275673,
          4.469258855,
          4.00586591,
          4.442792696,
          4.37327669,
          2.062495933,
          -1.355782091,
          4.529545973,
          3.327132697,
          2.709115158,
          2.868222143,
          3.12386991,
          3.126135588,
          2.820557285,
          3.460239118,
          3.286612988,
          2.642216435,
          -2.932043344,
          6.259851284,
          3.089607464,
          2.719333366
         ],
         "yaxis": "y"
        },
        {
         "hovertemplate": "Country Name=Samoa<br>Year=%{x}<br>Nilai GDP=%{y}<extra></extra>",
         "legendgroup": "Samoa",
         "line": {
          "color": "#FECB52",
          "dash": "solid"
         },
         "marker": {
          "symbol": "circle"
         },
         "mode": "markers+lines",
         "name": "Samoa",
         "showlegend": true,
         "type": "scattergl",
         "x": [
          2000,
          2001,
          2002,
          2003,
          2004,
          2005,
          2006,
          2007,
          2008,
          2009,
          2010,
          2011,
          2012,
          2013,
          2014,
          2015,
          2016,
          2017,
          2018,
          2019,
          2020,
          2021,
          2022,
          2023
         ],
         "xaxis": "x",
         "y": [
          5.093044692,
          7.390129062,
          5.651959199,
          5.212628926,
          3.087260238,
          6.639203613,
          2.132127147,
          0.48598255,
          3.556104674,
          -0.541677602,
          6.124719923,
          3.849077947,
          -3.732130209,
          0.107293276,
          0.659923769,
          3.850361817,
          7.983862878,
          1.4062824,
          -0.609647103,
          4.451858917,
          -3.108444011,
          -7.078830943,
          -5.3062909,
          7.991982644
         ],
         "yaxis": "y"
        },
        {
         "hovertemplate": "Country Name=Kosovo<br>Year=%{x}<br>Nilai GDP=%{y}<extra></extra>",
         "legendgroup": "Kosovo",
         "line": {
          "color": "#636efa",
          "dash": "solid"
         },
         "marker": {
          "symbol": "circle"
         },
         "mode": "markers+lines",
         "name": "Kosovo",
         "showlegend": true,
         "type": "scattergl",
         "x": [
          2000,
          2001,
          2002,
          2003,
          2004,
          2005,
          2006,
          2007,
          2008,
          2009,
          2010,
          2011,
          2012,
          2013,
          2014,
          2015,
          2016,
          2017,
          2018,
          2019,
          2020,
          2021,
          2022,
          2023
         ],
         "xaxis": "x",
         "y": [
          0,
          0,
          0,
          0,
          0,
          0,
          0,
          0,
          0,
          5.034854138,
          4.93995096,
          6.319810229,
          1.712195959,
          5.340799119,
          3.348804784,
          5.916231283,
          5.571775047,
          4.825655653,
          3.406632271,
          4.75680057,
          -5.340275478,
          10.74565608,
          4.278498508,
          3.337894699
         ],
         "yaxis": "y"
        },
        {
         "hovertemplate": "Country Name=Yemen, Rep.<br>Year=%{x}<br>Nilai GDP=%{y}<extra></extra>",
         "legendgroup": "Yemen, Rep.",
         "line": {
          "color": "#EF553B",
          "dash": "solid"
         },
         "marker": {
          "symbol": "circle"
         },
         "mode": "markers+lines",
         "name": "Yemen, Rep.",
         "showlegend": true,
         "type": "scattergl",
         "x": [
          2000,
          2001,
          2002,
          2003,
          2004,
          2005,
          2006,
          2007,
          2008,
          2009,
          2010,
          2011,
          2012,
          2013,
          2014,
          2015,
          2016,
          2017,
          2018,
          2019,
          2020,
          2021,
          2022,
          2023
         ],
         "xaxis": "x",
         "y": [
          6.181915593,
          3.803645872,
          3.935231505,
          3.747398185,
          3.972696401,
          5.591748076,
          3.170409359,
          3.338427956,
          3.64756947,
          3.866229516,
          7.70230704,
          -12.7148969,
          2.392990209,
          4.823519067,
          -0.188690232,
          -27.99454625,
          -9.375123818,
          -5.071795639,
          0.752447588,
          0,
          0,
          0,
          0,
          0
         ],
         "yaxis": "y"
        },
        {
         "hovertemplate": "Country Name=South Africa<br>Year=%{x}<br>Nilai GDP=%{y}<extra></extra>",
         "legendgroup": "South Africa",
         "line": {
          "color": "#00cc96",
          "dash": "solid"
         },
         "marker": {
          "symbol": "circle"
         },
         "mode": "markers+lines",
         "name": "South Africa",
         "showlegend": true,
         "type": "scattergl",
         "x": [
          2000,
          2001,
          2002,
          2003,
          2004,
          2005,
          2006,
          2007,
          2008,
          2009,
          2010,
          2011,
          2012,
          2013,
          2014,
          2015,
          2016,
          2017,
          2018,
          2019,
          2020,
          2021,
          2022,
          2023
         ],
         "xaxis": "x",
         "y": [
          4.200000001,
          2.7,
          3.700374404,
          2.949075468,
          4.554559907,
          5.277051973,
          5.603806459,
          5.360474054,
          3.191043886,
          -1.538089135,
          3.039732881,
          3.168556279,
          2.396232385,
          2.485468008,
          1.413826452,
          1.321862237,
          0.664552308,
          1.157946952,
          1.556783847,
          0.259935577,
          -5.963358184,
          4.703062065,
          1.91040617,
          0.601662303
         ],
         "yaxis": "y"
        },
        {
         "hovertemplate": "Country Name=Zambia<br>Year=%{x}<br>Nilai GDP=%{y}<extra></extra>",
         "legendgroup": "Zambia",
         "line": {
          "color": "#ab63fa",
          "dash": "solid"
         },
         "marker": {
          "symbol": "circle"
         },
         "mode": "markers+lines",
         "name": "Zambia",
         "showlegend": true,
         "type": "scattergl",
         "x": [
          2000,
          2001,
          2002,
          2003,
          2004,
          2005,
          2006,
          2007,
          2008,
          2009,
          2010,
          2011,
          2012,
          2013,
          2014,
          2015,
          2016,
          2017,
          2018,
          2019,
          2020,
          2021,
          2022,
          2023
         ],
         "xaxis": "x",
         "y": [
          3.897322943,
          5.316868274,
          4.50601428,
          6.944973982,
          7.032395115,
          7.235599007,
          7.903694445,
          8.352436244,
          7.773895815,
          9.220348406,
          10.29822332,
          5.569252156,
          7.597381074,
          5.057536942,
          4.693283184,
          2.920375112,
          3.755100318,
          3.52586277,
          4.034493897,
          1.441306026,
          -2.785055065,
          6.234922047,
          5.249622323,
          5.832474135
         ],
         "yaxis": "y"
        },
        {
         "hovertemplate": "Country Name=Zimbabwe<br>Year=%{x}<br>Nilai GDP=%{y}<extra></extra>",
         "legendgroup": "Zimbabwe",
         "line": {
          "color": "#FFA15A",
          "dash": "solid"
         },
         "marker": {
          "symbol": "circle"
         },
         "mode": "markers+lines",
         "name": "Zimbabwe",
         "showlegend": true,
         "type": "scattergl",
         "x": [
          2000,
          2001,
          2002,
          2003,
          2004,
          2005,
          2006,
          2007,
          2008,
          2009,
          2010,
          2011,
          2012,
          2013,
          2014,
          2015,
          2016,
          2017,
          2018,
          2019,
          2020,
          2021,
          2022,
          2023
         ],
         "xaxis": "x",
         "y": [
          -3.059189749,
          1.439615396,
          -8.894023631,
          -16.99507473,
          -5.807538023,
          -5.711083707,
          -3.461495188,
          -3.653326835,
          -17.66894633,
          12.01955997,
          21.45206092,
          14.62020726,
          15.74487708,
          3.196730887,
          1.484542622,
          2.023649996,
          0.900955396,
          4.080263903,
          5.009866783,
          -6.332446407,
          -7.816950647,
          8.468016898,
          6.52237533,
          4.955781703
         ],
         "yaxis": "y"
        }
       ],
       "layout": {
        "legend": {
         "title": {
          "text": "Country Name"
         },
         "tracegroupgap": 0
        },
        "template": {
         "data": {
          "bar": [
           {
            "error_x": {
             "color": "#2a3f5f"
            },
            "error_y": {
             "color": "#2a3f5f"
            },
            "marker": {
             "line": {
              "color": "#E5ECF6",
              "width": 0.5
             },
             "pattern": {
              "fillmode": "overlay",
              "size": 10,
              "solidity": 0.2
             }
            },
            "type": "bar"
           }
          ],
          "barpolar": [
           {
            "marker": {
             "line": {
              "color": "#E5ECF6",
              "width": 0.5
             },
             "pattern": {
              "fillmode": "overlay",
              "size": 10,
              "solidity": 0.2
             }
            },
            "type": "barpolar"
           }
          ],
          "carpet": [
           {
            "aaxis": {
             "endlinecolor": "#2a3f5f",
             "gridcolor": "white",
             "linecolor": "white",
             "minorgridcolor": "white",
             "startlinecolor": "#2a3f5f"
            },
            "baxis": {
             "endlinecolor": "#2a3f5f",
             "gridcolor": "white",
             "linecolor": "white",
             "minorgridcolor": "white",
             "startlinecolor": "#2a3f5f"
            },
            "type": "carpet"
           }
          ],
          "choropleth": [
           {
            "colorbar": {
             "outlinewidth": 0,
             "ticks": ""
            },
            "type": "choropleth"
           }
          ],
          "contour": [
           {
            "colorbar": {
             "outlinewidth": 0,
             "ticks": ""
            },
            "colorscale": [
             [
              0,
              "#0d0887"
             ],
             [
              0.1111111111111111,
              "#46039f"
             ],
             [
              0.2222222222222222,
              "#7201a8"
             ],
             [
              0.3333333333333333,
              "#9c179e"
             ],
             [
              0.4444444444444444,
              "#bd3786"
             ],
             [
              0.5555555555555556,
              "#d8576b"
             ],
             [
              0.6666666666666666,
              "#ed7953"
             ],
             [
              0.7777777777777778,
              "#fb9f3a"
             ],
             [
              0.8888888888888888,
              "#fdca26"
             ],
             [
              1,
              "#f0f921"
             ]
            ],
            "type": "contour"
           }
          ],
          "contourcarpet": [
           {
            "colorbar": {
             "outlinewidth": 0,
             "ticks": ""
            },
            "type": "contourcarpet"
           }
          ],
          "heatmap": [
           {
            "colorbar": {
             "outlinewidth": 0,
             "ticks": ""
            },
            "colorscale": [
             [
              0,
              "#0d0887"
             ],
             [
              0.1111111111111111,
              "#46039f"
             ],
             [
              0.2222222222222222,
              "#7201a8"
             ],
             [
              0.3333333333333333,
              "#9c179e"
             ],
             [
              0.4444444444444444,
              "#bd3786"
             ],
             [
              0.5555555555555556,
              "#d8576b"
             ],
             [
              0.6666666666666666,
              "#ed7953"
             ],
             [
              0.7777777777777778,
              "#fb9f3a"
             ],
             [
              0.8888888888888888,
              "#fdca26"
             ],
             [
              1,
              "#f0f921"
             ]
            ],
            "type": "heatmap"
           }
          ],
          "heatmapgl": [
           {
            "colorbar": {
             "outlinewidth": 0,
             "ticks": ""
            },
            "colorscale": [
             [
              0,
              "#0d0887"
             ],
             [
              0.1111111111111111,
              "#46039f"
             ],
             [
              0.2222222222222222,
              "#7201a8"
             ],
             [
              0.3333333333333333,
              "#9c179e"
             ],
             [
              0.4444444444444444,
              "#bd3786"
             ],
             [
              0.5555555555555556,
              "#d8576b"
             ],
             [
              0.6666666666666666,
              "#ed7953"
             ],
             [
              0.7777777777777778,
              "#fb9f3a"
             ],
             [
              0.8888888888888888,
              "#fdca26"
             ],
             [
              1,
              "#f0f921"
             ]
            ],
            "type": "heatmapgl"
           }
          ],
          "histogram": [
           {
            "marker": {
             "pattern": {
              "fillmode": "overlay",
              "size": 10,
              "solidity": 0.2
             }
            },
            "type": "histogram"
           }
          ],
          "histogram2d": [
           {
            "colorbar": {
             "outlinewidth": 0,
             "ticks": ""
            },
            "colorscale": [
             [
              0,
              "#0d0887"
             ],
             [
              0.1111111111111111,
              "#46039f"
             ],
             [
              0.2222222222222222,
              "#7201a8"
             ],
             [
              0.3333333333333333,
              "#9c179e"
             ],
             [
              0.4444444444444444,
              "#bd3786"
             ],
             [
              0.5555555555555556,
              "#d8576b"
             ],
             [
              0.6666666666666666,
              "#ed7953"
             ],
             [
              0.7777777777777778,
              "#fb9f3a"
             ],
             [
              0.8888888888888888,
              "#fdca26"
             ],
             [
              1,
              "#f0f921"
             ]
            ],
            "type": "histogram2d"
           }
          ],
          "histogram2dcontour": [
           {
            "colorbar": {
             "outlinewidth": 0,
             "ticks": ""
            },
            "colorscale": [
             [
              0,
              "#0d0887"
             ],
             [
              0.1111111111111111,
              "#46039f"
             ],
             [
              0.2222222222222222,
              "#7201a8"
             ],
             [
              0.3333333333333333,
              "#9c179e"
             ],
             [
              0.4444444444444444,
              "#bd3786"
             ],
             [
              0.5555555555555556,
              "#d8576b"
             ],
             [
              0.6666666666666666,
              "#ed7953"
             ],
             [
              0.7777777777777778,
              "#fb9f3a"
             ],
             [
              0.8888888888888888,
              "#fdca26"
             ],
             [
              1,
              "#f0f921"
             ]
            ],
            "type": "histogram2dcontour"
           }
          ],
          "mesh3d": [
           {
            "colorbar": {
             "outlinewidth": 0,
             "ticks": ""
            },
            "type": "mesh3d"
           }
          ],
          "parcoords": [
           {
            "line": {
             "colorbar": {
              "outlinewidth": 0,
              "ticks": ""
             }
            },
            "type": "parcoords"
           }
          ],
          "pie": [
           {
            "automargin": true,
            "type": "pie"
           }
          ],
          "scatter": [
           {
            "fillpattern": {
             "fillmode": "overlay",
             "size": 10,
             "solidity": 0.2
            },
            "type": "scatter"
           }
          ],
          "scatter3d": [
           {
            "line": {
             "colorbar": {
              "outlinewidth": 0,
              "ticks": ""
             }
            },
            "marker": {
             "colorbar": {
              "outlinewidth": 0,
              "ticks": ""
             }
            },
            "type": "scatter3d"
           }
          ],
          "scattercarpet": [
           {
            "marker": {
             "colorbar": {
              "outlinewidth": 0,
              "ticks": ""
             }
            },
            "type": "scattercarpet"
           }
          ],
          "scattergeo": [
           {
            "marker": {
             "colorbar": {
              "outlinewidth": 0,
              "ticks": ""
             }
            },
            "type": "scattergeo"
           }
          ],
          "scattergl": [
           {
            "marker": {
             "colorbar": {
              "outlinewidth": 0,
              "ticks": ""
             }
            },
            "type": "scattergl"
           }
          ],
          "scattermapbox": [
           {
            "marker": {
             "colorbar": {
              "outlinewidth": 0,
              "ticks": ""
             }
            },
            "type": "scattermapbox"
           }
          ],
          "scatterpolar": [
           {
            "marker": {
             "colorbar": {
              "outlinewidth": 0,
              "ticks": ""
             }
            },
            "type": "scatterpolar"
           }
          ],
          "scatterpolargl": [
           {
            "marker": {
             "colorbar": {
              "outlinewidth": 0,
              "ticks": ""
             }
            },
            "type": "scatterpolargl"
           }
          ],
          "scatterternary": [
           {
            "marker": {
             "colorbar": {
              "outlinewidth": 0,
              "ticks": ""
             }
            },
            "type": "scatterternary"
           }
          ],
          "surface": [
           {
            "colorbar": {
             "outlinewidth": 0,
             "ticks": ""
            },
            "colorscale": [
             [
              0,
              "#0d0887"
             ],
             [
              0.1111111111111111,
              "#46039f"
             ],
             [
              0.2222222222222222,
              "#7201a8"
             ],
             [
              0.3333333333333333,
              "#9c179e"
             ],
             [
              0.4444444444444444,
              "#bd3786"
             ],
             [
              0.5555555555555556,
              "#d8576b"
             ],
             [
              0.6666666666666666,
              "#ed7953"
             ],
             [
              0.7777777777777778,
              "#fb9f3a"
             ],
             [
              0.8888888888888888,
              "#fdca26"
             ],
             [
              1,
              "#f0f921"
             ]
            ],
            "type": "surface"
           }
          ],
          "table": [
           {
            "cells": {
             "fill": {
              "color": "#EBF0F8"
             },
             "line": {
              "color": "white"
             }
            },
            "header": {
             "fill": {
              "color": "#C8D4E3"
             },
             "line": {
              "color": "white"
             }
            },
            "type": "table"
           }
          ]
         },
         "layout": {
          "annotationdefaults": {
           "arrowcolor": "#2a3f5f",
           "arrowhead": 0,
           "arrowwidth": 1
          },
          "autotypenumbers": "strict",
          "coloraxis": {
           "colorbar": {
            "outlinewidth": 0,
            "ticks": ""
           }
          },
          "colorscale": {
           "diverging": [
            [
             0,
             "#8e0152"
            ],
            [
             0.1,
             "#c51b7d"
            ],
            [
             0.2,
             "#de77ae"
            ],
            [
             0.3,
             "#f1b6da"
            ],
            [
             0.4,
             "#fde0ef"
            ],
            [
             0.5,
             "#f7f7f7"
            ],
            [
             0.6,
             "#e6f5d0"
            ],
            [
             0.7,
             "#b8e186"
            ],
            [
             0.8,
             "#7fbc41"
            ],
            [
             0.9,
             "#4d9221"
            ],
            [
             1,
             "#276419"
            ]
           ],
           "sequential": [
            [
             0,
             "#0d0887"
            ],
            [
             0.1111111111111111,
             "#46039f"
            ],
            [
             0.2222222222222222,
             "#7201a8"
            ],
            [
             0.3333333333333333,
             "#9c179e"
            ],
            [
             0.4444444444444444,
             "#bd3786"
            ],
            [
             0.5555555555555556,
             "#d8576b"
            ],
            [
             0.6666666666666666,
             "#ed7953"
            ],
            [
             0.7777777777777778,
             "#fb9f3a"
            ],
            [
             0.8888888888888888,
             "#fdca26"
            ],
            [
             1,
             "#f0f921"
            ]
           ],
           "sequentialminus": [
            [
             0,
             "#0d0887"
            ],
            [
             0.1111111111111111,
             "#46039f"
            ],
            [
             0.2222222222222222,
             "#7201a8"
            ],
            [
             0.3333333333333333,
             "#9c179e"
            ],
            [
             0.4444444444444444,
             "#bd3786"
            ],
            [
             0.5555555555555556,
             "#d8576b"
            ],
            [
             0.6666666666666666,
             "#ed7953"
            ],
            [
             0.7777777777777778,
             "#fb9f3a"
            ],
            [
             0.8888888888888888,
             "#fdca26"
            ],
            [
             1,
             "#f0f921"
            ]
           ]
          },
          "colorway": [
           "#636efa",
           "#EF553B",
           "#00cc96",
           "#ab63fa",
           "#FFA15A",
           "#19d3f3",
           "#FF6692",
           "#B6E880",
           "#FF97FF",
           "#FECB52"
          ],
          "font": {
           "color": "#2a3f5f"
          },
          "geo": {
           "bgcolor": "white",
           "lakecolor": "white",
           "landcolor": "#E5ECF6",
           "showlakes": true,
           "showland": true,
           "subunitcolor": "white"
          },
          "hoverlabel": {
           "align": "left"
          },
          "hovermode": "closest",
          "mapbox": {
           "style": "light"
          },
          "paper_bgcolor": "white",
          "plot_bgcolor": "#E5ECF6",
          "polar": {
           "angularaxis": {
            "gridcolor": "white",
            "linecolor": "white",
            "ticks": ""
           },
           "bgcolor": "#E5ECF6",
           "radialaxis": {
            "gridcolor": "white",
            "linecolor": "white",
            "ticks": ""
           }
          },
          "scene": {
           "xaxis": {
            "backgroundcolor": "#E5ECF6",
            "gridcolor": "white",
            "gridwidth": 2,
            "linecolor": "white",
            "showbackground": true,
            "ticks": "",
            "zerolinecolor": "white"
           },
           "yaxis": {
            "backgroundcolor": "#E5ECF6",
            "gridcolor": "white",
            "gridwidth": 2,
            "linecolor": "white",
            "showbackground": true,
            "ticks": "",
            "zerolinecolor": "white"
           },
           "zaxis": {
            "backgroundcolor": "#E5ECF6",
            "gridcolor": "white",
            "gridwidth": 2,
            "linecolor": "white",
            "showbackground": true,
            "ticks": "",
            "zerolinecolor": "white"
           }
          },
          "shapedefaults": {
           "line": {
            "color": "#2a3f5f"
           }
          },
          "ternary": {
           "aaxis": {
            "gridcolor": "white",
            "linecolor": "white",
            "ticks": ""
           },
           "baxis": {
            "gridcolor": "white",
            "linecolor": "white",
            "ticks": ""
           },
           "bgcolor": "#E5ECF6",
           "caxis": {
            "gridcolor": "white",
            "linecolor": "white",
            "ticks": ""
           }
          },
          "title": {
           "x": 0.05
          },
          "xaxis": {
           "automargin": true,
           "gridcolor": "white",
           "linecolor": "white",
           "ticks": "",
           "title": {
            "standoff": 15
           },
           "zerolinecolor": "white",
           "zerolinewidth": 2
          },
          "yaxis": {
           "automargin": true,
           "gridcolor": "white",
           "linecolor": "white",
           "ticks": "",
           "title": {
            "standoff": 15
           },
           "zerolinecolor": "white",
           "zerolinewidth": 2
          }
         }
        },
        "title": {
         "text": "Distribusi GDP dari Tahun ke Tahun untuk Setiap Negara"
        },
        "xaxis": {
         "anchor": "y",
         "domain": [
          0,
          1
         ],
         "title": {
          "text": "Year"
         }
        },
        "yaxis": {
         "anchor": "x",
         "domain": [
          0,
          1
         ],
         "title": {
          "text": "Nilai GDP"
         }
        }
       }
      },
      "text/html": [
       "<div>                            <div id=\"694d56a3-0f24-474d-8f51-070b45feb061\" class=\"plotly-graph-div\" style=\"height:525px; width:100%;\"></div>            <script type=\"text/javascript\">                require([\"plotly\"], function(Plotly) {                    window.PLOTLYENV=window.PLOTLYENV || {};                                    if (document.getElementById(\"694d56a3-0f24-474d-8f51-070b45feb061\")) {                    Plotly.newPlot(                        \"694d56a3-0f24-474d-8f51-070b45feb061\",                        [{\"hovertemplate\":\"Country Name=Aruba\\u003cbr\\u003eYear=%{x}\\u003cbr\\u003eNilai GDP=%{y}\\u003cextra\\u003e\\u003c\\u002fextra\\u003e\",\"legendgroup\":\"Aruba\",\"line\":{\"color\":\"#636efa\",\"dash\":\"solid\"},\"marker\":{\"symbol\":\"circle\"},\"mode\":\"markers+lines\",\"name\":\"Aruba\",\"showlegend\":true,\"x\":[2000,2001,2002,2003,2004,2005,2006,2007,2008,2009,2010,2011,2012,2013,2014,2015,2016,2017,2018,2019,2020,2021,2022,2023],\"xaxis\":\"x\",\"y\":[7.622920649,4.18200163,-0.944953481,1.110504599,7.293728071,-0.383137672,1.127411464,3.089544385,1.835755172,-11.67774137,-2.733456793,3.369237184,-1.040799884,6.431482604,-1.586575138,-0.623625902,1.71962498,7.048533386,2.381730186,-2.302836303,-23.98258096,27.63935697,10.45831735,0.0],\"yaxis\":\"y\",\"type\":\"scattergl\"},{\"hovertemplate\":\"Country Name=Africa Eastern and Southern\\u003cbr\\u003eYear=%{x}\\u003cbr\\u003eNilai GDP=%{y}\\u003cextra\\u003e\\u003c\\u002fextra\\u003e\",\"legendgroup\":\"Africa Eastern and Southern\",\"line\":{\"color\":\"#EF553B\",\"dash\":\"solid\"},\"marker\":{\"symbol\":\"circle\"},\"mode\":\"markers+lines\",\"name\":\"Africa Eastern and Southern\",\"showlegend\":true,\"x\":[2000,2001,2002,2003,2004,2005,2006,2007,2008,2009,2010,2011,2012,2013,2014,2015,2016,2017,2018,2019,2020,2021,2022,2023],\"xaxis\":\"x\",\"y\":[3.219802994,3.510146739,3.841646362,2.963405156,5.557363528,6.164835859,6.5775942,6.646593491,4.371097572,0.880331358,5.233777972,4.069019771,1.756210204,4.250345099,3.983181784,3.011571982,2.183580781,2.651399742,2.681718104,2.189259284,-2.780378552,4.497379983,3.554422329,2.622310407],\"yaxis\":\"y\",\"type\":\"scattergl\"},{\"hovertemplate\":\"Country Name=Afghanistan\\u003cbr\\u003eYear=%{x}\\u003cbr\\u003eNilai GDP=%{y}\\u003cextra\\u003e\\u003c\\u002fextra\\u003e\",\"legendgroup\":\"Afghanistan\",\"line\":{\"color\":\"#00cc96\",\"dash\":\"solid\"},\"marker\":{\"symbol\":\"circle\"},\"mode\":\"markers+lines\",\"name\":\"Afghanistan\",\"showlegend\":true,\"x\":[2000,2001,2002,2003,2004,2005,2006,2007,2008,2009,2010,2011,2012,2013,2014,2015,2016,2017,2018,2019,2020,2021,2022,2023],\"xaxis\":\"x\",\"y\":[0.0,-9.431974068,28.60000116,8.832277803,1.414117993,11.22971483,5.357403247,13.82631955,3.92498382,21.39052839,14.36244147,0.426354777,12.75228709,5.600744659,2.724543362,1.451314661,2.260314203,2.647003203,1.189228129,3.911603416,-2.351100672,-20.73883937,-6.240171992,0.0],\"yaxis\":\"y\",\"type\":\"scattergl\"},{\"hovertemplate\":\"Country Name=Africa Western and Central\\u003cbr\\u003eYear=%{x}\\u003cbr\\u003eNilai GDP=%{y}\\u003cextra\\u003e\\u003c\\u002fextra\\u003e\",\"legendgroup\":\"Africa Western and Central\",\"line\":{\"color\":\"#ab63fa\",\"dash\":\"solid\"},\"marker\":{\"symbol\":\"circle\"},\"mode\":\"markers+lines\",\"name\":\"Africa Western and Central\",\"showlegend\":true,\"x\":[2000,2001,2002,2003,2004,2005,2006,2007,2008,2009,2010,2011,2012,2013,2014,2015,2016,2017,2018,2019,2020,2021,2022,2023],\"xaxis\":\"x\",\"y\":[3.859760263,5.209094155,9.927427149,5.532966565,7.992698604,5.828940032,5.374761558,5.522718727,6.281465308,6.282102398,6.970600619,4.849289011,5.135432218,6.106610282,5.92558282,2.813979007,0.141488618,2.28496137,2.842645003,3.222028518,-1.004417394,3.994854397,3.784485678,3.342775594],\"yaxis\":\"y\",\"type\":\"scattergl\"},{\"hovertemplate\":\"Country Name=Angola\\u003cbr\\u003eYear=%{x}\\u003cbr\\u003eNilai GDP=%{y}\\u003cextra\\u003e\\u003c\\u002fextra\\u003e\",\"legendgroup\":\"Angola\",\"line\":{\"color\":\"#FFA15A\",\"dash\":\"solid\"},\"marker\":{\"symbol\":\"circle\"},\"mode\":\"markers+lines\",\"name\":\"Angola\",\"showlegend\":true,\"x\":[2000,2001,2002,2003,2004,2005,2006,2007,2008,2009,2010,2011,2012,2013,2014,2015,2016,2017,2018,2019,2020,2021,2022,2023],\"xaxis\":\"x\",\"y\":[3.054624234,4.205998556,13.66568876,2.99,10.95000001,15.02999999,11.55,14.01000001,11.16999999,0.860000002,4.398375938,3.472053148,8.542107076,4.954613031,4.82255927,0.943571561,-2.580111222,-0.147149825,-1.316361689,-0.702272958,-5.638214717,1.199210521,3.04540301,0.856000935],\"yaxis\":\"y\",\"type\":\"scattergl\"},{\"hovertemplate\":\"Country Name=Albania\\u003cbr\\u003eYear=%{x}\\u003cbr\\u003eNilai GDP=%{y}\\u003cextra\\u003e\\u003c\\u002fextra\\u003e\",\"legendgroup\":\"Albania\",\"line\":{\"color\":\"#19d3f3\",\"dash\":\"solid\"},\"marker\":{\"symbol\":\"circle\"},\"mode\":\"markers+lines\",\"name\":\"Albania\",\"showlegend\":true,\"x\":[2000,2001,2002,2003,2004,2005,2006,2007,2008,2009,2010,2011,2012,2013,2014,2015,2016,2017,2018,2019,2020,2021,2022,2023],\"xaxis\":\"x\",\"y\":[6.946216592,8.293312631,4.53652416,5.528637465,5.514667911,5.526424247,5.902659036,5.983259519,7.50004143,3.35428935,3.706938153,2.545406145,1.4172428,1.002017541,1.774448853,2.218726375,3.314980684,3.80259872,4.019345617,2.087711996,-3.302082039,8.908527818,4.856401652,3.439149499],\"yaxis\":\"y\",\"type\":\"scattergl\"},{\"hovertemplate\":\"Country Name=Andorra\\u003cbr\\u003eYear=%{x}\\u003cbr\\u003eNilai GDP=%{y}\\u003cextra\\u003e\\u003c\\u002fextra\\u003e\",\"legendgroup\":\"Andorra\",\"line\":{\"color\":\"#FF6692\",\"dash\":\"solid\"},\"marker\":{\"symbol\":\"circle\"},\"mode\":\"markers+lines\",\"name\":\"Andorra\",\"showlegend\":true,\"x\":[2000,2001,2002,2003,2004,2005,2006,2007,2008,2009,2010,2011,2012,2013,2014,2015,2016,2017,2018,2019,2020,2021,2022,2023],\"xaxis\":\"x\",\"y\":[3.528362361,8.119357722,4.546362214,8.694203716,8.135676338,5.397795985,4.808688699,1.553188141,-5.559186369,-5.302846543,-1.974958,-0.008069753,-4.974443719,-3.547596515,2.504465521,1.434140395,3.70967807,0.34607189,1.58876549,2.015547638,-11.18393994,8.287199781,9.563797527,1.444184231],\"yaxis\":\"y\",\"type\":\"scattergl\"},{\"hovertemplate\":\"Country Name=Arab World\\u003cbr\\u003eYear=%{x}\\u003cbr\\u003eNilai GDP=%{y}\\u003cextra\\u003e\\u003c\\u002fextra\\u003e\",\"legendgroup\":\"Arab World\",\"line\":{\"color\":\"#B6E880\",\"dash\":\"solid\"},\"marker\":{\"symbol\":\"circle\"},\"mode\":\"markers+lines\",\"name\":\"Arab World\",\"showlegend\":true,\"x\":[2000,2001,2002,2003,2004,2005,2006,2007,2008,2009,2010,2011,2012,2013,2014,2015,2016,2017,2018,2019,2020,2021,2022,2023],\"xaxis\":\"x\",\"y\":[6.598100731,1.67856914,0.66659276,4.8710045,8.872880802,5.466559184,6.165782658,4.494993727,5.550755074,0.409202169,4.81457027,3.572876912,5.003580087,2.520007657,2.383705442,3.387560307,3.609446551,1.511283907,2.623157037,1.671110889,-5.400979217,5.116647029,5.793108985,0.92979198],\"yaxis\":\"y\",\"type\":\"scattergl\"},{\"hovertemplate\":\"Country Name=United Arab Emirates\\u003cbr\\u003eYear=%{x}\\u003cbr\\u003eNilai GDP=%{y}\\u003cextra\\u003e\\u003c\\u002fextra\\u003e\",\"legendgroup\":\"United Arab Emirates\",\"line\":{\"color\":\"#FF97FF\",\"dash\":\"solid\"},\"marker\":{\"symbol\":\"circle\"},\"mode\":\"markers+lines\",\"name\":\"United Arab Emirates\",\"showlegend\":true,\"x\":[2000,2001,2002,2003,2004,2005,2006,2007,2008,2009,2010,2011,2012,2013,2014,2015,2016,2017,2018,2019,2020,2021,2022,2023],\"xaxis\":\"x\",\"y\":[10.85270422,1.399085037,2.433456811,8.800540814,9.566436638,4.855141196,9.837319769,3.184390173,3.191836273,-5.242921904,1.602850047,6.216121817,1.824480785,5.055559658,4.165691841,6.786772877,5.56149076,0.735068714,1.313913882,1.108348135,-4.957052433,4.354755297,7.850418123,3.403857206],\"yaxis\":\"y\",\"type\":\"scattergl\"},{\"hovertemplate\":\"Country Name=Argentina\\u003cbr\\u003eYear=%{x}\\u003cbr\\u003eNilai GDP=%{y}\\u003cextra\\u003e\\u003c\\u002fextra\\u003e\",\"legendgroup\":\"Argentina\",\"line\":{\"color\":\"#FECB52\",\"dash\":\"solid\"},\"marker\":{\"symbol\":\"circle\"},\"mode\":\"markers+lines\",\"name\":\"Argentina\",\"showlegend\":true,\"x\":[2000,2001,2002,2003,2004,2005,2006,2007,2008,2009,2010,2011,2012,2013,2014,2015,2016,2017,2018,2019,2020,2021,2022,2023],\"xaxis\":\"x\",\"y\":[-0.788998939,-4.408839683,-10.89448483,8.837040796,9.029573301,8.85165992,8.0471515,9.007650875,4.057233103,-5.918525076,10.12539816,6.003951693,-1.026420454,2.405323781,-2.512615321,2.731159828,-2.080327844,2.818502978,-2.617396463,-2.000861003,-9.900484814,10.71800993,4.95636996,-1.550501536],\"yaxis\":\"y\",\"type\":\"scattergl\"},{\"hovertemplate\":\"Country Name=Armenia\\u003cbr\\u003eYear=%{x}\\u003cbr\\u003eNilai GDP=%{y}\\u003cextra\\u003e\\u003c\\u002fextra\\u003e\",\"legendgroup\":\"Armenia\",\"line\":{\"color\":\"#636efa\",\"dash\":\"solid\"},\"marker\":{\"symbol\":\"circle\"},\"mode\":\"markers+lines\",\"name\":\"Armenia\",\"showlegend\":true,\"x\":[2000,2001,2002,2003,2004,2005,2006,2007,2008,2009,2010,2011,2012,2013,2014,2015,2016,2017,2018,2019,2020,2021,2022,2023],\"xaxis\":\"x\",\"y\":[5.900000003,9.599999999,13.2,14.0,10.5,13.9,13.2,13.7,6.9,-14.1,2.2,4.699999999,7.200000001,3.3,3.600000001,3.199999999,0.2,7.500000002,5.2,7.599999999,-7.199999999,5.800000001,12.6,8.7],\"yaxis\":\"y\",\"type\":\"scattergl\"},{\"hovertemplate\":\"Country Name=American Samoa\\u003cbr\\u003eYear=%{x}\\u003cbr\\u003eNilai GDP=%{y}\\u003cextra\\u003e\\u003c\\u002fextra\\u003e\",\"legendgroup\":\"American Samoa\",\"line\":{\"color\":\"#EF553B\",\"dash\":\"solid\"},\"marker\":{\"symbol\":\"circle\"},\"mode\":\"markers+lines\",\"name\":\"American Samoa\",\"showlegend\":true,\"x\":[2000,2001,2002,2003,2004,2005,2006,2007,2008,2009,2010,2011,2012,2013,2014,2015,2016,2017,2018,2019,2020,2021,2022,2023],\"xaxis\":\"x\",\"y\":[0.0,0.0,0.0,0.965517241,0.409836066,-0.408163265,-4.098360656,1.851851852,-2.657342657,-4.166666667,0.299850075,0.0,-4.334828102,-2.5,1.762820513,3.149606299,-1.679389313,-6.98757764,2.671118531,-0.487804878,4.411764706,-0.782472613,1.735015773,0.0],\"yaxis\":\"y\",\"type\":\"scattergl\"},{\"hovertemplate\":\"Country Name=Antigua and Barbuda\\u003cbr\\u003eYear=%{x}\\u003cbr\\u003eNilai GDP=%{y}\\u003cextra\\u003e\\u003c\\u002fextra\\u003e\",\"legendgroup\":\"Antigua and Barbuda\",\"line\":{\"color\":\"#00cc96\",\"dash\":\"solid\"},\"marker\":{\"symbol\":\"circle\"},\"mode\":\"markers+lines\",\"name\":\"Antigua and Barbuda\",\"showlegend\":true,\"x\":[2000,2001,2002,2003,2004,2005,2006,2007,2008,2009,2010,2011,2012,2013,2014,2015,2016,2017,2018,2019,2020,2021,2022,2023],\"xaxis\":\"x\",\"y\":[6.203491677,-4.548068042,1.027224987,6.076895997,5.766735432,6.473917198,12.70801253,9.31533051,-0.014006447,-11.96296608,-7.840430063,-1.958721811,3.372835252,-0.600715512,2.211452513,1.445155299,4.099765539,2.463333366,6.953186092,3.10044515,-18.8803992,8.191718462,9.516395644,3.862012187],\"yaxis\":\"y\",\"type\":\"scattergl\"},{\"hovertemplate\":\"Country Name=Australia\\u003cbr\\u003eYear=%{x}\\u003cbr\\u003eNilai GDP=%{y}\\u003cextra\\u003e\\u003c\\u002fextra\\u003e\",\"legendgroup\":\"Australia\",\"line\":{\"color\":\"#ab63fa\",\"dash\":\"solid\"},\"marker\":{\"symbol\":\"circle\"},\"mode\":\"markers+lines\",\"name\":\"Australia\",\"showlegend\":true,\"x\":[2000,2001,2002,2003,2004,2005,2006,2007,2008,2009,2010,2011,2012,2013,2014,2015,2016,2017,2018,2019,2020,2021,2022,2023],\"xaxis\":\"x\",\"y\":[3.921517829,2.025127315,3.979633756,3.090687182,4.224321727,3.154139257,2.755298243,3.773392681,3.58622798,1.892573609,2.226538078,2.40897178,3.918409625,2.606198447,2.607401032,2.201810153,2.779142625,2.318709387,2.906363115,2.181109106,-0.334686359,2.111830889,4.268946393,3.016988104],\"yaxis\":\"y\",\"type\":\"scattergl\"},{\"hovertemplate\":\"Country Name=Austria\\u003cbr\\u003eYear=%{x}\\u003cbr\\u003eNilai GDP=%{y}\\u003cextra\\u003e\\u003c\\u002fextra\\u003e\",\"legendgroup\":\"Austria\",\"line\":{\"color\":\"#FFA15A\",\"dash\":\"solid\"},\"marker\":{\"symbol\":\"circle\"},\"mode\":\"markers+lines\",\"name\":\"Austria\",\"showlegend\":true,\"x\":[2000,2001,2002,2003,2004,2005,2006,2007,2008,2009,2010,2011,2012,2013,2014,2015,2016,2017,2018,2019,2020,2021,2022,2023],\"xaxis\":\"x\",\"y\":[3.375722147,1.267168189,1.651553922,0.941470921,2.735120222,2.244065325,3.454041836,3.727415301,1.460423676,-3.764578178,1.837093677,2.922797284,0.680445577,0.025504712,0.661272849,1.014501586,1.989437162,2.258572433,2.425385361,1.450529184,-6.632991437,4.237866733,4.806430202,-0.828815089],\"yaxis\":\"y\",\"type\":\"scattergl\"},{\"hovertemplate\":\"Country Name=Azerbaijan\\u003cbr\\u003eYear=%{x}\\u003cbr\\u003eNilai GDP=%{y}\\u003cextra\\u003e\\u003c\\u002fextra\\u003e\",\"legendgroup\":\"Azerbaijan\",\"line\":{\"color\":\"#19d3f3\",\"dash\":\"solid\"},\"marker\":{\"symbol\":\"circle\"},\"mode\":\"markers+lines\",\"name\":\"Azerbaijan\",\"showlegend\":true,\"x\":[2000,2001,2002,2003,2004,2005,2006,2007,2008,2009,2010,2011,2012,2013,2014,2015,2016,2017,2018,2019,2020,2021,2022,2023],\"xaxis\":\"x\",\"y\":[11.09999914,9.899999865,9.438916269,10.2082994,9.253801797,27.96153811,34.5,24.99999985,10.75897806,9.296363744,5.048944513,0.100000138,2.165239475,5.809800843,2.750506815,1.093975916,-3.09999988,0.199999939,1.5,2.500000067,-4.300000102,5.616451029,4.714802365,1.123974327],\"yaxis\":\"y\",\"type\":\"scattergl\"},{\"hovertemplate\":\"Country Name=Burundi\\u003cbr\\u003eYear=%{x}\\u003cbr\\u003eNilai GDP=%{y}\\u003cextra\\u003e\\u003c\\u002fextra\\u003e\",\"legendgroup\":\"Burundi\",\"line\":{\"color\":\"#FF6692\",\"dash\":\"solid\"},\"marker\":{\"symbol\":\"circle\"},\"mode\":\"markers+lines\",\"name\":\"Burundi\",\"showlegend\":true,\"x\":[2000,2001,2002,2003,2004,2005,2006,2007,2008,2009,2010,2011,2012,2013,2014,2015,2016,2017,2018,2019,2020,2021,2022,2023],\"xaxis\":\"x\",\"y\":[-0.856864058,2.055807108,4.446519412,-1.22372796,4.833657768,0.900000001,5.413807145,3.451948564,4.861716367,3.812745366,5.124159994,4.032599988,4.446706331,4.924189898,4.240650214,-3.90000008,-0.600000909,0.500001262,1.609935421,1.812565324,0.327156893,3.099999999,1.848999439,2.700000597],\"yaxis\":\"y\",\"type\":\"scattergl\"},{\"hovertemplate\":\"Country Name=Belgium\\u003cbr\\u003eYear=%{x}\\u003cbr\\u003eNilai GDP=%{y}\\u003cextra\\u003e\\u003c\\u002fextra\\u003e\",\"legendgroup\":\"Belgium\",\"line\":{\"color\":\"#B6E880\",\"dash\":\"solid\"},\"marker\":{\"symbol\":\"circle\"},\"mode\":\"markers+lines\",\"name\":\"Belgium\",\"showlegend\":true,\"x\":[2000,2001,2002,2003,2004,2005,2006,2007,2008,2009,2010,2011,2012,2013,2014,2015,2016,2017,2018,2019,2020,2021,2022,2023],\"xaxis\":\"x\",\"y\":[3.716679384,1.099618888,1.706884585,1.037982549,3.571204343,2.321737054,2.552349944,3.676881136,0.446928735,-2.020743062,2.864292708,1.694513899,0.739217283,0.459242193,1.578533143,2.041459009,1.266686409,1.619580278,1.792945193,2.240835331,-5.304473365,6.927983603,3.014721975,1.365055231],\"yaxis\":\"y\",\"type\":\"scattergl\"},{\"hovertemplate\":\"Country Name=Benin\\u003cbr\\u003eYear=%{x}\\u003cbr\\u003eNilai GDP=%{y}\\u003cextra\\u003e\\u003c\\u002fextra\\u003e\",\"legendgroup\":\"Benin\",\"line\":{\"color\":\"#FF97FF\",\"dash\":\"solid\"},\"marker\":{\"symbol\":\"circle\"},\"mode\":\"markers+lines\",\"name\":\"Benin\",\"showlegend\":true,\"x\":[2000,2001,2002,2003,2004,2005,2006,2007,2008,2009,2010,2011,2012,2013,2014,2015,2016,2017,2018,2019,2020,2021,2022,2023],\"xaxis\":\"x\",\"y\":[5.857714205,5.333135706,4.643030871,3.443576776,4.429684554,1.713164564,3.943738828,5.986349322,4.896577084,2.319292139,2.114064726,2.963752919,4.811223316,7.191433721,6.357679098,1.77815106,3.339673426,5.671561952,6.697253622,6.865686628,3.8487924,7.155451646,6.253244914,6.352821609],\"yaxis\":\"y\",\"type\":\"scattergl\"},{\"hovertemplate\":\"Country Name=Burkina Faso\\u003cbr\\u003eYear=%{x}\\u003cbr\\u003eNilai GDP=%{y}\\u003cextra\\u003e\\u003c\\u002fextra\\u003e\",\"legendgroup\":\"Burkina Faso\",\"line\":{\"color\":\"#FECB52\",\"dash\":\"solid\"},\"marker\":{\"symbol\":\"circle\"},\"mode\":\"markers+lines\",\"name\":\"Burkina Faso\",\"showlegend\":true,\"x\":[2000,2001,2002,2003,2004,2005,2006,2007,2008,2009,2010,2011,2012,2013,2014,2015,2016,2017,2018,2019,2020,2021,2022,2023],\"xaxis\":\"x\",\"y\":[1.888473889,6.613405745,4.35296383,7.802493889,4.478452137,8.661873228,6.253164688,4.111379018,5.799991741,2.961950859,8.446281577,6.622562613,6.45267238,5.792584845,4.326845615,3.921228794,5.957976708,6.203489411,6.604569068,5.88920497,2.010772624,6.939155247,1.777915438,2.960180013],\"yaxis\":\"y\",\"type\":\"scattergl\"},{\"hovertemplate\":\"Country Name=Bangladesh\\u003cbr\\u003eYear=%{x}\\u003cbr\\u003eNilai GDP=%{y}\\u003cextra\\u003e\\u003c\\u002fextra\\u003e\",\"legendgroup\":\"Bangladesh\",\"line\":{\"color\":\"#636efa\",\"dash\":\"solid\"},\"marker\":{\"symbol\":\"circle\"},\"mode\":\"markers+lines\",\"name\":\"Bangladesh\",\"showlegend\":true,\"x\":[2000,2001,2002,2003,2004,2005,2006,2007,2008,2009,2010,2011,2012,2013,2014,2015,2016,2017,2018,2019,2020,2021,2022,2023],\"xaxis\":\"x\",\"y\":[5.293294719,5.077287775,3.83312394,4.7395674,5.23953291,6.535944939,6.671904986,7.058599354,6.013789757,5.045124799,5.571788185,6.464379125,6.521458779,6.013605658,6.061059359,6.552639878,7.113478213,6.590249998,7.31941263,7.881915151,3.448017551,6.938679124,7.099828776,5.77511237],\"yaxis\":\"y\",\"type\":\"scattergl\"},{\"hovertemplate\":\"Country Name=Bulgaria\\u003cbr\\u003eYear=%{x}\\u003cbr\\u003eNilai GDP=%{y}\\u003cextra\\u003e\\u003c\\u002fextra\\u003e\",\"legendgroup\":\"Bulgaria\",\"line\":{\"color\":\"#EF553B\",\"dash\":\"solid\"},\"marker\":{\"symbol\":\"circle\"},\"mode\":\"markers+lines\",\"name\":\"Bulgaria\",\"showlegend\":true,\"x\":[2000,2001,2002,2003,2004,2005,2006,2007,2008,2009,2010,2011,2012,2013,2014,2015,2016,2017,2018,2019,2020,2021,2022,2023],\"xaxis\":\"x\",\"y\":[4.587226859,3.823703965,5.87192961,5.237154253,6.510425672,7.056349601,6.802589602,6.654387625,6.129558762,-3.347142263,1.555359513,2.090175696,0.748814803,-0.542751313,0.949448521,3.397553876,3.026628392,2.745927259,2.694906553,4.035188947,-3.966156136,7.661748074,3.926432221,1.84638956],\"yaxis\":\"y\",\"type\":\"scattergl\"},{\"hovertemplate\":\"Country Name=Bahrain\\u003cbr\\u003eYear=%{x}\\u003cbr\\u003eNilai GDP=%{y}\\u003cextra\\u003e\\u003c\\u002fextra\\u003e\",\"legendgroup\":\"Bahrain\",\"line\":{\"color\":\"#00cc96\",\"dash\":\"solid\"},\"marker\":{\"symbol\":\"circle\"},\"mode\":\"markers+lines\",\"name\":\"Bahrain\",\"showlegend\":true,\"x\":[2000,2001,2002,2003,2004,2005,2006,2007,2008,2009,2010,2011,2012,2013,2014,2015,2016,2017,2018,2019,2020,2021,2022,2023],\"xaxis\":\"x\",\"y\":[5.300070056,2.490948108,3.348550668,6.296441979,6.980960594,6.768997871,6.467000122,8.293960448,6.245010775,2.539885936,4.334299173,1.983515012,3.72810843,5.41683981,4.350390853,2.863047304,3.473516575,3.81170619,2.289459607,2.166964669,-4.644637359,2.590407838,4.891500207,2.481465339],\"yaxis\":\"y\",\"type\":\"scattergl\"},{\"hovertemplate\":\"Country Name=Bahamas, The\\u003cbr\\u003eYear=%{x}\\u003cbr\\u003eNilai GDP=%{y}\\u003cextra\\u003e\\u003c\\u002fextra\\u003e\",\"legendgroup\":\"Bahamas, The\",\"line\":{\"color\":\"#ab63fa\",\"dash\":\"solid\"},\"marker\":{\"symbol\":\"circle\"},\"mode\":\"markers+lines\",\"name\":\"Bahamas, The\",\"showlegend\":true,\"x\":[2000,2001,2002,2003,2004,2005,2006,2007,2008,2009,2010,2011,2012,2013,2014,2015,2016,2017,2018,2019,2020,2021,2022,2023],\"xaxis\":\"x\",\"y\":[4.148419308,2.626009827,2.704956247,-1.264916676,0.882373745,3.396084205,2.516592217,1.446099912,-2.32364807,-4.175428056,1.538662487,0.613170736,2.997903207,-2.863309257,1.847260843,0.996758611,-0.961908777,2.799518639,2.62988986,-1.357265209,-21.42346307,15.40314894,10.7820132,2.639055981],\"yaxis\":\"y\",\"type\":\"scattergl\"},{\"hovertemplate\":\"Country Name=Bosnia and Herzegovina\\u003cbr\\u003eYear=%{x}\\u003cbr\\u003eNilai GDP=%{y}\\u003cextra\\u003e\\u003c\\u002fextra\\u003e\",\"legendgroup\":\"Bosnia and Herzegovina\",\"line\":{\"color\":\"#FFA15A\",\"dash\":\"solid\"},\"marker\":{\"symbol\":\"circle\"},\"mode\":\"markers+lines\",\"name\":\"Bosnia and Herzegovina\",\"showlegend\":true,\"x\":[2000,2001,2002,2003,2004,2005,2006,2007,2008,2009,2010,2011,2012,2013,2014,2015,2016,2017,2018,2019,2020,2021,2022,2023],\"xaxis\":\"x\",\"y\":[5.41431595,2.423313172,5.027444207,3.867138795,6.325266169,3.89717799,5.414003571,5.857126342,5.443831035,-3.00445593,0.86566926,0.959511247,-0.821836474,2.349856663,1.153851092,4.314750611,3.242255212,3.244100959,3.827499205,2.887343344,-3.015095148,7.38996234,4.226811011,1.676223469],\"yaxis\":\"y\",\"type\":\"scattergl\"},{\"hovertemplate\":\"Country Name=Belarus\\u003cbr\\u003eYear=%{x}\\u003cbr\\u003eNilai GDP=%{y}\\u003cextra\\u003e\\u003c\\u002fextra\\u003e\",\"legendgroup\":\"Belarus\",\"line\":{\"color\":\"#19d3f3\",\"dash\":\"solid\"},\"marker\":{\"symbol\":\"circle\"},\"mode\":\"markers+lines\",\"name\":\"Belarus\",\"showlegend\":true,\"x\":[2000,2001,2002,2003,2004,2005,2006,2007,2008,2009,2010,2011,2012,2013,2014,2015,2016,2017,2018,2019,2020,2021,2022,2023],\"xaxis\":\"x\",\"y\":[5.800003361,4.72530605,5.045267505,7.043192512,11.44974306,9.400001589,9.999994721,8.600006599,10.19999947,0.199995249,7.798266835,5.378707504,1.687135534,1.003470772,1.726209989,-3.829663071,-2.525831409,2.53162368,3.149639499,1.446206671,-0.672904125,2.438866081,-4.658244891,3.886242145],\"yaxis\":\"y\",\"type\":\"scattergl\"},{\"hovertemplate\":\"Country Name=Belize\\u003cbr\\u003eYear=%{x}\\u003cbr\\u003eNilai GDP=%{y}\\u003cextra\\u003e\\u003c\\u002fextra\\u003e\",\"legendgroup\":\"Belize\",\"line\":{\"color\":\"#FF6692\",\"dash\":\"solid\"},\"marker\":{\"symbol\":\"circle\"},\"mode\":\"markers+lines\",\"name\":\"Belize\",\"showlegend\":true,\"x\":[2000,2001,2002,2003,2004,2005,2006,2007,2008,2009,2010,2011,2012,2013,2014,2015,2016,2017,2018,2019,2020,2021,2022,2023],\"xaxis\":\"x\",\"y\":[12.24061403,4.993563302,5.399072105,9.665225324,4.780665783,2.219189271,4.511455442,3.297024123,-1.538593921,-0.450692254,1.239952915,-0.298181525,3.661599382,4.437643837,4.005318317,3.225493091,-0.011034415,-1.813365148,1.055598231,4.236234536,-13.73169108,17.86244784,8.734311438,4.541632208],\"yaxis\":\"y\",\"type\":\"scattergl\"},{\"hovertemplate\":\"Country Name=Bermuda\\u003cbr\\u003eYear=%{x}\\u003cbr\\u003eNilai GDP=%{y}\\u003cextra\\u003e\\u003c\\u002fextra\\u003e\",\"legendgroup\":\"Bermuda\",\"line\":{\"color\":\"#B6E880\",\"dash\":\"solid\"},\"marker\":{\"symbol\":\"circle\"},\"mode\":\"markers+lines\",\"name\":\"Bermuda\",\"showlegend\":true,\"x\":[2000,2001,2002,2003,2004,2005,2006,2007,2008,2009,2010,2011,2012,2013,2014,2015,2016,2017,2018,2019,2020,2021,2022,2023],\"xaxis\":\"x\",\"y\":[9.317156411,7.222435538,-1.477790598,3.410706677,2.321267223,1.674206114,5.54386638,3.345139709,-1.865955826,-5.626697711,-2.502878289,-3.742744317,-5.305299107,-0.279708545,-3.701067594,0.7755297,-0.657206304,3.611419837,-0.4328013,0.306266735,-6.842869643,5.41909484,6.431133996,0.0],\"yaxis\":\"y\",\"type\":\"scattergl\"},{\"hovertemplate\":\"Country Name=Bolivia\\u003cbr\\u003eYear=%{x}\\u003cbr\\u003eNilai GDP=%{y}\\u003cextra\\u003e\\u003c\\u002fextra\\u003e\",\"legendgroup\":\"Bolivia\",\"line\":{\"color\":\"#FF97FF\",\"dash\":\"solid\"},\"marker\":{\"symbol\":\"circle\"},\"mode\":\"markers+lines\",\"name\":\"Bolivia\",\"showlegend\":true,\"x\":[2000,2001,2002,2003,2004,2005,2006,2007,2008,2009,2010,2011,2012,2013,2014,2015,2016,2017,2018,2019,2020,2021,2022,2023],\"xaxis\":\"x\",\"y\":[2.507810809,1.683799127,2.485565738,2.711339837,4.173295589,4.421433127,4.797008824,4.564384269,6.148497875,3.356999574,4.126722591,5.204092443,5.122275581,6.796011428,5.460569506,4.85718718,4.263920864,4.195206334,4.223623653,2.21670564,-8.737884358,6.111372697,3.605680426,2.443471918],\"yaxis\":\"y\",\"type\":\"scattergl\"},{\"hovertemplate\":\"Country Name=Brazil\\u003cbr\\u003eYear=%{x}\\u003cbr\\u003eNilai GDP=%{y}\\u003cextra\\u003e\\u003c\\u002fextra\\u003e\",\"legendgroup\":\"Brazil\",\"line\":{\"color\":\"#FECB52\",\"dash\":\"solid\"},\"marker\":{\"symbol\":\"circle\"},\"mode\":\"markers+lines\",\"name\":\"Brazil\",\"showlegend\":true,\"x\":[2000,2001,2002,2003,2004,2005,2006,2007,2008,2009,2010,2011,2012,2013,2014,2015,2016,2017,2018,2019,2020,2021,2022,2023],\"xaxis\":\"x\",\"y\":[4.387949447,1.389896401,3.053461859,1.140828998,5.759964637,3.202132061,3.961988711,6.069870607,5.094195447,-0.125812002,7.528225818,3.974423079,1.921175986,3.004822669,0.50395574,-3.545763393,-3.275916908,1.322869054,1.783666762,1.220777824,-3.276758796,4.762604379,3.016694354,2.908480487],\"yaxis\":\"y\",\"type\":\"scattergl\"},{\"hovertemplate\":\"Country Name=Barbados\\u003cbr\\u003eYear=%{x}\\u003cbr\\u003eNilai GDP=%{y}\\u003cextra\\u003e\\u003c\\u002fextra\\u003e\",\"legendgroup\":\"Barbados\",\"line\":{\"color\":\"#636efa\",\"dash\":\"solid\"},\"marker\":{\"symbol\":\"circle\"},\"mode\":\"markers+lines\",\"name\":\"Barbados\",\"showlegend\":true,\"x\":[2000,2001,2002,2003,2004,2005,2006,2007,2008,2009,2010,2011,2012,2013,2014,2015,2016,2017,2018,2019,2020,2021,2022,2023],\"xaxis\":\"x\",\"y\":[4.447189623,-2.365464222,0.787401575,2.175480769,1.411598635,3.955457604,6.070545637,2.079183889,0.633461059,-5.017275959,-2.217710437,-0.77239614,-0.249110378,-1.313543468,-0.0582879,2.423925408,2.552677993,0.514753126,-0.746352497,0.379893733,-12.53966641,-1.18319712,13.48086157,4.516489659],\"yaxis\":\"y\",\"type\":\"scattergl\"},{\"hovertemplate\":\"Country Name=Brunei Darussalam\\u003cbr\\u003eYear=%{x}\\u003cbr\\u003eNilai GDP=%{y}\\u003cextra\\u003e\\u003c\\u002fextra\\u003e\",\"legendgroup\":\"Brunei Darussalam\",\"line\":{\"color\":\"#EF553B\",\"dash\":\"solid\"},\"marker\":{\"symbol\":\"circle\"},\"mode\":\"markers+lines\",\"name\":\"Brunei Darussalam\",\"showlegend\":true,\"x\":[2000,2001,2002,2003,2004,2005,2006,2007,2008,2009,2010,2011,2012,2013,2014,2015,2016,2017,2018,2019,2020,2021,2022,2023],\"xaxis\":\"x\",\"y\":[2.849421858,2.744040518,3.872096967,2.903955477,0.504318253,0.387507208,4.397719678,0.154581812,-1.939714638,-1.764535541,2.598965746,3.745318352,0.912841671,-2.126028517,-2.508352566,-0.39238375,-2.477917718,1.328602552,0.052237791,3.869109865,1.13357335,-1.590762601,-1.628331545,1.407068229],\"yaxis\":\"y\",\"type\":\"scattergl\"},{\"hovertemplate\":\"Country Name=Bhutan\\u003cbr\\u003eYear=%{x}\\u003cbr\\u003eNilai GDP=%{y}\\u003cextra\\u003e\\u003c\\u002fextra\\u003e\",\"legendgroup\":\"Bhutan\",\"line\":{\"color\":\"#00cc96\",\"dash\":\"solid\"},\"marker\":{\"symbol\":\"circle\"},\"mode\":\"markers+lines\",\"name\":\"Bhutan\",\"showlegend\":true,\"x\":[2000,2001,2002,2003,2004,2005,2006,2007,2008,2009,2010,2011,2012,2013,2014,2015,2016,2017,2018,2019,2020,2021,2022,2023],\"xaxis\":\"x\",\"y\":[3.355068305,7.328374452,10.44377954,7.786560536,5.157257256,6.935071466,5.640805265,16.10478365,4.529448692,7.667492403,11.9318739,8.307647832,5.095492644,1.658455578,5.717865612,6.568454317,8.400553755,3.507567403,3.501871857,5.755148512,-10.21839742,4.421367389,5.213867838,0.0],\"yaxis\":\"y\",\"type\":\"scattergl\"},{\"hovertemplate\":\"Country Name=Botswana\\u003cbr\\u003eYear=%{x}\\u003cbr\\u003eNilai GDP=%{y}\\u003cextra\\u003e\\u003c\\u002fextra\\u003e\",\"legendgroup\":\"Botswana\",\"line\":{\"color\":\"#ab63fa\",\"dash\":\"solid\"},\"marker\":{\"symbol\":\"circle\"},\"mode\":\"markers+lines\",\"name\":\"Botswana\",\"showlegend\":true,\"x\":[2000,2001,2002,2003,2004,2005,2006,2007,2008,2009,2010,2011,2012,2013,2014,2015,2016,2017,2018,2019,2020,2021,2022,2023],\"xaxis\":\"x\",\"y\":[1.987695834,0.25057395,6.069530876,4.62589475,2.705821706,4.556645653,8.363871093,5.792555777,3.252072958,-14.14423462,10.12220912,6.838529748,-0.170900761,11.10282378,5.694777382,-4.85133564,7.204424759,4.114363663,4.188093554,3.032202574,-8.728752526,11.92063651,5.486028178,2.730919046],\"yaxis\":\"y\",\"type\":\"scattergl\"},{\"hovertemplate\":\"Country Name=Central African Republic\\u003cbr\\u003eYear=%{x}\\u003cbr\\u003eNilai GDP=%{y}\\u003cextra\\u003e\\u003c\\u002fextra\\u003e\",\"legendgroup\":\"Central African Republic\",\"line\":{\"color\":\"#FFA15A\",\"dash\":\"solid\"},\"marker\":{\"symbol\":\"circle\"},\"mode\":\"markers+lines\",\"name\":\"Central African Republic\",\"showlegend\":true,\"x\":[2000,2001,2002,2003,2004,2005,2006,2007,2008,2009,2010,2011,2012,2013,2014,2015,2016,2017,2018,2019,2020,2021,2022,2023],\"xaxis\":\"x\",\"y\":[-2.48943244,4.464739026,3.616542192,-5.397485219,5.994884228,0.908210515,4.77108543,4.607534855,2.054130962,8.587260426,4.630818432,4.194615337,5.053761254,-36.3919771,0.081070515,4.33712103,4.750316841,4.527278213,3.789443593,3.1,0.899999997,0.982919996,0.502110003,0.870251451],\"yaxis\":\"y\",\"type\":\"scattergl\"},{\"hovertemplate\":\"Country Name=Canada\\u003cbr\\u003eYear=%{x}\\u003cbr\\u003eNilai GDP=%{y}\\u003cextra\\u003e\\u003c\\u002fextra\\u003e\",\"legendgroup\":\"Canada\",\"line\":{\"color\":\"#19d3f3\",\"dash\":\"solid\"},\"marker\":{\"symbol\":\"circle\"},\"mode\":\"markers+lines\",\"name\":\"Canada\",\"showlegend\":true,\"x\":[2000,2001,2002,2003,2004,2005,2006,2007,2008,2009,2010,2011,2012,2013,2014,2015,2016,2017,2018,2019,2020,2021,2022,2023],\"xaxis\":\"x\",\"y\":[5.138539186,1.875098132,2.99925535,1.806385135,3.092363835,3.210454357,2.6379438,2.049904611,0.99540631,-2.915086239,3.090806374,3.13719439,1.755661325,2.325813574,2.873466772,0.649970994,1.038550935,3.033834903,2.742963431,1.908431925,-5.038233441,5.286956891,3.819866339,1.065994453],\"yaxis\":\"y\",\"type\":\"scattergl\"},{\"hovertemplate\":\"Country Name=Central Europe and the Baltics\\u003cbr\\u003eYear=%{x}\\u003cbr\\u003eNilai GDP=%{y}\\u003cextra\\u003e\\u003c\\u002fextra\\u003e\",\"legendgroup\":\"Central Europe and the Baltics\",\"line\":{\"color\":\"#FF6692\",\"dash\":\"solid\"},\"marker\":{\"symbol\":\"circle\"},\"mode\":\"markers+lines\",\"name\":\"Central Europe and the Baltics\",\"showlegend\":true,\"x\":[2000,2001,2002,2003,2004,2005,2006,2007,2008,2009,2010,2011,2012,2013,2014,2015,2016,2017,2018,2019,2020,2021,2022,2023],\"xaxis\":\"x\",\"y\":[3.956858383,3.080647759,3.614744067,4.087104826,5.83995749,5.019021837,6.594761131,6.4329645,3.9356154,-3.506548725,1.436268024,3.514208876,0.825752521,0.667716325,3.215752783,4.026322092,2.75319275,5.101273967,4.946400183,3.908521817,-3.41747604,6.433398707,4.247073127,0.511703045],\"yaxis\":\"y\",\"type\":\"scattergl\"},{\"hovertemplate\":\"Country Name=Switzerland\\u003cbr\\u003eYear=%{x}\\u003cbr\\u003eNilai GDP=%{y}\\u003cextra\\u003e\\u003c\\u002fextra\\u003e\",\"legendgroup\":\"Switzerland\",\"line\":{\"color\":\"#B6E880\",\"dash\":\"solid\"},\"marker\":{\"symbol\":\"circle\"},\"mode\":\"markers+lines\",\"name\":\"Switzerland\",\"showlegend\":true,\"x\":[2000,2001,2002,2003,2004,2005,2006,2007,2008,2009,2010,2011,2012,2013,2014,2015,2016,2017,2018,2019,2020,2021,2022,2023],\"xaxis\":\"x\",\"y\":[3.958719719,1.575661967,-0.073217084,-0.032398477,2.70170921,2.749698985,4.07362845,3.916375818,2.807983632,-2.297374631,3.243397336,1.813108192,1.179253833,1.792144057,2.349881275,1.644627687,2.068689667,1.362799557,2.860445795,1.141982325,-2.141737207,5.391888041,2.568328178,0.716066869],\"yaxis\":\"y\",\"type\":\"scattergl\"},{\"hovertemplate\":\"Country Name=Channel Islands\\u003cbr\\u003eYear=%{x}\\u003cbr\\u003eNilai GDP=%{y}\\u003cextra\\u003e\\u003c\\u002fextra\\u003e\",\"legendgroup\":\"Channel Islands\",\"line\":{\"color\":\"#FF97FF\",\"dash\":\"solid\"},\"marker\":{\"symbol\":\"circle\"},\"mode\":\"markers+lines\",\"name\":\"Channel Islands\",\"showlegend\":true,\"x\":[2000,2001,2002,2003,2004,2005,2006,2007,2008,2009,2010,2011,2012,2013,2014,2015,2016,2017,2018,2019,2020,2021,2022,2023],\"xaxis\":\"x\",\"y\":[0.0,0.0,0.0,0.0,0.0,0.0,0.0,0.0,0.0,0.0,0.0,0.0,0.0,0.0,0.0,0.0,0.0,2.574424182,2.066446739,2.360744654,-8.467597317,15.4552113,7.805178745,0.0],\"yaxis\":\"y\",\"type\":\"scattergl\"},{\"hovertemplate\":\"Country Name=Chile\\u003cbr\\u003eYear=%{x}\\u003cbr\\u003eNilai GDP=%{y}\\u003cextra\\u003e\\u003c\\u002fextra\\u003e\",\"legendgroup\":\"Chile\",\"line\":{\"color\":\"#FECB52\",\"dash\":\"solid\"},\"marker\":{\"symbol\":\"circle\"},\"mode\":\"markers+lines\",\"name\":\"Chile\",\"showlegend\":true,\"x\":[2000,2001,2002,2003,2004,2005,2006,2007,2008,2009,2010,2011,2012,2013,2014,2015,2016,2017,2018,2019,2020,2021,2022,2023],\"xaxis\":\"x\",\"y\":[4.971621489,3.154034924,3.20279914,4.723245267,6.674254167,5.837045715,6.049990829,5.168230987,3.789392802,-1.118037233,5.851651017,6.223896787,6.155340021,3.308508245,1.792649474,2.151942499,1.753038746,1.357695378,3.990029475,0.634367534,-6.143474792,11.33395707,2.058740081,0.218780667],\"yaxis\":\"y\",\"type\":\"scattergl\"},{\"hovertemplate\":\"Country Name=China\\u003cbr\\u003eYear=%{x}\\u003cbr\\u003eNilai GDP=%{y}\\u003cextra\\u003e\\u003c\\u002fextra\\u003e\",\"legendgroup\":\"China\",\"line\":{\"color\":\"#636efa\",\"dash\":\"solid\"},\"marker\":{\"symbol\":\"circle\"},\"mode\":\"markers+lines\",\"name\":\"China\",\"showlegend\":true,\"x\":[2000,2001,2002,2003,2004,2005,2006,2007,2008,2009,2010,2011,2012,2013,2014,2015,2016,2017,2018,2019,2020,2021,2022,2023],\"xaxis\":\"x\",\"y\":[8.490093406,8.335733478,9.13363079,10.03803048,10.11362138,11.39459181,12.72095567,14.23086093,9.650678919,9.398725633,10.63587106,9.550832179,7.863736449,7.766150098,7.425763656,7.041328879,6.848762205,6.947200793,6.749773832,5.950500754,2.238638356,8.448469417,2.989084086,5.2],\"yaxis\":\"y\",\"type\":\"scattergl\"},{\"hovertemplate\":\"Country Name=Cote d'Ivoire\\u003cbr\\u003eYear=%{x}\\u003cbr\\u003eNilai GDP=%{y}\\u003cextra\\u003e\\u003c\\u002fextra\\u003e\",\"legendgroup\":\"Cote d'Ivoire\",\"line\":{\"color\":\"#EF553B\",\"dash\":\"solid\"},\"marker\":{\"symbol\":\"circle\"},\"mode\":\"markers+lines\",\"name\":\"Cote d'Ivoire\",\"showlegend\":true,\"x\":[2000,2001,2002,2003,2004,2005,2006,2007,2008,2009,2010,2011,2012,2013,2014,2015,2016,2017,2018,2019,2020,2021,2022,2023],\"xaxis\":\"x\",\"y\":[-0.265789462,-2.154012491,-2.730526474,-4.725866586,3.185038226,0.996065565,2.815578593,1.101429768,4.782665979,3.603321567,6.848049399,-5.37044724,7.620411765,10.76021313,9.371999942,7.194949427,7.17275964,7.410762426,4.843146059,6.721371676,0.699728593,7.063329102,6.217850913,6.53593302],\"yaxis\":\"y\",\"type\":\"scattergl\"},{\"hovertemplate\":\"Country Name=Cameroon\\u003cbr\\u003eYear=%{x}\\u003cbr\\u003eNilai GDP=%{y}\\u003cextra\\u003e\\u003c\\u002fextra\\u003e\",\"legendgroup\":\"Cameroon\",\"line\":{\"color\":\"#00cc96\",\"dash\":\"solid\"},\"marker\":{\"symbol\":\"circle\"},\"mode\":\"markers+lines\",\"name\":\"Cameroon\",\"showlegend\":true,\"x\":[2000,2001,2002,2003,2004,2005,2006,2007,2008,2009,2010,2011,2012,2013,2014,2015,2016,2017,2018,2019,2020,2021,2022,2023],\"xaxis\":\"x\",\"y\":[3.832417794,4.324261192,4.477026834,5.453153689,7.048862819,2.228270209,3.809583276,4.32758901,2.847677889,2.579251777,2.899024721,3.379211285,4.625978722,4.995529161,5.719818145,5.666952987,4.535794237,3.541176549,3.955514239,3.475059982,0.259932916,3.338857472,3.582796319,3.993389509],\"yaxis\":\"y\",\"type\":\"scattergl\"},{\"hovertemplate\":\"Country Name=Congo, Dem. Rep.\\u003cbr\\u003eYear=%{x}\\u003cbr\\u003eNilai GDP=%{y}\\u003cextra\\u003e\\u003c\\u002fextra\\u003e\",\"legendgroup\":\"Congo, Dem. Rep.\",\"line\":{\"color\":\"#ab63fa\",\"dash\":\"solid\"},\"marker\":{\"symbol\":\"circle\"},\"mode\":\"markers+lines\",\"name\":\"Congo, Dem. Rep.\",\"showlegend\":true,\"x\":[2000,2001,2002,2003,2004,2005,2006,2007,2008,2009,2010,2011,2012,2013,2014,2015,2016,2017,2018,2019,2020,2021,2022,2023],\"xaxis\":\"x\",\"y\":[-6.910927317,-2.100173025,2.947765184,5.577822311,6.738373933,6.135151155,5.320979565,6.259477764,6.225894269,2.85506401,7.107976576,6.87467089,7.086898947,8.481956636,9.470288099,6.916167119,2.399398911,3.726947659,5.8211211,4.384528874,1.735422767,6.200154011,8.924447626,8.560862509],\"yaxis\":\"y\",\"type\":\"scattergl\"},{\"hovertemplate\":\"Country Name=Congo, Rep.\\u003cbr\\u003eYear=%{x}\\u003cbr\\u003eNilai GDP=%{y}\\u003cextra\\u003e\\u003c\\u002fextra\\u003e\",\"legendgroup\":\"Congo, Rep.\",\"line\":{\"color\":\"#FFA15A\",\"dash\":\"solid\"},\"marker\":{\"symbol\":\"circle\"},\"mode\":\"markers+lines\",\"name\":\"Congo, Rep.\",\"showlegend\":true,\"x\":[2000,2001,2002,2003,2004,2005,2006,2007,2008,2009,2010,2011,2012,2013,2014,2015,2016,2017,2018,2019,2020,2021,2022,2023],\"xaxis\":\"x\",\"y\":[7.575980395,3.802601899,4.581870061,0.813264076,3.476631621,7.755758978,7.986238363,-6.613994804,6.306375956,11.63728886,9.931265431,2.205919363,9.947153143,-0.712434452,6.646065409,0.415193061,-8.685243439,-5.594773719,-2.304317801,1.124477074,-6.267777996,1.01507338,1.475356132,1.906864263],\"yaxis\":\"y\",\"type\":\"scattergl\"},{\"hovertemplate\":\"Country Name=Colombia\\u003cbr\\u003eYear=%{x}\\u003cbr\\u003eNilai GDP=%{y}\\u003cextra\\u003e\\u003c\\u002fextra\\u003e\",\"legendgroup\":\"Colombia\",\"line\":{\"color\":\"#19d3f3\",\"dash\":\"solid\"},\"marker\":{\"symbol\":\"circle\"},\"mode\":\"markers+lines\",\"name\":\"Colombia\",\"showlegend\":true,\"x\":[2000,2001,2002,2003,2004,2005,2006,2007,2008,2009,2010,2011,2012,2013,2014,2015,2016,2017,2018,2019,2020,2021,2022,2023],\"xaxis\":\"x\",\"y\":[2.924861482,1.677898308,2.503980467,3.918271903,5.333022068,4.828761108,6.716868698,6.738194691,3.283446186,1.139648645,4.494658971,6.947891982,3.912635767,5.13399352,4.499030001,2.955901375,2.087382502,1.359360868,2.564324283,3.186855392,-7.185914138,10.80119819,7.288883887,0.612181322],\"yaxis\":\"y\",\"type\":\"scattergl\"},{\"hovertemplate\":\"Country Name=Comoros\\u003cbr\\u003eYear=%{x}\\u003cbr\\u003eNilai GDP=%{y}\\u003cextra\\u003e\\u003c\\u002fextra\\u003e\",\"legendgroup\":\"Comoros\",\"line\":{\"color\":\"#FF6692\",\"dash\":\"solid\"},\"marker\":{\"symbol\":\"circle\"},\"mode\":\"markers+lines\",\"name\":\"Comoros\",\"showlegend\":true,\"x\":[2000,2001,2002,2003,2004,2005,2006,2007,2008,2009,2010,2011,2012,2013,2014,2015,2016,2017,2018,2019,2020,2021,2022,2023],\"xaxis\":\"x\",\"y\":[10.84787862,2.332907102,2.324944861,2.103871636,1.919659807,2.83754787,2.646955476,0.800042349,3.964611189,3.240740728,3.77776675,4.143506695,3.168409869,4.466247315,2.106657589,1.147350761,3.320446562,3.815762877,3.642451138,1.760780239,-0.195556827,2.112195577,2.387678485,2.701093579],\"yaxis\":\"y\",\"type\":\"scattergl\"},{\"hovertemplate\":\"Country Name=Cabo Verde\\u003cbr\\u003eYear=%{x}\\u003cbr\\u003eNilai GDP=%{y}\\u003cextra\\u003e\\u003c\\u002fextra\\u003e\",\"legendgroup\":\"Cabo Verde\",\"line\":{\"color\":\"#B6E880\",\"dash\":\"solid\"},\"marker\":{\"symbol\":\"circle\"},\"mode\":\"markers+lines\",\"name\":\"Cabo Verde\",\"showlegend\":true,\"x\":[2000,2001,2002,2003,2004,2005,2006,2007,2008,2009,2010,2011,2012,2013,2014,2015,2016,2017,2018,2019,2020,2021,2022,2023],\"xaxis\":\"x\",\"y\":[14.28486885,2.231654545,5.25089117,4.176259326,10.19707263,6.912457957,7.983750448,15.17068797,7.039011296,-1.503586724,1.83641915,3.924718213,1.083648484,0.632136727,0.69666684,0.936026508,4.280714827,4.55131481,3.706964607,6.947826325,-20.80527592,7.033530103,17.43907944,5.149134858],\"yaxis\":\"y\",\"type\":\"scattergl\"},{\"hovertemplate\":\"Country Name=Costa Rica\\u003cbr\\u003eYear=%{x}\\u003cbr\\u003eNilai GDP=%{y}\\u003cextra\\u003e\\u003c\\u002fextra\\u003e\",\"legendgroup\":\"Costa Rica\",\"line\":{\"color\":\"#FF97FF\",\"dash\":\"solid\"},\"marker\":{\"symbol\":\"circle\"},\"mode\":\"markers+lines\",\"name\":\"Costa Rica\",\"showlegend\":true,\"x\":[2000,2001,2002,2003,2004,2005,2006,2007,2008,2009,2010,2011,2012,2013,2014,2015,2016,2017,2018,2019,2020,2021,2022,2023],\"xaxis\":\"x\",\"y\":[3.868718091,3.491169871,3.416876389,4.317179864,4.424599598,3.976666368,7.326695432,8.215131984,4.738174877,-0.873455941,5.360343477,4.403159239,4.88259241,2.494766114,3.542109876,3.652080968,4.204323254,4.157698962,2.615904403,2.417511817,-4.273354321,7.935762247,4.55149178,5.111921832],\"yaxis\":\"y\",\"type\":\"scattergl\"},{\"hovertemplate\":\"Country Name=Caribbean small states\\u003cbr\\u003eYear=%{x}\\u003cbr\\u003eNilai GDP=%{y}\\u003cextra\\u003e\\u003c\\u002fextra\\u003e\",\"legendgroup\":\"Caribbean small states\",\"line\":{\"color\":\"#FECB52\",\"dash\":\"solid\"},\"marker\":{\"symbol\":\"circle\"},\"mode\":\"markers+lines\",\"name\":\"Caribbean small states\",\"showlegend\":true,\"x\":[2000,2001,2002,2003,2004,2005,2006,2007,2008,2009,2010,2011,2012,2013,2014,2015,2016,2017,2018,2019,2020,2021,2022,2023],\"xaxis\":\"x\",\"y\":[3.658960992,1.299605472,2.154775703,1.849366797,2.823409214,3.280619789,4.456252799,3.30016126,0.542179394,-2.599820145,0.991500471,1.716845682,2.328032415,0.07382763,1.763824459,0.697970066,0.471963597,1.943260286,2.891163477,1.024653223,-9.193462793,10.44403235,22.47821734,12.71585628],\"yaxis\":\"y\",\"type\":\"scattergl\"},{\"hovertemplate\":\"Country Name=Cuba\\u003cbr\\u003eYear=%{x}\\u003cbr\\u003eNilai GDP=%{y}\\u003cextra\\u003e\\u003c\\u002fextra\\u003e\",\"legendgroup\":\"Cuba\",\"line\":{\"color\":\"#636efa\",\"dash\":\"solid\"},\"marker\":{\"symbol\":\"circle\"},\"mode\":\"markers+lines\",\"name\":\"Cuba\",\"showlegend\":true,\"x\":[2000,2001,2002,2003,2004,2005,2006,2007,2008,2009,2010,2011,2012,2013,2014,2015,2016,2017,2018,2019,2020,2021,2022,2023],\"xaxis\":\"x\",\"y\":[5.914760019,3.185029904,1.424821261,3.792740223,5.77053807,11.20165656,12.06586298,7.262136966,4.116828042,1.451305431,2.390352297,2.802300836,3.014900289,2.747602563,1.047576632,4.438333589,0.512843096,1.809791772,2.247948541,-0.163087224,-10.9490846,1.253693425,1.774853995,0.0],\"yaxis\":\"y\",\"type\":\"scattergl\"},{\"hovertemplate\":\"Country Name=Curacao\\u003cbr\\u003eYear=%{x}\\u003cbr\\u003eNilai GDP=%{y}\\u003cextra\\u003e\\u003c\\u002fextra\\u003e\",\"legendgroup\":\"Curacao\",\"line\":{\"color\":\"#EF553B\",\"dash\":\"solid\"},\"marker\":{\"symbol\":\"circle\"},\"mode\":\"markers+lines\",\"name\":\"Curacao\",\"showlegend\":true,\"x\":[2000,2001,2002,2003,2004,2005,2006,2007,2008,2009,2010,2011,2012,2013,2014,2015,2016,2017,2018,2019,2020,2021,2022,2023],\"xaxis\":\"x\",\"y\":[0.0,-0.695753704,0.397065217,0.288186682,0.208461073,0.676425345,1.63593469,2.469963228,2.18804308,-0.531308242,0.082306609,0.508457482,-0.348950824,-0.635696908,-0.637397373,0.458151544,-1.067708487,-1.276208101,-2.104111331,-3.206132303,-18.03845768,4.2,7.9,0.0],\"yaxis\":\"y\",\"type\":\"scattergl\"},{\"hovertemplate\":\"Country Name=Cayman Islands\\u003cbr\\u003eYear=%{x}\\u003cbr\\u003eNilai GDP=%{y}\\u003cextra\\u003e\\u003c\\u002fextra\\u003e\",\"legendgroup\":\"Cayman Islands\",\"line\":{\"color\":\"#00cc96\",\"dash\":\"solid\"},\"marker\":{\"symbol\":\"circle\"},\"mode\":\"markers+lines\",\"name\":\"Cayman Islands\",\"showlegend\":true,\"x\":[2000,2001,2002,2003,2004,2005,2006,2007,2008,2009,2010,2011,2012,2013,2014,2015,2016,2017,2018,2019,2020,2021,2022,2023],\"xaxis\":\"x\",\"y\":[0.0,0.0,0.0,0.0,0.0,0.0,0.0,3.162625338,-0.357401373,-7.200482782,-2.715636823,1.169062695,1.229753683,1.279330593,2.654529322,2.833122427,3.239973614,3.184047307,4.267265672,3.915636377,-4.954807322,4.904929542,5.15632992,0.0],\"yaxis\":\"y\",\"type\":\"scattergl\"},{\"hovertemplate\":\"Country Name=Cyprus\\u003cbr\\u003eYear=%{x}\\u003cbr\\u003eNilai GDP=%{y}\\u003cextra\\u003e\\u003c\\u002fextra\\u003e\",\"legendgroup\":\"Cyprus\",\"line\":{\"color\":\"#ab63fa\",\"dash\":\"solid\"},\"marker\":{\"symbol\":\"circle\"},\"mode\":\"markers+lines\",\"name\":\"Cyprus\",\"showlegend\":true,\"x\":[2000,2001,2002,2003,2004,2005,2006,2007,2008,2009,2010,2011,2012,2013,2014,2015,2016,2017,2018,2019,2020,2021,2022,2023],\"xaxis\":\"x\",\"y\":[5.965310315,3.952560541,3.722956499,2.623286123,5.026343926,4.853003838,4.713828666,5.098068453,3.646811991,-2.015262359,2.283544997,0.416712763,-3.447381424,-6.587482257,-1.776061912,3.418923188,6.573580202,5.733476139,5.647664896,5.537254811,-3.443596379,9.911311792,5.058128008,2.466934965],\"yaxis\":\"y\",\"type\":\"scattergl\"},{\"hovertemplate\":\"Country Name=Czechia\\u003cbr\\u003eYear=%{x}\\u003cbr\\u003eNilai GDP=%{y}\\u003cextra\\u003e\\u003c\\u002fextra\\u003e\",\"legendgroup\":\"Czechia\",\"line\":{\"color\":\"#FFA15A\",\"dash\":\"solid\"},\"marker\":{\"symbol\":\"circle\"},\"mode\":\"markers+lines\",\"name\":\"Czechia\",\"showlegend\":true,\"x\":[2000,2001,2002,2003,2004,2005,2006,2007,2008,2009,2010,2011,2012,2013,2014,2015,2016,2017,2018,2019,2020,2021,2022,2023],\"xaxis\":\"x\",\"y\":[4.001028635,3.042976563,1.569855328,3.583688459,4.814261001,6.60161753,6.766932681,5.570338859,2.686411951,-4.657331092,2.434902159,1.760359624,-0.785004299,-0.045903674,2.262102897,5.388380838,2.53728452,5.168724304,3.22008807,3.029878663,-5.502967961,3.553021309,2.35100354,-0.311479452],\"yaxis\":\"y\",\"type\":\"scattergl\"},{\"hovertemplate\":\"Country Name=Germany\\u003cbr\\u003eYear=%{x}\\u003cbr\\u003eNilai GDP=%{y}\\u003cextra\\u003e\\u003c\\u002fextra\\u003e\",\"legendgroup\":\"Germany\",\"line\":{\"color\":\"#19d3f3\",\"dash\":\"solid\"},\"marker\":{\"symbol\":\"circle\"},\"mode\":\"markers+lines\",\"name\":\"Germany\",\"showlegend\":true,\"x\":[2000,2001,2002,2003,2004,2005,2006,2007,2008,2009,2010,2011,2012,2013,2014,2015,2016,2017,2018,2019,2020,2021,2022,2023],\"xaxis\":\"x\",\"y\":[2.912502964,1.681468481,-0.197973835,-0.700116686,1.175088132,0.731707164,3.816441913,2.976455131,0.959879134,-5.693836336,4.179882499,3.925192705,0.418497594,0.437591303,2.209543431,1.491931528,2.229999868,2.680231114,0.981232606,1.075471636,-3.826768716,3.163819942,1.806208967,-0.304934576],\"yaxis\":\"y\",\"type\":\"scattergl\"},{\"hovertemplate\":\"Country Name=Djibouti\\u003cbr\\u003eYear=%{x}\\u003cbr\\u003eNilai GDP=%{y}\\u003cextra\\u003e\\u003c\\u002fextra\\u003e\",\"legendgroup\":\"Djibouti\",\"line\":{\"color\":\"#FF6692\",\"dash\":\"solid\"},\"marker\":{\"symbol\":\"circle\"},\"mode\":\"markers+lines\",\"name\":\"Djibouti\",\"showlegend\":true,\"x\":[2000,2001,2002,2003,2004,2005,2006,2007,2008,2009,2010,2011,2012,2013,2014,2015,2016,2017,2018,2019,2020,2021,2022,2023],\"xaxis\":\"x\",\"y\":[0.0,0.0,0.0,0.0,0.0,0.0,0.0,0.0,0.0,0.0,0.0,0.0,0.0,0.0,7.061543242,7.526108919,7.123432337,5.458091517,4.774416888,5.5451306,1.316363242,4.522347746,3.72857647,6.676649644],\"yaxis\":\"y\",\"type\":\"scattergl\"},{\"hovertemplate\":\"Country Name=Dominica\\u003cbr\\u003eYear=%{x}\\u003cbr\\u003eNilai GDP=%{y}\\u003cextra\\u003e\\u003c\\u002fextra\\u003e\",\"legendgroup\":\"Dominica\",\"line\":{\"color\":\"#B6E880\",\"dash\":\"solid\"},\"marker\":{\"symbol\":\"circle\"},\"mode\":\"markers+lines\",\"name\":\"Dominica\",\"showlegend\":true,\"x\":[2000,2001,2002,2003,2004,2005,2006,2007,2008,2009,2010,2011,2012,2013,2014,2015,2016,2017,2018,2019,2020,2021,2022,2023],\"xaxis\":\"x\",\"y\":[2.340219321,-0.06384473,-2.827998893,6.353137122,3.050690295,0.655862269,4.659455486,6.352972439,7.121057986,-1.169590643,0.6726344,-0.223550688,-1.059000243,-0.999940631,4.753786581,-2.731503063,2.763647982,-6.618994633,3.547584418,5.502483437,-16.60410952,6.890549417,5.583546263,4.712238185],\"yaxis\":\"y\",\"type\":\"scattergl\"},{\"hovertemplate\":\"Country Name=Denmark\\u003cbr\\u003eYear=%{x}\\u003cbr\\u003eNilai GDP=%{y}\\u003cextra\\u003e\\u003c\\u002fextra\\u003e\",\"legendgroup\":\"Denmark\",\"line\":{\"color\":\"#FF97FF\",\"dash\":\"solid\"},\"marker\":{\"symbol\":\"circle\"},\"mode\":\"markers+lines\",\"name\":\"Denmark\",\"showlegend\":true,\"x\":[2000,2001,2002,2003,2004,2005,2006,2007,2008,2009,2010,2011,2012,2013,2014,2015,2016,2017,2018,2019,2020,2021,2022,2023],\"xaxis\":\"x\",\"y\":[3.746862595,0.823152998,0.466345571,0.390058556,2.668219267,2.336641308,3.913007978,0.909238928,-0.512016745,-4.90654773,1.870991147,1.336777767,0.226499792,0.933340972,1.619393811,2.342591108,3.245956985,2.821736341,1.989537315,1.493486959,-2.424512679,6.844521902,2.731174454,1.889610386],\"yaxis\":\"y\",\"type\":\"scattergl\"},{\"hovertemplate\":\"Country Name=Dominican Republic\\u003cbr\\u003eYear=%{x}\\u003cbr\\u003eNilai GDP=%{y}\\u003cextra\\u003e\\u003c\\u002fextra\\u003e\",\"legendgroup\":\"Dominican Republic\",\"line\":{\"color\":\"#FECB52\",\"dash\":\"solid\"},\"marker\":{\"symbol\":\"circle\"},\"mode\":\"markers+lines\",\"name\":\"Dominican Republic\",\"showlegend\":true,\"x\":[2000,2001,2002,2003,2004,2005,2006,2007,2008,2009,2010,2011,2012,2013,2014,2015,2016,2017,2018,2019,2020,2021,2022,2023],\"xaxis\":\"x\",\"y\":[4.66176228,2.459516368,4.495103403,-1.345706185,2.570134279,9.428236947,9.174355406,7.415951715,3.209504262,0.946155168,8.33965106,3.133423003,2.717367897,4.875205093,7.05046369,6.927018772,6.659200263,4.666704677,6.982527585,5.05216802,-6.720239373,12.27199023,4.858324036,2.360615687],\"yaxis\":\"y\",\"type\":\"scattergl\"},{\"hovertemplate\":\"Country Name=Algeria\\u003cbr\\u003eYear=%{x}\\u003cbr\\u003eNilai GDP=%{y}\\u003cextra\\u003e\\u003c\\u002fextra\\u003e\",\"legendgroup\":\"Algeria\",\"line\":{\"color\":\"#636efa\",\"dash\":\"solid\"},\"marker\":{\"symbol\":\"circle\"},\"mode\":\"markers+lines\",\"name\":\"Algeria\",\"showlegend\":true,\"x\":[2000,2001,2002,2003,2004,2005,2006,2007,2008,2009,2010,2011,2012,2013,2014,2015,2016,2017,2018,2019,2020,2021,2022,2023],\"xaxis\":\"x\",\"y\":[3.800000001,2.999999999,5.4,6.5,4.5,5.4,2.9,3.1,2.5,1.2,4.8,3.0,2.4,2.6,4.1,3.2,3.9,1.5,1.4,0.9,-5.0,3.8,3.6,4.1],\"yaxis\":\"y\",\"type\":\"scattergl\"},{\"hovertemplate\":\"Country Name=East Asia & Pacific (excluding high income)\\u003cbr\\u003eYear=%{x}\\u003cbr\\u003eNilai GDP=%{y}\\u003cextra\\u003e\\u003c\\u002fextra\\u003e\",\"legendgroup\":\"East Asia & Pacific (excluding high income)\",\"line\":{\"color\":\"#EF553B\",\"dash\":\"solid\"},\"marker\":{\"symbol\":\"circle\"},\"mode\":\"markers+lines\",\"name\":\"East Asia & Pacific (excluding high income)\",\"showlegend\":true,\"x\":[2000,2001,2002,2003,2004,2005,2006,2007,2008,2009,2010,2011,2012,2013,2014,2015,2016,2017,2018,2019,2020,2021,2022,2023],\"xaxis\":\"x\",\"y\":[7.646578086,6.979447267,8.06013083,8.944748215,9.12128478,9.976957561,11.07850906,12.48669197,8.615688095,7.984966414,9.921448845,8.642957947,7.580305453,7.298727893,6.984331944,6.70715877,6.564711869,6.707696403,6.524991751,5.7818918,1.246926838,7.603749708,3.413617869,5.068522137],\"yaxis\":\"y\",\"type\":\"scattergl\"},{\"hovertemplate\":\"Country Name=Early-demographic dividend\\u003cbr\\u003eYear=%{x}\\u003cbr\\u003eNilai GDP=%{y}\\u003cextra\\u003e\\u003c\\u002fextra\\u003e\",\"legendgroup\":\"Early-demographic dividend\",\"line\":{\"color\":\"#00cc96\",\"dash\":\"solid\"},\"marker\":{\"symbol\":\"circle\"},\"mode\":\"markers+lines\",\"name\":\"Early-demographic dividend\",\"showlegend\":true,\"x\":[2000,2001,2002,2003,2004,2005,2006,2007,2008,2009,2010,2011,2012,2013,2014,2015,2016,2017,2018,2019,2020,2021,2022,2023],\"xaxis\":\"x\",\"y\":[4.428178266,1.030903878,1.773276619,5.321847894,6.14890498,5.854936644,6.028008664,5.672343311,3.444825298,0.635224721,6.513413512,4.918402142,4.182683499,4.057999546,4.120782579,4.413613006,4.419664097,4.632867878,3.840209667,2.402270911,-4.368287739,7.621364417,5.582759728,4.043778513],\"yaxis\":\"y\",\"type\":\"scattergl\"},{\"hovertemplate\":\"Country Name=East Asia & Pacific\\u003cbr\\u003eYear=%{x}\\u003cbr\\u003eNilai GDP=%{y}\\u003cextra\\u003e\\u003c\\u002fextra\\u003e\",\"legendgroup\":\"East Asia & Pacific\",\"line\":{\"color\":\"#ab63fa\",\"dash\":\"solid\"},\"marker\":{\"symbol\":\"circle\"},\"mode\":\"markers+lines\",\"name\":\"East Asia & Pacific\",\"showlegend\":true,\"x\":[2000,2001,2002,2003,2004,2005,2006,2007,2008,2009,2010,2011,2012,2013,2014,2015,2016,2017,2018,2019,2020,2021,2022,2023],\"xaxis\":\"x\",\"y\":[5.396241428,3.299042532,4.377250818,4.947553287,5.867643987,5.899301158,6.453779318,7.466572879,4.384950012,2.560947134,7.609593533,5.461872631,5.183055659,5.245060847,4.758704284,4.728386041,4.659079892,5.053174482,4.759154814,3.960221914,-0.144692822,6.221136264,2.88602958,4.095178604],\"yaxis\":\"y\",\"type\":\"scattergl\"},{\"hovertemplate\":\"Country Name=Europe & Central Asia (excluding high income)\\u003cbr\\u003eYear=%{x}\\u003cbr\\u003eNilai GDP=%{y}\\u003cextra\\u003e\\u003c\\u002fextra\\u003e\",\"legendgroup\":\"Europe & Central Asia (excluding high income)\",\"line\":{\"color\":\"#FFA15A\",\"dash\":\"solid\"},\"marker\":{\"symbol\":\"circle\"},\"mode\":\"markers+lines\",\"name\":\"Europe & Central Asia (excluding high income)\",\"showlegend\":true,\"x\":[2000,2001,2002,2003,2004,2005,2006,2007,2008,2009,2010,2011,2012,2013,2014,2015,2016,2017,2018,2019,2020,2021,2022,2023],\"xaxis\":\"x\",\"y\":[6.778814739,-0.13310614,6.396069514,6.601420749,9.633614659,8.460146405,8.228536538,7.075201711,3.06266606,-3.451576642,7.067482975,8.586645288,4.050547983,6.585980578,3.372913244,3.587552293,2.785334136,5.821470379,3.513492106,2.247224928,0.321073682,9.000365103,3.077615681,4.606589529],\"yaxis\":\"y\",\"type\":\"scattergl\"},{\"hovertemplate\":\"Country Name=Europe & Central Asia\\u003cbr\\u003eYear=%{x}\\u003cbr\\u003eNilai GDP=%{y}\\u003cextra\\u003e\\u003c\\u002fextra\\u003e\",\"legendgroup\":\"Europe & Central Asia\",\"line\":{\"color\":\"#19d3f3\",\"dash\":\"solid\"},\"marker\":{\"symbol\":\"circle\"},\"mode\":\"markers+lines\",\"name\":\"Europe & Central Asia\",\"showlegend\":true,\"x\":[2000,2001,2002,2003,2004,2005,2006,2007,2008,2009,2010,2011,2012,2013,2014,2015,2016,2017,2018,2019,2020,2021,2022,2023],\"xaxis\":\"x\",\"y\":[4.35525178,2.258353407,1.584291485,1.794935889,3.19087691,2.671830192,3.865035264,3.651589897,1.016573256,-4.457882374,2.659273741,2.347580292,0.359988683,0.847820022,1.926600373,2.058147045,1.899821631,2.908722502,2.13444056,1.80525623,-5.462443712,6.523851921,3.157498664,0.964032942],\"yaxis\":\"y\",\"type\":\"scattergl\"},{\"hovertemplate\":\"Country Name=Ecuador\\u003cbr\\u003eYear=%{x}\\u003cbr\\u003eNilai GDP=%{y}\\u003cextra\\u003e\\u003c\\u002fextra\\u003e\",\"legendgroup\":\"Ecuador\",\"line\":{\"color\":\"#FF6692\",\"dash\":\"solid\"},\"marker\":{\"symbol\":\"circle\"},\"mode\":\"markers+lines\",\"name\":\"Ecuador\",\"showlegend\":true,\"x\":[2000,2001,2002,2003,2004,2005,2006,2007,2008,2009,2010,2011,2012,2013,2014,2015,2016,2017,2018,2019,2020,2021,2022,2023],\"xaxis\":\"x\",\"y\":[1.091801564,4.206271857,4.928095496,2.884500365,6.832397366,5.39862244,4.341131986,1.902428597,6.564920682,1.09101297,4.02913788,8.481476563,5.783212336,7.211236537,4.226065204,0.119692109,-0.687954246,5.97039881,1.044295547,0.165403533,-9.245096377,9.818417748,6.186139073,2.355217907],\"yaxis\":\"y\",\"type\":\"scattergl\"},{\"hovertemplate\":\"Country Name=Egypt, Arab Rep.\\u003cbr\\u003eYear=%{x}\\u003cbr\\u003eNilai GDP=%{y}\\u003cextra\\u003e\\u003c\\u002fextra\\u003e\",\"legendgroup\":\"Egypt, Arab Rep.\",\"line\":{\"color\":\"#B6E880\",\"dash\":\"solid\"},\"marker\":{\"symbol\":\"circle\"},\"mode\":\"markers+lines\",\"name\":\"Egypt, Arab Rep.\",\"showlegend\":true,\"x\":[2000,2001,2002,2003,2004,2005,2006,2007,2008,2009,2010,2011,2012,2013,2014,2015,2016,2017,2018,2019,2020,2021,2022,2023],\"xaxis\":\"x\",\"y\":[6.37000383,3.535251974,2.390204027,3.193454738,4.09207161,4.471744471,6.843838194,7.087827427,7.156283567,4.6735998,5.147234857,1.764571948,2.226199798,2.185466054,2.915911881,4.372019078,4.346643456,4.181221,5.331108619,5.552093071,3.550164839,3.290646012,6.587845609,3.759005419],\"yaxis\":\"y\",\"type\":\"scattergl\"},{\"hovertemplate\":\"Country Name=Euro area\\u003cbr\\u003eYear=%{x}\\u003cbr\\u003eNilai GDP=%{y}\\u003cextra\\u003e\\u003c\\u002fextra\\u003e\",\"legendgroup\":\"Euro area\",\"line\":{\"color\":\"#FF97FF\",\"dash\":\"solid\"},\"marker\":{\"symbol\":\"circle\"},\"mode\":\"markers+lines\",\"name\":\"Euro area\",\"showlegend\":true,\"x\":[2000,2001,2002,2003,2004,2005,2006,2007,2008,2009,2010,2011,2012,2013,2014,2015,2016,2017,2018,2019,2020,2021,2022,2023],\"xaxis\":\"x\",\"y\":[3.861178194,2.199225065,0.9595418,0.702667309,2.301898875,1.692943716,3.239196023,3.011154804,0.424721952,-4.534148008,2.1646904,1.714597206,-0.850659262,-0.219171747,1.398278513,2.054408868,1.865786321,2.62860957,1.78893526,1.59042607,-6.11006917,5.963336416,3.426121239,0.446837046],\"yaxis\":\"y\",\"type\":\"scattergl\"},{\"hovertemplate\":\"Country Name=Eritrea\\u003cbr\\u003eYear=%{x}\\u003cbr\\u003eNilai GDP=%{y}\\u003cextra\\u003e\\u003c\\u002fextra\\u003e\",\"legendgroup\":\"Eritrea\",\"line\":{\"color\":\"#FECB52\",\"dash\":\"solid\"},\"marker\":{\"symbol\":\"circle\"},\"mode\":\"markers+lines\",\"name\":\"Eritrea\",\"showlegend\":true,\"x\":[2000,2001,2002,2003,2004,2005,2006,2007,2008,2009,2010,2011,2012,2013,2014,2015,2016,2017,2018,2019,2020,2021,2022,2023],\"xaxis\":\"x\",\"y\":[-3.141985903,8.755435528,3.005429192,-2.655515925,1.451735566,2.574449551,-0.969217111,1.426822211,-9.783030018,3.876501528,2.194190349,8.679800101,0.0,0.0,0.0,0.0,0.0,0.0,0.0,0.0,0.0,0.0,0.0,0.0],\"yaxis\":\"y\",\"type\":\"scattergl\"},{\"hovertemplate\":\"Country Name=Spain\\u003cbr\\u003eYear=%{x}\\u003cbr\\u003eNilai GDP=%{y}\\u003cextra\\u003e\\u003c\\u002fextra\\u003e\",\"legendgroup\":\"Spain\",\"line\":{\"color\":\"#636efa\",\"dash\":\"solid\"},\"marker\":{\"symbol\":\"circle\"},\"mode\":\"markers+lines\",\"name\":\"Spain\",\"showlegend\":true,\"x\":[2000,2001,2002,2003,2004,2005,2006,2007,2008,2009,2010,2011,2012,2013,2014,2015,2016,2017,2018,2019,2020,2021,2022,2023],\"xaxis\":\"x\",\"y\":[5.245943824,3.933002765,2.730948329,2.981936316,3.122733517,3.652084192,4.102685741,3.604738462,0.887067046,-3.763107042,0.162919518,-0.814384777,-2.958922132,-1.403341868,1.395775367,3.838518877,3.037774142,2.975760729,2.284469419,1.983966223,-11.16729786,6.403173615,5.770647676,2.50329436],\"yaxis\":\"y\",\"type\":\"scattergl\"},{\"hovertemplate\":\"Country Name=Estonia\\u003cbr\\u003eYear=%{x}\\u003cbr\\u003eNilai GDP=%{y}\\u003cextra\\u003e\\u003c\\u002fextra\\u003e\",\"legendgroup\":\"Estonia\",\"line\":{\"color\":\"#EF553B\",\"dash\":\"solid\"},\"marker\":{\"symbol\":\"circle\"},\"mode\":\"markers+lines\",\"name\":\"Estonia\",\"showlegend\":true,\"x\":[2000,2001,2002,2003,2004,2005,2006,2007,2008,2009,2010,2011,2012,2013,2014,2015,2016,2017,2018,2019,2020,2021,2022,2023],\"xaxis\":\"x\",\"y\":[10.08763444,6.003674251,6.77136793,7.600265185,6.804007771,9.526426972,9.76558337,7.57914052,-5.132000958,-14.62905503,2.444265118,7.263084581,3.228200494,1.458428636,3.011366587,1.853020046,3.155564814,5.792044675,3.78420085,4.033688391,-0.965410617,7.249326354,-0.461002668,-3.005590126],\"yaxis\":\"y\",\"type\":\"scattergl\"},{\"hovertemplate\":\"Country Name=Ethiopia\\u003cbr\\u003eYear=%{x}\\u003cbr\\u003eNilai GDP=%{y}\\u003cextra\\u003e\\u003c\\u002fextra\\u003e\",\"legendgroup\":\"Ethiopia\",\"line\":{\"color\":\"#00cc96\",\"dash\":\"solid\"},\"marker\":{\"symbol\":\"circle\"},\"mode\":\"markers+lines\",\"name\":\"Ethiopia\",\"showlegend\":true,\"x\":[2000,2001,2002,2003,2004,2005,2006,2007,2008,2009,2010,2011,2012,2013,2014,2015,2016,2017,2018,2019,2020,2021,2022,2023],\"xaxis\":\"x\",\"y\":[6.07321748,8.301306321,1.514725706,-2.161359722,13.57260314,11.81876595,10.83472707,11.456167,10.78852169,8.802553198,12.55053835,11.17829623,8.647811633,10.58227005,10.25749296,10.39246302,9.433482658,9.564189643,6.816147797,8.364085699,6.059530886,5.641530717,5.321176284,6.498134642],\"yaxis\":\"y\",\"type\":\"scattergl\"},{\"hovertemplate\":\"Country Name=European Union\\u003cbr\\u003eYear=%{x}\\u003cbr\\u003eNilai GDP=%{y}\\u003cextra\\u003e\\u003c\\u002fextra\\u003e\",\"legendgroup\":\"European Union\",\"line\":{\"color\":\"#ab63fa\",\"dash\":\"solid\"},\"marker\":{\"symbol\":\"circle\"},\"mode\":\"markers+lines\",\"name\":\"European Union\",\"showlegend\":true,\"x\":[2000,2001,2002,2003,2004,2005,2006,2007,2008,2009,2010,2011,2012,2013,2014,2015,2016,2017,2018,2019,2020,2021,2022,2023],\"xaxis\":\"x\",\"y\":[3.900525156,2.175909601,1.110752072,0.908252361,2.59250681,1.924743009,3.494445516,3.156121525,0.641259952,-4.348699861,2.225118385,1.900956841,-0.701866418,-0.082642393,1.600652502,2.309377745,1.972307776,2.844765369,2.06690197,1.805311971,-5.6528569,6.008729292,3.478653735,0.450652378],\"yaxis\":\"y\",\"type\":\"scattergl\"},{\"hovertemplate\":\"Country Name=Fragile and conflict affected situations\\u003cbr\\u003eYear=%{x}\\u003cbr\\u003eNilai GDP=%{y}\\u003cextra\\u003e\\u003c\\u002fextra\\u003e\",\"legendgroup\":\"Fragile and conflict affected situations\",\"line\":{\"color\":\"#FFA15A\",\"dash\":\"solid\"},\"marker\":{\"symbol\":\"circle\"},\"mode\":\"markers+lines\",\"name\":\"Fragile and conflict affected situations\",\"showlegend\":true,\"x\":[2000,2001,2002,2003,2004,2005,2006,2007,2008,2009,2010,2011,2012,2013,2014,2015,2016,2017,2018,2019,2020,2021,2022,2023],\"xaxis\":\"x\",\"y\":[5.463854139,4.11186251,4.794074854,1.075556735,11.26171028,5.834460098,5.821172791,5.988115247,5.042112519,3.065415286,7.017417566,0.043882959,5.570371884,3.483392563,2.096288359,1.070537609,2.167155583,2.543334726,2.720158471,2.523498857,-6.353386361,4.568994232,1.463396967,1.633343996],\"yaxis\":\"y\",\"type\":\"scattergl\"},{\"hovertemplate\":\"Country Name=Finland\\u003cbr\\u003eYear=%{x}\\u003cbr\\u003eNilai GDP=%{y}\\u003cextra\\u003e\\u003c\\u002fextra\\u003e\",\"legendgroup\":\"Finland\",\"line\":{\"color\":\"#19d3f3\",\"dash\":\"solid\"},\"marker\":{\"symbol\":\"circle\"},\"mode\":\"markers+lines\",\"name\":\"Finland\",\"showlegend\":true,\"x\":[2000,2001,2002,2003,2004,2005,2006,2007,2008,2009,2010,2011,2012,2013,2014,2015,2016,2017,2018,2019,2020,2021,2022,2023],\"xaxis\":\"x\",\"y\":[5.773362458,2.610019124,1.707148962,2.003784203,3.99209129,2.779850556,4.027409658,5.299336507,0.783995061,-8.074447432,3.185958654,2.547664838,-1.397545728,-0.901696316,-0.364908157,0.543659212,2.811457767,3.19240963,1.139718013,1.224748922,-2.354965157,2.838179604,1.335467305,-1.035375693],\"yaxis\":\"y\",\"type\":\"scattergl\"},{\"hovertemplate\":\"Country Name=Fiji\\u003cbr\\u003eYear=%{x}\\u003cbr\\u003eNilai GDP=%{y}\\u003cextra\\u003e\\u003c\\u002fextra\\u003e\",\"legendgroup\":\"Fiji\",\"line\":{\"color\":\"#FF6692\",\"dash\":\"solid\"},\"marker\":{\"symbol\":\"circle\"},\"mode\":\"markers+lines\",\"name\":\"Fiji\",\"showlegend\":true,\"x\":[2000,2001,2002,2003,2004,2005,2006,2007,2008,2009,2010,2011,2012,2013,2014,2015,2016,2017,2018,2019,2020,2021,2022,2023],\"xaxis\":\"x\",\"y\":[-1.699998416,2.000000147,3.199999114,0.999999345,5.299999705,0.700000402,1.852483872,-0.85065431,1.03279422,-1.386037708,2.954672422,2.705143029,1.411314382,4.73421949,5.603514406,4.50120041,2.445651797,5.35336456,3.812351222,-0.580504495,-17.03987084,-4.881036196,20.01646416,8.026408625],\"yaxis\":\"y\",\"type\":\"scattergl\"},{\"hovertemplate\":\"Country Name=France\\u003cbr\\u003eYear=%{x}\\u003cbr\\u003eNilai GDP=%{y}\\u003cextra\\u003e\\u003c\\u002fextra\\u003e\",\"legendgroup\":\"France\",\"line\":{\"color\":\"#B6E880\",\"dash\":\"solid\"},\"marker\":{\"symbol\":\"circle\"},\"mode\":\"markers+lines\",\"name\":\"France\",\"showlegend\":true,\"x\":[2000,2001,2002,2003,2004,2005,2006,2007,2008,2009,2010,2011,2012,2013,2014,2015,2016,2017,2018,2019,2020,2021,2022,2023],\"xaxis\":\"x\",\"y\":[3.923669227,1.983721419,1.135531482,0.823160757,2.829752929,1.66321998,2.449323601,2.424736243,0.25494596,-2.873313828,1.949437623,2.192700633,0.313134751,0.576326675,0.956183052,1.112912341,1.095464404,2.291419994,1.865066071,1.842971814,-7.540459162,6.435209621,2.454758177,0.703718547],\"yaxis\":\"y\",\"type\":\"scattergl\"},{\"hovertemplate\":\"Country Name=Faroe Islands\\u003cbr\\u003eYear=%{x}\\u003cbr\\u003eNilai GDP=%{y}\\u003cextra\\u003e\\u003c\\u002fextra\\u003e\",\"legendgroup\":\"Faroe Islands\",\"line\":{\"color\":\"#FF97FF\",\"dash\":\"solid\"},\"marker\":{\"symbol\":\"circle\"},\"mode\":\"markers+lines\",\"name\":\"Faroe Islands\",\"showlegend\":true,\"x\":[2000,2001,2002,2003,2004,2005,2006,2007,2008,2009,2010,2011,2012,2013,2014,2015,2016,2017,2018,2019,2020,2021,2022,2023],\"xaxis\":\"x\",\"y\":[0.0,0.0,0.0,0.0,0.0,0.0,0.0,0.0,0.0,-4.303002162,-0.576939114,3.708194171,7.016653799,5.853051914,5.432701357,0.976378534,1.469915804,3.514305971,2.731552155,4.39010334,-1.926834417,5.755550527,5.398480389,0.0],\"yaxis\":\"y\",\"type\":\"scattergl\"},{\"hovertemplate\":\"Country Name=Micronesia, Fed. Sts.\\u003cbr\\u003eYear=%{x}\\u003cbr\\u003eNilai GDP=%{y}\\u003cextra\\u003e\\u003c\\u002fextra\\u003e\",\"legendgroup\":\"Micronesia, Fed. Sts.\",\"line\":{\"color\":\"#FECB52\",\"dash\":\"solid\"},\"marker\":{\"symbol\":\"circle\"},\"mode\":\"markers+lines\",\"name\":\"Micronesia, Fed. Sts.\",\"showlegend\":true,\"x\":[2000,2001,2002,2003,2004,2005,2006,2007,2008,2009,2010,2011,2012,2013,2014,2015,2016,2017,2018,2019,2020,2021,2022,2023],\"xaxis\":\"x\",\"y\":[4.833903786,2.167602441,0.546997672,1.572115067,-3.080153047,2.041867164,-0.081055293,-1.836185294,-2.408492587,1.093099241,2.259389956,3.188574755,-1.866819755,-3.679767791,-2.305775745,4.621884004,0.484101802,0.823045267,0.0,4.081632653,-1.960784314,2.8,-0.778210117,0.784313725],\"yaxis\":\"y\",\"type\":\"scattergl\"},{\"hovertemplate\":\"Country Name=Gabon\\u003cbr\\u003eYear=%{x}\\u003cbr\\u003eNilai GDP=%{y}\\u003cextra\\u003e\\u003c\\u002fextra\\u003e\",\"legendgroup\":\"Gabon\",\"line\":{\"color\":\"#636efa\",\"dash\":\"solid\"},\"marker\":{\"symbol\":\"circle\"},\"mode\":\"markers+lines\",\"name\":\"Gabon\",\"showlegend\":true,\"x\":[2000,2001,2002,2003,2004,2005,2006,2007,2008,2009,2010,2011,2012,2013,2014,2015,2016,2017,2018,2019,2020,2021,2022,2023],\"xaxis\":\"x\",\"y\":[-1.882966398,2.135233422,-0.249033169,2.247330012,0.689543058,2.676203333,-2.806578356,6.008108025,-3.308430649,0.13033112,7.089887315,7.091753343,5.251076918,5.638699003,4.314964441,3.878899395,2.091442208,0.472642031,0.837916581,3.920808795,-1.837761064,1.467957315,2.967741644,2.263232088],\"yaxis\":\"y\",\"type\":\"scattergl\"},{\"hovertemplate\":\"Country Name=United Kingdom\\u003cbr\\u003eYear=%{x}\\u003cbr\\u003eNilai GDP=%{y}\\u003cextra\\u003e\\u003c\\u002fextra\\u003e\",\"legendgroup\":\"United Kingdom\",\"line\":{\"color\":\"#EF553B\",\"dash\":\"solid\"},\"marker\":{\"symbol\":\"circle\"},\"mode\":\"markers+lines\",\"name\":\"United Kingdom\",\"showlegend\":true,\"x\":[2000,2001,2002,2003,2004,2005,2006,2007,2008,2009,2010,2011,2012,2013,2014,2015,2016,2017,2018,2019,2020,2021,2022,2023],\"xaxis\":\"x\",\"y\":[4.318727058,2.578741046,1.791985616,3.146572528,2.426496549,2.738842404,2.386275368,2.620331222,-0.225726975,-4.614957402,2.238688634,1.145101541,1.512936749,1.792322216,3.195782466,2.220258322,1.921063414,2.655069668,1.403792086,1.641610996,-10.35990082,8.674904114,4.345228834,0.104017849],\"yaxis\":\"y\",\"type\":\"scattergl\"},{\"hovertemplate\":\"Country Name=Georgia\\u003cbr\\u003eYear=%{x}\\u003cbr\\u003eNilai GDP=%{y}\\u003cextra\\u003e\\u003c\\u002fextra\\u003e\",\"legendgroup\":\"Georgia\",\"line\":{\"color\":\"#00cc96\",\"dash\":\"solid\"},\"marker\":{\"symbol\":\"circle\"},\"mode\":\"markers+lines\",\"name\":\"Georgia\",\"showlegend\":true,\"x\":[2000,2001,2002,2003,2004,2005,2006,2007,2008,2009,2010,2011,2012,2013,2014,2015,2016,2017,2018,2019,2020,2021,2022,2023],\"xaxis\":\"x\",\"y\":[1.840381179,4.807298672,5.474024887,11.057031,5.792682927,9.591138329,9.421480812,12.57556982,2.42161441,-3.650752296,6.246408653,7.934336525,6.57883102,5.132885312,4.090490596,3.351023503,3.45021518,5.159902617,6.062036413,5.380719266,-6.290471785,10.64423366,10.95853214,7.474479094],\"yaxis\":\"y\",\"type\":\"scattergl\"},{\"hovertemplate\":\"Country Name=Ghana\\u003cbr\\u003eYear=%{x}\\u003cbr\\u003eNilai GDP=%{y}\\u003cextra\\u003e\\u003c\\u002fextra\\u003e\",\"legendgroup\":\"Ghana\",\"line\":{\"color\":\"#ab63fa\",\"dash\":\"solid\"},\"marker\":{\"symbol\":\"circle\"},\"mode\":\"markers+lines\",\"name\":\"Ghana\",\"showlegend\":true,\"x\":[2000,2001,2002,2003,2004,2005,2006,2007,2008,2009,2010,2011,2012,2013,2014,2015,2016,2017,2018,2019,2020,2021,2022,2023],\"xaxis\":\"x\",\"y\":[3.700000082,4.000000128,4.499999559,5.200000133,5.599999991,5.900003819,6.399912606,4.346819104,9.149798938,4.844487052,7.899711941,14.04712358,9.292789406,7.312525017,2.856240163,2.120759338,3.37346575,8.128894881,6.200077681,6.507774794,0.513941671,5.076466435,3.817504621,2.944785831],\"yaxis\":\"y\",\"type\":\"scattergl\"},{\"hovertemplate\":\"Country Name=Gibraltar\\u003cbr\\u003eYear=%{x}\\u003cbr\\u003eNilai GDP=%{y}\\u003cextra\\u003e\\u003c\\u002fextra\\u003e\",\"legendgroup\":\"Gibraltar\",\"line\":{\"color\":\"#FFA15A\",\"dash\":\"solid\"},\"marker\":{\"symbol\":\"circle\"},\"mode\":\"markers+lines\",\"name\":\"Gibraltar\",\"showlegend\":true,\"x\":[2000,2001,2002,2003,2004,2005,2006,2007,2008,2009,2010,2011,2012,2013,2014,2015,2016,2017,2018,2019,2020,2021,2022,2023],\"xaxis\":\"x\",\"y\":[0.0,0.0,0.0,0.0,0.0,0.0,0.0,0.0,0.0,0.0,0.0,0.0,0.0,0.0,0.0,0.0,0.0,0.0,0.0,0.0,0.0,0.0,0.0,0.0],\"yaxis\":\"y\",\"type\":\"scattergl\"},{\"hovertemplate\":\"Country Name=Guinea\\u003cbr\\u003eYear=%{x}\\u003cbr\\u003eNilai GDP=%{y}\\u003cextra\\u003e\\u003c\\u002fextra\\u003e\",\"legendgroup\":\"Guinea\",\"line\":{\"color\":\"#19d3f3\",\"dash\":\"solid\"},\"marker\":{\"symbol\":\"circle\"},\"mode\":\"markers+lines\",\"name\":\"Guinea\",\"showlegend\":true,\"x\":[2000,2001,2002,2003,2004,2005,2006,2007,2008,2009,2010,2011,2012,2013,2014,2015,2016,2017,2018,2019,2020,2021,2022,2023],\"xaxis\":\"x\",\"y\":[2.503060563,3.658346469,5.164609467,1.248601259,2.340117313,2.997272563,1.189602117,6.817471111,4.13301616,-1.122642048,4.813370676,5.612101189,5.91528626,3.945687087,3.696553117,3.825910569,10.8206272,10.30000534,6.358491927,5.61691447,4.920266372,3.9,4.7,7.061960029],\"yaxis\":\"y\",\"type\":\"scattergl\"},{\"hovertemplate\":\"Country Name=Gambia, The\\u003cbr\\u003eYear=%{x}\\u003cbr\\u003eNilai GDP=%{y}\\u003cextra\\u003e\\u003c\\u002fextra\\u003e\",\"legendgroup\":\"Gambia, The\",\"line\":{\"color\":\"#FF6692\",\"dash\":\"solid\"},\"marker\":{\"symbol\":\"circle\"},\"mode\":\"markers+lines\",\"name\":\"Gambia, The\",\"showlegend\":true,\"x\":[2000,2001,2002,2003,2004,2005,2006,2007,2008,2009,2010,2011,2012,2013,2014,2015,2016,2017,2018,2019,2020,2021,2022,2023],\"xaxis\":\"x\",\"y\":[5.500000216,5.800000243,-3.25000015,6.869999622,7.050000001,-2.351729362,-0.555580977,3.043249508,6.255905534,6.665724308,5.90833581,-8.130444223,5.241569246,2.87276879,-1.407382495,4.058073804,1.943359655,4.822611249,7.234890333,6.22205316,0.591487288,5.255968794,4.917821309,5.295996638],\"yaxis\":\"y\",\"type\":\"scattergl\"},{\"hovertemplate\":\"Country Name=Guinea-Bissau\\u003cbr\\u003eYear=%{x}\\u003cbr\\u003eNilai GDP=%{y}\\u003cextra\\u003e\\u003c\\u002fextra\\u003e\",\"legendgroup\":\"Guinea-Bissau\",\"line\":{\"color\":\"#B6E880\",\"dash\":\"solid\"},\"marker\":{\"symbol\":\"circle\"},\"mode\":\"markers+lines\",\"name\":\"Guinea-Bissau\",\"showlegend\":true,\"x\":[2000,2001,2002,2003,2004,2005,2006,2007,2008,2009,2010,2011,2012,2013,2014,2015,2016,2017,2018,2019,2020,2021,2022,2023],\"xaxis\":\"x\",\"y\":[1.10027815,4.785971648,3.65393604,-0.285931047,1.171891528,6.559771103,2.666504932,2.559826479,4.524575144,2.447951069,5.605363103,8.085041677,-1.712869583,3.256071912,0.964525747,6.134089355,5.306596331,4.788991621,3.761453595,4.500092937,1.5,6.399952624,4.199990232,4.248282297],\"yaxis\":\"y\",\"type\":\"scattergl\"},{\"hovertemplate\":\"Country Name=Equatorial Guinea\\u003cbr\\u003eYear=%{x}\\u003cbr\\u003eNilai GDP=%{y}\\u003cextra\\u003e\\u003c\\u002fextra\\u003e\",\"legendgroup\":\"Equatorial Guinea\",\"line\":{\"color\":\"#FF97FF\",\"dash\":\"solid\"},\"marker\":{\"symbol\":\"circle\"},\"mode\":\"markers+lines\",\"name\":\"Equatorial Guinea\",\"showlegend\":true,\"x\":[2000,2001,2002,2003,2004,2005,2006,2007,2008,2009,2010,2011,2012,2013,2014,2015,2016,2017,2018,2019,2020,2021,2022,2023],\"xaxis\":\"x\",\"y\":[18.21377996,63.37987543,19.46283404,13.95525032,37.99872686,16.74870061,7.704917607,15.28211392,17.79910913,1.343356288,-8.924175889,6.52392363,8.312871844,-4.133198501,0.415066302,-9.110041149,-8.816417232,-5.667508505,-6.236544067,-5.481825379,-4.791080834,0.860269956,3.716010594,-5.691583464],\"yaxis\":\"y\",\"type\":\"scattergl\"},{\"hovertemplate\":\"Country Name=Greece\\u003cbr\\u003eYear=%{x}\\u003cbr\\u003eNilai GDP=%{y}\\u003cextra\\u003e\\u003c\\u002fextra\\u003e\",\"legendgroup\":\"Greece\",\"line\":{\"color\":\"#FECB52\",\"dash\":\"solid\"},\"marker\":{\"symbol\":\"circle\"},\"mode\":\"markers+lines\",\"name\":\"Greece\",\"showlegend\":true,\"x\":[2000,2001,2002,2003,2004,2005,2006,2007,2008,2009,2010,2011,2012,2013,2014,2015,2016,2017,2018,2019,2020,2021,2022,2023],\"xaxis\":\"x\",\"y\":[3.91977053,4.131611986,3.922871742,5.794531661,5.060992492,0.599142037,5.652433536,3.273746876,-0.335172543,-4.300733487,-5.477808049,-10.14931483,-7.086696786,-2.515997222,0.475695947,-0.19608763,-0.487173294,1.09214912,1.668428636,1.879489986,-9.316435765,8.379943784,5.55728708,2.011520943],\"yaxis\":\"y\",\"type\":\"scattergl\"},{\"hovertemplate\":\"Country Name=Grenada\\u003cbr\\u003eYear=%{x}\\u003cbr\\u003eNilai GDP=%{y}\\u003cextra\\u003e\\u003c\\u002fextra\\u003e\",\"legendgroup\":\"Grenada\",\"line\":{\"color\":\"#636efa\",\"dash\":\"solid\"},\"marker\":{\"symbol\":\"circle\"},\"mode\":\"markers+lines\",\"name\":\"Grenada\",\"showlegend\":true,\"x\":[2000,2001,2002,2003,2004,2005,2006,2007,2008,2009,2010,2011,2012,2013,2014,2015,2016,2017,2018,2019,2020,2021,2022,2023],\"xaxis\":\"x\",\"y\":[4.887952137,-2.023900041,3.43732353,9.463973431,-0.647450316,13.27618833,-3.995328244,6.123450947,0.947542625,-6.613281348,-0.511146187,0.76477355,-1.154838164,2.351098017,7.34212396,6.445223147,3.739603956,4.438675669,4.361440394,0.676511739,-13.75662226,4.687478169,7.320740616,4.809286899],\"yaxis\":\"y\",\"type\":\"scattergl\"},{\"hovertemplate\":\"Country Name=Greenland\\u003cbr\\u003eYear=%{x}\\u003cbr\\u003eNilai GDP=%{y}\\u003cextra\\u003e\\u003c\\u002fextra\\u003e\",\"legendgroup\":\"Greenland\",\"line\":{\"color\":\"#EF553B\",\"dash\":\"solid\"},\"marker\":{\"symbol\":\"circle\"},\"mode\":\"markers+lines\",\"name\":\"Greenland\",\"showlegend\":true,\"x\":[2000,2001,2002,2003,2004,2005,2006,2007,2008,2009,2010,2011,2012,2013,2014,2015,2016,2017,2018,2019,2020,2021,2022,2023],\"xaxis\":\"x\",\"y\":[7.101596882,1.269035079,-0.971177311,4.430045721,6.906582837,4.987491771,5.555694901,2.352437981,6.166132702,0.865952329,1.735825059,-0.496519392,1.39419336,-1.298280693,4.742135673,-2.529318024,4.68195411,0.052728183,0.623065429,2.832177568,0.187608794,1.290210488,0.0,0.0],\"yaxis\":\"y\",\"type\":\"scattergl\"},{\"hovertemplate\":\"Country Name=Guatemala\\u003cbr\\u003eYear=%{x}\\u003cbr\\u003eNilai GDP=%{y}\\u003cextra\\u003e\\u003c\\u002fextra\\u003e\",\"legendgroup\":\"Guatemala\",\"line\":{\"color\":\"#00cc96\",\"dash\":\"solid\"},\"marker\":{\"symbol\":\"circle\"},\"mode\":\"markers+lines\",\"name\":\"Guatemala\",\"showlegend\":true,\"x\":[2000,2001,2002,2003,2004,2005,2006,2007,2008,2009,2010,2011,2012,2013,2014,2015,2016,2017,2018,2019,2020,2021,2022,2023],\"xaxis\":\"x\",\"y\":[3.608868717,2.332574866,3.839287086,2.560377668,3.137916836,3.276026926,5.351397787,6.33771869,3.293524,0.476898107,2.884175428,4.163906883,2.974708568,3.694819199,4.443977583,4.092170816,2.677802555,3.079851491,3.4068734,4.017897934,-1.791857695,8.002408036,4.118004169,3.484484727],\"yaxis\":\"y\",\"type\":\"scattergl\"},{\"hovertemplate\":\"Country Name=Guam\\u003cbr\\u003eYear=%{x}\\u003cbr\\u003eNilai GDP=%{y}\\u003cextra\\u003e\\u003c\\u002fextra\\u003e\",\"legendgroup\":\"Guam\",\"line\":{\"color\":\"#ab63fa\",\"dash\":\"solid\"},\"marker\":{\"symbol\":\"circle\"},\"mode\":\"markers+lines\",\"name\":\"Guam\",\"showlegend\":true,\"x\":[2000,2001,2002,2003,2004,2005,2006,2007,2008,2009,2010,2011,2012,2013,2014,2015,2016,2017,2018,2019,2020,2021,2022,2023],\"xaxis\":\"x\",\"y\":[0.0,0.0,0.0,0.879314135,6.493789497,3.642316349,-3.652517275,0.717213115,2.034587996,0.438683948,2.263251936,0.077654824,2.13385063,1.690408357,1.793051924,0.825688073,0.181983621,0.890099909,-0.828231905,2.523602033,-10.51885957,2.058183257,5.099864262,0.0],\"yaxis\":\"y\",\"type\":\"scattergl\"},{\"hovertemplate\":\"Country Name=Guyana\\u003cbr\\u003eYear=%{x}\\u003cbr\\u003eNilai GDP=%{y}\\u003cextra\\u003e\\u003c\\u002fextra\\u003e\",\"legendgroup\":\"Guyana\",\"line\":{\"color\":\"#FFA15A\",\"dash\":\"solid\"},\"marker\":{\"symbol\":\"circle\"},\"mode\":\"markers+lines\",\"name\":\"Guyana\",\"showlegend\":true,\"x\":[2000,2001,2002,2003,2004,2005,2006,2007,2008,2009,2010,2011,2012,2013,2014,2015,2016,2017,2018,2019,2020,2021,2022,2023],\"xaxis\":\"x\",\"y\":[-1.363803903,2.279521659,1.132626962,-0.632225388,1.56335211,-1.950957595,5.129609348,7.191236241,1.755223496,3.611508472,4.138441601,5.196251561,5.27633062,3.653384333,1.68649445,0.687404591,3.807456264,3.734491546,4.440912885,5.352840035,43.47965172,20.00752973,63.43986437,33.01688299],\"yaxis\":\"y\",\"type\":\"scattergl\"},{\"hovertemplate\":\"Country Name=High income\\u003cbr\\u003eYear=%{x}\\u003cbr\\u003eNilai GDP=%{y}\\u003cextra\\u003e\\u003c\\u002fextra\\u003e\",\"legendgroup\":\"High income\",\"line\":{\"color\":\"#19d3f3\",\"dash\":\"solid\"},\"marker\":{\"symbol\":\"circle\"},\"mode\":\"markers+lines\",\"name\":\"High income\",\"showlegend\":true,\"x\":[2000,2001,2002,2003,2004,2005,2006,2007,2008,2009,2010,2011,2012,2013,2014,2015,2016,2017,2018,2019,2020,2021,2022,2023],\"xaxis\":\"x\",\"y\":[4.259076223,1.583035981,1.620540177,2.305221781,3.513388852,2.974538737,3.22028729,2.856672473,0.675885063,-3.378528337,3.048340175,2.017851706,1.472888106,1.597957074,2.141768165,2.325526275,1.833040909,2.47631841,2.369994444,1.845827065,-3.914669261,5.584368156,2.641586105,1.644160342],\"yaxis\":\"y\",\"type\":\"scattergl\"},{\"hovertemplate\":\"Country Name=Hong Kong SAR, China\\u003cbr\\u003eYear=%{x}\\u003cbr\\u003eNilai GDP=%{y}\\u003cextra\\u003e\\u003c\\u002fextra\\u003e\",\"legendgroup\":\"Hong Kong SAR, China\",\"line\":{\"color\":\"#FF6692\",\"dash\":\"solid\"},\"marker\":{\"symbol\":\"circle\"},\"mode\":\"markers+lines\",\"name\":\"Hong Kong SAR, China\",\"showlegend\":true,\"x\":[2000,2001,2002,2003,2004,2005,2006,2007,2008,2009,2010,2011,2012,2013,2014,2015,2016,2017,2018,2019,2020,2021,2022,2023],\"xaxis\":\"x\",\"y\":[7.663440689,0.560798481,1.656689885,3.056282107,8.700097869,7.388127394,7.032659005,6.464814455,2.127981815,-2.459089473,6.76766257,4.814713796,1.700313663,3.10154169,2.762374494,2.387838881,2.175411705,3.796090706,2.846911546,-1.672426519,-6.544778677,6.454396779,-3.680752922,3.21505497],\"yaxis\":\"y\",\"type\":\"scattergl\"},{\"hovertemplate\":\"Country Name=Honduras\\u003cbr\\u003eYear=%{x}\\u003cbr\\u003eNilai GDP=%{y}\\u003cextra\\u003e\\u003c\\u002fextra\\u003e\",\"legendgroup\":\"Honduras\",\"line\":{\"color\":\"#B6E880\",\"dash\":\"solid\"},\"marker\":{\"symbol\":\"circle\"},\"mode\":\"markers+lines\",\"name\":\"Honduras\",\"showlegend\":true,\"x\":[2000,2001,2002,2003,2004,2005,2006,2007,2008,2009,2010,2011,2012,2013,2014,2015,2016,2017,2018,2019,2020,2021,2022,2023],\"xaxis\":\"x\",\"y\":[7.291288159,2.723193273,3.754337861,4.547038052,6.232302961,6.050599222,6.567243552,6.188327167,4.23160011,-2.43162788,3.731140344,3.835690662,4.128687749,2.791559757,3.058080562,3.840079971,3.892972197,4.842913911,3.84499477,2.559634346,-8.965082233,12.56528438,4.14356194,3.582603626],\"yaxis\":\"y\",\"type\":\"scattergl\"},{\"hovertemplate\":\"Country Name=Heavily indebted poor countries (HIPC)\\u003cbr\\u003eYear=%{x}\\u003cbr\\u003eNilai GDP=%{y}\\u003cextra\\u003e\\u003c\\u002fextra\\u003e\",\"legendgroup\":\"Heavily indebted poor countries (HIPC)\",\"line\":{\"color\":\"#FF97FF\",\"dash\":\"solid\"},\"marker\":{\"symbol\":\"circle\"},\"mode\":\"markers+lines\",\"name\":\"Heavily indebted poor countries (HIPC)\",\"showlegend\":true,\"x\":[2000,2001,2002,2003,2004,2005,2006,2007,2008,2009,2010,2011,2012,2013,2014,2015,2016,2017,2018,2019,2020,2021,2022,2023],\"xaxis\":\"x\",\"y\":[2.888998207,3.62872773,3.810757284,3.888810874,5.657396457,5.569063804,5.862566945,5.460474937,5.641476869,3.738118983,6.100512,4.462047916,3.97711292,5.640484435,5.845892406,4.816187111,4.442968382,5.003473478,4.193276927,4.420985717,0.236251144,4.195132478,4.796360999,4.41181393],\"yaxis\":\"y\",\"type\":\"scattergl\"},{\"hovertemplate\":\"Country Name=Croatia\\u003cbr\\u003eYear=%{x}\\u003cbr\\u003eNilai GDP=%{y}\\u003cextra\\u003e\\u003c\\u002fextra\\u003e\",\"legendgroup\":\"Croatia\",\"line\":{\"color\":\"#FECB52\",\"dash\":\"solid\"},\"marker\":{\"symbol\":\"circle\"},\"mode\":\"markers+lines\",\"name\":\"Croatia\",\"showlegend\":true,\"x\":[2000,2001,2002,2003,2004,2005,2006,2007,2008,2009,2010,2011,2012,2013,2014,2015,2016,2017,2018,2019,2020,2021,2022,2023],\"xaxis\":\"x\",\"y\":[2.956274614,3.12086446,5.820577751,5.599633572,4.17994854,4.307492962,5.076835412,5.075021828,2.019521789,-7.215120202,-1.224864141,-0.058246926,-2.298255012,-0.306838202,-0.34168263,2.549129635,3.649197525,3.364803306,2.983376913,3.44274248,-8.520438134,13.04114349,7.027225888,3.060871288],\"yaxis\":\"y\",\"type\":\"scattergl\"},{\"hovertemplate\":\"Country Name=Haiti\\u003cbr\\u003eYear=%{x}\\u003cbr\\u003eNilai GDP=%{y}\\u003cextra\\u003e\\u003c\\u002fextra\\u003e\",\"legendgroup\":\"Haiti\",\"line\":{\"color\":\"#636efa\",\"dash\":\"solid\"},\"marker\":{\"symbol\":\"circle\"},\"mode\":\"markers+lines\",\"name\":\"Haiti\",\"showlegend\":true,\"x\":[2000,2001,2002,2003,2004,2005,2006,2007,2008,2009,2010,2011,2012,2013,2014,2015,2016,2017,2018,2019,2020,2021,2022,2023],\"xaxis\":\"x\",\"y\":[0.870059259,-0.342747883,1.051820135,3.480779732,-1.31785676,3.072173377,1.768750603,4.70652994,2.658032308,5.890378948,-5.651511534,5.098213544,0.502424404,4.324784115,2.888772509,1.400000009,1.812468078,2.510271345,1.667810955,-1.723096998,-3.30550547,-1.798239889,-1.681983969,-1.863884203],\"yaxis\":\"y\",\"type\":\"scattergl\"},{\"hovertemplate\":\"Country Name=Hungary\\u003cbr\\u003eYear=%{x}\\u003cbr\\u003eNilai GDP=%{y}\\u003cextra\\u003e\\u003c\\u002fextra\\u003e\",\"legendgroup\":\"Hungary\",\"line\":{\"color\":\"#EF553B\",\"dash\":\"solid\"},\"marker\":{\"symbol\":\"circle\"},\"mode\":\"markers+lines\",\"name\":\"Hungary\",\"showlegend\":true,\"x\":[2000,2001,2002,2003,2004,2005,2006,2007,2008,2009,2010,2011,2012,2013,2014,2015,2016,2017,2018,2019,2020,2021,2022,2023],\"xaxis\":\"x\",\"y\":[4.479194732,4.074088033,4.741286546,4.074249746,5.004620692,4.29427761,3.94606688,0.277372772,1.003943029,-6.597867219,1.076254043,1.866837475,-1.250226023,1.802522101,4.232209806,3.707315979,2.201001893,4.271976016,5.362348362,4.864225735,-4.487046048,7.06122061,4.583407673,-0.907685956],\"yaxis\":\"y\",\"type\":\"scattergl\"},{\"hovertemplate\":\"Country Name=IBRD only\\u003cbr\\u003eYear=%{x}\\u003cbr\\u003eNilai GDP=%{y}\\u003cextra\\u003e\\u003c\\u002fextra\\u003e\",\"legendgroup\":\"IBRD only\",\"line\":{\"color\":\"#00cc96\",\"dash\":\"solid\"},\"marker\":{\"symbol\":\"circle\"},\"mode\":\"markers+lines\",\"name\":\"IBRD only\",\"showlegend\":true,\"x\":[2000,2001,2002,2003,2004,2005,2006,2007,2008,2009,2010,2011,2012,2013,2014,2015,2016,2017,2018,2019,2020,2021,2022,2023],\"xaxis\":\"x\",\"y\":[5.891569519,3.622464485,4.572186646,5.943161187,7.637394371,7.184478526,8.296932305,8.948944267,5.905424068,2.786337537,7.815824585,6.381233176,5.446668541,5.221775156,4.792720339,4.404530948,4.55662192,5.241650355,4.935665423,3.98398106,-1.40120443,7.628482966,3.601688625,4.447556758],\"yaxis\":\"y\",\"type\":\"scattergl\"},{\"hovertemplate\":\"Country Name=IDA & IBRD total\\u003cbr\\u003eYear=%{x}\\u003cbr\\u003eNilai GDP=%{y}\\u003cextra\\u003e\\u003c\\u002fextra\\u003e\",\"legendgroup\":\"IDA & IBRD total\",\"line\":{\"color\":\"#ab63fa\",\"dash\":\"solid\"},\"marker\":{\"symbol\":\"circle\"},\"mode\":\"markers+lines\",\"name\":\"IDA & IBRD total\",\"showlegend\":true,\"x\":[2000,2001,2002,2003,2004,2005,2006,2007,2008,2009,2010,2011,2012,2013,2014,2015,2016,2017,2018,2019,2020,2021,2022,2023],\"xaxis\":\"x\",\"y\":[5.724715372,3.657184974,4.646775038,5.85472061,7.55695579,7.100965803,8.112408502,8.702055557,5.835855095,2.969739266,7.683101065,6.203461966,5.284632252,5.223253584,4.846308684,4.32675343,4.454964519,5.14241842,4.89001452,3.979119056,-1.355435011,7.386659265,3.653546061,4.363221195],\"yaxis\":\"y\",\"type\":\"scattergl\"},{\"hovertemplate\":\"Country Name=IDA total\\u003cbr\\u003eYear=%{x}\\u003cbr\\u003eNilai GDP=%{y}\\u003cextra\\u003e\\u003c\\u002fextra\\u003e\",\"legendgroup\":\"IDA total\",\"line\":{\"color\":\"#FFA15A\",\"dash\":\"solid\"},\"marker\":{\"symbol\":\"circle\"},\"mode\":\"markers+lines\",\"name\":\"IDA total\",\"showlegend\":true,\"x\":[2000,2001,2002,2003,2004,2005,2006,2007,2008,2009,2010,2011,2012,2013,2014,2015,2016,2017,2018,2019,2020,2021,2022,2023],\"xaxis\":\"x\",\"y\":[3.935272376,4.034189241,5.453470309,4.906203558,6.685731979,6.188377682,6.07710359,5.921876186,5.030060153,5.077611646,6.190945923,4.174272804,3.395867206,5.240828595,5.4825506,3.40935816,3.24436381,3.945681821,4.332600772,3.919409107,-0.792994535,4.433211437,4.310298531,3.296311085],\"yaxis\":\"y\",\"type\":\"scattergl\"},{\"hovertemplate\":\"Country Name=IDA blend\\u003cbr\\u003eYear=%{x}\\u003cbr\\u003eNilai GDP=%{y}\\u003cextra\\u003e\\u003c\\u002fextra\\u003e\",\"legendgroup\":\"IDA blend\",\"line\":{\"color\":\"#19d3f3\",\"dash\":\"solid\"},\"marker\":{\"symbol\":\"circle\"},\"mode\":\"markers+lines\",\"name\":\"IDA blend\",\"showlegend\":true,\"x\":[2000,2001,2002,2003,2004,2005,2006,2007,2008,2009,2010,2011,2012,2013,2014,2015,2016,2017,2018,2019,2020,2021,2022,2023],\"xaxis\":\"x\",\"y\":[3.785198516,4.358374988,6.969005937,5.019643575,7.581851473,6.21313626,5.854095656,5.614315208,4.150422798,5.976999722,5.933594358,4.591922462,4.381887918,5.515221103,5.607324951,3.740471004,2.087329773,2.555791797,3.84829204,2.770731357,-1.415742918,5.164294109,4.215491032,2.526256901],\"yaxis\":\"y\",\"type\":\"scattergl\"},{\"hovertemplate\":\"Country Name=Indonesia\\u003cbr\\u003eYear=%{x}\\u003cbr\\u003eNilai GDP=%{y}\\u003cextra\\u003e\\u003c\\u002fextra\\u003e\",\"legendgroup\":\"Indonesia\",\"line\":{\"color\":\"#FF6692\",\"dash\":\"solid\"},\"marker\":{\"symbol\":\"circle\"},\"mode\":\"markers+lines\",\"name\":\"Indonesia\",\"showlegend\":true,\"x\":[2000,2001,2002,2003,2004,2005,2006,2007,2008,2009,2010,2011,2012,2013,2014,2015,2016,2017,2018,2019,2020,2021,2022,2023],\"xaxis\":\"x\",\"y\":[4.920067748,3.643466448,4.499475389,4.780369124,5.030873945,5.692571303,5.500951785,6.345022228,6.013703599,4.628871183,6.22385418,6.169784208,6.030050653,5.557263689,5.006668426,4.8763223,5.033069183,5.069785901,5.17429154,5.01928768,-2.065511829,3.702885628,5.307419348,5.048105771],\"yaxis\":\"y\",\"type\":\"scattergl\"},{\"hovertemplate\":\"Country Name=IDA only\\u003cbr\\u003eYear=%{x}\\u003cbr\\u003eNilai GDP=%{y}\\u003cextra\\u003e\\u003c\\u002fextra\\u003e\",\"legendgroup\":\"IDA only\",\"line\":{\"color\":\"#B6E880\",\"dash\":\"solid\"},\"marker\":{\"symbol\":\"circle\"},\"mode\":\"markers+lines\",\"name\":\"IDA only\",\"showlegend\":true,\"x\":[2000,2001,2002,2003,2004,2005,2006,2007,2008,2009,2010,2011,2012,2013,2014,2015,2016,2017,2018,2019,2020,2021,2022,2023],\"xaxis\":\"x\",\"y\":[4.075642691,3.735437192,4.048447772,4.798083623,5.829832783,6.164338853,6.293728046,6.219397738,5.876137008,4.252623384,6.430913235,3.786655352,2.473648645,4.97941208,5.363320007,3.092224012,4.359519293,5.256098768,4.777502698,4.965264186,-0.23784529,3.789182498,4.395917127,3.998148258],\"yaxis\":\"y\",\"type\":\"scattergl\"},{\"hovertemplate\":\"Country Name=Isle of Man\\u003cbr\\u003eYear=%{x}\\u003cbr\\u003eNilai GDP=%{y}\\u003cextra\\u003e\\u003c\\u002fextra\\u003e\",\"legendgroup\":\"Isle of Man\",\"line\":{\"color\":\"#FF97FF\",\"dash\":\"solid\"},\"marker\":{\"symbol\":\"circle\"},\"mode\":\"markers+lines\",\"name\":\"Isle of Man\",\"showlegend\":true,\"x\":[2000,2001,2002,2003,2004,2005,2006,2007,2008,2009,2010,2011,2012,2013,2014,2015,2016,2017,2018,2019,2020,2021,2022,2023],\"xaxis\":\"x\",\"y\":[5.300001526,5.399999031,6.199998195,5.999999688,5.200003104,5.899999336,7.699998713,7.50000023,4.900001001,2.100000272,3.399998424,1.999999382,7.303890305,4.141862742,5.15509985,-0.385867274,6.952303657,2.837757415,2.21339675,0.254878786,-8.8368174,3.837836666,0.0,0.0],\"yaxis\":\"y\",\"type\":\"scattergl\"},{\"hovertemplate\":\"Country Name=India\\u003cbr\\u003eYear=%{x}\\u003cbr\\u003eNilai GDP=%{y}\\u003cextra\\u003e\\u003c\\u002fextra\\u003e\",\"legendgroup\":\"India\",\"line\":{\"color\":\"#FECB52\",\"dash\":\"solid\"},\"marker\":{\"symbol\":\"circle\"},\"mode\":\"markers+lines\",\"name\":\"India\",\"showlegend\":true,\"x\":[2000,2001,2002,2003,2004,2005,2006,2007,2008,2009,2010,2011,2012,2013,2014,2015,2016,2017,2018,2019,2020,2021,2022,2023],\"xaxis\":\"x\",\"y\":[3.840991157,4.823966266,3.803975321,7.860381476,7.922936612,7.923430621,8.060732572,7.660815067,3.086698059,7.861888833,8.497584702,5.241316199,5.456387552,6.386106401,7.410227605,7.996253786,8.256305502,6.795383419,6.453851345,3.871436941,-5.777724707,9.689592492,6.987039326,7.583971124],\"yaxis\":\"y\",\"type\":\"scattergl\"},{\"hovertemplate\":\"Country Name=Ireland\\u003cbr\\u003eYear=%{x}\\u003cbr\\u003eNilai GDP=%{y}\\u003cextra\\u003e\\u003c\\u002fextra\\u003e\",\"legendgroup\":\"Ireland\",\"line\":{\"color\":\"#636efa\",\"dash\":\"solid\"},\"marker\":{\"symbol\":\"circle\"},\"mode\":\"markers+lines\",\"name\":\"Ireland\",\"showlegend\":true,\"x\":[2000,2001,2002,2003,2004,2005,2006,2007,2008,2009,2010,2011,2012,2013,2014,2015,2016,2017,2018,2019,2020,2021,2022,2023],\"xaxis\":\"x\",\"y\":[9.403524677,5.305821528,5.899365269,3.013838692,6.788139971,5.739781672,4.987853812,5.310118221,-4.484070646,-5.095783185,1.682972022,1.280752091,-0.129692111,1.174614374,8.828998727,24.47525334,1.765556879,9.311259306,8.470295452,5.297728026,6.617194668,15.12521979,9.43302211,-3.19878596],\"yaxis\":\"y\",\"type\":\"scattergl\"},{\"hovertemplate\":\"Country Name=Iran, Islamic Rep.\\u003cbr\\u003eYear=%{x}\\u003cbr\\u003eNilai GDP=%{y}\\u003cextra\\u003e\\u003c\\u002fextra\\u003e\",\"legendgroup\":\"Iran, Islamic Rep.\",\"line\":{\"color\":\"#EF553B\",\"dash\":\"solid\"},\"marker\":{\"symbol\":\"circle\"},\"mode\":\"markers+lines\",\"name\":\"Iran, Islamic Rep.\",\"showlegend\":true,\"x\":[2000,2001,2002,2003,2004,2005,2006,2007,2008,2009,2010,2011,2012,2013,2014,2015,2016,2017,2018,2019,2020,2021,2022,2023],\"xaxis\":\"x\",\"y\":[5.845527476,2.392172712,8.078829279,8.639298396,4.336665983,3.189804081,4.999795269,8.155773518,0.250856553,1.007385463,5.797938296,2.64571792,-3.747171399,-1.521979205,4.984775067,-1.424884939,8.815086643,2.758505246,-1.838007571,-3.070587985,3.330288459,4.719777732,3.776631402,4.952163169],\"yaxis\":\"y\",\"type\":\"scattergl\"},{\"hovertemplate\":\"Country Name=Iraq\\u003cbr\\u003eYear=%{x}\\u003cbr\\u003eNilai GDP=%{y}\\u003cextra\\u003e\\u003c\\u002fextra\\u003e\",\"legendgroup\":\"Iraq\",\"line\":{\"color\":\"#00cc96\",\"dash\":\"solid\"},\"marker\":{\"symbol\":\"circle\"},\"mode\":\"markers+lines\",\"name\":\"Iraq\",\"showlegend\":true,\"x\":[2000,2001,2002,2003,2004,2005,2006,2007,2008,2009,2010,2011,2012,2013,2014,2015,2016,2017,2018,2019,2020,2021,2022,2023],\"xaxis\":\"x\",\"y\":[16.92166569,1.761480081,-8.198469824,-36.65815268,53.38179419,1.671889624,5.646297795,1.885572143,8.228107104,3.379299094,6.402564845,7.5464712,13.93643017,7.628571185,0.19701671,4.722864019,13.78737302,-1.819750351,2.633850991,5.513790574,-12.03679309,1.50218071,7.639811402,-2.93555774],\"yaxis\":\"y\",\"type\":\"scattergl\"},{\"hovertemplate\":\"Country Name=Iceland\\u003cbr\\u003eYear=%{x}\\u003cbr\\u003eNilai GDP=%{y}\\u003cextra\\u003e\\u003c\\u002fextra\\u003e\",\"legendgroup\":\"Iceland\",\"line\":{\"color\":\"#ab63fa\",\"dash\":\"solid\"},\"marker\":{\"symbol\":\"circle\"},\"mode\":\"markers+lines\",\"name\":\"Iceland\",\"showlegend\":true,\"x\":[2000,2001,2002,2003,2004,2005,2006,2007,2008,2009,2010,2011,2012,2013,2014,2015,2016,2017,2018,2019,2020,2021,2022,2023],\"xaxis\":\"x\",\"y\":[4.98504277,4.013497555,0.559519082,2.142688379,7.802399508,6.124438965,6.316993086,8.454860096,2.209496419,-7.66380956,-2.832774915,1.845779156,1.063636607,4.55246032,1.687215018,4.436663719,6.303687107,4.194948829,4.889172995,1.861177943,-6.940453095,5.148715418,8.881307745,4.06379899],\"yaxis\":\"y\",\"type\":\"scattergl\"},{\"hovertemplate\":\"Country Name=Israel\\u003cbr\\u003eYear=%{x}\\u003cbr\\u003eNilai GDP=%{y}\\u003cextra\\u003e\\u003c\\u002fextra\\u003e\",\"legendgroup\":\"Israel\",\"line\":{\"color\":\"#FFA15A\",\"dash\":\"solid\"},\"marker\":{\"symbol\":\"circle\"},\"mode\":\"markers+lines\",\"name\":\"Israel\",\"showlegend\":true,\"x\":[2000,2001,2002,2003,2004,2005,2006,2007,2008,2009,2010,2011,2012,2013,2014,2015,2016,2017,2018,2019,2020,2021,2022,2023],\"xaxis\":\"x\",\"y\":[8.671655277,0.334070643,-0.114220928,1.393912964,4.784467426,4.134076619,5.582667959,6.033213571,3.251163361,0.883120394,5.668515118,5.561139076,2.587653844,4.415501587,3.919126893,2.485826289,4.521680309,4.276595951,4.070321887,4.156137989,-1.857289278,8.611990348,6.832886636,1.997039988],\"yaxis\":\"y\",\"type\":\"scattergl\"},{\"hovertemplate\":\"Country Name=Italy\\u003cbr\\u003eYear=%{x}\\u003cbr\\u003eNilai GDP=%{y}\\u003cextra\\u003e\\u003c\\u002fextra\\u003e\",\"legendgroup\":\"Italy\",\"line\":{\"color\":\"#19d3f3\",\"dash\":\"solid\"},\"marker\":{\"symbol\":\"circle\"},\"mode\":\"markers+lines\",\"name\":\"Italy\",\"showlegend\":true,\"x\":[2000,2001,2002,2003,2004,2005,2006,2007,2008,2009,2010,2011,2012,2013,2014,2015,2016,2017,2018,2019,2020,2021,2022,2023],\"xaxis\":\"x\",\"y\":[3.786955143,1.951371556,0.253942999,0.138626891,1.423594158,0.817848974,1.790639681,1.48707298,-0.962012841,-5.280937208,1.713295839,0.707333347,-2.980905768,-1.841065451,-0.004547542,0.778304351,1.293462732,1.667859041,0.925810941,0.483198317,-8.974192121,8.310239908,3.985897443,0.920692214],\"yaxis\":\"y\",\"type\":\"scattergl\"},{\"hovertemplate\":\"Country Name=Jamaica\\u003cbr\\u003eYear=%{x}\\u003cbr\\u003eNilai GDP=%{y}\\u003cextra\\u003e\\u003c\\u002fextra\\u003e\",\"legendgroup\":\"Jamaica\",\"line\":{\"color\":\"#FF6692\",\"dash\":\"solid\"},\"marker\":{\"symbol\":\"circle\"},\"mode\":\"markers+lines\",\"name\":\"Jamaica\",\"showlegend\":true,\"x\":[2000,2001,2002,2003,2004,2005,2006,2007,2008,2009,2010,2011,2012,2013,2014,2015,2016,2017,2018,2019,2020,2021,2022,2023],\"xaxis\":\"x\",\"y\":[0.878703548,1.344929564,1.997290944,3.666317593,1.3237251,0.893797936,2.89912535,1.431954037,-0.811736703,-4.345301858,-1.457147209,1.730376267,-0.61363604,0.517686013,0.689822357,0.921487125,1.375223064,0.997123062,1.889923681,0.892291654,-9.920322451,4.6014245,5.221519852,2.200061472],\"yaxis\":\"y\",\"type\":\"scattergl\"},{\"hovertemplate\":\"Country Name=Jordan\\u003cbr\\u003eYear=%{x}\\u003cbr\\u003eNilai GDP=%{y}\\u003cextra\\u003e\\u003c\\u002fextra\\u003e\",\"legendgroup\":\"Jordan\",\"line\":{\"color\":\"#B6E880\",\"dash\":\"solid\"},\"marker\":{\"symbol\":\"circle\"},\"mode\":\"markers+lines\",\"name\":\"Jordan\",\"showlegend\":true,\"x\":[2000,2001,2002,2003,2004,2005,2006,2007,2008,2009,2010,2011,2012,2013,2014,2015,2016,2017,2018,2019,2020,2021,2022,2023],\"xaxis\":\"x\",\"y\":[4.245711921,5.269957575,5.783807927,4.161667555,8.567214242,8.146594811,8.092975278,8.176169952,7.220386373,5.023710073,2.314834221,2.737179886,2.429358001,2.609947375,3.384078099,2.496528793,1.994180849,2.473598154,1.919072636,1.751239059,-1.102751883,3.65564191,2.428073305,2.61548743],\"yaxis\":\"y\",\"type\":\"scattergl\"},{\"hovertemplate\":\"Country Name=Japan\\u003cbr\\u003eYear=%{x}\\u003cbr\\u003eNilai GDP=%{y}\\u003cextra\\u003e\\u003c\\u002fextra\\u003e\",\"legendgroup\":\"Japan\",\"line\":{\"color\":\"#FF97FF\",\"dash\":\"solid\"},\"marker\":{\"symbol\":\"circle\"},\"mode\":\"markers+lines\",\"name\":\"Japan\",\"showlegend\":true,\"x\":[2000,2001,2002,2003,2004,2005,2006,2007,2008,2009,2010,2011,2012,2013,2014,2015,2016,2017,2018,2019,2020,2021,2022,2023],\"xaxis\":\"x\",\"y\":[2.764647551,0.386103426,0.041962499,1.535125499,2.186115694,1.803900872,1.372350128,1.483969412,-1.224289001,-5.693236359,4.097917919,0.023809524,1.374750999,2.005100177,0.296205514,1.560626697,0.753826746,1.675331752,0.643391023,-0.402169201,-4.147118899,2.559320239,0.954736938,1.923055531],\"yaxis\":\"y\",\"type\":\"scattergl\"},{\"hovertemplate\":\"Country Name=Kazakhstan\\u003cbr\\u003eYear=%{x}\\u003cbr\\u003eNilai GDP=%{y}\\u003cextra\\u003e\\u003c\\u002fextra\\u003e\",\"legendgroup\":\"Kazakhstan\",\"line\":{\"color\":\"#FECB52\",\"dash\":\"solid\"},\"marker\":{\"symbol\":\"circle\"},\"mode\":\"markers+lines\",\"name\":\"Kazakhstan\",\"showlegend\":true,\"x\":[2000,2001,2002,2003,2004,2005,2006,2007,2008,2009,2010,2011,2012,2013,2014,2015,2016,2017,2018,2019,2020,2021,2022,2023],\"xaxis\":\"x\",\"y\":[9.800000002,13.5,9.8,9.3,9.600000001,9.699999999,10.7,8.9,3.3,1.199999999,7.300000003,7.400000001,4.799999995,5.999999997,4.200000006,1.200000001,1.099999999,4.100000003,4.099999993,4.500000001,-2.499999996,4.299999997,3.2,5.1],\"yaxis\":\"y\",\"type\":\"scattergl\"},{\"hovertemplate\":\"Country Name=Kenya\\u003cbr\\u003eYear=%{x}\\u003cbr\\u003eNilai GDP=%{y}\\u003cextra\\u003e\\u003c\\u002fextra\\u003e\",\"legendgroup\":\"Kenya\",\"line\":{\"color\":\"#636efa\",\"dash\":\"solid\"},\"marker\":{\"symbol\":\"circle\"},\"mode\":\"markers+lines\",\"name\":\"Kenya\",\"showlegend\":true,\"x\":[2000,2001,2002,2003,2004,2005,2006,2007,2008,2009,2010,2011,2012,2013,2014,2015,2016,2017,2018,2019,2020,2021,2022,2023],\"xaxis\":\"x\",\"y\":[0.599695391,3.779906498,0.54685953,2.932475546,5.104299776,5.90666608,6.4724943,6.85072977,0.232282745,3.306939816,8.058473603,5.12110612,4.568679614,3.797848393,5.020111002,4.967721128,4.213517068,3.837958174,5.647946407,5.114158858,-0.272766327,7.590489473,4.846634856,5.425816151],\"yaxis\":\"y\",\"type\":\"scattergl\"},{\"hovertemplate\":\"Country Name=Kyrgyz Republic\\u003cbr\\u003eYear=%{x}\\u003cbr\\u003eNilai GDP=%{y}\\u003cextra\\u003e\\u003c\\u002fextra\\u003e\",\"legendgroup\":\"Kyrgyz Republic\",\"line\":{\"color\":\"#EF553B\",\"dash\":\"solid\"},\"marker\":{\"symbol\":\"circle\"},\"mode\":\"markers+lines\",\"name\":\"Kyrgyz Republic\",\"showlegend\":true,\"x\":[2000,2001,2002,2003,2004,2005,2006,2007,2008,2009,2010,2011,2012,2013,2014,2015,2016,2017,2018,2019,2020,2021,2022,2023],\"xaxis\":\"x\",\"y\":[5.443336633,5.321621412,-0.017324613,7.030293197,7.026812425,-0.175515404,3.102898742,8.542874775,8.401616049,2.886294575,-0.471566597,5.956274297,-0.0881502,10.91546945,4.024038631,3.875825445,4.335855922,4.739937224,3.757910136,4.600625657,-7.148977577,5.507007627,8.9675052,6.151391837],\"yaxis\":\"y\",\"type\":\"scattergl\"},{\"hovertemplate\":\"Country Name=Cambodia\\u003cbr\\u003eYear=%{x}\\u003cbr\\u003eNilai GDP=%{y}\\u003cextra\\u003e\\u003c\\u002fextra\\u003e\",\"legendgroup\":\"Cambodia\",\"line\":{\"color\":\"#00cc96\",\"dash\":\"solid\"},\"marker\":{\"symbol\":\"circle\"},\"mode\":\"markers+lines\",\"name\":\"Cambodia\",\"showlegend\":true,\"x\":[2000,2001,2002,2003,2004,2005,2006,2007,2008,2009,2010,2011,2012,2013,2014,2015,2016,2017,2018,2019,2020,2021,2022,2023],\"xaxis\":\"x\",\"y\":[9.993580323,8.148386097,6.578939499,8.50589556,10.34052877,13.25008691,10.77108367,10.21257391,6.691577476,0.086696959,5.963078573,7.069569946,7.313345506,7.356665149,7.1425711,6.965797817,6.933313972,6.9969037,7.469169208,7.054106932,-3.096006731,3.026389364,5.239810289,5.4],\"yaxis\":\"y\",\"type\":\"scattergl\"},{\"hovertemplate\":\"Country Name=Kiribati\\u003cbr\\u003eYear=%{x}\\u003cbr\\u003eNilai GDP=%{y}\\u003cextra\\u003e\\u003c\\u002fextra\\u003e\",\"legendgroup\":\"Kiribati\",\"line\":{\"color\":\"#ab63fa\",\"dash\":\"solid\"},\"marker\":{\"symbol\":\"circle\"},\"mode\":\"markers+lines\",\"name\":\"Kiribati\",\"showlegend\":true,\"x\":[2000,2001,2002,2003,2004,2005,2006,2007,2008,2009,2010,2011,2012,2013,2014,2015,2016,2017,2018,2019,2020,2021,2022,2023],\"xaxis\":\"x\",\"y\":[6.779661017,-3.174603175,1.639344262,-1.612903226,-0.546448087,1.098901099,5.97826087,3.076923077,-2.985074627,0.512820513,1.020408163,3.535353535,5.853658537,7.373271889,1.287553648,11.44067797,7.224334601,3.546099291,3.424657534,3.311258278,-0.641025641,8.709677419,3.857566766,4.285714286],\"yaxis\":\"y\",\"type\":\"scattergl\"},{\"hovertemplate\":\"Country Name=St. Kitts and Nevis\\u003cbr\\u003eYear=%{x}\\u003cbr\\u003eNilai GDP=%{y}\\u003cextra\\u003e\\u003c\\u002fextra\\u003e\",\"legendgroup\":\"St. Kitts and Nevis\",\"line\":{\"color\":\"#FFA15A\",\"dash\":\"solid\"},\"marker\":{\"symbol\":\"circle\"},\"mode\":\"markers+lines\",\"name\":\"St. Kitts and Nevis\",\"showlegend\":true,\"x\":[2000,2001,2002,2003,2004,2005,2006,2007,2008,2009,2010,2011,2012,2013,2014,2015,2016,2017,2018,2019,2020,2021,2022,2023],\"xaxis\":\"x\",\"y\":[10.04280842,5.25344983,1.367715073,-3.93339486,3.996346661,9.732820703,3.1503812,0.600602327,11.17852797,-3.379306113,0.043977654,1.616607304,-0.525762355,5.709822978,7.365561708,0.694135528,3.932703193,0.220941147,2.003525498,2.831267379,-15.35445176,0.479678357,10.52284928,3.431152293],\"yaxis\":\"y\",\"type\":\"scattergl\"},{\"hovertemplate\":\"Country Name=Korea, Rep.\\u003cbr\\u003eYear=%{x}\\u003cbr\\u003eNilai GDP=%{y}\\u003cextra\\u003e\\u003c\\u002fextra\\u003e\",\"legendgroup\":\"Korea, Rep.\",\"line\":{\"color\":\"#19d3f3\",\"dash\":\"solid\"},\"marker\":{\"symbol\":\"circle\"},\"mode\":\"markers+lines\",\"name\":\"Korea, Rep.\",\"showlegend\":true,\"x\":[2000,2001,2002,2003,2004,2005,2006,2007,2008,2009,2010,2011,2012,2013,2014,2015,2016,2017,2018,2019,2020,2021,2022,2023],\"xaxis\":\"x\",\"y\":[9.060833325,4.852399572,7.725142675,3.147291194,5.197391363,4.308542714,5.264326595,5.799548415,3.012984873,0.79269899,6.804824918,3.685667782,2.402530992,3.164708636,3.202453795,2.809103268,2.946881715,3.15963574,2.907403774,2.24397786,-0.709415359,4.304734819,2.612672192,1.356733243],\"yaxis\":\"y\",\"type\":\"scattergl\"},{\"hovertemplate\":\"Country Name=Kuwait\\u003cbr\\u003eYear=%{x}\\u003cbr\\u003eNilai GDP=%{y}\\u003cextra\\u003e\\u003c\\u002fextra\\u003e\",\"legendgroup\":\"Kuwait\",\"line\":{\"color\":\"#FF6692\",\"dash\":\"solid\"},\"marker\":{\"symbol\":\"circle\"},\"mode\":\"markers+lines\",\"name\":\"Kuwait\",\"showlegend\":true,\"x\":[2000,2001,2002,2003,2004,2005,2006,2007,2008,2009,2010,2011,2012,2013,2014,2015,2016,2017,2018,2019,2020,2021,2022,2023],\"xaxis\":\"x\",\"y\":[4.694581871,0.213332576,3.014283152,17.32602042,10.24029806,10.60904498,7.514773,5.991575511,2.479756943,-7.076056431,-2.370548047,9.628516604,6.626252425,1.149212861,0.500917356,0.592771759,2.926076261,-4.712223765,2.433978939,1.38146368,-5.274020605,1.69762483,6.138252785,-2.230093463],\"yaxis\":\"y\",\"type\":\"scattergl\"},{\"hovertemplate\":\"Country Name=Latin America & Caribbean (excluding high income)\\u003cbr\\u003eYear=%{x}\\u003cbr\\u003eNilai GDP=%{y}\\u003cextra\\u003e\\u003c\\u002fextra\\u003e\",\"legendgroup\":\"Latin America & Caribbean (excluding high income)\",\"line\":{\"color\":\"#B6E880\",\"dash\":\"solid\"},\"marker\":{\"symbol\":\"circle\"},\"mode\":\"markers+lines\",\"name\":\"Latin America & Caribbean (excluding high income)\",\"showlegend\":true,\"x\":[2000,2001,2002,2003,2004,2005,2006,2007,2008,2009,2010,2011,2012,2013,2014,2015,2016,2017,2018,2019,2020,2021,2022,2023],\"xaxis\":\"x\",\"y\":[3.621212847,0.17585231,0.367566911,2.407029898,5.274218794,3.988954824,5.252942337,5.335291555,3.739808228,-2.406389797,6.672067644,4.425303457,2.371156394,2.765408197,1.295885987,0.292573684,-0.483657125,2.017471619,1.565340777,0.665471963,-6.542686148,6.814466462,3.877052645,2.151256544],\"yaxis\":\"y\",\"type\":\"scattergl\"},{\"hovertemplate\":\"Country Name=Lao PDR\\u003cbr\\u003eYear=%{x}\\u003cbr\\u003eNilai GDP=%{y}\\u003cextra\\u003e\\u003c\\u002fextra\\u003e\",\"legendgroup\":\"Lao PDR\",\"line\":{\"color\":\"#FF97FF\",\"dash\":\"solid\"},\"marker\":{\"symbol\":\"circle\"},\"mode\":\"markers+lines\",\"name\":\"Lao PDR\",\"showlegend\":true,\"x\":[2000,2001,2002,2003,2004,2005,2006,2007,2008,2009,2010,2011,2012,2013,2014,2015,2016,2017,2018,2019,2020,2021,2022,2023],\"xaxis\":\"x\",\"y\":[5.798782329,5.75141288,5.918743684,6.067002303,6.35769548,7.107568368,8.619266208,7.596828801,7.824902763,7.501774912,8.526905517,8.03865268,8.026098435,8.026300227,7.61196344,7.270065844,7.022836255,6.892530873,6.247960008,5.457735092,0.503031829,2.528351005,2.707426526,3.745681402],\"yaxis\":\"y\",\"type\":\"scattergl\"},{\"hovertemplate\":\"Country Name=Lebanon\\u003cbr\\u003eYear=%{x}\\u003cbr\\u003eNilai GDP=%{y}\\u003cextra\\u003e\\u003c\\u002fextra\\u003e\",\"legendgroup\":\"Lebanon\",\"line\":{\"color\":\"#FECB52\",\"dash\":\"solid\"},\"marker\":{\"symbol\":\"circle\"},\"mode\":\"markers+lines\",\"name\":\"Lebanon\",\"showlegend\":true,\"x\":[2000,2001,2002,2003,2004,2005,2006,2007,2008,2009,2010,2011,2012,2013,2014,2015,2016,2017,2018,2019,2020,2021,2022,2023],\"xaxis\":\"x\",\"y\":[1.34187162,3.839669277,3.423149828,3.227098269,6.679444616,2.68577931,1.549515001,9.310622526,9.069128268,10.23215558,7.975135558,0.867339879,2.564791337,3.827873499,2.484060105,0.462320793,1.554549409,0.903028464,-1.884705756,-6.914924729,-21.39989969,-7.001238625,-0.621678971,0.0],\"yaxis\":\"y\",\"type\":\"scattergl\"},{\"hovertemplate\":\"Country Name=Liberia\\u003cbr\\u003eYear=%{x}\\u003cbr\\u003eNilai GDP=%{y}\\u003cextra\\u003e\\u003c\\u002fextra\\u003e\",\"legendgroup\":\"Liberia\",\"line\":{\"color\":\"#636efa\",\"dash\":\"solid\"},\"marker\":{\"symbol\":\"circle\"},\"mode\":\"markers+lines\",\"name\":\"Liberia\",\"showlegend\":true,\"x\":[2000,2001,2002,2003,2004,2005,2006,2007,2008,2009,2010,2011,2012,2013,2014,2015,2016,2017,2018,2019,2020,2021,2022,2023],\"xaxis\":\"x\",\"y\":[28.61593335,2.920274766,3.763017617,-30.14513273,2.619846895,5.281212453,8.043909972,9.535275363,7.145691128,5.300540503,6.09982524,8.200768225,7.993814446,8.687287816,0.7013931,-0.01856497,-1.554958617,2.45515592,1.157575122,-2.467297635,-2.982491276,4.986712835,4.808105173,4.711025384],\"yaxis\":\"y\",\"type\":\"scattergl\"},{\"hovertemplate\":\"Country Name=Libya\\u003cbr\\u003eYear=%{x}\\u003cbr\\u003eNilai GDP=%{y}\\u003cextra\\u003e\\u003c\\u002fextra\\u003e\",\"legendgroup\":\"Libya\",\"line\":{\"color\":\"#EF553B\",\"dash\":\"solid\"},\"marker\":{\"symbol\":\"circle\"},\"mode\":\"markers+lines\",\"name\":\"Libya\",\"showlegend\":true,\"x\":[2000,2001,2002,2003,2004,2005,2006,2007,2008,2009,2010,2011,2012,2013,2014,2015,2016,2017,2018,2019,2020,2021,2022,2023],\"xaxis\":\"x\",\"y\":[3.679270408,-1.762838871,-0.958897333,13.01603725,4.461638996,11.87075652,6.50052542,6.229982786,-0.162048239,-4.400181763,5.027247672,-50.33851514,86.82674844,-17.99796157,-23.04280583,-0.842656252,-1.490941117,32.49180219,7.941367853,-5.994783943,-58.31823042,153.4926407,1.336148097,-1.672589946],\"yaxis\":\"y\",\"type\":\"scattergl\"},{\"hovertemplate\":\"Country Name=St. Lucia\\u003cbr\\u003eYear=%{x}\\u003cbr\\u003eNilai GDP=%{y}\\u003cextra\\u003e\\u003c\\u002fextra\\u003e\",\"legendgroup\":\"St. Lucia\",\"line\":{\"color\":\"#00cc96\",\"dash\":\"solid\"},\"marker\":{\"symbol\":\"circle\"},\"mode\":\"markers+lines\",\"name\":\"St. Lucia\",\"showlegend\":true,\"x\":[2000,2001,2002,2003,2004,2005,2006,2007,2008,2009,2010,2011,2012,2013,2014,2015,2016,2017,2018,2019,2020,2021,2022,2023],\"xaxis\":\"x\",\"y\":[0.048748554,-3.408063962,0.416450493,4.264611487,7.26740887,-0.410304726,6.195257291,1.691618574,4.94932194,-2.828899548,0.330018546,4.326942805,-0.108756148,-2.005024374,1.520673444,0.102115735,3.427865368,3.379628568,2.886779022,-0.65396,-24.5044,12.22991,18.07538,3.19001],\"yaxis\":\"y\",\"type\":\"scattergl\"},{\"hovertemplate\":\"Country Name=Latin America & Caribbean\\u003cbr\\u003eYear=%{x}\\u003cbr\\u003eNilai GDP=%{y}\\u003cextra\\u003e\\u003c\\u002fextra\\u003e\",\"legendgroup\":\"Latin America & Caribbean\",\"line\":{\"color\":\"#ab63fa\",\"dash\":\"solid\"},\"marker\":{\"symbol\":\"circle\"},\"mode\":\"markers+lines\",\"name\":\"Latin America & Caribbean\",\"showlegend\":true,\"x\":[2000,2001,2002,2003,2004,2005,2006,2007,2008,2009,2010,2011,2012,2013,2014,2015,2016,2017,2018,2019,2020,2021,2022,2023],\"xaxis\":\"x\",\"y\":[3.609968867,0.453271766,0.464241186,2.45501149,5.435783683,3.931813629,5.129489942,5.181815476,3.640487793,-2.279091936,6.388674472,4.395543068,2.566619511,2.760268493,1.336538436,0.407853688,-0.334793598,1.889825233,1.571706298,0.718740959,-6.649245673,6.996791927,3.987930947,2.153083954],\"yaxis\":\"y\",\"type\":\"scattergl\"},{\"hovertemplate\":\"Country Name=Least developed countries: UN classification\\u003cbr\\u003eYear=%{x}\\u003cbr\\u003eNilai GDP=%{y}\\u003cextra\\u003e\\u003c\\u002fextra\\u003e\",\"legendgroup\":\"Least developed countries: UN classification\",\"line\":{\"color\":\"#FFA15A\",\"dash\":\"solid\"},\"marker\":{\"symbol\":\"circle\"},\"mode\":\"markers+lines\",\"name\":\"Least developed countries: UN classification\",\"showlegend\":true,\"x\":[2000,2001,2002,2003,2004,2005,2006,2007,2008,2009,2010,2011,2012,2013,2014,2015,2016,2017,2018,2019,2020,2021,2022,2023],\"xaxis\":\"x\",\"y\":[4.347244038,4.88560435,5.278264062,4.991131567,6.380883202,7.425536613,6.871564699,7.265627056,6.44492278,4.258714812,6.23843488,3.208453878,3.147317265,5.701096755,5.615400548,2.683764303,3.674366914,4.478174656,4.557900801,5.006065947,-0.06707583,2.772175535,4.630417956,3.71887839],\"yaxis\":\"y\",\"type\":\"scattergl\"},{\"hovertemplate\":\"Country Name=Low income\\u003cbr\\u003eYear=%{x}\\u003cbr\\u003eNilai GDP=%{y}\\u003cextra\\u003e\\u003c\\u002fextra\\u003e\",\"legendgroup\":\"Low income\",\"line\":{\"color\":\"#19d3f3\",\"dash\":\"solid\"},\"marker\":{\"symbol\":\"circle\"},\"mode\":\"markers+lines\",\"name\":\"Low income\",\"showlegend\":true,\"x\":[2000,2001,2002,2003,2004,2005,2006,2007,2008,2009,2010,2011,2012,2013,2014,2015,2016,2017,2018,2019,2020,2021,2022,2023],\"xaxis\":\"x\",\"y\":[3.202703596,4.326050752,4.838812056,4.870497655,6.13893208,6.579886995,5.92097,6.116903221,5.542126313,4.154478075,6.982844241,0.785974727,-3.21602082,3.291082558,4.390795715,-0.569703594,2.023147228,3.038697218,3.416135893,4.233606104,0.344386863,2.069746686,3.736941965,3.005654742],\"yaxis\":\"y\",\"type\":\"scattergl\"},{\"hovertemplate\":\"Country Name=Liechtenstein\\u003cbr\\u003eYear=%{x}\\u003cbr\\u003eNilai GDP=%{y}\\u003cextra\\u003e\\u003c\\u002fextra\\u003e\",\"legendgroup\":\"Liechtenstein\",\"line\":{\"color\":\"#FF6692\",\"dash\":\"solid\"},\"marker\":{\"symbol\":\"circle\"},\"mode\":\"markers+lines\",\"name\":\"Liechtenstein\",\"showlegend\":true,\"x\":[2000,2001,2002,2003,2004,2005,2006,2007,2008,2009,2010,2011,2012,2013,2014,2015,2016,2017,2018,2019,2020,2021,2022,2023],\"xaxis\":\"x\",\"y\":[3.220193082,-0.733092455,-0.993919947,-1.937565341,3.039172103,4.828076777,8.644968573,3.325963509,1.798088478,-1.15748292,0.0,0.0,0.0,0.0,0.0,0.0,0.0,0.0,0.0,0.0,0.0,0.0,0.0,0.0],\"yaxis\":\"y\",\"type\":\"scattergl\"},{\"hovertemplate\":\"Country Name=Sri Lanka\\u003cbr\\u003eYear=%{x}\\u003cbr\\u003eNilai GDP=%{y}\\u003cextra\\u003e\\u003c\\u002fextra\\u003e\",\"legendgroup\":\"Sri Lanka\",\"line\":{\"color\":\"#B6E880\",\"dash\":\"solid\"},\"marker\":{\"symbol\":\"circle\"},\"mode\":\"markers+lines\",\"name\":\"Sri Lanka\",\"showlegend\":true,\"x\":[2000,2001,2002,2003,2004,2005,2006,2007,2008,2009,2010,2011,2012,2013,2014,2015,2016,2017,2018,2019,2020,2021,2022,2023],\"xaxis\":\"x\",\"y\":[6.000033158,-1.545408134,3.964675685,5.940269078,5.445061279,6.241748044,7.668291901,6.796826119,5.950088145,3.538912053,8.01596737,8.669483012,8.63218138,4.051746329,6.377978893,4.205955476,5.053624893,6.460681271,2.310084252,-0.220483886,-4.624515816,4.207485977,-7.346764384,-2.298045112],\"yaxis\":\"y\",\"type\":\"scattergl\"},{\"hovertemplate\":\"Country Name=Lower middle income\\u003cbr\\u003eYear=%{x}\\u003cbr\\u003eNilai GDP=%{y}\\u003cextra\\u003e\\u003c\\u002fextra\\u003e\",\"legendgroup\":\"Lower middle income\",\"line\":{\"color\":\"#FF97FF\",\"dash\":\"solid\"},\"marker\":{\"symbol\":\"circle\"},\"mode\":\"markers+lines\",\"name\":\"Lower middle income\",\"showlegend\":true,\"x\":[2000,2001,2002,2003,2004,2005,2006,2007,2008,2009,2010,2011,2012,2013,2014,2015,2016,2017,2018,2019,2020,2021,2022,2023],\"xaxis\":\"x\",\"y\":[4.206035507,4.344863668,4.512912905,5.939667475,7.083800672,6.705588215,6.961325847,6.893225713,4.583618133,5.945314194,6.862810353,4.754317781,5.161024514,5.674443827,6.112484282,5.933648596,5.692524361,5.457190539,5.438936722,4.056323163,-3.585309431,6.651350609,5.822306681,5.291647256],\"yaxis\":\"y\",\"type\":\"scattergl\"},{\"hovertemplate\":\"Country Name=Low & middle income\\u003cbr\\u003eYear=%{x}\\u003cbr\\u003eNilai GDP=%{y}\\u003cextra\\u003e\\u003c\\u002fextra\\u003e\",\"legendgroup\":\"Low & middle income\",\"line\":{\"color\":\"#FECB52\",\"dash\":\"solid\"},\"marker\":{\"symbol\":\"circle\"},\"mode\":\"markers+lines\",\"name\":\"Low & middle income\",\"showlegend\":true,\"x\":[2000,2001,2002,2003,2004,2005,2006,2007,2008,2009,2010,2011,2012,2013,2014,2015,2016,2017,2018,2019,2020,2021,2022,2023],\"xaxis\":\"x\",\"y\":[5.531175786,3.631331409,4.730827901,5.864145994,7.659770544,7.315660525,8.207421189,8.828787135,5.912564717,3.975476332,8.157475985,6.382481636,5.47567183,5.603071471,5.157931764,4.736742822,4.761435287,5.339994361,4.990183316,4.085397652,-1.189686678,7.424545926,3.849025192,4.519073209],\"yaxis\":\"y\",\"type\":\"scattergl\"},{\"hovertemplate\":\"Country Name=Lesotho\\u003cbr\\u003eYear=%{x}\\u003cbr\\u003eNilai GDP=%{y}\\u003cextra\\u003e\\u003c\\u002fextra\\u003e\",\"legendgroup\":\"Lesotho\",\"line\":{\"color\":\"#636efa\",\"dash\":\"solid\"},\"marker\":{\"symbol\":\"circle\"},\"mode\":\"markers+lines\",\"name\":\"Lesotho\",\"showlegend\":true,\"x\":[2000,2001,2002,2003,2004,2005,2006,2007,2008,2009,2010,2011,2012,2013,2014,2015,2016,2017,2018,2019,2020,2021,2022,2023],\"xaxis\":\"x\",\"y\":[3.875546776,3.561581834,0.723836067,4.559777164,1.692374174,3.466122228,4.230095228,4.1879141,5.52341967,-1.253757799,5.269670781,4.616413945,6.334083747,1.792525556,1.710549905,3.12406678,3.608907317,-3.138174937,-1.480633158,-1.417993831,-7.458717059,1.852678521,1.285504125,0.898149778],\"yaxis\":\"y\",\"type\":\"scattergl\"},{\"hovertemplate\":\"Country Name=Late-demographic dividend\\u003cbr\\u003eYear=%{x}\\u003cbr\\u003eNilai GDP=%{y}\\u003cextra\\u003e\\u003c\\u002fextra\\u003e\",\"legendgroup\":\"Late-demographic dividend\",\"line\":{\"color\":\"#EF553B\",\"dash\":\"solid\"},\"marker\":{\"symbol\":\"circle\"},\"mode\":\"markers+lines\",\"name\":\"Late-demographic dividend\",\"showlegend\":true,\"x\":[2000,2001,2002,2003,2004,2005,2006,2007,2008,2009,2010,2011,2012,2013,2014,2015,2016,2017,2018,2019,2020,2021,2022,2023],\"xaxis\":\"x\",\"y\":[6.983208323,5.184735977,5.98307844,6.82091802,8.177261651,7.740474776,9.284165762,10.2099771,6.921568274,3.696143425,8.01430635,7.185733586,5.815607241,5.611440451,5.225645262,4.699859913,4.4722485,5.304013965,5.424171409,4.650998891,0.199854475,7.449584002,3.177512741,4.189950212],\"yaxis\":\"y\",\"type\":\"scattergl\"},{\"hovertemplate\":\"Country Name=Lithuania\\u003cbr\\u003eYear=%{x}\\u003cbr\\u003eNilai GDP=%{y}\\u003cextra\\u003e\\u003c\\u002fextra\\u003e\",\"legendgroup\":\"Lithuania\",\"line\":{\"color\":\"#00cc96\",\"dash\":\"solid\"},\"marker\":{\"symbol\":\"circle\"},\"mode\":\"markers+lines\",\"name\":\"Lithuania\",\"showlegend\":true,\"x\":[2000,2001,2002,2003,2004,2005,2006,2007,2008,2009,2010,2011,2012,2013,2014,2015,2016,2017,2018,2019,2020,2021,2022,2023],\"xaxis\":\"x\",\"y\":[3.695525421,6.526108902,6.751414576,10.56595699,6.569490118,7.732367604,7.414121335,11.10748014,2.614423033,-14.83860837,1.651240653,6.03900816,3.843864749,3.550072843,3.537009879,2.024583955,2.518828273,4.282596951,3.993310328,4.665678381,-0.024612495,6.284710039,2.440175465,-0.336086244],\"yaxis\":\"y\",\"type\":\"scattergl\"},{\"hovertemplate\":\"Country Name=Luxembourg\\u003cbr\\u003eYear=%{x}\\u003cbr\\u003eNilai GDP=%{y}\\u003cextra\\u003e\\u003c\\u002fextra\\u003e\",\"legendgroup\":\"Luxembourg\",\"line\":{\"color\":\"#ab63fa\",\"dash\":\"solid\"},\"marker\":{\"symbol\":\"circle\"},\"mode\":\"markers+lines\",\"name\":\"Luxembourg\",\"showlegend\":true,\"x\":[2000,2001,2002,2003,2004,2005,2006,2007,2008,2009,2010,2011,2012,2013,2014,2015,2016,2017,2018,2019,2020,2021,2022,2023],\"xaxis\":\"x\",\"y\":[6.938130249,3.074354999,3.2254169,2.619378579,4.231891307,2.482874748,6.016715044,8.098667607,-0.300176194,-3.238954027,3.760413593,1.044298695,1.64990203,3.171790499,2.623086016,2.269784484,4.978190437,1.317187663,1.219321919,2.915847915,-0.909829799,7.168401987,1.380185891,-1.095723616],\"yaxis\":\"y\",\"type\":\"scattergl\"},{\"hovertemplate\":\"Country Name=Latvia\\u003cbr\\u003eYear=%{x}\\u003cbr\\u003eNilai GDP=%{y}\\u003cextra\\u003e\\u003c\\u002fextra\\u003e\",\"legendgroup\":\"Latvia\",\"line\":{\"color\":\"#FFA15A\",\"dash\":\"solid\"},\"marker\":{\"symbol\":\"circle\"},\"mode\":\"markers+lines\",\"name\":\"Latvia\",\"showlegend\":true,\"x\":[2000,2001,2002,2003,2004,2005,2006,2007,2008,2009,2010,2011,2012,2013,2014,2015,2016,2017,2018,2019,2020,2021,2022,2023],\"xaxis\":\"x\",\"y\":[5.675741312,6.323508159,7.088128657,8.422862207,8.284145978,10.72036596,11.97183569,9.941921628,-3.249120723,-14.26014004,-4.45556726,2.573712363,7.042247161,2.007966879,1.902172684,3.885260054,2.368614747,3.312475936,3.990519241,0.587502383,-3.513802842,6.731735278,2.954731771,-0.282539558],\"yaxis\":\"y\",\"type\":\"scattergl\"},{\"hovertemplate\":\"Country Name=Macao SAR, China\\u003cbr\\u003eYear=%{x}\\u003cbr\\u003eNilai GDP=%{y}\\u003cextra\\u003e\\u003c\\u002fextra\\u003e\",\"legendgroup\":\"Macao SAR, China\",\"line\":{\"color\":\"#19d3f3\",\"dash\":\"solid\"},\"marker\":{\"symbol\":\"circle\"},\"mode\":\"markers+lines\",\"name\":\"Macao SAR, China\",\"showlegend\":true,\"x\":[2000,2001,2002,2003,2004,2005,2006,2007,2008,2009,2010,2011,2012,2013,2014,2015,2016,2017,2018,2019,2020,2021,2022,2023],\"xaxis\":\"x\",\"y\":[5.746611203,2.888414128,8.910605549,11.64062796,26.63034271,8.075694247,13.39014692,14.47674114,3.391343491,1.274407072,25.12259456,21.61664808,9.242264993,10.75278008,-2.048303634,-21.51440219,-0.679023627,9.860027316,6.405178494,-2.563522732,-54.33587564,23.53556694,-21.40195058,80.534216],\"yaxis\":\"y\",\"type\":\"scattergl\"},{\"hovertemplate\":\"Country Name=St. Martin (French part)\\u003cbr\\u003eYear=%{x}\\u003cbr\\u003eNilai GDP=%{y}\\u003cextra\\u003e\\u003c\\u002fextra\\u003e\",\"legendgroup\":\"St. Martin (French part)\",\"line\":{\"color\":\"#FF6692\",\"dash\":\"solid\"},\"marker\":{\"symbol\":\"circle\"},\"mode\":\"markers+lines\",\"name\":\"St. Martin (French part)\",\"showlegend\":true,\"x\":[2000,2001,2002,2003,2004,2005,2006,2007,2008,2009,2010,2011,2012,2013,2014,2015,2016,2017,2018,2019,2020,2021,2022,2023],\"xaxis\":\"x\",\"y\":[0.0,0.0,0.0,0.0,0.0,0.0,0.0,0.0,0.0,0.0,0.0,0.0,0.0,0.0,0.0,1.0,5.0,-8.00000324,-7.999995069,6.500003637,-12.50000225,4.899999671,0.0,0.0],\"yaxis\":\"y\",\"type\":\"scattergl\"},{\"hovertemplate\":\"Country Name=Morocco\\u003cbr\\u003eYear=%{x}\\u003cbr\\u003eNilai GDP=%{y}\\u003cextra\\u003e\\u003c\\u002fextra\\u003e\",\"legendgroup\":\"Morocco\",\"line\":{\"color\":\"#B6E880\",\"dash\":\"solid\"},\"marker\":{\"symbol\":\"circle\"},\"mode\":\"markers+lines\",\"name\":\"Morocco\",\"showlegend\":true,\"x\":[2000,2001,2002,2003,2004,2005,2006,2007,2008,2009,2010,2011,2012,2013,2014,2015,2016,2017,2018,2019,2020,2021,2022,2023],\"xaxis\":\"x\",\"y\":[2.582180915,7.721825196,3.730197375,6.17110215,4.571380165,3.19224973,7.79082001,3.441067767,5.684539363,3.745769401,3.499557094,5.524645233,3.062343685,4.122212869,2.71924408,4.344582976,0.521185506,5.057898162,3.06564133,2.890974761,-7.178207442,8.02098437,1.258543984,3.177946835],\"yaxis\":\"y\",\"type\":\"scattergl\"},{\"hovertemplate\":\"Country Name=Monaco\\u003cbr\\u003eYear=%{x}\\u003cbr\\u003eNilai GDP=%{y}\\u003cextra\\u003e\\u003c\\u002fextra\\u003e\",\"legendgroup\":\"Monaco\",\"line\":{\"color\":\"#FF97FF\",\"dash\":\"solid\"},\"marker\":{\"symbol\":\"circle\"},\"mode\":\"markers+lines\",\"name\":\"Monaco\",\"showlegend\":true,\"x\":[2000,2001,2002,2003,2004,2005,2006,2007,2008,2009,2010,2011,2012,2013,2014,2015,2016,2017,2018,2019,2020,2021,2022,2023],\"xaxis\":\"x\",\"y\":[3.910229176,2.187734091,1.026495639,1.087536749,2.470484168,1.875679635,5.794047933,14.4386358,0.739612791,-11.33448499,2.065220038,7.022357966,1.012217961,9.577097956,7.187027898,4.863473211,2.964104586,-3.044121486,5.780346821,7.083460612,-13.0110935,21.86737111,11.09682627,0.0],\"yaxis\":\"y\",\"type\":\"scattergl\"},{\"hovertemplate\":\"Country Name=Moldova\\u003cbr\\u003eYear=%{x}\\u003cbr\\u003eNilai GDP=%{y}\\u003cextra\\u003e\\u003c\\u002fextra\\u003e\",\"legendgroup\":\"Moldova\",\"line\":{\"color\":\"#FECB52\",\"dash\":\"solid\"},\"marker\":{\"symbol\":\"circle\"},\"mode\":\"markers+lines\",\"name\":\"Moldova\",\"showlegend\":true,\"x\":[2000,2001,2002,2003,2004,2005,2006,2007,2008,2009,2010,2011,2012,2013,2014,2015,2016,2017,2018,2019,2020,2021,2022,2023],\"xaxis\":\"x\",\"y\":[2.107716082,6.100000399,7.799999658,6.599999958,7.399999734,7.500000149,4.799999837,3.000000226,7.800000145,-6.000000264,7.100000107,5.818166147,-0.589733955,9.043865607,4.999625854,-0.338235622,4.646014363,4.175612051,4.075595466,3.552314085,-8.27597832,13.92999979,-5.015482319,0.78324271],\"yaxis\":\"y\",\"type\":\"scattergl\"},{\"hovertemplate\":\"Country Name=Madagascar\\u003cbr\\u003eYear=%{x}\\u003cbr\\u003eNilai GDP=%{y}\\u003cextra\\u003e\\u003c\\u002fextra\\u003e\",\"legendgroup\":\"Madagascar\",\"line\":{\"color\":\"#636efa\",\"dash\":\"solid\"},\"marker\":{\"symbol\":\"circle\"},\"mode\":\"markers+lines\",\"name\":\"Madagascar\",\"showlegend\":true,\"x\":[2000,2001,2002,2003,2004,2005,2006,2007,2008,2009,2010,2011,2012,2013,2014,2015,2016,2017,2018,2019,2020,2021,2022,2023],\"xaxis\":\"x\",\"y\":[4.45685894,5.98023577,-12.40797111,9.784892125,5.257003622,4.755845095,5.398508449,5.710564199,6.712632539,-3.978708612,0.619239745,1.578427054,3.011148116,2.300376228,3.339203112,3.132298075,3.993146062,3.933307595,3.194356517,4.411232129,-7.137671621,5.739615739,3.796199089,3.985371013],\"yaxis\":\"y\",\"type\":\"scattergl\"},{\"hovertemplate\":\"Country Name=Maldives\\u003cbr\\u003eYear=%{x}\\u003cbr\\u003eNilai GDP=%{y}\\u003cextra\\u003e\\u003c\\u002fextra\\u003e\",\"legendgroup\":\"Maldives\",\"line\":{\"color\":\"#EF553B\",\"dash\":\"solid\"},\"marker\":{\"symbol\":\"circle\"},\"mode\":\"markers+lines\",\"name\":\"Maldives\",\"showlegend\":true,\"x\":[2000,2001,2002,2003,2004,2005,2006,2007,2008,2009,2010,2011,2012,2013,2014,2015,2016,2017,2018,2019,2020,2021,2022,2023],\"xaxis\":\"x\",\"y\":[3.845810232,-3.943634289,7.26838641,13.75004966,5.816366933,-11.22316621,23.60579828,7.12342766,8.979816872,-8.157763215,6.835471356,8.572699128,2.363747489,6.963246632,7.801094807,3.971715703,6.572236066,7.054539014,8.668006242,7.298335745,-32.90882878,37.68719229,13.90667638,3.972795846],\"yaxis\":\"y\",\"type\":\"scattergl\"},{\"hovertemplate\":\"Country Name=Middle East & North Africa\\u003cbr\\u003eYear=%{x}\\u003cbr\\u003eNilai GDP=%{y}\\u003cextra\\u003e\\u003c\\u002fextra\\u003e\",\"legendgroup\":\"Middle East & North Africa\",\"line\":{\"color\":\"#00cc96\",\"dash\":\"solid\"},\"marker\":{\"symbol\":\"circle\"},\"mode\":\"markers+lines\",\"name\":\"Middle East & North Africa\",\"showlegend\":true,\"x\":[2000,2001,2002,2003,2004,2005,2006,2007,2008,2009,2010,2011,2012,2013,2014,2015,2016,2017,2018,2019,2020,2021,2022,2023],\"xaxis\":\"x\",\"y\":[6.764847901,1.529608273,1.522981811,5.058172264,7.840269733,4.97968652,5.896159796,5.16054571,4.576027486,0.594667396,5.060228679,3.747592823,3.939340388,2.173460042,2.832882412,2.690417306,4.359753776,1.957243597,2.262259344,1.378349639,-4.023299372,5.572890856,5.748362666,1.780039753],\"yaxis\":\"y\",\"type\":\"scattergl\"},{\"hovertemplate\":\"Country Name=Mexico\\u003cbr\\u003eYear=%{x}\\u003cbr\\u003eNilai GDP=%{y}\\u003cextra\\u003e\\u003c\\u002fextra\\u003e\",\"legendgroup\":\"Mexico\",\"line\":{\"color\":\"#ab63fa\",\"dash\":\"solid\"},\"marker\":{\"symbol\":\"circle\"},\"mode\":\"markers+lines\",\"name\":\"Mexico\",\"showlegend\":true,\"x\":[2000,2001,2002,2003,2004,2005,2006,2007,2008,2009,2010,2011,2012,2013,2014,2015,2016,2017,2018,2019,2020,2021,2022,2023],\"xaxis\":\"x\",\"y\":[5.029283994,-0.450845253,-0.236588002,1.185544867,3.565441009,2.113247126,4.805013527,2.077863934,0.943331863,-6.295250558,4.971334583,3.444045058,3.55321076,0.852101559,2.503763503,2.702323426,1.772493238,1.871728533,1.972082094,-0.251335755,-8.624555731,5.739208338,3.948999999,3.228736756],\"yaxis\":\"y\",\"type\":\"scattergl\"},{\"hovertemplate\":\"Country Name=Marshall Islands\\u003cbr\\u003eYear=%{x}\\u003cbr\\u003eNilai GDP=%{y}\\u003cextra\\u003e\\u003c\\u002fextra\\u003e\",\"legendgroup\":\"Marshall Islands\",\"line\":{\"color\":\"#FFA15A\",\"dash\":\"solid\"},\"marker\":{\"symbol\":\"circle\"},\"mode\":\"markers+lines\",\"name\":\"Marshall Islands\",\"showlegend\":true,\"x\":[2000,2001,2002,2003,2004,2005,2006,2007,2008,2009,2010,2011,2012,2013,2014,2015,2016,2017,2018,2019,2020,2021,2022,2023],\"xaxis\":\"x\",\"y\":[2.45442785,6.930040654,3.635792317,-1.56170055,-0.692279198,1.784691405,0.219614635,3.416279458,-7.646274782,3.698219165,5.446764506,-0.214165889,-1.308868622,3.610449139,-1.15756789,2.100519333,2.144291104,3.733798238,5.659210564,10.35782945,-2.845981661,1.112300902,-0.675525739,3.225998994],\"yaxis\":\"y\",\"type\":\"scattergl\"},{\"hovertemplate\":\"Country Name=Middle income\\u003cbr\\u003eYear=%{x}\\u003cbr\\u003eNilai GDP=%{y}\\u003cextra\\u003e\\u003c\\u002fextra\\u003e\",\"legendgroup\":\"Middle income\",\"line\":{\"color\":\"#19d3f3\",\"dash\":\"solid\"},\"marker\":{\"symbol\":\"circle\"},\"mode\":\"markers+lines\",\"name\":\"Middle income\",\"showlegend\":true,\"x\":[2000,2001,2002,2003,2004,2005,2006,2007,2008,2009,2010,2011,2012,2013,2014,2015,2016,2017,2018,2019,2020,2021,2022,2023],\"xaxis\":\"x\",\"y\":[5.578586209,3.617081317,4.728597773,5.884688774,7.690911343,7.330509158,8.25324132,8.881962017,5.91964385,3.97185492,8.181281878,6.494647786,5.640534166,5.643248306,5.170964721,4.826225858,4.805234352,5.375826617,5.014148382,4.083175498,-1.212720962,7.506216158,3.85059249,4.539564994],\"yaxis\":\"y\",\"type\":\"scattergl\"},{\"hovertemplate\":\"Country Name=North Macedonia\\u003cbr\\u003eYear=%{x}\\u003cbr\\u003eNilai GDP=%{y}\\u003cextra\\u003e\\u003c\\u002fextra\\u003e\",\"legendgroup\":\"North Macedonia\",\"line\":{\"color\":\"#FF6692\",\"dash\":\"solid\"},\"marker\":{\"symbol\":\"circle\"},\"mode\":\"markers+lines\",\"name\":\"North Macedonia\",\"showlegend\":true,\"x\":[2000,2001,2002,2003,2004,2005,2006,2007,2008,2009,2010,2011,2012,2013,2014,2015,2016,2017,2018,2019,2020,2021,2022,2023],\"xaxis\":\"x\",\"y\":[4.549135783,-3.067256625,1.493665472,2.222601657,4.67408958,4.724088642,5.137025162,6.473486858,5.47200139,-0.358614857,3.358750858,2.339886045,-0.456183224,2.925257665,3.629123513,3.85586514,2.848205194,1.081772738,2.88059671,3.910419538,-4.68845001,4.51067949,2.221705271,1.027415135],\"yaxis\":\"y\",\"type\":\"scattergl\"},{\"hovertemplate\":\"Country Name=Mali\\u003cbr\\u003eYear=%{x}\\u003cbr\\u003eNilai GDP=%{y}\\u003cextra\\u003e\\u003c\\u002fextra\\u003e\",\"legendgroup\":\"Mali\",\"line\":{\"color\":\"#B6E880\",\"dash\":\"solid\"},\"marker\":{\"symbol\":\"circle\"},\"mode\":\"markers+lines\",\"name\":\"Mali\",\"showlegend\":true,\"x\":[2000,2001,2002,2003,2004,2005,2006,2007,2008,2009,2010,2011,2012,2013,2014,2015,2016,2017,2018,2019,2020,2021,2022,2023],\"xaxis\":\"x\",\"y\":[-0.060834972,15.37623946,3.106308252,9.119041995,1.559998661,6.534778775,4.662186878,3.493616813,4.773145081,4.806322267,5.313935279,3.21313378,-0.836734632,2.29506829,7.084683881,6.171800024,5.852299199,5.305456084,4.746484327,4.756160808,-1.235450447,3.052613569,3.474951711,5.236577528],\"yaxis\":\"y\",\"type\":\"scattergl\"},{\"hovertemplate\":\"Country Name=Malta\\u003cbr\\u003eYear=%{x}\\u003cbr\\u003eNilai GDP=%{y}\\u003cextra\\u003e\\u003c\\u002fextra\\u003e\",\"legendgroup\":\"Malta\",\"line\":{\"color\":\"#FF97FF\",\"dash\":\"solid\"},\"marker\":{\"symbol\":\"circle\"},\"mode\":\"markers+lines\",\"name\":\"Malta\",\"showlegend\":true,\"x\":[2000,2001,2002,2003,2004,2005,2006,2007,2008,2009,2010,2011,2012,2013,2014,2015,2016,2017,2018,2019,2020,2021,2022,2023],\"xaxis\":\"x\",\"y\":[19.68126938,-1.17469665,2.565263684,4.074067589,0.140268537,3.383593722,2.510142765,4.774705802,3.826359166,-1.133873655,5.543640011,0.467050564,4.117706376,5.473355914,7.633538464,9.608132348,3.381450476,10.86926923,7.416269823,7.124261217,-8.156778765,12.51394717,8.075539118,5.613927783],\"yaxis\":\"y\",\"type\":\"scattergl\"},{\"hovertemplate\":\"Country Name=Myanmar\\u003cbr\\u003eYear=%{x}\\u003cbr\\u003eNilai GDP=%{y}\\u003cextra\\u003e\\u003c\\u002fextra\\u003e\",\"legendgroup\":\"Myanmar\",\"line\":{\"color\":\"#FECB52\",\"dash\":\"solid\"},\"marker\":{\"symbol\":\"circle\"},\"mode\":\"markers+lines\",\"name\":\"Myanmar\",\"showlegend\":true,\"x\":[2000,2001,2002,2003,2004,2005,2006,2007,2008,2009,2010,2011,2012,2013,2014,2015,2016,2017,2018,2019,2020,2021,2022,2023],\"xaxis\":\"x\",\"y\":[13.74593056,11.34399707,12.02551343,13.84399689,13.56466162,13.56895002,13.07610138,11.99143524,10.25530539,10.5500091,9.634439452,5.591482378,7.332670447,8.426001025,8.169907456,6.99284029,5.862472915,6.136108244,6.268862215,6.579110068,-9.04834718,-12.01637248,4.037493436,1.002238343],\"yaxis\":\"y\",\"type\":\"scattergl\"},{\"hovertemplate\":\"Country Name=Middle East & North Africa (excluding high income)\\u003cbr\\u003eYear=%{x}\\u003cbr\\u003eNilai GDP=%{y}\\u003cextra\\u003e\\u003c\\u002fextra\\u003e\",\"legendgroup\":\"Middle East & North Africa (excluding high income)\",\"line\":{\"color\":\"#636efa\",\"dash\":\"solid\"},\"marker\":{\"symbol\":\"circle\"},\"mode\":\"markers+lines\",\"name\":\"Middle East & North Africa (excluding high income)\",\"showlegend\":true,\"x\":[2000,2001,2002,2003,2004,2005,2006,2007,2008,2009,2010,2011,2012,2013,2014,2015,2016,2017,2018,2019,2020,2021,2022,2023],\"xaxis\":\"x\",\"y\":[6.033060142,2.773513402,3.142500214,2.282661007,7.729711509,4.47171845,5.277321605,6.015228074,3.716242618,2.551547093,5.358951464,-0.941004604,3.557003513,0.456281091,1.825619968,0.722279033,5.40129283,3.121956371,1.817793764,1.11267383,-4.402837909,6.221257688,4.41129157,2.727094357],\"yaxis\":\"y\",\"type\":\"scattergl\"},{\"hovertemplate\":\"Country Name=Montenegro\\u003cbr\\u003eYear=%{x}\\u003cbr\\u003eNilai GDP=%{y}\\u003cextra\\u003e\\u003c\\u002fextra\\u003e\",\"legendgroup\":\"Montenegro\",\"line\":{\"color\":\"#EF553B\",\"dash\":\"solid\"},\"marker\":{\"symbol\":\"circle\"},\"mode\":\"markers+lines\",\"name\":\"Montenegro\",\"showlegend\":true,\"x\":[2000,2001,2002,2003,2004,2005,2006,2007,2008,2009,2010,2011,2012,2013,2014,2015,2016,2017,2018,2019,2020,2021,2022,2023],\"xaxis\":\"x\",\"y\":[3.100000059,1.099838709,1.903936733,2.482659229,4.426050717,4.180604509,8.56641803,6.810150125,7.222752592,-5.795096995,2.734331082,3.228451021,-2.723790771,3.548979912,1.783698581,3.390381397,2.949280321,4.716465276,5.077888811,4.062944992,-15.30689376,13.04346425,6.406680329,5.981903216],\"yaxis\":\"y\",\"type\":\"scattergl\"},{\"hovertemplate\":\"Country Name=Mongolia\\u003cbr\\u003eYear=%{x}\\u003cbr\\u003eNilai GDP=%{y}\\u003cextra\\u003e\\u003c\\u002fextra\\u003e\",\"legendgroup\":\"Mongolia\",\"line\":{\"color\":\"#00cc96\",\"dash\":\"solid\"},\"marker\":{\"symbol\":\"circle\"},\"mode\":\"markers+lines\",\"name\":\"Mongolia\",\"showlegend\":true,\"x\":[2000,2001,2002,2003,2004,2005,2006,2007,2008,2009,2010,2011,2012,2013,2014,2015,2016,2017,2018,2019,2020,2021,2022,2023],\"xaxis\":\"x\",\"y\":[1.146062137,2.952710543,4.732978466,7.004634574,10.62540596,7.253665438,8.556234817,10.24801636,8.900367941,-1.268598936,6.365161679,17.29077759,12.31981985,11.64891619,7.885225482,2.379835807,1.489784487,5.636876387,7.74488062,5.602244221,-4.557751976,1.636769577,5.032709637,7.022991875],\"yaxis\":\"y\",\"type\":\"scattergl\"},{\"hovertemplate\":\"Country Name=Northern Mariana Islands\\u003cbr\\u003eYear=%{x}\\u003cbr\\u003eNilai GDP=%{y}\\u003cextra\\u003e\\u003c\\u002fextra\\u003e\",\"legendgroup\":\"Northern Mariana Islands\",\"line\":{\"color\":\"#ab63fa\",\"dash\":\"solid\"},\"marker\":{\"symbol\":\"circle\"},\"mode\":\"markers+lines\",\"name\":\"Northern Mariana Islands\",\"showlegend\":true,\"x\":[2000,2001,2002,2003,2004,2005,2006,2007,2008,2009,2010,2011,2012,2013,2014,2015,2016,2017,2018,2019,2020,2021,2022,2023],\"xaxis\":\"x\",\"y\":[0.0,0.0,0.0,0.343170899,-3.077975376,-12.70289344,-6.871463217,-6.684027778,-11.06976744,-17.57322176,1.395939086,-7.384230288,0.810810811,2.680965147,4.177545692,3.383458647,29.21212121,23.17073171,-19.26884996,-11.32075472,-29.68085106,0.0,0.0,0.0],\"yaxis\":\"y\",\"type\":\"scattergl\"},{\"hovertemplate\":\"Country Name=Mozambique\\u003cbr\\u003eYear=%{x}\\u003cbr\\u003eNilai GDP=%{y}\\u003cextra\\u003e\\u003c\\u002fextra\\u003e\",\"legendgroup\":\"Mozambique\",\"line\":{\"color\":\"#FFA15A\",\"dash\":\"solid\"},\"marker\":{\"symbol\":\"circle\"},\"mode\":\"markers+lines\",\"name\":\"Mozambique\",\"showlegend\":true,\"x\":[2000,2001,2002,2003,2004,2005,2006,2007,2008,2009,2010,2011,2012,2013,2014,2015,2016,2017,2018,2019,2020,2021,2022,2023],\"xaxis\":\"x\",\"y\":[0.766234956,12.85168202,9.668505347,7.217700866,8.204704948,6.31202378,9.910677568,7.649353938,6.878029426,5.928971875,6.679729357,7.134058423,7.994503161,6.571413897,7.702568448,7.393093699,4.696990242,2.638207373,3.484932024,2.317813947,-1.219522503,2.377435737,4.359800201,5.000024173],\"yaxis\":\"y\",\"type\":\"scattergl\"},{\"hovertemplate\":\"Country Name=Mauritania\\u003cbr\\u003eYear=%{x}\\u003cbr\\u003eNilai GDP=%{y}\\u003cextra\\u003e\\u003c\\u002fextra\\u003e\",\"legendgroup\":\"Mauritania\",\"line\":{\"color\":\"#19d3f3\",\"dash\":\"solid\"},\"marker\":{\"symbol\":\"circle\"},\"mode\":\"markers+lines\",\"name\":\"Mauritania\",\"showlegend\":true,\"x\":[2000,2001,2002,2003,2004,2005,2006,2007,2008,2009,2010,2011,2012,2013,2014,2015,2016,2017,2018,2019,2020,2021,2022,2023],\"xaxis\":\"x\",\"y\":[-3.918025879,-0.799493816,1.381483962,6.928269551,4.732757925,8.566287249,18.33319876,-1.969422752,-0.331079195,0.097875872,2.620229521,4.172783283,4.470013182,4.150813165,4.274823293,5.376339237,1.260909217,6.270545679,4.772173673,3.14100487,-0.360657379,0.7427155,6.387023096,3.383555191],\"yaxis\":\"y\",\"type\":\"scattergl\"},{\"hovertemplate\":\"Country Name=Mauritius\\u003cbr\\u003eYear=%{x}\\u003cbr\\u003eNilai GDP=%{y}\\u003cextra\\u003e\\u003c\\u002fextra\\u003e\",\"legendgroup\":\"Mauritius\",\"line\":{\"color\":\"#FF6692\",\"dash\":\"solid\"},\"marker\":{\"symbol\":\"circle\"},\"mode\":\"markers+lines\",\"name\":\"Mauritius\",\"showlegend\":true,\"x\":[2000,2001,2002,2003,2004,2005,2006,2007,2008,2009,2010,2011,2012,2013,2014,2015,2016,2017,2018,2019,2020,2021,2022,2023],\"xaxis\":\"x\",\"y\":[8.202791749,3.347540727,1.614918659,5.925445489,4.330019855,1.77754302,4.865544608,5.72701616,5.386962542,3.315076998,4.377203223,4.077538066,3.496118365,3.3604061,3.82696982,3.690556904,3.862468263,3.937983806,4.006740572,2.891284993,-14.54653815,3.403798662,8.87988519,6.952287986],\"yaxis\":\"y\",\"type\":\"scattergl\"},{\"hovertemplate\":\"Country Name=Malawi\\u003cbr\\u003eYear=%{x}\\u003cbr\\u003eNilai GDP=%{y}\\u003cextra\\u003e\\u003c\\u002fextra\\u003e\",\"legendgroup\":\"Malawi\",\"line\":{\"color\":\"#B6E880\",\"dash\":\"solid\"},\"marker\":{\"symbol\":\"circle\"},\"mode\":\"markers+lines\",\"name\":\"Malawi\",\"showlegend\":true,\"x\":[2000,2001,2002,2003,2004,2005,2006,2007,2008,2009,2010,2011,2012,2013,2014,2015,2016,2017,2018,2019,2020,2021,2022,2023],\"xaxis\":\"x\",\"y\":[1.576077624,-4.974963617,1.700000029,5.705639407,5.420497549,3.268726021,4.699999765,9.599999876,7.639736399,8.328109852,6.874065854,4.932669998,1.900000001,5.410349999,5.62527,2.800000001,2.499999999,4.0,4.391688296,5.448181336,0.799998331,2.751402609,0.923449719,1.539641712],\"yaxis\":\"y\",\"type\":\"scattergl\"},{\"hovertemplate\":\"Country Name=Malaysia\\u003cbr\\u003eYear=%{x}\\u003cbr\\u003eNilai GDP=%{y}\\u003cextra\\u003e\\u003c\\u002fextra\\u003e\",\"legendgroup\":\"Malaysia\",\"line\":{\"color\":\"#FF97FF\",\"dash\":\"solid\"},\"marker\":{\"symbol\":\"circle\"},\"mode\":\"markers+lines\",\"name\":\"Malaysia\",\"showlegend\":true,\"x\":[2000,2001,2002,2003,2004,2005,2006,2007,2008,2009,2010,2011,2012,2013,2014,2015,2016,2017,2018,2019,2020,2021,2022,2023],\"xaxis\":\"x\",\"y\":[8.85886817,0.517675319,5.390988307,5.788499286,6.783437724,5.332139161,5.584847067,6.298785927,4.831769889,-1.513528716,7.424847383,5.293912834,5.473454193,4.693722526,6.006721946,5.091532422,4.449781398,5.81272241,4.843086976,4.413187421,-5.456846584,3.297641008,8.650344224,3.680282186],\"yaxis\":\"y\",\"type\":\"scattergl\"},{\"hovertemplate\":\"Country Name=North America\\u003cbr\\u003eYear=%{x}\\u003cbr\\u003eNilai GDP=%{y}\\u003cextra\\u003e\\u003c\\u002fextra\\u003e\",\"legendgroup\":\"North America\",\"line\":{\"color\":\"#FECB52\",\"dash\":\"solid\"},\"marker\":{\"symbol\":\"circle\"},\"mode\":\"markers+lines\",\"name\":\"North America\",\"showlegend\":true,\"x\":[2000,2001,2002,2003,2004,2005,2006,2007,2008,2009,2010,2011,2012,2013,2014,2015,2016,2017,2018,2019,2020,2021,2022,2023],\"xaxis\":\"x\",\"y\":[4.161970417,1.030222543,1.801247401,2.71703866,3.787375448,3.46128323,2.774314639,2.008083046,0.181624378,-2.604607645,2.723959171,1.686211317,2.243378598,2.133496888,2.549447137,2.761104558,1.757413592,2.502844962,2.947893142,2.422733377,-2.434355246,5.761285546,2.078673679,2.429616697],\"yaxis\":\"y\",\"type\":\"scattergl\"},{\"hovertemplate\":\"Country Name=Namibia\\u003cbr\\u003eYear=%{x}\\u003cbr\\u003eNilai GDP=%{y}\\u003cextra\\u003e\\u003c\\u002fextra\\u003e\",\"legendgroup\":\"Namibia\",\"line\":{\"color\":\"#636efa\",\"dash\":\"solid\"},\"marker\":{\"symbol\":\"circle\"},\"mode\":\"markers+lines\",\"name\":\"Namibia\",\"showlegend\":true,\"x\":[2000,2001,2002,2003,2004,2005,2006,2007,2008,2009,2010,2011,2012,2013,2014,2015,2016,2017,2018,2019,2020,2021,2022,2023],\"xaxis\":\"x\",\"y\":[3.492183364,1.177948695,4.788661219,4.239794296,12.2695481,2.529262658,7.073175318,5.374044152,2.649812038,0.295970914,6.03924948,5.091338139,5.06168207,5.614719623,6.09251916,4.264174538,0.03379445,-1.027250827,1.059943471,-0.839154686,-8.101400746,3.603829192,5.349664086,4.159985738],\"yaxis\":\"y\",\"type\":\"scattergl\"},{\"hovertemplate\":\"Country Name=New Caledonia\\u003cbr\\u003eYear=%{x}\\u003cbr\\u003eNilai GDP=%{y}\\u003cextra\\u003e\\u003c\\u002fextra\\u003e\",\"legendgroup\":\"New Caledonia\",\"line\":{\"color\":\"#EF553B\",\"dash\":\"solid\"},\"marker\":{\"symbol\":\"circle\"},\"mode\":\"markers+lines\",\"name\":\"New Caledonia\",\"showlegend\":true,\"x\":[2000,2001,2002,2003,2004,2005,2006,2007,2008,2009,2010,2011,2012,2013,2014,2015,2016,2017,2018,2019,2020,2021,2022,2023],\"xaxis\":\"x\",\"y\":[2.100108827,0.0,0.0,0.0,0.0,0.0,0.0,0.0,0.0,0.0,0.0,0.0,0.0,0.0,0.0,0.0,0.0,0.0,3.995707282,-1.400000002,-2.400000001,-2.099999998,3.499999996,0.0],\"yaxis\":\"y\",\"type\":\"scattergl\"},{\"hovertemplate\":\"Country Name=Niger\\u003cbr\\u003eYear=%{x}\\u003cbr\\u003eNilai GDP=%{y}\\u003cextra\\u003e\\u003c\\u002fextra\\u003e\",\"legendgroup\":\"Niger\",\"line\":{\"color\":\"#00cc96\",\"dash\":\"solid\"},\"marker\":{\"symbol\":\"circle\"},\"mode\":\"markers+lines\",\"name\":\"Niger\",\"showlegend\":true,\"x\":[2000,2001,2002,2003,2004,2005,2006,2007,2008,2009,2010,2011,2012,2013,2014,2015,2016,2017,2018,2019,2020,2021,2022,2023],\"xaxis\":\"x\",\"y\":[-1.208477741,7.268134902,4.918470576,2.170610384,0.363801579,7.331868843,5.931049974,3.142724084,7.731414228,1.962600907,8.578166743,2.357756936,10.54894458,5.315130634,6.642136655,4.392648832,5.740893151,5.005360786,7.211418028,5.939852571,3.550641094,1.383596362,11.9,2.5],\"yaxis\":\"y\",\"type\":\"scattergl\"},{\"hovertemplate\":\"Country Name=Nigeria\\u003cbr\\u003eYear=%{x}\\u003cbr\\u003eNilai GDP=%{y}\\u003cextra\\u003e\\u003c\\u002fextra\\u003e\",\"legendgroup\":\"Nigeria\",\"line\":{\"color\":\"#ab63fa\",\"dash\":\"solid\"},\"marker\":{\"symbol\":\"circle\"},\"mode\":\"markers+lines\",\"name\":\"Nigeria\",\"showlegend\":true,\"x\":[2000,2001,2002,2003,2004,2005,2006,2007,2008,2009,2010,2011,2012,2013,2014,2015,2016,2017,2018,2019,2020,2021,2022,2023],\"xaxis\":\"x\",\"y\":[5.015934759,5.917684649,15.32915574,7.347194968,9.250558229,6.438516525,6.059428032,6.591130361,6.764472778,8.036925101,8.005655916,5.307924203,4.230061175,6.671335393,6.309718655,2.652693295,-1.616868949,0.805886619,1.922757342,2.208429277,-1.794253083,3.647186541,3.251681408,2.860214991],\"yaxis\":\"y\",\"type\":\"scattergl\"},{\"hovertemplate\":\"Country Name=Nicaragua\\u003cbr\\u003eYear=%{x}\\u003cbr\\u003eNilai GDP=%{y}\\u003cextra\\u003e\\u003c\\u002fextra\\u003e\",\"legendgroup\":\"Nicaragua\",\"line\":{\"color\":\"#FFA15A\",\"dash\":\"solid\"},\"marker\":{\"symbol\":\"circle\"},\"mode\":\"markers+lines\",\"name\":\"Nicaragua\",\"showlegend\":true,\"x\":[2000,2001,2002,2003,2004,2005,2006,2007,2008,2009,2010,2011,2012,2013,2014,2015,2016,2017,2018,2019,2020,2021,2022,2023],\"xaxis\":\"x\",\"y\":[4.101590251,2.960843491,0.753938876,2.520732896,5.31217057,4.282398338,4.153199588,5.075817499,3.434772163,-3.291292128,4.409645499,6.317476383,6.495979229,4.926115047,4.785847059,4.792702232,4.562927609,4.631383681,-3.363705717,-2.896488078,-1.755380361,10.31544841,3.752284757,4.569732333],\"yaxis\":\"y\",\"type\":\"scattergl\"},{\"hovertemplate\":\"Country Name=Netherlands\\u003cbr\\u003eYear=%{x}\\u003cbr\\u003eNilai GDP=%{y}\\u003cextra\\u003e\\u003c\\u002fextra\\u003e\",\"legendgroup\":\"Netherlands\",\"line\":{\"color\":\"#19d3f3\",\"dash\":\"solid\"},\"marker\":{\"symbol\":\"circle\"},\"mode\":\"markers+lines\",\"name\":\"Netherlands\",\"showlegend\":true,\"x\":[2000,2001,2002,2003,2004,2005,2006,2007,2008,2009,2010,2011,2012,2013,2014,2015,2016,2017,2018,2019,2020,2021,2022,2023],\"xaxis\":\"x\",\"y\":[4.195642498,2.326955087,0.217273595,0.155645898,1.984945714,2.050876108,3.460988954,3.772842521,2.170324851,-3.666883937,1.342739336,1.551189312,-1.030353991,-0.130175288,1.423395395,1.959169721,2.191713719,2.910902513,2.360915095,1.955588416,-3.886083918,6.191857104,4.328918318,0.116008635],\"yaxis\":\"y\",\"type\":\"scattergl\"},{\"hovertemplate\":\"Country Name=Norway\\u003cbr\\u003eYear=%{x}\\u003cbr\\u003eNilai GDP=%{y}\\u003cextra\\u003e\\u003c\\u002fextra\\u003e\",\"legendgroup\":\"Norway\",\"line\":{\"color\":\"#FF6692\",\"dash\":\"solid\"},\"marker\":{\"symbol\":\"circle\"},\"mode\":\"markers+lines\",\"name\":\"Norway\",\"showlegend\":true,\"x\":[2000,2001,2002,2003,2004,2005,2006,2007,2008,2009,2010,2011,2012,2013,2014,2015,2016,2017,2018,2019,2020,2021,2022,2023],\"xaxis\":\"x\",\"y\":[3.318945671,2.067130461,1.377557001,0.944909391,4.014588017,2.685122891,2.461473134,2.914039986,0.481919541,-1.940364695,0.787051845,1.105656027,2.717959267,1.016190824,2.048131999,1.857339726,1.164724235,2.463746285,0.828900664,1.123777874,-1.278171785,3.908686777,3.005635161,0.514118227],\"yaxis\":\"y\",\"type\":\"scattergl\"},{\"hovertemplate\":\"Country Name=Nepal\\u003cbr\\u003eYear=%{x}\\u003cbr\\u003eNilai GDP=%{y}\\u003cextra\\u003e\\u003c\\u002fextra\\u003e\",\"legendgroup\":\"Nepal\",\"line\":{\"color\":\"#B6E880\",\"dash\":\"solid\"},\"marker\":{\"symbol\":\"circle\"},\"mode\":\"markers+lines\",\"name\":\"Nepal\",\"showlegend\":true,\"x\":[2000,2001,2002,2003,2004,2005,2006,2007,2008,2009,2010,2011,2012,2013,2014,2015,2016,2017,2018,2019,2020,2021,2022,2023],\"xaxis\":\"x\",\"y\":[6.199999982,4.799892143,0.120143177,3.945037761,4.682603252,3.479181048,3.364614781,3.41156028,6.104639144,4.533078725,4.816414647,3.421808701,4.670141924,3.525153171,6.011482843,3.976053272,0.433113719,8.977279356,7.622376104,6.657055431,-2.369620629,4.838149614,5.631314559,1.952544633],\"yaxis\":\"y\",\"type\":\"scattergl\"},{\"hovertemplate\":\"Country Name=Nauru\\u003cbr\\u003eYear=%{x}\\u003cbr\\u003eNilai GDP=%{y}\\u003cextra\\u003e\\u003c\\u002fextra\\u003e\",\"legendgroup\":\"Nauru\",\"line\":{\"color\":\"#FF97FF\",\"dash\":\"solid\"},\"marker\":{\"symbol\":\"circle\"},\"mode\":\"markers+lines\",\"name\":\"Nauru\",\"showlegend\":true,\"x\":[2000,2001,2002,2003,2004,2005,2006,2007,2008,2009,2010,2011,2012,2013,2014,2015,2016,2017,2018,2019,2020,2021,2022,2023],\"xaxis\":\"x\",\"y\":[-6.856192949,-6.761018954,-9.971356024,0.284674074,-4.314837954,-7.843137255,-8.510638298,-4.651162791,75.6097561,-5.555555556,0.0,14.70588235,24.35897436,4.12371134,15.84158416,3.418803419,4.132231405,-6.349206349,-0.847457627,8.547008547,1.57480315,7.751937984,2.158273381,0.704225352],\"yaxis\":\"y\",\"type\":\"scattergl\"},{\"hovertemplate\":\"Country Name=New Zealand\\u003cbr\\u003eYear=%{x}\\u003cbr\\u003eNilai GDP=%{y}\\u003cextra\\u003e\\u003c\\u002fextra\\u003e\",\"legendgroup\":\"New Zealand\",\"line\":{\"color\":\"#FECB52\",\"dash\":\"solid\"},\"marker\":{\"symbol\":\"circle\"},\"mode\":\"markers+lines\",\"name\":\"New Zealand\",\"showlegend\":true,\"x\":[2000,2001,2002,2003,2004,2005,2006,2007,2008,2009,2010,2011,2012,2013,2014,2015,2016,2017,2018,2019,2020,2021,2022,2023],\"xaxis\":\"x\",\"y\":[2.870590222,3.41147077,4.713843165,4.728967744,4.088259649,3.353241444,2.77957135,3.049910512,-1.239535111,-0.051952422,1.444621284,2.241342215,2.289462967,2.76017959,3.754319415,3.734035773,3.748311452,3.397282504,3.49949703,2.361962178,-0.424906458,4.546247639,2.774842648,0.632242362],\"yaxis\":\"y\",\"type\":\"scattergl\"},{\"hovertemplate\":\"Country Name=OECD members\\u003cbr\\u003eYear=%{x}\\u003cbr\\u003eNilai GDP=%{y}\\u003cextra\\u003e\\u003c\\u002fextra\\u003e\",\"legendgroup\":\"OECD members\",\"line\":{\"color\":\"#636efa\",\"dash\":\"solid\"},\"marker\":{\"symbol\":\"circle\"},\"mode\":\"markers+lines\",\"name\":\"OECD members\",\"showlegend\":true,\"x\":[2000,2001,2002,2003,2004,2005,2006,2007,2008,2009,2010,2011,2012,2013,2014,2015,2016,2017,2018,2019,2020,2021,2022,2023],\"xaxis\":\"x\",\"y\":[4.092962915,1.416353783,1.539846773,2.033096344,3.2654786,2.819912154,3.026334449,2.595228038,0.385099492,-3.39724935,2.968987796,1.878734009,1.393115911,1.60907978,2.17654278,2.502074362,1.851356326,2.586105473,2.34382864,1.799437322,-3.953348559,5.714652061,2.778351222,1.666535386],\"yaxis\":\"y\",\"type\":\"scattergl\"},{\"hovertemplate\":\"Country Name=Oman\\u003cbr\\u003eYear=%{x}\\u003cbr\\u003eNilai GDP=%{y}\\u003cextra\\u003e\\u003c\\u002fextra\\u003e\",\"legendgroup\":\"Oman\",\"line\":{\"color\":\"#EF553B\",\"dash\":\"solid\"},\"marker\":{\"symbol\":\"circle\"},\"mode\":\"markers+lines\",\"name\":\"Oman\",\"showlegend\":true,\"x\":[2000,2001,2002,2003,2004,2005,2006,2007,2008,2009,2010,2011,2012,2013,2014,2015,2016,2017,2018,2019,2020,2021,2022,2023],\"xaxis\":\"x\",\"y\":[6.551066885,4.482802531,-1.100905293,-2.668591109,1.292205681,2.490221143,5.371888874,4.452683565,8.200078158,6.112395608,1.713985311,2.894609735,8.863122256,5.227704081,1.292252294,5.017057997,5.046423946,0.304057566,1.287103915,-1.128711062,-3.3797144,3.092276687,4.311253509,1.3],\"yaxis\":\"y\",\"type\":\"scattergl\"},{\"hovertemplate\":\"Country Name=Other small states\\u003cbr\\u003eYear=%{x}\\u003cbr\\u003eNilai GDP=%{y}\\u003cextra\\u003e\\u003c\\u002fextra\\u003e\",\"legendgroup\":\"Other small states\",\"line\":{\"color\":\"#00cc96\",\"dash\":\"solid\"},\"marker\":{\"symbol\":\"circle\"},\"mode\":\"markers+lines\",\"name\":\"Other small states\",\"showlegend\":true,\"x\":[2000,2001,2002,2003,2004,2005,2006,2007,2008,2009,2010,2011,2012,2013,2014,2015,2016,2017,2018,2019,2020,2021,2022,2023],\"xaxis\":\"x\",\"y\":[7.02144576,3.217429894,3.424661709,4.518219281,4.938027117,4.941936292,6.397269905,6.350439932,2.057642551,-3.598882627,2.713397555,3.003572038,1.631520528,1.701478079,2.4151862,3.364947877,3.891208425,4.763308195,3.970882187,4.064198821,-5.717291903,6.58600635,4.540168378,2.479947458],\"yaxis\":\"y\",\"type\":\"scattergl\"},{\"hovertemplate\":\"Country Name=Pakistan\\u003cbr\\u003eYear=%{x}\\u003cbr\\u003eNilai GDP=%{y}\\u003cextra\\u003e\\u003c\\u002fextra\\u003e\",\"legendgroup\":\"Pakistan\",\"line\":{\"color\":\"#ab63fa\",\"dash\":\"solid\"},\"marker\":{\"symbol\":\"circle\"},\"mode\":\"markers+lines\",\"name\":\"Pakistan\",\"showlegend\":true,\"x\":[2000,2001,2002,2003,2004,2005,2006,2007,2008,2009,2010,2011,2012,2013,2014,2015,2016,2017,2018,2019,2020,2021,2022,2023],\"xaxis\":\"x\",\"y\":[4.260088011,3.651350171,2.594816684,5.401310873,7.83125557,7.276574436,6.051637676,4.44481434,2.120441043,3.472550596,1.501717522,2.680116854,3.027583911,4.36686505,4.116428172,4.217942096,6.573838285,4.432625907,6.151702611,2.497636929,-1.274087443,6.513885759,4.767539531,-0.004855269],\"yaxis\":\"y\",\"type\":\"scattergl\"},{\"hovertemplate\":\"Country Name=Panama\\u003cbr\\u003eYear=%{x}\\u003cbr\\u003eNilai GDP=%{y}\\u003cextra\\u003e\\u003c\\u002fextra\\u003e\",\"legendgroup\":\"Panama\",\"line\":{\"color\":\"#FFA15A\",\"dash\":\"solid\"},\"marker\":{\"symbol\":\"circle\"},\"mode\":\"markers+lines\",\"name\":\"Panama\",\"showlegend\":true,\"x\":[2000,2001,2002,2003,2004,2005,2006,2007,2008,2009,2010,2011,2012,2013,2014,2015,2016,2017,2018,2019,2020,2021,2022,2023],\"xaxis\":\"x\",\"y\":[2.715373802,0.574273151,2.229149323,4.205495906,7.52207972,7.191279345,8.652465686,11.98398511,9.855655108,1.242992127,5.827993448,11.31362597,9.778490111,6.903948109,5.066422339,5.733054309,4.953211471,5.591148874,3.685429816,3.281874977,-17.66833272,15.83576505,10.80936612,7.316777417],\"yaxis\":\"y\",\"type\":\"scattergl\"},{\"hovertemplate\":\"Country Name=Peru\\u003cbr\\u003eYear=%{x}\\u003cbr\\u003eNilai GDP=%{y}\\u003cextra\\u003e\\u003c\\u002fextra\\u003e\",\"legendgroup\":\"Peru\",\"line\":{\"color\":\"#19d3f3\",\"dash\":\"solid\"},\"marker\":{\"symbol\":\"circle\"},\"mode\":\"markers+lines\",\"name\":\"Peru\",\"showlegend\":true,\"x\":[2000,2001,2002,2003,2004,2005,2006,2007,2008,2009,2010,2011,2012,2013,2014,2015,2016,2017,2018,2019,2020,2021,2022,2023],\"xaxis\":\"x\",\"y\":[2.694371398,0.617892326,5.453528938,4.165023137,4.958203206,6.285060325,7.528899044,8.518387769,9.126568301,1.095823659,8.332459107,6.327192402,6.139724706,5.852518211,2.382157372,3.252244772,3.953318715,2.518835442,3.969351341,2.240631769,-10.9333065,13.35522951,2.725500216,-0.550182306],\"yaxis\":\"y\",\"type\":\"scattergl\"},{\"hovertemplate\":\"Country Name=Philippines\\u003cbr\\u003eYear=%{x}\\u003cbr\\u003eNilai GDP=%{y}\\u003cextra\\u003e\\u003c\\u002fextra\\u003e\",\"legendgroup\":\"Philippines\",\"line\":{\"color\":\"#FF6692\",\"dash\":\"solid\"},\"marker\":{\"symbol\":\"circle\"},\"mode\":\"markers+lines\",\"name\":\"Philippines\",\"showlegend\":true,\"x\":[2000,2001,2002,2003,2004,2005,2006,2007,2008,2009,2010,2011,2012,2013,2014,2015,2016,2017,2018,2019,2020,2021,2022,2023],\"xaxis\":\"x\",\"y\":[4.382504833,3.04923151,3.716255002,5.086911135,6.569228512,4.942505119,5.316416821,6.51929155,4.344487305,1.448323063,7.334499965,3.858232824,6.896951708,6.750531304,6.34798748,6.348309715,7.149456753,6.930988325,6.341485571,6.118525661,-9.518294741,5.714733134,7.580982128,5.545851171],\"yaxis\":\"y\",\"type\":\"scattergl\"},{\"hovertemplate\":\"Country Name=Palau\\u003cbr\\u003eYear=%{x}\\u003cbr\\u003eNilai GDP=%{y}\\u003cextra\\u003e\\u003c\\u002fextra\\u003e\",\"legendgroup\":\"Palau\",\"line\":{\"color\":\"#B6E880\",\"dash\":\"solid\"},\"marker\":{\"symbol\":\"circle\"},\"mode\":\"markers+lines\",\"name\":\"Palau\",\"showlegend\":true,\"x\":[2000,2001,2002,2003,2004,2005,2006,2007,2008,2009,2010,2011,2012,2013,2014,2015,2016,2017,2018,2019,2020,2021,2022,2023],\"xaxis\":\"x\",\"y\":[-2.603902096,6.500390691,5.016198993,-3.223334338,3.93905372,3.413989542,-0.123723055,1.754003295,-5.493936003,-7.260612217,-0.895890472,5.118279317,1.253453687,-3.036298044,5.29445514,9.748413434,0.882451194,-3.539609662,0.633500457,0.909470287,-7.568021229,-14.16405111,-0.362288565,0.448430493],\"yaxis\":\"y\",\"type\":\"scattergl\"},{\"hovertemplate\":\"Country Name=Papua New Guinea\\u003cbr\\u003eYear=%{x}\\u003cbr\\u003eNilai GDP=%{y}\\u003cextra\\u003e\\u003c\\u002fextra\\u003e\",\"legendgroup\":\"Papua New Guinea\",\"line\":{\"color\":\"#FF97FF\",\"dash\":\"solid\"},\"marker\":{\"symbol\":\"circle\"},\"mode\":\"markers+lines\",\"name\":\"Papua New Guinea\",\"showlegend\":true,\"x\":[2000,2001,2002,2003,2004,2005,2006,2007,2008,2009,2010,2011,2012,2013,2014,2015,2016,2017,2018,2019,2020,2021,2022,2023],\"xaxis\":\"x\",\"y\":[-2.494841993,-0.121288606,-0.158900533,2.164102502,2.721175741,6.344795923,5.409944091,7.815189229,-0.296457846,6.800421483,10.12845407,1.107543626,4.657119597,3.824946328,13.54377062,6.578356323,5.489573153,3.534610818,-0.279252285,4.480430622,-3.167381176,-0.780328729,5.165051326,2.681010484],\"yaxis\":\"y\",\"type\":\"scattergl\"},{\"hovertemplate\":\"Country Name=Poland\\u003cbr\\u003eYear=%{x}\\u003cbr\\u003eNilai GDP=%{y}\\u003cextra\\u003e\\u003c\\u002fextra\\u003e\",\"legendgroup\":\"Poland\",\"line\":{\"color\":\"#FECB52\",\"dash\":\"solid\"},\"marker\":{\"symbol\":\"circle\"},\"mode\":\"markers+lines\",\"name\":\"Poland\",\"showlegend\":true,\"x\":[2000,2001,2002,2003,2004,2005,2006,2007,2008,2009,2010,2011,2012,2013,2014,2015,2016,2017,2018,2019,2020,2021,2022,2023],\"xaxis\":\"x\",\"y\":[4.56098541,1.258569461,2.035863041,3.498391213,4.98284457,3.506834614,6.131136459,7.061534634,4.199981264,2.832184053,2.934638181,5.042187883,1.545221571,0.856557081,3.836958494,4.383298635,2.953508842,5.140017574,5.945208477,4.449987879,-2.020070734,6.934980384,5.637566766,0.160586011],\"yaxis\":\"y\",\"type\":\"scattergl\"},{\"hovertemplate\":\"Country Name=Pre-demographic dividend\\u003cbr\\u003eYear=%{x}\\u003cbr\\u003eNilai GDP=%{y}\\u003cextra\\u003e\\u003c\\u002fextra\\u003e\",\"legendgroup\":\"Pre-demographic dividend\",\"line\":{\"color\":\"#636efa\",\"dash\":\"solid\"},\"marker\":{\"symbol\":\"circle\"},\"mode\":\"markers+lines\",\"name\":\"Pre-demographic dividend\",\"showlegend\":true,\"x\":[2000,2001,2002,2003,2004,2005,2006,2007,2008,2009,2010,2011,2012,2013,2014,2015,2016,2017,2018,2019,2020,2021,2022,2023],\"xaxis\":\"x\",\"y\":[5.575362055,4.331803153,5.918832103,-0.727333087,11.96765153,5.973125311,6.225164242,6.062251499,6.387021912,4.922262298,6.561944898,4.296709737,4.250503589,5.859290028,5.098897324,3.276681187,2.398325506,1.615283662,2.587363141,3.30796457,-2.561256114,3.15426,4.140597246,2.36676205],\"yaxis\":\"y\",\"type\":\"scattergl\"},{\"hovertemplate\":\"Country Name=Puerto Rico\\u003cbr\\u003eYear=%{x}\\u003cbr\\u003eNilai GDP=%{y}\\u003cextra\\u003e\\u003c\\u002fextra\\u003e\",\"legendgroup\":\"Puerto Rico\",\"line\":{\"color\":\"#EF553B\",\"dash\":\"solid\"},\"marker\":{\"symbol\":\"circle\"},\"mode\":\"markers+lines\",\"name\":\"Puerto Rico\",\"showlegend\":true,\"x\":[2000,2001,2002,2003,2004,2005,2006,2007,2008,2009,2010,2011,2012,2013,2014,2015,2016,2017,2018,2019,2020,2021,2022,2023],\"xaxis\":\"x\",\"y\":[3.271964529,6.313471555,0.916459384,0.053419805,8.748676927,-1.986938733,-1.409414024,-1.16280669,-1.84413425,-1.952425142,-0.413254118,-0.358510628,0.02927511,-0.306826657,-1.190363454,-1.049290032,-1.263694348,-2.885218384,-4.361427032,1.675463795,-4.180874309,0.38522272,3.568110247,0.563519427],\"yaxis\":\"y\",\"type\":\"scattergl\"},{\"hovertemplate\":\"Country Name=Korea, Dem. People's Rep.\\u003cbr\\u003eYear=%{x}\\u003cbr\\u003eNilai GDP=%{y}\\u003cextra\\u003e\\u003c\\u002fextra\\u003e\",\"legendgroup\":\"Korea, Dem. People's Rep.\",\"line\":{\"color\":\"#00cc96\",\"dash\":\"solid\"},\"marker\":{\"symbol\":\"circle\"},\"mode\":\"markers+lines\",\"name\":\"Korea, Dem. People's Rep.\",\"showlegend\":true,\"x\":[2000,2001,2002,2003,2004,2005,2006,2007,2008,2009,2010,2011,2012,2013,2014,2015,2016,2017,2018,2019,2020,2021,2022,2023],\"xaxis\":\"x\",\"y\":[0.0,0.0,0.0,0.0,0.0,0.0,0.0,0.0,0.0,0.0,0.0,0.0,0.0,0.0,0.0,0.0,0.0,0.0,0.0,0.0,0.0,0.0,0.0,0.0],\"yaxis\":\"y\",\"type\":\"scattergl\"},{\"hovertemplate\":\"Country Name=Portugal\\u003cbr\\u003eYear=%{x}\\u003cbr\\u003eNilai GDP=%{y}\\u003cextra\\u003e\\u003c\\u002fextra\\u003e\",\"legendgroup\":\"Portugal\",\"line\":{\"color\":\"#ab63fa\",\"dash\":\"solid\"},\"marker\":{\"symbol\":\"circle\"},\"mode\":\"markers+lines\",\"name\":\"Portugal\",\"showlegend\":true,\"x\":[2000,2001,2002,2003,2004,2005,2006,2007,2008,2009,2010,2011,2012,2013,2014,2015,2016,2017,2018,2019,2020,2021,2022,2023],\"xaxis\":\"x\",\"y\":[3.816178063,1.943672296,0.770924024,-0.930521193,1.788735682,0.781848216,1.625034176,2.506579646,0.319247925,-3.12207942,1.737625476,-1.696164781,-4.057293608,-0.922644675,0.792190302,1.792046046,2.019485396,3.506345285,2.849325934,2.682759921,-8.300516541,5.737437219,6.827510876,2.261254781],\"yaxis\":\"y\",\"type\":\"scattergl\"},{\"hovertemplate\":\"Country Name=Paraguay\\u003cbr\\u003eYear=%{x}\\u003cbr\\u003eNilai GDP=%{y}\\u003cextra\\u003e\\u003c\\u002fextra\\u003e\",\"legendgroup\":\"Paraguay\",\"line\":{\"color\":\"#FFA15A\",\"dash\":\"solid\"},\"marker\":{\"symbol\":\"circle\"},\"mode\":\"markers+lines\",\"name\":\"Paraguay\",\"showlegend\":true,\"x\":[2000,2001,2002,2003,2004,2005,2006,2007,2008,2009,2010,2011,2012,2013,2014,2015,2016,2017,2018,2019,2020,2021,2022,2023],\"xaxis\":\"x\",\"y\":[-2.314140568,-0.834054717,-0.021404395,4.320745486,4.057418364,2.133490665,4.807117193,5.421622872,6.49629212,-0.261137328,11.09523127,4.286371207,-0.708043112,8.293076489,5.301238592,2.957151735,4.268025833,4.810078856,3.204250341,-0.401855101,-0.819785391,4.016737318,0.176038366,4.714124079],\"yaxis\":\"y\",\"type\":\"scattergl\"},{\"hovertemplate\":\"Country Name=West Bank and Gaza\\u003cbr\\u003eYear=%{x}\\u003cbr\\u003eNilai GDP=%{y}\\u003cextra\\u003e\\u003c\\u002fextra\\u003e\",\"legendgroup\":\"West Bank and Gaza\",\"line\":{\"color\":\"#19d3f3\",\"dash\":\"solid\"},\"marker\":{\"symbol\":\"circle\"},\"mode\":\"markers+lines\",\"name\":\"West Bank and Gaza\",\"showlegend\":true,\"x\":[2000,2001,2002,2003,2004,2005,2006,2007,2008,2009,2010,2011,2012,2013,2014,2015,2016,2017,2018,2019,2020,2021,2022,2023],\"xaxis\":\"x\",\"y\":[-8.556183291,-9.310638168,-12.48919176,14.01586549,21.92523949,11.29065118,-0.996556103,3.788281521,7.429182255,8.593490879,5.777362056,9.600808489,6.096456563,4.698569866,-0.157866651,3.721299671,8.86461882,1.419367563,1.227077378,1.362687466,-11.31846611,7.011982276,4.082760273,-5.508794372],\"yaxis\":\"y\",\"type\":\"scattergl\"},{\"hovertemplate\":\"Country Name=Pacific island small states\\u003cbr\\u003eYear=%{x}\\u003cbr\\u003eNilai GDP=%{y}\\u003cextra\\u003e\\u003c\\u002fextra\\u003e\",\"legendgroup\":\"Pacific island small states\",\"line\":{\"color\":\"#FF6692\",\"dash\":\"solid\"},\"marker\":{\"symbol\":\"circle\"},\"mode\":\"markers+lines\",\"name\":\"Pacific island small states\",\"showlegend\":true,\"x\":[2000,2001,2002,2003,2004,2005,2006,2007,2008,2009,2010,2011,2012,2013,2014,2015,2016,2017,2018,2019,2020,2021,2022,2023],\"xaxis\":\"x\",\"y\":[-1.688679901,1.024188154,2.065591466,1.986225666,3.991092401,2.439815701,2.375748209,0.420858616,2.131216768,-0.592074857,3.730325639,3.862083438,1.006008536,3.214677163,3.6242973,3.779157081,3.780607336,4.005501791,2.763180129,1.214500228,-10.25306854,-2.867965543,9.308397154,5.75845168],\"yaxis\":\"y\",\"type\":\"scattergl\"},{\"hovertemplate\":\"Country Name=Post-demographic dividend\\u003cbr\\u003eYear=%{x}\\u003cbr\\u003eNilai GDP=%{y}\\u003cextra\\u003e\\u003c\\u002fextra\\u003e\",\"legendgroup\":\"Post-demographic dividend\",\"line\":{\"color\":\"#B6E880\",\"dash\":\"solid\"},\"marker\":{\"symbol\":\"circle\"},\"mode\":\"markers+lines\",\"name\":\"Post-demographic dividend\",\"showlegend\":true,\"x\":[2000,2001,2002,2003,2004,2005,2006,2007,2008,2009,2010,2011,2012,2013,2014,2015,2016,2017,2018,2019,2020,2021,2022,2023],\"xaxis\":\"x\",\"y\":[4.034973041,1.53298389,1.529500709,2.017778474,3.208537123,2.767186966,2.920554647,2.541808248,0.355737385,-3.391446178,2.909982314,1.666557393,1.256366907,1.509114402,2.011471875,2.224385159,1.797926537,2.465086502,2.250565755,1.768605509,-4.123748814,5.446238205,2.413232956,1.689320846],\"yaxis\":\"y\",\"type\":\"scattergl\"},{\"hovertemplate\":\"Country Name=French Polynesia\\u003cbr\\u003eYear=%{x}\\u003cbr\\u003eNilai GDP=%{y}\\u003cextra\\u003e\\u003c\\u002fextra\\u003e\",\"legendgroup\":\"French Polynesia\",\"line\":{\"color\":\"#FF97FF\",\"dash\":\"solid\"},\"marker\":{\"symbol\":\"circle\"},\"mode\":\"markers+lines\",\"name\":\"French Polynesia\",\"showlegend\":true,\"x\":[2000,2001,2002,2003,2004,2005,2006,2007,2008,2009,2010,2011,2012,2013,2014,2015,2016,2017,2018,2019,2020,2021,2022,2023],\"xaxis\":\"x\",\"y\":[3.245411013,-0.341595578,0.846181483,2.126928849,0.97125913,0.309973476,0.889584118,1.704975638,0.006767551,-4.231391831,-2.46606419,-2.961957454,-0.927537713,0.398801414,0.593554453,1.66510563,2.369644447,4.374502383,1.832028228,2.699934499,-7.050990654,2.094788968,4.46607459,0.0],\"yaxis\":\"y\",\"type\":\"scattergl\"},{\"hovertemplate\":\"Country Name=Qatar\\u003cbr\\u003eYear=%{x}\\u003cbr\\u003eNilai GDP=%{y}\\u003cextra\\u003e\\u003c\\u002fextra\\u003e\",\"legendgroup\":\"Qatar\",\"line\":{\"color\":\"#FECB52\",\"dash\":\"solid\"},\"marker\":{\"symbol\":\"circle\"},\"mode\":\"markers+lines\",\"name\":\"Qatar\",\"showlegend\":true,\"x\":[2000,2001,2002,2003,2004,2005,2006,2007,2008,2009,2010,2011,2012,2013,2014,2015,2016,2017,2018,2019,2020,2021,2022,2023],\"xaxis\":\"x\",\"y\":[8.028125483,3.898186662,7.18215168,3.719958677,19.21891534,7.492758483,26.17024567,17.98565682,17.66355636,11.95656113,19.59233153,13.37517641,4.730011844,5.556040643,5.334323292,4.753345724,3.064191884,-1.497604702,1.234872202,0.688240955,-3.55760399,1.626846719,4.208871248,0.0],\"yaxis\":\"y\",\"type\":\"scattergl\"},{\"hovertemplate\":\"Country Name=Romania\\u003cbr\\u003eYear=%{x}\\u003cbr\\u003eNilai GDP=%{y}\\u003cextra\\u003e\\u003c\\u002fextra\\u003e\",\"legendgroup\":\"Romania\",\"line\":{\"color\":\"#636efa\",\"dash\":\"solid\"},\"marker\":{\"symbol\":\"circle\"},\"mode\":\"markers+lines\",\"name\":\"Romania\",\"showlegend\":true,\"x\":[2000,2001,2002,2003,2004,2005,2006,2007,2008,2009,2010,2011,2012,2013,2014,2015,2016,2017,2018,2019,2020,2021,2022,2023],\"xaxis\":\"x\",\"y\":[2.461263459,5.218136257,5.70299165,2.341147329,10.42811302,4.668148051,8.028811076,7.233807744,9.307467171,-5.517394408,-3.90123628,4.517086964,1.924993262,0.269963879,4.120674963,3.16050387,2.857546057,8.196506503,6.029019041,3.853163833,-3.677510791,5.708894558,4.107027202,2.148476996],\"yaxis\":\"y\",\"type\":\"scattergl\"},{\"hovertemplate\":\"Country Name=Russian Federation\\u003cbr\\u003eYear=%{x}\\u003cbr\\u003eNilai GDP=%{y}\\u003cextra\\u003e\\u003c\\u002fextra\\u003e\",\"legendgroup\":\"Russian Federation\",\"line\":{\"color\":\"#EF553B\",\"dash\":\"solid\"},\"marker\":{\"symbol\":\"circle\"},\"mode\":\"markers+lines\",\"name\":\"Russian Federation\",\"showlegend\":true,\"x\":[2000,2001,2002,2003,2004,2005,2006,2007,2008,2009,2010,2011,2012,2013,2014,2015,2016,2017,2018,2019,2020,2021,2022,2023],\"xaxis\":\"x\",\"y\":[10.00006681,5.100051226,4.699991909,7.299952345,7.19994787,6.399965448,8.200068255,8.499977769,5.199969264,-7.799993913,4.499999999,4.300029186,4.024086157,1.755422149,0.736267222,-1.972719226,0.193690071,1.825790064,2.807245411,2.198075713,-2.653654501,5.614290376,-2.069711525,3.6],\"yaxis\":\"y\",\"type\":\"scattergl\"},{\"hovertemplate\":\"Country Name=Rwanda\\u003cbr\\u003eYear=%{x}\\u003cbr\\u003eNilai GDP=%{y}\\u003cextra\\u003e\\u003c\\u002fextra\\u003e\",\"legendgroup\":\"Rwanda\",\"line\":{\"color\":\"#00cc96\",\"dash\":\"solid\"},\"marker\":{\"symbol\":\"circle\"},\"mode\":\"markers+lines\",\"name\":\"Rwanda\",\"showlegend\":true,\"x\":[2000,2001,2002,2003,2004,2005,2006,2007,2008,2009,2010,2011,2012,2013,2014,2015,2016,2017,2018,2019,2020,2021,2022,2023],\"xaxis\":\"x\",\"y\":[8.370885132,8.484557799,13.19207199,2.202408142,7.447679568,9.377889524,9.227067826,7.633284342,11.16126387,6.248265246,7.334654787,7.958385419,8.641506707,4.719848831,6.167160273,8.856864687,5.970741188,3.91816565,8.516468306,9.44739159,-3.37369377,10.85796719,8.157734403,8.241286965],\"yaxis\":\"y\",\"type\":\"scattergl\"},{\"hovertemplate\":\"Country Name=South Asia\\u003cbr\\u003eYear=%{x}\\u003cbr\\u003eNilai GDP=%{y}\\u003cextra\\u003e\\u003c\\u002fextra\\u003e\",\"legendgroup\":\"South Asia\",\"line\":{\"color\":\"#ab63fa\",\"dash\":\"solid\"},\"marker\":{\"symbol\":\"circle\"},\"mode\":\"markers+lines\",\"name\":\"South Asia\",\"showlegend\":true,\"x\":[2000,2001,2002,2003,2004,2005,2006,2007,2008,2009,2010,2011,2012,2013,2014,2015,2016,2017,2018,2019,2020,2021,2022,2023],\"xaxis\":\"x\",\"y\":[4.112449812,4.35912767,3.721075351,7.176071101,7.548722986,7.612733442,7.618528801,7.139166126,3.298104994,6.949900159,7.365992009,5.071221948,5.381289736,6.008601615,6.847837891,7.251561624,7.776235507,6.502640993,6.334693554,3.92432284,-4.582693129,8.76382055,6.312211692,6.35285494],\"yaxis\":\"y\",\"type\":\"scattergl\"},{\"hovertemplate\":\"Country Name=Saudi Arabia\\u003cbr\\u003eYear=%{x}\\u003cbr\\u003eNilai GDP=%{y}\\u003cextra\\u003e\\u003c\\u002fextra\\u003e\",\"legendgroup\":\"Saudi Arabia\",\"line\":{\"color\":\"#FFA15A\",\"dash\":\"solid\"},\"marker\":{\"symbol\":\"circle\"},\"mode\":\"markers+lines\",\"name\":\"Saudi Arabia\",\"showlegend\":true,\"x\":[2000,2001,2002,2003,2004,2005,2006,2007,2008,2009,2010,2011,2012,2013,2014,2015,2016,2017,2018,2019,2020,2021,2022,2023],\"xaxis\":\"x\",\"y\":[5.625413167,-1.210764804,-2.819183548,11.24206806,7.95846632,5.573833722,2.788405973,1.847134992,6.249753356,-2.059263913,5.039507572,10.99376168,5.408916078,2.534778271,3.811422791,4.509059063,1.884492736,0.911048656,3.19922678,1.09773375,-3.581534863,5.07511035,7.485984291,-0.754914811],\"yaxis\":\"y\",\"type\":\"scattergl\"},{\"hovertemplate\":\"Country Name=Sudan\\u003cbr\\u003eYear=%{x}\\u003cbr\\u003eNilai GDP=%{y}\\u003cextra\\u003e\\u003c\\u002fextra\\u003e\",\"legendgroup\":\"Sudan\",\"line\":{\"color\":\"#19d3f3\",\"dash\":\"solid\"},\"marker\":{\"symbol\":\"circle\"},\"mode\":\"markers+lines\",\"name\":\"Sudan\",\"showlegend\":true,\"x\":[2000,2001,2002,2003,2004,2005,2006,2007,2008,2009,2010,2011,2012,2013,2014,2015,2016,2017,2018,2019,2020,2021,2022,2023],\"xaxis\":\"x\",\"y\":[6.34586744,6.500360534,6.006471536,6.288808161,5.140888518,5.643515513,6.531411747,5.735274237,3.846744731,-2.767704366,3.858241952,-3.213532093,-17.0046884,1.955144633,4.661379542,1.910176891,3.467642184,0.709256285,-2.68093055,-2.178251045,-3.629800824,-1.868520483,-0.957816591,-12.0467792],\"yaxis\":\"y\",\"type\":\"scattergl\"},{\"hovertemplate\":\"Country Name=Senegal\\u003cbr\\u003eYear=%{x}\\u003cbr\\u003eNilai GDP=%{y}\\u003cextra\\u003e\\u003c\\u002fextra\\u003e\",\"legendgroup\":\"Senegal\",\"line\":{\"color\":\"#FF6692\",\"dash\":\"solid\"},\"marker\":{\"symbol\":\"circle\"},\"mode\":\"markers+lines\",\"name\":\"Senegal\",\"showlegend\":true,\"x\":[2000,2001,2002,2003,2004,2005,2006,2007,2008,2009,2010,2011,2012,2013,2014,2015,2016,2017,2018,2019,2020,2021,2022,2023],\"xaxis\":\"x\",\"y\":[3.887210958,4.310851466,0.068696575,5.593950945,4.643293937,4.310238526,2.330770983,2.827119201,3.703169064,2.752104485,3.390889253,1.33409108,4.002995551,2.412385276,6.224074438,6.367043651,6.356068572,7.407486186,6.209241034,4.613628097,1.342073773,6.544001099,3.821856051,3.699996361],\"yaxis\":\"y\",\"type\":\"scattergl\"},{\"hovertemplate\":\"Country Name=Singapore\\u003cbr\\u003eYear=%{x}\\u003cbr\\u003eNilai GDP=%{y}\\u003cextra\\u003e\\u003c\\u002fextra\\u003e\",\"legendgroup\":\"Singapore\",\"line\":{\"color\":\"#B6E880\",\"dash\":\"solid\"},\"marker\":{\"symbol\":\"circle\"},\"mode\":\"markers+lines\",\"name\":\"Singapore\",\"showlegend\":true,\"x\":[2000,2001,2002,2003,2004,2005,2006,2007,2008,2009,2010,2011,2012,2013,2014,2015,2016,2017,2018,2019,2020,2021,2022,2023],\"xaxis\":\"x\",\"y\":[9.038316326,-1.070862751,3.923360767,4.548255426,9.939982684,7.366322393,9.006766079,9.021519513,1.863483455,0.127953383,14.51974971,6.214934169,4.435497594,4.817630991,3.935540277,2.976799316,3.588643696,4.512926318,3.517114185,1.345058741,-3.869798934,9.690766871,3.838076785,1.075031751],\"yaxis\":\"y\",\"type\":\"scattergl\"},{\"hovertemplate\":\"Country Name=Solomon Islands\\u003cbr\\u003eYear=%{x}\\u003cbr\\u003eNilai GDP=%{y}\\u003cextra\\u003e\\u003c\\u002fextra\\u003e\",\"legendgroup\":\"Solomon Islands\",\"line\":{\"color\":\"#FF97FF\",\"dash\":\"solid\"},\"marker\":{\"symbol\":\"circle\"},\"mode\":\"markers+lines\",\"name\":\"Solomon Islands\",\"showlegend\":true,\"x\":[2000,2001,2002,2003,2004,2005,2006,2007,2008,2009,2010,2011,2012,2013,2014,2015,2016,2017,2018,2019,2020,2021,2022,2023],\"xaxis\":\"x\",\"y\":[-14.27699959,-7.9566061,-2.799982885,6.523466851,7.683299966,7.357841934,4.138280318,3.639672429,6.225969544,2.864267902,9.708388169,7.429949617,2.466001387,5.237740178,1.189217471,1.676146156,5.554731534,3.075348034,2.745995423,1.748566555,-3.381147541,2.564349754,2.402481436,2.950085363],\"yaxis\":\"y\",\"type\":\"scattergl\"},{\"hovertemplate\":\"Country Name=Sierra Leone\\u003cbr\\u003eYear=%{x}\\u003cbr\\u003eNilai GDP=%{y}\\u003cextra\\u003e\\u003c\\u002fextra\\u003e\",\"legendgroup\":\"Sierra Leone\",\"line\":{\"color\":\"#FECB52\",\"dash\":\"solid\"},\"marker\":{\"symbol\":\"circle\"},\"mode\":\"markers+lines\",\"name\":\"Sierra Leone\",\"showlegend\":true,\"x\":[2000,2001,2002,2003,2004,2005,2006,2007,2008,2009,2010,2011,2012,2013,2014,2015,2016,2017,2018,2019,2020,2021,2022,2023],\"xaxis\":\"x\",\"y\":[6.652729659,-6.345455403,26.52413489,9.483631486,6.478846016,4.35349995,4.283110445,7.976565334,5.435893044,3.209431562,6.637492458,6.009831046,15.20174827,21.07901416,4.559253533,-20.49107411,6.346727852,3.753803214,3.47290262,5.253746313,-1.968486891,4.104700089,3.457539856,3.430821356],\"yaxis\":\"y\",\"type\":\"scattergl\"},{\"hovertemplate\":\"Country Name=El Salvador\\u003cbr\\u003eYear=%{x}\\u003cbr\\u003eNilai GDP=%{y}\\u003cextra\\u003e\\u003c\\u002fextra\\u003e\",\"legendgroup\":\"El Salvador\",\"line\":{\"color\":\"#636efa\",\"dash\":\"solid\"},\"marker\":{\"symbol\":\"circle\"},\"mode\":\"markers+lines\",\"name\":\"El Salvador\",\"showlegend\":true,\"x\":[2000,2001,2002,2003,2004,2005,2006,2007,2008,2009,2010,2011,2012,2013,2014,2015,2016,2017,2018,2019,2020,2021,2022,2023],\"xaxis\":\"x\",\"y\":[1.127906977,0.87961366,1.572918448,1.565393031,0.889404486,2.680830094,4.336998603,1.847602206,2.154402983,-2.108768376,2.154195367,3.773584998,2.887700102,2.182952325,1.729399842,2.400000089,2.539062411,2.247619081,2.412444224,2.437471591,-7.89310136,11.9047617,2.799552169,3.510977066],\"yaxis\":\"y\",\"type\":\"scattergl\"},{\"hovertemplate\":\"Country Name=San Marino\\u003cbr\\u003eYear=%{x}\\u003cbr\\u003eNilai GDP=%{y}\\u003cextra\\u003e\\u003c\\u002fextra\\u003e\",\"legendgroup\":\"San Marino\",\"line\":{\"color\":\"#EF553B\",\"dash\":\"solid\"},\"marker\":{\"symbol\":\"circle\"},\"mode\":\"markers+lines\",\"name\":\"San Marino\",\"showlegend\":true,\"x\":[2000,2001,2002,2003,2004,2005,2006,2007,2008,2009,2010,2011,2012,2013,2014,2015,2016,2017,2018,2019,2020,2021,2022,2023],\"xaxis\":\"x\",\"y\":[2.179379715,5.578342904,0.310800311,3.872966692,4.548844146,2.42510699,3.830083565,7.109322602,-0.500939261,-10.32095658,-5.473684211,-8.314773571,-7.044534413,-0.783972125,-0.7023705,2.291505561,2.344405864,0.258265467,1.493905318,2.065685145,-6.647910819,8.463071844,0.0,0.0],\"yaxis\":\"y\",\"type\":\"scattergl\"},{\"hovertemplate\":\"Country Name=Somalia\\u003cbr\\u003eYear=%{x}\\u003cbr\\u003eNilai GDP=%{y}\\u003cextra\\u003e\\u003c\\u002fextra\\u003e\",\"legendgroup\":\"Somalia\",\"line\":{\"color\":\"#00cc96\",\"dash\":\"solid\"},\"marker\":{\"symbol\":\"circle\"},\"mode\":\"markers+lines\",\"name\":\"Somalia\",\"showlegend\":true,\"x\":[2000,2001,2002,2003,2004,2005,2006,2007,2008,2009,2010,2011,2012,2013,2014,2015,2016,2017,2018,2019,2020,2021,2022,2023],\"xaxis\":\"x\",\"y\":[7.110314311,7.110314311,7.630267293,7.630267293,7.110314311,7.110314311,6.486370733,6.694351926,6.694351926,6.694351926,6.694351926,6.694351926,6.694351926,-2.708586513,7.526391611,9.946799979,6.418570605,9.507286607,2.989015632,3.630396882,-2.56308758,3.310989234,2.438065277,3.102961996],\"yaxis\":\"y\",\"type\":\"scattergl\"},{\"hovertemplate\":\"Country Name=Serbia\\u003cbr\\u003eYear=%{x}\\u003cbr\\u003eNilai GDP=%{y}\\u003cextra\\u003e\\u003c\\u002fextra\\u003e\",\"legendgroup\":\"Serbia\",\"line\":{\"color\":\"#ab63fa\",\"dash\":\"solid\"},\"marker\":{\"symbol\":\"circle\"},\"mode\":\"markers+lines\",\"name\":\"Serbia\",\"showlegend\":true,\"x\":[2000,2001,2002,2003,2004,2005,2006,2007,2008,2009,2010,2011,2012,2013,2014,2015,2016,2017,2018,2019,2020,2021,2022,2023],\"xaxis\":\"x\",\"y\":[6.13181309,6.878774765,6.380405304,4.387757023,9.028196928,5.530347121,5.107790141,6.439525554,5.655576622,-2.731751989,0.731044553,2.036276689,-0.681542369,2.892636734,-1.58951032,1.806059265,3.338586765,2.101163847,4.495121293,4.331734906,-0.903218502,7.725947777,2.54995557,2.527793336],\"yaxis\":\"y\",\"type\":\"scattergl\"},{\"hovertemplate\":\"Country Name=Sub-Saharan Africa (excluding high income)\\u003cbr\\u003eYear=%{x}\\u003cbr\\u003eNilai GDP=%{y}\\u003cextra\\u003e\\u003c\\u002fextra\\u003e\",\"legendgroup\":\"Sub-Saharan Africa (excluding high income)\",\"line\":{\"color\":\"#FFA15A\",\"dash\":\"solid\"},\"marker\":{\"symbol\":\"circle\"},\"mode\":\"markers+lines\",\"name\":\"Sub-Saharan Africa (excluding high income)\",\"showlegend\":true,\"x\":[2000,2001,2002,2003,2004,2005,2006,2007,2008,2009,2010,2011,2012,2013,2014,2015,2016,2017,2018,2019,2020,2021,2022,2023],\"xaxis\":\"x\",\"y\":[3.477204286,4.206193581,6.336901723,4.060691376,6.611081259,6.016252982,6.052835399,6.159711213,5.197011595,3.185405616,5.996798352,4.410273711,3.25837393,5.093698531,4.87142051,2.915508052,1.232693485,2.480030065,2.752797686,2.656849952,-1.956707135,4.268420913,3.650321496,2.954888115],\"yaxis\":\"y\",\"type\":\"scattergl\"},{\"hovertemplate\":\"Country Name=South Sudan\\u003cbr\\u003eYear=%{x}\\u003cbr\\u003eNilai GDP=%{y}\\u003cextra\\u003e\\u003c\\u002fextra\\u003e\",\"legendgroup\":\"South Sudan\",\"line\":{\"color\":\"#19d3f3\",\"dash\":\"solid\"},\"marker\":{\"symbol\":\"circle\"},\"mode\":\"markers+lines\",\"name\":\"South Sudan\",\"showlegend\":true,\"x\":[2000,2001,2002,2003,2004,2005,2006,2007,2008,2009,2010,2011,2012,2013,2014,2015,2016,2017,2018,2019,2020,2021,2022,2023],\"xaxis\":\"x\",\"y\":[0.0,0.0,0.0,0.0,0.0,0.0,0.0,0.0,0.0,5.04164188,5.493416395,-4.640316736,-46.08212237,13.12973114,3.373648477,-10.79336463,0.0,0.0,0.0,0.0,0.0,0.0,0.0,0.0],\"yaxis\":\"y\",\"type\":\"scattergl\"},{\"hovertemplate\":\"Country Name=Sub-Saharan Africa\\u003cbr\\u003eYear=%{x}\\u003cbr\\u003eNilai GDP=%{y}\\u003cextra\\u003e\\u003c\\u002fextra\\u003e\",\"legendgroup\":\"Sub-Saharan Africa\",\"line\":{\"color\":\"#FF6692\",\"dash\":\"solid\"},\"marker\":{\"symbol\":\"circle\"},\"mode\":\"markers+lines\",\"name\":\"Sub-Saharan Africa\",\"showlegend\":true,\"x\":[2000,2001,2002,2003,2004,2005,2006,2007,2008,2009,2010,2011,2012,2013,2014,2015,2016,2017,2018,2019,2020,2021,2022,2023],\"xaxis\":\"x\",\"y\":[3.478123727,4.198461361,6.331164751,4.050089793,6.60196092,6.018879164,6.055864144,6.16224217,5.189440688,3.180480862,5.995572687,4.414404934,3.25824844,5.090440548,4.87076022,2.920373883,1.242037176,2.484283288,2.754967058,2.65974505,-1.966894827,4.264936892,3.660562423,2.955095532],\"yaxis\":\"y\",\"type\":\"scattergl\"},{\"hovertemplate\":\"Country Name=Small states\\u003cbr\\u003eYear=%{x}\\u003cbr\\u003eNilai GDP=%{y}\\u003cextra\\u003e\\u003c\\u002fextra\\u003e\",\"legendgroup\":\"Small states\",\"line\":{\"color\":\"#B6E880\",\"dash\":\"solid\"},\"marker\":{\"symbol\":\"circle\"},\"mode\":\"markers+lines\",\"name\":\"Small states\",\"showlegend\":true,\"x\":[2000,2001,2002,2003,2004,2005,2006,2007,2008,2009,2010,2011,2012,2013,2014,2015,2016,2017,2018,2019,2020,2021,2022,2023],\"xaxis\":\"x\",\"y\":[5.823206766,2.701048213,3.092209434,3.841873884,4.463221044,4.490212815,5.825198254,5.486610444,1.771507713,-3.280055191,2.4316887,2.801374507,1.732045642,1.466652838,2.351877792,2.902177846,3.281514278,4.242858233,3.732972792,3.425488511,-6.488768199,6.786514577,7.685584097,4.530624568],\"yaxis\":\"y\",\"type\":\"scattergl\"},{\"hovertemplate\":\"Country Name=Sao Tome and Principe\\u003cbr\\u003eYear=%{x}\\u003cbr\\u003eNilai GDP=%{y}\\u003cextra\\u003e\\u003c\\u002fextra\\u003e\",\"legendgroup\":\"Sao Tome and Principe\",\"line\":{\"color\":\"#FF97FF\",\"dash\":\"solid\"},\"marker\":{\"symbol\":\"circle\"},\"mode\":\"markers+lines\",\"name\":\"Sao Tome and Principe\",\"showlegend\":true,\"x\":[2000,2001,2002,2003,2004,2005,2006,2007,2008,2009,2010,2011,2012,2013,2014,2015,2016,2017,2018,2019,2020,2021,2022,2023],\"xaxis\":\"x\",\"y\":[0.448368349,3.064484746,3.360188168,8.291519461,3.537905944,6.61462475,8.866109359,3.641471852,6.22878507,3.302414143,1.448434005,1.999449509,2.94292216,5.119700883,4.906209873,1.539692169,5.17682175,4.112968607,4.378139399,2.014319343,2.624859495,1.899298913,0.065282438,-0.474442952],\"yaxis\":\"y\",\"type\":\"scattergl\"},{\"hovertemplate\":\"Country Name=Suriname\\u003cbr\\u003eYear=%{x}\\u003cbr\\u003eNilai GDP=%{y}\\u003cextra\\u003e\\u003c\\u002fextra\\u003e\",\"legendgroup\":\"Suriname\",\"line\":{\"color\":\"#FECB52\",\"dash\":\"solid\"},\"marker\":{\"symbol\":\"circle\"},\"mode\":\"markers+lines\",\"name\":\"Suriname\",\"showlegend\":true,\"x\":[2000,2001,2002,2003,2004,2005,2006,2007,2008,2009,2010,2011,2012,2013,2014,2015,2016,2017,2018,2019,2020,2021,2022,2023],\"xaxis\":\"x\",\"y\":[2.099998868,4.200000421,2.800000689,6.299999433,8.500000185,4.500000211,5.793543585,5.111487778,4.143406812,3.013698983,5.168825152,5.849367672,2.690349747,2.933441652,0.255503032,-3.413042681,-4.911660509,1.566037825,4.948271085,1.167589772,-15.97519171,-2.435385836,2.433723709,2.075459112],\"yaxis\":\"y\",\"type\":\"scattergl\"},{\"hovertemplate\":\"Country Name=Slovak Republic\\u003cbr\\u003eYear=%{x}\\u003cbr\\u003eNilai GDP=%{y}\\u003cextra\\u003e\\u003c\\u002fextra\\u003e\",\"legendgroup\":\"Slovak Republic\",\"line\":{\"color\":\"#636efa\",\"dash\":\"solid\"},\"marker\":{\"symbol\":\"circle\"},\"mode\":\"markers+lines\",\"name\":\"Slovak Republic\",\"showlegend\":true,\"x\":[2000,2001,2002,2003,2004,2005,2006,2007,2008,2009,2010,2011,2012,2013,2014,2015,2016,2017,2018,2019,2020,2021,2022,2023],\"xaxis\":\"x\",\"y\":[1.166526518,3.253783981,4.509444138,5.499083077,5.278880718,6.623461259,8.493176745,10.83202881,5.574886345,-5.455532867,6.71663275,2.671452779,1.318802246,0.632740007,2.697189807,5.167181606,1.943950861,2.938068678,4.030389714,2.511256198,-3.32972321,4.771221425,1.870036199,1.596454971],\"yaxis\":\"y\",\"type\":\"scattergl\"},{\"hovertemplate\":\"Country Name=Slovenia\\u003cbr\\u003eYear=%{x}\\u003cbr\\u003eNilai GDP=%{y}\\u003cextra\\u003e\\u003c\\u002fextra\\u003e\",\"legendgroup\":\"Slovenia\",\"line\":{\"color\":\"#EF553B\",\"dash\":\"solid\"},\"marker\":{\"symbol\":\"circle\"},\"mode\":\"markers+lines\",\"name\":\"Slovenia\",\"showlegend\":true,\"x\":[2000,2001,2002,2003,2004,2005,2006,2007,2008,2009,2010,2011,2012,2013,2014,2015,2016,2017,2018,2019,2020,2021,2022,2023],\"xaxis\":\"x\",\"y\":[3.67237155,3.216560335,3.505598057,2.960260286,4.359192778,3.797972642,5.746396901,6.980160755,3.509841517,-7.548437791,1.343748472,0.861327733,-2.639438757,-1.029282772,2.768158831,2.210081607,3.191852518,4.815380632,4.454365747,3.52267924,-4.240883722,8.228499886,2.460783314,1.586899383],\"yaxis\":\"y\",\"type\":\"scattergl\"},{\"hovertemplate\":\"Country Name=Sweden\\u003cbr\\u003eYear=%{x}\\u003cbr\\u003eNilai GDP=%{y}\\u003cextra\\u003e\\u003c\\u002fextra\\u003e\",\"legendgroup\":\"Sweden\",\"line\":{\"color\":\"#00cc96\",\"dash\":\"solid\"},\"marker\":{\"symbol\":\"circle\"},\"mode\":\"markers+lines\",\"name\":\"Sweden\",\"showlegend\":true,\"x\":[2000,2001,2002,2003,2004,2005,2006,2007,2008,2009,2010,2011,2012,2013,2014,2015,2016,2017,2018,2019,2020,2021,2022,2023],\"xaxis\":\"x\",\"y\":[4.766348871,1.449498618,2.196921062,2.30981059,4.336856154,2.85880324,4.662773552,3.439221776,-0.450559257,-4.339790575,5.952107008,3.195333235,-0.588304569,1.187775716,2.657798275,4.489281588,2.070593151,2.567924525,1.950022846,1.986195874,-2.170213179,6.147024647,2.66319954,-0.196170995],\"yaxis\":\"y\",\"type\":\"scattergl\"},{\"hovertemplate\":\"Country Name=Eswatini\\u003cbr\\u003eYear=%{x}\\u003cbr\\u003eNilai GDP=%{y}\\u003cextra\\u003e\\u003c\\u002fextra\\u003e\",\"legendgroup\":\"Eswatini\",\"line\":{\"color\":\"#ab63fa\",\"dash\":\"solid\"},\"marker\":{\"symbol\":\"circle\"},\"mode\":\"markers+lines\",\"name\":\"Eswatini\",\"showlegend\":true,\"x\":[2000,2001,2002,2003,2004,2005,2006,2007,2008,2009,2010,2011,2012,2013,2014,2015,2016,2017,2018,2019,2020,2021,2022,2023],\"xaxis\":\"x\",\"y\":[1.76017376,1.054764906,4.380099088,3.880213586,3.623914226,5.99877655,5.992166838,4.435375577,0.821663914,1.565048852,3.793754968,2.247229761,5.396630697,3.861213798,0.923230547,2.227480675,1.062610193,2.026578156,2.380095495,2.692168273,-1.55964259,10.68369388,0.47576934,4.842320853],\"yaxis\":\"y\",\"type\":\"scattergl\"},{\"hovertemplate\":\"Country Name=Sint Maarten (Dutch part)\\u003cbr\\u003eYear=%{x}\\u003cbr\\u003eNilai GDP=%{y}\\u003cextra\\u003e\\u003c\\u002fextra\\u003e\",\"legendgroup\":\"Sint Maarten (Dutch part)\",\"line\":{\"color\":\"#FFA15A\",\"dash\":\"solid\"},\"marker\":{\"symbol\":\"circle\"},\"mode\":\"markers+lines\",\"name\":\"Sint Maarten (Dutch part)\",\"showlegend\":true,\"x\":[2000,2001,2002,2003,2004,2005,2006,2007,2008,2009,2010,2011,2012,2013,2014,2015,2016,2017,2018,2019,2020,2021,2022,2023],\"xaxis\":\"x\",\"y\":[0.0,0.0,0.0,0.0,0.0,0.0,0.0,0.0,0.0,0.0,3.199992692,4.600003414,1.390544568,1.306731035,1.580382215,0.10581315,0.967758363,-7.535213999,-6.856982992,10.96500094,-13.31678872,4.577596779,9.800001111,3.4],\"yaxis\":\"y\",\"type\":\"scattergl\"},{\"hovertemplate\":\"Country Name=Seychelles\\u003cbr\\u003eYear=%{x}\\u003cbr\\u003eNilai GDP=%{y}\\u003cextra\\u003e\\u003c\\u002fextra\\u003e\",\"legendgroup\":\"Seychelles\",\"line\":{\"color\":\"#19d3f3\",\"dash\":\"solid\"},\"marker\":{\"symbol\":\"circle\"},\"mode\":\"markers+lines\",\"name\":\"Seychelles\",\"showlegend\":true,\"x\":[2000,2001,2002,2003,2004,2005,2006,2007,2008,2009,2010,2011,2012,2013,2014,2015,2016,2017,2018,2019,2020,2021,2022,2023],\"xaxis\":\"x\",\"y\":[4.253198349,-2.271162886,1.212832903,-5.887128488,-2.850453977,9.005761737,9.406128557,8.876066456,-2.725946262,-2.479375947,4.505132043,9.509783352,3.110678494,1.253734962,4.063691812,8.914008875,12.11752725,6.954162188,4.939472723,5.514292074,-11.73986083,0.552281631,14.97685133,3.161714355],\"yaxis\":\"y\",\"type\":\"scattergl\"},{\"hovertemplate\":\"Country Name=Syrian Arab Republic\\u003cbr\\u003eYear=%{x}\\u003cbr\\u003eNilai GDP=%{y}\\u003cextra\\u003e\\u003c\\u002fextra\\u003e\",\"legendgroup\":\"Syrian Arab Republic\",\"line\":{\"color\":\"#FF6692\",\"dash\":\"solid\"},\"marker\":{\"symbol\":\"circle\"},\"mode\":\"markers+lines\",\"name\":\"Syrian Arab Republic\",\"showlegend\":true,\"x\":[2000,2001,2002,2003,2004,2005,2006,2007,2008,2009,2010,2011,2012,2013,2014,2015,2016,2017,2018,2019,2020,2021,2022,2023],\"xaxis\":\"x\",\"y\":[0.675642589,1.047287102,3.954831927,7.204435053,6.902959435,6.215077835,5.046195556,5.674591777,4.476672736,5.912042793,5.191905841,2.850002844,-26.33901708,-26.30008766,-10.31033991,-4.179791613,-6.405590739,-0.723281777,1.393176078,1.220705221,-0.182330467,1.29973809,0.0,0.0],\"yaxis\":\"y\",\"type\":\"scattergl\"},{\"hovertemplate\":\"Country Name=Turks and Caicos Islands\\u003cbr\\u003eYear=%{x}\\u003cbr\\u003eNilai GDP=%{y}\\u003cextra\\u003e\\u003c\\u002fextra\\u003e\",\"legendgroup\":\"Turks and Caicos Islands\",\"line\":{\"color\":\"#B6E880\",\"dash\":\"solid\"},\"marker\":{\"symbol\":\"circle\"},\"mode\":\"markers+lines\",\"name\":\"Turks and Caicos Islands\",\"showlegend\":true,\"x\":[2000,2001,2002,2003,2004,2005,2006,2007,2008,2009,2010,2011,2012,2013,2014,2015,2016,2017,2018,2019,2020,2021,2022,2023],\"xaxis\":\"x\",\"y\":[0.0,0.0,0.0,0.0,0.0,0.0,0.0,0.0,0.0,0.0,0.0,0.0,-0.972299355,1.070877013,8.711296582,11.31483413,7.25118055,-2.5,5.610593584,5.310925248,-26.78293287,9.025497471,6.199999486,1.199996745],\"yaxis\":\"y\",\"type\":\"scattergl\"},{\"hovertemplate\":\"Country Name=Chad\\u003cbr\\u003eYear=%{x}\\u003cbr\\u003eNilai GDP=%{y}\\u003cextra\\u003e\\u003c\\u002fextra\\u003e\",\"legendgroup\":\"Chad\",\"line\":{\"color\":\"#FF97FF\",\"dash\":\"solid\"},\"marker\":{\"symbol\":\"circle\"},\"mode\":\"markers+lines\",\"name\":\"Chad\",\"showlegend\":true,\"x\":[2000,2001,2002,2003,2004,2005,2006,2007,2008,2009,2010,2011,2012,2013,2014,2015,2016,2017,2018,2019,2020,2021,2022,2023],\"xaxis\":\"x\",\"y\":[-0.879681025,11.65813465,8.491209819,14.72166701,33.62937185,17.33253374,0.648262014,3.271499579,3.052691532,4.217695552,13.55010086,0.082869798,8.882576072,5.700001363,6.899985045,2.767675685,-6.255527085,-2.988695986,2.3740378,3.247181917,-1.600006737,-1.169187004,2.804340748,4.12231962],\"yaxis\":\"y\",\"type\":\"scattergl\"},{\"hovertemplate\":\"Country Name=East Asia & Pacific (IDA & IBRD countries)\\u003cbr\\u003eYear=%{x}\\u003cbr\\u003eNilai GDP=%{y}\\u003cextra\\u003e\\u003c\\u002fextra\\u003e\",\"legendgroup\":\"East Asia & Pacific (IDA & IBRD countries)\",\"line\":{\"color\":\"#FECB52\",\"dash\":\"solid\"},\"marker\":{\"symbol\":\"circle\"},\"mode\":\"markers+lines\",\"name\":\"East Asia & Pacific (IDA & IBRD countries)\",\"showlegend\":true,\"x\":[2000,2001,2002,2003,2004,2005,2006,2007,2008,2009,2010,2011,2012,2013,2014,2015,2016,2017,2018,2019,2020,2021,2022,2023],\"xaxis\":\"x\",\"y\":[7.645687238,6.979258015,8.059761895,8.943951955,9.120906745,9.976506063,11.07786748,12.48615504,8.615412673,7.98436894,9.921082014,8.642897731,7.580237738,7.298464151,6.984349737,6.707200956,6.56457371,6.70740565,6.524842607,5.781820856,1.246781819,7.603419691,3.413565509,5.068445549],\"yaxis\":\"y\",\"type\":\"scattergl\"},{\"hovertemplate\":\"Country Name=Europe & Central Asia (IDA & IBRD countries)\\u003cbr\\u003eYear=%{x}\\u003cbr\\u003eNilai GDP=%{y}\\u003cextra\\u003e\\u003c\\u002fextra\\u003e\",\"legendgroup\":\"Europe & Central Asia (IDA & IBRD countries)\",\"line\":{\"color\":\"#636efa\",\"dash\":\"solid\"},\"marker\":{\"symbol\":\"circle\"},\"mode\":\"markers+lines\",\"name\":\"Europe & Central Asia (IDA & IBRD countries)\",\"showlegend\":true,\"x\":[2000,2001,2002,2003,2004,2005,2006,2007,2008,2009,2010,2011,2012,2013,2014,2015,2016,2017,2018,2019,2020,2021,2022,2023],\"xaxis\":\"x\",\"y\":[7.359705758,2.593087553,5.011978403,6.181247349,7.868131866,6.643260645,7.853186716,7.627536584,4.456298034,-4.67251564,4.63262463,5.9284834,3.456022865,3.391505682,2.337771273,1.488157234,1.852506463,4.292532146,3.694719368,2.65714284,-1.462895369,7.386468165,1.767977505,3.444980206],\"yaxis\":\"y\",\"type\":\"scattergl\"},{\"hovertemplate\":\"Country Name=Togo\\u003cbr\\u003eYear=%{x}\\u003cbr\\u003eNilai GDP=%{y}\\u003cextra\\u003e\\u003c\\u002fextra\\u003e\",\"legendgroup\":\"Togo\",\"line\":{\"color\":\"#EF553B\",\"dash\":\"solid\"},\"marker\":{\"symbol\":\"circle\"},\"mode\":\"markers+lines\",\"name\":\"Togo\",\"showlegend\":true,\"x\":[2000,2001,2002,2003,2004,2005,2006,2007,2008,2009,2010,2011,2012,2013,2014,2015,2016,2017,2018,2019,2020,2021,2022,2023],\"xaxis\":\"x\",\"y\":[-0.783479606,0.823438749,3.82662258,6.720171423,-0.978665335,-4.666299382,2.6501321,-1.175120391,4.035645273,5.453823994,5.854352693,5.823252239,6.30269542,5.824265834,5.633240217,5.468031293,4.214895609,4.008133262,4.79506027,4.922925917,1.992155019,5.990876104,5.759542515,6.407922156],\"yaxis\":\"y\",\"type\":\"scattergl\"},{\"hovertemplate\":\"Country Name=Thailand\\u003cbr\\u003eYear=%{x}\\u003cbr\\u003eNilai GDP=%{y}\\u003cextra\\u003e\\u003c\\u002fextra\\u003e\",\"legendgroup\":\"Thailand\",\"line\":{\"color\":\"#00cc96\",\"dash\":\"solid\"},\"marker\":{\"symbol\":\"circle\"},\"mode\":\"markers+lines\",\"name\":\"Thailand\",\"showlegend\":true,\"x\":[2000,2001,2002,2003,2004,2005,2006,2007,2008,2009,2010,2011,2012,2013,2014,2015,2016,2017,2018,2019,2020,2021,2022,2023],\"xaxis\":\"x\",\"y\":[4.455247043,3.44424901,6.149036052,7.189243303,6.289342143,4.187638429,4.967810892,5.435151691,1.725698849,-0.690618232,7.513390533,0.840132083,7.242796202,2.687495563,0.984468864,3.134047249,3.435157717,4.177681032,4.222870287,2.114557796,-6.050038469,1.568181765,2.462769341,1.882817461],\"yaxis\":\"y\",\"type\":\"scattergl\"},{\"hovertemplate\":\"Country Name=Tajikistan\\u003cbr\\u003eYear=%{x}\\u003cbr\\u003eNilai GDP=%{y}\\u003cextra\\u003e\\u003c\\u002fextra\\u003e\",\"legendgroup\":\"Tajikistan\",\"line\":{\"color\":\"#ab63fa\",\"dash\":\"solid\"},\"marker\":{\"symbol\":\"circle\"},\"mode\":\"markers+lines\",\"name\":\"Tajikistan\",\"showlegend\":true,\"x\":[2000,2001,2002,2003,2004,2005,2006,2007,2008,2009,2010,2011,2012,2013,2014,2015,2016,2017,2018,2019,2020,2021,2022,2023],\"xaxis\":\"x\",\"y\":[8.324324495,9.580836178,10.80000376,10.99999908,10.29999894,6.699998517,7.000003211,7.800000119,7.899998272,3.900001148,6.499999086,7.4000006,7.499999463,7.399999747,6.70000069,6.019303318,6.9,7.100000419,7.59999889,7.400000163,4.400001116,9.39999955,8.000000338,8.299999217],\"yaxis\":\"y\",\"type\":\"scattergl\"},{\"hovertemplate\":\"Country Name=Turkmenistan\\u003cbr\\u003eYear=%{x}\\u003cbr\\u003eNilai GDP=%{y}\\u003cextra\\u003e\\u003c\\u002fextra\\u003e\",\"legendgroup\":\"Turkmenistan\",\"line\":{\"color\":\"#FFA15A\",\"dash\":\"solid\"},\"marker\":{\"symbol\":\"circle\"},\"mode\":\"markers+lines\",\"name\":\"Turkmenistan\",\"showlegend\":true,\"x\":[2000,2001,2002,2003,2004,2005,2006,2007,2008,2009,2010,2011,2012,2013,2014,2015,2016,2017,2018,2019,2020,2021,2022,2023],\"xaxis\":\"x\",\"y\":[5.469064133,4.343845714,0.257179925,3.26882856,5.000407438,13.03403487,10.97330833,11.05929947,14.7,6.100000115,9.199999988,14.69999993,11.09999996,10.2000001,10.29999997,6.49999991,6.199999966,6.500000047,6.199999941,6.300000042,5.9,6.2,6.2,6.3],\"yaxis\":\"y\",\"type\":\"scattergl\"},{\"hovertemplate\":\"Country Name=Latin America & the Caribbean (IDA & IBRD countries)\\u003cbr\\u003eYear=%{x}\\u003cbr\\u003eNilai GDP=%{y}\\u003cextra\\u003e\\u003c\\u002fextra\\u003e\",\"legendgroup\":\"Latin America & the Caribbean (IDA & IBRD countries)\",\"line\":{\"color\":\"#19d3f3\",\"dash\":\"solid\"},\"marker\":{\"symbol\":\"circle\"},\"mode\":\"markers+lines\",\"name\":\"Latin America & the Caribbean (IDA & IBRD countries)\",\"showlegend\":true,\"x\":[2000,2001,2002,2003,2004,2005,2006,2007,2008,2009,2010,2011,2012,2013,2014,2015,2016,2017,2018,2019,2020,2021,2022,2023],\"xaxis\":\"x\",\"y\":[3.583625152,0.225615996,0.429432216,2.5338274,5.345778339,4.027456181,5.238693447,5.350299612,3.809845206,-2.329841257,6.678853597,4.56888315,2.64061793,2.853071498,1.398305551,0.366253546,-0.336265483,1.991241006,1.67447249,0.717567356,-6.566986284,7.200832128,4.007587993,2.180328956],\"yaxis\":\"y\",\"type\":\"scattergl\"},{\"hovertemplate\":\"Country Name=Timor-Leste\\u003cbr\\u003eYear=%{x}\\u003cbr\\u003eNilai GDP=%{y}\\u003cextra\\u003e\\u003c\\u002fextra\\u003e\",\"legendgroup\":\"Timor-Leste\",\"line\":{\"color\":\"#FF6692\",\"dash\":\"solid\"},\"marker\":{\"symbol\":\"circle\"},\"mode\":\"markers+lines\",\"name\":\"Timor-Leste\",\"showlegend\":true,\"x\":[2000,2001,2002,2003,2004,2005,2006,2007,2008,2009,2010,2011,2012,2013,2014,2015,2016,2017,2018,2019,2020,2021,2022,2023],\"xaxis\":\"x\",\"y\":[58.07810778,16.35138092,-6.703651824,-2.182264132,0.400003981,2.984579638,-4.116092689,10.26538845,11.39480483,10.14695442,9.331511766,5.958539712,4.860621868,3.104366832,4.472498466,2.797266112,3.368174828,-3.144570024,-0.692800736,23.41201676,31.96191887,5.315537431,-20.54158677,-14.35835699],\"yaxis\":\"y\",\"type\":\"scattergl\"},{\"hovertemplate\":\"Country Name=Middle East & North Africa (IDA & IBRD countries)\\u003cbr\\u003eYear=%{x}\\u003cbr\\u003eNilai GDP=%{y}\\u003cextra\\u003e\\u003c\\u002fextra\\u003e\",\"legendgroup\":\"Middle East & North Africa (IDA & IBRD countries)\",\"line\":{\"color\":\"#B6E880\",\"dash\":\"solid\"},\"marker\":{\"symbol\":\"circle\"},\"mode\":\"markers+lines\",\"name\":\"Middle East & North Africa (IDA & IBRD countries)\",\"showlegend\":true,\"x\":[2000,2001,2002,2003,2004,2005,2006,2007,2008,2009,2010,2011,2012,2013,2014,2015,2016,2017,2018,2019,2020,2021,2022,2023],\"xaxis\":\"x\",\"y\":[6.167476385,2.869408851,3.251860068,2.213089345,7.635820054,4.420629413,5.32741953,6.031942918,3.68896402,2.505556336,5.355577403,-1.026354065,3.534235777,0.417305134,1.844591795,0.694157745,5.367841545,3.138946938,1.82359039,1.11023485,-4.335204818,6.214089095,4.414321615,2.802812772],\"yaxis\":\"y\",\"type\":\"scattergl\"},{\"hovertemplate\":\"Country Name=Tonga\\u003cbr\\u003eYear=%{x}\\u003cbr\\u003eNilai GDP=%{y}\\u003cextra\\u003e\\u003c\\u002fextra\\u003e\",\"legendgroup\":\"Tonga\",\"line\":{\"color\":\"#FF97FF\",\"dash\":\"solid\"},\"marker\":{\"symbol\":\"circle\"},\"mode\":\"markers+lines\",\"name\":\"Tonga\",\"showlegend\":true,\"x\":[2000,2001,2002,2003,2004,2005,2006,2007,2008,2009,2010,2011,2012,2013,2014,2015,2016,2017,2018,2019,2020,2021,2022,2023],\"xaxis\":\"x\",\"y\":[0.875990063,3.748925693,4.848012814,2.308045494,-2.410700609,0.081033894,-0.148635323,0.271095291,4.750169656,-5.199109037,0.803490183,6.818276144,0.823102718,0.312307909,2.01870046,1.171888256,6.571000501,3.322432544,0.24122796,0.706483434,0.488645323,-2.667506175,-2.011520563,0.0],\"yaxis\":\"y\",\"type\":\"scattergl\"},{\"hovertemplate\":\"Country Name=South Asia (IDA & IBRD)\\u003cbr\\u003eYear=%{x}\\u003cbr\\u003eNilai GDP=%{y}\\u003cextra\\u003e\\u003c\\u002fextra\\u003e\",\"legendgroup\":\"South Asia (IDA & IBRD)\",\"line\":{\"color\":\"#FECB52\",\"dash\":\"solid\"},\"marker\":{\"symbol\":\"circle\"},\"mode\":\"markers+lines\",\"name\":\"South Asia (IDA & IBRD)\",\"showlegend\":true,\"x\":[2000,2001,2002,2003,2004,2005,2006,2007,2008,2009,2010,2011,2012,2013,2014,2015,2016,2017,2018,2019,2020,2021,2022,2023],\"xaxis\":\"x\",\"y\":[4.112449812,4.35912767,3.721075351,7.176071101,7.548722986,7.612733442,7.618528801,7.139166126,3.298104994,6.949900159,7.365992009,5.071221948,5.381289736,6.008601615,6.847837891,7.251561624,7.776235507,6.502640993,6.334693554,3.92432284,-4.582693129,8.76382055,6.312211692,6.35285494],\"yaxis\":\"y\",\"type\":\"scattergl\"},{\"hovertemplate\":\"Country Name=Sub-Saharan Africa (IDA & IBRD countries)\\u003cbr\\u003eYear=%{x}\\u003cbr\\u003eNilai GDP=%{y}\\u003cextra\\u003e\\u003c\\u002fextra\\u003e\",\"legendgroup\":\"Sub-Saharan Africa (IDA & IBRD countries)\",\"line\":{\"color\":\"#636efa\",\"dash\":\"solid\"},\"marker\":{\"symbol\":\"circle\"},\"mode\":\"markers+lines\",\"name\":\"Sub-Saharan Africa (IDA & IBRD countries)\",\"showlegend\":true,\"x\":[2000,2001,2002,2003,2004,2005,2006,2007,2008,2009,2010,2011,2012,2013,2014,2015,2016,2017,2018,2019,2020,2021,2022,2023],\"xaxis\":\"x\",\"y\":[3.478123727,4.198461361,6.331164751,4.050089793,6.60196092,6.018879164,6.055864144,6.16224217,5.189440688,3.180480862,5.995572687,4.414404934,3.25824844,5.090440548,4.87076022,2.920373883,1.242037176,2.484283288,2.754967058,2.65974505,-1.966894827,4.264936892,3.660562423,2.955095532],\"yaxis\":\"y\",\"type\":\"scattergl\"},{\"hovertemplate\":\"Country Name=Trinidad and Tobago\\u003cbr\\u003eYear=%{x}\\u003cbr\\u003eNilai GDP=%{y}\\u003cextra\\u003e\\u003c\\u002fextra\\u003e\",\"legendgroup\":\"Trinidad and Tobago\",\"line\":{\"color\":\"#EF553B\",\"dash\":\"solid\"},\"marker\":{\"symbol\":\"circle\"},\"mode\":\"markers+lines\",\"name\":\"Trinidad and Tobago\",\"showlegend\":true,\"x\":[2000,2001,2002,2003,2004,2005,2006,2007,2008,2009,2010,2011,2012,2013,2014,2015,2016,2017,2018,2019,2020,2021,2022,2023],\"xaxis\":\"x\",\"y\":[6.901359591,4.168523982,7.936709687,14.44098954,7.950051511,6.20893788,13.20805861,4.754209701,3.391737078,-4.391729247,3.32322471,-0.294354409,7.446820893,3.531787373,3.853635483,-0.777459952,-7.527137422,-4.800828429,-0.602464842,0.361272406,-9.077876893,-1.03742621,1.48223484,2.10324545],\"yaxis\":\"y\",\"type\":\"scattergl\"},{\"hovertemplate\":\"Country Name=Tunisia\\u003cbr\\u003eYear=%{x}\\u003cbr\\u003eNilai GDP=%{y}\\u003cextra\\u003e\\u003c\\u002fextra\\u003e\",\"legendgroup\":\"Tunisia\",\"line\":{\"color\":\"#00cc96\",\"dash\":\"solid\"},\"marker\":{\"symbol\":\"circle\"},\"mode\":\"markers+lines\",\"name\":\"Tunisia\",\"showlegend\":true,\"x\":[2000,2001,2002,2003,2004,2005,2006,2007,2008,2009,2010,2011,2012,2013,2014,2015,2016,2017,2018,2019,2020,2021,2022,2023],\"xaxis\":\"x\",\"y\":[4.709972914,3.796271662,1.322557148,4.702399533,6.235790722,3.486545543,5.244099832,6.709520975,4.237781475,3.043450124,2.971132751,-2.046633895,4.216677115,2.429930964,3.090328031,0.967703108,1.117425949,2.23783868,2.624930109,1.587846655,-8.59182618,4.605186743,2.603960589,0.423648408],\"yaxis\":\"y\",\"type\":\"scattergl\"},{\"hovertemplate\":\"Country Name=Turkiye\\u003cbr\\u003eYear=%{x}\\u003cbr\\u003eNilai GDP=%{y}\\u003cextra\\u003e\\u003c\\u002fextra\\u003e\",\"legendgroup\":\"Turkiye\",\"line\":{\"color\":\"#ab63fa\",\"dash\":\"solid\"},\"marker\":{\"symbol\":\"circle\"},\"mode\":\"markers+lines\",\"name\":\"Turkiye\",\"showlegend\":true,\"x\":[2000,2001,2002,2003,2004,2005,2006,2007,2008,2009,2010,2011,2012,2013,2014,2015,2016,2017,2018,2019,2020,2021,2022,2023],\"xaxis\":\"x\",\"y\":[6.933239705,-5.750006555,6.447722047,5.763206067,9.795936389,8.992304936,6.947988086,5.043507932,0.815024573,-4.823153953,8.427104323,11.20011058,4.788492711,8.485816997,4.939715161,6.084486904,3.323084208,7.501997489,3.013179908,0.818525936,1.85983969,11.43938474,5.533469266,4.516866508],\"yaxis\":\"y\",\"type\":\"scattergl\"},{\"hovertemplate\":\"Country Name=Tuvalu\\u003cbr\\u003eYear=%{x}\\u003cbr\\u003eNilai GDP=%{y}\\u003cextra\\u003e\\u003c\\u002fextra\\u003e\",\"legendgroup\":\"Tuvalu\",\"line\":{\"color\":\"#FFA15A\",\"dash\":\"solid\"},\"marker\":{\"symbol\":\"circle\"},\"mode\":\"markers+lines\",\"name\":\"Tuvalu\",\"showlegend\":true,\"x\":[2000,2001,2002,2003,2004,2005,2006,2007,2008,2009,2010,2011,2012,2013,2014,2015,2016,2017,2018,2019,2020,2021,2022,2023],\"xaxis\":\"x\",\"y\":[-0.970489206,0.0,9.523809524,-4.347826087,-2.272727273,-4.651162791,2.43902439,7.142857143,6.666666667,-6.25,-2.222222222,6.818181818,-2.127659574,4.347826087,0.0,10.41666667,5.660377358,2.448392857,1.387283842,13.82209844,-4.274932069,1.804135911,0.677309361,3.852809195],\"yaxis\":\"y\",\"type\":\"scattergl\"},{\"hovertemplate\":\"Country Name=Tanzania\\u003cbr\\u003eYear=%{x}\\u003cbr\\u003eNilai GDP=%{y}\\u003cextra\\u003e\\u003c\\u002fextra\\u003e\",\"legendgroup\":\"Tanzania\",\"line\":{\"color\":\"#19d3f3\",\"dash\":\"solid\"},\"marker\":{\"symbol\":\"circle\"},\"mode\":\"markers+lines\",\"name\":\"Tanzania\",\"showlegend\":true,\"x\":[2000,2001,2002,2003,2004,2005,2006,2007,2008,2009,2010,2011,2012,2013,2014,2015,2016,2017,2018,2019,2020,2021,2022,2023],\"xaxis\":\"x\",\"y\":[4.520784636,6.070808287,7.093194984,6.672789831,7.503814659,7.47631926,6.532221388,6.768535203,5.686416859,5.269105249,6.336523427,7.672155435,4.50015356,6.781585601,6.732461868,6.160628774,6.867116196,6.762277168,5.468081815,5.8,1.991964606,4.321384295,4.566005764,5.188056392],\"yaxis\":\"y\",\"type\":\"scattergl\"},{\"hovertemplate\":\"Country Name=Uganda\\u003cbr\\u003eYear=%{x}\\u003cbr\\u003eNilai GDP=%{y}\\u003cextra\\u003e\\u003c\\u002fextra\\u003e\",\"legendgroup\":\"Uganda\",\"line\":{\"color\":\"#FF6692\",\"dash\":\"solid\"},\"marker\":{\"symbol\":\"circle\"},\"mode\":\"markers+lines\",\"name\":\"Uganda\",\"showlegend\":true,\"x\":[2000,2001,2002,2003,2004,2005,2006,2007,2008,2009,2010,2011,2012,2013,2014,2015,2016,2017,2018,2019,2020,2021,2022,2023],\"xaxis\":\"x\",\"y\":[3.141907338,5.183661125,8.732685764,6.473258672,6.807233344,6.332565116,10.78474439,8.412425966,8.708751902,6.801517349,5.637611637,9.391655493,3.837455606,3.586905826,5.106307325,5.18785986,4.781000293,3.131405517,6.303923783,6.438745033,2.951306422,3.536580341,4.588021922,5.231874106],\"yaxis\":\"y\",\"type\":\"scattergl\"},{\"hovertemplate\":\"Country Name=Ukraine\\u003cbr\\u003eYear=%{x}\\u003cbr\\u003eNilai GDP=%{y}\\u003cextra\\u003e\\u003c\\u002fextra\\u003e\",\"legendgroup\":\"Ukraine\",\"line\":{\"color\":\"#B6E880\",\"dash\":\"solid\"},\"marker\":{\"symbol\":\"circle\"},\"mode\":\"markers+lines\",\"name\":\"Ukraine\",\"showlegend\":true,\"x\":[2000,2001,2002,2003,2004,2005,2006,2007,2008,2009,2010,2011,2012,2013,2014,2015,2016,2017,2018,2019,2020,2021,2022,2023],\"xaxis\":\"x\",\"y\":[5.9,8.800000004,5.339647207,9.516609864,11.79535253,3.071230392,7.571420763,8.215844452,2.243491596,-15.13646791,4.092004367,5.44528081,0.152314967,0.045439094,-10.07889498,-9.772987213,2.440981945,2.359972281,3.48836234,3.199503864,-3.7528041,3.445625583,-28.75859059,5.3],\"yaxis\":\"y\",\"type\":\"scattergl\"},{\"hovertemplate\":\"Country Name=Upper middle income\\u003cbr\\u003eYear=%{x}\\u003cbr\\u003eNilai GDP=%{y}\\u003cextra\\u003e\\u003c\\u002fextra\\u003e\",\"legendgroup\":\"Upper middle income\",\"line\":{\"color\":\"#FF97FF\",\"dash\":\"solid\"},\"marker\":{\"symbol\":\"circle\"},\"mode\":\"markers+lines\",\"name\":\"Upper middle income\",\"showlegend\":true,\"x\":[2000,2001,2002,2003,2004,2005,2006,2007,2008,2009,2010,2011,2012,2013,2014,2015,2016,2017,2018,2019,2020,2021,2022,2023],\"xaxis\":\"x\",\"y\":[5.956787058,3.419857338,4.787569658,5.869696069,7.856579991,7.499816064,8.600667976,9.408707134,6.265373345,3.469426753,8.524987215,6.941376612,5.761103229,5.635448934,4.935373401,4.546013073,4.577742128,5.354743353,4.903968916,4.090175839,-0.594393798,7.722301874,3.357154093,4.346249275],\"yaxis\":\"y\",\"type\":\"scattergl\"},{\"hovertemplate\":\"Country Name=Uruguay\\u003cbr\\u003eYear=%{x}\\u003cbr\\u003eNilai GDP=%{y}\\u003cextra\\u003e\\u003c\\u002fextra\\u003e\",\"legendgroup\":\"Uruguay\",\"line\":{\"color\":\"#FECB52\",\"dash\":\"solid\"},\"marker\":{\"symbol\":\"circle\"},\"mode\":\"markers+lines\",\"name\":\"Uruguay\",\"showlegend\":true,\"x\":[2000,2001,2002,2003,2004,2005,2006,2007,2008,2009,2010,2011,2012,2013,2014,2015,2016,2017,2018,2019,2020,2021,2022,2023],\"xaxis\":\"x\",\"y\":[-1.929930635,-3.844129959,-7.732007215,0.805283916,5.004160356,7.46013213,4.098577354,6.541510845,7.176144665,4.243494195,7.803409651,5.162133025,3.538178721,4.637538629,3.23879123,0.370741258,1.689798159,1.740376493,0.164518267,0.928565543,-7.380098841,5.561892793,4.707257615,0.367475176],\"yaxis\":\"y\",\"type\":\"scattergl\"},{\"hovertemplate\":\"Country Name=United States\\u003cbr\\u003eYear=%{x}\\u003cbr\\u003eNilai GDP=%{y}\\u003cextra\\u003e\\u003c\\u002fextra\\u003e\",\"legendgroup\":\"United States\",\"line\":{\"color\":\"#636efa\",\"dash\":\"solid\"},\"marker\":{\"symbol\":\"circle\"},\"mode\":\"markers+lines\",\"name\":\"United States\",\"showlegend\":true,\"x\":[2000,2001,2002,2003,2004,2005,2006,2007,2008,2009,2010,2011,2012,2013,2014,2015,2016,2017,2018,2019,2020,2021,2022,2023],\"xaxis\":\"x\",\"y\":[4.077585758,0.955538346,1.700447324,2.795605966,3.847771692,3.483549938,2.784539639,2.003858298,0.113587248,-2.576500234,2.695192584,1.564406854,2.289113388,2.117830099,2.523819814,2.945550455,1.819451475,2.457622304,2.966505071,2.467037563,-2.213469333,5.800206128,1.935495895,2.542700299],\"yaxis\":\"y\",\"type\":\"scattergl\"},{\"hovertemplate\":\"Country Name=Uzbekistan\\u003cbr\\u003eYear=%{x}\\u003cbr\\u003eNilai GDP=%{y}\\u003cextra\\u003e\\u003c\\u002fextra\\u003e\",\"legendgroup\":\"Uzbekistan\",\"line\":{\"color\":\"#EF553B\",\"dash\":\"solid\"},\"marker\":{\"symbol\":\"circle\"},\"mode\":\"markers+lines\",\"name\":\"Uzbekistan\",\"showlegend\":true,\"x\":[2000,2001,2002,2003,2004,2005,2006,2007,2008,2009,2010,2011,2012,2013,2014,2015,2016,2017,2018,2019,2020,2021,2022,2023],\"xaxis\":\"x\",\"y\":[3.835,4.16383825,3.973488192,4.232627382,7.449000606,6.950007196,7.451418476,9.473005305,9.029161018,8.050933327,7.597167961,7.525139894,7.102444888,7.296550369,6.873838446,7.218773503,5.932150802,4.395274635,5.879742867,5.981561942,1.995585082,7.403368136,5.668817055,5.988975806],\"yaxis\":\"y\",\"type\":\"scattergl\"},{\"hovertemplate\":\"Country Name=St. Vincent and the Grenadines\\u003cbr\\u003eYear=%{x}\\u003cbr\\u003eNilai GDP=%{y}\\u003cextra\\u003e\\u003c\\u002fextra\\u003e\",\"legendgroup\":\"St. Vincent and the Grenadines\",\"line\":{\"color\":\"#00cc96\",\"dash\":\"solid\"},\"marker\":{\"symbol\":\"circle\"},\"mode\":\"markers+lines\",\"name\":\"St. Vincent and the Grenadines\",\"showlegend\":true,\"x\":[2000,2001,2002,2003,2004,2005,2006,2007,2008,2009,2010,2011,2012,2013,2014,2015,2016,2017,2018,2019,2020,2021,2022,2023],\"xaxis\":\"x\",\"y\":[1.639031904,1.74823102,5.342127074,6.691336654,4.114698804,2.488557339,6.996926268,3.322968598,0.404640809,-1.378193606,-4.470467935,-0.606276651,1.169112184,2.462484172,1.250254369,2.783161194,4.145931682,1.448830634,3.175611442,0.661727444,-3.739145992,0.75379708,7.159832866,6.016109145],\"yaxis\":\"y\",\"type\":\"scattergl\"},{\"hovertemplate\":\"Country Name=Venezuela, RB\\u003cbr\\u003eYear=%{x}\\u003cbr\\u003eNilai GDP=%{y}\\u003cextra\\u003e\\u003c\\u002fextra\\u003e\",\"legendgroup\":\"Venezuela, RB\",\"line\":{\"color\":\"#ab63fa\",\"dash\":\"solid\"},\"marker\":{\"symbol\":\"circle\"},\"mode\":\"markers+lines\",\"name\":\"Venezuela, RB\",\"showlegend\":true,\"x\":[2000,2001,2002,2003,2004,2005,2006,2007,2008,2009,2010,2011,2012,2013,2014,2015,2016,2017,2018,2019,2020,2021,2022,2023],\"xaxis\":\"x\",\"y\":[3.686944167,3.394236108,-8.855647353,-7.75530005,18.28660669,10.3179138,9.872149109,8.753578808,5.277854124,-3.202302657,-1.488791251,4.176425359,5.625956975,1.343094036,-3.894386475,0.0,0.0,0.0,0.0,0.0,0.0,0.0,0.0,0.0],\"yaxis\":\"y\",\"type\":\"scattergl\"},{\"hovertemplate\":\"Country Name=British Virgin Islands\\u003cbr\\u003eYear=%{x}\\u003cbr\\u003eNilai GDP=%{y}\\u003cextra\\u003e\\u003c\\u002fextra\\u003e\",\"legendgroup\":\"British Virgin Islands\",\"line\":{\"color\":\"#FFA15A\",\"dash\":\"solid\"},\"marker\":{\"symbol\":\"circle\"},\"mode\":\"markers+lines\",\"name\":\"British Virgin Islands\",\"showlegend\":true,\"x\":[2000,2001,2002,2003,2004,2005,2006,2007,2008,2009,2010,2011,2012,2013,2014,2015,2016,2017,2018,2019,2020,2021,2022,2023],\"xaxis\":\"x\",\"y\":[0.0,0.0,0.0,0.0,0.0,0.0,0.0,0.0,0.0,0.0,0.0,0.0,0.0,0.0,0.0,0.0,0.0,0.0,0.0,0.0,0.0,0.0,0.0,0.0],\"yaxis\":\"y\",\"type\":\"scattergl\"},{\"hovertemplate\":\"Country Name=Virgin Islands (U.S.)\\u003cbr\\u003eYear=%{x}\\u003cbr\\u003eNilai GDP=%{y}\\u003cextra\\u003e\\u003c\\u002fextra\\u003e\",\"legendgroup\":\"Virgin Islands (U.S.)\",\"line\":{\"color\":\"#19d3f3\",\"dash\":\"solid\"},\"marker\":{\"symbol\":\"circle\"},\"mode\":\"markers+lines\",\"name\":\"Virgin Islands (U.S.)\",\"showlegend\":true,\"x\":[2000,2001,2002,2003,2004,2005,2006,2007,2008,2009,2010,2011,2012,2013,2014,2015,2016,2017,2018,2019,2020,2021,2022,2023],\"xaxis\":\"x\",\"y\":[0.0,0.0,0.0,-0.396080884,3.285893679,3.485309017,3.504993147,4.010594022,1.218624955,-6.594788859,0.596383224,-8.204245554,-14.8125,-6.285155295,-1.774530271,-0.425079702,1.600853789,-0.735294118,1.904761905,2.933541018,-1.916771753,2.854204166,0.0,0.0],\"yaxis\":\"y\",\"type\":\"scattergl\"},{\"hovertemplate\":\"Country Name=Viet Nam\\u003cbr\\u003eYear=%{x}\\u003cbr\\u003eNilai GDP=%{y}\\u003cextra\\u003e\\u003c\\u002fextra\\u003e\",\"legendgroup\":\"Viet Nam\",\"line\":{\"color\":\"#FF6692\",\"dash\":\"solid\"},\"marker\":{\"symbol\":\"circle\"},\"mode\":\"markers+lines\",\"name\":\"Viet Nam\",\"showlegend\":true,\"x\":[2000,2001,2002,2003,2004,2005,2006,2007,2008,2009,2010,2011,2012,2013,2014,2015,2016,2017,2018,2019,2020,2021,2022,2023],\"xaxis\":\"x\",\"y\":[6.787316405,6.192893312,6.320820992,6.899063491,7.536410609,7.547247729,6.977954811,7.129504486,5.661771209,5.39789754,6.423244822,6.413168897,5.504544704,5.55351081,6.422243121,6.987154306,6.690008927,6.940190374,7.465006856,7.359262701,2.865413209,2.553728526,8.123514468,5.046430736],\"yaxis\":\"y\",\"type\":\"scattergl\"},{\"hovertemplate\":\"Country Name=Vanuatu\\u003cbr\\u003eYear=%{x}\\u003cbr\\u003eNilai GDP=%{y}\\u003cextra\\u003e\\u003c\\u002fextra\\u003e\",\"legendgroup\":\"Vanuatu\",\"line\":{\"color\":\"#B6E880\",\"dash\":\"solid\"},\"marker\":{\"symbol\":\"circle\"},\"mode\":\"markers+lines\",\"name\":\"Vanuatu\",\"showlegend\":true,\"x\":[2000,2001,2002,2003,2004,2005,2006,2007,2008,2009,2010,2011,2012,2013,2014,2015,2016,2017,2018,2019,2020,2021,2022,2023],\"xaxis\":\"x\",\"y\":[5.924809057,-3.397582489,-5.198318759,4.288335117,3.987392802,5.305326473,8.460697472,2.875892288,5.600991821,3.037303541,1.258867203,3.1398029,1.010047687,0.463390415,3.136867294,0.366522075,4.688756366,6.317305384,2.900230273,3.241187655,-4.992491429,-1.552294891,1.916057012,2.212941771],\"yaxis\":\"y\",\"type\":\"scattergl\"},{\"hovertemplate\":\"Country Name=World\\u003cbr\\u003eYear=%{x}\\u003cbr\\u003eNilai GDP=%{y}\\u003cextra\\u003e\\u003c\\u002fextra\\u003e\",\"legendgroup\":\"World\",\"line\":{\"color\":\"#FF97FF\",\"dash\":\"solid\"},\"marker\":{\"symbol\":\"circle\"},\"mode\":\"markers+lines\",\"name\":\"World\",\"showlegend\":true,\"x\":[2000,2001,2002,2003,2004,2005,2006,2007,2008,2009,2010,2011,2012,2013,2014,2015,2016,2017,2018,2019,2020,2021,2022,2023],\"xaxis\":\"x\",\"y\":[4.531094789,2.025402869,2.302836989,3.104275673,4.469258855,4.00586591,4.442792696,4.37327669,2.062495933,-1.355782091,4.529545973,3.327132697,2.709115158,2.868222143,3.12386991,3.126135588,2.820557285,3.460239118,3.286612988,2.642216435,-2.932043344,6.259851284,3.089607464,2.719333366],\"yaxis\":\"y\",\"type\":\"scattergl\"},{\"hovertemplate\":\"Country Name=Samoa\\u003cbr\\u003eYear=%{x}\\u003cbr\\u003eNilai GDP=%{y}\\u003cextra\\u003e\\u003c\\u002fextra\\u003e\",\"legendgroup\":\"Samoa\",\"line\":{\"color\":\"#FECB52\",\"dash\":\"solid\"},\"marker\":{\"symbol\":\"circle\"},\"mode\":\"markers+lines\",\"name\":\"Samoa\",\"showlegend\":true,\"x\":[2000,2001,2002,2003,2004,2005,2006,2007,2008,2009,2010,2011,2012,2013,2014,2015,2016,2017,2018,2019,2020,2021,2022,2023],\"xaxis\":\"x\",\"y\":[5.093044692,7.390129062,5.651959199,5.212628926,3.087260238,6.639203613,2.132127147,0.48598255,3.556104674,-0.541677602,6.124719923,3.849077947,-3.732130209,0.107293276,0.659923769,3.850361817,7.983862878,1.4062824,-0.609647103,4.451858917,-3.108444011,-7.078830943,-5.3062909,7.991982644],\"yaxis\":\"y\",\"type\":\"scattergl\"},{\"hovertemplate\":\"Country Name=Kosovo\\u003cbr\\u003eYear=%{x}\\u003cbr\\u003eNilai GDP=%{y}\\u003cextra\\u003e\\u003c\\u002fextra\\u003e\",\"legendgroup\":\"Kosovo\",\"line\":{\"color\":\"#636efa\",\"dash\":\"solid\"},\"marker\":{\"symbol\":\"circle\"},\"mode\":\"markers+lines\",\"name\":\"Kosovo\",\"showlegend\":true,\"x\":[2000,2001,2002,2003,2004,2005,2006,2007,2008,2009,2010,2011,2012,2013,2014,2015,2016,2017,2018,2019,2020,2021,2022,2023],\"xaxis\":\"x\",\"y\":[0.0,0.0,0.0,0.0,0.0,0.0,0.0,0.0,0.0,5.034854138,4.93995096,6.319810229,1.712195959,5.340799119,3.348804784,5.916231283,5.571775047,4.825655653,3.406632271,4.75680057,-5.340275478,10.74565608,4.278498508,3.337894699],\"yaxis\":\"y\",\"type\":\"scattergl\"},{\"hovertemplate\":\"Country Name=Yemen, Rep.\\u003cbr\\u003eYear=%{x}\\u003cbr\\u003eNilai GDP=%{y}\\u003cextra\\u003e\\u003c\\u002fextra\\u003e\",\"legendgroup\":\"Yemen, Rep.\",\"line\":{\"color\":\"#EF553B\",\"dash\":\"solid\"},\"marker\":{\"symbol\":\"circle\"},\"mode\":\"markers+lines\",\"name\":\"Yemen, Rep.\",\"showlegend\":true,\"x\":[2000,2001,2002,2003,2004,2005,2006,2007,2008,2009,2010,2011,2012,2013,2014,2015,2016,2017,2018,2019,2020,2021,2022,2023],\"xaxis\":\"x\",\"y\":[6.181915593,3.803645872,3.935231505,3.747398185,3.972696401,5.591748076,3.170409359,3.338427956,3.64756947,3.866229516,7.70230704,-12.7148969,2.392990209,4.823519067,-0.188690232,-27.99454625,-9.375123818,-5.071795639,0.752447588,0.0,0.0,0.0,0.0,0.0],\"yaxis\":\"y\",\"type\":\"scattergl\"},{\"hovertemplate\":\"Country Name=South Africa\\u003cbr\\u003eYear=%{x}\\u003cbr\\u003eNilai GDP=%{y}\\u003cextra\\u003e\\u003c\\u002fextra\\u003e\",\"legendgroup\":\"South Africa\",\"line\":{\"color\":\"#00cc96\",\"dash\":\"solid\"},\"marker\":{\"symbol\":\"circle\"},\"mode\":\"markers+lines\",\"name\":\"South Africa\",\"showlegend\":true,\"x\":[2000,2001,2002,2003,2004,2005,2006,2007,2008,2009,2010,2011,2012,2013,2014,2015,2016,2017,2018,2019,2020,2021,2022,2023],\"xaxis\":\"x\",\"y\":[4.200000001,2.7,3.700374404,2.949075468,4.554559907,5.277051973,5.603806459,5.360474054,3.191043886,-1.538089135,3.039732881,3.168556279,2.396232385,2.485468008,1.413826452,1.321862237,0.664552308,1.157946952,1.556783847,0.259935577,-5.963358184,4.703062065,1.91040617,0.601662303],\"yaxis\":\"y\",\"type\":\"scattergl\"},{\"hovertemplate\":\"Country Name=Zambia\\u003cbr\\u003eYear=%{x}\\u003cbr\\u003eNilai GDP=%{y}\\u003cextra\\u003e\\u003c\\u002fextra\\u003e\",\"legendgroup\":\"Zambia\",\"line\":{\"color\":\"#ab63fa\",\"dash\":\"solid\"},\"marker\":{\"symbol\":\"circle\"},\"mode\":\"markers+lines\",\"name\":\"Zambia\",\"showlegend\":true,\"x\":[2000,2001,2002,2003,2004,2005,2006,2007,2008,2009,2010,2011,2012,2013,2014,2015,2016,2017,2018,2019,2020,2021,2022,2023],\"xaxis\":\"x\",\"y\":[3.897322943,5.316868274,4.50601428,6.944973982,7.032395115,7.235599007,7.903694445,8.352436244,7.773895815,9.220348406,10.29822332,5.569252156,7.597381074,5.057536942,4.693283184,2.920375112,3.755100318,3.52586277,4.034493897,1.441306026,-2.785055065,6.234922047,5.249622323,5.832474135],\"yaxis\":\"y\",\"type\":\"scattergl\"},{\"hovertemplate\":\"Country Name=Zimbabwe\\u003cbr\\u003eYear=%{x}\\u003cbr\\u003eNilai GDP=%{y}\\u003cextra\\u003e\\u003c\\u002fextra\\u003e\",\"legendgroup\":\"Zimbabwe\",\"line\":{\"color\":\"#FFA15A\",\"dash\":\"solid\"},\"marker\":{\"symbol\":\"circle\"},\"mode\":\"markers+lines\",\"name\":\"Zimbabwe\",\"showlegend\":true,\"x\":[2000,2001,2002,2003,2004,2005,2006,2007,2008,2009,2010,2011,2012,2013,2014,2015,2016,2017,2018,2019,2020,2021,2022,2023],\"xaxis\":\"x\",\"y\":[-3.059189749,1.439615396,-8.894023631,-16.99507473,-5.807538023,-5.711083707,-3.461495188,-3.653326835,-17.66894633,12.01955997,21.45206092,14.62020726,15.74487708,3.196730887,1.484542622,2.023649996,0.900955396,4.080263903,5.009866783,-6.332446407,-7.816950647,8.468016898,6.52237533,4.955781703],\"yaxis\":\"y\",\"type\":\"scattergl\"}],                        {\"template\":{\"data\":{\"histogram2dcontour\":[{\"type\":\"histogram2dcontour\",\"colorbar\":{\"outlinewidth\":0,\"ticks\":\"\"},\"colorscale\":[[0.0,\"#0d0887\"],[0.1111111111111111,\"#46039f\"],[0.2222222222222222,\"#7201a8\"],[0.3333333333333333,\"#9c179e\"],[0.4444444444444444,\"#bd3786\"],[0.5555555555555556,\"#d8576b\"],[0.6666666666666666,\"#ed7953\"],[0.7777777777777778,\"#fb9f3a\"],[0.8888888888888888,\"#fdca26\"],[1.0,\"#f0f921\"]]}],\"choropleth\":[{\"type\":\"choropleth\",\"colorbar\":{\"outlinewidth\":0,\"ticks\":\"\"}}],\"histogram2d\":[{\"type\":\"histogram2d\",\"colorbar\":{\"outlinewidth\":0,\"ticks\":\"\"},\"colorscale\":[[0.0,\"#0d0887\"],[0.1111111111111111,\"#46039f\"],[0.2222222222222222,\"#7201a8\"],[0.3333333333333333,\"#9c179e\"],[0.4444444444444444,\"#bd3786\"],[0.5555555555555556,\"#d8576b\"],[0.6666666666666666,\"#ed7953\"],[0.7777777777777778,\"#fb9f3a\"],[0.8888888888888888,\"#fdca26\"],[1.0,\"#f0f921\"]]}],\"heatmap\":[{\"type\":\"heatmap\",\"colorbar\":{\"outlinewidth\":0,\"ticks\":\"\"},\"colorscale\":[[0.0,\"#0d0887\"],[0.1111111111111111,\"#46039f\"],[0.2222222222222222,\"#7201a8\"],[0.3333333333333333,\"#9c179e\"],[0.4444444444444444,\"#bd3786\"],[0.5555555555555556,\"#d8576b\"],[0.6666666666666666,\"#ed7953\"],[0.7777777777777778,\"#fb9f3a\"],[0.8888888888888888,\"#fdca26\"],[1.0,\"#f0f921\"]]}],\"heatmapgl\":[{\"type\":\"heatmapgl\",\"colorbar\":{\"outlinewidth\":0,\"ticks\":\"\"},\"colorscale\":[[0.0,\"#0d0887\"],[0.1111111111111111,\"#46039f\"],[0.2222222222222222,\"#7201a8\"],[0.3333333333333333,\"#9c179e\"],[0.4444444444444444,\"#bd3786\"],[0.5555555555555556,\"#d8576b\"],[0.6666666666666666,\"#ed7953\"],[0.7777777777777778,\"#fb9f3a\"],[0.8888888888888888,\"#fdca26\"],[1.0,\"#f0f921\"]]}],\"contourcarpet\":[{\"type\":\"contourcarpet\",\"colorbar\":{\"outlinewidth\":0,\"ticks\":\"\"}}],\"contour\":[{\"type\":\"contour\",\"colorbar\":{\"outlinewidth\":0,\"ticks\":\"\"},\"colorscale\":[[0.0,\"#0d0887\"],[0.1111111111111111,\"#46039f\"],[0.2222222222222222,\"#7201a8\"],[0.3333333333333333,\"#9c179e\"],[0.4444444444444444,\"#bd3786\"],[0.5555555555555556,\"#d8576b\"],[0.6666666666666666,\"#ed7953\"],[0.7777777777777778,\"#fb9f3a\"],[0.8888888888888888,\"#fdca26\"],[1.0,\"#f0f921\"]]}],\"surface\":[{\"type\":\"surface\",\"colorbar\":{\"outlinewidth\":0,\"ticks\":\"\"},\"colorscale\":[[0.0,\"#0d0887\"],[0.1111111111111111,\"#46039f\"],[0.2222222222222222,\"#7201a8\"],[0.3333333333333333,\"#9c179e\"],[0.4444444444444444,\"#bd3786\"],[0.5555555555555556,\"#d8576b\"],[0.6666666666666666,\"#ed7953\"],[0.7777777777777778,\"#fb9f3a\"],[0.8888888888888888,\"#fdca26\"],[1.0,\"#f0f921\"]]}],\"mesh3d\":[{\"type\":\"mesh3d\",\"colorbar\":{\"outlinewidth\":0,\"ticks\":\"\"}}],\"scatter\":[{\"fillpattern\":{\"fillmode\":\"overlay\",\"size\":10,\"solidity\":0.2},\"type\":\"scatter\"}],\"parcoords\":[{\"type\":\"parcoords\",\"line\":{\"colorbar\":{\"outlinewidth\":0,\"ticks\":\"\"}}}],\"scatterpolargl\":[{\"type\":\"scatterpolargl\",\"marker\":{\"colorbar\":{\"outlinewidth\":0,\"ticks\":\"\"}}}],\"bar\":[{\"error_x\":{\"color\":\"#2a3f5f\"},\"error_y\":{\"color\":\"#2a3f5f\"},\"marker\":{\"line\":{\"color\":\"#E5ECF6\",\"width\":0.5},\"pattern\":{\"fillmode\":\"overlay\",\"size\":10,\"solidity\":0.2}},\"type\":\"bar\"}],\"scattergeo\":[{\"type\":\"scattergeo\",\"marker\":{\"colorbar\":{\"outlinewidth\":0,\"ticks\":\"\"}}}],\"scatterpolar\":[{\"type\":\"scatterpolar\",\"marker\":{\"colorbar\":{\"outlinewidth\":0,\"ticks\":\"\"}}}],\"histogram\":[{\"marker\":{\"pattern\":{\"fillmode\":\"overlay\",\"size\":10,\"solidity\":0.2}},\"type\":\"histogram\"}],\"scattergl\":[{\"type\":\"scattergl\",\"marker\":{\"colorbar\":{\"outlinewidth\":0,\"ticks\":\"\"}}}],\"scatter3d\":[{\"type\":\"scatter3d\",\"line\":{\"colorbar\":{\"outlinewidth\":0,\"ticks\":\"\"}},\"marker\":{\"colorbar\":{\"outlinewidth\":0,\"ticks\":\"\"}}}],\"scattermapbox\":[{\"type\":\"scattermapbox\",\"marker\":{\"colorbar\":{\"outlinewidth\":0,\"ticks\":\"\"}}}],\"scatterternary\":[{\"type\":\"scatterternary\",\"marker\":{\"colorbar\":{\"outlinewidth\":0,\"ticks\":\"\"}}}],\"scattercarpet\":[{\"type\":\"scattercarpet\",\"marker\":{\"colorbar\":{\"outlinewidth\":0,\"ticks\":\"\"}}}],\"carpet\":[{\"aaxis\":{\"endlinecolor\":\"#2a3f5f\",\"gridcolor\":\"white\",\"linecolor\":\"white\",\"minorgridcolor\":\"white\",\"startlinecolor\":\"#2a3f5f\"},\"baxis\":{\"endlinecolor\":\"#2a3f5f\",\"gridcolor\":\"white\",\"linecolor\":\"white\",\"minorgridcolor\":\"white\",\"startlinecolor\":\"#2a3f5f\"},\"type\":\"carpet\"}],\"table\":[{\"cells\":{\"fill\":{\"color\":\"#EBF0F8\"},\"line\":{\"color\":\"white\"}},\"header\":{\"fill\":{\"color\":\"#C8D4E3\"},\"line\":{\"color\":\"white\"}},\"type\":\"table\"}],\"barpolar\":[{\"marker\":{\"line\":{\"color\":\"#E5ECF6\",\"width\":0.5},\"pattern\":{\"fillmode\":\"overlay\",\"size\":10,\"solidity\":0.2}},\"type\":\"barpolar\"}],\"pie\":[{\"automargin\":true,\"type\":\"pie\"}]},\"layout\":{\"autotypenumbers\":\"strict\",\"colorway\":[\"#636efa\",\"#EF553B\",\"#00cc96\",\"#ab63fa\",\"#FFA15A\",\"#19d3f3\",\"#FF6692\",\"#B6E880\",\"#FF97FF\",\"#FECB52\"],\"font\":{\"color\":\"#2a3f5f\"},\"hovermode\":\"closest\",\"hoverlabel\":{\"align\":\"left\"},\"paper_bgcolor\":\"white\",\"plot_bgcolor\":\"#E5ECF6\",\"polar\":{\"bgcolor\":\"#E5ECF6\",\"angularaxis\":{\"gridcolor\":\"white\",\"linecolor\":\"white\",\"ticks\":\"\"},\"radialaxis\":{\"gridcolor\":\"white\",\"linecolor\":\"white\",\"ticks\":\"\"}},\"ternary\":{\"bgcolor\":\"#E5ECF6\",\"aaxis\":{\"gridcolor\":\"white\",\"linecolor\":\"white\",\"ticks\":\"\"},\"baxis\":{\"gridcolor\":\"white\",\"linecolor\":\"white\",\"ticks\":\"\"},\"caxis\":{\"gridcolor\":\"white\",\"linecolor\":\"white\",\"ticks\":\"\"}},\"coloraxis\":{\"colorbar\":{\"outlinewidth\":0,\"ticks\":\"\"}},\"colorscale\":{\"sequential\":[[0.0,\"#0d0887\"],[0.1111111111111111,\"#46039f\"],[0.2222222222222222,\"#7201a8\"],[0.3333333333333333,\"#9c179e\"],[0.4444444444444444,\"#bd3786\"],[0.5555555555555556,\"#d8576b\"],[0.6666666666666666,\"#ed7953\"],[0.7777777777777778,\"#fb9f3a\"],[0.8888888888888888,\"#fdca26\"],[1.0,\"#f0f921\"]],\"sequentialminus\":[[0.0,\"#0d0887\"],[0.1111111111111111,\"#46039f\"],[0.2222222222222222,\"#7201a8\"],[0.3333333333333333,\"#9c179e\"],[0.4444444444444444,\"#bd3786\"],[0.5555555555555556,\"#d8576b\"],[0.6666666666666666,\"#ed7953\"],[0.7777777777777778,\"#fb9f3a\"],[0.8888888888888888,\"#fdca26\"],[1.0,\"#f0f921\"]],\"diverging\":[[0,\"#8e0152\"],[0.1,\"#c51b7d\"],[0.2,\"#de77ae\"],[0.3,\"#f1b6da\"],[0.4,\"#fde0ef\"],[0.5,\"#f7f7f7\"],[0.6,\"#e6f5d0\"],[0.7,\"#b8e186\"],[0.8,\"#7fbc41\"],[0.9,\"#4d9221\"],[1,\"#276419\"]]},\"xaxis\":{\"gridcolor\":\"white\",\"linecolor\":\"white\",\"ticks\":\"\",\"title\":{\"standoff\":15},\"zerolinecolor\":\"white\",\"automargin\":true,\"zerolinewidth\":2},\"yaxis\":{\"gridcolor\":\"white\",\"linecolor\":\"white\",\"ticks\":\"\",\"title\":{\"standoff\":15},\"zerolinecolor\":\"white\",\"automargin\":true,\"zerolinewidth\":2},\"scene\":{\"xaxis\":{\"backgroundcolor\":\"#E5ECF6\",\"gridcolor\":\"white\",\"linecolor\":\"white\",\"showbackground\":true,\"ticks\":\"\",\"zerolinecolor\":\"white\",\"gridwidth\":2},\"yaxis\":{\"backgroundcolor\":\"#E5ECF6\",\"gridcolor\":\"white\",\"linecolor\":\"white\",\"showbackground\":true,\"ticks\":\"\",\"zerolinecolor\":\"white\",\"gridwidth\":2},\"zaxis\":{\"backgroundcolor\":\"#E5ECF6\",\"gridcolor\":\"white\",\"linecolor\":\"white\",\"showbackground\":true,\"ticks\":\"\",\"zerolinecolor\":\"white\",\"gridwidth\":2}},\"shapedefaults\":{\"line\":{\"color\":\"#2a3f5f\"}},\"annotationdefaults\":{\"arrowcolor\":\"#2a3f5f\",\"arrowhead\":0,\"arrowwidth\":1},\"geo\":{\"bgcolor\":\"white\",\"landcolor\":\"#E5ECF6\",\"subunitcolor\":\"white\",\"showland\":true,\"showlakes\":true,\"lakecolor\":\"white\"},\"title\":{\"x\":0.05},\"mapbox\":{\"style\":\"light\"}}},\"xaxis\":{\"anchor\":\"y\",\"domain\":[0.0,1.0],\"title\":{\"text\":\"Year\"}},\"yaxis\":{\"anchor\":\"x\",\"domain\":[0.0,1.0],\"title\":{\"text\":\"Nilai GDP\"}},\"legend\":{\"title\":{\"text\":\"Country Name\"},\"tracegroupgap\":0},\"title\":{\"text\":\"Distribusi GDP dari Tahun ke Tahun untuk Setiap Negara\"}},                        {\"responsive\": true}                    ).then(function(){\n",
       "                            \n",
       "var gd = document.getElementById('694d56a3-0f24-474d-8f51-070b45feb061');\n",
       "var x = new MutationObserver(function (mutations, observer) {{\n",
       "        var display = window.getComputedStyle(gd).display;\n",
       "        if (!display || display === 'none') {{\n",
       "            console.log([gd, 'removed!']);\n",
       "            Plotly.purge(gd);\n",
       "            observer.disconnect();\n",
       "        }}\n",
       "}});\n",
       "\n",
       "// Listen for the removal of the full notebook cells\n",
       "var notebookContainer = gd.closest('#notebook-container');\n",
       "if (notebookContainer) {{\n",
       "    x.observe(notebookContainer, {childList: true});\n",
       "}}\n",
       "\n",
       "// Listen for the clearing of the current output cell\n",
       "var outputEl = gd.closest('.output');\n",
       "if (outputEl) {{\n",
       "    x.observe(outputEl, {childList: true});\n",
       "}}\n",
       "\n",
       "                        })                };                });            </script>        </div>"
      ]
     },
     "metadata": {},
     "output_type": "display_data"
    }
   ],
   "source": [
    "fig_gdp = px.line(\n",
    "    merged_df, \n",
    "    x='Year', \n",
    "    y='Value_GDP', \n",
    "    color='Country Name', \n",
    "    title='Distribusi GDP dari Tahun ke Tahun untuk Setiap Negara',\n",
    "    labels={'Value_GDP': 'Nilai GDP'},\n",
    "    markers=True\n",
    ")\n",
    "fig_gdp.show()"
   ]
  },
  {
   "cell_type": "code",
   "execution_count": 10,
   "metadata": {},
   "outputs": [],
   "source": [
    "merged_df.to_csv('merged_df.csv', index=False)"
   ]
  },
  {
   "cell_type": "code",
   "execution_count": 11,
   "metadata": {},
   "outputs": [
    {
     "name": "stderr",
     "output_type": "stream",
     "text": [
      "19:02:41 - cmdstanpy - INFO - Chain [1] start processing\n",
      "19:02:41 - cmdstanpy - INFO - Chain [1] done processing\n"
     ]
    },
    {
     "data": {
      "application/vnd.plotly.v1+json": {
       "config": {
        "plotlyServerURL": "https://plot.ly"
       },
       "data": [
        {
         "line": {
          "dash": "solid",
          "width": 2
         },
         "mode": "lines+markers",
         "name": "Historical Data",
         "type": "scatter",
         "x": [
          2000,
          2001,
          2002,
          2003,
          2004,
          2005,
          2006,
          2007,
          2008,
          2009,
          2010,
          2011,
          2012,
          2013,
          2014,
          2015,
          2016,
          2017,
          2018,
          2019,
          2020,
          2021,
          2022,
          2023
         ],
         "y": [
          4.531094789,
          2.025402869,
          2.302836989,
          3.104275673,
          4.469258855,
          4.00586591,
          4.442792696,
          4.37327669,
          2.062495933,
          -1.355782091,
          4.529545973,
          3.327132697,
          2.709115158,
          2.868222143,
          3.12386991,
          3.126135588,
          2.820557285,
          3.460239118,
          3.286612988,
          2.642216435,
          -2.932043344,
          6.259851284,
          3.089607464,
          2.719333366
         ]
        },
        {
         "line": {
          "color": "orange",
          "dash": "dot",
          "width": 2
         },
         "mode": "lines+markers",
         "name": "Forecast",
         "type": "scatter",
         "x": [
          2024,
          2025,
          2026,
          2027,
          2028,
          2029,
          2030
         ],
         "y": [
          1.8434419517247567,
          1.5191428001944356,
          1.1710168518690596,
          0.7994882282539968,
          1.6900377021697128,
          1.365738550636912,
          1.0176126023144456
         ]
        }
       ],
       "layout": {
        "template": {
         "data": {
          "bar": [
           {
            "error_x": {
             "color": "#2a3f5f"
            },
            "error_y": {
             "color": "#2a3f5f"
            },
            "marker": {
             "line": {
              "color": "white",
              "width": 0.5
             },
             "pattern": {
              "fillmode": "overlay",
              "size": 10,
              "solidity": 0.2
             }
            },
            "type": "bar"
           }
          ],
          "barpolar": [
           {
            "marker": {
             "line": {
              "color": "white",
              "width": 0.5
             },
             "pattern": {
              "fillmode": "overlay",
              "size": 10,
              "solidity": 0.2
             }
            },
            "type": "barpolar"
           }
          ],
          "carpet": [
           {
            "aaxis": {
             "endlinecolor": "#2a3f5f",
             "gridcolor": "#C8D4E3",
             "linecolor": "#C8D4E3",
             "minorgridcolor": "#C8D4E3",
             "startlinecolor": "#2a3f5f"
            },
            "baxis": {
             "endlinecolor": "#2a3f5f",
             "gridcolor": "#C8D4E3",
             "linecolor": "#C8D4E3",
             "minorgridcolor": "#C8D4E3",
             "startlinecolor": "#2a3f5f"
            },
            "type": "carpet"
           }
          ],
          "choropleth": [
           {
            "colorbar": {
             "outlinewidth": 0,
             "ticks": ""
            },
            "type": "choropleth"
           }
          ],
          "contour": [
           {
            "colorbar": {
             "outlinewidth": 0,
             "ticks": ""
            },
            "colorscale": [
             [
              0,
              "#0d0887"
             ],
             [
              0.1111111111111111,
              "#46039f"
             ],
             [
              0.2222222222222222,
              "#7201a8"
             ],
             [
              0.3333333333333333,
              "#9c179e"
             ],
             [
              0.4444444444444444,
              "#bd3786"
             ],
             [
              0.5555555555555556,
              "#d8576b"
             ],
             [
              0.6666666666666666,
              "#ed7953"
             ],
             [
              0.7777777777777778,
              "#fb9f3a"
             ],
             [
              0.8888888888888888,
              "#fdca26"
             ],
             [
              1,
              "#f0f921"
             ]
            ],
            "type": "contour"
           }
          ],
          "contourcarpet": [
           {
            "colorbar": {
             "outlinewidth": 0,
             "ticks": ""
            },
            "type": "contourcarpet"
           }
          ],
          "heatmap": [
           {
            "colorbar": {
             "outlinewidth": 0,
             "ticks": ""
            },
            "colorscale": [
             [
              0,
              "#0d0887"
             ],
             [
              0.1111111111111111,
              "#46039f"
             ],
             [
              0.2222222222222222,
              "#7201a8"
             ],
             [
              0.3333333333333333,
              "#9c179e"
             ],
             [
              0.4444444444444444,
              "#bd3786"
             ],
             [
              0.5555555555555556,
              "#d8576b"
             ],
             [
              0.6666666666666666,
              "#ed7953"
             ],
             [
              0.7777777777777778,
              "#fb9f3a"
             ],
             [
              0.8888888888888888,
              "#fdca26"
             ],
             [
              1,
              "#f0f921"
             ]
            ],
            "type": "heatmap"
           }
          ],
          "heatmapgl": [
           {
            "colorbar": {
             "outlinewidth": 0,
             "ticks": ""
            },
            "colorscale": [
             [
              0,
              "#0d0887"
             ],
             [
              0.1111111111111111,
              "#46039f"
             ],
             [
              0.2222222222222222,
              "#7201a8"
             ],
             [
              0.3333333333333333,
              "#9c179e"
             ],
             [
              0.4444444444444444,
              "#bd3786"
             ],
             [
              0.5555555555555556,
              "#d8576b"
             ],
             [
              0.6666666666666666,
              "#ed7953"
             ],
             [
              0.7777777777777778,
              "#fb9f3a"
             ],
             [
              0.8888888888888888,
              "#fdca26"
             ],
             [
              1,
              "#f0f921"
             ]
            ],
            "type": "heatmapgl"
           }
          ],
          "histogram": [
           {
            "marker": {
             "pattern": {
              "fillmode": "overlay",
              "size": 10,
              "solidity": 0.2
             }
            },
            "type": "histogram"
           }
          ],
          "histogram2d": [
           {
            "colorbar": {
             "outlinewidth": 0,
             "ticks": ""
            },
            "colorscale": [
             [
              0,
              "#0d0887"
             ],
             [
              0.1111111111111111,
              "#46039f"
             ],
             [
              0.2222222222222222,
              "#7201a8"
             ],
             [
              0.3333333333333333,
              "#9c179e"
             ],
             [
              0.4444444444444444,
              "#bd3786"
             ],
             [
              0.5555555555555556,
              "#d8576b"
             ],
             [
              0.6666666666666666,
              "#ed7953"
             ],
             [
              0.7777777777777778,
              "#fb9f3a"
             ],
             [
              0.8888888888888888,
              "#fdca26"
             ],
             [
              1,
              "#f0f921"
             ]
            ],
            "type": "histogram2d"
           }
          ],
          "histogram2dcontour": [
           {
            "colorbar": {
             "outlinewidth": 0,
             "ticks": ""
            },
            "colorscale": [
             [
              0,
              "#0d0887"
             ],
             [
              0.1111111111111111,
              "#46039f"
             ],
             [
              0.2222222222222222,
              "#7201a8"
             ],
             [
              0.3333333333333333,
              "#9c179e"
             ],
             [
              0.4444444444444444,
              "#bd3786"
             ],
             [
              0.5555555555555556,
              "#d8576b"
             ],
             [
              0.6666666666666666,
              "#ed7953"
             ],
             [
              0.7777777777777778,
              "#fb9f3a"
             ],
             [
              0.8888888888888888,
              "#fdca26"
             ],
             [
              1,
              "#f0f921"
             ]
            ],
            "type": "histogram2dcontour"
           }
          ],
          "mesh3d": [
           {
            "colorbar": {
             "outlinewidth": 0,
             "ticks": ""
            },
            "type": "mesh3d"
           }
          ],
          "parcoords": [
           {
            "line": {
             "colorbar": {
              "outlinewidth": 0,
              "ticks": ""
             }
            },
            "type": "parcoords"
           }
          ],
          "pie": [
           {
            "automargin": true,
            "type": "pie"
           }
          ],
          "scatter": [
           {
            "fillpattern": {
             "fillmode": "overlay",
             "size": 10,
             "solidity": 0.2
            },
            "type": "scatter"
           }
          ],
          "scatter3d": [
           {
            "line": {
             "colorbar": {
              "outlinewidth": 0,
              "ticks": ""
             }
            },
            "marker": {
             "colorbar": {
              "outlinewidth": 0,
              "ticks": ""
             }
            },
            "type": "scatter3d"
           }
          ],
          "scattercarpet": [
           {
            "marker": {
             "colorbar": {
              "outlinewidth": 0,
              "ticks": ""
             }
            },
            "type": "scattercarpet"
           }
          ],
          "scattergeo": [
           {
            "marker": {
             "colorbar": {
              "outlinewidth": 0,
              "ticks": ""
             }
            },
            "type": "scattergeo"
           }
          ],
          "scattergl": [
           {
            "marker": {
             "colorbar": {
              "outlinewidth": 0,
              "ticks": ""
             }
            },
            "type": "scattergl"
           }
          ],
          "scattermapbox": [
           {
            "marker": {
             "colorbar": {
              "outlinewidth": 0,
              "ticks": ""
             }
            },
            "type": "scattermapbox"
           }
          ],
          "scatterpolar": [
           {
            "marker": {
             "colorbar": {
              "outlinewidth": 0,
              "ticks": ""
             }
            },
            "type": "scatterpolar"
           }
          ],
          "scatterpolargl": [
           {
            "marker": {
             "colorbar": {
              "outlinewidth": 0,
              "ticks": ""
             }
            },
            "type": "scatterpolargl"
           }
          ],
          "scatterternary": [
           {
            "marker": {
             "colorbar": {
              "outlinewidth": 0,
              "ticks": ""
             }
            },
            "type": "scatterternary"
           }
          ],
          "surface": [
           {
            "colorbar": {
             "outlinewidth": 0,
             "ticks": ""
            },
            "colorscale": [
             [
              0,
              "#0d0887"
             ],
             [
              0.1111111111111111,
              "#46039f"
             ],
             [
              0.2222222222222222,
              "#7201a8"
             ],
             [
              0.3333333333333333,
              "#9c179e"
             ],
             [
              0.4444444444444444,
              "#bd3786"
             ],
             [
              0.5555555555555556,
              "#d8576b"
             ],
             [
              0.6666666666666666,
              "#ed7953"
             ],
             [
              0.7777777777777778,
              "#fb9f3a"
             ],
             [
              0.8888888888888888,
              "#fdca26"
             ],
             [
              1,
              "#f0f921"
             ]
            ],
            "type": "surface"
           }
          ],
          "table": [
           {
            "cells": {
             "fill": {
              "color": "#EBF0F8"
             },
             "line": {
              "color": "white"
             }
            },
            "header": {
             "fill": {
              "color": "#C8D4E3"
             },
             "line": {
              "color": "white"
             }
            },
            "type": "table"
           }
          ]
         },
         "layout": {
          "annotationdefaults": {
           "arrowcolor": "#2a3f5f",
           "arrowhead": 0,
           "arrowwidth": 1
          },
          "autotypenumbers": "strict",
          "coloraxis": {
           "colorbar": {
            "outlinewidth": 0,
            "ticks": ""
           }
          },
          "colorscale": {
           "diverging": [
            [
             0,
             "#8e0152"
            ],
            [
             0.1,
             "#c51b7d"
            ],
            [
             0.2,
             "#de77ae"
            ],
            [
             0.3,
             "#f1b6da"
            ],
            [
             0.4,
             "#fde0ef"
            ],
            [
             0.5,
             "#f7f7f7"
            ],
            [
             0.6,
             "#e6f5d0"
            ],
            [
             0.7,
             "#b8e186"
            ],
            [
             0.8,
             "#7fbc41"
            ],
            [
             0.9,
             "#4d9221"
            ],
            [
             1,
             "#276419"
            ]
           ],
           "sequential": [
            [
             0,
             "#0d0887"
            ],
            [
             0.1111111111111111,
             "#46039f"
            ],
            [
             0.2222222222222222,
             "#7201a8"
            ],
            [
             0.3333333333333333,
             "#9c179e"
            ],
            [
             0.4444444444444444,
             "#bd3786"
            ],
            [
             0.5555555555555556,
             "#d8576b"
            ],
            [
             0.6666666666666666,
             "#ed7953"
            ],
            [
             0.7777777777777778,
             "#fb9f3a"
            ],
            [
             0.8888888888888888,
             "#fdca26"
            ],
            [
             1,
             "#f0f921"
            ]
           ],
           "sequentialminus": [
            [
             0,
             "#0d0887"
            ],
            [
             0.1111111111111111,
             "#46039f"
            ],
            [
             0.2222222222222222,
             "#7201a8"
            ],
            [
             0.3333333333333333,
             "#9c179e"
            ],
            [
             0.4444444444444444,
             "#bd3786"
            ],
            [
             0.5555555555555556,
             "#d8576b"
            ],
            [
             0.6666666666666666,
             "#ed7953"
            ],
            [
             0.7777777777777778,
             "#fb9f3a"
            ],
            [
             0.8888888888888888,
             "#fdca26"
            ],
            [
             1,
             "#f0f921"
            ]
           ]
          },
          "colorway": [
           "#636efa",
           "#EF553B",
           "#00cc96",
           "#ab63fa",
           "#FFA15A",
           "#19d3f3",
           "#FF6692",
           "#B6E880",
           "#FF97FF",
           "#FECB52"
          ],
          "font": {
           "color": "#2a3f5f"
          },
          "geo": {
           "bgcolor": "white",
           "lakecolor": "white",
           "landcolor": "white",
           "showlakes": true,
           "showland": true,
           "subunitcolor": "#C8D4E3"
          },
          "hoverlabel": {
           "align": "left"
          },
          "hovermode": "closest",
          "mapbox": {
           "style": "light"
          },
          "paper_bgcolor": "white",
          "plot_bgcolor": "white",
          "polar": {
           "angularaxis": {
            "gridcolor": "#EBF0F8",
            "linecolor": "#EBF0F8",
            "ticks": ""
           },
           "bgcolor": "white",
           "radialaxis": {
            "gridcolor": "#EBF0F8",
            "linecolor": "#EBF0F8",
            "ticks": ""
           }
          },
          "scene": {
           "xaxis": {
            "backgroundcolor": "white",
            "gridcolor": "#DFE8F3",
            "gridwidth": 2,
            "linecolor": "#EBF0F8",
            "showbackground": true,
            "ticks": "",
            "zerolinecolor": "#EBF0F8"
           },
           "yaxis": {
            "backgroundcolor": "white",
            "gridcolor": "#DFE8F3",
            "gridwidth": 2,
            "linecolor": "#EBF0F8",
            "showbackground": true,
            "ticks": "",
            "zerolinecolor": "#EBF0F8"
           },
           "zaxis": {
            "backgroundcolor": "white",
            "gridcolor": "#DFE8F3",
            "gridwidth": 2,
            "linecolor": "#EBF0F8",
            "showbackground": true,
            "ticks": "",
            "zerolinecolor": "#EBF0F8"
           }
          },
          "shapedefaults": {
           "line": {
            "color": "#2a3f5f"
           }
          },
          "ternary": {
           "aaxis": {
            "gridcolor": "#DFE8F3",
            "linecolor": "#A2B1C6",
            "ticks": ""
           },
           "baxis": {
            "gridcolor": "#DFE8F3",
            "linecolor": "#A2B1C6",
            "ticks": ""
           },
           "bgcolor": "white",
           "caxis": {
            "gridcolor": "#DFE8F3",
            "linecolor": "#A2B1C6",
            "ticks": ""
           }
          },
          "title": {
           "x": 0.05
          },
          "xaxis": {
           "automargin": true,
           "gridcolor": "#EBF0F8",
           "linecolor": "#EBF0F8",
           "ticks": "",
           "title": {
            "standoff": 15
           },
           "zerolinecolor": "#EBF0F8",
           "zerolinewidth": 2
          },
          "yaxis": {
           "automargin": true,
           "gridcolor": "#EBF0F8",
           "linecolor": "#EBF0F8",
           "ticks": "",
           "title": {
            "standoff": 15
           },
           "zerolinecolor": "#EBF0F8",
           "zerolinewidth": 2
          }
         }
        },
        "title": {
         "text": "Average Forecast of GDP with Historical Data"
        },
        "xaxis": {
         "tickmode": "linear",
         "title": {
          "text": "Year"
         }
        },
        "yaxis": {
         "title": {
          "text": "Average GDP"
         }
        }
       }
      },
      "text/html": [
       "<div>                            <div id=\"41e15897-8ed3-4df6-bc29-b8449f19164c\" class=\"plotly-graph-div\" style=\"height:525px; width:100%;\"></div>            <script type=\"text/javascript\">                require([\"plotly\"], function(Plotly) {                    window.PLOTLYENV=window.PLOTLYENV || {};                                    if (document.getElementById(\"41e15897-8ed3-4df6-bc29-b8449f19164c\")) {                    Plotly.newPlot(                        \"41e15897-8ed3-4df6-bc29-b8449f19164c\",                        [{\"line\":{\"dash\":\"solid\",\"width\":2},\"mode\":\"lines+markers\",\"name\":\"Historical Data\",\"x\":[2000,2001,2002,2003,2004,2005,2006,2007,2008,2009,2010,2011,2012,2013,2014,2015,2016,2017,2018,2019,2020,2021,2022,2023],\"y\":[4.531094789,2.025402869,2.302836989,3.104275673,4.469258855,4.00586591,4.442792696,4.37327669,2.062495933,-1.355782091,4.529545973,3.327132697,2.709115158,2.868222143,3.12386991,3.126135588,2.820557285,3.460239118,3.286612988,2.642216435,-2.932043344,6.259851284,3.089607464,2.719333366],\"type\":\"scatter\"},{\"line\":{\"color\":\"orange\",\"dash\":\"dot\",\"width\":2},\"mode\":\"lines+markers\",\"name\":\"Forecast\",\"x\":[2024,2025,2026,2027,2028,2029,2030],\"y\":[1.8434419517247567,1.5191428001944356,1.1710168518690596,0.7994882282539968,1.6900377021697128,1.365738550636912,1.0176126023144456],\"type\":\"scatter\"}],                        {\"template\":{\"data\":{\"barpolar\":[{\"marker\":{\"line\":{\"color\":\"white\",\"width\":0.5},\"pattern\":{\"fillmode\":\"overlay\",\"size\":10,\"solidity\":0.2}},\"type\":\"barpolar\"}],\"bar\":[{\"error_x\":{\"color\":\"#2a3f5f\"},\"error_y\":{\"color\":\"#2a3f5f\"},\"marker\":{\"line\":{\"color\":\"white\",\"width\":0.5},\"pattern\":{\"fillmode\":\"overlay\",\"size\":10,\"solidity\":0.2}},\"type\":\"bar\"}],\"carpet\":[{\"aaxis\":{\"endlinecolor\":\"#2a3f5f\",\"gridcolor\":\"#C8D4E3\",\"linecolor\":\"#C8D4E3\",\"minorgridcolor\":\"#C8D4E3\",\"startlinecolor\":\"#2a3f5f\"},\"baxis\":{\"endlinecolor\":\"#2a3f5f\",\"gridcolor\":\"#C8D4E3\",\"linecolor\":\"#C8D4E3\",\"minorgridcolor\":\"#C8D4E3\",\"startlinecolor\":\"#2a3f5f\"},\"type\":\"carpet\"}],\"choropleth\":[{\"colorbar\":{\"outlinewidth\":0,\"ticks\":\"\"},\"type\":\"choropleth\"}],\"contourcarpet\":[{\"colorbar\":{\"outlinewidth\":0,\"ticks\":\"\"},\"type\":\"contourcarpet\"}],\"contour\":[{\"colorbar\":{\"outlinewidth\":0,\"ticks\":\"\"},\"colorscale\":[[0.0,\"#0d0887\"],[0.1111111111111111,\"#46039f\"],[0.2222222222222222,\"#7201a8\"],[0.3333333333333333,\"#9c179e\"],[0.4444444444444444,\"#bd3786\"],[0.5555555555555556,\"#d8576b\"],[0.6666666666666666,\"#ed7953\"],[0.7777777777777778,\"#fb9f3a\"],[0.8888888888888888,\"#fdca26\"],[1.0,\"#f0f921\"]],\"type\":\"contour\"}],\"heatmapgl\":[{\"colorbar\":{\"outlinewidth\":0,\"ticks\":\"\"},\"colorscale\":[[0.0,\"#0d0887\"],[0.1111111111111111,\"#46039f\"],[0.2222222222222222,\"#7201a8\"],[0.3333333333333333,\"#9c179e\"],[0.4444444444444444,\"#bd3786\"],[0.5555555555555556,\"#d8576b\"],[0.6666666666666666,\"#ed7953\"],[0.7777777777777778,\"#fb9f3a\"],[0.8888888888888888,\"#fdca26\"],[1.0,\"#f0f921\"]],\"type\":\"heatmapgl\"}],\"heatmap\":[{\"colorbar\":{\"outlinewidth\":0,\"ticks\":\"\"},\"colorscale\":[[0.0,\"#0d0887\"],[0.1111111111111111,\"#46039f\"],[0.2222222222222222,\"#7201a8\"],[0.3333333333333333,\"#9c179e\"],[0.4444444444444444,\"#bd3786\"],[0.5555555555555556,\"#d8576b\"],[0.6666666666666666,\"#ed7953\"],[0.7777777777777778,\"#fb9f3a\"],[0.8888888888888888,\"#fdca26\"],[1.0,\"#f0f921\"]],\"type\":\"heatmap\"}],\"histogram2dcontour\":[{\"colorbar\":{\"outlinewidth\":0,\"ticks\":\"\"},\"colorscale\":[[0.0,\"#0d0887\"],[0.1111111111111111,\"#46039f\"],[0.2222222222222222,\"#7201a8\"],[0.3333333333333333,\"#9c179e\"],[0.4444444444444444,\"#bd3786\"],[0.5555555555555556,\"#d8576b\"],[0.6666666666666666,\"#ed7953\"],[0.7777777777777778,\"#fb9f3a\"],[0.8888888888888888,\"#fdca26\"],[1.0,\"#f0f921\"]],\"type\":\"histogram2dcontour\"}],\"histogram2d\":[{\"colorbar\":{\"outlinewidth\":0,\"ticks\":\"\"},\"colorscale\":[[0.0,\"#0d0887\"],[0.1111111111111111,\"#46039f\"],[0.2222222222222222,\"#7201a8\"],[0.3333333333333333,\"#9c179e\"],[0.4444444444444444,\"#bd3786\"],[0.5555555555555556,\"#d8576b\"],[0.6666666666666666,\"#ed7953\"],[0.7777777777777778,\"#fb9f3a\"],[0.8888888888888888,\"#fdca26\"],[1.0,\"#f0f921\"]],\"type\":\"histogram2d\"}],\"histogram\":[{\"marker\":{\"pattern\":{\"fillmode\":\"overlay\",\"size\":10,\"solidity\":0.2}},\"type\":\"histogram\"}],\"mesh3d\":[{\"colorbar\":{\"outlinewidth\":0,\"ticks\":\"\"},\"type\":\"mesh3d\"}],\"parcoords\":[{\"line\":{\"colorbar\":{\"outlinewidth\":0,\"ticks\":\"\"}},\"type\":\"parcoords\"}],\"pie\":[{\"automargin\":true,\"type\":\"pie\"}],\"scatter3d\":[{\"line\":{\"colorbar\":{\"outlinewidth\":0,\"ticks\":\"\"}},\"marker\":{\"colorbar\":{\"outlinewidth\":0,\"ticks\":\"\"}},\"type\":\"scatter3d\"}],\"scattercarpet\":[{\"marker\":{\"colorbar\":{\"outlinewidth\":0,\"ticks\":\"\"}},\"type\":\"scattercarpet\"}],\"scattergeo\":[{\"marker\":{\"colorbar\":{\"outlinewidth\":0,\"ticks\":\"\"}},\"type\":\"scattergeo\"}],\"scattergl\":[{\"marker\":{\"colorbar\":{\"outlinewidth\":0,\"ticks\":\"\"}},\"type\":\"scattergl\"}],\"scattermapbox\":[{\"marker\":{\"colorbar\":{\"outlinewidth\":0,\"ticks\":\"\"}},\"type\":\"scattermapbox\"}],\"scatterpolargl\":[{\"marker\":{\"colorbar\":{\"outlinewidth\":0,\"ticks\":\"\"}},\"type\":\"scatterpolargl\"}],\"scatterpolar\":[{\"marker\":{\"colorbar\":{\"outlinewidth\":0,\"ticks\":\"\"}},\"type\":\"scatterpolar\"}],\"scatter\":[{\"fillpattern\":{\"fillmode\":\"overlay\",\"size\":10,\"solidity\":0.2},\"type\":\"scatter\"}],\"scatterternary\":[{\"marker\":{\"colorbar\":{\"outlinewidth\":0,\"ticks\":\"\"}},\"type\":\"scatterternary\"}],\"surface\":[{\"colorbar\":{\"outlinewidth\":0,\"ticks\":\"\"},\"colorscale\":[[0.0,\"#0d0887\"],[0.1111111111111111,\"#46039f\"],[0.2222222222222222,\"#7201a8\"],[0.3333333333333333,\"#9c179e\"],[0.4444444444444444,\"#bd3786\"],[0.5555555555555556,\"#d8576b\"],[0.6666666666666666,\"#ed7953\"],[0.7777777777777778,\"#fb9f3a\"],[0.8888888888888888,\"#fdca26\"],[1.0,\"#f0f921\"]],\"type\":\"surface\"}],\"table\":[{\"cells\":{\"fill\":{\"color\":\"#EBF0F8\"},\"line\":{\"color\":\"white\"}},\"header\":{\"fill\":{\"color\":\"#C8D4E3\"},\"line\":{\"color\":\"white\"}},\"type\":\"table\"}]},\"layout\":{\"annotationdefaults\":{\"arrowcolor\":\"#2a3f5f\",\"arrowhead\":0,\"arrowwidth\":1},\"autotypenumbers\":\"strict\",\"coloraxis\":{\"colorbar\":{\"outlinewidth\":0,\"ticks\":\"\"}},\"colorscale\":{\"diverging\":[[0,\"#8e0152\"],[0.1,\"#c51b7d\"],[0.2,\"#de77ae\"],[0.3,\"#f1b6da\"],[0.4,\"#fde0ef\"],[0.5,\"#f7f7f7\"],[0.6,\"#e6f5d0\"],[0.7,\"#b8e186\"],[0.8,\"#7fbc41\"],[0.9,\"#4d9221\"],[1,\"#276419\"]],\"sequential\":[[0.0,\"#0d0887\"],[0.1111111111111111,\"#46039f\"],[0.2222222222222222,\"#7201a8\"],[0.3333333333333333,\"#9c179e\"],[0.4444444444444444,\"#bd3786\"],[0.5555555555555556,\"#d8576b\"],[0.6666666666666666,\"#ed7953\"],[0.7777777777777778,\"#fb9f3a\"],[0.8888888888888888,\"#fdca26\"],[1.0,\"#f0f921\"]],\"sequentialminus\":[[0.0,\"#0d0887\"],[0.1111111111111111,\"#46039f\"],[0.2222222222222222,\"#7201a8\"],[0.3333333333333333,\"#9c179e\"],[0.4444444444444444,\"#bd3786\"],[0.5555555555555556,\"#d8576b\"],[0.6666666666666666,\"#ed7953\"],[0.7777777777777778,\"#fb9f3a\"],[0.8888888888888888,\"#fdca26\"],[1.0,\"#f0f921\"]]},\"colorway\":[\"#636efa\",\"#EF553B\",\"#00cc96\",\"#ab63fa\",\"#FFA15A\",\"#19d3f3\",\"#FF6692\",\"#B6E880\",\"#FF97FF\",\"#FECB52\"],\"font\":{\"color\":\"#2a3f5f\"},\"geo\":{\"bgcolor\":\"white\",\"lakecolor\":\"white\",\"landcolor\":\"white\",\"showlakes\":true,\"showland\":true,\"subunitcolor\":\"#C8D4E3\"},\"hoverlabel\":{\"align\":\"left\"},\"hovermode\":\"closest\",\"mapbox\":{\"style\":\"light\"},\"paper_bgcolor\":\"white\",\"plot_bgcolor\":\"white\",\"polar\":{\"angularaxis\":{\"gridcolor\":\"#EBF0F8\",\"linecolor\":\"#EBF0F8\",\"ticks\":\"\"},\"bgcolor\":\"white\",\"radialaxis\":{\"gridcolor\":\"#EBF0F8\",\"linecolor\":\"#EBF0F8\",\"ticks\":\"\"}},\"scene\":{\"xaxis\":{\"backgroundcolor\":\"white\",\"gridcolor\":\"#DFE8F3\",\"gridwidth\":2,\"linecolor\":\"#EBF0F8\",\"showbackground\":true,\"ticks\":\"\",\"zerolinecolor\":\"#EBF0F8\"},\"yaxis\":{\"backgroundcolor\":\"white\",\"gridcolor\":\"#DFE8F3\",\"gridwidth\":2,\"linecolor\":\"#EBF0F8\",\"showbackground\":true,\"ticks\":\"\",\"zerolinecolor\":\"#EBF0F8\"},\"zaxis\":{\"backgroundcolor\":\"white\",\"gridcolor\":\"#DFE8F3\",\"gridwidth\":2,\"linecolor\":\"#EBF0F8\",\"showbackground\":true,\"ticks\":\"\",\"zerolinecolor\":\"#EBF0F8\"}},\"shapedefaults\":{\"line\":{\"color\":\"#2a3f5f\"}},\"ternary\":{\"aaxis\":{\"gridcolor\":\"#DFE8F3\",\"linecolor\":\"#A2B1C6\",\"ticks\":\"\"},\"baxis\":{\"gridcolor\":\"#DFE8F3\",\"linecolor\":\"#A2B1C6\",\"ticks\":\"\"},\"bgcolor\":\"white\",\"caxis\":{\"gridcolor\":\"#DFE8F3\",\"linecolor\":\"#A2B1C6\",\"ticks\":\"\"}},\"title\":{\"x\":0.05},\"xaxis\":{\"automargin\":true,\"gridcolor\":\"#EBF0F8\",\"linecolor\":\"#EBF0F8\",\"ticks\":\"\",\"title\":{\"standoff\":15},\"zerolinecolor\":\"#EBF0F8\",\"zerolinewidth\":2},\"yaxis\":{\"automargin\":true,\"gridcolor\":\"#EBF0F8\",\"linecolor\":\"#EBF0F8\",\"ticks\":\"\",\"title\":{\"standoff\":15},\"zerolinecolor\":\"#EBF0F8\",\"zerolinewidth\":2}}},\"xaxis\":{\"title\":{\"text\":\"Year\"},\"tickmode\":\"linear\"},\"title\":{\"text\":\"Average Forecast of GDP with Historical Data\"},\"yaxis\":{\"title\":{\"text\":\"Average GDP\"}}},                        {\"responsive\": true}                    ).then(function(){\n",
       "                            \n",
       "var gd = document.getElementById('41e15897-8ed3-4df6-bc29-b8449f19164c');\n",
       "var x = new MutationObserver(function (mutations, observer) {{\n",
       "        var display = window.getComputedStyle(gd).display;\n",
       "        if (!display || display === 'none') {{\n",
       "            console.log([gd, 'removed!']);\n",
       "            Plotly.purge(gd);\n",
       "            observer.disconnect();\n",
       "        }}\n",
       "}});\n",
       "\n",
       "// Listen for the removal of the full notebook cells\n",
       "var notebookContainer = gd.closest('#notebook-container');\n",
       "if (notebookContainer) {{\n",
       "    x.observe(notebookContainer, {childList: true});\n",
       "}}\n",
       "\n",
       "// Listen for the clearing of the current output cell\n",
       "var outputEl = gd.closest('.output');\n",
       "if (outputEl) {{\n",
       "    x.observe(outputEl, {childList: true});\n",
       "}}\n",
       "\n",
       "                        })                };                });            </script>        </div>"
      ]
     },
     "metadata": {},
     "output_type": "display_data"
    },
    {
     "name": "stdout",
     "output_type": "stream",
     "text": [
      "   Year  Average GDP Forecast\n",
      "0  2024              1.843442\n",
      "1  2025              1.519143\n",
      "2  2026              1.171017\n",
      "3  2027              0.799488\n",
      "4  2028              1.690038\n",
      "5  2029              1.365739\n",
      "6  2030              1.017613\n"
     ]
    }
   ],
   "source": [
    "def forecast_by_country_prophet(df, column, start_year=2024, end_year=2030):\n",
    "    forecast_results = []\n",
    "    historical_years = df['Year'].unique()\n",
    "    historical_data = []\n",
    "\n",
    "    country_data = df[df['Country Name'] == 'World'][['Year', column]].rename(columns={'Year': 'ds', column: 'y'})\n",
    "\n",
    "    # Check for NaN values and drop them\n",
    "    country_data = country_data.dropna()\n",
    "\n",
    "    if len(country_data) < 2:\n",
    "        raise ValueError(f\"Not enough data to fit the model for 'World'. Found {len(country_data)} non-NaN rows.\")\n",
    "\n",
    "    historical_data = country_data['y'].values\n",
    "\n",
    "    model = Prophet()\n",
    "    model.fit(country_data)\n",
    "\n",
    "    future_years = pd.date_range(start=f'{start_year}-01-01', end=f'{end_year}-12-31', freq='Y')\n",
    "    future = pd.DataFrame({'ds': future_years})\n",
    "\n",
    "    forecast = model.predict(future)\n",
    "    forecast_results.append(forecast['yhat'].values)\n",
    "\n",
    "    average_forecast = pd.DataFrame(forecast_results).mean()\n",
    "    return future_years.year, average_forecast, historical_years, historical_data\n",
    "\n",
    "def plot_average_forecast_plotly_with_history(future_years, average_forecast, historical_years, historical_data, column_name):\n",
    "    fig = go.Figure()\n",
    "\n",
    "    fig.add_trace(go.Scatter(x=historical_years, y=historical_data,\n",
    "                             mode='lines+markers',\n",
    "                             name='Historical Data',\n",
    "                             line=dict(width=2, dash='solid')))\n",
    "\n",
    "    fig.add_trace(go.Scatter(x=future_years, y=average_forecast,\n",
    "                             mode='lines+markers',\n",
    "                             name='Forecast',\n",
    "                             line=dict(color='orange', width=2, dash='dot')))\n",
    "\n",
    "    fig.update_layout(title=f'Average Forecast of {column_name} with Historical Data',\n",
    "                      xaxis_title='Year',\n",
    "                      yaxis_title=f'Average {column_name}',\n",
    "                      xaxis=dict(tickmode='linear'),\n",
    "                      template='plotly_white')\n",
    "    \n",
    "    fig.show()\n",
    "\n",
    "file_path = 'merged_df.xlsx'\n",
    "df = pd.read_excel(file_path, sheet_name='Sheet1')\n",
    "\n",
    "# Forecasting for GDP and calculating the average using Prophet\n",
    "try:\n",
    "    future_years, avg_gdp_forecast, historical_years, historical_data = forecast_by_country_prophet(df, 'Value_GDP')\n",
    "    \n",
    "    # Plot the historical and forecasted GDP data\n",
    "    plot_average_forecast_plotly_with_history(future_years, avg_gdp_forecast, historical_years, historical_data, 'GDP')\n",
    "\n",
    "    avg_gdp_forecast_df = pd.DataFrame({'Year': future_years, 'Average GDP Forecast': avg_gdp_forecast})\n",
    "    print(avg_gdp_forecast_df)\n",
    "except ValueError as e:\n",
    "    print(e)\n"
   ]
  },
  {
   "cell_type": "code",
   "execution_count": 12,
   "metadata": {},
   "outputs": [],
   "source": [
    "avg_gdp_forecast_df.rename(columns={'Average GDP Forecast': 'Value_GDP'}, inplace=True)"
   ]
  },
  {
   "cell_type": "code",
   "execution_count": 13,
   "metadata": {},
   "outputs": [
    {
     "data": {
      "text/html": [
       "<div>\n",
       "<style scoped>\n",
       "    .dataframe tbody tr th:only-of-type {\n",
       "        vertical-align: middle;\n",
       "    }\n",
       "\n",
       "    .dataframe tbody tr th {\n",
       "        vertical-align: top;\n",
       "    }\n",
       "\n",
       "    .dataframe thead th {\n",
       "        text-align: right;\n",
       "    }\n",
       "</style>\n",
       "<table border=\"1\" class=\"dataframe\">\n",
       "  <thead>\n",
       "    <tr style=\"text-align: right;\">\n",
       "      <th></th>\n",
       "      <th>Country Name</th>\n",
       "      <th>Year</th>\n",
       "      <th>Value_FDI</th>\n",
       "      <th>Value_GDP</th>\n",
       "      <th>Value_Inflation</th>\n",
       "      <th>Value_Trade</th>\n",
       "      <th>Value_Unemployment</th>\n",
       "      <th>Value_WDI</th>\n",
       "    </tr>\n",
       "  </thead>\n",
       "  <tbody>\n",
       "    <tr>\n",
       "      <th>0</th>\n",
       "      <td>World</td>\n",
       "      <td>2000</td>\n",
       "      <td>1.569240e+12</td>\n",
       "      <td>4.531095</td>\n",
       "      <td>3.433516</td>\n",
       "      <td>50.497096</td>\n",
       "      <td>6.131118</td>\n",
       "      <td>98.772423</td>\n",
       "    </tr>\n",
       "    <tr>\n",
       "      <th>1</th>\n",
       "      <td>World</td>\n",
       "      <td>2001</td>\n",
       "      <td>8.956330e+11</td>\n",
       "      <td>2.025403</td>\n",
       "      <td>3.836573</td>\n",
       "      <td>49.388370</td>\n",
       "      <td>6.223468</td>\n",
       "      <td>99.151611</td>\n",
       "    </tr>\n",
       "    <tr>\n",
       "      <th>2</th>\n",
       "      <td>World</td>\n",
       "      <td>2002</td>\n",
       "      <td>7.517700e+11</td>\n",
       "      <td>2.302837</td>\n",
       "      <td>2.907999</td>\n",
       "      <td>49.444717</td>\n",
       "      <td>6.468308</td>\n",
       "      <td>99.543800</td>\n",
       "    </tr>\n",
       "    <tr>\n",
       "      <th>3</th>\n",
       "      <td>World</td>\n",
       "      <td>2003</td>\n",
       "      <td>7.366030e+11</td>\n",
       "      <td>3.104276</td>\n",
       "      <td>3.025045</td>\n",
       "      <td>51.146551</td>\n",
       "      <td>6.571283</td>\n",
       "      <td>101.092293</td>\n",
       "    </tr>\n",
       "    <tr>\n",
       "      <th>4</th>\n",
       "      <td>World</td>\n",
       "      <td>2004</td>\n",
       "      <td>1.008890e+12</td>\n",
       "      <td>4.469259</td>\n",
       "      <td>3.517999</td>\n",
       "      <td>54.742993</td>\n",
       "      <td>6.449677</td>\n",
       "      <td>101.901756</td>\n",
       "    </tr>\n",
       "    <tr>\n",
       "      <th>5</th>\n",
       "      <td>World</td>\n",
       "      <td>2005</td>\n",
       "      <td>1.553380e+12</td>\n",
       "      <td>4.005866</td>\n",
       "      <td>4.107251</td>\n",
       "      <td>56.806928</td>\n",
       "      <td>6.366465</td>\n",
       "      <td>102.250458</td>\n",
       "    </tr>\n",
       "    <tr>\n",
       "      <th>6</th>\n",
       "      <td>World</td>\n",
       "      <td>2006</td>\n",
       "      <td>2.189100e+12</td>\n",
       "      <td>4.442793</td>\n",
       "      <td>4.267175</td>\n",
       "      <td>59.013033</td>\n",
       "      <td>6.106586</td>\n",
       "      <td>102.250382</td>\n",
       "    </tr>\n",
       "    <tr>\n",
       "      <th>7</th>\n",
       "      <td>World</td>\n",
       "      <td>2007</td>\n",
       "      <td>3.112540e+12</td>\n",
       "      <td>4.373277</td>\n",
       "      <td>4.810237</td>\n",
       "      <td>59.423494</td>\n",
       "      <td>5.899677</td>\n",
       "      <td>103.092087</td>\n",
       "    </tr>\n",
       "    <tr>\n",
       "      <th>8</th>\n",
       "      <td>World</td>\n",
       "      <td>2008</td>\n",
       "      <td>2.441600e+12</td>\n",
       "      <td>2.062496</td>\n",
       "      <td>8.949953</td>\n",
       "      <td>61.078961</td>\n",
       "      <td>5.936694</td>\n",
       "      <td>103.294220</td>\n",
       "    </tr>\n",
       "    <tr>\n",
       "      <th>9</th>\n",
       "      <td>World</td>\n",
       "      <td>2009</td>\n",
       "      <td>1.517730e+12</td>\n",
       "      <td>-1.355782</td>\n",
       "      <td>2.860449</td>\n",
       "      <td>52.567452</td>\n",
       "      <td>6.514687</td>\n",
       "      <td>103.119682</td>\n",
       "    </tr>\n",
       "    <tr>\n",
       "      <th>10</th>\n",
       "      <td>World</td>\n",
       "      <td>2010</td>\n",
       "      <td>1.840410e+12</td>\n",
       "      <td>4.529546</td>\n",
       "      <td>3.326345</td>\n",
       "      <td>56.942609</td>\n",
       "      <td>6.389465</td>\n",
       "      <td>102.384064</td>\n",
       "    </tr>\n",
       "    <tr>\n",
       "      <th>11</th>\n",
       "      <td>World</td>\n",
       "      <td>2011</td>\n",
       "      <td>2.384820e+12</td>\n",
       "      <td>3.327133</td>\n",
       "      <td>4.822396</td>\n",
       "      <td>60.110744</td>\n",
       "      <td>6.240482</td>\n",
       "      <td>102.184021</td>\n",
       "    </tr>\n",
       "    <tr>\n",
       "      <th>12</th>\n",
       "      <td>World</td>\n",
       "      <td>2012</td>\n",
       "      <td>2.073040e+12</td>\n",
       "      <td>2.709115</td>\n",
       "      <td>3.725327</td>\n",
       "      <td>59.932761</td>\n",
       "      <td>6.228273</td>\n",
       "      <td>102.788254</td>\n",
       "    </tr>\n",
       "    <tr>\n",
       "      <th>13</th>\n",
       "      <td>World</td>\n",
       "      <td>2013</td>\n",
       "      <td>2.154570e+12</td>\n",
       "      <td>2.868222</td>\n",
       "      <td>2.651673</td>\n",
       "      <td>59.214994</td>\n",
       "      <td>6.167134</td>\n",
       "      <td>103.114098</td>\n",
       "    </tr>\n",
       "    <tr>\n",
       "      <th>14</th>\n",
       "      <td>World</td>\n",
       "      <td>2014</td>\n",
       "      <td>1.957810e+12</td>\n",
       "      <td>3.123870</td>\n",
       "      <td>2.354491</td>\n",
       "      <td>58.625660</td>\n",
       "      <td>6.016229</td>\n",
       "      <td>101.696823</td>\n",
       "    </tr>\n",
       "    <tr>\n",
       "      <th>15</th>\n",
       "      <td>World</td>\n",
       "      <td>2015</td>\n",
       "      <td>2.802310e+12</td>\n",
       "      <td>3.126136</td>\n",
       "      <td>1.443857</td>\n",
       "      <td>56.271082</td>\n",
       "      <td>6.048849</td>\n",
       "      <td>101.299347</td>\n",
       "    </tr>\n",
       "    <tr>\n",
       "      <th>16</th>\n",
       "      <td>World</td>\n",
       "      <td>2016</td>\n",
       "      <td>2.779170e+12</td>\n",
       "      <td>2.820557</td>\n",
       "      <td>1.605539</td>\n",
       "      <td>54.464393</td>\n",
       "      <td>6.010331</td>\n",
       "      <td>102.326797</td>\n",
       "    </tr>\n",
       "    <tr>\n",
       "      <th>17</th>\n",
       "      <td>World</td>\n",
       "      <td>2017</td>\n",
       "      <td>2.174930e+12</td>\n",
       "      <td>3.460239</td>\n",
       "      <td>2.254277</td>\n",
       "      <td>56.213549</td>\n",
       "      <td>5.916141</td>\n",
       "      <td>101.955528</td>\n",
       "    </tr>\n",
       "    <tr>\n",
       "      <th>18</th>\n",
       "      <td>World</td>\n",
       "      <td>2018</td>\n",
       "      <td>9.393560e+11</td>\n",
       "      <td>3.286613</td>\n",
       "      <td>2.450362</td>\n",
       "      <td>57.694945</td>\n",
       "      <td>5.756398</td>\n",
       "      <td>99.394630</td>\n",
       "    </tr>\n",
       "    <tr>\n",
       "      <th>19</th>\n",
       "      <td>World</td>\n",
       "      <td>2019</td>\n",
       "      <td>1.741360e+12</td>\n",
       "      <td>2.642216</td>\n",
       "      <td>2.206073</td>\n",
       "      <td>56.476217</td>\n",
       "      <td>5.582980</td>\n",
       "      <td>99.494942</td>\n",
       "    </tr>\n",
       "    <tr>\n",
       "      <th>20</th>\n",
       "      <td>World</td>\n",
       "      <td>2020</td>\n",
       "      <td>1.213070e+12</td>\n",
       "      <td>-2.932043</td>\n",
       "      <td>1.920968</td>\n",
       "      <td>52.372987</td>\n",
       "      <td>6.585288</td>\n",
       "      <td>100.003647</td>\n",
       "    </tr>\n",
       "    <tr>\n",
       "      <th>21</th>\n",
       "      <td>World</td>\n",
       "      <td>2021</td>\n",
       "      <td>2.291070e+12</td>\n",
       "      <td>6.259851</td>\n",
       "      <td>3.466926</td>\n",
       "      <td>56.739783</td>\n",
       "      <td>6.033761</td>\n",
       "      <td>99.982758</td>\n",
       "    </tr>\n",
       "    <tr>\n",
       "      <th>22</th>\n",
       "      <td>World</td>\n",
       "      <td>2022</td>\n",
       "      <td>1.796640e+12</td>\n",
       "      <td>3.089607</td>\n",
       "      <td>7.967574</td>\n",
       "      <td>62.504744</td>\n",
       "      <td>5.264616</td>\n",
       "      <td>101.428040</td>\n",
       "    </tr>\n",
       "    <tr>\n",
       "      <th>23</th>\n",
       "      <td>World</td>\n",
       "      <td>2023</td>\n",
       "      <td>8.478250e+11</td>\n",
       "      <td>2.719333</td>\n",
       "      <td>5.691153</td>\n",
       "      <td>0.000000</td>\n",
       "      <td>4.961431</td>\n",
       "      <td>0.000000</td>\n",
       "    </tr>\n",
       "    <tr>\n",
       "      <th>24</th>\n",
       "      <td>NaN</td>\n",
       "      <td>2024</td>\n",
       "      <td>NaN</td>\n",
       "      <td>1.843442</td>\n",
       "      <td>NaN</td>\n",
       "      <td>NaN</td>\n",
       "      <td>NaN</td>\n",
       "      <td>NaN</td>\n",
       "    </tr>\n",
       "    <tr>\n",
       "      <th>25</th>\n",
       "      <td>NaN</td>\n",
       "      <td>2025</td>\n",
       "      <td>NaN</td>\n",
       "      <td>1.519143</td>\n",
       "      <td>NaN</td>\n",
       "      <td>NaN</td>\n",
       "      <td>NaN</td>\n",
       "      <td>NaN</td>\n",
       "    </tr>\n",
       "    <tr>\n",
       "      <th>26</th>\n",
       "      <td>NaN</td>\n",
       "      <td>2026</td>\n",
       "      <td>NaN</td>\n",
       "      <td>1.171017</td>\n",
       "      <td>NaN</td>\n",
       "      <td>NaN</td>\n",
       "      <td>NaN</td>\n",
       "      <td>NaN</td>\n",
       "    </tr>\n",
       "    <tr>\n",
       "      <th>27</th>\n",
       "      <td>NaN</td>\n",
       "      <td>2027</td>\n",
       "      <td>NaN</td>\n",
       "      <td>0.799488</td>\n",
       "      <td>NaN</td>\n",
       "      <td>NaN</td>\n",
       "      <td>NaN</td>\n",
       "      <td>NaN</td>\n",
       "    </tr>\n",
       "    <tr>\n",
       "      <th>28</th>\n",
       "      <td>NaN</td>\n",
       "      <td>2028</td>\n",
       "      <td>NaN</td>\n",
       "      <td>1.690038</td>\n",
       "      <td>NaN</td>\n",
       "      <td>NaN</td>\n",
       "      <td>NaN</td>\n",
       "      <td>NaN</td>\n",
       "    </tr>\n",
       "    <tr>\n",
       "      <th>29</th>\n",
       "      <td>NaN</td>\n",
       "      <td>2029</td>\n",
       "      <td>NaN</td>\n",
       "      <td>1.365739</td>\n",
       "      <td>NaN</td>\n",
       "      <td>NaN</td>\n",
       "      <td>NaN</td>\n",
       "      <td>NaN</td>\n",
       "    </tr>\n",
       "    <tr>\n",
       "      <th>30</th>\n",
       "      <td>NaN</td>\n",
       "      <td>2030</td>\n",
       "      <td>NaN</td>\n",
       "      <td>1.017613</td>\n",
       "      <td>NaN</td>\n",
       "      <td>NaN</td>\n",
       "      <td>NaN</td>\n",
       "      <td>NaN</td>\n",
       "    </tr>\n",
       "  </tbody>\n",
       "</table>\n",
       "</div>"
      ],
      "text/plain": [
       "   Country Name  Year     Value_FDI  Value_GDP  Value_Inflation  Value_Trade  \\\n",
       "0         World  2000  1.569240e+12   4.531095         3.433516    50.497096   \n",
       "1         World  2001  8.956330e+11   2.025403         3.836573    49.388370   \n",
       "2         World  2002  7.517700e+11   2.302837         2.907999    49.444717   \n",
       "3         World  2003  7.366030e+11   3.104276         3.025045    51.146551   \n",
       "4         World  2004  1.008890e+12   4.469259         3.517999    54.742993   \n",
       "5         World  2005  1.553380e+12   4.005866         4.107251    56.806928   \n",
       "6         World  2006  2.189100e+12   4.442793         4.267175    59.013033   \n",
       "7         World  2007  3.112540e+12   4.373277         4.810237    59.423494   \n",
       "8         World  2008  2.441600e+12   2.062496         8.949953    61.078961   \n",
       "9         World  2009  1.517730e+12  -1.355782         2.860449    52.567452   \n",
       "10        World  2010  1.840410e+12   4.529546         3.326345    56.942609   \n",
       "11        World  2011  2.384820e+12   3.327133         4.822396    60.110744   \n",
       "12        World  2012  2.073040e+12   2.709115         3.725327    59.932761   \n",
       "13        World  2013  2.154570e+12   2.868222         2.651673    59.214994   \n",
       "14        World  2014  1.957810e+12   3.123870         2.354491    58.625660   \n",
       "15        World  2015  2.802310e+12   3.126136         1.443857    56.271082   \n",
       "16        World  2016  2.779170e+12   2.820557         1.605539    54.464393   \n",
       "17        World  2017  2.174930e+12   3.460239         2.254277    56.213549   \n",
       "18        World  2018  9.393560e+11   3.286613         2.450362    57.694945   \n",
       "19        World  2019  1.741360e+12   2.642216         2.206073    56.476217   \n",
       "20        World  2020  1.213070e+12  -2.932043         1.920968    52.372987   \n",
       "21        World  2021  2.291070e+12   6.259851         3.466926    56.739783   \n",
       "22        World  2022  1.796640e+12   3.089607         7.967574    62.504744   \n",
       "23        World  2023  8.478250e+11   2.719333         5.691153     0.000000   \n",
       "24          NaN  2024           NaN   1.843442              NaN          NaN   \n",
       "25          NaN  2025           NaN   1.519143              NaN          NaN   \n",
       "26          NaN  2026           NaN   1.171017              NaN          NaN   \n",
       "27          NaN  2027           NaN   0.799488              NaN          NaN   \n",
       "28          NaN  2028           NaN   1.690038              NaN          NaN   \n",
       "29          NaN  2029           NaN   1.365739              NaN          NaN   \n",
       "30          NaN  2030           NaN   1.017613              NaN          NaN   \n",
       "\n",
       "    Value_Unemployment   Value_WDI  \n",
       "0             6.131118   98.772423  \n",
       "1             6.223468   99.151611  \n",
       "2             6.468308   99.543800  \n",
       "3             6.571283  101.092293  \n",
       "4             6.449677  101.901756  \n",
       "5             6.366465  102.250458  \n",
       "6             6.106586  102.250382  \n",
       "7             5.899677  103.092087  \n",
       "8             5.936694  103.294220  \n",
       "9             6.514687  103.119682  \n",
       "10            6.389465  102.384064  \n",
       "11            6.240482  102.184021  \n",
       "12            6.228273  102.788254  \n",
       "13            6.167134  103.114098  \n",
       "14            6.016229  101.696823  \n",
       "15            6.048849  101.299347  \n",
       "16            6.010331  102.326797  \n",
       "17            5.916141  101.955528  \n",
       "18            5.756398   99.394630  \n",
       "19            5.582980   99.494942  \n",
       "20            6.585288  100.003647  \n",
       "21            6.033761   99.982758  \n",
       "22            5.264616  101.428040  \n",
       "23            4.961431    0.000000  \n",
       "24                 NaN         NaN  \n",
       "25                 NaN         NaN  \n",
       "26                 NaN         NaN  \n",
       "27                 NaN         NaN  \n",
       "28                 NaN         NaN  \n",
       "29                 NaN         NaN  \n",
       "30                 NaN         NaN  "
      ]
     },
     "execution_count": 13,
     "metadata": {},
     "output_type": "execute_result"
    }
   ],
   "source": [
    "# create a new dataframe that combined forecasted GDP datas into main dataframe (merged_df)\n",
    "merged_df_copy = merged_df[merged_df['Country Name'] == 'World']._append(avg_gdp_forecast_df, ignore_index=True)\n",
    "merged_df_copy"
   ]
  },
  {
   "cell_type": "code",
   "execution_count": 14,
   "metadata": {},
   "outputs": [],
   "source": [
    "merged_df_copy.to_csv('merge_and_forecast.csv', index=False)"
   ]
  }
 ],
 "metadata": {
  "kernelspec": {
   "display_name": "vsc",
   "language": "python",
   "name": "python3"
  },
  "language_info": {
   "codemirror_mode": {
    "name": "ipython",
    "version": 3
   },
   "file_extension": ".py",
   "mimetype": "text/x-python",
   "name": "python",
   "nbconvert_exporter": "python",
   "pygments_lexer": "ipython3",
   "version": "3.11.9"
  }
 },
 "nbformat": 4,
 "nbformat_minor": 2
}
